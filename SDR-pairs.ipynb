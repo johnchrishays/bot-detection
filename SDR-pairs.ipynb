{
 "cells": [
  {
   "cell_type": "markdown",
   "id": "58e0d721",
   "metadata": {},
   "source": [
    "# Simple decision rules give high performance for detecting social bots on benchmark datasets\n",
    "\n",
    "Analysis of benchmark datasets for bot detection."
   ]
  },
  {
   "cell_type": "markdown",
   "id": "efcf7dda",
   "metadata": {},
   "source": [
    "## Setup"
   ]
  },
  {
   "cell_type": "code",
   "execution_count": 1,
   "id": "a4f5eb48",
   "metadata": {
    "ExecuteTime": {
     "end_time": "2022-05-25T14:00:15.177464Z",
     "start_time": "2022-05-25T14:00:14.157695Z"
    }
   },
   "outputs": [],
   "source": [
    "import bson\n",
    "import datetime\n",
    "import itertools\n",
    "import numpy as np\n",
    "import matplotlib.pyplot as plt\n",
    "import matplotlib.ticker as mtick\n",
    "from matplotlib.ticker import MaxNLocator\n",
    "import pandas as pd\n",
    "import pyreadr\n",
    "import random\n",
    "import re\n",
    "from sklearn.model_selection import train_test_split\n",
    "from sklearn.metrics import f1_score, recall_score, precision_score, accuracy_score\n",
    "from sklearn import tree, ensemble\n",
    "import sys\n",
    "import time\n",
    "import importlib\n"
   ]
  },
  {
   "cell_type": "code",
   "execution_count": 255,
   "id": "210a8cc4",
   "metadata": {},
   "outputs": [
    {
     "data": {
      "text/plain": [
       "<module 'fit_and_score' from '/home/jhays/bot-detection/fit_and_score.py'>"
      ]
     },
     "execution_count": 255,
     "metadata": {},
     "output_type": "execute_result"
    }
   ],
   "source": [
    "from data_accessor import load_twibot, load_dataset, load_cresci, load_cresci2017, load_cresci2015, load_caverlee, load_pan19, load_cresci2017_tweets, load_cresci2015_tweets, load_midterm, load_gilani_derived_bands, load_yang, load_yang_tweets, load_cresci_stock_tweets, tweets_to_countvectorized_df, load_other_bots, load_spammers, get_intraclass_labels, load_human_dataset_list, load_fake_followers, load_other_bots, get_shared_cols\n",
    "from fit_and_score import fit, score, fit_and_score, kfold_cv, analyze_dataset, train_test_fit_and_score, train_test_fit_and_score_clf, nonnumeric, plot_metrics, calculate_accuracy, analyze_twibot\n",
    "from leaveonedatasetout import leave_dataset_out\n",
    "from plotting import heatmap_train_on_one_test_on_another, process_tick_label\n",
    "from preprocess import drop_and_one_hot, extract_users, load_json, preprocess_users, COLUMNS_TO_DROP, DUMMY_COLUMNS\n",
    "from print_table import print_totoa_matrix, print_leave_one_out_table, print_single_dataset_score_table, get_max_score, print_intratype_test\n",
    "from train_on_one_test_on_another import train_on_one_test_on_another, train_on_one_test_on_another_botometer_combined\n",
    "\n",
    "importlib.reload(sys.modules['fit_and_score'])"
   ]
  },
  {
   "cell_type": "code",
   "execution_count": 3,
   "id": "b0ae77d9",
   "metadata": {
    "ExecuteTime": {
     "end_time": "2022-05-25T14:00:16.465779Z",
     "start_time": "2022-05-25T14:00:16.447264Z"
    }
   },
   "outputs": [],
   "source": [
    "PROJ_PATH = \"/nfs/sloanlab003/projects/bot_ensemble_proj/bot-detection\"\n",
    "\n",
    "def namestr(obj, namespace):\n",
    "    return [name for name in namespace if namespace[name] is obj]\n",
    "\n",
    "def get_dataset_name(df):\n",
    "    try:\n",
    "        return namestr(df, globals())[0]\n",
    "    except:\n",
    "        return \"Unknown\"\n"
   ]
  },
  {
   "cell_type": "markdown",
   "id": "1b4bf8d2",
   "metadata": {},
   "source": [
    "## Load datasets and calculate scores"
   ]
  },
  {
   "cell_type": "markdown",
   "id": "010f7e76",
   "metadata": {},
   "source": [
    "## Profile data"
   ]
  },
  {
   "cell_type": "code",
   "execution_count": 4,
   "id": "b4653a66",
   "metadata": {},
   "outputs": [
    {
     "data": {
      "text/plain": [
       "<module 'data_accessor' from '/home/jhays/bot-detection/data_accessor.py'>"
      ]
     },
     "execution_count": 4,
     "metadata": {},
     "output_type": "execute_result"
    }
   ],
   "source": [
    "importlib.reload(sys.modules['data_accessor'])\n"
   ]
  },
  {
   "cell_type": "code",
   "execution_count": 5,
   "id": "fc14f162",
   "metadata": {
    "collapsed": true
   },
   "outputs": [
    {
     "name": "stdout",
     "output_type": "stream",
     "text": [
      "Starting kfold_cv at 10/08/22 16:45:23\n",
      "Finished kfold_cv at 1665261923.2027328. Execution time: 0.10206317901611328 s\n",
      "Starting kfold_cv at 10/08/22 16:45:23\n",
      "Finished kfold_cv at 1665261923.2956915. Execution time: 0.09286808967590332 s\n",
      "Starting kfold_cv at 10/08/22 16:45:23\n",
      "Finished kfold_cv at 1665261923.3895593. Execution time: 0.09375309944152832 s\n",
      "Starting kfold_cv at 10/08/22 16:45:23\n",
      "Finished kfold_cv at 1665261923.487244. Execution time: 0.09759211540222168 s\n",
      "Starting kfold_cv at 10/08/22 16:45:23\n",
      "Finished kfold_cv at 1665261923.583878. Execution time: 0.09654974937438965 s\n",
      "Starting kfold_cv at 10/08/22 16:45:23\n",
      "Finished kfold_cv at 1665261923.668466. Execution time: 0.08449292182922363 s\n",
      "Starting kfold_cv at 10/08/22 16:45:23\n",
      "Finished kfold_cv at 1665261923.75255. Execution time: 0.08398771286010742 s\n",
      "Starting kfold_cv at 10/08/22 16:45:23\n",
      "Finished kfold_cv at 1665261923.8387096. Execution time: 0.0860605239868164 s\n",
      "Starting kfold_cv at 10/08/22 16:45:23\n",
      "Finished kfold_cv at 1665261923.929055. Execution time: 0.09025073051452637 s\n",
      "Starting kfold_cv at 10/08/22 16:45:23\n",
      "Finished kfold_cv at 1665261924.0166664. Execution time: 0.08753252029418945 s\n",
      "Starting kfold_cv at 10/08/22 16:45:24\n",
      "Finished kfold_cv at 1665261924.1438618. Execution time: 0.07470822334289551 s\n",
      "Starting kfold_cv at 10/08/22 16:45:24\n",
      "Finished kfold_cv at 1665261924.219076. Execution time: 0.07512950897216797 s\n",
      "Starting kfold_cv at 10/08/22 16:45:24\n",
      "Finished kfold_cv at 1665261924.2967103. Execution time: 0.07755494117736816 s\n",
      "Starting kfold_cv at 10/08/22 16:45:24\n",
      "Finished kfold_cv at 1665261924.3781722. Execution time: 0.08137083053588867 s\n",
      "Starting kfold_cv at 10/08/22 16:45:24\n",
      "Finished kfold_cv at 1665261924.4629989. Execution time: 0.0847470760345459 s\n",
      "Starting kfold_cv at 10/08/22 16:45:24\n",
      "Finished kfold_cv at 1665261924.5407875. Execution time: 0.07770180702209473 s\n",
      "Starting kfold_cv at 10/08/22 16:45:24\n",
      "Finished kfold_cv at 1665261924.6206257. Execution time: 0.07975649833679199 s\n",
      "Starting kfold_cv at 10/08/22 16:45:24\n",
      "Finished kfold_cv at 1665261924.7000675. Execution time: 0.0793461799621582 s\n",
      "Starting kfold_cv at 10/08/22 16:45:24\n",
      "Finished kfold_cv at 1665261924.7819614. Execution time: 0.08179640769958496 s\n",
      "Starting kfold_cv at 10/08/22 16:45:24\n",
      "Finished kfold_cv at 1665261924.866767. Execution time: 0.08471369743347168 s\n",
      "Starting kfold_cv at 10/08/22 16:45:25\n",
      "Finished kfold_cv at 1665261925.3139055. Execution time: 0.29387569427490234 s\n",
      "Starting kfold_cv at 10/08/22 16:45:25\n",
      "Finished kfold_cv at 1665261925.6428506. Execution time: 0.32880187034606934 s\n",
      "Starting kfold_cv at 10/08/22 16:45:25\n",
      "Finished kfold_cv at 1665261925.9911199. Execution time: 0.34813952445983887 s\n",
      "Starting kfold_cv at 10/08/22 16:45:25\n",
      "Finished kfold_cv at 1665261926.35844. Execution time: 0.3671746253967285 s\n",
      "Starting kfold_cv at 10/08/22 16:45:26\n",
      "Finished kfold_cv at 1665261926.7397993. Execution time: 0.3812062740325928 s\n",
      "Starting kfold_cv at 10/08/22 16:45:26\n",
      "Finished kfold_cv at 1665261927.0477839. Execution time: 0.30783581733703613 s\n",
      "Starting kfold_cv at 10/08/22 16:45:27\n",
      "Finished kfold_cv at 1665261927.382996. Execution time: 0.3350670337677002 s\n",
      "Starting kfold_cv at 10/08/22 16:45:27\n",
      "Finished kfold_cv at 1665261927.7355475. Execution time: 0.35240817070007324 s\n",
      "Starting kfold_cv at 10/08/22 16:45:27\n",
      "Finished kfold_cv at 1665261928.1054065. Execution time: 0.36970973014831543 s\n",
      "Starting kfold_cv at 10/08/22 16:45:28\n",
      "Finished kfold_cv at 1665261928.4842112. Execution time: 0.3786797523498535 s\n",
      "Starting kfold_cv at 10/08/22 16:45:28\n",
      "Finished kfold_cv at 1665261928.6606085. Execution time: 0.06013846397399902 s\n",
      "Starting kfold_cv at 10/08/22 16:45:28\n",
      "Finished kfold_cv at 1665261928.7263212. Execution time: 0.06562519073486328 s\n",
      "Starting kfold_cv at 10/08/22 16:45:28\n",
      "Finished kfold_cv at 1665261928.7938786. Execution time: 0.06746268272399902 s\n",
      "Starting kfold_cv at 10/08/22 16:45:28\n",
      "Finished kfold_cv at 1665261928.8653586. Execution time: 0.07138800621032715 s\n",
      "Starting kfold_cv at 10/08/22 16:45:28\n",
      "Finished kfold_cv at 1665261928.941955. Execution time: 0.07650423049926758 s\n",
      "Starting kfold_cv at 10/08/22 16:45:28\n",
      "Finished kfold_cv at 1665261929.0034773. Execution time: 0.061426401138305664 s\n",
      "Starting kfold_cv at 10/08/22 16:45:29\n",
      "Finished kfold_cv at 1665261929.0679095. Execution time: 0.06434011459350586 s\n",
      "Starting kfold_cv at 10/08/22 16:45:29\n",
      "Finished kfold_cv at 1665261929.1350994. Execution time: 0.06711530685424805 s\n",
      "Starting kfold_cv at 10/08/22 16:45:29\n",
      "Finished kfold_cv at 1665261929.2075965. Execution time: 0.0724177360534668 s\n",
      "Starting kfold_cv at 10/08/22 16:45:29\n",
      "Finished kfold_cv at 1665261929.2805214. Execution time: 0.07284188270568848 s\n",
      "Starting kfold_cv at 10/08/22 16:45:29\n",
      "Finished kfold_cv at 1665261929.3457577. Execution time: 0.06514573097229004 s\n",
      "Starting kfold_cv at 10/08/22 16:45:29\n",
      "Finished kfold_cv at 1665261929.41445. Execution time: 0.06846976280212402 s\n",
      "Starting kfold_cv at 10/08/22 16:45:29\n",
      "Finished kfold_cv at 1665261929.4907393. Execution time: 0.07621192932128906 s\n",
      "Starting kfold_cv at 10/08/22 16:45:29\n",
      "Finished kfold_cv at 1665261929.5685945. Execution time: 0.07777118682861328 s\n",
      "Starting kfold_cv at 10/08/22 16:45:29\n",
      "Finished kfold_cv at 1665261929.653033. Execution time: 0.08434700965881348 s\n",
      "Starting kfold_cv at 10/08/22 16:45:29\n",
      "Finished kfold_cv at 1665261929.723525. Execution time: 0.07039427757263184 s\n",
      "Starting kfold_cv at 10/08/22 16:45:29\n",
      "Finished kfold_cv at 1665261929.7986479. Execution time: 0.07488536834716797 s\n",
      "Starting kfold_cv at 10/08/22 16:45:29\n",
      "Finished kfold_cv at 1665261929.8763993. Execution time: 0.07764983177185059 s\n",
      "Starting kfold_cv at 10/08/22 16:45:29\n",
      "Finished kfold_cv at 1665261929.9566302. Execution time: 0.08015227317810059 s\n",
      "Starting kfold_cv at 10/08/22 16:45:29\n",
      "Finished kfold_cv at 1665261930.0466053. Execution time: 0.08988261222839355 s\n",
      "Starting kfold_cv at 10/08/22 16:45:30\n",
      "Finished kfold_cv at 1665261930.1041265. Execution time: 0.057292938232421875 s\n",
      "Starting kfold_cv at 10/08/22 16:45:30\n",
      "Finished kfold_cv at 1665261930.163958. Execution time: 0.059737443923950195 s\n",
      "Starting kfold_cv at 10/08/22 16:45:30\n",
      "Finished kfold_cv at 1665261930.2232015. Execution time: 0.05914044380187988 s\n",
      "Starting kfold_cv at 10/08/22 16:45:30\n",
      "Finished kfold_cv at 1665261930.2840052. Execution time: 0.060712575912475586 s\n",
      "Starting kfold_cv at 10/08/22 16:45:30\n",
      "Finished kfold_cv at 1665261930.350334. Execution time: 0.0662539005279541 s\n",
      "Starting kfold_cv at 10/08/22 16:45:30\n",
      "Finished kfold_cv at 1665261930.4105108. Execution time: 0.05989789962768555 s\n",
      "Starting kfold_cv at 10/08/22 16:45:30\n",
      "Finished kfold_cv at 1665261930.4727416. Execution time: 0.06214094161987305 s\n",
      "Starting kfold_cv at 10/08/22 16:45:30\n",
      "Finished kfold_cv at 1665261930.533824. Execution time: 0.06086897850036621 s\n",
      "Starting kfold_cv at 10/08/22 16:45:30\n",
      "Finished kfold_cv at 1665261930.6009648. Execution time: 0.06706643104553223 s\n",
      "Starting kfold_cv at 10/08/22 16:45:30\n",
      "Finished kfold_cv at 1665261930.6660414. Execution time: 0.06498384475708008 s\n",
      "Starting kfold_cv at 10/08/22 16:45:30\n",
      "Finished kfold_cv at 1665261930.717258. Execution time: 0.05113410949707031 s\n",
      "Starting kfold_cv at 10/08/22 16:45:30\n",
      "Finished kfold_cv at 1665261930.7663176. Execution time: 0.04883551597595215 s\n",
      "Starting kfold_cv at 10/08/22 16:45:30\n",
      "Finished kfold_cv at 1665261930.8207555. Execution time: 0.054347991943359375 s\n",
      "Starting kfold_cv at 10/08/22 16:45:30\n",
      "Finished kfold_cv at 1665261930.8719652. Execution time: 0.05108904838562012 s\n",
      "Starting kfold_cv at 10/08/22 16:45:30\n",
      "Finished kfold_cv at 1665261930.9227166. Execution time: 0.05066084861755371 s\n",
      "Starting kfold_cv at 10/08/22 16:45:30\n",
      "Finished kfold_cv at 1665261930.9780395. Execution time: 0.05524158477783203 s\n",
      "Starting kfold_cv at 10/08/22 16:45:30\n",
      "Finished kfold_cv at 1665261931.0336208. Execution time: 0.05547761917114258 s\n",
      "Starting kfold_cv at 10/08/22 16:45:31\n",
      "Finished kfold_cv at 1665261931.0937288. Execution time: 0.059905052185058594 s\n",
      "Starting kfold_cv at 10/08/22 16:45:31\n",
      "Finished kfold_cv at 1665261931.1465375. Execution time: 0.05251646041870117 s\n",
      "Starting kfold_cv at 10/08/22 16:45:31\n",
      "Finished kfold_cv at 1665261931.2029736. Execution time: 0.05633687973022461 s\n"
     ]
    },
    {
     "name": "stdout",
     "output_type": "stream",
     "text": [
      "Starting kfold_cv at 10/08/22 16:45:32\n",
      "Finished kfold_cv at 1665261935.5754178. Execution time: 3.406301498413086 s\n",
      "Starting kfold_cv at 10/08/22 16:45:35\n",
      "Finished kfold_cv at 1665261939.52156. Execution time: 3.945781946182251 s\n",
      "Starting kfold_cv at 10/08/22 16:45:39\n",
      "Finished kfold_cv at 1665261943.894449. Execution time: 4.372715950012207 s\n",
      "Starting kfold_cv at 10/08/22 16:45:43\n",
      "Finished kfold_cv at 1665261948.6662545. Execution time: 4.77161717414856 s\n",
      "Starting kfold_cv at 10/08/22 16:45:48\n",
      "Finished kfold_cv at 1665261953.7392862. Execution time: 5.072839021682739 s\n",
      "Starting kfold_cv at 10/08/22 16:45:53\n",
      "Finished kfold_cv at 1665261955.977989. Execution time: 2.2385079860687256 s\n",
      "Starting kfold_cv at 10/08/22 16:45:55\n",
      "Finished kfold_cv at 1665261958.4150305. Execution time: 2.4368526935577393 s\n",
      "Starting kfold_cv at 10/08/22 16:45:58\n",
      "Finished kfold_cv at 1665261960.9927127. Execution time: 2.577489137649536 s\n",
      "Starting kfold_cv at 10/08/22 16:46:00\n",
      "Finished kfold_cv at 1665261963.6848428. Execution time: 2.691941022872925 s\n",
      "Starting kfold_cv at 10/08/22 16:46:03\n",
      "Finished kfold_cv at 1665261966.4753957. Execution time: 2.7903640270233154 s\n",
      "Starting kfold_cv at 10/08/22 16:46:06\n",
      "Finished kfold_cv at 1665261967.703535. Execution time: 0.9472324848175049 s\n",
      "Starting kfold_cv at 10/08/22 16:46:07\n",
      "Finished kfold_cv at 1665261968.7718103. Execution time: 1.0681118965148926 s\n",
      "Starting kfold_cv at 10/08/22 16:46:08\n",
      "Finished kfold_cv at 1665261969.9396584. Execution time: 1.1677045822143555 s\n",
      "Starting kfold_cv at 10/08/22 16:46:09\n",
      "Finished kfold_cv at 1665261971.18359. Execution time: 1.2437803745269775 s\n",
      "Starting kfold_cv at 10/08/22 16:46:11\n",
      "Finished kfold_cv at 1665261972.5313346. Execution time: 1.3476066589355469 s\n",
      "Starting kfold_cv at 10/08/22 16:46:12\n",
      "Finished kfold_cv at 1665261973.385821. Execution time: 0.8543264865875244 s\n",
      "Starting kfold_cv at 10/08/22 16:46:13\n",
      "Finished kfold_cv at 1665261974.3122737. Execution time: 0.9262919425964355 s\n",
      "Starting kfold_cv at 10/08/22 16:46:14\n",
      "Finished kfold_cv at 1665261975.2910566. Execution time: 0.9786357879638672 s\n",
      "Starting kfold_cv at 10/08/22 16:46:15\n",
      "Finished kfold_cv at 1665261976.3037755. Execution time: 1.0125527381896973 s\n",
      "Starting kfold_cv at 10/08/22 16:46:16\n",
      "Finished kfold_cv at 1665261977.3531313. Execution time: 1.0492055416107178 s\n",
      "Starting kfold_cv at 10/08/22 16:46:17\n",
      "Finished kfold_cv at 1665261978.2248473. Execution time: 0.34701037406921387 s\n",
      "Starting kfold_cv at 10/08/22 16:46:18\n",
      "Finished kfold_cv at 1665261978.6204433. Execution time: 0.395491361618042 s\n",
      "Starting kfold_cv at 10/08/22 16:46:18\n",
      "Finished kfold_cv at 1665261979.1373146. Execution time: 0.5167543888092041 s\n",
      "Starting kfold_cv at 10/08/22 16:46:19\n",
      "Finished kfold_cv at 1665261979.6229627. Execution time: 0.4855332374572754 s\n",
      "Starting kfold_cv at 10/08/22 16:46:19\n",
      "Finished kfold_cv at 1665261980.1479034. Execution time: 0.5248286724090576 s\n",
      "Starting kfold_cv at 10/08/22 16:46:20\n",
      "Finished kfold_cv at 1665261980.4690502. Execution time: 0.3210330009460449 s\n",
      "Starting kfold_cv at 10/08/22 16:46:20\n",
      "Finished kfold_cv at 1665261980.9437354. Execution time: 0.47457408905029297 s\n",
      "Starting kfold_cv at 10/08/22 16:46:20\n",
      "Finished kfold_cv at 1665261981.4632475. Execution time: 0.5193800926208496 s\n",
      "Starting kfold_cv at 10/08/22 16:46:21\n",
      "Finished kfold_cv at 1665261982.010089. Execution time: 0.546724796295166 s\n",
      "Starting kfold_cv at 10/08/22 16:46:22\n",
      "Finished kfold_cv at 1665261982.6078775. Execution time: 0.5976741313934326 s\n",
      "Starting kfold_cv at 10/08/22 16:46:23\n",
      "Finished kfold_cv at 1665261986.789404. Execution time: 3.268960952758789 s\n",
      "Starting kfold_cv at 10/08/22 16:46:26\n",
      "Finished kfold_cv at 1665261990.5876522. Execution time: 3.7980594635009766 s\n",
      "Starting kfold_cv at 10/08/22 16:46:30\n",
      "Finished kfold_cv at 1665261994.8097296. Execution time: 4.221910715103149 s\n",
      "Starting kfold_cv at 10/08/22 16:46:34\n",
      "Finished kfold_cv at 1665261999.378996. Execution time: 4.5690836906433105 s\n",
      "Starting kfold_cv at 10/08/22 16:46:39\n",
      "Finished kfold_cv at 1665262004.1474833. Execution time: 4.768288612365723 s\n",
      "Starting kfold_cv at 10/08/22 16:46:44\n",
      "Finished kfold_cv at 1665262007.7905574. Execution time: 3.6428720951080322 s\n",
      "Starting kfold_cv at 10/08/22 16:46:47\n",
      "Finished kfold_cv at 1665262012.0829172. Execution time: 4.292165279388428 s\n",
      "Starting kfold_cv at 10/08/22 16:46:52\n",
      "Finished kfold_cv at 1665262016.7302895. Execution time: 4.647186756134033 s\n",
      "Starting kfold_cv at 10/08/22 16:46:56\n",
      "Finished kfold_cv at 1665262021.6672843. Execution time: 4.9368202686309814 s\n",
      "Starting kfold_cv at 10/08/22 16:47:01\n",
      "Finished kfold_cv at 1665262026.7039614. Execution time: 5.036486625671387 s\n"
     ]
    }
   ],
   "source": [
    "## BENCHMARK DATASETS\n",
    "# twibot\n",
    "twibot_df, twibot_2020_one_hot, twibot_labels = load_twibot(PROJ_PATH + \"/data/Twibot-20/train.json\")\n",
    "twibot_test, twibot_2020_one_hot_test, twibot_labels_test = load_twibot(PROJ_PATH + \"/data/Twibot-20/test.json\")\n",
    "twibot_scores = analyze_twibot(twibot_2020_one_hot, twibot_2020_one_hot_test, twibot_labels, twibot_labels_test)\n",
    "\n",
    "# botometer-feedback\n",
    "bf, botometer_feedback_2019_one_hot, bf_labels = load_dataset(PROJ_PATH + \"/data/botometer-feedback-2019_tweets.json\", PROJ_PATH + \"/data/botometer-feedback-2019.tsv\")\n",
    "botometer_feedback_scores = analyze_dataset(botometer_feedback_2019_one_hot, bf_labels, silent=True)\n",
    "\n",
    "#rtbust\n",
    "rtbust, cresci_rtbust_2019_one_hot, rtbust_labels = load_dataset(PROJ_PATH + \"/data/cresci-rtbust-2019_tweets.json\", PROJ_PATH + \"/data/cresci-rtbust-2019.tsv\")\n",
    "rtbust_scores = analyze_dataset(cresci_rtbust_2019_one_hot, rtbust_labels, silent=True)\n",
    "\n",
    "#gilani-2017\n",
    "gilani, gilani_2017_one_hot, gilani_labels = load_dataset(PROJ_PATH + \"/data/gilani-2017_tweets.json\", PROJ_PATH + \"/data/gilani-2017.tsv\")\n",
    "gilani_scores = analyze_dataset(gilani_2017_one_hot, gilani_labels, silent=True)\n",
    "\n",
    "#gilani-2017 with derived features from orginal paper\n",
    "gilani_derived_dfs, gilani_derived_labels = load_gilani_derived_bands(PROJ_PATH + f\"/data/gilani_derived/classification_processed/\")\n",
    "gilani_derived_scores = [analyze_dataset(gilani_derived_df, gilani_derived_label, silent=True) for gilani_derived_df, gilani_derived_label in zip(gilani_derived_dfs, gilani_derived_labels)]\n",
    "gilani_derived_scores_avg = [[sum([strat[depth_ind][scr_ind] for strat in gilani_derived_scores])/4 for scr_ind in range(5)] for depth_ind in range(5)]\n",
    "\n",
    "#cresci-2017\n",
    "cresci2017, cresci_2017_one_hot, cresci2017_labels = load_cresci2017(PROJ_PATH + \"/data/cresci-2017/{}.csv/users.csv\")\n",
    "cresci2017_scores = analyze_dataset(cresci_2017_one_hot, cresci2017_labels, silent=True)\n",
    "\n",
    "#cresci-2015\n",
    "cresci2015, cresci_2015_one_hot, cresci2015_labels = load_cresci2015(PROJ_PATH + \"/data/cresci-2015/{}/users.csv\")\n",
    "cresci2015_scores = analyze_dataset(cresci_2015_one_hot, cresci2015_labels, silent=True)\n",
    "\n",
    "#caverlee-2011\n",
    "caverlee_2011, caverlee_2011_labels = load_caverlee(PROJ_PATH + \"/data/social_honeypot_icwsm_2011/\")\n",
    "caverlee_2011_scores = analyze_dataset(caverlee_2011, caverlee_2011_labels, silent=True)\n",
    "\n",
    "#cresci-stock-2018\n",
    "cresci_stock, cresci_stock_2018_one_hot, cresci_stock_labels = load_dataset(PROJ_PATH + \"/data/cresci-stock-2018_tweets.json\", PROJ_PATH + \"/data/cresci-stock-2018.tsv\")\n",
    "cresci_stock_scores = analyze_dataset(cresci_stock_2018_one_hot, cresci_stock_labels, silent=True)\n",
    "\n",
    "### SINGLE-CLASS DATAETS \n",
    "# bot-wiki\n",
    "botwiki_df, botwiki_one_hot, botwiki_labels = load_dataset(PROJ_PATH + \"/data/botwiki-2019_tweets.json\", PROJ_PATH + \"/data/botwiki-2019.tsv\")\n",
    "# celebrity\n",
    "celebrity_df, celebrity_one_hot, celebrity_labels = load_dataset(PROJ_PATH + \"/data/celebrity-2019_tweets.json\", PROJ_PATH + \"/data/celebrity-2019.tsv\")\n",
    "# political-bots\n",
    "political_bots_df, political_bots_one_hot, political_bots_labels = load_dataset(PROJ_PATH + \"/data/political-bots-2019/political-bots-2019_tweets.json\", PROJ_PATH + \"/data/political-bots-2019/political-bots-2019.tsv\")\n",
    "# pronbots\n",
    "pronbots_df, pronbots_one_hot, pronbots_labels = load_dataset(PROJ_PATH + \"/data/pronbots-2019_tweets.json\", PROJ_PATH + \"/data/pronbots-2019.tsv\")\n",
    "# vendor purchased\n",
    "vendor_purchased_df, vendor_purchased_one_hot, vendor_purchased_labels = load_dataset(PROJ_PATH + \"/data/vendor-purchased-2019_tweets.json\", PROJ_PATH + \"/data/vendor-purchased-2019.tsv\")\n",
    "#verified\n",
    "verified_df, verified_one_hot, verified_labels = load_dataset(PROJ_PATH + \"/data/verified-2019_tweets.json\", PROJ_PATH + \"/data/verified-2019.tsv\")\n"
   ]
  },
  {
   "cell_type": "code",
   "execution_count": 7,
   "id": "8910d161",
   "metadata": {
    "collapsed": true
   },
   "outputs": [
    {
     "name": "stdout",
     "output_type": "stream",
     "text": [
      "Starting kfold_cv at 10/08/22 16:49:58\n",
      "Finished kfold_cv at 1665262314.5642698. Execution time: 115.63479328155518 s\n",
      "Starting kfold_cv at 10/08/22 16:51:54\n",
      "Finished kfold_cv at 1665262454.4273741. Execution time: 139.8629264831543 s\n",
      "Starting kfold_cv at 10/08/22 16:54:14\n",
      "Finished kfold_cv at 1665262613.371202. Execution time: 158.94365048408508 s\n",
      "Starting kfold_cv at 10/08/22 16:56:53\n",
      "Finished kfold_cv at 1665262791.3181214. Execution time: 177.94651556015015 s\n",
      "Starting kfold_cv at 10/08/22 16:59:51\n",
      "Finished kfold_cv at 1665262990.2771246. Execution time: 198.958482503891 s\n",
      "Starting kfold_cv at 10/08/22 17:03:10\n",
      "Finished kfold_cv at 1665263043.8724139. Execution time: 53.594903230667114 s\n",
      "Starting kfold_cv at 10/08/22 17:04:03\n",
      "Finished kfold_cv at 1665263099.9042222. Execution time: 56.03143119812012 s\n",
      "Starting kfold_cv at 10/08/22 17:04:59\n",
      "Finished kfold_cv at 1665263157.3984616. Execution time: 57.493868350982666 s\n",
      "Starting kfold_cv at 10/08/22 17:05:57\n",
      "Finished kfold_cv at 1665263215.881373. Execution time: 58.482524394989014 s\n",
      "Starting kfold_cv at 10/08/22 17:06:55\n",
      "Finished kfold_cv at 1665263274.6166198. Execution time: 58.73488211631775 s\n"
     ]
    }
   ],
   "source": [
    "midterm, midterm_2018_one_hot, midterm_labels = load_midterm(PROJ_PATH + \"/data/midterm-2018/midterm-2018_processed_user_objects.json\", PROJ_PATH + \"/data/midterm-2018/midterm-2018.tsv\")\n",
    "midterm_scores = analyze_dataset(midterm_2018_one_hot, midterm_labels, kfold=True, silent=True)"
   ]
  },
  {
   "cell_type": "code",
   "execution_count": 8,
   "id": "2d00e229",
   "metadata": {
    "collapsed": true
   },
   "outputs": [
    {
     "name": "stdout",
     "output_type": "stream",
     "text": [
      "Starting kfold_cv at 10/08/22 17:07:56\n",
      "Finished kfold_cv at 1665263296.643963. Execution time: 20.4278085231781 s\n",
      "Starting kfold_cv at 10/08/22 17:08:16\n",
      "Finished kfold_cv at 1665263320.2367184. Execution time: 23.592381715774536 s\n",
      "Starting kfold_cv at 10/08/22 17:08:40\n",
      "Finished kfold_cv at 1665263346.6104352. Execution time: 26.373342037200928 s\n",
      "Starting kfold_cv at 10/08/22 17:09:06\n",
      "Finished kfold_cv at 1665263376.6045103. Execution time: 29.99371886253357 s\n",
      "Starting kfold_cv at 10/08/22 17:09:36\n",
      "Finished kfold_cv at 1665263407.9593287. Execution time: 31.354448556900024 s\n",
      "Starting kfold_cv at 10/08/22 17:10:07\n",
      "Finished kfold_cv at 1665263416.669612. Execution time: 8.709883451461792 s\n",
      "Starting kfold_cv at 10/08/22 17:10:16\n",
      "Finished kfold_cv at 1665263425.417949. Execution time: 8.74814486503601 s\n",
      "Starting kfold_cv at 10/08/22 17:10:25\n",
      "Finished kfold_cv at 1665263434.1752443. Execution time: 8.756919860839844 s\n",
      "Starting kfold_cv at 10/08/22 17:10:34\n",
      "Finished kfold_cv at 1665263443.0001385. Execution time: 8.82470417022705 s\n",
      "Starting kfold_cv at 10/08/22 17:10:42\n",
      "Finished kfold_cv at 1665263451.9171119. Execution time: 8.916624546051025 s\n"
     ]
    }
   ],
   "source": [
    "yang, yang_2013_one_hot, yang_labels = load_yang(PROJ_PATH + \"/data/yang-2013/\")\n",
    "yang_scores = analyze_dataset(yang_2013_one_hot, yang_labels)"
   ]
  },
  {
   "cell_type": "code",
   "execution_count": 20,
   "id": "6b103cc2",
   "metadata": {},
   "outputs": [
    {
     "name": "stdout",
     "output_type": "stream",
     "text": [
      "background_url\n",
      "account creation time\n",
      "favourites_count\n",
      "followers_count\n",
      "followings_count\n",
      "geo_enabled\n",
      "location\n",
      "name\n",
      "image_url\n",
      "protected\n",
      "statuses_count\n",
      "timezone\n",
      "verified\n"
     ]
    }
   ],
   "source": [
    "for c in yang.columns:\n",
    "    print(c)"
   ]
  },
  {
   "cell_type": "markdown",
   "id": "87d3f7ea",
   "metadata": {},
   "source": [
    "## Tweets data"
   ]
  },
  {
   "cell_type": "code",
   "execution_count": null,
   "id": "389986a9",
   "metadata": {},
   "outputs": [],
   "source": [
    "yang_tweets, yang_2013_tweets_labels = load_yang_tweets(PROJ_PATH + \"/data/yang-2013/\")\n",
    "yang_tweets_scores = analyze_dataset(yang_tweets, yang_2013_tweets_labels)\n"
   ]
  },
  {
   "cell_type": "code",
   "execution_count": 12,
   "id": "7d426186",
   "metadata": {
    "collapsed": true
   },
   "outputs": [
    {
     "name": "stdout",
     "output_type": "stream",
     "text": [
      "Starting kfold_cv at 10/08/22 17:15:22\n",
      "Finished kfold_cv at 1665263727.4489458. Execution time: 4.9376091957092285 s\n",
      "Starting kfold_cv at 10/08/22 17:15:27\n",
      "Finished kfold_cv at 1665263734.3919053. Execution time: 6.942802906036377 s\n",
      "Starting kfold_cv at 10/08/22 17:15:34\n",
      "Finished kfold_cv at 1665263743.370601. Execution time: 8.978559255599976 s\n",
      "Starting kfold_cv at 10/08/22 17:15:43\n",
      "Finished kfold_cv at 1665263754.3293543. Execution time: 10.958407402038574 s\n",
      "Starting kfold_cv at 10/08/22 17:15:54\n",
      "Finished kfold_cv at 1665263767.1967025. Execution time: 12.867199659347534 s\n",
      "Starting kfold_cv at 10/08/22 17:16:07\n",
      "Finished kfold_cv at 1665263772.4642346. Execution time: 5.2671799659729 s\n",
      "Starting kfold_cv at 10/08/22 17:16:12\n",
      "Finished kfold_cv at 1665263779.871292. Execution time: 7.406908988952637 s\n",
      "Starting kfold_cv at 10/08/22 17:16:19\n",
      "Finished kfold_cv at 1665263789.293197. Execution time: 9.421753406524658 s\n",
      "Starting kfold_cv at 10/08/22 17:16:29\n",
      "Finished kfold_cv at 1665263800.6807227. Execution time: 11.387197494506836 s\n",
      "Starting kfold_cv at 10/08/22 17:16:40\n",
      "Finished kfold_cv at 1665263814.0508885. Execution time: 13.370012998580933 s\n"
     ]
    }
   ],
   "source": [
    "pan_2019_df, pan19_labels = load_pan19(PROJ_PATH + \"/data/pan19/pan19-author-profiling-training-2019-02-18/en/{}.xml\", PROJ_PATH + \"/data/pan19/pan19-author-profiling-training-2019-02-18/en/truth.txt\")\n",
    "pan19_scores = analyze_dataset(pan_2019_df, pan19_labels)\n"
   ]
  },
  {
   "cell_type": "code",
   "execution_count": null,
   "id": "0c0d41ea",
   "metadata": {},
   "outputs": [],
   "source": [
    "cresci_2017_tweets, cresci_2017_tweets_labels = load_cresci2017_tweets(PROJ_PATH + \"/data/cresci-2017/{}.csv/tweets.csv\")\n",
    "cresci_2017_tweets_scores = analyze_dataset(cresci_2017_tweets, cresci_2017_tweets_labels, silent=True)\n"
   ]
  },
  {
   "cell_type": "code",
   "execution_count": null,
   "id": "06644ae1",
   "metadata": {},
   "outputs": [],
   "source": [
    "cresci_2015_tweets, cresci_2015_tweets_labels = load_cresci2015_tweets(PROJ_PATH + \"/data/cresci-2015/{}/tweets.csv\")\n",
    "cresci_2015_tweets_scores = analyze_dataset(cresci_2015_tweets, cresci_2015_tweets_labels)\n"
   ]
  },
  {
   "cell_type": "code",
   "execution_count": 17,
   "id": "f7ae50a3",
   "metadata": {
    "collapsed": true
   },
   "outputs": [
    {
     "name": "stdout",
     "output_type": "stream",
     "text": [
      "Starting kfold_cv at 10/08/22 21:00:56\n",
      "Finished kfold_cv at 1665277474.0277402. Execution time: 217.7107925415039 s\n",
      "Starting kfold_cv at 10/08/22 21:04:34\n",
      "Finished kfold_cv at 1665277821.3640628. Execution time: 347.33601689338684 s\n",
      "Starting kfold_cv at 10/08/22 21:10:21\n",
      "Finished kfold_cv at 1665278289.3785093. Execution time: 468.0140676498413 s\n",
      "Starting kfold_cv at 10/08/22 21:18:09\n",
      "Finished kfold_cv at 1665278867.5976992. Execution time: 578.2188034057617 s\n",
      "Starting kfold_cv at 10/08/22 21:27:47\n",
      "Finished kfold_cv at 1665279545.5128956. Execution time: 677.9142198562622 s\n",
      "Starting kfold_cv at 10/08/22 21:39:05\n",
      "Finished kfold_cv at 1665279768.64007. Execution time: 223.12679862976074 s\n",
      "Starting kfold_cv at 10/08/22 21:42:48\n",
      "Finished kfold_cv at 1665280106.765172. Execution time: 338.1244237422943 s\n",
      "Starting kfold_cv at 10/08/22 21:48:26\n",
      "Finished kfold_cv at 1665280551.2374253. Execution time: 444.47169256210327 s\n",
      "Starting kfold_cv at 10/08/22 21:55:51\n",
      "Finished kfold_cv at 1665281097.4603903. Execution time: 546.2225906848907 s\n",
      "Starting kfold_cv at 10/08/22 22:04:57\n",
      "Finished kfold_cv at 1665281732.7019231. Execution time: 635.2411534786224 s\n"
     ]
    }
   ],
   "source": [
    "cresci_stock_2018_tweets, cresci_stock_2018_tweets_labels = load_cresci_stock_tweets(PROJ_PATH + \"/data/cresci-stock-2018_tweets.json\", PROJ_PATH + \"/data/cresci-stock-2018.tsv\", PROJ_PATH + \"/data/golbeck/tweets/{}_tweets.csv\")\n",
    "cresci_stock_2018_tweets_scores = analyze_dataset(cresci_stock_2018_tweets, cresci_stock_2018_tweets_labels)\n"
   ]
  },
  {
   "cell_type": "code",
   "execution_count": 94,
   "id": "7e035fdd",
   "metadata": {},
   "outputs": [
    {
     "ename": "SyntaxError",
     "evalue": "invalid syntax (<ipython-input-94-6b3246885f36>, line 1)",
     "output_type": "error",
     "traceback": [
      "\u001b[0;36m  File \u001b[0;32m\"<ipython-input-94-6b3246885f36>\"\u001b[0;36m, line \u001b[0;32m1\u001b[0m\n\u001b[0;31m    cresci_stock_2018_tweets_scores|\u001b[0m\n\u001b[0m                                    ^\u001b[0m\n\u001b[0;31mSyntaxError\u001b[0m\u001b[0;31m:\u001b[0m invalid syntax\n"
     ]
    }
   ],
   "source": [
    "cresci_stock_2018_tweets_scores"
   ]
  },
  {
   "cell_type": "code",
   "execution_count": 28,
   "id": "8bd764ac",
   "metadata": {},
   "outputs": [
    {
     "name": "stdout",
     "output_type": "stream",
     "text": [
      "twibot-2020\n",
      "botometer-feedback-2019\n",
      "cresci-rtbust-2019\n",
      "gilani-2017\n",
      "cresci-2017\n",
      "cresci-2015\n",
      "cresci-stock-2018\n",
      "yang-2013\n"
     ]
    }
   ],
   "source": [
    "datasets = [twibot_2020_one_hot, botometer_feedback_2019_one_hot, cresci_rtbust_2019_one_hot, gilani_2017_one_hot, cresci_2017_one_hot, cresci_2015_one_hot, cresci_stock_2018_one_hot, yang_2013_one_hot]\n",
    "dataset_names = [process_tick_label(get_dataset_name(df)) for df in datasets]\n",
    "labels = [twibot_labels, bf_labels, rtbust_labels, gilani_labels, cresci2017_labels, cresci2015_labels, cresci_stock_labels, yang_labels]\n",
    "\n",
    "scores = {\n",
    "    'twibot-2020': twibot_scores, \n",
    "    'feedback-2019': botometer_feedback_scores, \n",
    "    'rtbust-2019': rtbust_scores, \n",
    "    'gilani-2017': gilani_derived_scores_avg, \n",
    "    'cresci-2017': cresci2017_scores, \n",
    "    'cresci-2015': cresci2015_scores, \n",
    "    'caverlee-2011': caverlee_2011_scores,\n",
    "    'midterm-2018': midterm_scores, \n",
    "    'yang-2013': yang_scores,\n",
    "    'stock-2018': cresci_stock_scores,\n",
    "    'pan-2019': pan19_scores\n",
    "}\n",
    "\n",
    "rows = []\n",
    "\n",
    "for name, scr in scores.items():\n",
    "    row = {'name': name}\n",
    "    for i, (a,p,r,f,ba) in enumerate(scr):\n",
    "        row.update({\n",
    "            f'a{i+1}': a,  #accuracy\n",
    "            f'p{i+1}': p,  #precision\n",
    "            f'r{i+1}': r,  #recall\n",
    "            f'f{i+1}': f,  #f1\n",
    "            f'ba{i+1}': ba #balanced accuracy\n",
    "        })\n",
    "    rows.append(row)\n",
    "    \n",
    "scores_df = pd.DataFrame(rows)\n",
    "scores_df.to_csv(\"scores.csv\", index=False)"
   ]
  },
  {
   "cell_type": "markdown",
   "id": "d872a6df",
   "metadata": {},
   "source": [
    "# Train on one, test on another"
   ]
  },
  {
   "cell_type": "code",
   "execution_count": 92,
   "id": "1124460e",
   "metadata": {},
   "outputs": [],
   "source": [
    "importlib.reload(sys.modules['data_accessor'])\n",
    "importlib.reload(sys.modules['train_on_one_test_on_another'])\n",
    "from train_on_one_test_on_another import train_on_one_test_on_another"
   ]
  },
  {
   "cell_type": "code",
   "execution_count": 93,
   "id": "c7577fd0",
   "metadata": {
    "scrolled": true
   },
   "outputs": [
    {
     "name": "stdout",
     "output_type": "stream",
     "text": [
      "twibot_2020_one_hot twibot_2020_one_hot\n",
      "twibot_2020_one_hot botometer_feedback_2019_one_hot\n",
      "twibot_2020_one_hot cresci_rtbust_2019_one_hot\n",
      "twibot_2020_one_hot gilani_2017_one_hot\n",
      "twibot_2020_one_hot cresci_2017_one_hot\n",
      "twibot_2020_one_hot cresci_2015_one_hot\n",
      "twibot_2020_one_hot cresci_stock_2018_one_hot\n",
      "twibot_2020_one_hot yang_2013_one_hot\n",
      "botometer_feedback_2019_one_hot twibot_2020_one_hot\n",
      "botometer_feedback_2019_one_hot botometer_feedback_2019_one_hot\n",
      "botometer_feedback_2019_one_hot cresci_rtbust_2019_one_hot\n",
      "botometer_feedback_2019_one_hot gilani_2017_one_hot\n",
      "botometer_feedback_2019_one_hot cresci_2017_one_hot\n",
      "botometer_feedback_2019_one_hot cresci_2015_one_hot\n",
      "botometer_feedback_2019_one_hot cresci_stock_2018_one_hot\n",
      "botometer_feedback_2019_one_hot yang_2013_one_hot\n",
      "cresci_rtbust_2019_one_hot twibot_2020_one_hot\n",
      "cresci_rtbust_2019_one_hot botometer_feedback_2019_one_hot\n",
      "cresci_rtbust_2019_one_hot cresci_rtbust_2019_one_hot\n",
      "cresci_rtbust_2019_one_hot gilani_2017_one_hot\n",
      "cresci_rtbust_2019_one_hot cresci_2017_one_hot\n",
      "cresci_rtbust_2019_one_hot cresci_2015_one_hot\n",
      "cresci_rtbust_2019_one_hot cresci_stock_2018_one_hot\n",
      "cresci_rtbust_2019_one_hot yang_2013_one_hot\n",
      "gilani_2017_one_hot twibot_2020_one_hot\n",
      "gilani_2017_one_hot botometer_feedback_2019_one_hot\n",
      "gilani_2017_one_hot cresci_rtbust_2019_one_hot\n",
      "gilani_2017_one_hot gilani_2017_one_hot\n",
      "gilani_2017_one_hot cresci_2017_one_hot\n",
      "gilani_2017_one_hot cresci_2015_one_hot\n",
      "gilani_2017_one_hot cresci_stock_2018_one_hot\n",
      "gilani_2017_one_hot yang_2013_one_hot\n",
      "cresci_2017_one_hot twibot_2020_one_hot\n",
      "cresci_2017_one_hot botometer_feedback_2019_one_hot\n",
      "cresci_2017_one_hot cresci_rtbust_2019_one_hot\n",
      "cresci_2017_one_hot gilani_2017_one_hot\n",
      "cresci_2017_one_hot cresci_2017_one_hot\n",
      "cresci_2017_one_hot cresci_2015_one_hot\n",
      "cresci_2017_one_hot cresci_stock_2018_one_hot\n",
      "cresci_2017_one_hot yang_2013_one_hot\n",
      "cresci_2015_one_hot twibot_2020_one_hot\n",
      "cresci_2015_one_hot botometer_feedback_2019_one_hot\n",
      "cresci_2015_one_hot cresci_rtbust_2019_one_hot\n"
     ]
    },
    {
     "name": "stderr",
     "output_type": "stream",
     "text": [
      "/home/jhays/.local/lib/python3.6/site-packages/sklearn/metrics/_classification.py:1248: UndefinedMetricWarning: Precision is ill-defined and being set to 0.0 due to no predicted samples. Use `zero_division` parameter to control this behavior.\n",
      "  _warn_prf(average, modifier, msg_start, len(result))\n",
      "/home/jhays/.local/lib/python3.6/site-packages/sklearn/metrics/_classification.py:1248: UndefinedMetricWarning: Precision is ill-defined and being set to 0.0 due to no predicted samples. Use `zero_division` parameter to control this behavior.\n",
      "  _warn_prf(average, modifier, msg_start, len(result))\n"
     ]
    },
    {
     "name": "stdout",
     "output_type": "stream",
     "text": [
      "cresci_2015_one_hot gilani_2017_one_hot\n",
      "cresci_2015_one_hot cresci_2017_one_hot\n",
      "cresci_2015_one_hot cresci_2015_one_hot\n",
      "cresci_2015_one_hot cresci_stock_2018_one_hot\n",
      "cresci_2015_one_hot yang_2013_one_hot\n",
      "cresci_stock_2018_one_hot twibot_2020_one_hot\n",
      "cresci_stock_2018_one_hot botometer_feedback_2019_one_hot\n",
      "cresci_stock_2018_one_hot cresci_rtbust_2019_one_hot\n",
      "cresci_stock_2018_one_hot gilani_2017_one_hot\n",
      "cresci_stock_2018_one_hot cresci_2017_one_hot\n",
      "cresci_stock_2018_one_hot cresci_2015_one_hot\n",
      "cresci_stock_2018_one_hot cresci_stock_2018_one_hot\n",
      "cresci_stock_2018_one_hot yang_2013_one_hot\n"
     ]
    },
    {
     "name": "stderr",
     "output_type": "stream",
     "text": [
      "/home/jhays/.local/lib/python3.6/site-packages/sklearn/metrics/_classification.py:1248: UndefinedMetricWarning: Precision is ill-defined and being set to 0.0 due to no predicted samples. Use `zero_division` parameter to control this behavior.\n",
      "  _warn_prf(average, modifier, msg_start, len(result))\n"
     ]
    },
    {
     "name": "stdout",
     "output_type": "stream",
     "text": [
      "yang_2013_one_hot twibot_2020_one_hot\n",
      "yang_2013_one_hot botometer_feedback_2019_one_hot\n",
      "yang_2013_one_hot cresci_rtbust_2019_one_hot\n"
     ]
    },
    {
     "name": "stderr",
     "output_type": "stream",
     "text": [
      "/home/jhays/.local/lib/python3.6/site-packages/sklearn/metrics/_classification.py:1248: UndefinedMetricWarning: Precision is ill-defined and being set to 0.0 due to no predicted samples. Use `zero_division` parameter to control this behavior.\n",
      "  _warn_prf(average, modifier, msg_start, len(result))\n"
     ]
    },
    {
     "name": "stdout",
     "output_type": "stream",
     "text": [
      "yang_2013_one_hot gilani_2017_one_hot\n",
      "yang_2013_one_hot cresci_2017_one_hot\n",
      "yang_2013_one_hot cresci_2015_one_hot\n",
      "yang_2013_one_hot cresci_stock_2018_one_hot\n"
     ]
    },
    {
     "name": "stderr",
     "output_type": "stream",
     "text": [
      "/home/jhays/.local/lib/python3.6/site-packages/sklearn/metrics/_classification.py:1248: UndefinedMetricWarning: Precision is ill-defined and being set to 0.0 due to no predicted samples. Use `zero_division` parameter to control this behavior.\n",
      "  _warn_prf(average, modifier, msg_start, len(result))\n"
     ]
    },
    {
     "name": "stdout",
     "output_type": "stream",
     "text": [
      "yang_2013_one_hot yang_2013_one_hot\n"
     ]
    }
   ],
   "source": [
    "balanced_rows = []\n",
    "rows = []\n",
    "\n",
    "for train_on, train_on_labels in zip(datasets,labels):\n",
    "    for test_on, test_on_labels in zip(datasets,labels):\n",
    "        print(get_dataset_name(train_on), get_dataset_name(test_on))\n",
    "        rf = ensemble.RandomForestClassifier()\n",
    "        balanced_rows.append(train_on_one_test_on_another(train_on, train_on_labels, test_on, test_on_labels, get_dataset_name(train_on), get_dataset_name(test_on), method=rf, balance=True))\n",
    "        rows.append(train_on_one_test_on_another(train_on, train_on_labels, test_on, test_on_labels, get_dataset_name(train_on), get_dataset_name(test_on), method=rf, balance=False))\n",
    "train_on_one_test_on_another_performance = pd.DataFrame(rows)\n",
    "train_on_one_test_on_another_performance_balanced = pd.DataFrame(balanced_rows)\n"
   ]
  },
  {
   "cell_type": "code",
   "execution_count": 99,
   "id": "335b14a1",
   "metadata": {},
   "outputs": [],
   "source": [
    "importlib.reload(sys.modules['print_table'])\n",
    "from print_table import print_totoa_matrix"
   ]
  },
  {
   "cell_type": "code",
   "execution_count": 100,
   "id": "aca3efe4",
   "metadata": {},
   "outputs": [
    {
     "name": "stdout",
     "output_type": "stream",
     "text": [
      "\\begin{tikzpicture}[]\n",
      "  \\matrix[matrix of nodes,row sep=-\\pgflinewidth, column sep=-.1em,\n",
      "nodes={{rectangle}},\n",
      "column 1/.style={{anchor=east}},]{\n",
      "\\data{\\small{feedback-2019}} & |[fill={rgb,255:red,0;green,0;blue,205}, value=1.0]|&|[fill={rgb,255:red,229;green,198;blue,173}, value=0.39]|&|[fill={rgb,255:red,245;green,234;blue,205}, value=0.46]|&|[fill={rgb,255:red,244;green,244;blue,223}, value=0.52]|&|[fill={rgb,255:red,249;green,243;blue,214}, value=0.48]|&|[fill={rgb,255:red,188;green,188;blue,219}, value=0.63]|&|[fill={rgb,255:red,249;green,243;blue,214}, value=0.48]|&|[fill={rgb,255:red,210;green,158;blue,138}, value=0.31]| \\\\\n",
      "\\data{\\small{cresci-2015}} & |[fill={rgb,255:red,147;green,147;blue,216}, value=0.71]|&|[fill={rgb,255:red,0;green,0;blue,205}, value=1.0]|&|[fill={rgb,255:red,214;green,214;blue,220}, value=0.58]|&|[fill={rgb,255:red,252;green,250;blue,219}, value=0.49]|&|[fill={rgb,255:red,248;green,240;blue,210}, value=0.47]|&|[fill={rgb,255:red,224;green,224;blue,221}, value=0.56]|&|[fill={rgb,255:red,245;green,234;blue,205}, value=0.46]|&|[fill={rgb,255:red,86;green,86;blue,211}, value=0.83]| \\\\\n",
      "\\data{\\small{cresci-2017}} & |[fill={rgb,255:red,121;green,121;blue,214}, value=0.76]|&|[fill={rgb,255:red,70;green,70;blue,210}, value=0.86]|&|[fill={rgb,255:red,0;green,0;blue,205}, value=1.0]|&|[fill={rgb,255:red,240;green,240;blue,222}, value=0.53]|&|[fill={rgb,255:red,248;green,240;blue,210}, value=0.47]|&|[fill={rgb,255:red,220;green,220;blue,221}, value=0.57]|&|[fill={rgb,255:red,248;green,240;blue,210}, value=0.47]|&|[fill={rgb,255:red,199;green,131;blue,115}, value=0.26]| \\\\\n",
      "\\data{\\small{rtbust-2019}} & |[fill={rgb,255:red,162;green,162;blue,217}, value=0.68]|&|[fill={rgb,255:red,230;green,230;blue,222}, value=0.55]|&|[fill={rgb,255:red,204;green,204;blue,220}, value=0.6]|&|[fill={rgb,255:red,0;green,0;blue,205}, value=1.0]|&|[fill={rgb,255:red,188;green,188;blue,219}, value=0.63]|&|[fill={rgb,255:red,214;green,214;blue,220}, value=0.58]|&|[fill={rgb,255:red,245;green,234;blue,205}, value=0.46]|&|[fill={rgb,255:red,116;green,116;blue,213}, value=0.77]| \\\\\n",
      "\\data{\\small{stock-2018}} & |[fill={rgb,255:red,168;green,168;blue,217}, value=0.67]|&|[fill={rgb,255:red,245;green,234;blue,205}, value=0.46]|&|[fill={rgb,255:red,206;green,147;blue,130}, value=0.29]|&|[fill={rgb,255:red,204;green,204;blue,220}, value=0.6]|&|[fill={rgb,255:red,0;green,0;blue,205}, value=1.0]|&|[fill={rgb,255:red,224;green,224;blue,221}, value=0.56]|&|[fill={rgb,255:red,245;green,234;blue,205}, value=0.46]|&|[fill={rgb,255:red,46;green,46;blue,208}, value=0.91]| \\\\\n",
      "\\data{\\small{gilani-2017}} & |[fill={rgb,255:red,138;green,138;blue,215}, value=0.73]|&|[fill={rgb,255:red,197;green,128;blue,112}, value=0.25]|&|[fill={rgb,255:red,236;green,214;blue,187}, value=0.42]|&|[fill={rgb,255:red,248;green,240;blue,210}, value=0.47]|&|[fill={rgb,255:red,239;green,220;blue,193}, value=0.43]|&|[fill={rgb,255:red,4;green,4;blue,205}, value=0.99]|&|[fill={rgb,255:red,249;green,243;blue,214}, value=0.48]|&|[fill={rgb,255:red,239;green,220;blue,193}, value=0.43]| \\\\\n",
      "\\data{\\small{twibot-2020}} & |[fill={rgb,255:red,218;green,174;blue,152}, value=0.34]|&|[fill={rgb,255:red,178;green,178;blue,218}, value=0.65]|&|[fill={rgb,255:red,102;green,102;blue,212}, value=0.8]|&|[fill={rgb,255:red,244;green,244;blue,223}, value=0.52]|&|[fill={rgb,255:red,224;green,224;blue,221}, value=0.56]|&|[fill={rgb,255:red,224;green,224;blue,221}, value=0.56]|&|[fill={rgb,255:red,0;green,0;blue,205}, value=1.0]|&|[fill={rgb,255:red,197;green,128;blue,112}, value=0.25]| \\\\\n",
      "\\data{\\small{yang-2013}} & |[fill={rgb,255:red,131;green,131;blue,214}, value=0.74]|&|[fill={rgb,255:red,227;green,194;blue,170}, value=0.38]|&|[fill={rgb,255:red,222;green,184;blue,161}, value=0.36]|&|[fill={rgb,255:red,252;green,250;blue,219}, value=0.49]|&|[fill={rgb,255:red,248;green,240;blue,210}, value=0.47]|&|[fill={rgb,255:red,224;green,224;blue,221}, value=0.56]|&|[fill={rgb,255:red,240;green,224;blue,196}, value=0.44]|&|[fill={rgb,255:red,0;green,0;blue,205}, value=1.0]| \\\\\n",
      "};\n",
      "\\node[label={[label distance=0.5cm,text depth=-1ex,rotate=45]left:\\data{\\small{feedback-2019}} }] at (-0.7,-2.4) {};\n",
      "\\node[label={[label distance=0.5cm,text depth=-1ex,rotate=45]left:\\data{\\small{cresci-2015}} }] at (0.0,-2.4) {};\n",
      "\\node[label={[label distance=0.5cm,text depth=-1ex,rotate=45]left:\\data{\\small{cresci-2017}} }] at (0.7,-2.4) {};\n",
      "\\node[label={[label distance=0.5cm,text depth=-1ex,rotate=45]left:\\data{\\small{rtbust-2019}} }] at (1.3999999999999997,-2.4) {};\n",
      "\\node[label={[label distance=0.5cm,text depth=-1ex,rotate=45]left:\\data{\\small{stock-2018}} }] at (2.0999999999999996,-2.4) {};\n",
      "\\node[label={[label distance=0.5cm,text depth=-1ex,rotate=45]left:\\data{\\small{gilani-2017}} }] at (2.8,-2.4) {};\n",
      "\\node[label={[label distance=0.5cm,text depth=-1ex,rotate=45]left:\\data{\\small{twibot-2020}} }] at (3.499999999999999,-2.4) {};\n",
      "\\node[label={[label distance=0.5cm,text depth=-1ex,rotate=45]left:\\data{\\small{yang-2013}} }] at (4.199999999999999,-2.4) {};\n",
      "\\end{tikzpicture}\n",
      "\n",
      "\n"
     ]
    }
   ],
   "source": [
    "print_totoa_matrix(train_on_one_test_on_another_performance, 'a')\n"
   ]
  },
  {
   "cell_type": "code",
   "execution_count": 101,
   "id": "ffa97633",
   "metadata": {},
   "outputs": [
    {
     "name": "stdout",
     "output_type": "stream",
     "text": [
      "\\begin{tikzpicture}[]\n",
      "  \\matrix[matrix of nodes,row sep=-\\pgflinewidth, column sep=-.1em,\n",
      "nodes={{rectangle}},\n",
      "column 1/.style={{anchor=east}},]{\n",
      "\\data{\\small{feedback-2019}} & |[fill={rgb,255:red,0;green,0;blue,205}, value=1.0]|&|[fill={rgb,255:red,232;green,232;blue,222}, value=0.09]|&|[fill={rgb,255:red,140;green,140;blue,215}, value=0.45]|&|[fill={rgb,255:red,202;green,202;blue,220}, value=0.21]|&|[fill={rgb,255:red,215;green,215;blue,221}, value=0.16]|&|[fill={rgb,255:red,168;green,168;blue,217}, value=0.34]|&|[fill={rgb,255:red,197;green,197;blue,219}, value=0.23]|&|[fill={rgb,255:red,207;green,207;blue,220}, value=0.19]| \\\\\n",
      "\\data{\\small{cresci-2015}} & |[fill={rgb,255:red,202;green,202;blue,220}, value=0.21]|&|[fill={rgb,255:red,0;green,0;blue,205}, value=1.0]|&|[fill={rgb,255:red,89;green,89;blue,211}, value=0.65]|&|[fill={rgb,255:red,255;green,255;blue,224}, value=0.0]|&|[fill={rgb,255:red,250;green,250;blue,223}, value=0.02]|&|[fill={rgb,255:red,255;green,255;blue,224}, value=0.0]|&|[fill={rgb,255:red,222;green,222;blue,221}, value=0.13]|&|[fill={rgb,255:red,153;green,153;blue,216}, value=0.4]| \\\\\n",
      "\\data{\\small{cresci-2017}} & |[fill={rgb,255:red,147;green,147;blue,216}, value=0.42]|&|[fill={rgb,255:red,24;green,24;blue,206}, value=0.9]|&|[fill={rgb,255:red,0;green,0;blue,205}, value=1.0]|&|[fill={rgb,255:red,87;green,87;blue,211}, value=0.66]|&|[fill={rgb,255:red,240;green,240;blue,222}, value=0.06]|&|[fill={rgb,255:red,197;green,197;blue,219}, value=0.23]|&|[fill={rgb,255:red,194;green,194;blue,219}, value=0.24]|&|[fill={rgb,255:red,204;green,204;blue,220}, value=0.2]| \\\\\n",
      "\\data{\\small{rtbust-2019}} & |[fill={rgb,255:red,163;green,163;blue,217}, value=0.36]|&|[fill={rgb,255:red,98;green,98;blue,212}, value=0.61]|&|[fill={rgb,255:red,79;green,79;blue,210}, value=0.69]|&|[fill={rgb,255:red,0;green,0;blue,205}, value=1.0]|&|[fill={rgb,255:red,94;green,94;blue,212}, value=0.63]|&|[fill={rgb,255:red,184;green,184;blue,218}, value=0.28]|&|[fill={rgb,255:red,189;green,189;blue,219}, value=0.26]|&|[fill={rgb,255:red,163;green,163;blue,217}, value=0.36]| \\\\\n",
      "\\data{\\small{stock-2018}} & |[fill={rgb,255:red,232;green,232;blue,222}, value=0.09]|&|[fill={rgb,255:red,189;green,189;blue,219}, value=0.26]|&|[fill={rgb,255:red,217;green,217;blue,221}, value=0.15]|&|[fill={rgb,255:red,135;green,135;blue,215}, value=0.47]|&|[fill={rgb,255:red,0;green,0;blue,205}, value=1.0]|&|[fill={rgb,255:red,253;green,253;blue,223}, value=0.01]|&|[fill={rgb,255:red,232;green,232;blue,222}, value=0.09]|&|[fill={rgb,255:red,255;green,255;blue,224}, value=0.0]| \\\\\n",
      "\\data{\\small{gilani-2017}} & |[fill={rgb,255:red,143;green,143;blue,215}, value=0.44]|&|[fill={rgb,255:red,232;green,232;blue,222}, value=0.09]|&|[fill={rgb,255:red,145;green,145;blue,215}, value=0.43]|&|[fill={rgb,255:red,217;green,217;blue,221}, value=0.15]|&|[fill={rgb,255:red,230;green,230;blue,222}, value=0.1]|&|[fill={rgb,255:red,1;green,1;blue,205}, value=0.99]|&|[fill={rgb,255:red,181;green,181;blue,218}, value=0.29]|&|[fill={rgb,255:red,238;green,238;blue,222}, value=0.07]| \\\\\n",
      "\\data{\\small{twibot-2020}} & |[fill={rgb,255:red,145;green,145;blue,215}, value=0.43]|&|[fill={rgb,255:red,56;green,56;blue,209}, value=0.78]|&|[fill={rgb,255:red,30;green,30;blue,207}, value=0.88]|&|[fill={rgb,255:red,87;green,87;blue,211}, value=0.66]|&|[fill={rgb,255:red,76;green,76;blue,210}, value=0.7]|&|[fill={rgb,255:red,127;green,127;blue,214}, value=0.5]|&|[fill={rgb,255:red,0;green,0;blue,205}, value=1.0]|&|[fill={rgb,255:red,209;green,209;blue,220}, value=0.18]| \\\\\n",
      "\\data{\\small{yang-2013}} & |[fill={rgb,255:red,240;green,240;blue,222}, value=0.06]|&|[fill={rgb,255:red,240;green,240;blue,222}, value=0.06]|&|[fill={rgb,255:red,189;green,189;blue,219}, value=0.26]|&|[fill={rgb,255:red,255;green,255;blue,224}, value=0.0]|&|[fill={rgb,255:red,255;green,255;blue,224}, value=0.0]|&|[fill={rgb,255:red,255;green,255;blue,224}, value=0.0]|&|[fill={rgb,255:red,250;green,250;blue,223}, value=0.02]|&|[fill={rgb,255:red,0;green,0;blue,205}, value=1.0]| \\\\\n",
      "};\n",
      "\\node[label={[label distance=0.5cm,text depth=-1ex,rotate=45]left:\\data{\\small{feedback-2019}} }] at (-0.7,-2.4) {};\n",
      "\\node[label={[label distance=0.5cm,text depth=-1ex,rotate=45]left:\\data{\\small{cresci-2015}} }] at (0.0,-2.4) {};\n",
      "\\node[label={[label distance=0.5cm,text depth=-1ex,rotate=45]left:\\data{\\small{cresci-2017}} }] at (0.7,-2.4) {};\n",
      "\\node[label={[label distance=0.5cm,text depth=-1ex,rotate=45]left:\\data{\\small{rtbust-2019}} }] at (1.3999999999999997,-2.4) {};\n",
      "\\node[label={[label distance=0.5cm,text depth=-1ex,rotate=45]left:\\data{\\small{stock-2018}} }] at (2.0999999999999996,-2.4) {};\n",
      "\\node[label={[label distance=0.5cm,text depth=-1ex,rotate=45]left:\\data{\\small{gilani-2017}} }] at (2.8,-2.4) {};\n",
      "\\node[label={[label distance=0.5cm,text depth=-1ex,rotate=45]left:\\data{\\small{twibot-2020}} }] at (3.499999999999999,-2.4) {};\n",
      "\\node[label={[label distance=0.5cm,text depth=-1ex,rotate=45]left:\\data{\\small{yang-2013}} }] at (4.199999999999999,-2.4) {};\n",
      "\\end{tikzpicture}\n",
      "\n",
      "\n"
     ]
    }
   ],
   "source": [
    "print_totoa_matrix(train_on_one_test_on_another_performance, 'f')\n"
   ]
  },
  {
   "cell_type": "code",
   "execution_count": 102,
   "id": "d1940626",
   "metadata": {},
   "outputs": [
    {
     "name": "stdout",
     "output_type": "stream",
     "text": [
      "\\begin{tikzpicture}[]\n",
      "  \\matrix[matrix of nodes,row sep=-\\pgflinewidth, column sep=-.1em,\n",
      "nodes={{rectangle}},\n",
      "column 1/.style={{anchor=east}},]{\n",
      "\\data{\\small{feedback-2019}} & |[fill={rgb,255:red,49;green,49;blue,208}, value=0.9]|&|[fill={rgb,255:red,49;green,49;blue,208}, value=0.9]|&|[fill={rgb,255:red,158;green,158;blue,216}, value=0.69]|&|[fill={rgb,255:red,230;green,230;blue,222}, value=0.55]|&|[fill={rgb,255:red,250;green,250;blue,223}, value=0.51]|&|[fill={rgb,255:red,184;green,184;blue,218}, value=0.64]|&|[fill={rgb,255:red,234;green,234;blue,222}, value=0.54]|&|[fill={rgb,255:red,234;green,234;blue,222}, value=0.54]| \\\\\n",
      "\\data{\\small{cresci-2015}} & |[fill={rgb,255:red,240;green,240;blue,222}, value=0.53]|&|[fill={rgb,255:red,0;green,0;blue,205}, value=1.0]|&|[fill={rgb,255:red,162;green,162;blue,217}, value=0.68]|&|[fill={rgb,255:red,254;green,254;blue,223}, value=0.5]|&|[fill={rgb,255:red,254;green,254;blue,223}, value=0.5]|&|[fill={rgb,255:red,254;green,254;blue,223}, value=0.5]|&|[fill={rgb,255:red,250;green,250;blue,223}, value=0.51]|&|[fill={rgb,255:red,131;green,131;blue,214}, value=0.74]| \\\\\n",
      "\\data{\\small{cresci-2017}} & |[fill={rgb,255:red,208;green,208;blue,220}, value=0.59]|&|[fill={rgb,255:red,60;green,60;blue,209}, value=0.88]|&|[fill={rgb,255:red,4;green,4;blue,205}, value=0.99]|&|[fill={rgb,255:red,244;green,244;blue,223}, value=0.52]|&|[fill={rgb,255:red,254;green,254;blue,223}, value=0.5]|&|[fill={rgb,255:red,250;green,250;blue,223}, value=0.51]|&|[fill={rgb,255:red,244;green,244;blue,223}, value=0.52]|&|[fill={rgb,255:red,194;green,194;blue,219}, value=0.62]| \\\\\n",
      "\\data{\\small{rtbust-2019}} & |[fill={rgb,255:red,224;green,224;blue,221}, value=0.56]|&|[fill={rgb,255:red,250;green,250;blue,223}, value=0.51]|&|[fill={rgb,255:red,214;green,214;blue,220}, value=0.58]|&|[fill={rgb,255:red,0;green,0;blue,205}, value=1.0]|&|[fill={rgb,255:red,184;green,184;blue,218}, value=0.64]|&|[fill={rgb,255:red,230;green,230;blue,222}, value=0.55]|&|[fill={rgb,255:red,254;green,254;blue,223}, value=0.5]|&|[fill={rgb,255:red,116;green,116;blue,213}, value=0.77]| \\\\\n",
      "\\data{\\small{stock-2018}} & |[fill={rgb,255:red,250;green,250;blue,223}, value=0.51]|&|[fill={rgb,255:red,220;green,220;blue,221}, value=0.57]|&|[fill={rgb,255:red,244;green,244;blue,223}, value=0.52]|&|[fill={rgb,255:red,198;green,198;blue,219}, value=0.61]|&|[fill={rgb,255:red,4;green,4;blue,205}, value=0.99]|&|[fill={rgb,255:red,254;green,254;blue,223}, value=0.5]|&|[fill={rgb,255:red,250;green,250;blue,223}, value=0.51]|&|[fill={rgb,255:red,254;green,254;blue,223}, value=0.5]| \\\\\n",
      "\\data{\\small{gilani-2017}} & |[fill={rgb,255:red,184;green,184;blue,218}, value=0.64]|&|[fill={rgb,255:red,240;green,224;blue,196}, value=0.44]|&|[fill={rgb,255:red,234;green,234;blue,222}, value=0.54]|&|[fill={rgb,255:red,252;green,250;blue,219}, value=0.49]|&|[fill={rgb,255:red,243;green,230;blue,202}, value=0.45]|&|[fill={rgb,255:red,14;green,14;blue,206}, value=0.97]|&|[fill={rgb,255:red,234;green,234;blue,222}, value=0.54]|&|[fill={rgb,255:red,206;green,147;blue,130}, value=0.29]| \\\\\n",
      "\\data{\\small{twibot-2020}} & |[fill={rgb,255:red,230;green,230;blue,222}, value=0.55]|&|[fill={rgb,255:red,224;green,224;blue,221}, value=0.56]|&|[fill={rgb,255:red,194;green,194;blue,219}, value=0.62]|&|[fill={rgb,255:red,245;green,234;blue,205}, value=0.46]|&|[fill={rgb,255:red,249;green,243;blue,214}, value=0.48]|&|[fill={rgb,255:red,220;green,220;blue,221}, value=0.57]|&|[fill={rgb,255:red,4;green,4;blue,205}, value=0.99]|&|[fill={rgb,255:red,224;green,224;blue,221}, value=0.56]| \\\\\n",
      "\\data{\\small{yang-2013}} & |[fill={rgb,255:red,230;green,230;blue,222}, value=0.55]|&|[fill={rgb,255:red,80;green,80;blue,210}, value=0.84]|&|[fill={rgb,255:red,46;green,46;blue,208}, value=0.91]|&|[fill={rgb,255:red,254;green,254;blue,223}, value=0.5]|&|[fill={rgb,255:red,249;green,243;blue,214}, value=0.48]|&|[fill={rgb,255:red,252;green,250;blue,219}, value=0.49]|&|[fill={rgb,255:red,234;green,234;blue,222}, value=0.54]|&|[fill={rgb,255:red,24;green,24;blue,206}, value=0.95]| \\\\\n",
      "};\n",
      "\\node[label={[label distance=0.5cm,text depth=-1ex,rotate=45]left:\\data{\\small{feedback-2019}} }] at (-0.7,-2.4) {};\n",
      "\\node[label={[label distance=0.5cm,text depth=-1ex,rotate=45]left:\\data{\\small{cresci-2015}} }] at (0.0,-2.4) {};\n",
      "\\node[label={[label distance=0.5cm,text depth=-1ex,rotate=45]left:\\data{\\small{cresci-2017}} }] at (0.7,-2.4) {};\n",
      "\\node[label={[label distance=0.5cm,text depth=-1ex,rotate=45]left:\\data{\\small{rtbust-2019}} }] at (1.3999999999999997,-2.4) {};\n",
      "\\node[label={[label distance=0.5cm,text depth=-1ex,rotate=45]left:\\data{\\small{stock-2018}} }] at (2.0999999999999996,-2.4) {};\n",
      "\\node[label={[label distance=0.5cm,text depth=-1ex,rotate=45]left:\\data{\\small{gilani-2017}} }] at (2.8,-2.4) {};\n",
      "\\node[label={[label distance=0.5cm,text depth=-1ex,rotate=45]left:\\data{\\small{twibot-2020}} }] at (3.499999999999999,-2.4) {};\n",
      "\\node[label={[label distance=0.5cm,text depth=-1ex,rotate=45]left:\\data{\\small{yang-2013}} }] at (4.199999999999999,-2.4) {};\n",
      "\\end{tikzpicture}\n",
      "\n",
      "\n"
     ]
    }
   ],
   "source": [
    "print_totoa_matrix(train_on_one_test_on_another_performance_balanced, 'a')\n"
   ]
  },
  {
   "cell_type": "code",
   "execution_count": 75,
   "id": "73be1140",
   "metadata": {},
   "outputs": [],
   "source": [
    "importlib.reload(sys.modules['plotting'])\n",
    "from plotting import heatmap_train_on_one_test_on_another"
   ]
  },
  {
   "cell_type": "code",
   "execution_count": 58,
   "id": "0d689b85",
   "metadata": {},
   "outputs": [
    {
     "ename": "KeyError",
     "evalue": "'a3'",
     "output_type": "error",
     "traceback": [
      "\u001b[0;31m---------------------------------------------------------------------------\u001b[0m",
      "\u001b[0;31mKeyError\u001b[0m                                  Traceback (most recent call last)",
      "\u001b[0;32m~/.local/lib/python3.6/site-packages/pandas/core/indexes/base.py\u001b[0m in \u001b[0;36mget_loc\u001b[0;34m(self, key, method, tolerance)\u001b[0m\n\u001b[1;32m   2897\u001b[0m             \u001b[0;32mtry\u001b[0m\u001b[0;34m:\u001b[0m\u001b[0;34m\u001b[0m\u001b[0;34m\u001b[0m\u001b[0m\n\u001b[0;32m-> 2898\u001b[0;31m                 \u001b[0;32mreturn\u001b[0m \u001b[0mself\u001b[0m\u001b[0;34m.\u001b[0m\u001b[0m_engine\u001b[0m\u001b[0;34m.\u001b[0m\u001b[0mget_loc\u001b[0m\u001b[0;34m(\u001b[0m\u001b[0mcasted_key\u001b[0m\u001b[0;34m)\u001b[0m\u001b[0;34m\u001b[0m\u001b[0;34m\u001b[0m\u001b[0m\n\u001b[0m\u001b[1;32m   2899\u001b[0m             \u001b[0;32mexcept\u001b[0m \u001b[0mKeyError\u001b[0m \u001b[0;32mas\u001b[0m \u001b[0merr\u001b[0m\u001b[0;34m:\u001b[0m\u001b[0;34m\u001b[0m\u001b[0;34m\u001b[0m\u001b[0m\n",
      "\u001b[0;32mpandas/_libs/index.pyx\u001b[0m in \u001b[0;36mpandas._libs.index.IndexEngine.get_loc\u001b[0;34m()\u001b[0m\n",
      "\u001b[0;32mpandas/_libs/index.pyx\u001b[0m in \u001b[0;36mpandas._libs.index.IndexEngine.get_loc\u001b[0;34m()\u001b[0m\n",
      "\u001b[0;32mpandas/_libs/hashtable_class_helper.pxi\u001b[0m in \u001b[0;36mpandas._libs.hashtable.PyObjectHashTable.get_item\u001b[0;34m()\u001b[0m\n",
      "\u001b[0;32mpandas/_libs/hashtable_class_helper.pxi\u001b[0m in \u001b[0;36mpandas._libs.hashtable.PyObjectHashTable.get_item\u001b[0;34m()\u001b[0m\n",
      "\u001b[0;31mKeyError\u001b[0m: 'a3'",
      "\nThe above exception was the direct cause of the following exception:\n",
      "\u001b[0;31mKeyError\u001b[0m                                  Traceback (most recent call last)",
      "\u001b[0;32m<ipython-input-58-37c600ba7652>\u001b[0m in \u001b[0;36m<module>\u001b[0;34m\u001b[0m\n\u001b[1;32m      1\u001b[0m \u001b[0mdepth\u001b[0m\u001b[0;34m=\u001b[0m\u001b[0;36m3\u001b[0m\u001b[0;34m\u001b[0m\u001b[0;34m\u001b[0m\u001b[0m\n\u001b[0;32m----> 2\u001b[0;31m \u001b[0mtootoa_a3\u001b[0m \u001b[0;34m=\u001b[0m \u001b[0mheatmap_train_on_one_test_on_another\u001b[0m\u001b[0;34m(\u001b[0m\u001b[0mtrain_on_one_test_on_another_performance\u001b[0m\u001b[0;34m,\u001b[0m \u001b[0;34m'accuracy'\u001b[0m\u001b[0;34m,\u001b[0m \u001b[0mdepth\u001b[0m\u001b[0;34m)\u001b[0m\u001b[0;34m\u001b[0m\u001b[0;34m\u001b[0m\u001b[0m\n\u001b[0m\u001b[1;32m      3\u001b[0m \u001b[0mtootoa_a3\u001b[0m\u001b[0;34m.\u001b[0m\u001b[0mto_csv\u001b[0m\u001b[0;34m(\u001b[0m\u001b[0;34mf\"tootoa_a{depth}.csv\"\u001b[0m\u001b[0;34m)\u001b[0m\u001b[0;34m\u001b[0m\u001b[0;34m\u001b[0m\u001b[0m\n",
      "\u001b[0;32m~/bot-detection/plotting.py\u001b[0m in \u001b[0;36mheatmap_train_on_one_test_on_another\u001b[0;34m(df, metric_name, depth)\u001b[0m\n\u001b[1;32m     24\u001b[0m             \u001b[0mmetric\u001b[0m \u001b[0;34m=\u001b[0m \u001b[0mdf\u001b[0m\u001b[0;34m[\u001b[0m\u001b[0;34m(\u001b[0m\u001b[0mdf\u001b[0m\u001b[0;34m[\u001b[0m\u001b[0;34m'train_on'\u001b[0m\u001b[0;34m]\u001b[0m \u001b[0;34m==\u001b[0m \u001b[0mtick_labels\u001b[0m\u001b[0;34m[\u001b[0m\u001b[0mi\u001b[0m\u001b[0;34m]\u001b[0m\u001b[0;34m)\u001b[0m \u001b[0;34m&\u001b[0m \u001b[0;34m(\u001b[0m\u001b[0mdf\u001b[0m\u001b[0;34m[\u001b[0m\u001b[0;34m'test_on'\u001b[0m\u001b[0;34m]\u001b[0m \u001b[0;34m==\u001b[0m \u001b[0mtick_labels\u001b[0m\u001b[0;34m[\u001b[0m\u001b[0mj\u001b[0m\u001b[0;34m]\u001b[0m\u001b[0;34m)\u001b[0m\u001b[0;34m]\u001b[0m\u001b[0;34m\u001b[0m\u001b[0;34m\u001b[0m\u001b[0m\n\u001b[1;32m     25\u001b[0m             \u001b[0;32mif\u001b[0m \u001b[0mmetric_name\u001b[0m \u001b[0;34m==\u001b[0m \u001b[0;34m\"accuracy\"\u001b[0m\u001b[0;34m:\u001b[0m\u001b[0;34m\u001b[0m\u001b[0;34m\u001b[0m\u001b[0m\n\u001b[0;32m---> 26\u001b[0;31m                 \u001b[0mmetric\u001b[0m \u001b[0;34m=\u001b[0m \u001b[0mmetric\u001b[0m\u001b[0;34m[\u001b[0m\u001b[0;34mf'a{depth}'\u001b[0m\u001b[0;34m]\u001b[0m\u001b[0;34m.\u001b[0m\u001b[0mvalues\u001b[0m\u001b[0;34m[\u001b[0m\u001b[0;36m0\u001b[0m\u001b[0;34m]\u001b[0m\u001b[0;34m\u001b[0m\u001b[0;34m\u001b[0m\u001b[0m\n\u001b[0m\u001b[1;32m     27\u001b[0m             \u001b[0;32mif\u001b[0m \u001b[0mmetric_name\u001b[0m \u001b[0;34m==\u001b[0m \u001b[0;34m\"f1\"\u001b[0m\u001b[0;34m:\u001b[0m\u001b[0;34m\u001b[0m\u001b[0;34m\u001b[0m\u001b[0m\n\u001b[1;32m     28\u001b[0m                 \u001b[0mmetric\u001b[0m \u001b[0;34m=\u001b[0m \u001b[0mmetric\u001b[0m\u001b[0;34m[\u001b[0m\u001b[0;34mf'f{depth}'\u001b[0m\u001b[0;34m]\u001b[0m\u001b[0;34m.\u001b[0m\u001b[0mvalues\u001b[0m\u001b[0;34m[\u001b[0m\u001b[0;36m0\u001b[0m\u001b[0;34m]\u001b[0m\u001b[0;34m\u001b[0m\u001b[0;34m\u001b[0m\u001b[0m\n",
      "\u001b[0;32m~/.local/lib/python3.6/site-packages/pandas/core/frame.py\u001b[0m in \u001b[0;36m__getitem__\u001b[0;34m(self, key)\u001b[0m\n\u001b[1;32m   2904\u001b[0m             \u001b[0;32mif\u001b[0m \u001b[0mself\u001b[0m\u001b[0;34m.\u001b[0m\u001b[0mcolumns\u001b[0m\u001b[0;34m.\u001b[0m\u001b[0mnlevels\u001b[0m \u001b[0;34m>\u001b[0m \u001b[0;36m1\u001b[0m\u001b[0;34m:\u001b[0m\u001b[0;34m\u001b[0m\u001b[0;34m\u001b[0m\u001b[0m\n\u001b[1;32m   2905\u001b[0m                 \u001b[0;32mreturn\u001b[0m \u001b[0mself\u001b[0m\u001b[0;34m.\u001b[0m\u001b[0m_getitem_multilevel\u001b[0m\u001b[0;34m(\u001b[0m\u001b[0mkey\u001b[0m\u001b[0;34m)\u001b[0m\u001b[0;34m\u001b[0m\u001b[0;34m\u001b[0m\u001b[0m\n\u001b[0;32m-> 2906\u001b[0;31m             \u001b[0mindexer\u001b[0m \u001b[0;34m=\u001b[0m \u001b[0mself\u001b[0m\u001b[0;34m.\u001b[0m\u001b[0mcolumns\u001b[0m\u001b[0;34m.\u001b[0m\u001b[0mget_loc\u001b[0m\u001b[0;34m(\u001b[0m\u001b[0mkey\u001b[0m\u001b[0;34m)\u001b[0m\u001b[0;34m\u001b[0m\u001b[0;34m\u001b[0m\u001b[0m\n\u001b[0m\u001b[1;32m   2907\u001b[0m             \u001b[0;32mif\u001b[0m \u001b[0mis_integer\u001b[0m\u001b[0;34m(\u001b[0m\u001b[0mindexer\u001b[0m\u001b[0;34m)\u001b[0m\u001b[0;34m:\u001b[0m\u001b[0;34m\u001b[0m\u001b[0;34m\u001b[0m\u001b[0m\n\u001b[1;32m   2908\u001b[0m                 \u001b[0mindexer\u001b[0m \u001b[0;34m=\u001b[0m \u001b[0;34m[\u001b[0m\u001b[0mindexer\u001b[0m\u001b[0;34m]\u001b[0m\u001b[0;34m\u001b[0m\u001b[0;34m\u001b[0m\u001b[0m\n",
      "\u001b[0;32m~/.local/lib/python3.6/site-packages/pandas/core/indexes/base.py\u001b[0m in \u001b[0;36mget_loc\u001b[0;34m(self, key, method, tolerance)\u001b[0m\n\u001b[1;32m   2898\u001b[0m                 \u001b[0;32mreturn\u001b[0m \u001b[0mself\u001b[0m\u001b[0;34m.\u001b[0m\u001b[0m_engine\u001b[0m\u001b[0;34m.\u001b[0m\u001b[0mget_loc\u001b[0m\u001b[0;34m(\u001b[0m\u001b[0mcasted_key\u001b[0m\u001b[0;34m)\u001b[0m\u001b[0;34m\u001b[0m\u001b[0;34m\u001b[0m\u001b[0m\n\u001b[1;32m   2899\u001b[0m             \u001b[0;32mexcept\u001b[0m \u001b[0mKeyError\u001b[0m \u001b[0;32mas\u001b[0m \u001b[0merr\u001b[0m\u001b[0;34m:\u001b[0m\u001b[0;34m\u001b[0m\u001b[0;34m\u001b[0m\u001b[0m\n\u001b[0;32m-> 2900\u001b[0;31m                 \u001b[0;32mraise\u001b[0m \u001b[0mKeyError\u001b[0m\u001b[0;34m(\u001b[0m\u001b[0mkey\u001b[0m\u001b[0;34m)\u001b[0m \u001b[0;32mfrom\u001b[0m \u001b[0merr\u001b[0m\u001b[0;34m\u001b[0m\u001b[0;34m\u001b[0m\u001b[0m\n\u001b[0m\u001b[1;32m   2901\u001b[0m \u001b[0;34m\u001b[0m\u001b[0m\n\u001b[1;32m   2902\u001b[0m         \u001b[0;32mif\u001b[0m \u001b[0mtolerance\u001b[0m \u001b[0;32mis\u001b[0m \u001b[0;32mnot\u001b[0m \u001b[0;32mNone\u001b[0m\u001b[0;34m:\u001b[0m\u001b[0;34m\u001b[0m\u001b[0;34m\u001b[0m\u001b[0m\n",
      "\u001b[0;31mKeyError\u001b[0m: 'a3'"
     ]
    }
   ],
   "source": [
    "tootoa_a3 = heatmap_train_on_one_test_on_another(train_on_one_test_on_another_performance, 'accuracy', \"rf\")\n",
    "tootoa_a3.to_csv(f\"tootoa_a{depth}.csv\")"
   ]
  },
  {
   "cell_type": "code",
   "execution_count": null,
   "id": "0c8e6711",
   "metadata": {},
   "outputs": [],
   "source": [
    "depth=3\n",
    "tootoa_f = heatmap_train_on_one_test_on_another(train_on_one_test_on_another_performance, 'f1', \"rf\")\n",
    "tootoa_f.to_csv(f\"tootoa_f{depth}.csv\")"
   ]
  },
  {
   "cell_type": "markdown",
   "id": "985dbcdf",
   "metadata": {},
   "source": [
    "# Leave-one-dataset-out"
   ]
  },
  {
   "cell_type": "code",
   "execution_count": 111,
   "id": "e9f9b6e3",
   "metadata": {},
   "outputs": [],
   "source": [
    "rows = []\n",
    "\n",
    "for i in range(len(datasets)):\n",
    "    rf = ensemble.RandomForestClassifier()\n",
    "    rows.append(leave_dataset_out(i, datasets, dataset_names, labels, method=rf))\n",
    "    \n",
    "leave_one_out_scores = pd.DataFrame(rows)"
   ]
  },
  {
   "cell_type": "code",
   "execution_count": 115,
   "id": "a4e56bc8",
   "metadata": {},
   "outputs": [
    {
     "data": {
      "text/plain": [
       "<module 'plotting' from '/home/jhays/bot-detection/plotting.py'>"
      ]
     },
     "execution_count": 115,
     "metadata": {},
     "output_type": "execute_result"
    }
   ],
   "source": [
    "importlib.reload(sys.modules['print_table'])\n",
    "importlib.reload(sys.modules['leaveonedatasetout'])\n",
    "importlib.reload(sys.modules['plotting'])"
   ]
  },
  {
   "cell_type": "code",
   "execution_count": 116,
   "id": "64c1915f",
   "metadata": {},
   "outputs": [],
   "source": [
    "from print_table import print_leave_one_out_table\n",
    "from leaveonedatasetout import leave_dataset_out\n"
   ]
  },
  {
   "cell_type": "code",
   "execution_count": 117,
   "id": "f54e706b",
   "metadata": {
    "scrolled": true
   },
   "outputs": [
    {
     "name": "stdout",
     "output_type": "stream",
     "text": [
      "twibot-2020 & 0.45/0.18/0.50 \\\\\n",
      "feedback-2019 & 0.65/0.40/0.57 \\\\\n",
      "rtbust-2019 & 0.54/0.36/0.55 \\\\\n",
      "gilani-2017 & 0.56/0.11/0.50 \\\\\n",
      "cresci-2017 & 0.77/0.83/0.76 \\\\\n",
      "cresci-2015 & 0.91/0.94/0.89 \\\\\n",
      "stock-2018 & 0.66/0.66/0.66 \\\\\n",
      "yang-2013 & 0.32/0.21/0.67 \\\\\n"
     ]
    }
   ],
   "source": [
    "print_leave_one_out_table(leave_one_out_scores, random_forest=True)"
   ]
  },
  {
   "cell_type": "markdown",
   "id": "728289e1",
   "metadata": {},
   "source": [
    "## Analysis of each of the specialized classifiers in Botometer"
   ]
  },
  {
   "cell_type": "code",
   "execution_count": 118,
   "id": "30fd6d27",
   "metadata": {},
   "outputs": [],
   "source": [
    "def get_columns(df):\n",
    "    return df.columns[~df.columns.str.contains('location') & ~df.columns.str.contains('utc') & ~df.columns.str.contains('time_zone')& ~df.columns.str.contains('lang')]\n"
   ]
  },
  {
   "cell_type": "markdown",
   "id": "d0e56279",
   "metadata": {},
   "source": [
    "\n",
    "### humans"
   ]
  },
  {
   "cell_type": "code",
   "execution_count": 130,
   "id": "2dd01a27",
   "metadata": {},
   "outputs": [],
   "source": [
    "human_df_list = load_human_dataset_list()\n",
    "human_df, human_dataset_class_labels = get_intraclass_labels(human_df_list)\n"
   ]
  },
  {
   "cell_type": "code",
   "execution_count": 163,
   "id": "f1264052",
   "metadata": {
    "scrolled": true
   },
   "outputs": [
    {
     "name": "stdout",
     "output_type": "stream",
     "text": [
      "Starting train_test_fit_and_score_clf at 10/09/22 01:03:00\n",
      "|--- followers_count <= 10696.00\n",
      "|   |--- friends_count <= 0.50\n",
      "|   |   |--- statuses_count <= 93.50\n",
      "|   |   |   |--- weights: [146.00, 0.00, 1.00, 8.00, 2.00] class: 0\n",
      "|   |   |--- statuses_count >  93.50\n",
      "|   |   |   |--- weights: [227.00, 2.00, 1.00, 12.00, 1459.00] class: 4\n",
      "|   |--- friends_count >  0.50\n",
      "|   |   |--- statuses_count <= 10714.50\n",
      "|   |   |   |--- weights: [14315.00, 190.00, 128.00, 94.00, 2201.00] class: 0\n",
      "|   |   |--- statuses_count >  10714.50\n",
      "|   |   |   |--- weights: [639.00, 66.00, 21.00, 329.00, 1172.00] class: 4\n",
      "|--- followers_count >  10696.00\n",
      "|   |--- followers_count <= 208160.50\n",
      "|   |   |--- statuses_count <= 36848.00\n",
      "|   |   |   |--- weights: [76.00, 23.00, 763.00, 220.00, 39.00] class: 2\n",
      "|   |   |--- statuses_count >  36848.00\n",
      "|   |   |   |--- weights: [6.00, 12.00, 65.00, 161.00, 50.00] class: 3\n",
      "|   |--- followers_count >  208160.50\n",
      "|   |   |--- statuses_count <= 12982.50\n",
      "|   |   |   |--- weights: [1.00, 2.00, 2217.00, 109.00, 2.00] class: 2\n",
      "|   |   |--- statuses_count >  12982.50\n",
      "|   |   |   |--- weights: [1.00, 10.00, 1534.00, 214.00, 10.00] class: 2\n",
      "\n",
      "Accuracy: 0.8207447610432685\n",
      "Precision -1\n",
      "Recall: -1\n",
      "F1: -1\n",
      "Finished train_test_fit_and_score_clf at 1665291780.679113. Execution time: 0.0849764347076416 s\n"
     ]
    }
   ],
   "source": [
    "human_acc, _, _, human_f1 = train_test_fit_and_score(human_df.drop(['created_at'], axis=1), human_dataset_class_labels, depth=3, silent=False, prec_rec=False, balance=False)\n"
   ]
  },
  {
   "cell_type": "code",
   "execution_count": 164,
   "id": "05456c54",
   "metadata": {},
   "outputs": [
    {
     "name": "stdout",
     "output_type": "stream",
     "text": [
      "Starting train_test_fit_and_score_clf at 10/09/22 01:03:10\n",
      "|--- followers_count <= 13262.00\n",
      "|   |--- followers_count <= 753.50\n",
      "|   |   |--- friends_count <= 0.50\n",
      "|   |   |   |--- weights: [8.00, 0.00, 0.00, 2.00, 86.00] class: 4\n",
      "|   |   |--- friends_count >  0.50\n",
      "|   |   |   |--- weights: [267.00, 158.00, 1.00, 13.00, 170.00] class: 0\n",
      "|   |--- followers_count >  753.50\n",
      "|   |   |--- friends_count <= 2322.50\n",
      "|   |   |   |--- weights: [21.00, 58.00, 11.00, 102.00, 46.00] class: 3\n",
      "|   |   |--- friends_count >  2322.50\n",
      "|   |   |   |--- weights: [5.00, 42.00, 0.00, 0.00, 5.00] class: 1\n",
      "|--- followers_count >  13262.00\n",
      "|   |--- followers_count <= 211424.50\n",
      "|   |   |--- statuses_count <= 15204.50\n",
      "|   |   |   |--- weights: [3.00, 13.00, 45.00, 24.00, 1.00] class: 2\n",
      "|   |   |--- statuses_count >  15204.50\n",
      "|   |   |   |--- weights: [0.00, 14.00, 10.00, 74.00, 4.00] class: 3\n",
      "|   |--- followers_count >  211424.50\n",
      "|   |   |--- statuses_count <= 13698.00\n",
      "|   |   |   |--- weights: [0.00, 3.00, 147.00, 27.00, 0.00] class: 2\n",
      "|   |   |--- statuses_count >  13698.00\n",
      "|   |   |   |--- weights: [0.00, 8.00, 92.00, 59.00, 1.00] class: 2\n",
      "\n",
      "Accuracy: 0.5552631578947368\n",
      "Precision -1\n",
      "Recall: -1\n",
      "F1: -1\n",
      "Finished train_test_fit_and_score_clf at 1665291790.9049942. Execution time: 0.04866480827331543 s\n"
     ]
    }
   ],
   "source": [
    "human_bacc, *_ = train_test_fit_and_score(human_df.drop(['created_at'], axis=1), human_dataset_class_labels, depth=3, silent=False, prec_rec=False, balance=True)\n"
   ]
  },
  {
   "cell_type": "markdown",
   "id": "72f2aa5b",
   "metadata": {},
   "source": [
    "### simple bots"
   ]
  },
  {
   "cell_type": "code",
   "execution_count": 133,
   "id": "81502861",
   "metadata": {
    "ExecuteTime": {
     "end_time": "2022-05-25T14:27:24.656045Z",
     "start_time": "2022-05-25T14:27:24.652694Z"
    }
   },
   "outputs": [
    {
     "data": {
      "text/html": [
       "<div>\n",
       "<style scoped>\n",
       "    .dataframe tbody tr th:only-of-type {\n",
       "        vertical-align: middle;\n",
       "    }\n",
       "\n",
       "    .dataframe tbody tr th {\n",
       "        vertical-align: top;\n",
       "    }\n",
       "\n",
       "    .dataframe thead th {\n",
       "        text-align: right;\n",
       "    }\n",
       "</style>\n",
       "<table border=\"1\" class=\"dataframe\">\n",
       "  <thead>\n",
       "    <tr style=\"text-align: right;\">\n",
       "      <th></th>\n",
       "      <th>created_at</th>\n",
       "      <th>friends_count</th>\n",
       "      <th>followers_count</th>\n",
       "      <th>statuses_count</th>\n",
       "      <th>LengthOfScreenName</th>\n",
       "      <th>LengthOfDescriptionInUserProfile</th>\n",
       "    </tr>\n",
       "  </thead>\n",
       "  <tbody>\n",
       "    <tr>\n",
       "      <th>0</th>\n",
       "      <td>1.158556e+09</td>\n",
       "      <td>3269</td>\n",
       "      <td>3071</td>\n",
       "      <td>861</td>\n",
       "      <td>8</td>\n",
       "      <td>132</td>\n",
       "    </tr>\n",
       "    <tr>\n",
       "      <th>1</th>\n",
       "      <td>1.161974e+09</td>\n",
       "      <td>1949</td>\n",
       "      <td>793</td>\n",
       "      <td>226</td>\n",
       "      <td>9</td>\n",
       "      <td>134</td>\n",
       "    </tr>\n",
       "    <tr>\n",
       "      <th>2</th>\n",
       "      <td>1.162133e+09</td>\n",
       "      <td>1119</td>\n",
       "      <td>9644</td>\n",
       "      <td>38674</td>\n",
       "      <td>12</td>\n",
       "      <td>158</td>\n",
       "    </tr>\n",
       "    <tr>\n",
       "      <th>3</th>\n",
       "      <td>1.168796e+09</td>\n",
       "      <td>2174</td>\n",
       "      <td>6029</td>\n",
       "      <td>12718</td>\n",
       "      <td>11</td>\n",
       "      <td>121</td>\n",
       "    </tr>\n",
       "    <tr>\n",
       "      <th>4</th>\n",
       "      <td>1.169954e+09</td>\n",
       "      <td>7731</td>\n",
       "      <td>7029</td>\n",
       "      <td>873</td>\n",
       "      <td>6</td>\n",
       "      <td>70</td>\n",
       "    </tr>\n",
       "    <tr>\n",
       "      <th>...</th>\n",
       "      <td>...</td>\n",
       "      <td>...</td>\n",
       "      <td>...</td>\n",
       "      <td>...</td>\n",
       "      <td>...</td>\n",
       "      <td>...</td>\n",
       "    </tr>\n",
       "    <tr>\n",
       "      <th>22218</th>\n",
       "      <td>1.280721e+09</td>\n",
       "      <td>63</td>\n",
       "      <td>10</td>\n",
       "      <td>29</td>\n",
       "      <td>12</td>\n",
       "      <td>0</td>\n",
       "    </tr>\n",
       "    <tr>\n",
       "      <th>22219</th>\n",
       "      <td>1.280722e+09</td>\n",
       "      <td>83</td>\n",
       "      <td>10</td>\n",
       "      <td>35</td>\n",
       "      <td>8</td>\n",
       "      <td>0</td>\n",
       "    </tr>\n",
       "    <tr>\n",
       "      <th>22220</th>\n",
       "      <td>1.280723e+09</td>\n",
       "      <td>67</td>\n",
       "      <td>9</td>\n",
       "      <td>21</td>\n",
       "      <td>13</td>\n",
       "      <td>0</td>\n",
       "    </tr>\n",
       "    <tr>\n",
       "      <th>22221</th>\n",
       "      <td>1.280724e+09</td>\n",
       "      <td>35</td>\n",
       "      <td>4</td>\n",
       "      <td>17</td>\n",
       "      <td>12</td>\n",
       "      <td>0</td>\n",
       "    </tr>\n",
       "    <tr>\n",
       "      <th>22222</th>\n",
       "      <td>1.280736e+09</td>\n",
       "      <td>12</td>\n",
       "      <td>0</td>\n",
       "      <td>1</td>\n",
       "      <td>13</td>\n",
       "      <td>0</td>\n",
       "    </tr>\n",
       "  </tbody>\n",
       "</table>\n",
       "<p>22223 rows × 6 columns</p>\n",
       "</div>"
      ],
      "text/plain": [
       "         created_at  friends_count  followers_count  statuses_count  \\\n",
       "0      1.158556e+09           3269             3071             861   \n",
       "1      1.161974e+09           1949              793             226   \n",
       "2      1.162133e+09           1119             9644           38674   \n",
       "3      1.168796e+09           2174             6029           12718   \n",
       "4      1.169954e+09           7731             7029             873   \n",
       "...             ...            ...              ...             ...   \n",
       "22218  1.280721e+09             63               10              29   \n",
       "22219  1.280722e+09             83               10              35   \n",
       "22220  1.280723e+09             67                9              21   \n",
       "22221  1.280724e+09             35                4              17   \n",
       "22222  1.280736e+09             12                0               1   \n",
       "\n",
       "       LengthOfScreenName  LengthOfDescriptionInUserProfile  \n",
       "0                       8                               132  \n",
       "1                       9                               134  \n",
       "2                      12                               158  \n",
       "3                      11                               121  \n",
       "4                       6                                70  \n",
       "...                   ...                               ...  \n",
       "22218                  12                                 0  \n",
       "22219                   8                                 0  \n",
       "22220                  13                                 0  \n",
       "22221                  12                                 0  \n",
       "22222                  13                                 0  \n",
       "\n",
       "[22223 rows x 6 columns]"
      ]
     },
     "execution_count": 133,
     "metadata": {},
     "output_type": "execute_result"
    }
   ],
   "source": [
    "\n",
    "simple_df = caverlee_2011[caverlee_2011_labels.values == 1].rename(columns={'CreatedAt': 'created_at', 'NumerOfFollowings': 'friends_count', 'NumberOfFollowers': 'followers_count', \"NumberOfTweets\": 'statuses_count'})\n",
    "simple_df\n"
   ]
  },
  {
   "cell_type": "code",
   "execution_count": 135,
   "id": "3a9b1b2e",
   "metadata": {},
   "outputs": [
    {
     "data": {
      "text/plain": [
       "Index(['created_at', 'friends_count', 'followers_count', 'statuses_count',\n",
       "       'LengthOfScreenName', 'LengthOfDescriptionInUserProfile'],\n",
       "      dtype='object')"
      ]
     },
     "execution_count": 135,
     "metadata": {},
     "output_type": "execute_result"
    }
   ],
   "source": [
    "simple_df.columns"
   ]
  },
  {
   "cell_type": "markdown",
   "id": "5b8a7dbd",
   "metadata": {},
   "source": [
    "### spammers"
   ]
  },
  {
   "cell_type": "code",
   "execution_count": 176,
   "id": "41457440",
   "metadata": {},
   "outputs": [
    {
     "name": "stdout",
     "output_type": "stream",
     "text": [
      "Starting train_test_fit_and_score_clf at 10/09/22 01:13:46\n",
      "|--- favourites_count <= 13.50\n",
      "|   |--- followers_count <= 15.50\n",
      "|   |   |--- friends_count <= 23.50\n",
      "|   |   |   |--- time_zone_Athens <= 0.50\n",
      "|   |   |   |   |--- weights: [1.00, 8.00, 4.00, 0.00, 0.00, 68.00, 0.00, 30.00] class: 5\n",
      "|   |   |   |--- time_zone_Athens >  0.50\n",
      "|   |   |   |   |--- weights: [318.00, 0.00, 0.00, 0.00, 0.00, 0.00, 0.00, 0.00] class: 0\n",
      "|   |   |--- friends_count >  23.50\n",
      "|   |   |   |--- statuses_count <= 97.50\n",
      "|   |   |   |   |--- weights: [0.00, 2706.00, 2.00, 4.00, 0.00, 1.00, 0.00, 1.00] class: 1\n",
      "|   |   |   |--- statuses_count >  97.50\n",
      "|   |   |   |   |--- weights: [4.00, 3.00, 1.00, 0.00, 0.00, 7.00, 0.00, 1.00] class: 5\n",
      "|   |--- followers_count >  15.50\n",
      "|   |   |--- lang_en <= 0.50\n",
      "|   |   |   |--- lang_it <= 0.50\n",
      "|   |   |   |   |--- weights: [0.00, 0.00, 1.00, 791.00, 56.00, 0.00, 0.00, 10.00] class: 3\n",
      "|   |   |   |--- lang_it >  0.50\n",
      "|   |   |   |   |--- weights: [397.00, 0.00, 0.00, 0.00, 0.00, 0.00, 0.00, 1.00] class: 0\n",
      "|   |   |--- lang_en >  0.50\n",
      "|   |   |   |--- statuses_count <= 889.50\n",
      "|   |   |   |   |--- weights: [30.00, 61.00, 7.00, 0.00, 22.00, 62.00, 886.00, 30.00] class: 6\n",
      "|   |   |   |--- statuses_count >  889.50\n",
      "|   |   |   |   |--- weights: [37.00, 0.00, 342.00, 0.00, 0.00, 164.00, 7.00, 1.00] class: 2\n",
      "|--- favourites_count >  13.50\n",
      "|   |--- followers_count <= 510.00\n",
      "|   |   |--- listed_count <= 4.50\n",
      "|   |   |   |--- statuses_count <= 9003.50\n",
      "|   |   |   |   |--- weights: [5.00, 1.00, 4.00, 0.00, 0.00, 1.00, 0.00, 14078.00] class: 7\n",
      "|   |   |   |--- statuses_count >  9003.50\n",
      "|   |   |   |   |--- weights: [3.00, 1.00, 0.00, 0.00, 0.00, 1.00, 0.00, 32.00] class: 7\n",
      "|   |   |--- listed_count >  4.50\n",
      "|   |   |   |--- favourites_count <= 62.50\n",
      "|   |   |   |   |--- weights: [0.00, 0.00, 0.00, 3.00, 0.00, 29.00, 0.00, 3.00] class: 5\n",
      "|   |   |   |--- favourites_count >  62.50\n",
      "|   |   |   |   |--- weights: [1.00, 1.00, 3.00, 0.00, 0.00, 3.00, 0.00, 65.00] class: 7\n",
      "|   |--- followers_count >  510.00\n",
      "|   |   |--- lang_it <= 0.50\n",
      "|   |   |   |--- statuses_count <= 15343.50\n",
      "|   |   |   |   |--- weights: [2.00, 1.00, 7.00, 7.00, 0.00, 0.00, 0.00, 0.00] class: 2\n",
      "|   |   |   |--- statuses_count >  15343.50\n",
      "|   |   |   |   |--- weights: [0.00, 10.00, 0.00, 1.00, 0.00, 3.00, 0.00, 0.00] class: 1\n",
      "|   |   |--- lang_it >  0.50\n",
      "|   |   |   |--- weights: [11.00, 0.00, 0.00, 0.00, 0.00, 0.00, 0.00, 0.00] class: 0\n",
      "\n",
      "Accuracy: 0.9724680432645034\n",
      "Precision -1\n",
      "Recall: -1\n",
      "F1: -1\n",
      "Finished train_test_fit_and_score_clf at 1665292426.7351043. Execution time: 0.17130684852600098 s\n"
     ]
    }
   ],
   "source": [
    "spammers_intradataset, spammers_labels, spammers_n_datasets = load_spammers(intradataset=True)\n",
    "spammers_acc, _, _, spammers_f1 = train_test_fit_and_score(spammers_intradataset, spammers_labels, depth=4, silent=False, prec_rec=False, balance=False)\n"
   ]
  },
  {
   "cell_type": "code",
   "execution_count": 246,
   "id": "89c2a812",
   "metadata": {},
   "outputs": [
    {
     "name": "stdout",
     "output_type": "stream",
     "text": [
      "Starting train_test_fit_and_score_clf at 10/09/22 01:48:30\n",
      "|--- time_zone_Hawaii <= 0.50\n",
      "|   |--- favourites_count <= 34.00\n",
      "|   |   |--- lang_it <= 0.50\n",
      "|   |   |   |--- friends_count <= 166.50\n",
      "|   |   |   |   |--- weights: [1.00, 79.00, 0.00, 1.00, 0.00, 66.00, 0.00, 1.00] class: 1\n",
      "|   |   |   |--- friends_count >  166.50\n",
      "|   |   |   |   |--- weights: [8.00, 0.00, 78.00, 81.00, 0.00, 9.00, 78.00, 0.00] class: 3\n",
      "|   |   |--- lang_it >  0.50\n",
      "|   |   |   |--- weights: [77.00, 0.00, 0.00, 0.00, 0.00, 0.00, 0.00, 0.00] class: 0\n",
      "|   |--- favourites_count >  34.00\n",
      "|   |   |--- listed_count <= 3.50\n",
      "|   |   |   |--- weights: [0.00, 0.00, 0.00, 0.00, 0.00, 0.00, 0.00, 81.00] class: 7\n",
      "|   |   |--- listed_count >  3.50\n",
      "|   |   |   |--- lang_en-gb <= 0.50\n",
      "|   |   |   |   |--- weights: [0.00, 0.00, 0.00, 0.00, 0.00, 2.00, 0.00, 0.00] class: 5\n",
      "|   |   |   |--- lang_en-gb >  0.50\n",
      "|   |   |   |   |--- weights: [0.00, 0.00, 1.00, 0.00, 0.00, 0.00, 0.00, 0.00] class: 2\n",
      "|--- time_zone_Hawaii >  0.50\n",
      "|   |--- weights: [0.00, 0.00, 0.00, 0.00, 77.00, 0.00, 0.00, 0.00] class: 4\n",
      "\n",
      "Accuracy: 0.55625\n",
      "Precision -1\n",
      "Recall: -1\n",
      "F1: -1\n",
      "Finished train_test_fit_and_score_clf at 1665294510.1920955. Execution time: 0.03103184700012207 s\n"
     ]
    }
   ],
   "source": [
    "spammers_df, spammers_labels = load_spammers(intradataset=True, balance=True)\n",
    "spammers_bacc, *_ = train_test_fit_and_score(spammers_intradataset, spammers_labels, depth=4, silent=False, prec_rec=False, balance=True)\n"
   ]
  },
  {
   "cell_type": "markdown",
   "id": "efe9eb6c",
   "metadata": {},
   "source": [
    "### fake followers"
   ]
  },
  {
   "cell_type": "code",
   "execution_count": 215,
   "id": "506e2064",
   "metadata": {},
   "outputs": [
    {
     "data": {
      "text/plain": [
       "<module 'fit_and_score' from '/home/jhays/bot-detection/fit_and_score.py'>"
      ]
     },
     "execution_count": 215,
     "metadata": {},
     "output_type": "execute_result"
    }
   ],
   "source": [
    "importlib.reload(sys.modules['data_accessor'])\n",
    "\n",
    "importlib.reload(sys.modules['fit_and_score'])\n",
    "\n"
   ]
  },
  {
   "cell_type": "code",
   "execution_count": 216,
   "id": "e0a2b45e",
   "metadata": {},
   "outputs": [],
   "source": [
    "from data_accessor import load_other_bots"
   ]
  },
  {
   "cell_type": "code",
   "execution_count": 188,
   "id": "0fa31458",
   "metadata": {},
   "outputs": [
    {
     "name": "stdout",
     "output_type": "stream",
     "text": [
      "Starting train_test_fit_and_score_clf at 10/09/22 01:17:23\n",
      "|--- profile_use_background_image_True <= 0.50\n",
      "|   |--- weights: [97.00, 2690.00] class: 1\n",
      "|--- profile_use_background_image_True >  0.50\n",
      "|   |--- weights: [763.00, 0.00] class: 0\n",
      "\n",
      "Accuracy: 0.9718468468468469\n",
      "Precision -1\n",
      "Recall: -1\n",
      "F1: -1\n",
      "Finished train_test_fit_and_score_clf at 1665292643.8432705. Execution time: 0.07351279258728027 s\n"
     ]
    }
   ],
   "source": [
    "fake_followers_df, fake_followers_labels, ff_n_datasets = load_fake_followers(intradataset=True)\n",
    "ff_acc, _, _, ff_f1 = train_test_fit_and_score(fake_followers_df.drop(['created_at'], axis=1), fake_followers_labels, depth=1, silent=False, prec_rec=False)\n"
   ]
  },
  {
   "cell_type": "code",
   "execution_count": 198,
   "id": "8ecdfc32",
   "metadata": {},
   "outputs": [
    {
     "name": "stdout",
     "output_type": "stream",
     "text": [
      "Starting train_test_fit_and_score_clf at 10/09/22 01:19:15\n",
      "|--- favourites_count <= 3.50\n",
      "|   |--- weights: [50.00, 828.00] class: 1\n",
      "|--- favourites_count >  3.50\n",
      "|   |--- weights: [819.00, 42.00] class: 0\n",
      "\n",
      "Accuracy: 0.9517241379310345\n",
      "Precision -1\n",
      "Recall: -1\n",
      "F1: -1\n",
      "Finished train_test_fit_and_score_clf at 1665292755.2653124. Execution time: 0.02261972427368164 s\n"
     ]
    }
   ],
   "source": [
    "fake_followers_df, fake_followers_labels, ff_n_datasets = load_fake_followers(intradataset=True, balance=True)\n",
    "\n",
    "ff_bacc, *_ = train_test_fit_and_score(fake_followers_df, fake_followers_labels, depth=1, silent=False, prec_rec=False)\n"
   ]
  },
  {
   "cell_type": "markdown",
   "id": "19a78651",
   "metadata": {},
   "source": [
    "### self-declared"
   ]
  },
  {
   "cell_type": "code",
   "execution_count": 143,
   "id": "a9928b06",
   "metadata": {},
   "outputs": [],
   "source": [
    "botwiki_df, self_declared_df, botwiki_labels = load_dataset(PROJ_PATH + \"/data/botwiki-2019_tweets.json\", PROJ_PATH + \"/data/botwiki-2019.tsv\")\n"
   ]
  },
  {
   "cell_type": "markdown",
   "id": "377d5b56",
   "metadata": {},
   "source": [
    "### political bots"
   ]
  },
  {
   "cell_type": "code",
   "execution_count": 144,
   "id": "ed0beee4",
   "metadata": {},
   "outputs": [],
   "source": [
    "political_bots, political_bots_df, political_bots_labels = load_dataset(PROJ_PATH + \"/data/political-bots-2019/political-bots-2019_tweets.json\", PROJ_PATH + \"/data/political-bots-2019/political-bots-2019.tsv\")\n"
   ]
  },
  {
   "cell_type": "markdown",
   "id": "7862d335",
   "metadata": {},
   "source": [
    "### other bots"
   ]
  },
  {
   "cell_type": "code",
   "execution_count": 217,
   "id": "e5802c74",
   "metadata": {},
   "outputs": [
    {
     "name": "stdout",
     "output_type": "stream",
     "text": [
      "Starting train_test_fit_and_score_clf at 10/09/22 01:31:12\n",
      "|--- followers_count <= 768.00\n",
      "|   |--- lang_it <= 0.50\n",
      "|   |   |--- created_at <= 1504594688.00\n",
      "|   |   |   |--- weights: [42.00, 29.00, 9.00, 5480.00] class: 3\n",
      "|   |   |--- created_at >  1504594688.00\n",
      "|   |   |   |--- weights: [7.00, 5.00, 21.00, 0.00] class: 2\n",
      "|   |--- lang_it >  0.50\n",
      "|   |   |--- created_at <= 1382974976.00\n",
      "|   |   |   |--- weights: [2.00, 0.00, 46.00, 37.00] class: 2\n",
      "|   |   |--- created_at >  1382974976.00\n",
      "|   |   |   |--- weights: [0.00, 0.00, 174.00, 6.00] class: 2\n",
      "|--- followers_count >  768.00\n",
      "|   |--- followers_count <= 28345.00\n",
      "|   |   |--- favourites_count <= 938.00\n",
      "|   |   |   |--- weights: [18.00, 163.00, 2.00, 13.00] class: 1\n",
      "|   |   |--- favourites_count >  938.00\n",
      "|   |   |   |--- weights: [27.00, 120.00, 27.00, 130.00] class: 3\n",
      "|   |--- followers_count >  28345.00\n",
      "|   |   |--- created_at <= 1459631552.00\n",
      "|   |   |   |--- weights: [13.00, 568.00, 1.00, 2.00] class: 1\n",
      "|   |   |--- created_at >  1459631552.00\n",
      "|   |   |   |--- weights: [4.00, 1.00, 0.00, 0.00] class: 0\n",
      "\n",
      "Accuracy: 0.947035118019574\n",
      "Precision -1\n",
      "Recall: -1\n",
      "F1: -1\n",
      "Finished train_test_fit_and_score_clf at 1665293472.823118. Execution time: 0.034432411193847656 s\n"
     ]
    }
   ],
   "source": [
    "other_bots, other_bots_labels, other_n_datasets = load_other_bots(intradataset=True)\n",
    "other_acc, _, _, other_f1 = train_test_fit_and_score(other_bots, other_bots_labels, depth=3, silent=False, prec_rec=False)\n"
   ]
  },
  {
   "cell_type": "code",
   "execution_count": 218,
   "id": "9a1de9e8",
   "metadata": {},
   "outputs": [
    {
     "name": "stdout",
     "output_type": "stream",
     "text": [
      "Starting train_test_fit_and_score_clf at 10/09/22 01:32:01\n",
      "|--- lang_it <= 0.50\n",
      "|   |--- followers_count <= 510.50\n",
      "|   |   |--- statuses_count <= 147.50\n",
      "|   |   |   |--- friends_count <= 3.50\n",
      "|   |   |   |   |--- weights: [0.00, 0.00, 0.00, 1.00] class: 3\n",
      "|   |   |   |--- friends_count >  3.50\n",
      "|   |   |   |   |--- weights: [21.00, 0.00, 0.00, 0.00] class: 0\n",
      "|   |   |--- statuses_count >  147.50\n",
      "|   |   |   |--- created_at <= 1504549888.00\n",
      "|   |   |   |   |--- weights: [15.00, 1.00, 1.00, 104.00] class: 3\n",
      "|   |   |   |--- created_at >  1504549888.00\n",
      "|   |   |   |   |--- weights: [0.00, 1.00, 7.00, 0.00] class: 2\n",
      "|   |--- followers_count >  510.50\n",
      "|   |   |--- created_at <= 1448836800.00\n",
      "|   |   |   |--- lang_en <= 0.50\n",
      "|   |   |   |   |--- weights: [2.00, 62.00, 1.00, 0.00] class: 1\n",
      "|   |   |   |--- lang_en >  0.50\n",
      "|   |   |   |   |--- weights: [32.00, 42.00, 1.00, 5.00] class: 1\n",
      "|   |   |--- created_at >  1448836800.00\n",
      "|   |   |   |--- statuses_count <= 49.00\n",
      "|   |   |   |   |--- weights: [1.00, 1.00, 0.00, 0.00] class: 0\n",
      "|   |   |   |--- statuses_count >  49.00\n",
      "|   |   |   |   |--- weights: [39.00, 0.00, 0.00, 0.00] class: 0\n",
      "|--- lang_it >  0.50\n",
      "|   |--- statuses_count <= 1134.50\n",
      "|   |   |--- created_at <= 1340238208.00\n",
      "|   |   |   |--- weights: [0.00, 0.00, 0.00, 2.00] class: 3\n",
      "|   |   |--- created_at >  1340238208.00\n",
      "|   |   |   |--- location_New York, USA <= 0.50\n",
      "|   |   |   |   |--- weights: [1.00, 0.00, 0.00, 0.00] class: 0\n",
      "|   |   |   |--- location_New York, USA >  0.50\n",
      "|   |   |   |   |--- weights: [0.00, 0.00, 1.00, 0.00] class: 2\n",
      "|   |--- statuses_count >  1134.50\n",
      "|   |   |--- statuses_count <= 274954.50\n",
      "|   |   |   |--- created_at <= 1273723968.00\n",
      "|   |   |   |   |--- weights: [1.00, 0.00, 1.00, 0.00] class: 0\n",
      "|   |   |   |--- created_at >  1273723968.00\n",
      "|   |   |   |   |--- weights: [0.00, 0.00, 100.00, 0.00] class: 2\n",
      "|   |   |--- statuses_count >  274954.50\n",
      "|   |   |   |--- weights: [0.00, 1.00, 0.00, 0.00] class: 1\n",
      "\n",
      "Accuracy: 0.8214285714285714\n",
      "Precision -1\n",
      "Recall: -1\n",
      "F1: -1\n",
      "Finished train_test_fit_and_score_clf at 1665293521.549096. Execution time: 0.016194581985473633 s\n"
     ]
    }
   ],
   "source": [
    "other_bots, other_bots_labels, other_n_datasets = load_other_bots(intradataset=True, balance=True)\n",
    "other_bacc, *_ = train_test_fit_and_score(other_bots, other_bots_labels, depth=4, silent=False, prec_rec=False)\n"
   ]
  },
  {
   "cell_type": "code",
   "execution_count": 240,
   "id": "f8cd8fac",
   "metadata": {},
   "outputs": [
    {
     "data": {
      "text/plain": [
       "<module 'print_table' from '/home/jhays/bot-detection/print_table.py'>"
      ]
     },
     "execution_count": 240,
     "metadata": {},
     "output_type": "execute_result"
    }
   ],
   "source": [
    "importlib.reload(sys.modules['print_table'])"
   ]
  },
  {
   "cell_type": "code",
   "execution_count": 241,
   "id": "438d7989",
   "metadata": {},
   "outputs": [],
   "source": [
    "from print_table import print_intratype_test"
   ]
  },
  {
   "cell_type": "code",
   "execution_count": 242,
   "id": "5a510d1e",
   "metadata": {},
   "outputs": [],
   "source": [
    "intraclass_dict = {\n",
    "    'humans': {\n",
    "        'a': human_acc,\n",
    "        'f': human_f1,\n",
    "        'ba': human_bacc,\n",
    "        'n_datasets': len(human_df_list)\n",
    "    },\n",
    "    'spammers': {\n",
    "        'a': spammers_acc,\n",
    "        'f': spammers_f1,\n",
    "        'ba': spammers_bacc,\n",
    "        'n_datasets': spammers_n_datasets\n",
    "    },\n",
    "    'fake followers': {\n",
    "        'a': ff_acc,\n",
    "        'f': ff_f1,\n",
    "        'ba': ff_bacc,\n",
    "        'n_datasets': ff_n_datasets\n",
    "    },\n",
    "    'other bots': {\n",
    "        'a': other_acc,\n",
    "        'f': other_f1,\n",
    "        'ba': other_bacc  ,\n",
    "        'n_datasets': other_n_datasets      \n",
    "    }\n",
    "}"
   ]
  },
  {
   "cell_type": "code",
   "execution_count": 243,
   "id": "a5eea909",
   "metadata": {},
   "outputs": [
    {
     "name": "stdout",
     "output_type": "stream",
     "text": [
      "\\data{humans} & 0.82/0.56 & 5 \\\\\n",
      "\\data{spammers} & 0.97/0.57 & 7 \\\\\n",
      "\\data{fake followers} & 0.97/0.95 & 2 \\\\\n",
      "\\data{other bots} & 0.95/0.82 & 4 \\\\\n"
     ]
    }
   ],
   "source": [
    "print_intratype_test(intraclass_dict)"
   ]
  },
  {
   "cell_type": "markdown",
   "id": "3f8e8bab",
   "metadata": {},
   "source": [
    "# Botometer combined datasets: train on one, test on same one"
   ]
  },
  {
   "cell_type": "code",
   "execution_count": 277,
   "id": "7ca7e341",
   "metadata": {},
   "outputs": [],
   "source": [
    "importlib.reload(sys.modules['fit_and_score'])\n",
    "from fit_and_score import fit, score, fit_and_score, kfold_cv, analyze_dataset, train_test_fit_and_score, train_test_fit_and_score_clf, nonnumeric, mdi_feature_importance, permutation_feature_importance, plot_metrics, calculate_accuracy\n",
    "\n",
    "importlib.reload(sys.modules['train_on_one_test_on_another'])\n",
    "from train_on_one_test_on_another import train_on_one_test_on_another_botometer_combined"
   ]
  },
  {
   "cell_type": "code",
   "execution_count": 320,
   "id": "e2e5cc17",
   "metadata": {},
   "outputs": [],
   "source": [
    "botometer_datasets = [simple_df, spammers_df, fake_followers_df, self_declared_df, political_bots_df, other_bots]\n",
    "botometer_dataset_names = [get_dataset_name(df) for df in botometer_datasets]"
   ]
  },
  {
   "cell_type": "code",
   "execution_count": 283,
   "id": "8f762eda",
   "metadata": {
    "jupyter": {
     "outputs_hidden": true
    }
   },
   "outputs": [
    {
     "name": "stdout",
     "output_type": "stream",
     "text": [
      "simple_df\n",
      "Starting train_test_fit_and_score_clf at 10/09/22 02:28:26\n",
      "|--- friends_count <= 245.50\n",
      "|   |--- weights: [11240.00, 3411.00] class: 0\n",
      "|--- friends_count >  245.50\n",
      "|   |--- weights: [6595.00, 14310.00] class: 1\n",
      "\n",
      "Accuracy: 0.7178852643419572\n",
      "Precision 0.6907039020657996\n",
      "Recall: 0.8020879609062639\n",
      "F1: 0.7422404933196299\n",
      "Finished train_test_fit_and_score_clf at 1665296906.6579525. Execution time: 0.14499235153198242 s\n",
      "Starting train_test_fit_and_score_clf at 10/09/22 02:28:26\n",
      "|--- friends_count <= 301.50\n",
      "|   |--- statuses_count <= 78.50\n",
      "|   |   |--- weights: [1434.00, 2783.00] class: 1\n",
      "|   |--- statuses_count >  78.50\n",
      "|   |   |--- weights: [10521.00, 1349.00] class: 0\n",
      "|--- friends_count >  301.50\n",
      "|   |--- statuses_count <= 3112.00\n",
      "|   |   |--- weights: [1512.00, 12387.00] class: 1\n",
      "|   |--- statuses_count >  3112.00\n",
      "|   |   |--- weights: [4266.00, 1304.00] class: 0\n",
      "\n",
      "Accuracy: 0.8415073115860517\n",
      "Precision 0.8307896483078965\n",
      "Recall: 0.8536363636363636\n",
      "F1: 0.8420580652393229\n",
      "Finished train_test_fit_and_score_clf at 1665296906.829729. Execution time: 0.17174053192138672 s\n",
      "Starting train_test_fit_and_score_clf at 10/09/22 02:28:26\n",
      "|--- friends_count <= 290.50\n",
      "|   |--- statuses_count <= 82.50\n",
      "|   |   |--- friends_count <= 47.50\n",
      "|   |   |   |--- weights: [1214.00, 629.00] class: 0\n",
      "|   |   |--- friends_count >  47.50\n",
      "|   |   |   |--- weights: [288.00, 2112.00] class: 1\n",
      "|   |--- statuses_count >  82.50\n",
      "|   |   |--- friends_count <= 93.50\n",
      "|   |   |   |--- weights: [6053.00, 181.00] class: 0\n",
      "|   |   |--- friends_count >  93.50\n",
      "|   |   |   |--- weights: [4295.00, 1067.00] class: 0\n",
      "|--- friends_count >  290.50\n",
      "|   |--- statuses_count <= 2605.50\n",
      "|   |   |--- statuses_count <= 583.50\n",
      "|   |   |   |--- weights: [359.00, 9450.00] class: 1\n",
      "|   |   |--- statuses_count >  583.50\n",
      "|   |   |   |--- weights: [988.00, 2770.00] class: 1\n",
      "|   |--- statuses_count >  2605.50\n",
      "|   |   |--- friends_count <= 1561.00\n",
      "|   |   |   |--- weights: [3341.00, 305.00] class: 0\n",
      "|   |   |--- friends_count >  1561.00\n",
      "|   |   |   |--- weights: [1228.00, 1276.00] class: 1\n",
      "\n",
      "Accuracy: 0.8529808773903262\n",
      "Precision 0.8381652964084811\n",
      "Recall: 0.873900293255132\n",
      "F1: 0.8556598564329101\n",
      "Finished train_test_fit_and_score_clf at 1665296907.016275. Execution time: 0.18651485443115234 s\n",
      "Starting train_test_fit_and_score_clf at 10/09/22 02:28:27\n",
      "|--- friends_count <= 220.50\n",
      "|   |--- statuses_count <= 65.50\n",
      "|   |   |--- friends_count <= 66.50\n",
      "|   |   |   |--- statuses_count <= 7.50\n",
      "|   |   |   |   |--- weights: [292.00, 453.00] class: 1\n",
      "|   |   |   |--- statuses_count >  7.50\n",
      "|   |   |   |   |--- weights: [866.00, 324.00] class: 0\n",
      "|   |   |--- friends_count >  66.50\n",
      "|   |   |   |--- statuses_count <= 18.50\n",
      "|   |   |   |   |--- weights: [26.00, 917.00] class: 1\n",
      "|   |   |   |--- statuses_count >  18.50\n",
      "|   |   |   |   |--- weights: [106.00, 424.00] class: 1\n",
      "|   |--- statuses_count >  65.50\n",
      "|   |   |--- statuses_count <= 278.50\n",
      "|   |   |   |--- friends_count <= 83.50\n",
      "|   |   |   |   |--- weights: [1823.00, 118.00] class: 0\n",
      "|   |   |   |--- friends_count >  83.50\n",
      "|   |   |   |   |--- weights: [337.00, 482.00] class: 1\n",
      "|   |   |--- statuses_count >  278.50\n",
      "|   |   |   |--- friends_count <= 118.50\n",
      "|   |   |   |   |--- weights: [5236.00, 97.00] class: 0\n",
      "|   |   |   |--- friends_count >  118.50\n",
      "|   |   |   |   |--- weights: [2207.00, 252.00] class: 0\n",
      "|--- friends_count >  220.50\n",
      "|   |--- statuses_count <= 2322.50\n",
      "|   |   |--- statuses_count <= 551.50\n",
      "|   |   |   |--- followers_count <= 73196.00\n",
      "|   |   |   |   |--- weights: [407.00, 10067.00] class: 1\n",
      "|   |   |   |--- followers_count >  73196.00\n",
      "|   |   |   |   |--- weights: [33.00, 2.00] class: 0\n",
      "|   |   |--- statuses_count >  551.50\n",
      "|   |   |   |--- friends_count <= 574.00\n",
      "|   |   |   |   |--- weights: [726.00, 373.00] class: 0\n",
      "|   |   |   |--- friends_count >  574.00\n",
      "|   |   |   |   |--- weights: [452.00, 2437.00] class: 1\n",
      "|   |--- statuses_count >  2322.50\n",
      "|   |   |--- friends_count <= 1561.00\n",
      "|   |   |   |--- statuses_count <= 4427.50\n",
      "|   |   |   |   |--- weights: [795.00, 214.00] class: 0\n",
      "|   |   |   |--- statuses_count >  4427.50\n",
      "|   |   |   |   |--- weights: [3261.00, 158.00] class: 0\n",
      "|   |   |--- friends_count >  1561.00\n",
      "|   |   |   |--- followers_count <= 62491.50\n",
      "|   |   |   |   |--- weights: [557.00, 1396.00] class: 1\n",
      "|   |   |   |--- followers_count >  62491.50\n",
      "|   |   |   |   |--- weights: [709.00, 9.00] class: 0\n",
      "\n",
      "Accuracy: 0.8926884139482565\n",
      "Precision 0.8844319167389418\n",
      "Recall: 0.9064444444444445\n",
      "F1: 0.8953028972783144\n",
      "Finished train_test_fit_and_score_clf at 1665296907.2072434. Execution time: 0.19094347953796387 s\n",
      "spammers_df\n",
      "Starting train_test_fit_and_score_clf at 10/09/22 02:28:27\n",
      "|--- statuses_count <= 147.00\n",
      "|   |--- weights: [88.00, 335.00] class: 1\n",
      "|--- statuses_count >  147.00\n",
      "|   |--- weights: [546.00, 311.00] class: 0\n",
      "\n",
      "Accuracy: 0.73125\n",
      "Precision 0.8148148148148148\n",
      "Recall: 0.5714285714285714\n",
      "F1: 0.6717557251908397\n",
      "Finished train_test_fit_and_score_clf at 1665296907.232889. Execution time: 0.020014524459838867 s\n",
      "Starting train_test_fit_and_score_clf at 10/09/22 02:28:27\n",
      "|--- statuses_count <= 147.00\n",
      "|   |--- friends_count <= 151.00\n",
      "|   |   |--- weights: [82.00, 183.00] class: 1\n",
      "|   |--- friends_count >  151.00\n",
      "|   |   |--- weights: [5.00, 143.00] class: 1\n",
      "|--- statuses_count >  147.00\n",
      "|   |--- friends_count <= 1228.00\n",
      "|   |   |--- weights: [503.00, 198.00] class: 0\n",
      "|   |--- friends_count >  1228.00\n",
      "|   |   |--- weights: [57.00, 109.00] class: 1\n",
      "\n",
      "Accuracy: 0.753125\n",
      "Precision 0.7933333333333333\n",
      "Recall: 0.7125748502994012\n",
      "F1: 0.750788643533123\n",
      "Finished train_test_fit_and_score_clf at 1665296907.2538574. Execution time: 0.020929813385009766 s\n",
      "Starting train_test_fit_and_score_clf at 10/09/22 02:28:27\n",
      "|--- statuses_count <= 147.00\n",
      "|   |--- friends_count <= 151.00\n",
      "|   |   |--- friends_count <= 0.50\n",
      "|   |   |   |--- weights: [8.00, 92.00] class: 1\n",
      "|   |   |--- friends_count >  0.50\n",
      "|   |   |   |--- weights: [71.00, 97.00] class: 1\n",
      "|   |--- friends_count >  151.00\n",
      "|   |   |--- statuses_count <= 73.50\n",
      "|   |   |   |--- weights: [3.00, 134.00] class: 1\n",
      "|   |   |--- statuses_count >  73.50\n",
      "|   |   |   |--- weights: [4.00, 29.00] class: 1\n",
      "|--- statuses_count >  147.00\n",
      "|   |--- friends_count <= 1222.00\n",
      "|   |   |--- statuses_count <= 861.50\n",
      "|   |   |   |--- weights: [154.00, 122.00] class: 0\n",
      "|   |   |--- statuses_count >  861.50\n",
      "|   |   |   |--- weights: [336.00, 70.00] class: 0\n",
      "|   |--- friends_count >  1222.00\n",
      "|   |   |--- statuses_count <= 16209.50\n",
      "|   |   |   |--- weights: [25.00, 100.00] class: 1\n",
      "|   |   |--- statuses_count >  16209.50\n",
      "|   |   |   |--- weights: [31.00, 4.00] class: 0\n",
      "\n",
      "Accuracy: 0.75625\n",
      "Precision 0.8032786885245902\n",
      "Recall: 0.6447368421052632\n",
      "F1: 0.7153284671532848\n",
      "Finished train_test_fit_and_score_clf at 1665296907.2746477. Execution time: 0.020751237869262695 s\n",
      "Starting train_test_fit_and_score_clf at 10/09/22 02:28:27\n",
      "|--- statuses_count <= 147.00\n",
      "|   |--- friends_count <= 151.00\n",
      "|   |   |--- friends_count <= 50.50\n",
      "|   |   |   |--- friends_count <= 31.50\n",
      "|   |   |   |   |--- weights: [54.00, 98.00] class: 1\n",
      "|   |   |   |--- friends_count >  31.50\n",
      "|   |   |   |   |--- weights: [5.00, 81.00] class: 1\n",
      "|   |   |--- friends_count >  50.50\n",
      "|   |   |   |--- followers_count <= 12.00\n",
      "|   |   |   |   |--- weights: [1.00, 3.00] class: 1\n",
      "|   |   |   |--- followers_count >  12.00\n",
      "|   |   |   |   |--- weights: [19.00, 4.00] class: 0\n",
      "|   |--- friends_count >  151.00\n",
      "|   |   |--- statuses_count <= 40.00\n",
      "|   |   |   |--- friends_count <= 234.00\n",
      "|   |   |   |   |--- weights: [2.00, 11.00] class: 1\n",
      "|   |   |   |--- friends_count >  234.00\n",
      "|   |   |   |   |--- weights: [0.00, 101.00] class: 1\n",
      "|   |   |--- statuses_count >  40.00\n",
      "|   |   |   |--- friends_count <= 721.00\n",
      "|   |   |   |   |--- weights: [4.00, 22.00] class: 1\n",
      "|   |   |   |--- friends_count >  721.00\n",
      "|   |   |   |   |--- weights: [0.00, 17.00] class: 1\n",
      "|--- statuses_count >  147.00\n",
      "|   |--- friends_count <= 1228.00\n",
      "|   |   |--- followers_count <= 122.00\n",
      "|   |   |   |--- statuses_count <= 632.50\n",
      "|   |   |   |   |--- weights: [106.00, 21.00] class: 0\n",
      "|   |   |   |--- statuses_count >  632.50\n",
      "|   |   |   |   |--- weights: [96.00, 124.00] class: 1\n",
      "|   |   |--- followers_count >  122.00\n",
      "|   |   |   |--- statuses_count <= 289.50\n",
      "|   |   |   |   |--- weights: [9.00, 23.00] class: 1\n",
      "|   |   |   |--- statuses_count >  289.50\n",
      "|   |   |   |   |--- weights: [292.00, 29.00] class: 0\n",
      "|   |--- friends_count >  1228.00\n",
      "|   |   |--- statuses_count <= 17233.00\n",
      "|   |   |   |--- followers_count <= 10978.00\n",
      "|   |   |   |   |--- weights: [18.00, 101.00] class: 1\n",
      "|   |   |   |--- followers_count >  10978.00\n",
      "|   |   |   |   |--- weights: [6.00, 0.00] class: 0\n",
      "|   |   |--- statuses_count >  17233.00\n",
      "|   |   |   |--- friends_count <= 12426.50\n",
      "|   |   |   |   |--- weights: [25.00, 1.00] class: 0\n",
      "|   |   |   |--- friends_count >  12426.50\n",
      "|   |   |   |   |--- weights: [4.00, 3.00] class: 0\n",
      "\n",
      "Accuracy: 0.75\n",
      "Precision 0.6995073891625616\n",
      "Recall: 0.8819875776397516\n",
      "F1: 0.7802197802197803\n",
      "Finished train_test_fit_and_score_clf at 1665296907.2952313. Execution time: 0.0204465389251709 s\n",
      "fake_followers_df\n",
      "Starting train_test_fit_and_score_clf at 10/09/22 02:28:27\n",
      "|--- statuses_count <= 116.50\n",
      "|   |--- weights: [204.00, 1193.00] class: 1\n",
      "|--- statuses_count >  116.50\n",
      "|   |--- weights: [1542.00, 539.00] class: 0\n",
      "\n",
      "Accuracy: 0.7804597701149425\n",
      "Precision 0.8476454293628809\n",
      "Recall: 0.6923076923076923\n",
      "F1: 0.7621419676214196\n",
      "Finished train_test_fit_and_score_clf at 1665296907.3261573. Execution time: 0.02378249168395996 s\n",
      "Starting train_test_fit_and_score_clf at 10/09/22 02:28:27\n",
      "|--- statuses_count <= 116.50\n",
      "|   |--- friends_count <= 145.00\n",
      "|   |   |--- weights: [182.00, 52.00] class: 0\n",
      "|   |--- friends_count >  145.00\n",
      "|   |   |--- weights: [16.00, 1146.00] class: 1\n",
      "|--- statuses_count >  116.50\n",
      "|   |--- friends_count <= 1202.50\n",
      "|   |   |--- weights: [1364.00, 171.00] class: 0\n",
      "|   |--- friends_count >  1202.50\n",
      "|   |   |--- weights: [165.00, 382.00] class: 1\n",
      "\n",
      "Accuracy: 0.8839080459770114\n",
      "Precision 0.8907766990291263\n",
      "Recall: 0.8676122931442081\n",
      "F1: 0.8790419161676647\n",
      "Finished train_test_fit_and_score_clf at 1665296907.351536. Execution time: 0.025341272354125977 s\n",
      "Starting train_test_fit_and_score_clf at 10/09/22 02:28:27\n",
      "|--- statuses_count <= 116.50\n",
      "|   |--- friends_count <= 143.50\n",
      "|   |   |--- statuses_count <= 4.50\n",
      "|   |   |   |--- weights: [19.00, 41.00] class: 1\n",
      "|   |   |--- statuses_count >  4.50\n",
      "|   |   |   |--- weights: [174.00, 10.00] class: 0\n",
      "|   |--- friends_count >  143.50\n",
      "|   |   |--- followers_count <= 40.50\n",
      "|   |   |   |--- weights: [2.00, 1059.00] class: 1\n",
      "|   |   |--- followers_count >  40.50\n",
      "|   |   |   |--- weights: [15.00, 74.00] class: 1\n",
      "|--- statuses_count >  116.50\n",
      "|   |--- friends_count <= 1212.50\n",
      "|   |   |--- friends_count <= 544.50\n",
      "|   |   |   |--- weights: [1184.00, 78.00] class: 0\n",
      "|   |   |--- friends_count >  544.50\n",
      "|   |   |   |--- weights: [191.00, 91.00] class: 0\n",
      "|   |--- friends_count >  1212.50\n",
      "|   |   |--- followers_count <= 210.00\n",
      "|   |   |   |--- weights: [1.00, 102.00] class: 1\n",
      "|   |   |--- followers_count >  210.00\n",
      "|   |   |   |--- weights: [164.00, 273.00] class: 1\n",
      "\n",
      "Accuracy: 0.8873563218390804\n",
      "Precision 0.8866666666666667\n",
      "Recall: 0.8946188340807175\n",
      "F1: 0.8906250000000001\n",
      "Finished train_test_fit_and_score_clf at 1665296907.37665. Execution time: 0.025076866149902344 s\n",
      "Starting train_test_fit_and_score_clf at 10/09/22 02:28:27\n",
      "|--- statuses_count <= 116.50\n",
      "|   |--- friends_count <= 143.50\n",
      "|   |   |--- statuses_count <= 3.50\n",
      "|   |   |   |--- friends_count <= 7.00\n",
      "|   |   |   |   |--- weights: [8.00, 1.00] class: 0\n",
      "|   |   |   |--- friends_count >  7.00\n",
      "|   |   |   |   |--- weights: [3.00, 37.00] class: 1\n",
      "|   |   |--- statuses_count >  3.50\n",
      "|   |   |   |--- followers_count <= 1.50\n",
      "|   |   |   |   |--- weights: [25.00, 9.00] class: 0\n",
      "|   |   |   |--- followers_count >  1.50\n",
      "|   |   |   |   |--- weights: [151.00, 8.00] class: 0\n",
      "|   |--- friends_count >  143.50\n",
      "|   |   |--- followers_count <= 41.50\n",
      "|   |   |   |--- statuses_count <= 44.50\n",
      "|   |   |   |   |--- weights: [0.00, 813.00] class: 1\n",
      "|   |   |   |--- statuses_count >  44.50\n",
      "|   |   |   |   |--- weights: [2.00, 255.00] class: 1\n",
      "|   |   |--- followers_count >  41.50\n",
      "|   |   |   |--- friends_count <= 305.50\n",
      "|   |   |   |   |--- weights: [6.00, 1.00] class: 0\n",
      "|   |   |   |--- friends_count >  305.50\n",
      "|   |   |   |   |--- weights: [8.00, 73.00] class: 1\n",
      "|--- statuses_count >  116.50\n",
      "|   |--- friends_count <= 780.50\n",
      "|   |   |--- friends_count <= 0.50\n",
      "|   |   |   |--- statuses_count <= 1301.00\n",
      "|   |   |   |   |--- weights: [76.00, 1.00] class: 0\n",
      "|   |   |   |--- statuses_count >  1301.00\n",
      "|   |   |   |   |--- weights: [32.00, 43.00] class: 1\n",
      "|   |   |--- friends_count >  0.50\n",
      "|   |   |   |--- friends_count <= 443.50\n",
      "|   |   |   |   |--- weights: [1007.00, 23.00] class: 0\n",
      "|   |   |   |--- friends_count >  443.50\n",
      "|   |   |   |   |--- weights: [167.00, 53.00] class: 0\n",
      "|   |--- friends_count >  780.50\n",
      "|   |   |--- statuses_count <= 2747.50\n",
      "|   |   |   |--- followers_count <= 229.00\n",
      "|   |   |   |   |--- weights: [4.00, 128.00] class: 1\n",
      "|   |   |   |--- followers_count >  229.00\n",
      "|   |   |   |   |--- weights: [41.00, 111.00] class: 1\n",
      "|   |   |--- statuses_count >  2747.50\n",
      "|   |   |   |--- friends_count <= 10706.00\n",
      "|   |   |   |   |--- weights: [163.00, 41.00] class: 0\n",
      "|   |   |   |--- friends_count >  10706.00\n",
      "|   |   |   |   |--- weights: [32.00, 156.00] class: 1\n",
      "\n",
      "Accuracy: 0.903448275862069\n",
      "Precision 0.8964705882352941\n",
      "Recall: 0.9049881235154394\n",
      "F1: 0.9007092198581559\n",
      "Finished train_test_fit_and_score_clf at 1665296907.403612. Execution time: 0.026923656463623047 s\n",
      "self_declared_df\n",
      "Starting train_test_fit_and_score_clf at 10/09/22 02:28:27\n",
      "|--- friends_count <= 12.50\n",
      "|   |--- weights: [62.00, 460.00] class: 1\n",
      "|--- friends_count >  12.50\n",
      "|   |--- weights: [495.00, 99.00] class: 0\n",
      "\n",
      "Accuracy: 0.8321428571428572\n",
      "Precision 0.823943661971831\n",
      "Recall: 0.841726618705036\n",
      "F1: 0.8327402135231317\n",
      "Finished train_test_fit_and_score_clf at 1665296907.4262178. Execution time: 0.01746821403503418 s\n",
      "Starting train_test_fit_and_score_clf at 10/09/22 02:28:27\n"
     ]
    },
    {
     "name": "stdout",
     "output_type": "stream",
     "text": [
      "|--- friends_count <= 12.50\n",
      "|   |--- statuses_count <= 307.50\n",
      "|   |   |--- weights: [36.00, 19.00] class: 0\n",
      "|   |--- statuses_count >  307.50\n",
      "|   |   |--- weights: [29.00, 452.00] class: 1\n",
      "|--- friends_count >  12.50\n",
      "|   |--- friends_count <= 50.50\n",
      "|   |   |--- weights: [81.00, 48.00] class: 0\n",
      "|   |--- friends_count >  50.50\n",
      "|   |   |--- weights: [403.00, 48.00] class: 0\n",
      "\n",
      "Accuracy: 0.8821428571428571\n",
      "Precision 0.9298245614035088\n",
      "Recall: 0.8091603053435115\n",
      "F1: 0.8653061224489796\n",
      "Finished train_test_fit_and_score_clf at 1665296907.4464343. Execution time: 0.020190715789794922 s\n",
      "Starting train_test_fit_and_score_clf at 10/09/22 02:28:27\n",
      "|--- friends_count <= 12.50\n",
      "|   |--- statuses_count <= 307.50\n",
      "|   |   |--- followers_count <= 3.50\n",
      "|   |   |   |--- weights: [30.00, 1.00] class: 0\n",
      "|   |   |--- followers_count >  3.50\n",
      "|   |   |   |--- weights: [15.00, 16.00] class: 1\n",
      "|   |--- statuses_count >  307.50\n",
      "|   |   |--- followers_count <= 0.50\n",
      "|   |   |   |--- weights: [4.00, 1.00] class: 0\n",
      "|   |   |--- followers_count >  0.50\n",
      "|   |   |   |--- weights: [22.00, 429.00] class: 1\n",
      "|--- friends_count >  12.50\n",
      "|   |--- friends_count <= 50.50\n",
      "|   |   |--- statuses_count <= 2731.00\n",
      "|   |   |   |--- weights: [84.00, 13.00] class: 0\n",
      "|   |   |--- statuses_count >  2731.00\n",
      "|   |   |   |--- weights: [3.00, 39.00] class: 1\n",
      "|   |--- friends_count >  50.50\n",
      "|   |   |--- followers_count <= 24890.00\n",
      "|   |   |   |--- weights: [304.00, 50.00] class: 0\n",
      "|   |   |--- followers_count >  24890.00\n",
      "|   |   |   |--- weights: [104.00, 1.00] class: 0\n",
      "\n",
      "Accuracy: 0.8892857142857142\n",
      "Precision 0.8874172185430463\n",
      "Recall: 0.9054054054054054\n",
      "F1: 0.8963210702341138\n",
      "Finished train_test_fit_and_score_clf at 1665296907.4654095. Execution time: 0.018529415130615234 s\n",
      "Starting train_test_fit_and_score_clf at 10/09/22 02:28:27\n",
      "|--- friends_count <= 12.50\n",
      "|   |--- statuses_count <= 323.50\n",
      "|   |   |--- followers_count <= 4.50\n",
      "|   |   |   |--- followers_count <= 0.50\n",
      "|   |   |   |   |--- weights: [15.00, 0.00] class: 0\n",
      "|   |   |   |--- followers_count >  0.50\n",
      "|   |   |   |   |--- weights: [11.00, 2.00] class: 0\n",
      "|   |   |--- followers_count >  4.50\n",
      "|   |   |   |--- friends_count <= 3.00\n",
      "|   |   |   |   |--- weights: [7.00, 16.00] class: 1\n",
      "|   |   |   |--- friends_count >  3.00\n",
      "|   |   |   |   |--- weights: [8.00, 2.00] class: 0\n",
      "|   |--- statuses_count >  323.50\n",
      "|   |   |--- followers_count <= 0.50\n",
      "|   |   |   |--- statuses_count <= 1134.50\n",
      "|   |   |   |   |--- weights: [2.00, 0.00] class: 0\n",
      "|   |   |   |--- statuses_count >  1134.50\n",
      "|   |   |   |   |--- weights: [0.00, 1.00] class: 1\n",
      "|   |   |--- followers_count >  0.50\n",
      "|   |   |   |--- followers_count <= 461376.00\n",
      "|   |   |   |   |--- weights: [25.00, 435.00] class: 1\n",
      "|   |   |   |--- followers_count >  461376.00\n",
      "|   |   |   |   |--- weights: [2.00, 1.00] class: 0\n",
      "|--- friends_count >  12.50\n",
      "|   |--- friends_count <= 50.50\n",
      "|   |   |--- statuses_count <= 2498.50\n",
      "|   |   |   |--- followers_count <= 78.50\n",
      "|   |   |   |   |--- weights: [73.00, 4.00] class: 0\n",
      "|   |   |   |--- followers_count >  78.50\n",
      "|   |   |   |   |--- weights: [7.00, 10.00] class: 1\n",
      "|   |   |--- statuses_count >  2498.50\n",
      "|   |   |   |--- followers_count <= 3268076.50\n",
      "|   |   |   |   |--- weights: [1.00, 37.00] class: 1\n",
      "|   |   |   |--- followers_count >  3268076.50\n",
      "|   |   |   |   |--- weights: [2.00, 0.00] class: 0\n",
      "|   |--- friends_count >  50.50\n",
      "|   |   |--- followers_count <= 28049.00\n",
      "|   |   |   |--- statuses_count <= 5993.50\n",
      "|   |   |   |   |--- weights: [234.00, 25.00] class: 0\n",
      "|   |   |   |--- statuses_count >  5993.50\n",
      "|   |   |   |   |--- weights: [73.00, 27.00] class: 0\n",
      "|   |   |--- followers_count >  28049.00\n",
      "|   |   |   |--- friends_count <= 4172.50\n",
      "|   |   |   |   |--- weights: [83.00, 0.00] class: 0\n",
      "|   |   |   |--- friends_count >  4172.50\n",
      "|   |   |   |   |--- weights: [12.00, 1.00] class: 0\n",
      "\n",
      "Accuracy: 0.9214285714285714\n",
      "Precision 0.9136690647482014\n",
      "Recall: 0.927007299270073\n",
      "F1: 0.9202898550724637\n",
      "Finished train_test_fit_and_score_clf at 1665296907.486172. Execution time: 0.01990985870361328 s\n",
      "political_bots_df\n",
      "Starting train_test_fit_and_score_clf at 10/09/22 02:28:27\n",
      "|--- friends_count <= 777.00\n",
      "|   |--- weights: [43.00, 0.00] class: 0\n",
      "|--- friends_count >  777.00\n",
      "|   |--- weights: [10.00, 46.00] class: 1\n",
      "\n",
      "Accuracy: 0.96\n",
      "Precision 0.9411764705882353\n",
      "Recall: 1.0\n",
      "F1: 0.9696969696969697\n",
      "Finished train_test_fit_and_score_clf at 1665296907.5056345. Execution time: 0.016180992126464844 s\n",
      "Starting train_test_fit_and_score_clf at 10/09/22 02:28:27\n",
      "|--- friends_count <= 777.00\n",
      "|   |--- weights: [39.00, 0.00] class: 0\n",
      "|--- friends_count >  777.00\n",
      "|   |--- statuses_count <= 4019.00\n",
      "|   |   |--- weights: [1.00, 48.00] class: 1\n",
      "|   |--- statuses_count >  4019.00\n",
      "|   |   |--- weights: [9.00, 2.00] class: 0\n",
      "\n",
      "Accuracy: 0.92\n",
      "Precision 1.0\n",
      "Recall: 0.8333333333333334\n",
      "F1: 0.9090909090909091\n",
      "Finished train_test_fit_and_score_clf at 1665296907.522455. Execution time: 0.016792774200439453 s\n",
      "Starting train_test_fit_and_score_clf at 10/09/22 02:28:27\n",
      "|--- friends_count <= 777.00\n",
      "|   |--- weights: [42.00, 0.00] class: 0\n",
      "|--- friends_count >  777.00\n",
      "|   |--- statuses_count <= 6387.00\n",
      "|   |   |--- followers_count <= 586.00\n",
      "|   |   |   |--- weights: [1.00, 0.00] class: 0\n",
      "|   |   |--- followers_count >  586.00\n",
      "|   |   |   |--- weights: [1.00, 49.00] class: 1\n",
      "|   |--- statuses_count >  6387.00\n",
      "|   |   |--- statuses_count <= 14620.50\n",
      "|   |   |   |--- weights: [1.00, 1.00] class: 0\n",
      "|   |   |--- statuses_count >  14620.50\n",
      "|   |   |   |--- weights: [4.00, 0.00] class: 0\n",
      "\n",
      "Accuracy: 0.92\n",
      "Precision 0.9166666666666666\n",
      "Recall: 0.9166666666666666\n",
      "F1: 0.9166666666666666\n",
      "Finished train_test_fit_and_score_clf at 1665296907.5389855. Execution time: 0.016499042510986328 s\n",
      "Starting train_test_fit_and_score_clf at 10/09/22 02:28:27\n",
      "|--- friends_count <= 736.00\n",
      "|   |--- weights: [42.00, 0.00] class: 0\n",
      "|--- friends_count >  736.00\n",
      "|   |--- statuses_count <= 4056.00\n",
      "|   |   |--- followers_count <= 586.00\n",
      "|   |   |   |--- weights: [1.00, 0.00] class: 0\n",
      "|   |   |--- followers_count >  586.00\n",
      "|   |   |   |--- weights: [0.00, 46.00] class: 1\n",
      "|   |--- statuses_count >  4056.00\n",
      "|   |   |--- statuses_count <= 7140.50\n",
      "|   |   |   |--- statuses_count <= 4858.50\n",
      "|   |   |   |   |--- weights: [2.00, 0.00] class: 0\n",
      "|   |   |   |--- statuses_count >  4858.50\n",
      "|   |   |   |   |--- weights: [0.00, 2.00] class: 1\n",
      "|   |   |--- statuses_count >  7140.50\n",
      "|   |   |   |--- weights: [6.00, 0.00] class: 0\n",
      "\n",
      "Accuracy: 0.96\n",
      "Precision 1.0\n",
      "Recall: 0.9285714285714286\n",
      "F1: 0.962962962962963\n",
      "Finished train_test_fit_and_score_clf at 1665296907.5553393. Execution time: 0.01632523536682129 s\n",
      "other_bots\n",
      "Starting train_test_fit_and_score_clf at 10/09/22 02:28:27\n",
      "|--- statuses_count <= 20770.50\n",
      "|   |--- weights: [396.00, 292.00] class: 0\n",
      "|--- statuses_count >  20770.50\n",
      "|   |--- weights: [42.00, 159.00] class: 1\n",
      "\n",
      "Accuracy: 0.6905829596412556\n",
      "Precision 0.8461538461538461\n",
      "Recall: 0.41904761904761906\n",
      "F1: 0.5605095541401275\n",
      "Finished train_test_fit_and_score_clf at 1665296907.5764663. Execution time: 0.017279624938964844 s\n",
      "Starting train_test_fit_and_score_clf at 10/09/22 02:28:27\n",
      "|--- statuses_count <= 20787.50\n",
      "|   |--- followers_count <= 105498.00\n",
      "|   |   |--- weights: [348.00, 280.00] class: 0\n",
      "|   |--- followers_count >  105498.00\n",
      "|   |   |--- weights: [56.00, 0.00] class: 0\n",
      "|--- statuses_count >  20787.50\n",
      "|   |--- followers_count <= 271518.00\n",
      "|   |   |--- weights: [20.00, 142.00] class: 1\n",
      "|   |--- followers_count >  271518.00\n",
      "|   |   |--- weights: [20.00, 23.00] class: 1\n",
      "\n",
      "Accuracy: 0.6278026905829597\n",
      "Precision 0.7916666666666666\n",
      "Recall: 0.34234234234234234\n",
      "F1: 0.4779874213836478\n",
      "Finished train_test_fit_and_score_clf at 1665296907.594713. Execution time: 0.0182192325592041 s\n",
      "Starting train_test_fit_and_score_clf at 10/09/22 02:28:27\n",
      "|--- statuses_count <= 20782.00\n",
      "|   |--- followers_count <= 86341.00\n",
      "|   |   |--- statuses_count <= 1842.00\n",
      "|   |   |   |--- weights: [221.00, 96.00] class: 0\n",
      "|   |   |--- statuses_count >  1842.00\n",
      "|   |   |   |--- weights: [120.00, 182.00] class: 1\n",
      "|   |--- followers_count >  86341.00\n",
      "|   |   |--- friends_count <= 643488.50\n",
      "|   |   |   |--- weights: [57.00, 0.00] class: 0\n",
      "|   |   |--- friends_count >  643488.50\n",
      "|   |   |   |--- weights: [1.00, 1.00] class: 0\n",
      "|--- statuses_count >  20782.00\n",
      "|   |--- followers_count <= 271518.00\n",
      "|   |   |--- statuses_count <= 76349.50\n",
      "|   |   |   |--- weights: [18.00, 66.00] class: 1\n",
      "|   |   |--- statuses_count >  76349.50\n",
      "|   |   |   |--- weights: [4.00, 78.00] class: 1\n",
      "|   |--- followers_count >  271518.00\n",
      "|   |   |--- statuses_count <= 95289.00\n",
      "|   |   |   |--- weights: [20.00, 10.00] class: 0\n",
      "|   |   |--- statuses_count >  95289.00\n",
      "|   |   |   |--- weights: [1.00, 14.00] class: 1\n",
      "\n",
      "Accuracy: 0.6816143497757847\n",
      "Precision 0.6666666666666666\n",
      "Recall: 0.6972477064220184\n",
      "F1: 0.6816143497757847\n",
      "Finished train_test_fit_and_score_clf at 1665296907.612849. Execution time: 0.018108606338500977 s\n",
      "Starting train_test_fit_and_score_clf at 10/09/22 02:28:27\n",
      "|--- statuses_count <= 20787.50\n",
      "|   |--- followers_count <= 146959.50\n",
      "|   |   |--- statuses_count <= 1840.00\n",
      "|   |   |   |--- friends_count <= 2155.00\n",
      "|   |   |   |   |--- weights: [221.00, 83.00] class: 0\n",
      "|   |   |   |--- friends_count >  2155.00\n",
      "|   |   |   |   |--- weights: [1.00, 13.00] class: 1\n",
      "|   |   |--- statuses_count >  1840.00\n",
      "|   |   |   |--- followers_count <= 43.00\n",
      "|   |   |   |   |--- weights: [3.00, 62.00] class: 1\n",
      "|   |   |   |--- followers_count >  43.00\n",
      "|   |   |   |   |--- weights: [126.00, 117.00] class: 0\n",
      "|   |--- followers_count >  146959.50\n",
      "|   |   |--- friends_count <= 643488.50\n",
      "|   |   |   |--- weights: [54.00, 0.00] class: 0\n",
      "|   |   |--- friends_count >  643488.50\n",
      "|   |   |   |--- statuses_count <= 6919.00\n",
      "|   |   |   |   |--- weights: [0.00, 1.00] class: 1\n",
      "|   |   |   |--- statuses_count >  6919.00\n",
      "|   |   |   |   |--- weights: [1.00, 0.00] class: 0\n",
      "|--- statuses_count >  20787.50\n",
      "|   |--- followers_count <= 259244.50\n",
      "|   |   |--- statuses_count <= 73336.50\n",
      "|   |   |   |--- statuses_count <= 51580.00\n",
      "|   |   |   |   |--- weights: [11.00, 56.00] class: 1\n",
      "|   |   |   |--- statuses_count >  51580.00\n",
      "|   |   |   |   |--- weights: [7.00, 6.00] class: 0\n",
      "|   |   |--- statuses_count >  73336.50\n",
      "|   |   |   |--- followers_count <= 3294.50\n",
      "|   |   |   |   |--- weights: [3.00, 35.00] class: 1\n",
      "|   |   |   |--- followers_count >  3294.50\n",
      "|   |   |   |   |--- weights: [0.00, 43.00] class: 1\n",
      "|   |--- followers_count >  259244.50\n",
      "|   |   |--- statuses_count <= 95289.00\n",
      "|   |   |   |--- statuses_count <= 44156.50\n",
      "|   |   |   |   |--- weights: [13.00, 1.00] class: 0\n",
      "|   |   |   |--- statuses_count >  44156.50\n",
      "|   |   |   |   |--- weights: [9.00, 6.00] class: 0\n",
      "|   |   |--- statuses_count >  95289.00\n",
      "|   |   |   |--- followers_count <= 382685.50\n",
      "|   |   |   |   |--- weights: [1.00, 0.00] class: 0\n",
      "|   |   |   |--- followers_count >  382685.50\n",
      "|   |   |   |   |--- weights: [0.00, 16.00] class: 1\n",
      "\n",
      "Accuracy: 0.6591928251121076\n",
      "Precision 0.8867924528301887\n",
      "Recall: 0.4017094017094017\n",
      "F1: 0.5529411764705883\n",
      "Finished train_test_fit_and_score_clf at 1665296907.6318252. Execution time: 0.018947362899780273 s\n"
     ]
    }
   ],
   "source": [
    "rows = []\n",
    "balanced_rows = []\n",
    "for j, dataset in enumerate(botometer_datasets[0:]):\n",
    "    print(get_dataset_name(dataset))\n",
    "    rows.append(train_test_botometer_combined(dataset, human_df, get_dataset_name(dataset), max_depth=4, silent=False))\n",
    "botometer_leave_one_out_scores = pd.DataFrame(rows)"
   ]
  },
  {
   "cell_type": "markdown",
   "id": "725a5aca",
   "metadata": {},
   "source": [
    "# Botometer combined datasets: train on one, test on another"
   ]
  },
  {
   "cell_type": "code",
   "execution_count": 299,
   "id": "689455f2",
   "metadata": {},
   "outputs": [
    {
     "data": {
      "text/plain": [
       "<module 'train_on_one_test_on_another' from '/home/jhays/bot-detection/train_on_one_test_on_another.py'>"
      ]
     },
     "execution_count": 299,
     "metadata": {},
     "output_type": "execute_result"
    }
   ],
   "source": [
    "importlib.reload(sys.modules['train_on_one_test_on_another'])"
   ]
  },
  {
   "cell_type": "code",
   "execution_count": 300,
   "id": "432608ee",
   "metadata": {},
   "outputs": [],
   "source": [
    "from train_on_one_test_on_another import train_on_one_test_on_another_botometer_combined"
   ]
  },
  {
   "cell_type": "code",
   "execution_count": 306,
   "id": "ff87e15b",
   "metadata": {
    "jupyter": {
     "outputs_hidden": true
    }
   },
   "outputs": [],
   "source": [
    "rows = []\n",
    "balanced_rows = []\n",
    "\n",
    "for bots1 in botometer_datasets:\n",
    "    for bots2 in botometer_datasets:\n",
    "        rf = ensemble.RandomForestClassifier()\n",
    "        rows.append(train_on_one_test_on_another_botometer_combined(bots1, \n",
    "                                                                    bots2, \n",
    "                                                                    human_df, \n",
    "                                                                    get_dataset_name(bots1), \n",
    "                                                                    get_dataset_name(bots2), \n",
    "                                                                    method=rf, \n",
    "                                                                    silent=True,\n",
    "                                                                    balance=False\n",
    "                                                                   ))\n",
    "        balanced_rows.append(train_on_one_test_on_another_botometer_combined(bots1, \n",
    "                                                                    bots2, \n",
    "                                                                    human_df, \n",
    "                                                                    get_dataset_name(bots1), \n",
    "                                                                    get_dataset_name(bots2), \n",
    "                                                                    method=rf, \n",
    "                                                                    silent=True,\n",
    "                                                                    balance=True\n",
    "                                                                   ))\n",
    "        \n",
    "botometer_tootoa = pd.DataFrame(rows)   \n",
    "botometer_tootoa_balanced = pd.DataFrame(rows)   "
   ]
  },
  {
   "cell_type": "code",
   "execution_count": 317,
   "id": "3b9c6513",
   "metadata": {},
   "outputs": [],
   "source": [
    "importlib.reload(sys.modules['print_table'])\n",
    "from print_table import print_totoa_matrix"
   ]
  },
  {
   "cell_type": "code",
   "execution_count": 318,
   "id": "c8cb263d",
   "metadata": {
    "scrolled": true
   },
   "outputs": [
    {
     "name": "stdout",
     "output_type": "stream",
     "text": [
      "\\begin{tikzpicture}[]\n",
      "  \\matrix[matrix of nodes,row sep=-\\pgflinewidth, column sep=-.1em,\n",
      "nodes={{rectangle}},\n",
      "column 1/.style={{anchor=east}},]{\n",
      "\\data{\\small{fake-followers}} & |[fill={rgb,255:red,5;green,5;blue,205}, value=0.98]|&|[fill={rgb,255:red,176;green,176;blue,218}, value=0.31]|&|[fill={rgb,255:red,117;green,117;blue,213}, value=0.54]|&|[fill={rgb,255:red,245;green,245;blue,223}, value=0.04]|&|[fill={rgb,255:red,57;green,57;blue,209}, value=0.77]|&|[fill={rgb,255:red,153;green,153;blue,216}, value=0.4]| \\\\\n",
      "\\data{\\small{other-bots}} & |[fill={rgb,255:red,46;green,46;blue,208}, value=0.82]|&|[fill={rgb,255:red,28;green,28;blue,207}, value=0.89]|&|[fill={rgb,255:red,250;green,250;blue,223}, value=0.02]|&|[fill={rgb,255:red,63;green,63;blue,209}, value=0.75]|&|[fill={rgb,255:red,94;green,94;blue,212}, value=0.63]|&|[fill={rgb,255:red,127;green,127;blue,214}, value=0.5]| \\\\\n",
      "\\data{\\small{political-bots}} & |[fill={rgb,255:red,215;green,215;blue,221}, value=0.16]|&|[fill={rgb,255:red,211;green,211;blue,220}, value=0.17]|&|[fill={rgb,255:red,1;green,1;blue,205}, value=0.99]|&|[fill={rgb,255:red,255;green,255;blue,224}, value=0.0]|&|[fill={rgb,255:red,147;green,147;blue,216}, value=0.42]|&|[fill={rgb,255:red,204;green,204;blue,220}, value=0.2]| \\\\\n",
      "\\data{\\small{self-declared}} & |[fill={rgb,255:red,240;green,240;blue,222}, value=0.06]|&|[fill={rgb,255:red,145;green,145;blue,215}, value=0.43]|&|[fill={rgb,255:red,57;green,57;blue,209}, value=0.77]|&|[fill={rgb,255:red,9;green,9;blue,205}, value=0.96]|&|[fill={rgb,255:red,245;green,245;blue,223}, value=0.04]|&|[fill={rgb,255:red,189;green,189;blue,219}, value=0.26]| \\\\\n",
      "\\data{\\small{simple}} & |[fill={rgb,255:red,34;green,34;blue,207}, value=0.86]|&|[fill={rgb,255:red,191;green,191;blue,219}, value=0.25]|&|[fill={rgb,255:red,23;green,23;blue,206}, value=0.91]|&|[fill={rgb,255:red,248;green,248;blue,223}, value=0.03]|&|[fill={rgb,255:red,5;green,5;blue,205}, value=0.98]|&|[fill={rgb,255:red,114;green,114;blue,213}, value=0.55]| \\\\\n",
      "\\data{\\small{spammers}} & |[fill={rgb,255:red,53;green,53;blue,208}, value=0.79]|&|[fill={rgb,255:red,179;green,179;blue,218}, value=0.3]|&|[fill={rgb,255:red,28;green,28;blue,207}, value=0.89]|&|[fill={rgb,255:red,222;green,222;blue,221}, value=0.13]|&|[fill={rgb,255:red,46;green,46;blue,208}, value=0.82]|&|[fill={rgb,255:red,9;green,9;blue,205}, value=0.96]| \\\\\n",
      "};\n",
      "\\node[label={[label distance=0.5cm,text depth=-1ex,rotate=45]left: \\data{\\small{fake-followers}} }] at (-0.15,-1.75) {};\n",
      "\\node[label={[label distance=0.5cm,text depth=-1ex,rotate=45]left: \\data{\\small{other-bots}} }] at (0.5499999999999999,-1.75) {};\n",
      "\\node[label={[label distance=0.5cm,text depth=-1ex,rotate=45]left: \\data{\\small{political-bots}} }] at (1.25,-1.75) {};\n",
      "\\node[label={[label distance=0.5cm,text depth=-1ex,rotate=45]left: \\data{\\small{self-declared}} }] at (1.9499999999999997,-1.75) {};\n",
      "\\node[label={[label distance=0.5cm,text depth=-1ex,rotate=45]left: \\data{\\small{simple}} }] at (2.65,-1.75) {};\n",
      "\\node[label={[label distance=0.5cm,text depth=-1ex,rotate=45]left: \\data{\\small{spammers}} }] at (3.35,-1.75) {};\n",
      "\\end{tikzpicture}\n",
      "\n",
      "\n"
     ]
    }
   ],
   "source": [
    "print_totoa_matrix(botometer_tootoa, 'f', start_x=-0.15, start_y=-1.75)\n"
   ]
  },
  {
   "cell_type": "code",
   "execution_count": 319,
   "id": "82712271",
   "metadata": {},
   "outputs": [
    {
     "name": "stdout",
     "output_type": "stream",
     "text": [
      "\\begin{tikzpicture}[]\n",
      "  \\matrix[matrix of nodes,row sep=-\\pgflinewidth, column sep=-.1em,\n",
      "nodes={{rectangle}},\n",
      "column 1/.style={{anchor=east}},]{\n",
      "\\data{\\small{fake-followers}} & |[fill={rgb,255:red,9;green,9;blue,205}, value=0.98]|&|[fill={rgb,255:red,220;green,220;blue,221}, value=0.57]|&|[fill={rgb,255:red,174;green,174;blue,217}, value=0.66]|&|[fill={rgb,255:red,249;green,243;blue,214}, value=0.48]|&|[fill={rgb,255:red,102;green,102;blue,212}, value=0.8]|&|[fill={rgb,255:red,204;green,204;blue,220}, value=0.6]| \\\\\n",
      "\\data{\\small{other-bots}} & |[fill={rgb,255:red,96;green,96;blue,212}, value=0.81]|&|[fill={rgb,255:red,65;green,65;blue,209}, value=0.87]|&|[fill={rgb,255:red,222;green,184;blue,161}, value=0.36]|&|[fill={rgb,255:red,121;green,121;blue,214}, value=0.76]|&|[fill={rgb,255:red,168;green,168;blue,217}, value=0.67]|&|[fill={rgb,255:red,208;green,208;blue,220}, value=0.59]| \\\\\n",
      "\\data{\\small{political-bots}} & |[fill={rgb,255:red,250;green,250;blue,223}, value=0.51]|&|[fill={rgb,255:red,234;green,234;blue,222}, value=0.54]|&|[fill={rgb,255:red,4;green,4;blue,205}, value=0.99]|&|[fill={rgb,255:red,252;green,250;blue,219}, value=0.49]|&|[fill={rgb,255:red,188;green,188;blue,219}, value=0.63]|&|[fill={rgb,255:red,230;green,230;blue,222}, value=0.55]| \\\\\n",
      "\\data{\\small{self-declared}} & |[fill={rgb,255:red,249;green,243;blue,214}, value=0.48]|&|[fill={rgb,255:red,194;green,194;blue,219}, value=0.62]|&|[fill={rgb,255:red,102;green,102;blue,212}, value=0.8]|&|[fill={rgb,255:red,24;green,24;blue,206}, value=0.95]|&|[fill={rgb,255:red,248;green,240;blue,210}, value=0.47]|&|[fill={rgb,255:red,234;green,234;blue,222}, value=0.54]| \\\\\n",
      "\\data{\\small{simple}} & |[fill={rgb,255:red,70;green,70;blue,210}, value=0.86]|&|[fill={rgb,255:red,240;green,240;blue,222}, value=0.53]|&|[fill={rgb,255:red,49;green,49;blue,208}, value=0.9]|&|[fill={rgb,255:red,245;green,234;blue,205}, value=0.46]|&|[fill={rgb,255:red,9;green,9;blue,205}, value=0.98]|&|[fill={rgb,255:red,174;green,174;blue,217}, value=0.66]| \\\\\n",
      "\\data{\\small{spammers}} & |[fill={rgb,255:red,96;green,96;blue,212}, value=0.81]|&|[fill={rgb,255:red,230;green,230;blue,222}, value=0.55]|&|[fill={rgb,255:red,56;green,56;blue,209}, value=0.89]|&|[fill={rgb,255:red,252;green,250;blue,219}, value=0.49]|&|[fill={rgb,255:red,86;green,86;blue,211}, value=0.83]|&|[fill={rgb,255:red,24;green,24;blue,206}, value=0.95]| \\\\\n",
      "};\n",
      "\\node[label={[label distance=0.5cm,text depth=-1ex,rotate=45]left: \\data{\\small{fake-followers}} }] at (-0.15,-1.75) {};\n",
      "\\node[label={[label distance=0.5cm,text depth=-1ex,rotate=45]left: \\data{\\small{other-bots}} }] at (0.5499999999999999,-1.75) {};\n",
      "\\node[label={[label distance=0.5cm,text depth=-1ex,rotate=45]left: \\data{\\small{political-bots}} }] at (1.25,-1.75) {};\n",
      "\\node[label={[label distance=0.5cm,text depth=-1ex,rotate=45]left: \\data{\\small{self-declared}} }] at (1.9499999999999997,-1.75) {};\n",
      "\\node[label={[label distance=0.5cm,text depth=-1ex,rotate=45]left: \\data{\\small{simple}} }] at (2.65,-1.75) {};\n",
      "\\node[label={[label distance=0.5cm,text depth=-1ex,rotate=45]left: \\data{\\small{spammers}} }] at (3.35,-1.75) {};\n",
      "\\end{tikzpicture}\n",
      "\n",
      "\n"
     ]
    }
   ],
   "source": [
    "print_totoa_matrix(botometer_tootoa_balanced, 'a', start_x=-0.15, start_y=-1.75)"
   ]
  },
  {
   "cell_type": "code",
   "execution_count": 288,
   "id": "dd149a16",
   "metadata": {},
   "outputs": [
    {
     "data": {
      "image/png": "[encoded data removed]",
      "text/plain": [
       "<Figure size 360x360 with 1 Axes>"
      ]
     },
     "metadata": {
      "needs_background": "light"
     },
     "output_type": "display_data"
    }
   ],
   "source": [
    "depth = 3\n",
    "botometer_tootoa_a = heatmap_train_on_one_test_on_another(botometer_train_on_one_test_on_another_performance, 'accuracy', depth)\n",
    "botometer_tootoa_a.to_csv(f\"botometer_tootoa_a{depth}.csv\")"
   ]
  },
  {
   "cell_type": "code",
   "execution_count": 289,
   "id": "dbfe0fff",
   "metadata": {},
   "outputs": [
    {
     "data": {
      "image/png": "[encoded data removed]",
      "text/plain": [
       "<Figure size 360x360 with 1 Axes>"
      ]
     },
     "metadata": {
      "needs_background": "light"
     },
     "output_type": "display_data"
    }
   ],
   "source": [
    "depth = 3\n",
    "botometer_tootoa_f = heatmap_train_on_one_test_on_another(botometer_train_on_one_test_on_another_performance, 'f1', depth)\n",
    "botometer_tootoa_f.to_csv(f\"botometer_tootoa_f{depth}.csv\")"
   ]
  },
  {
   "cell_type": "markdown",
   "id": "490f252d",
   "metadata": {},
   "source": [
    "# Botometer combined datasets: leave-one-dataset-out"
   ]
  },
  {
   "cell_type": "code",
   "execution_count": 321,
   "id": "d768fb8d",
   "metadata": {},
   "outputs": [
    {
     "data": {
      "text/plain": [
       "<module 'leaveonedatasetout' from '/home/jhays/bot-detection/leaveonedatasetout.py'>"
      ]
     },
     "execution_count": 321,
     "metadata": {},
     "output_type": "execute_result"
    }
   ],
   "source": [
    "importlib.reload(sys.modules['leaveonedatasetout'])"
   ]
  },
  {
   "cell_type": "code",
   "execution_count": 323,
   "id": "b87dbbab",
   "metadata": {},
   "outputs": [],
   "source": [
    "from leaveonedatasetout import leave_dataset_out_botometer"
   ]
  },
  {
   "cell_type": "code",
   "execution_count": 326,
   "id": "9cc7376d",
   "metadata": {},
   "outputs": [],
   "source": [
    "rows = []\n",
    "rf = ensemble.RandomForestClassifier()\n",
    "\n",
    "for i in range(len(botometer_datasets)):\n",
    "    rows.append(leave_dataset_out_botometer(i, botometer_datasets, botometer_dataset_names, human_df, method=rf))\n",
    "    \n",
    "botometer_leave_one_out_scores = pd.DataFrame(rows)"
   ]
  },
  {
   "cell_type": "code",
   "execution_count": 327,
   "id": "d6135e06",
   "metadata": {},
   "outputs": [
    {
     "name": "stdout",
     "output_type": "stream",
     "text": [
      "simple & 0.36/0.53/0.69 \\\\\n",
      "spammers & 0.49/0.66/0.51 \\\\\n",
      "fake-followers & 0.80/0.89/0.81 \\\\\n",
      "self-declared & 0.05/0.10/0.07 \\\\\n",
      "political-bots & 0.97/0.98/1.00 \\\\\n",
      "other-bots & 0.18/0.31/0.21 \\\\\n"
     ]
    }
   ],
   "source": [
    "print_leave_one_out_table(botometer_leave_one_out_scores, random_forest=True)"
   ]
  },
  {
   "cell_type": "markdown",
   "id": "0acb5975",
   "metadata": {},
   "source": [
    "# Ensemble of specialized decision trees"
   ]
  },
  {
   "cell_type": "code",
   "execution_count": null,
   "id": "b0a8234e",
   "metadata": {},
   "outputs": [],
   "source": [
    "def split_human_df(human_df, n_datasets, dataset_size):\n",
    "    human_df_sample = human_df.sample(n=n_datasets*dataset_size)\n",
    "    return [human_df_sample[i*dataset_size:(i+1)*dataset_size] for i in range(n_datasets)]"
   ]
  },
  {
   "cell_type": "code",
   "execution_count": null,
   "id": "5167deb7",
   "metadata": {},
   "outputs": [],
   "source": [
    "botometer_datasets = [simple_df, spammers_df, fake_followers_df, self_declared_df, political_bots_df, other_bots]\n",
    "human_dfs = split_human_df(human_df, len(botometer_datasets), dataset_size)\n",
    "\n",
    "bot_names = [get_dataset_name(d) for d in botometer_datasets]\n"
   ]
  },
  {
   "cell_type": "code",
   "execution_count": null,
   "id": "092de781",
   "metadata": {},
   "outputs": [],
   "source": [
    "importlib.reload(sys.modules['ensemble'])\n",
    "\n",
    "from ensemble import get_ensemble_of_classifiers"
   ]
  },
  {
   "cell_type": "code",
   "execution_count": null,
   "id": "ee60c96a",
   "metadata": {},
   "outputs": [],
   "source": [
    "clfs, test_aggregate_df, test_labels_aggregate_concat = get_ensemble_of_classifiers(botometer_datasets, human_dfs, bot_names, depth=4)\n"
   ]
  },
  {
   "cell_type": "code",
   "execution_count": null,
   "id": "c66d0ed0",
   "metadata": {},
   "outputs": [],
   "source": [
    "score_ensemble_speicalized_trees(clfs, test_aggregate_df, test_labels_aggregate_concat)"
   ]
  },
  {
   "cell_type": "markdown",
   "id": "b8f617ff",
   "metadata": {},
   "source": [
    "## Ensembles of specialized random forests"
   ]
  },
  {
   "cell_type": "code",
   "execution_count": null,
   "id": "ea2b9adb",
   "metadata": {},
   "outputs": [],
   "source": [
    "rf = ensemble.RandomForestClassifier(n_estimators=100)\n",
    "rf_clfs, test_aggregate_df, test_labels_aggregate_concat = get_ensemble_of_classifiers(botometer_datasets, human_dfs, bot_names, method=rf)\n",
    "\n",
    "predictions = [rf_clfs[i].predict(test_aggregate_df) for i in range(n_classifiers)]\n",
    "probs = [rf_clfs[i].predict_proba(test_aggregate_df) for i in range(n_classifiers)]\n",
    "probs = [p[:,0] for p in probs]\n",
    "most_confident_clf = [get_max_confidence_rf(probs, i)[0] for i in range(len(test_aggregate_df))]\n",
    "max_prediction = [predictions[j][i] for i,j in enumerate(most_confident_clf)]\n",
    "print(f\"Accuracy: {accuracy_score(max_prediction, test_labels_aggregate_concat)}\")\n",
    "print(f\"F1: {f1_score(max_prediction, test_labels_aggregate_concat)}\")"
   ]
  },
  {
   "cell_type": "markdown",
   "id": "64135848",
   "metadata": {},
   "source": [
    "## Just simple decision rule"
   ]
  },
  {
   "cell_type": "code",
   "execution_count": null,
   "id": "3d7d325c",
   "metadata": {},
   "outputs": [],
   "source": [
    "all_clf = clfs[-1]\n",
    "all_predictions = all_clf.predict(test_aggregate_df)\n",
    "print(f\"Accuracy: {accuracy_score(all_predictions, test_labels_aggregate_concat)}\")\n",
    "print(f\"F1: {f1_score(all_predictions, test_labels_aggregate_concat)}\")"
   ]
  },
  {
   "cell_type": "markdown",
   "id": "58c77371",
   "metadata": {},
   "source": [
    "## Just random forest"
   ]
  },
  {
   "cell_type": "code",
   "execution_count": null,
   "id": "9720b088",
   "metadata": {},
   "outputs": [],
   "source": [
    "all_clf_rf = rf_clfs[-1]\n",
    "all_predictions_rf = all_clf_rf.predict(test_aggregate_df)\n",
    "print(f\"Accuracy: {accuracy_score(all_predictions_rf, test_labels_aggregate_concat)}\")\n",
    "print(f\"F1: {f1_score(all_predictions_rf, test_labels_aggregate_concat)}\")"
   ]
  },
  {
   "cell_type": "markdown",
   "id": "47afa3cd",
   "metadata": {},
   "source": [
    "## Testing on held-out set"
   ]
  },
  {
   "cell_type": "code",
   "execution_count": null,
   "id": "9c3cf9d2",
   "metadata": {},
   "outputs": [],
   "source": [
    "hold_out_test_df = pd.concat([cresci_stock_2018_one_hot[cols], cresci_rtbust_2019_one_hot[cols], gilani_2017_one_hot[cols]])\n",
    "hold_out_test_labels = pd.concat([cresci_stock_labels, rtbust_labels, gilani_labels])\n",
    "\n",
    "score_ensemble_speicalized_trees(clfs, hold_out_test_df, hold_out_test_labels)\n"
   ]
  },
  {
   "cell_type": "code",
   "execution_count": null,
   "id": "7e0067e7",
   "metadata": {},
   "outputs": [],
   "source": [
    "score_ensemble_speicalized_trees(clfs, cresci_stock_2018_one_hot[cols], cresci_stock_labels)"
   ]
  },
  {
   "cell_type": "code",
   "execution_count": null,
   "id": "14604184",
   "metadata": {},
   "outputs": [],
   "source": [
    "score_ensemble_speicalized_trees(clfs, cresci_rtbust_2019_one_hot[cols], rtbust_labels)"
   ]
  },
  {
   "cell_type": "code",
   "execution_count": null,
   "id": "ed0f4a96",
   "metadata": {},
   "outputs": [],
   "source": [
    "score_ensemble_speicalized_trees(clfs, gilani_2017_one_hot[cols], gilani_labels)"
   ]
  },
  {
   "cell_type": "code",
   "execution_count": null,
   "id": "0692fc70",
   "metadata": {},
   "outputs": [],
   "source": [
    "all_predictions = all_clf.predict(hold_out_test_df)\n",
    "print(f\"Accuracy: {accuracy_score(all_predictions, hold_out_test_labels)}\")\n",
    "print(f\"F1: {f1_score(all_predictions, hold_out_test_labels)}\")"
   ]
  },
  {
   "cell_type": "code",
   "execution_count": null,
   "id": "a2927e96",
   "metadata": {},
   "outputs": [],
   "source": [
    "all_predictions = all_clf.predict(cresci_stock_2018_one_hot[cols])\n",
    "print(f\"Accuracy: {accuracy_score(all_predictions, cresci_stock_labels)}\")\n",
    "print(f\"F1: {f1_score(all_predictions, cresci_stock_labels)}\")"
   ]
  },
  {
   "cell_type": "code",
   "execution_count": null,
   "id": "2521a4a3",
   "metadata": {},
   "outputs": [],
   "source": [
    "all_predictions = all_clf.predict(cresci_rtbust_2019_one_hot[cols])\n",
    "print(f\"Accuracy: {accuracy_score(all_predictions, rtbust_labels)}\")\n",
    "print(f\"F1: {f1_score(all_predictions, rtbust_labels)}\")"
   ]
  },
  {
   "cell_type": "code",
   "execution_count": null,
   "id": "603601bb",
   "metadata": {},
   "outputs": [],
   "source": [
    "all_predictions = all_clf.predict(gilani_2017_one_hot[cols])\n",
    "print(f\"Accuracy: {accuracy_score(all_predictions, gilani_labels)}\")\n",
    "print(f\"F1: {f1_score(all_predictions, gilani_labels)}\")"
   ]
  },
  {
   "cell_type": "code",
   "execution_count": null,
   "id": "bb9e1e04",
   "metadata": {},
   "outputs": [],
   "source": [
    "all_clf_rf = rf_clfs[-1]\n",
    "all_predictions_rf = all_clf_rf.predict(hold_out_test_df)\n",
    "print(f\"Accuracy: {accuracy_score(all_predictions_rf, hold_out_test_labels)}\")\n",
    "print(f\"F1: {f1_score(all_predictions_rf, hold_out_test_labels)}\")"
   ]
  },
  {
   "cell_type": "code",
   "execution_count": null,
   "id": "4d8669ce",
   "metadata": {},
   "outputs": [],
   "source": [
    "all_predictions_rf = all_clf_rf.predict(cresci_stock_2018_one_hot[cols])\n",
    "print(f\"Accuracy: {accuracy_score(all_predictions_rf, cresci_stock_labels)}\")\n",
    "print(f\"F1: {f1_score(all_predictions_rf, cresci_stock_labels)}\")"
   ]
  },
  {
   "cell_type": "code",
   "execution_count": null,
   "id": "8fb0ccc3",
   "metadata": {},
   "outputs": [],
   "source": [
    "all_predictions_rf = all_clf_rf.predict(cresci_rtbust_2019_one_hot[cols])\n",
    "print(f\"Accuracy: {accuracy_score(all_predictions_rf, rtbust_labels)}\")\n",
    "print(f\"F1: {f1_score(all_predictions_rf, rtbust_labels)}\")"
   ]
  },
  {
   "cell_type": "code",
   "execution_count": null,
   "id": "e1be3eda",
   "metadata": {},
   "outputs": [],
   "source": [
    "all_predictions_rf = all_clf_rf.predict(gilani_2017_one_hot[cols])\n",
    "print(f\"Accuracy: {accuracy_score(all_predictions_rf, gilani_labels)}\")\n",
    "print(f\"F1: {f1_score(all_predictions_rf, gilani_labels)}\")"
   ]
  }
 ],
 "metadata": {
  "kernelspec": {
   "display_name": "Python 3",
   "language": "python",
   "name": "python3"
  },
  "language_info": {
   "codemirror_mode": {
    "name": "ipython",
    "version": 3
   },
   "file_extension": ".py",
   "mimetype": "text/x-python",
   "name": "python",
   "nbconvert_exporter": "python",
   "pygments_lexer": "ipython3",
   "version": "3.6.8"
  }
 },
 "nbformat": 4,
 "nbformat_minor": 5
}
