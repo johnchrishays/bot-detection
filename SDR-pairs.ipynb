{
 "cells": [
  {
   "cell_type": "markdown",
   "id": "58e0d721",
   "metadata": {},
   "source": [
    "# Simple decision rules give high performance for detecting social bots on benchmark datasets\n",
    "\n",
    "Analysis of benchmark datasets for bot detection."
   ]
  },
  {
   "cell_type": "markdown",
   "id": "efcf7dda",
   "metadata": {},
   "source": [
    "## Setup"
   ]
  },
  {
   "cell_type": "code",
   "execution_count": 1,
   "id": "a4f5eb48",
   "metadata": {
    "ExecuteTime": {
     "end_time": "2022-05-25T14:00:15.177464Z",
     "start_time": "2022-05-25T14:00:14.157695Z"
    }
   },
   "outputs": [],
   "source": [
    "import bson\n",
    "import datetime\n",
    "import itertools\n",
    "import numpy as np\n",
    "import matplotlib.pyplot as plt\n",
    "import matplotlib.ticker as mtick\n",
    "from matplotlib.ticker import MaxNLocator\n",
    "import pandas as pd\n",
    "import pyreadr\n",
    "import random\n",
    "import re\n",
    "from sklearn.model_selection import train_test_split\n",
    "from sklearn.metrics import f1_score, recall_score, precision_score, accuracy_score\n",
    "from sklearn import tree, ensemble\n",
    "import sys\n",
    "import time\n",
    "import importlib\n"
   ]
  },
  {
   "cell_type": "code",
   "execution_count": 51,
   "id": "210a8cc4",
   "metadata": {},
   "outputs": [
    {
     "data": {
      "text/plain": [
       "<module 'fit_and_score' from '/home/jhays/bot-detection/fit_and_score.py'>"
      ]
     },
     "execution_count": 51,
     "metadata": {},
     "output_type": "execute_result"
    }
   ],
   "source": [
    "from data_accessor import load_twibot, load_dataset, load_cresci, load_cresci2017, load_cresci2015, load_caverlee, load_pan19, load_cresci2017_tweets, load_cresci2015_tweets, load_midterm, load_gilani_derived_bands, load_yang, load_yang_tweets, load_cresci_stock_tweets, tweets_to_countvectorized_df, load_other_bots, load_spammers, get_intraclass_labels, load_human_dataset_list, load_fake_followers, load_other_bots, get_shared_cols\n",
    "from fit_and_score import fit, score, fit_and_score, kfold_cv, analyze_dataset, train_test_fit_and_score, train_test_fit_and_score_clf, nonnumeric, plot_metrics, calculate_accuracy, analyze_twibot\n",
    "from leaveonedatasetout import leave_dataset_out\n",
    "from plotting import heatmap_train_on_one_test_on_another, process_tick_label\n",
    "from preprocess import drop_and_one_hot, extract_users, load_json, preprocess_users, COLUMNS_TO_DROP, DUMMY_COLUMNS\n",
    "from print_table import print_totoa_matrix, print_leave_one_out_table, print_single_dataset_score_table, get_max_score\n",
    "from train_on_one_test_on_another import train_on_one_test_on_another\n",
    "\n",
    "importlib.reload(sys.modules['fit_and_score'])"
   ]
  },
  {
   "cell_type": "code",
   "execution_count": 3,
   "id": "b0ae77d9",
   "metadata": {
    "ExecuteTime": {
     "end_time": "2022-05-25T14:00:16.465779Z",
     "start_time": "2022-05-25T14:00:16.447264Z"
    }
   },
   "outputs": [],
   "source": [
    "PROJ_PATH = \"/nfs/sloanlab003/projects/bot_ensemble_proj/bot-detection\"\n",
    "\n",
    "def namestr(obj, namespace):\n",
    "    return [name for name in namespace if namespace[name] is obj]\n",
    "\n",
    "def get_dataset_name(df):\n",
    "    try:\n",
    "        return namestr(df, globals())[0]\n",
    "    except:\n",
    "        return \"Unknown\"\n"
   ]
  },
  {
   "cell_type": "markdown",
   "id": "1b4bf8d2",
   "metadata": {},
   "source": [
    "## Load datasets and calculate scores"
   ]
  },
  {
   "cell_type": "markdown",
   "id": "010f7e76",
   "metadata": {},
   "source": [
    "## Profile data"
   ]
  },
  {
   "cell_type": "code",
   "execution_count": 4,
   "id": "b4653a66",
   "metadata": {},
   "outputs": [],
   "source": [
    "importlib.reload(sys.modules['data_accessor'])\n"
   ]
  },
  {
   "cell_type": "code",
   "execution_count": 7,
   "id": "fc14f162",
   "metadata": {
    "collapsed": true
   },
   "outputs": [
    {
     "name": "stdout",
     "output_type": "stream",
     "text": [
      "Starting kfold_cv at 10/08/22 10:49:29\n",
      "Finished kfold_cv at 1665240569.5003846. Execution time: 0.09392857551574707 s\n",
      "Starting kfold_cv at 10/08/22 10:49:29\n",
      "Finished kfold_cv at 1665240569.596113. Execution time: 0.0955970287322998 s\n",
      "Starting kfold_cv at 10/08/22 10:49:29\n",
      "Finished kfold_cv at 1665240569.6970086. Execution time: 0.10076475143432617 s\n",
      "Starting kfold_cv at 10/08/22 10:49:29\n",
      "Finished kfold_cv at 1665240569.7983766. Execution time: 0.10123348236083984 s\n",
      "Starting kfold_cv at 10/08/22 10:49:29\n",
      "Finished kfold_cv at 1665240569.9034953. Execution time: 0.10498237609863281 s\n",
      "Starting kfold_cv at 10/08/22 10:49:29\n",
      "Finished kfold_cv at 1665240569.9934812. Execution time: 0.0898582935333252 s\n",
      "Starting kfold_cv at 10/08/22 10:49:29\n",
      "Finished kfold_cv at 1665240570.083991. Execution time: 0.0903773307800293 s\n",
      "Starting kfold_cv at 10/08/22 10:49:30\n",
      "Finished kfold_cv at 1665240570.1772215. Execution time: 0.09312295913696289 s\n",
      "Starting kfold_cv at 10/08/22 10:49:30\n",
      "Finished kfold_cv at 1665240570.2703483. Execution time: 0.0930171012878418 s\n",
      "Starting kfold_cv at 10/08/22 10:49:30\n",
      "Finished kfold_cv at 1665240570.364537. Execution time: 0.09408330917358398 s\n",
      "Starting kfold_cv at 10/08/22 10:49:30\n",
      "Finished kfold_cv at 1665240570.5006702. Execution time: 0.08049154281616211 s\n",
      "Starting kfold_cv at 10/08/22 10:49:30\n",
      "Finished kfold_cv at 1665240570.5824442. Execution time: 0.08164215087890625 s\n",
      "Starting kfold_cv at 10/08/22 10:49:30\n",
      "Finished kfold_cv at 1665240570.6662502. Execution time: 0.08367252349853516 s\n",
      "Starting kfold_cv at 10/08/22 10:49:30\n",
      "Finished kfold_cv at 1665240570.7508345. Execution time: 0.08445382118225098 s\n",
      "Starting kfold_cv at 10/08/22 10:49:30\n",
      "Finished kfold_cv at 1665240570.8373666. Execution time: 0.08639359474182129 s\n",
      "Starting kfold_cv at 10/08/22 10:49:30\n",
      "Finished kfold_cv at 1665240570.919934. Execution time: 0.08243370056152344 s\n",
      "Starting kfold_cv at 10/08/22 10:49:30\n",
      "Finished kfold_cv at 1665240571.003453. Execution time: 0.08337593078613281 s\n",
      "Starting kfold_cv at 10/08/22 10:49:31\n",
      "Finished kfold_cv at 1665240571.0888295. Execution time: 0.08524298667907715 s\n",
      "Starting kfold_cv at 10/08/22 10:49:31\n",
      "Finished kfold_cv at 1665240571.1779735. Execution time: 0.08901739120483398 s\n",
      "Starting kfold_cv at 10/08/22 10:49:31\n",
      "Finished kfold_cv at 1665240571.2676852. Execution time: 0.0895850658416748 s\n",
      "Starting kfold_cv at 10/08/22 10:49:31\n",
      "Finished kfold_cv at 1665240571.7446976. Execution time: 0.3242154121398926 s\n",
      "Starting kfold_cv at 10/08/22 10:49:31\n",
      "Finished kfold_cv at 1665240572.1058977. Execution time: 0.3610565662384033 s\n",
      "Starting kfold_cv at 10/08/22 10:49:32\n",
      "Finished kfold_cv at 1665240572.4931161. Execution time: 0.3870525360107422 s\n",
      "Starting kfold_cv at 10/08/22 10:49:32\n",
      "Finished kfold_cv at 1665240572.9071324. Execution time: 0.4138650894165039 s\n",
      "Starting kfold_cv at 10/08/22 10:49:32\n",
      "Finished kfold_cv at 1665240573.338576. Execution time: 0.4312901496887207 s\n",
      "Starting kfold_cv at 10/08/22 10:49:33\n",
      "Finished kfold_cv at 1665240573.6751263. Execution time: 0.3363780975341797 s\n",
      "Starting kfold_cv at 10/08/22 10:49:33\n",
      "Finished kfold_cv at 1665240574.0429475. Execution time: 0.36766481399536133 s\n",
      "Starting kfold_cv at 10/08/22 10:49:34\n",
      "Finished kfold_cv at 1665240574.4328015. Execution time: 0.38969993591308594 s\n",
      "Starting kfold_cv at 10/08/22 10:49:34\n",
      "Finished kfold_cv at 1665240574.8517966. Execution time: 0.418839693069458 s\n",
      "Starting kfold_cv at 10/08/22 10:49:34\n",
      "Finished kfold_cv at 1665240575.2865915. Execution time: 0.434614896774292 s\n",
      "Starting kfold_cv at 10/08/22 10:49:35\n",
      "Finished kfold_cv at 1665240575.4591892. Execution time: 0.07086014747619629 s\n",
      "Starting kfold_cv at 10/08/22 10:49:35\n",
      "Finished kfold_cv at 1665240575.5370514. Execution time: 0.07771944999694824 s\n",
      "Starting kfold_cv at 10/08/22 10:49:35\n",
      "Finished kfold_cv at 1665240575.617014. Execution time: 0.0798029899597168 s\n",
      "Starting kfold_cv at 10/08/22 10:49:35\n",
      "Finished kfold_cv at 1665240575.7010484. Execution time: 0.0838930606842041 s\n",
      "Starting kfold_cv at 10/08/22 10:49:35\n",
      "Finished kfold_cv at 1665240575.7907767. Execution time: 0.08958911895751953 s\n",
      "Starting kfold_cv at 10/08/22 10:49:35\n",
      "Finished kfold_cv at 1665240575.8636599. Execution time: 0.07272887229919434 s\n",
      "Starting kfold_cv at 10/08/22 10:49:35\n",
      "Finished kfold_cv at 1665240575.9394627. Execution time: 0.07566308975219727 s\n",
      "Starting kfold_cv at 10/08/22 10:49:35\n",
      "Finished kfold_cv at 1665240576.0182776. Execution time: 0.07867240905761719 s\n",
      "Starting kfold_cv at 10/08/22 10:49:36\n",
      "Finished kfold_cv at 1665240576.0993645. Execution time: 0.08094096183776855 s\n",
      "Starting kfold_cv at 10/08/22 10:49:36\n",
      "Finished kfold_cv at 1665240576.1827931. Execution time: 0.08328866958618164 s\n",
      "Starting kfold_cv at 10/08/22 10:49:36\n",
      "Finished kfold_cv at 1665240576.2575939. Execution time: 0.07465004920959473 s\n",
      "Starting kfold_cv at 10/08/22 10:49:36\n",
      "Finished kfold_cv at 1665240576.3359785. Execution time: 0.07824420928955078 s\n",
      "Starting kfold_cv at 10/08/22 10:49:36\n",
      "Finished kfold_cv at 1665240576.418302. Execution time: 0.08218669891357422 s\n",
      "Starting kfold_cv at 10/08/22 10:49:36\n",
      "Finished kfold_cv at 1665240576.5018473. Execution time: 0.08341646194458008 s\n",
      "Starting kfold_cv at 10/08/22 10:49:36\n",
      "Finished kfold_cv at 1665240576.5896983. Execution time: 0.08772015571594238 s\n",
      "Starting kfold_cv at 10/08/22 10:49:36\n",
      "Finished kfold_cv at 1665240576.6612856. Execution time: 0.07145905494689941 s\n",
      "Starting kfold_cv at 10/08/22 10:49:36\n",
      "Finished kfold_cv at 1665240576.7393048. Execution time: 0.0778954029083252 s\n",
      "Starting kfold_cv at 10/08/22 10:49:36\n",
      "Finished kfold_cv at 1665240576.8209648. Execution time: 0.08153343200683594 s\n",
      "Starting kfold_cv at 10/08/22 10:49:36\n",
      "Finished kfold_cv at 1665240576.9076102. Execution time: 0.08652067184448242 s\n",
      "Starting kfold_cv at 10/08/22 10:49:36\n",
      "Finished kfold_cv at 1665240577.0001643. Execution time: 0.09242963790893555 s\n",
      "Starting kfold_cv at 10/08/22 10:49:36\n",
      "Finished kfold_cv at 1665240577.0592318. Execution time: 0.05892634391784668 s\n",
      "Starting kfold_cv at 10/08/22 10:49:37\n",
      "Finished kfold_cv at 1665240577.120328. Execution time: 0.060973405838012695 s\n",
      "Starting kfold_cv at 10/08/22 10:49:37\n",
      "Finished kfold_cv at 1665240577.1835165. Execution time: 0.06304717063903809 s\n",
      "Starting kfold_cv at 10/08/22 10:49:37\n",
      "Finished kfold_cv at 1665240577.2499769. Execution time: 0.06632566452026367 s\n",
      "Starting kfold_cv at 10/08/22 10:49:37\n",
      "Finished kfold_cv at 1665240577.317134. Execution time: 0.06702876091003418 s\n",
      "Starting kfold_cv at 10/08/22 10:49:37\n",
      "Finished kfold_cv at 1665240577.3786066. Execution time: 0.06134176254272461 s\n",
      "Starting kfold_cv at 10/08/22 10:49:37\n",
      "Finished kfold_cv at 1665240577.4420075. Execution time: 0.0632779598236084 s\n",
      "Starting kfold_cv at 10/08/22 10:49:37\n",
      "Finished kfold_cv at 1665240577.5080776. Execution time: 0.0659492015838623 s\n",
      "Starting kfold_cv at 10/08/22 10:49:37\n",
      "Finished kfold_cv at 1665240577.574603. Execution time: 0.06640005111694336 s\n",
      "Starting kfold_cv at 10/08/22 10:49:37\n",
      "Finished kfold_cv at 1665240577.6424725. Execution time: 0.06774663925170898 s\n",
      "Starting kfold_cv at 10/08/22 10:49:37\n",
      "Finished kfold_cv at 1665240577.6962023. Execution time: 0.0535886287689209 s\n",
      "Starting kfold_cv at 10/08/22 10:49:37\n",
      "Finished kfold_cv at 1665240577.7503588. Execution time: 0.05403494834899902 s\n",
      "Starting kfold_cv at 10/08/22 10:49:37\n",
      "Finished kfold_cv at 1665240577.8024921. Execution time: 0.05201292037963867 s\n",
      "Starting kfold_cv at 10/08/22 10:49:37\n",
      "Finished kfold_cv at 1665240577.8558185. Execution time: 0.05319666862487793 s\n",
      "Starting kfold_cv at 10/08/22 10:49:37\n",
      "Finished kfold_cv at 1665240577.9080698. Execution time: 0.05212807655334473 s\n",
      "Starting kfold_cv at 10/08/22 10:49:37\n",
      "Finished kfold_cv at 1665240577.9721344. Execution time: 0.06393861770629883 s\n",
      "Starting kfold_cv at 10/08/22 10:49:37\n",
      "Finished kfold_cv at 1665240578.0620651. Execution time: 0.0897369384765625 s\n",
      "Starting kfold_cv at 10/08/22 10:49:38\n",
      "Finished kfold_cv at 1665240578.1275733. Execution time: 0.06536197662353516 s\n",
      "Starting kfold_cv at 10/08/22 10:49:38\n",
      "Finished kfold_cv at 1665240578.185223. Execution time: 0.057518959045410156 s\n",
      "Starting kfold_cv at 10/08/22 10:49:38\n",
      "Finished kfold_cv at 1665240578.2427285. Execution time: 0.057344675064086914 s\n"
     ]
    },
    {
     "name": "stdout",
     "output_type": "stream",
     "text": [
      "Starting kfold_cv at 10/08/22 10:49:38\n",
      "Finished kfold_cv at 1665240582.1763256. Execution time: 3.3994076251983643 s\n",
      "Starting kfold_cv at 10/08/22 10:49:42\n",
      "Finished kfold_cv at 1665240586.1258583. Execution time: 3.949354410171509 s\n",
      "Starting kfold_cv at 10/08/22 10:49:46\n",
      "Finished kfold_cv at 1665240590.4711342. Execution time: 4.3449108600616455 s\n",
      "Starting kfold_cv at 10/08/22 10:49:50\n",
      "Finished kfold_cv at 1665240595.4194984. Execution time: 4.9481751918792725 s\n",
      "Starting kfold_cv at 10/08/22 10:49:55\n",
      "Finished kfold_cv at 1665240600.7830377. Execution time: 5.363354921340942 s\n",
      "Starting kfold_cv at 10/08/22 10:50:00\n",
      "Finished kfold_cv at 1665240603.20128. Execution time: 2.4180264472961426 s\n",
      "Starting kfold_cv at 10/08/22 10:50:03\n",
      "Finished kfold_cv at 1665240605.746345. Execution time: 2.54488205909729 s\n",
      "Starting kfold_cv at 10/08/22 10:50:05\n",
      "Finished kfold_cv at 1665240608.420723. Execution time: 2.67419171333313 s\n",
      "Starting kfold_cv at 10/08/22 10:50:08\n",
      "Finished kfold_cv at 1665240611.2347386. Execution time: 2.8138325214385986 s\n",
      "Starting kfold_cv at 10/08/22 10:50:11\n",
      "Finished kfold_cv at 1665240614.1511233. Execution time: 2.9162046909332275 s\n",
      "Starting kfold_cv at 10/08/22 10:50:14\n",
      "Finished kfold_cv at 1665240615.772123. Execution time: 0.9968562126159668 s\n",
      "Starting kfold_cv at 10/08/22 10:50:15\n",
      "Finished kfold_cv at 1665240616.898645. Execution time: 1.1263329982757568 s\n",
      "Starting kfold_cv at 10/08/22 10:50:16\n",
      "Finished kfold_cv at 1665240618.1171947. Execution time: 1.218388557434082 s\n",
      "Starting kfold_cv at 10/08/22 10:50:18\n",
      "Finished kfold_cv at 1665240619.4369102. Execution time: 1.3195469379425049 s\n",
      "Starting kfold_cv at 10/08/22 10:50:19\n",
      "Finished kfold_cv at 1665240620.8550868. Execution time: 1.4179906845092773 s\n",
      "Starting kfold_cv at 10/08/22 10:50:20\n",
      "Finished kfold_cv at 1665240621.745202. Execution time: 0.8899261951446533 s\n",
      "Starting kfold_cv at 10/08/22 10:50:21\n",
      "Finished kfold_cv at 1665240622.7130349. Execution time: 0.967677116394043 s\n",
      "Starting kfold_cv at 10/08/22 10:50:22\n",
      "Finished kfold_cv at 1665240623.7400684. Execution time: 1.0268726348876953 s\n",
      "Starting kfold_cv at 10/08/22 10:50:23\n",
      "Finished kfold_cv at 1665240624.8245234. Execution time: 1.0842740535736084 s\n",
      "Starting kfold_cv at 10/08/22 10:50:24\n",
      "Finished kfold_cv at 1665240625.9685059. Execution time: 1.1438021659851074 s\n",
      "Starting kfold_cv at 10/08/22 10:50:26\n",
      "Finished kfold_cv at 1665240626.8628907. Execution time: 0.36196017265319824 s\n",
      "Starting kfold_cv at 10/08/22 10:50:26\n",
      "Finished kfold_cv at 1665240627.283656. Execution time: 0.42061924934387207 s\n",
      "Starting kfold_cv at 10/08/22 10:50:27\n",
      "Finished kfold_cv at 1665240627.7567163. Execution time: 0.47290968894958496 s\n",
      "Starting kfold_cv at 10/08/22 10:50:27\n",
      "Finished kfold_cv at 1665240628.2818947. Execution time: 0.5250265598297119 s\n",
      "Starting kfold_cv at 10/08/22 10:50:28\n",
      "Finished kfold_cv at 1665240628.8571277. Execution time: 0.575080156326294 s\n",
      "Starting kfold_cv at 10/08/22 10:50:28\n",
      "Finished kfold_cv at 1665240629.2136912. Execution time: 0.35639357566833496 s\n",
      "Starting kfold_cv at 10/08/22 10:50:29\n",
      "Finished kfold_cv at 1665240629.6277263. Execution time: 0.41385650634765625 s\n",
      "Starting kfold_cv at 10/08/22 10:50:29\n",
      "Finished kfold_cv at 1665240630.1650171. Execution time: 0.537123441696167 s\n",
      "Starting kfold_cv at 10/08/22 10:50:30\n",
      "Finished kfold_cv at 1665240630.6907747. Execution time: 0.5255794525146484 s\n",
      "Starting kfold_cv at 10/08/22 10:50:30\n",
      "Finished kfold_cv at 1665240631.256708. Execution time: 0.5657603740692139 s\n",
      "Starting kfold_cv at 10/08/22 10:50:32\n",
      "Finished kfold_cv at 1665240635.5643878. Execution time: 3.432830572128296 s\n",
      "Starting kfold_cv at 10/08/22 10:50:35\n",
      "Finished kfold_cv at 1665240639.5683098. Execution time: 4.003536224365234 s\n",
      "Starting kfold_cv at 10/08/22 10:50:39\n",
      "Finished kfold_cv at 1665240644.0224757. Execution time: 4.4539923667907715 s\n",
      "Starting kfold_cv at 10/08/22 10:50:44\n",
      "Finished kfold_cv at 1665240648.812698. Execution time: 4.790038585662842 s\n",
      "Starting kfold_cv at 10/08/22 10:50:48\n",
      "Finished kfold_cv at 1665240654.0463386. Execution time: 5.233451843261719 s\n",
      "Starting kfold_cv at 10/08/22 10:50:54\n",
      "Finished kfold_cv at 1665240658.678431. Execution time: 4.6319050788879395 s\n",
      "Starting kfold_cv at 10/08/22 10:50:58\n",
      "Finished kfold_cv at 1665240662.8552544. Execution time: 4.176607847213745 s\n",
      "Starting kfold_cv at 10/08/22 10:51:02\n",
      "Finished kfold_cv at 1665240667.4815903. Execution time: 4.6261584758758545 s\n",
      "Starting kfold_cv at 10/08/22 10:51:07\n",
      "Finished kfold_cv at 1665240672.4092205. Execution time: 4.927438497543335 s\n",
      "Starting kfold_cv at 10/08/22 10:51:12\n",
      "Finished kfold_cv at 1665240677.428337. Execution time: 5.018942594528198 s\n"
     ]
    }
   ],
   "source": [
    "## BENCHMARK DATASETS\n",
    "# twibot\n",
    "twibot_df, twibot_2020_one_hot, twibot_labels = load_twibot(PROJ_PATH + \"/data/Twibot-20/train.json\")\n",
    "twibot_test, twibot_2020_one_hot_test, twibot_labels_test = load_twibot(PROJ_PATH + \"/data/Twibot-20/test.json\")\n",
    "twibot_scores = analyze_twibot(twibot_2020_one_hot, twibot_2020_one_hot_test, twibot_labels, twibot_labels_test)\n",
    "\n",
    "# botometer-feedback\n",
    "bf, botometer_feedback_2019_one_hot, bf_labels = load_dataset(PROJ_PATH + \"/data/botometer-feedback-2019_tweets.json\", PROJ_PATH + \"/data/botometer-feedback-2019.tsv\")\n",
    "botometer_feedback_scores = analyze_dataset(botometer_feedback_2019_one_hot, bf_labels, silent=True)\n",
    "\n",
    "#rtbust\n",
    "rtbust, cresci_rtbust_2019_one_hot, rtbust_labels = load_dataset(PROJ_PATH + \"/data/cresci-rtbust-2019_tweets.json\", PROJ_PATH + \"/data/cresci-rtbust-2019.tsv\")\n",
    "rtbust_scores = analyze_dataset(cresci_rtbust_2019_one_hot, rtbust_labels, silent=True)\n",
    "\n",
    "#gilani-2017\n",
    "gilani, gilani_2017_one_hot, gilani_labels = load_dataset(PROJ_PATH + \"/data/gilani-2017_tweets.json\", PROJ_PATH + \"/data/gilani-2017.tsv\")\n",
    "gilani_scores = analyze_dataset(gilani_2017_one_hot, gilani_labels, silent=True)\n",
    "\n",
    "#gilani-2017 with derived features from orginal paper\n",
    "gilani_derived_dfs, gilani_derived_labels = load_gilani_derived_bands(PROJ_PATH + f\"/data/gilani_derived/classification_processed/\")\n",
    "gilani_derived_scores = [analyze_dataset(gilani_derived_df, gilani_derived_label, silent=True) for gilani_derived_df, gilani_derived_label in zip(gilani_derived_dfs, gilani_derived_labels)]\n",
    "gilani_derived_scores_avg = [[sum([strat[depth_ind][scr_ind] for strat in gilani_derived_scores])/4 for scr_ind in range(5)] for depth_ind in range(5)]\n",
    "\n",
    "#cresci-2017\n",
    "cresci2017, cresci_2017_one_hot, cresci2017_labels = load_cresci2017(PROJ_PATH + \"/data/cresci-2017/{}.csv/users.csv\")\n",
    "cresci2017_scores = analyze_dataset(cresci_2017_one_hot, cresci2017_labels, silent=True)\n",
    "\n",
    "#cresci-2015\n",
    "cresci2015, cresci_2015_one_hot, cresci2015_labels = load_cresci2015(PROJ_PATH + \"/data/cresci-2015/{}/users.csv\")\n",
    "cresci2015_scores = analyze_dataset(cresci_2015_one_hot, cresci2015_labels, silent=True)\n",
    "\n",
    "#caverlee-2011\n",
    "caverlee_2011, caverlee_2011_labels = load_caverlee(PROJ_PATH + \"/data/social_honeypot_icwsm_2011/\")\n",
    "caverlee_2011_scores = analyze_dataset(caverlee_2011, caverlee_2011_labels, silent=True)\n",
    "\n",
    "#cresci-stock-2018\n",
    "cresci_stock, cresci_stock_2018_one_hot, cresci_stock_labels = load_dataset(PROJ_PATH + \"/data/cresci-stock-2018_tweets.json\", PROJ_PATH + \"/data/cresci-stock-2018.tsv\")\n",
    "cresci_stock_scores = analyze_dataset(cresci_stock_2018_one_hot, cresci_stock_labels, silent=True)\n",
    "\n",
    "### SINGLE-CLASS DATAETS \n",
    "# bot-wiki\n",
    "botwiki_df, botwiki_one_hot, botwiki_labels = load_dataset(PROJ_PATH + \"/data/botwiki-2019_tweets.json\", PROJ_PATH + \"/data/botwiki-2019.tsv\")\n",
    "# celebrity\n",
    "celebrity_df, celebrity_one_hot, celebrity_labels = load_dataset(PROJ_PATH + \"/data/celebrity-2019_tweets.json\", PROJ_PATH + \"/data/celebrity-2019.tsv\")\n",
    "# political-bots\n",
    "political_bots_df, political_bots_one_hot, political_bots_labels = load_dataset(PROJ_PATH + \"/data/political-bots-2019/political-bots-2019_tweets.json\", PROJ_PATH + \"/data/political-bots-2019/political-bots-2019.tsv\")\n",
    "# pronbots\n",
    "pronbots_df, pronbots_one_hot, pronbots_labels = load_dataset(PROJ_PATH + \"/data/pronbots-2019_tweets.json\", PROJ_PATH + \"/data/pronbots-2019.tsv\")\n",
    "# vendor purchased\n",
    "vendor_purchased_df, vendor_purchased_one_hot, vendor_purchased_labels = load_dataset(PROJ_PATH + \"/data/vendor-purchased-2019_tweets.json\", PROJ_PATH + \"/data/vendor-purchased-2019.tsv\")\n",
    "#verified\n",
    "verified_df, verified_one_hot, verified_labels = load_dataset(PROJ_PATH + \"/data/verified-2019_tweets.json\", PROJ_PATH + \"/data/verified-2019.tsv\")\n"
   ]
  },
  {
   "cell_type": "code",
   "execution_count": 8,
   "id": "8910d161",
   "metadata": {
    "collapsed": true
   },
   "outputs": [
    {
     "name": "stdout",
     "output_type": "stream",
     "text": [
      "Starting kfold_cv at 10/08/22 10:51:30\n",
      "Finished kfold_cv at 1665240886.4450147. Execution time: 196.17668652534485 s\n",
      "Starting kfold_cv at 10/08/22 10:54:46\n",
      "Finished kfold_cv at 1665241052.0969648. Execution time: 165.65172457695007 s\n",
      "Starting kfold_cv at 10/08/22 10:57:32\n",
      "Finished kfold_cv at 1665241240.988152. Execution time: 188.89096593856812 s\n",
      "Starting kfold_cv at 10/08/22 11:00:40\n",
      "Finished kfold_cv at 1665241437.3639414. Execution time: 196.37520217895508 s\n",
      "Starting kfold_cv at 10/08/22 11:03:57\n",
      "Finished kfold_cv at 1665241675.1783476. Execution time: 237.81381249427795 s\n",
      "Starting kfold_cv at 10/08/22 11:07:55\n",
      "Finished kfold_cv at 1665241732.3012938. Execution time: 57.12254476547241 s\n",
      "Starting kfold_cv at 10/08/22 11:08:52\n",
      "Finished kfold_cv at 1665241791.591498. Execution time: 59.28979277610779 s\n",
      "Starting kfold_cv at 10/08/22 11:09:51\n",
      "Finished kfold_cv at 1665241851.6377544. Execution time: 60.045870304107666 s\n",
      "Starting kfold_cv at 10/08/22 11:10:51\n",
      "Finished kfold_cv at 1665241913.1470146. Execution time: 61.50887703895569 s\n",
      "Starting kfold_cv at 10/08/22 11:11:53\n",
      "Finished kfold_cv at 1665241974.943067. Execution time: 61.795663833618164 s\n"
     ]
    }
   ],
   "source": [
    "midterm, midterm_2018_one_hot, midterm_labels = load_midterm(PROJ_PATH + \"/data/midterm-2018/midterm-2018_processed_user_objects.json\", PROJ_PATH + \"/data/midterm-2018/midterm-2018.tsv\")\n",
    "midterm_scores = analyze_dataset(midterm_2018_one_hot, midterm_labels, kfold=True, silent=True)"
   ]
  },
  {
   "cell_type": "code",
   "execution_count": 9,
   "id": "2d00e229",
   "metadata": {
    "collapsed": true
   },
   "outputs": [
    {
     "name": "stdout",
     "output_type": "stream",
     "text": [
      "Starting kfold_cv at 10/08/22 11:12:56\n",
      "Finished kfold_cv at 1665241997.2714949. Execution time: 20.864620447158813 s\n",
      "Starting kfold_cv at 10/08/22 11:13:17\n",
      "Finished kfold_cv at 1665242021.307411. Execution time: 24.035528421401978 s\n",
      "Starting kfold_cv at 10/08/22 11:13:41\n",
      "Finished kfold_cv at 1665242048.7850647. Execution time: 27.47724485397339 s\n",
      "Starting kfold_cv at 10/08/22 11:14:08\n",
      "Finished kfold_cv at 1665242079.0906413. Execution time: 30.30516004562378 s\n",
      "Starting kfold_cv at 10/08/22 11:14:39\n",
      "Finished kfold_cv at 1665242112.0961368. Execution time: 33.00507855415344 s\n",
      "Starting kfold_cv at 10/08/22 11:15:12\n",
      "Finished kfold_cv at 1665242121.2088737. Execution time: 9.11232876777649 s\n",
      "Starting kfold_cv at 10/08/22 11:15:21\n",
      "Finished kfold_cv at 1665242130.3762019. Execution time: 9.167134761810303 s\n",
      "Starting kfold_cv at 10/08/22 11:15:30\n",
      "Finished kfold_cv at 1665242139.5170677. Execution time: 9.140449523925781 s\n",
      "Starting kfold_cv at 10/08/22 11:15:39\n",
      "Finished kfold_cv at 1665242148.6465907. Execution time: 9.129325151443481 s\n",
      "Starting kfold_cv at 10/08/22 11:15:48\n",
      "Finished kfold_cv at 1665242157.7460446. Execution time: 9.09926724433899 s\n"
     ]
    }
   ],
   "source": [
    "yang, yang_2013_one_hot, yang_labels = load_yang(PROJ_PATH + \"/data/yang-2013/\")\n",
    "yang_scores = analyze_dataset(yang_2013_one_hot, yang_labels)"
   ]
  },
  {
   "cell_type": "markdown",
   "id": "87d3f7ea",
   "metadata": {},
   "source": [
    "## Tweets data"
   ]
  },
  {
   "cell_type": "code",
   "execution_count": 1388,
   "id": "389986a9",
   "metadata": {
    "collapsed": true
   },
   "outputs": [
    {
     "name": "stdout",
     "output_type": "stream",
     "text": [
      "Starting kfold_cv at 10/07/22 16:00:12\n",
      "Finished kfold_cv at 1665172834.3027408. Execution time: 22.172532081604004 s\n",
      "Starting kfold_cv at 10/07/22 16:00:34\n",
      "Finished kfold_cv at 1665172868.593337. Execution time: 34.29038381576538 s\n",
      "Starting kfold_cv at 10/07/22 16:01:08\n",
      "Finished kfold_cv at 1665172914.5048594. Execution time: 45.91113066673279 s\n",
      "Starting kfold_cv at 10/07/22 16:01:54\n",
      "Finished kfold_cv at 1665172971.9243326. Execution time: 57.41906762123108 s\n",
      "Starting kfold_cv at 10/07/22 16:02:51\n",
      "Finished kfold_cv at 1665173040.9974518. Execution time: 69.0727105140686 s\n",
      "Starting kfold_cv at 10/07/22 16:04:00\n",
      "Finished kfold_cv at 1665173047.8034902. Execution time: 6.805635213851929 s\n",
      "Starting kfold_cv at 10/07/22 16:04:07\n",
      "Finished kfold_cv at 1665173056.563499. Execution time: 8.759685516357422 s\n",
      "Starting kfold_cv at 10/07/22 16:04:16\n",
      "Finished kfold_cv at 1665173067.1353765. Execution time: 10.571713209152222 s\n",
      "Starting kfold_cv at 10/07/22 16:04:27\n",
      "Finished kfold_cv at 1665173079.058203. Execution time: 11.922640800476074 s\n",
      "Starting kfold_cv at 10/07/22 16:04:39\n",
      "Finished kfold_cv at 1665173091.7713094. Execution time: 12.712786436080933 s\n",
      "k fold\n"
     ]
    }
   ],
   "source": [
    "yang_tweets, yang_2013_tweets_labels = load_yang_tweets(PROJ_PATH + \"/data/yang-2013/\")\n",
    "yang_tweets_scores = analyze_dataset(yang_tweets, yang_2013_tweets_labels)\n"
   ]
  },
  {
   "cell_type": "code",
   "execution_count": 10,
   "id": "7d426186",
   "metadata": {
    "collapsed": true
   },
   "outputs": [
    {
     "name": "stdout",
     "output_type": "stream",
     "text": [
      "Starting kfold_cv at 10/08/22 11:16:06\n",
      "Finished kfold_cv at 1665242171.3483164. Execution time: 4.8251049518585205 s\n",
      "Starting kfold_cv at 10/08/22 11:16:11\n",
      "Finished kfold_cv at 1665242178.3234363. Execution time: 6.974955320358276 s\n",
      "Starting kfold_cv at 10/08/22 11:16:18\n",
      "Finished kfold_cv at 1665242187.2858963. Execution time: 8.962290525436401 s\n",
      "Starting kfold_cv at 10/08/22 11:16:27\n",
      "Finished kfold_cv at 1665242198.160664. Execution time: 10.87440276145935 s\n",
      "Starting kfold_cv at 10/08/22 11:16:38\n",
      "Finished kfold_cv at 1665242210.9195137. Execution time: 12.75869345664978 s\n",
      "Starting kfold_cv at 10/08/22 11:16:50\n",
      "Finished kfold_cv at 1665242216.128562. Execution time: 5.208863258361816 s\n",
      "Starting kfold_cv at 10/08/22 11:16:56\n",
      "Finished kfold_cv at 1665242223.436329. Execution time: 7.307407379150391 s\n",
      "Starting kfold_cv at 10/08/22 11:17:03\n",
      "Finished kfold_cv at 1665242232.7912633. Execution time: 9.354767799377441 s\n",
      "Starting kfold_cv at 10/08/22 11:17:12\n",
      "Finished kfold_cv at 1665242244.0899117. Execution time: 11.298486471176147 s\n",
      "Starting kfold_cv at 10/08/22 11:17:24\n",
      "Finished kfold_cv at 1665242257.3642313. Execution time: 13.274169206619263 s\n"
     ]
    }
   ],
   "source": [
    "pan_2019_df, pan19_labels = load_pan19(PROJ_PATH + \"/data/pan19/pan19-author-profiling-training-2019-02-18/en/{}.xml\", PROJ_PATH + \"/data/pan19/pan19-author-profiling-training-2019-02-18/en/truth.txt\")\n",
    "pan19_scores = analyze_dataset(pan_2019_df, pan19_labels)\n"
   ]
  },
  {
   "cell_type": "code",
   "execution_count": 1409,
   "id": "0c0d41ea",
   "metadata": {
    "collapsed": true
   },
   "outputs": [
    {
     "name": "stderr",
     "output_type": "stream",
     "text": [
      "/home/jhays/.local/lib/python3.6/site-packages/IPython/core/interactiveshell.py:3343: DtypeWarning: Columns (8,11) have mixed types.Specify dtype option on import or set low_memory=False.\n",
      "  exec(code_obj, self.user_global_ns, self.user_ns)\n",
      "/home/jhays/.local/lib/python3.6/site-packages/IPython/core/interactiveshell.py:3343: DtypeWarning: Columns (0) have mixed types.Specify dtype option on import or set low_memory=False.\n",
      "  exec(code_obj, self.user_global_ns, self.user_ns)\n",
      "/home/jhays/.local/lib/python3.6/site-packages/IPython/core/interactiveshell.py:3343: DtypeWarning: Columns (10) have mixed types.Specify dtype option on import or set low_memory=False.\n",
      "  exec(code_obj, self.user_global_ns, self.user_ns)\n",
      "/home/jhays/.local/lib/python3.6/site-packages/IPython/core/interactiveshell.py:3343: DtypeWarning: Columns (7,10) have mixed types.Specify dtype option on import or set low_memory=False.\n",
      "  exec(code_obj, self.user_global_ns, self.user_ns)\n"
     ]
    },
    {
     "name": "stdout",
     "output_type": "stream",
     "text": [
      "Starting kfold_cv at 10/07/22 16:35:05\n",
      "Finished kfold_cv at 1665174954.9184365. Execution time: 49.880038022994995 s\n",
      "Starting kfold_cv at 10/07/22 16:35:54\n",
      "Finished kfold_cv at 1665175032.371238. Execution time: 77.45242357254028 s\n",
      "Starting kfold_cv at 10/07/22 16:37:12\n",
      "Finished kfold_cv at 1665175135.9345758. Execution time: 103.56292271614075 s\n",
      "Starting kfold_cv at 10/07/22 16:38:55\n",
      "Finished kfold_cv at 1665175265.210303. Execution time: 129.27523255348206 s\n",
      "Starting kfold_cv at 10/07/22 16:41:05\n",
      "Finished kfold_cv at 1665175420.479958. Execution time: 155.26917791366577 s\n",
      "Starting kfold_cv at 10/07/22 16:43:40\n",
      "Finished kfold_cv at 1665175437.6873846. Execution time: 17.206937313079834 s\n",
      "Starting kfold_cv at 10/07/22 16:43:57\n",
      "Finished kfold_cv at 1665175460.7004974. Execution time: 23.012733459472656 s\n",
      "Starting kfold_cv at 10/07/22 16:44:20\n",
      "Finished kfold_cv at 1665175489.14071. Execution time: 28.43999147415161 s\n",
      "Starting kfold_cv at 10/07/22 16:44:49\n",
      "Finished kfold_cv at 1665175520.058634. Execution time: 30.917494297027588 s\n",
      "Starting kfold_cv at 10/07/22 16:45:20\n",
      "Finished kfold_cv at 1665175553.359957. Execution time: 33.3009307384491 s\n"
     ]
    }
   ],
   "source": [
    "cresci_2017_tweets, cresci_2017_tweets_labels = load_cresci2017_tweets(PROJ_PATH + \"/data/cresci-2017/{}.csv/tweets.csv\")\n",
    "cresci_2017_tweets_scores = analyze_dataset(cresci_2017_tweets, cresci_2017_tweets_labels, silent=True)\n"
   ]
  },
  {
   "cell_type": "code",
   "execution_count": 1463,
   "id": "06644ae1",
   "metadata": {
    "collapsed": true
   },
   "outputs": [
    {
     "name": "stdout",
     "output_type": "stream",
     "text": [
      "Starting kfold_cv at 10/07/22 19:08:51\n",
      "Finished kfold_cv at 1665184154.7884285. Execution time: 22.8222439289093 s\n",
      "Starting kfold_cv at 10/07/22 19:09:14\n",
      "Finished kfold_cv at 1665184188.7087688. Execution time: 33.919944524765015 s\n",
      "Starting kfold_cv at 10/07/22 19:09:48\n",
      "Finished kfold_cv at 1665184230.0455432. Execution time: 41.336352825164795 s\n",
      "Starting kfold_cv at 10/07/22 19:10:30\n",
      "Finished kfold_cv at 1665184277.566621. Execution time: 47.52067732810974 s\n",
      "Starting kfold_cv at 10/07/22 19:11:17\n",
      "Finished kfold_cv at 1665184331.1072838. Execution time: 53.540247201919556 s\n",
      "Starting kfold_cv at 10/07/22 19:12:11\n",
      "Finished kfold_cv at 1665184351.247163. Execution time: 20.139384984970093 s\n",
      "Starting kfold_cv at 10/07/22 19:12:31\n",
      "Finished kfold_cv at 1665184379.9488683. Execution time: 28.70150399208069 s\n",
      "Starting kfold_cv at 10/07/22 19:12:59\n",
      "Finished kfold_cv at 1665184414.8063323. Execution time: 34.857062101364136 s\n",
      "Starting kfold_cv at 10/07/22 19:13:34\n",
      "Finished kfold_cv at 1665184454.7042398. Execution time: 39.8974609375 s\n",
      "Starting kfold_cv at 10/07/22 19:14:14\n",
      "Finished kfold_cv at 1665184501.5588694. Execution time: 46.85422229766846 s\n"
     ]
    }
   ],
   "source": [
    "cresci_2015_tweets, cresci_2015_tweets_labels = load_cresci2015_tweets(PROJ_PATH + \"/data/cresci-2015/{}/tweets.csv\")\n",
    "cresci_2015_tweets_scores = analyze_dataset(cresci_2015_tweets, cresci_2015_tweets_labels)\n"
   ]
  },
  {
   "cell_type": "code",
   "execution_count": 1466,
   "id": "f7ae50a3",
   "metadata": {
    "collapsed": true
   },
   "outputs": [
    {
     "name": "stdout",
     "output_type": "stream",
     "text": [
      "Starting kfold_cv at 10/07/22 19:28:31\n",
      "Finished kfold_cv at 1665185530.5595348. Execution time: 219.55429005622864 s\n",
      "Starting kfold_cv at 10/07/22 19:32:10\n",
      "Finished kfold_cv at 1665185879.6709995. Execution time: 349.1110849380493 s\n",
      "Starting kfold_cv at 10/07/22 19:37:59\n",
      "Finished kfold_cv at 1665186347.001924. Execution time: 467.33055567741394 s\n",
      "Starting kfold_cv at 10/07/22 19:45:47\n",
      "Finished kfold_cv at 1665186928.6136384. Execution time: 581.6113493442535 s\n",
      "Starting kfold_cv at 10/07/22 19:55:28\n",
      "Finished kfold_cv at 1665187607.1556137. Execution time: 678.5416028499603 s\n",
      "Starting kfold_cv at 10/07/22 20:06:47\n",
      "Finished kfold_cv at 1665187829.6545124. Execution time: 222.4985146522522 s\n",
      "Starting kfold_cv at 10/07/22 20:10:29\n",
      "Finished kfold_cv at 1665188168.8007383. Execution time: 339.1456730365753 s\n",
      "Starting kfold_cv at 10/07/22 20:16:08\n",
      "Finished kfold_cv at 1665188613.1253679. Execution time: 444.32403469085693 s\n",
      "Starting kfold_cv at 10/07/22 20:23:33\n",
      "Finished kfold_cv at 1665189160.872313. Execution time: 547.7465631961823 s\n",
      "Starting kfold_cv at 10/07/22 20:32:40\n",
      "Finished kfold_cv at 1665189797.6062331. Execution time: 636.7335329055786 s\n"
     ]
    }
   ],
   "source": [
    "cresci_stock_2018_tweets, cresci_stock_2018_tweets_labels = load_cresci_stock_tweets(PROJ_PATH + \"/data/cresci-stock-2018_tweets.json\", PROJ_PATH + \"/data/cresci-stock-2018.tsv\", PROJ_PATH + \"/data/golbeck/tweets/{}_tweets.csv\")\n",
    "cresci_stock_2018_tweets_scores = analyze_dataset(cresci_stock_2018_tweets, cresci_stock_2018_tweets_labels)\n"
   ]
  },
  {
   "cell_type": "code",
   "execution_count": 53,
   "id": "8bd764ac",
   "metadata": {},
   "outputs": [
    {
     "name": "stdout",
     "output_type": "stream",
     "text": [
      "twibot-2020\n",
      "feedback-2019\n",
      "rtbust-2019\n",
      "gilani-2017\n",
      "cresci-2017\n",
      "cresci-2015\n",
      "caverlee-2011\n",
      "midterm-2018\n",
      "yang-2013\n",
      "cresci-stock-2018\n",
      "pan-2019\n"
     ]
    }
   ],
   "source": [
    "datasets = [twibot_2020_one_hot, botometer_feedback_2019_one_hot, cresci_rtbust_2019_one_hot, gilani_2017_one_hot, cresci_2017_one_hot, cresci_2015_one_hot, cresci_stock_2018_one_hot, yang_2013_one_hot]\n",
    "dataset_names = [process_tick_label(get_dataset_name(df)) for df in datasets]\n",
    "labels = [twibot_labels, bf_labels, rtbust_labels, gilani_labels, cresci2017_labels, cresci2015_labels, cresci_stock_labels, yang_labels]\n",
    "\n",
    "scores = {\n",
    "    'twibot-2020': twibot_scores, \n",
    "    'feedback-2019': botometer_feedback_scores, \n",
    "    'rtbust-2019': rtbust_scores, \n",
    "    'gilani-2017': gilani_derived_scores_avg, \n",
    "    'cresci-2017': cresci2017_scores, \n",
    "    'cresci-2015': cresci2015_scores, \n",
    "    'caverlee-2011': caverlee_2011_scores,\n",
    "    'midterm-2018': midterm_scores, \n",
    "    'yang-2013': yang_scores,\n",
    "    'cresci-stock-2018': cresci_stock_scores,\n",
    "    'pan-2019': pan19_scores\n",
    "}\n",
    "\n",
    "rows = []\n",
    "\n",
    "for name, scr in scores.items():\n",
    "    row = {'name': name}\n",
    "    print(name)\n",
    "    for i, (a,p,r,f,ba) in enumerate(scr):\n",
    "        row.update({\n",
    "            f'a{i+1}': a,  #accuracy\n",
    "            f'p{i+1}': p,  #precision\n",
    "            f'r{i+1}': r,  #recall\n",
    "            f'f{i+1}': f,  #f1\n",
    "            f'ba{i+1}': ba #balanced accuracy\n",
    "        })\n",
    "    rows.append(row)\n",
    "    \n",
    "scores_df = pd.DataFrame(rows)\n",
    "scores_df.to_csv(\"scores.csv\", index=False)"
   ]
  },
  {
   "cell_type": "markdown",
   "id": "d872a6df",
   "metadata": {},
   "source": [
    "# Train on one, test on another"
   ]
  },
  {
   "cell_type": "code",
   "execution_count": 19,
   "id": "1124460e",
   "metadata": {},
   "outputs": [],
   "source": [
    "importlib.reload(sys.modules['train_on_one_test_on_another'])\n",
    "from train_on_one_test_on_another import train_on_one_test_on_another"
   ]
  },
  {
   "cell_type": "code",
   "execution_count": 52,
   "id": "c7577fd0",
   "metadata": {},
   "outputs": [
    {
     "name": "stderr",
     "output_type": "stream",
     "text": [
      "/home/jhays/.local/lib/python3.6/site-packages/sklearn/metrics/_classification.py:1248: UndefinedMetricWarning: Precision is ill-defined and being set to 0.0 due to no predicted samples. Use `zero_division` parameter to control this behavior.\n",
      "  _warn_prf(average, modifier, msg_start, len(result))\n",
      "/home/jhays/.local/lib/python3.6/site-packages/sklearn/metrics/_classification.py:1248: UndefinedMetricWarning: Precision is ill-defined and being set to 0.0 due to no predicted samples. Use `zero_division` parameter to control this behavior.\n",
      "  _warn_prf(average, modifier, msg_start, len(result))\n",
      "/home/jhays/.local/lib/python3.6/site-packages/sklearn/metrics/_classification.py:1248: UndefinedMetricWarning: Precision is ill-defined and being set to 0.0 due to no predicted samples. Use `zero_division` parameter to control this behavior.\n",
      "  _warn_prf(average, modifier, msg_start, len(result))\n",
      "/home/jhays/.local/lib/python3.6/site-packages/sklearn/metrics/_classification.py:1248: UndefinedMetricWarning: Precision is ill-defined and being set to 0.0 due to no predicted samples. Use `zero_division` parameter to control this behavior.\n",
      "  _warn_prf(average, modifier, msg_start, len(result))\n",
      "/home/jhays/.local/lib/python3.6/site-packages/sklearn/metrics/_classification.py:1248: UndefinedMetricWarning: Precision is ill-defined and being set to 0.0 due to no predicted samples. Use `zero_division` parameter to control this behavior.\n",
      "  _warn_prf(average, modifier, msg_start, len(result))\n",
      "/home/jhays/.local/lib/python3.6/site-packages/sklearn/metrics/_classification.py:1248: UndefinedMetricWarning: Precision is ill-defined and being set to 0.0 due to no predicted samples. Use `zero_division` parameter to control this behavior.\n",
      "  _warn_prf(average, modifier, msg_start, len(result))\n",
      "/home/jhays/.local/lib/python3.6/site-packages/sklearn/metrics/_classification.py:1248: UndefinedMetricWarning: Precision is ill-defined and being set to 0.0 due to no predicted samples. Use `zero_division` parameter to control this behavior.\n",
      "  _warn_prf(average, modifier, msg_start, len(result))\n",
      "/home/jhays/.local/lib/python3.6/site-packages/sklearn/metrics/_classification.py:1248: UndefinedMetricWarning: Precision is ill-defined and being set to 0.0 due to no predicted samples. Use `zero_division` parameter to control this behavior.\n",
      "  _warn_prf(average, modifier, msg_start, len(result))\n",
      "/home/jhays/.local/lib/python3.6/site-packages/sklearn/metrics/_classification.py:1248: UndefinedMetricWarning: Precision is ill-defined and being set to 0.0 due to no predicted samples. Use `zero_division` parameter to control this behavior.\n",
      "  _warn_prf(average, modifier, msg_start, len(result))\n",
      "/home/jhays/.local/lib/python3.6/site-packages/sklearn/metrics/_classification.py:1248: UndefinedMetricWarning: Precision is ill-defined and being set to 0.0 due to no predicted samples. Use `zero_division` parameter to control this behavior.\n",
      "  _warn_prf(average, modifier, msg_start, len(result))\n",
      "/home/jhays/.local/lib/python3.6/site-packages/sklearn/metrics/_classification.py:1248: UndefinedMetricWarning: Precision is ill-defined and being set to 0.0 due to no predicted samples. Use `zero_division` parameter to control this behavior.\n",
      "  _warn_prf(average, modifier, msg_start, len(result))\n",
      "/home/jhays/.local/lib/python3.6/site-packages/sklearn/metrics/_classification.py:1248: UndefinedMetricWarning: Precision is ill-defined and being set to 0.0 due to no predicted samples. Use `zero_division` parameter to control this behavior.\n",
      "  _warn_prf(average, modifier, msg_start, len(result))\n",
      "/home/jhays/.local/lib/python3.6/site-packages/sklearn/metrics/_classification.py:1248: UndefinedMetricWarning: Precision is ill-defined and being set to 0.0 due to no predicted samples. Use `zero_division` parameter to control this behavior.\n",
      "  _warn_prf(average, modifier, msg_start, len(result))\n",
      "/home/jhays/.local/lib/python3.6/site-packages/sklearn/metrics/_classification.py:1248: UndefinedMetricWarning: Precision is ill-defined and being set to 0.0 due to no predicted samples. Use `zero_division` parameter to control this behavior.\n",
      "  _warn_prf(average, modifier, msg_start, len(result))\n",
      "/home/jhays/.local/lib/python3.6/site-packages/sklearn/metrics/_classification.py:1248: UndefinedMetricWarning: Precision is ill-defined and being set to 0.0 due to no predicted samples. Use `zero_division` parameter to control this behavior.\n",
      "  _warn_prf(average, modifier, msg_start, len(result))\n",
      "/home/jhays/.local/lib/python3.6/site-packages/sklearn/metrics/_classification.py:1248: UndefinedMetricWarning: Precision is ill-defined and being set to 0.0 due to no predicted samples. Use `zero_division` parameter to control this behavior.\n",
      "  _warn_prf(average, modifier, msg_start, len(result))\n"
     ]
    }
   ],
   "source": [
    "\n",
    "balanced_rows = []\n",
    "rows = []\n",
    "\n",
    "for train_on, train_on_labels in zip(datasets,labels):\n",
    "    for test_on, test_on_labels in zip(datasets,labels):\n",
    "        rf = ensemble.RandomForestClassifier()\n",
    "        balanced_rows.append(train_on_one_test_on_another(train_on, train_on_labels, test_on, test_on_labels, get_dataset_name(train_on), get_dataset_name(test_on), method=rf, balance=True))\n",
    "        rows.append(train_on_one_test_on_another(train_on, train_on_labels, test_on, test_on_labels, get_dataset_name(train_on), get_dataset_name(test_on), method=rf, balance=False))\n",
    "train_on_one_test_on_another_performance = pd.DataFrame(rows)\n",
    "train_on_one_test_on_another_performance_balanced = pd.DataFrame(balanced_rows)"
   ]
  },
  {
   "cell_type": "code",
   "execution_count": 21,
   "id": "335b14a1",
   "metadata": {},
   "outputs": [],
   "source": [
    "importlib.reload(sys.modules['print_table'])\n",
    "from print_table import print_totoa_matrix"
   ]
  },
  {
   "cell_type": "code",
   "execution_count": 22,
   "id": "aca3efe4",
   "metadata": {},
   "outputs": [
    {
     "name": "stdout",
     "output_type": "stream",
     "text": [
      "\\begin{tikzpicture}[]\n",
      "  \\matrix[matrix of nodes,row sep=-\\pgflinewidth, column sep=-.1em,\n",
      "nodes={{rectangle}},\n",
      "column 1/.style={{anchor=east}},]{\n",
      "\\data{\\small{feedback-2019}} & |[fill={rgb,255:red,49;green,54;blue,149}, value=1.0]|&|[fill={rgb,255:red,253;green,214;blue,134}, value=0.38]|&|[fill={rgb,255:red,254;green,236;blue,162}, value=0.44]|&|[fill={rgb,255:red,242;green,250;blue,214}, value=0.54]|&|[fill={rgb,255:red,251;green,253;blue,196}, value=0.51]|&|[fill={rgb,255:red,207;green,234;blue,243}, value=0.63]|&|[fill={rgb,255:red,254;green,248;blue,180}, value=0.48]|&|[fill={rgb,255:red,253;green,178;blue,101}, value=0.31]| \\\\\n",
      "\\data{\\small{cresci-2015}} & |[fill={rgb,255:red,165;green,212;blue,230}, value=0.71]|&|[fill={rgb,255:red,49;green,54;blue,149}, value=1.0]|&|[fill={rgb,255:red,224;green,243;blue,247}, value=0.6]|&|[fill={rgb,255:red,254;green,251;blue,186}, value=0.49]|&|[fill={rgb,255:red,254;green,245;blue,177}, value=0.47]|&|[fill={rgb,255:red,236;green,247;blue,225}, value=0.56]|&|[fill={rgb,255:red,254;green,242;blue,171}, value=0.46]|&|[fill={rgb,255:red,106;green,162;blue,203}, value=0.82]| \\\\\n",
      "\\data{\\small{cresci-2017}} & |[fill={rgb,255:red,131;green,185;blue,215}, value=0.77]|&|[fill={rgb,255:red,82;green,133;blue,188}, value=0.87]|&|[fill={rgb,255:red,49;green,54;blue,149}, value=1.0]|&|[fill={rgb,255:red,245;green,251;blue,207}, value=0.53]|&|[fill={rgb,255:red,254;green,242;blue,171}, value=0.46]|&|[fill={rgb,255:red,230;green,245;blue,236}, value=0.58]|&|[fill={rgb,255:red,254;green,245;blue,177}, value=0.47]|&|[fill={rgb,255:red,248;green,142;blue,82}, value=0.25]| \\\\\n",
      "\\data{\\small{rtbust-2019}} & |[fill={rgb,255:red,186;green,224;blue,237}, value=0.67]|&|[fill={rgb,255:red,254;green,230;blue,153}, value=0.42]|&|[fill={rgb,255:red,245;green,251;blue,207}, value=0.53]|&|[fill={rgb,255:red,49;green,54;blue,149}, value=1.0]|&|[fill={rgb,255:red,207;green,234;blue,243}, value=0.63]|&|[fill={rgb,255:red,230;green,245;blue,236}, value=0.58]|&|[fill={rgb,255:red,254;green,242;blue,171}, value=0.46]|&|[fill={rgb,255:red,252;green,172;blue,96}, value=0.3]| \\\\\n",
      "\\data{\\small{stock-2018}} & |[fill={rgb,255:red,180;green,221;blue,235}, value=0.68]|&|[fill={rgb,255:red,253;green,218;blue,138}, value=0.39]|&|[fill={rgb,255:red,253;green,178;blue,101}, value=0.31]|&|[fill={rgb,255:red,230;green,245;blue,236}, value=0.58]|&|[fill={rgb,255:red,49;green,54;blue,149}, value=1.0]|&|[fill={rgb,255:red,236;green,247;blue,225}, value=0.56]|&|[fill={rgb,255:red,254;green,242;blue,171}, value=0.46]|&|[fill={rgb,255:red,67;green,110;blue,176}, value=0.91]| \\\\\n",
      "\\data{\\small{gilani-2017}} & |[fill={rgb,255:red,154;green,204;blue,225}, value=0.73]|&|[fill={rgb,255:red,247;green,134;blue,78}, value=0.24]|&|[fill={rgb,255:red,254;green,230;blue,153}, value=0.42]|&|[fill={rgb,255:red,254;green,254;blue,192}, value=0.5]|&|[fill={rgb,255:red,254;green,236;blue,162}, value=0.44]|&|[fill={rgb,255:red,50;green,58;blue,151}, value=0.99]|&|[fill={rgb,255:red,254;green,245;blue,177}, value=0.47]|&|[fill={rgb,255:red,254;green,224;blue,144}, value=0.4]| \\\\\n",
      "\\data{\\small{twibot-2020}} & |[fill={rgb,255:red,253;green,198;blue,120}, value=0.35]|&|[fill={rgb,255:red,196;green,229;blue,240}, value=0.65]|&|[fill={rgb,255:red,120;green,176;blue,210}, value=0.79]|&|[fill={rgb,255:red,251;green,253;blue,196}, value=0.51]|&|[fill={rgb,255:red,239;green,249;blue,218}, value=0.55]|&|[fill={rgb,255:red,233;green,246;blue,230}, value=0.57]|&|[fill={rgb,255:red,49;green,54;blue,149}, value=1.0]|&|[fill={rgb,255:red,249;green,147;blue,84}, value=0.26]| \\\\\n",
      "\\data{\\small{yang-2013}} & |[fill={rgb,255:red,148;green,198;blue,223}, value=0.74]|&|[fill={rgb,255:red,253;green,218;blue,138}, value=0.39]|&|[fill={rgb,255:red,253;green,204;blue,125}, value=0.36]|&|[fill={rgb,255:red,254;green,251;blue,186}, value=0.49]|&|[fill={rgb,255:red,254;green,245;blue,177}, value=0.47]|&|[fill={rgb,255:red,236;green,247;blue,225}, value=0.56]|&|[fill={rgb,255:red,254;green,236;blue,162}, value=0.44]|&|[fill={rgb,255:red,49;green,54;blue,149}, value=1.0]| \\\\\n",
      "};\n",
      "\\node[label={[label distance=0.5cm,text depth=-1ex,rotate=45]left:\\data{\\small{feedback-2019}} }] at (-0.7,-2.4) {};\n",
      "\\node[label={[label distance=0.5cm,text depth=-1ex,rotate=45]left:\\data{\\small{cresci-2015}} }] at (0.0,-2.4) {};\n",
      "\\node[label={[label distance=0.5cm,text depth=-1ex,rotate=45]left:\\data{\\small{cresci-2017}} }] at (0.7,-2.4) {};\n",
      "\\node[label={[label distance=0.5cm,text depth=-1ex,rotate=45]left:\\data{\\small{rtbust-2019}} }] at (1.3999999999999997,-2.4) {};\n",
      "\\node[label={[label distance=0.5cm,text depth=-1ex,rotate=45]left:\\data{\\small{stock-2018}} }] at (2.0999999999999996,-2.4) {};\n",
      "\\node[label={[label distance=0.5cm,text depth=-1ex,rotate=45]left:\\data{\\small{gilani-2017}} }] at (2.8,-2.4) {};\n",
      "\\node[label={[label distance=0.5cm,text depth=-1ex,rotate=45]left:\\data{\\small{twibot-2020}} }] at (3.499999999999999,-2.4) {};\n",
      "\\node[label={[label distance=0.5cm,text depth=-1ex,rotate=45]left:\\data{\\small{yang-2013}} }] at (4.199999999999999,-2.4) {};\n",
      "\\end{tikzpicture}\n",
      "\n",
      "\n"
     ]
    }
   ],
   "source": [
    "print_totoa_matrix(train_on_one_test_on_another_performance, 'a3')\n"
   ]
  },
  {
   "cell_type": "code",
   "execution_count": 38,
   "id": "ffa97633",
   "metadata": {},
   "outputs": [
    {
     "name": "stdout",
     "output_type": "stream",
     "text": [
      "\\begin{tikzpicture}[]\n",
      "  \\matrix[matrix of nodes,row sep=-\\pgflinewidth, column sep=-.1em,\n",
      "nodes={{rectangle}},\n",
      "column 1/.style={{anchor=east}},]{\n",
      "\\data{\\small{feedback-2019}} & |[fill={rgb,255:red,0;green,69;blue,41}, value=1.0]|&|[fill={rgb,255:red,251;green,253;blue,212}, value=0.05]|&|[fill={rgb,255:red,154;green,212;blue,134}, value=0.42]|&|[fill={rgb,255:red,213;green,238;blue,161}, value=0.26]|&|[fill={rgb,255:red,167;green,218;blue,139}, value=0.39]|&|[fill={rgb,255:red,195;green,230;blue,152}, value=0.31]|&|[fill={rgb,255:red,216;green,239;blue,162}, value=0.25]|&|[fill={rgb,255:red,229;green,244;blue,171}, value=0.2]| \\\\\n",
      "\\data{\\small{cresci-2015}} & |[fill={rgb,255:red,224;green,242;blue,168}, value=0.22]|&|[fill={rgb,255:red,0;green,69;blue,41}, value=1.0]|&|[fill={rgb,255:red,54;green,156;blue,83}, value=0.67]|&|[fill={rgb,255:red,255;green,255;blue,229}, value=0.0]|&|[fill={rgb,255:red,253;green,254;blue,222}, value=0.02]|&|[fill={rgb,255:red,255;green,255;blue,229}, value=0.0]|&|[fill={rgb,255:red,248;green,252;blue,194}, value=0.1]|&|[fill={rgb,255:red,162;green,216;blue,137}, value=0.4]| \\\\\n",
      "\\data{\\small{cresci-2017}} & |[fill={rgb,255:red,145;green,209;blue,131}, value=0.44]|&|[fill={rgb,255:red,0;green,96;blue,51}, value=0.9]|&|[fill={rgb,255:red,0;green,69;blue,41}, value=1.0]|&|[fill={rgb,255:red,56;green,160;blue,85}, value=0.66]|&|[fill={rgb,255:red,253;green,254;blue,219}, value=0.03]|&|[fill={rgb,255:red,216;green,239;blue,162}, value=0.25]|&|[fill={rgb,255:red,219;green,241;blue,164}, value=0.24]|&|[fill={rgb,255:red,229;green,244;blue,171}, value=0.2]| \\\\\n",
      "\\data{\\small{rtbust-2019}} & |[fill={rgb,255:red,170;green,220;blue,141}, value=0.38]|&|[fill={rgb,255:red,137;green,205;blue,127}, value=0.46]|&|[fill={rgb,255:red,70;green,173;blue,95}, value=0.61]|&|[fill={rgb,255:red,0;green,69;blue,41}, value=1.0]|&|[fill={rgb,255:red,58;green,162;blue,87}, value=0.65]|&|[fill={rgb,255:red,206;green,235;blue,158}, value=0.28]|&|[fill={rgb,255:red,219;green,241;blue,164}, value=0.24]|&|[fill={rgb,255:red,233;green,246;blue,175}, value=0.18]| \\\\\n",
      "\\data{\\small{stock-2018}} & |[fill={rgb,255:red,244;green,250;blue,182}, value=0.14]|&|[fill={rgb,255:red,247;green,252;blue,190}, value=0.11]|&|[fill={rgb,255:red,229;green,244;blue,171}, value=0.2]|&|[fill={rgb,255:red,149;green,210;blue,132}, value=0.43]|&|[fill={rgb,255:red,0;green,69;blue,41}, value=1.0]|&|[fill={rgb,255:red,254;green,254;blue,226}, value=0.01]|&|[fill={rgb,255:red,247;green,252;blue,190}, value=0.11]|&|[fill={rgb,255:red,255;green,255;blue,229}, value=0.0]| \\\\\n",
      "\\data{\\small{gilani-2017}} & |[fill={rgb,255:red,140;green,207;blue,129}, value=0.45]|&|[fill={rgb,255:red,251;green,253;blue,212}, value=0.05]|&|[fill={rgb,255:red,149;green,210;blue,132}, value=0.43]|&|[fill={rgb,255:red,229;green,244;blue,171}, value=0.2]|&|[fill={rgb,255:red,251;green,253;blue,212}, value=0.05]|&|[fill={rgb,255:red,0;green,71;blue,41}, value=0.99]|&|[fill={rgb,255:red,206;green,235;blue,158}, value=0.28]|&|[fill={rgb,255:red,249;green,253;blue,201}, value=0.08]| \\\\\n",
      "\\data{\\small{twibot-2020}} & |[fill={rgb,255:red,145;green,209;blue,131}, value=0.44]|&|[fill={rgb,255:red,26;green,125;blue,64}, value=0.78]|&|[fill={rgb,255:red,0;green,101;blue,54}, value=0.88]|&|[fill={rgb,255:red,58;green,162;blue,87}, value=0.65]|&|[fill={rgb,255:red,49;green,150;blue,79}, value=0.69]|&|[fill={rgb,255:red,115;green,195;blue,118}, value=0.51]|&|[fill={rgb,255:red,0;green,69;blue,41}, value=1.0]|&|[fill={rgb,255:red,233;green,246;blue,175}, value=0.18]| \\\\\n",
      "\\data{\\small{yang-2013}} & |[fill={rgb,255:red,251;green,253;blue,208}, value=0.06]|&|[fill={rgb,255:red,250;green,253;blue,205}, value=0.07]|&|[fill={rgb,255:red,213;green,238;blue,161}, value=0.26]|&|[fill={rgb,255:red,255;green,255;blue,229}, value=0.0]|&|[fill={rgb,255:red,255;green,255;blue,229}, value=0.0]|&|[fill={rgb,255:red,255;green,255;blue,229}, value=0.0]|&|[fill={rgb,255:red,253;green,254;blue,222}, value=0.02]|&|[fill={rgb,255:red,0;green,69;blue,41}, value=1.0]| \\\\\n",
      "};\n",
      "\\node[label={[label distance=0.5cm,text depth=-1ex,rotate=45]left:\\data{\\small{feedback-2019}} }] at (-0.7,-2.4) {};\n",
      "\\node[label={[label distance=0.5cm,text depth=-1ex,rotate=45]left:\\data{\\small{cresci-2015}} }] at (0.0,-2.4) {};\n",
      "\\node[label={[label distance=0.5cm,text depth=-1ex,rotate=45]left:\\data{\\small{cresci-2017}} }] at (0.7,-2.4) {};\n",
      "\\node[label={[label distance=0.5cm,text depth=-1ex,rotate=45]left:\\data{\\small{rtbust-2019}} }] at (1.3999999999999997,-2.4) {};\n",
      "\\node[label={[label distance=0.5cm,text depth=-1ex,rotate=45]left:\\data{\\small{stock-2018}} }] at (2.0999999999999996,-2.4) {};\n",
      "\\node[label={[label distance=0.5cm,text depth=-1ex,rotate=45]left:\\data{\\small{gilani-2017}} }] at (2.8,-2.4) {};\n",
      "\\node[label={[label distance=0.5cm,text depth=-1ex,rotate=45]left:\\data{\\small{twibot-2020}} }] at (3.499999999999999,-2.4) {};\n",
      "\\node[label={[label distance=0.5cm,text depth=-1ex,rotate=45]left:\\data{\\small{yang-2013}} }] at (4.199999999999999,-2.4) {};\n",
      "\\end{tikzpicture}\n",
      "\n",
      "\n"
     ]
    }
   ],
   "source": [
    "print_totoa_matrix(train_on_one_test_on_another_performance, 'f3')\n"
   ]
  },
  {
   "cell_type": "code",
   "execution_count": 24,
   "id": "d1940626",
   "metadata": {},
   "outputs": [
    {
     "name": "stdout",
     "output_type": "stream",
     "text": [
      "\\begin{tikzpicture}[]\n",
      "  \\matrix[matrix of nodes,row sep=-\\pgflinewidth, column sep=-.1em,\n",
      "nodes={{rectangle}},\n",
      "column 1/.style={{anchor=east}},]{\n",
      "\\data{\\small{feedback-2019}} & |[fill={rgb,255:red,58;green,83;blue,163}, value=0.95]|&|[fill={rgb,255:red,62;green,96;blue,169}, value=0.93]|&|[fill={rgb,255:red,225;green,70;blue,49}, value=0.14]|&|[fill={rgb,255:red,254;green,236;blue,162}, value=0.44]|&|[fill={rgb,255:red,254;green,251;blue,186}, value=0.49]|&|[fill={rgb,255:red,192;green,227;blue,239}, value=0.66]|&|[fill={rgb,255:red,239;green,249;blue,218}, value=0.55]|&|[fill={rgb,255:red,233;green,246;blue,230}, value=0.57]| \\\\\n",
      "\\data{\\small{cresci-2015}} & |[fill={rgb,255:red,251;green,253;blue,196}, value=0.51]|&|[fill={rgb,255:red,49;green,54;blue,149}, value=1.0]|&|[fill={rgb,255:red,253;green,198;blue,120}, value=0.35]|&|[fill={rgb,255:red,254;green,254;blue,192}, value=0.5]|&|[fill={rgb,255:red,254;green,254;blue,192}, value=0.5]|&|[fill={rgb,255:red,254;green,254;blue,192}, value=0.5]|&|[fill={rgb,255:red,251;green,253;blue,196}, value=0.51]|&|[fill={rgb,255:red,159;green,207;blue,227}, value=0.72]| \\\\\n",
      "\\data{\\small{cresci-2017}} & |[fill={rgb,255:red,254;green,226;blue,147}, value=0.41]|&|[fill={rgb,255:red,220;green,58;blue,43}, value=0.12]|&|[fill={rgb,255:red,50;green,58;blue,151}, value=0.99]|&|[fill={rgb,255:red,248;green,252;blue,203}, value=0.52]|&|[fill={rgb,255:red,254;green,254;blue,192}, value=0.5]|&|[fill={rgb,255:red,254;green,251;blue,186}, value=0.49]|&|[fill={rgb,255:red,254;green,248;blue,180}, value=0.48]|&|[fill={rgb,255:red,253;green,198;blue,120}, value=0.35]| \\\\\n",
      "\\data{\\small{rtbust-2019}} & |[fill={rgb,255:red,254;green,242;blue,171}, value=0.46]|&|[fill={rgb,255:red,252;green,167;blue,94}, value=0.29]|&|[fill={rgb,255:red,236;green,247;blue,225}, value=0.56]|&|[fill={rgb,255:red,49;green,54;blue,149}, value=1.0]|&|[fill={rgb,255:red,213;green,237;blue,245}, value=0.62]|&|[fill={rgb,255:red,254;green,239;blue,167}, value=0.45]|&|[fill={rgb,255:red,254;green,254;blue,192}, value=0.5]|&|[fill={rgb,255:red,253;green,182;blue,105}, value=0.32]| \\\\\n",
      "\\data{\\small{stock-2018}} & |[fill={rgb,255:red,254;green,254;blue,192}, value=0.5]|&|[fill={rgb,255:red,254;green,254;blue,192}, value=0.5]|&|[fill={rgb,255:red,254;green,254;blue,192}, value=0.5]|&|[fill={rgb,255:red,233;green,246;blue,230}, value=0.57]|&|[fill={rgb,255:red,50;green,58;blue,151}, value=0.99]|&|[fill={rgb,255:red,254;green,254;blue,192}, value=0.5]|&|[fill={rgb,255:red,254;green,251;blue,186}, value=0.49]|&|[fill={rgb,255:red,254;green,254;blue,192}, value=0.5]| \\\\\n",
      "\\data{\\small{gilani-2017}} & |[fill={rgb,255:red,207;green,234;blue,243}, value=0.63]|&|[fill={rgb,255:red,246;green,126;blue,75}, value=0.23]|&|[fill={rgb,255:red,253;green,218;blue,138}, value=0.39]|&|[fill={rgb,255:red,248;green,252;blue,203}, value=0.52]|&|[fill={rgb,255:red,245;green,251;blue,207}, value=0.53]|&|[fill={rgb,255:red,54;green,71;blue,157}, value=0.97]|&|[fill={rgb,255:red,239;green,249;blue,218}, value=0.55]|&|[fill={rgb,255:red,253;green,204;blue,125}, value=0.36]| \\\\\n",
      "\\data{\\small{twibot-2020}} & |[fill={rgb,255:red,242;green,250;blue,214}, value=0.54]|&|[fill={rgb,255:red,236;green,247;blue,225}, value=0.56]|&|[fill={rgb,255:red,253;green,218;blue,138}, value=0.39]|&|[fill={rgb,255:red,239;green,249;blue,218}, value=0.55]|&|[fill={rgb,255:red,254;green,251;blue,186}, value=0.49]|&|[fill={rgb,255:red,230;green,245;blue,236}, value=0.58]|&|[fill={rgb,255:red,50;green,58;blue,151}, value=0.99]|&|[fill={rgb,255:red,239;green,249;blue,218}, value=0.55]| \\\\\n",
      "\\data{\\small{yang-2013}} & |[fill={rgb,255:red,245;green,251;blue,207}, value=0.53]|&|[fill={rgb,255:red,82;green,133;blue,188}, value=0.87]|&|[fill={rgb,255:red,252;green,172;blue,96}, value=0.3]|&|[fill={rgb,255:red,254;green,254;blue,192}, value=0.5]|&|[fill={rgb,255:red,245;green,251;blue,207}, value=0.53]|&|[fill={rgb,255:red,254;green,254;blue,192}, value=0.5]|&|[fill={rgb,255:red,239;green,249;blue,218}, value=0.55]|&|[fill={rgb,255:red,56;green,78;blue,161}, value=0.96]| \\\\\n",
      "};\n",
      "\\node[label={[label distance=0.5cm,text depth=-1ex,rotate=45]left:\\data{\\small{feedback-2019}} }] at (-0.7,-2.4) {};\n",
      "\\node[label={[label distance=0.5cm,text depth=-1ex,rotate=45]left:\\data{\\small{cresci-2015}} }] at (0.0,-2.4) {};\n",
      "\\node[label={[label distance=0.5cm,text depth=-1ex,rotate=45]left:\\data{\\small{cresci-2017}} }] at (0.7,-2.4) {};\n",
      "\\node[label={[label distance=0.5cm,text depth=-1ex,rotate=45]left:\\data{\\small{rtbust-2019}} }] at (1.3999999999999997,-2.4) {};\n",
      "\\node[label={[label distance=0.5cm,text depth=-1ex,rotate=45]left:\\data{\\small{stock-2018}} }] at (2.0999999999999996,-2.4) {};\n",
      "\\node[label={[label distance=0.5cm,text depth=-1ex,rotate=45]left:\\data{\\small{gilani-2017}} }] at (2.8,-2.4) {};\n",
      "\\node[label={[label distance=0.5cm,text depth=-1ex,rotate=45]left:\\data{\\small{twibot-2020}} }] at (3.499999999999999,-2.4) {};\n",
      "\\node[label={[label distance=0.5cm,text depth=-1ex,rotate=45]left:\\data{\\small{yang-2013}} }] at (4.199999999999999,-2.4) {};\n",
      "\\end{tikzpicture}\n",
      "\n",
      "\n"
     ]
    }
   ],
   "source": [
    "print_totoa_matrix(train_on_one_test_on_another_performance_balanced, 'a3')\n"
   ]
  },
  {
   "cell_type": "code",
   "execution_count": 47,
   "id": "73be1140",
   "metadata": {},
   "outputs": [],
   "source": [
    "importlib.reload(sys.modules['plotting'])\n",
    "from plotting import heatmap_train_on_one_test_on_another"
   ]
  },
  {
   "cell_type": "code",
   "execution_count": 48,
   "id": "0d689b85",
   "metadata": {},
   "outputs": [
    {
     "data": {
      "image/png": "[encoded data removed]",
      "text/plain": [
       "<Figure size 360x360 with 1 Axes>"
      ]
     },
     "metadata": {
      "needs_background": "light"
     },
     "output_type": "display_data"
    }
   ],
   "source": [
    "depth=3\n",
    "tootoa_a3 = heatmap_train_on_one_test_on_another(train_on_one_test_on_another_performance, 'accuracy', depth)\n",
    "tootoa_a3.to_csv(f\"tootoa_a{depth}.csv\")"
   ]
  },
  {
   "cell_type": "code",
   "execution_count": 49,
   "id": "0c8e6711",
   "metadata": {},
   "outputs": [
    {
     "data": {
      "image/png": "[encoded data removed]",
      "text/plain": [
       "<Figure size 360x360 with 1 Axes>"
      ]
     },
     "metadata": {
      "needs_background": "light"
     },
     "output_type": "display_data"
    }
   ],
   "source": [
    "depth=3\n",
    "tootoa_f = heatmap_train_on_one_test_on_another(train_on_one_test_on_another_performance, 'f1', depth)\n",
    "tootoa_f.to_csv(f\"tootoa_f{depth}.csv\")"
   ]
  },
  {
   "cell_type": "markdown",
   "id": "985dbcdf",
   "metadata": {},
   "source": [
    "# Leave-one-dataset-out"
   ]
  },
  {
   "cell_type": "code",
   "execution_count": 98,
   "id": "a4e56bc8",
   "metadata": {},
   "outputs": [
    {
     "data": {
      "text/plain": [
       "<module 'leaveonedatasetout' from '/home/jhays/bot-detection/leaveonedatasetout.py'>"
      ]
     },
     "execution_count": 98,
     "metadata": {},
     "output_type": "execute_result"
    }
   ],
   "source": [
    "importlib.reload(sys.modules['leaveonedatasetout'])"
   ]
  },
  {
   "cell_type": "code",
   "execution_count": 99,
   "id": "64c1915f",
   "metadata": {},
   "outputs": [],
   "source": [
    "from leaveonedatasetout import leave_dataset_out"
   ]
  },
  {
   "cell_type": "code",
   "execution_count": 100,
   "id": "e9f9b6e3",
   "metadata": {},
   "outputs": [],
   "source": [
    "rows = []\n",
    "\n",
    "for i in range(len(datasets)):\n",
    "    rf = ensemble.RandomForestClassifier()\n",
    "    rows.append(leave_dataset_out(i, datasets, dataset_names, labels, method=rf))\n",
    "    \n",
    "leave_one_out_scores = pd.DataFrame(rows)"
   ]
  },
  {
   "cell_type": "code",
   "execution_count": 101,
   "id": "f54e706b",
   "metadata": {
    "scrolled": true
   },
   "outputs": [
    {
     "ename": "KeyError",
     "evalue": "'a1'",
     "output_type": "error",
     "traceback": [
      "\u001b[0;31m---------------------------------------------------------------------------\u001b[0m",
      "\u001b[0;31mKeyError\u001b[0m                                  Traceback (most recent call last)",
      "\u001b[0;32m<ipython-input-101-d917768c20e7>\u001b[0m in \u001b[0;36m<module>\u001b[0;34m\u001b[0m\n\u001b[0;32m----> 1\u001b[0;31m \u001b[0mprint_leave_one_out_table\u001b[0m\u001b[0;34m(\u001b[0m\u001b[0mleave_one_out_scores\u001b[0m\u001b[0;34m)\u001b[0m\u001b[0;34m\u001b[0m\u001b[0;34m\u001b[0m\u001b[0m\n\u001b[0m",
      "\u001b[0;32m~/bot-detection/print_table.py\u001b[0m in \u001b[0;36mprint_leave_one_out_table\u001b[0;34m(df)\u001b[0m\n\u001b[1;32m     12\u001b[0m         \u001b[0mk\u001b[0m \u001b[0;34m=\u001b[0m \u001b[0mrow\u001b[0m\u001b[0;34m[\u001b[0m\u001b[0;34m'left_out'\u001b[0m\u001b[0;34m]\u001b[0m\u001b[0;34m\u001b[0m\u001b[0;34m\u001b[0m\u001b[0m\n\u001b[1;32m     13\u001b[0m \u001b[0;34m\u001b[0m\u001b[0m\n\u001b[0;32m---> 14\u001b[0;31m         \u001b[0maccuracies\u001b[0m \u001b[0;34m=\u001b[0m \u001b[0;34m[\u001b[0m\u001b[0mrow\u001b[0m\u001b[0;34m[\u001b[0m\u001b[0;34mf'a{i}'\u001b[0m\u001b[0;34m]\u001b[0m \u001b[0;32mfor\u001b[0m \u001b[0mi\u001b[0m \u001b[0;32min\u001b[0m \u001b[0mrange\u001b[0m\u001b[0;34m(\u001b[0m\u001b[0;36m1\u001b[0m\u001b[0;34m,\u001b[0m \u001b[0mmax_depth\u001b[0m\u001b[0;34m+\u001b[0m\u001b[0;36m1\u001b[0m\u001b[0;34m)\u001b[0m\u001b[0;34m]\u001b[0m\u001b[0;34m\u001b[0m\u001b[0;34m\u001b[0m\u001b[0m\n\u001b[0m\u001b[1;32m     15\u001b[0m         \u001b[0ma_max_ind\u001b[0m \u001b[0;34m=\u001b[0m \u001b[0mnp\u001b[0m\u001b[0;34m.\u001b[0m\u001b[0margmax\u001b[0m\u001b[0;34m(\u001b[0m\u001b[0maccuracies\u001b[0m\u001b[0;34m)\u001b[0m\u001b[0;34m\u001b[0m\u001b[0;34m\u001b[0m\u001b[0m\n\u001b[1;32m     16\u001b[0m         \u001b[0mf1s\u001b[0m \u001b[0;34m=\u001b[0m \u001b[0;34m[\u001b[0m\u001b[0mrow\u001b[0m\u001b[0;34m[\u001b[0m\u001b[0;34mf'f{i}'\u001b[0m\u001b[0;34m]\u001b[0m \u001b[0;32mfor\u001b[0m \u001b[0mi\u001b[0m \u001b[0;32min\u001b[0m \u001b[0mrange\u001b[0m\u001b[0;34m(\u001b[0m\u001b[0;36m1\u001b[0m\u001b[0;34m,\u001b[0m \u001b[0mmax_depth\u001b[0m\u001b[0;34m+\u001b[0m\u001b[0;36m1\u001b[0m\u001b[0;34m)\u001b[0m\u001b[0;34m]\u001b[0m\u001b[0;34m\u001b[0m\u001b[0;34m\u001b[0m\u001b[0m\n",
      "\u001b[0;32m~/bot-detection/print_table.py\u001b[0m in \u001b[0;36m<listcomp>\u001b[0;34m(.0)\u001b[0m\n\u001b[1;32m     12\u001b[0m         \u001b[0mk\u001b[0m \u001b[0;34m=\u001b[0m \u001b[0mrow\u001b[0m\u001b[0;34m[\u001b[0m\u001b[0;34m'left_out'\u001b[0m\u001b[0;34m]\u001b[0m\u001b[0;34m\u001b[0m\u001b[0;34m\u001b[0m\u001b[0m\n\u001b[1;32m     13\u001b[0m \u001b[0;34m\u001b[0m\u001b[0m\n\u001b[0;32m---> 14\u001b[0;31m         \u001b[0maccuracies\u001b[0m \u001b[0;34m=\u001b[0m \u001b[0;34m[\u001b[0m\u001b[0mrow\u001b[0m\u001b[0;34m[\u001b[0m\u001b[0;34mf'a{i}'\u001b[0m\u001b[0;34m]\u001b[0m \u001b[0;32mfor\u001b[0m \u001b[0mi\u001b[0m \u001b[0;32min\u001b[0m \u001b[0mrange\u001b[0m\u001b[0;34m(\u001b[0m\u001b[0;36m1\u001b[0m\u001b[0;34m,\u001b[0m \u001b[0mmax_depth\u001b[0m\u001b[0;34m+\u001b[0m\u001b[0;36m1\u001b[0m\u001b[0;34m)\u001b[0m\u001b[0;34m]\u001b[0m\u001b[0;34m\u001b[0m\u001b[0;34m\u001b[0m\u001b[0m\n\u001b[0m\u001b[1;32m     15\u001b[0m         \u001b[0ma_max_ind\u001b[0m \u001b[0;34m=\u001b[0m \u001b[0mnp\u001b[0m\u001b[0;34m.\u001b[0m\u001b[0margmax\u001b[0m\u001b[0;34m(\u001b[0m\u001b[0maccuracies\u001b[0m\u001b[0;34m)\u001b[0m\u001b[0;34m\u001b[0m\u001b[0;34m\u001b[0m\u001b[0m\n\u001b[1;32m     16\u001b[0m         \u001b[0mf1s\u001b[0m \u001b[0;34m=\u001b[0m \u001b[0;34m[\u001b[0m\u001b[0mrow\u001b[0m\u001b[0;34m[\u001b[0m\u001b[0;34mf'f{i}'\u001b[0m\u001b[0;34m]\u001b[0m \u001b[0;32mfor\u001b[0m \u001b[0mi\u001b[0m \u001b[0;32min\u001b[0m \u001b[0mrange\u001b[0m\u001b[0;34m(\u001b[0m\u001b[0;36m1\u001b[0m\u001b[0;34m,\u001b[0m \u001b[0mmax_depth\u001b[0m\u001b[0;34m+\u001b[0m\u001b[0;36m1\u001b[0m\u001b[0;34m)\u001b[0m\u001b[0;34m]\u001b[0m\u001b[0;34m\u001b[0m\u001b[0;34m\u001b[0m\u001b[0m\n",
      "\u001b[0;31mKeyError\u001b[0m: 'a1'"
     ]
    }
   ],
   "source": [
    "print_leave_one_out_table(leave_one_out_scores)"
   ]
  },
  {
   "cell_type": "markdown",
   "id": "728289e1",
   "metadata": {},
   "source": [
    "## Analysis of each of the specialized classifiers in Botometer"
   ]
  },
  {
   "cell_type": "code",
   "execution_count": 1479,
   "id": "30fd6d27",
   "metadata": {},
   "outputs": [],
   "source": [
    "def get_columns(df):\n",
    "    return df.columns[~df.columns.str.contains('location') & ~df.columns.str.contains('utc') & ~df.columns.str.contains('time_zone')& ~df.columns.str.contains('lang')]\n"
   ]
  },
  {
   "cell_type": "markdown",
   "id": "d0e56279",
   "metadata": {},
   "source": [
    "\n",
    "### humans"
   ]
  },
  {
   "cell_type": "code",
   "execution_count": 1519,
   "id": "2dd01a27",
   "metadata": {},
   "outputs": [],
   "source": [
    "human_df_list = load_human_dataset_list()\n",
    "human_df, human_dataset_class_labels = get_intraclass_labels(human_df_list)\n"
   ]
  },
  {
   "cell_type": "code",
   "execution_count": 1508,
   "id": "f1264052",
   "metadata": {
    "scrolled": true
   },
   "outputs": [
    {
     "name": "stdout",
     "output_type": "stream",
     "text": [
      "Starting train_test_fit_and_score_clf at 10/07/22 22:05:47\n",
      "|--- followers_count <= 10066.50\n",
      "|   |--- friends_count <= 0.50\n",
      "|   |   |--- statuses_count <= 93.50\n",
      "|   |   |   |--- weights: [130.00, 0.00, 1.00, 7.00, 1.00] class: 0\n",
      "|   |   |--- statuses_count >  93.50\n",
      "|   |   |   |--- weights: [236.00, 1.00, 1.00, 10.00, 1487.00] class: 4\n",
      "|   |--- friends_count >  0.50\n",
      "|   |   |--- statuses_count <= 10579.00\n",
      "|   |   |   |--- weights: [14262.00, 193.00, 115.00, 93.00, 2139.00] class: 0\n",
      "|   |   |--- statuses_count >  10579.00\n",
      "|   |   |   |--- weights: [703.00, 71.00, 19.00, 334.00, 1184.00] class: 4\n",
      "|--- followers_count >  10066.50\n",
      "|   |--- followers_count <= 211627.00\n",
      "|   |   |--- statuses_count <= 21169.50\n",
      "|   |   |   |--- weights: [84.00, 18.00, 685.00, 148.00, 27.00] class: 2\n",
      "|   |   |--- statuses_count >  21169.50\n",
      "|   |   |   |--- weights: [11.00, 21.00, 159.00, 227.00, 71.00] class: 3\n",
      "|   |--- followers_count >  211627.00\n",
      "|   |   |--- followers_count <= 40328740.00\n",
      "|   |   |   |--- weights: [3.00, 8.00, 3732.00, 305.00, 12.00] class: 2\n",
      "|   |   |--- followers_count >  40328740.00\n",
      "|   |   |   |--- weights: [0.00, 1.00, 12.00, 17.00, 0.00] class: 3\n",
      "\n",
      "Accuracy: 0.8213478064224333\n",
      "Precision -1\n",
      "Recall: -1\n",
      "F1: -1\n",
      "Finished train_test_fit_and_score_clf at 1665194748.0052328. Execution time: 0.08139300346374512 s\n"
     ]
    },
    {
     "data": {
      "text/plain": [
       "(0.8213478064224333, -1, -1, -1)"
      ]
     },
     "execution_count": 1508,
     "metadata": {},
     "output_type": "execute_result"
    }
   ],
   "source": [
    "train_test_fit_and_score(human_df.drop(['created_at'], axis=1), human_dataset_class_labels, depth=3, silent=False, prec_rec=False, balance=False)\n"
   ]
  },
  {
   "cell_type": "code",
   "execution_count": 1509,
   "id": "05456c54",
   "metadata": {},
   "outputs": [
    {
     "name": "stdout",
     "output_type": "stream",
     "text": [
      "Starting train_test_fit_and_score_clf at 10/07/22 22:06:07\n",
      "|--- friends_count <= 374.00\n",
      "|   |--- followers_count <= 2543.50\n",
      "|   |   |--- friends_count <= 159.00\n",
      "|   |   |   |--- weights: [204.00, 51.00] class: 0\n",
      "|   |   |--- friends_count >  159.00\n",
      "|   |   |   |--- weights: [51.00, 38.00] class: 0\n",
      "|   |--- followers_count >  2543.50\n",
      "|   |   |--- statuses_count <= 1086.50\n",
      "|   |   |   |--- weights: [2.00, 1.00] class: 0\n",
      "|   |   |--- statuses_count >  1086.50\n",
      "|   |   |   |--- weights: [1.00, 12.00] class: 1\n",
      "|--- friends_count >  374.00\n",
      "|   |--- followers_count <= 1346.50\n",
      "|   |   |--- followers_count <= 124.00\n",
      "|   |   |   |--- weights: [0.00, 18.00] class: 1\n",
      "|   |   |--- followers_count >  124.00\n",
      "|   |   |   |--- weights: [38.00, 80.00] class: 1\n",
      "|   |--- followers_count >  1346.50\n",
      "|   |   |--- statuses_count <= 879.00\n",
      "|   |   |   |--- weights: [2.00, 3.00] class: 1\n",
      "|   |   |--- statuses_count >  879.00\n",
      "|   |   |   |--- weights: [4.00, 103.00] class: 1\n",
      "\n",
      "Accuracy: 0.6907894736842105\n",
      "Precision -1\n",
      "Recall: -1\n",
      "F1: -1\n",
      "Finished train_test_fit_and_score_clf at 1665194767.4654946. Execution time: 0.03257036209106445 s\n"
     ]
    },
    {
     "data": {
      "text/plain": [
       "(0.6907894736842105, -1, -1, -1)"
      ]
     },
     "execution_count": 1509,
     "metadata": {},
     "output_type": "execute_result"
    }
   ],
   "source": [
    "train_test_fit_and_score(human_df.drop(['created_at'], axis=1), human_dataset_class_labels, depth=3, silent=False, prec_rec=False, balance=True)\n"
   ]
  },
  {
   "cell_type": "markdown",
   "id": "72f2aa5b",
   "metadata": {},
   "source": [
    "### simple bots"
   ]
  },
  {
   "cell_type": "code",
   "execution_count": 1618,
   "id": "81502861",
   "metadata": {
    "ExecuteTime": {
     "end_time": "2022-05-25T14:27:24.656045Z",
     "start_time": "2022-05-25T14:27:24.652694Z"
    }
   },
   "outputs": [
    {
     "data": {
      "text/html": [
       "<div>\n",
       "<style scoped>\n",
       "    .dataframe tbody tr th:only-of-type {\n",
       "        vertical-align: middle;\n",
       "    }\n",
       "\n",
       "    .dataframe tbody tr th {\n",
       "        vertical-align: top;\n",
       "    }\n",
       "\n",
       "    .dataframe thead th {\n",
       "        text-align: right;\n",
       "    }\n",
       "</style>\n",
       "<table border=\"1\" class=\"dataframe\">\n",
       "  <thead>\n",
       "    <tr style=\"text-align: right;\">\n",
       "      <th></th>\n",
       "      <th>created_at</th>\n",
       "      <th>friends_count</th>\n",
       "      <th>followers_count</th>\n",
       "      <th>statuses_count</th>\n",
       "      <th>LengthOfScreenName</th>\n",
       "      <th>LengthOfDescriptionInUserProfile</th>\n",
       "    </tr>\n",
       "  </thead>\n",
       "  <tbody>\n",
       "    <tr>\n",
       "      <th>0</th>\n",
       "      <td>1.158556e+09</td>\n",
       "      <td>3269</td>\n",
       "      <td>3071</td>\n",
       "      <td>861</td>\n",
       "      <td>8</td>\n",
       "      <td>132</td>\n",
       "    </tr>\n",
       "    <tr>\n",
       "      <th>1</th>\n",
       "      <td>1.161974e+09</td>\n",
       "      <td>1949</td>\n",
       "      <td>793</td>\n",
       "      <td>226</td>\n",
       "      <td>9</td>\n",
       "      <td>134</td>\n",
       "    </tr>\n",
       "    <tr>\n",
       "      <th>2</th>\n",
       "      <td>1.162133e+09</td>\n",
       "      <td>1119</td>\n",
       "      <td>9644</td>\n",
       "      <td>38674</td>\n",
       "      <td>12</td>\n",
       "      <td>158</td>\n",
       "    </tr>\n",
       "    <tr>\n",
       "      <th>3</th>\n",
       "      <td>1.168796e+09</td>\n",
       "      <td>2174</td>\n",
       "      <td>6029</td>\n",
       "      <td>12718</td>\n",
       "      <td>11</td>\n",
       "      <td>121</td>\n",
       "    </tr>\n",
       "    <tr>\n",
       "      <th>4</th>\n",
       "      <td>1.169954e+09</td>\n",
       "      <td>7731</td>\n",
       "      <td>7029</td>\n",
       "      <td>873</td>\n",
       "      <td>6</td>\n",
       "      <td>70</td>\n",
       "    </tr>\n",
       "    <tr>\n",
       "      <th>...</th>\n",
       "      <td>...</td>\n",
       "      <td>...</td>\n",
       "      <td>...</td>\n",
       "      <td>...</td>\n",
       "      <td>...</td>\n",
       "      <td>...</td>\n",
       "    </tr>\n",
       "    <tr>\n",
       "      <th>22218</th>\n",
       "      <td>1.280721e+09</td>\n",
       "      <td>63</td>\n",
       "      <td>10</td>\n",
       "      <td>29</td>\n",
       "      <td>12</td>\n",
       "      <td>0</td>\n",
       "    </tr>\n",
       "    <tr>\n",
       "      <th>22219</th>\n",
       "      <td>1.280722e+09</td>\n",
       "      <td>83</td>\n",
       "      <td>10</td>\n",
       "      <td>35</td>\n",
       "      <td>8</td>\n",
       "      <td>0</td>\n",
       "    </tr>\n",
       "    <tr>\n",
       "      <th>22220</th>\n",
       "      <td>1.280723e+09</td>\n",
       "      <td>67</td>\n",
       "      <td>9</td>\n",
       "      <td>21</td>\n",
       "      <td>13</td>\n",
       "      <td>0</td>\n",
       "    </tr>\n",
       "    <tr>\n",
       "      <th>22221</th>\n",
       "      <td>1.280724e+09</td>\n",
       "      <td>35</td>\n",
       "      <td>4</td>\n",
       "      <td>17</td>\n",
       "      <td>12</td>\n",
       "      <td>0</td>\n",
       "    </tr>\n",
       "    <tr>\n",
       "      <th>22222</th>\n",
       "      <td>1.280736e+09</td>\n",
       "      <td>12</td>\n",
       "      <td>0</td>\n",
       "      <td>1</td>\n",
       "      <td>13</td>\n",
       "      <td>0</td>\n",
       "    </tr>\n",
       "  </tbody>\n",
       "</table>\n",
       "<p>22223 rows × 6 columns</p>\n",
       "</div>"
      ],
      "text/plain": [
       "         created_at  friends_count  followers_count  statuses_count  \\\n",
       "0      1.158556e+09           3269             3071             861   \n",
       "1      1.161974e+09           1949              793             226   \n",
       "2      1.162133e+09           1119             9644           38674   \n",
       "3      1.168796e+09           2174             6029           12718   \n",
       "4      1.169954e+09           7731             7029             873   \n",
       "...             ...            ...              ...             ...   \n",
       "22218  1.280721e+09             63               10              29   \n",
       "22219  1.280722e+09             83               10              35   \n",
       "22220  1.280723e+09             67                9              21   \n",
       "22221  1.280724e+09             35                4              17   \n",
       "22222  1.280736e+09             12                0               1   \n",
       "\n",
       "       LengthOfScreenName  LengthOfDescriptionInUserProfile  \n",
       "0                       8                               132  \n",
       "1                       9                               134  \n",
       "2                      12                               158  \n",
       "3                      11                               121  \n",
       "4                       6                                70  \n",
       "...                   ...                               ...  \n",
       "22218                  12                                 0  \n",
       "22219                   8                                 0  \n",
       "22220                  13                                 0  \n",
       "22221                  12                                 0  \n",
       "22222                  13                                 0  \n",
       "\n",
       "[22223 rows x 6 columns]"
      ]
     },
     "execution_count": 1618,
     "metadata": {},
     "output_type": "execute_result"
    }
   ],
   "source": [
    "\n",
    "simple_df = caverlee_2011[caverlee_2011_labels.values == 1].rename(columns={'CreatedAt': 'created_at', 'NumerOfFollowings': 'friends_count', 'NumberOfFollowers': 'followers_count', \"NumberOfTweets\": 'statuses_count'})\n",
    "simple_df\n"
   ]
  },
  {
   "cell_type": "code",
   "execution_count": 1615,
   "id": "fa65251a",
   "metadata": {},
   "outputs": [
    {
     "data": {
      "text/html": [
       "<div>\n",
       "<style scoped>\n",
       "    .dataframe tbody tr th:only-of-type {\n",
       "        vertical-align: middle;\n",
       "    }\n",
       "\n",
       "    .dataframe tbody tr th {\n",
       "        vertical-align: top;\n",
       "    }\n",
       "\n",
       "    .dataframe thead th {\n",
       "        text-align: right;\n",
       "    }\n",
       "</style>\n",
       "<table border=\"1\" class=\"dataframe\">\n",
       "  <thead>\n",
       "    <tr style=\"text-align: right;\">\n",
       "      <th></th>\n",
       "      <th>created_at</th>\n",
       "      <th>NumerOfFollowings</th>\n",
       "      <th>NumberOfFollowers</th>\n",
       "      <th>num_tweets</th>\n",
       "      <th>LengthOfScreenName</th>\n",
       "      <th>LengthOfDescriptionInUserProfile</th>\n",
       "    </tr>\n",
       "  </thead>\n",
       "  <tbody>\n",
       "    <tr>\n",
       "      <th>0</th>\n",
       "      <td>1.158556e+09</td>\n",
       "      <td>3269</td>\n",
       "      <td>3071</td>\n",
       "      <td>861</td>\n",
       "      <td>8</td>\n",
       "      <td>132</td>\n",
       "    </tr>\n",
       "    <tr>\n",
       "      <th>1</th>\n",
       "      <td>1.161974e+09</td>\n",
       "      <td>1949</td>\n",
       "      <td>793</td>\n",
       "      <td>226</td>\n",
       "      <td>9</td>\n",
       "      <td>134</td>\n",
       "    </tr>\n",
       "    <tr>\n",
       "      <th>2</th>\n",
       "      <td>1.162133e+09</td>\n",
       "      <td>1119</td>\n",
       "      <td>9644</td>\n",
       "      <td>38674</td>\n",
       "      <td>12</td>\n",
       "      <td>158</td>\n",
       "    </tr>\n",
       "    <tr>\n",
       "      <th>3</th>\n",
       "      <td>1.168796e+09</td>\n",
       "      <td>2174</td>\n",
       "      <td>6029</td>\n",
       "      <td>12718</td>\n",
       "      <td>11</td>\n",
       "      <td>121</td>\n",
       "    </tr>\n",
       "    <tr>\n",
       "      <th>4</th>\n",
       "      <td>1.169954e+09</td>\n",
       "      <td>7731</td>\n",
       "      <td>7029</td>\n",
       "      <td>873</td>\n",
       "      <td>6</td>\n",
       "      <td>70</td>\n",
       "    </tr>\n",
       "    <tr>\n",
       "      <th>...</th>\n",
       "      <td>...</td>\n",
       "      <td>...</td>\n",
       "      <td>...</td>\n",
       "      <td>...</td>\n",
       "      <td>...</td>\n",
       "      <td>...</td>\n",
       "    </tr>\n",
       "    <tr>\n",
       "      <th>22218</th>\n",
       "      <td>1.280721e+09</td>\n",
       "      <td>63</td>\n",
       "      <td>10</td>\n",
       "      <td>29</td>\n",
       "      <td>12</td>\n",
       "      <td>0</td>\n",
       "    </tr>\n",
       "    <tr>\n",
       "      <th>22219</th>\n",
       "      <td>1.280722e+09</td>\n",
       "      <td>83</td>\n",
       "      <td>10</td>\n",
       "      <td>35</td>\n",
       "      <td>8</td>\n",
       "      <td>0</td>\n",
       "    </tr>\n",
       "    <tr>\n",
       "      <th>22220</th>\n",
       "      <td>1.280723e+09</td>\n",
       "      <td>67</td>\n",
       "      <td>9</td>\n",
       "      <td>21</td>\n",
       "      <td>13</td>\n",
       "      <td>0</td>\n",
       "    </tr>\n",
       "    <tr>\n",
       "      <th>22221</th>\n",
       "      <td>1.280724e+09</td>\n",
       "      <td>35</td>\n",
       "      <td>4</td>\n",
       "      <td>17</td>\n",
       "      <td>12</td>\n",
       "      <td>0</td>\n",
       "    </tr>\n",
       "    <tr>\n",
       "      <th>22222</th>\n",
       "      <td>1.280736e+09</td>\n",
       "      <td>12</td>\n",
       "      <td>0</td>\n",
       "      <td>1</td>\n",
       "      <td>13</td>\n",
       "      <td>0</td>\n",
       "    </tr>\n",
       "  </tbody>\n",
       "</table>\n",
       "<p>22223 rows × 6 columns</p>\n",
       "</div>"
      ],
      "text/plain": [
       "         created_at  NumerOfFollowings  NumberOfFollowers  num_tweets  \\\n",
       "0      1.158556e+09               3269               3071         861   \n",
       "1      1.161974e+09               1949                793         226   \n",
       "2      1.162133e+09               1119               9644       38674   \n",
       "3      1.168796e+09               2174               6029       12718   \n",
       "4      1.169954e+09               7731               7029         873   \n",
       "...             ...                ...                ...         ...   \n",
       "22218  1.280721e+09                 63                 10          29   \n",
       "22219  1.280722e+09                 83                 10          35   \n",
       "22220  1.280723e+09                 67                  9          21   \n",
       "22221  1.280724e+09                 35                  4          17   \n",
       "22222  1.280736e+09                 12                  0           1   \n",
       "\n",
       "       LengthOfScreenName  LengthOfDescriptionInUserProfile  \n",
       "0                       8                               132  \n",
       "1                       9                               134  \n",
       "2                      12                               158  \n",
       "3                      11                               121  \n",
       "4                       6                                70  \n",
       "...                   ...                               ...  \n",
       "22218                  12                                 0  \n",
       "22219                   8                                 0  \n",
       "22220                  13                                 0  \n",
       "22221                  12                                 0  \n",
       "22222                  13                                 0  \n",
       "\n",
       "[22223 rows x 6 columns]"
      ]
     },
     "execution_count": 1615,
     "metadata": {},
     "output_type": "execute_result"
    }
   ],
   "source": [
    "simple_df"
   ]
  },
  {
   "cell_type": "code",
   "execution_count": 1603,
   "id": "3a9b1b2e",
   "metadata": {},
   "outputs": [
    {
     "data": {
      "text/plain": [
       "Index(['CreatedAt', 'NumerOfFollowings', 'NumberOfFollowers', 'NumberOfTweets',\n",
       "       'LengthOfScreenName', 'LengthOfDescriptionInUserProfile'],\n",
       "      dtype='object')"
      ]
     },
     "execution_count": 1603,
     "metadata": {},
     "output_type": "execute_result"
    }
   ],
   "source": [
    "simple_df.columns"
   ]
  },
  {
   "cell_type": "markdown",
   "id": "5b8a7dbd",
   "metadata": {},
   "source": [
    "### spammers"
   ]
  },
  {
   "cell_type": "code",
   "execution_count": 1511,
   "id": "535cfdd6",
   "metadata": {
    "ExecuteTime": {
     "end_time": "2022-05-25T14:35:52.198968Z",
     "start_time": "2022-05-25T14:35:52.114390Z"
    }
   },
   "outputs": [],
   "source": [
    "spammers_intradataset, spammers_labels = load_spammers(intradataset=True)\n"
   ]
  },
  {
   "cell_type": "code",
   "execution_count": 1512,
   "id": "2c3537f9",
   "metadata": {},
   "outputs": [
    {
     "name": "stdout",
     "output_type": "stream",
     "text": [
      "Starting train_test_fit_and_score_clf at 10/07/22 22:06:16\n",
      "|--- favourites_count <= 13.50\n",
      "|   |--- followers_count <= 16.50\n",
      "|   |   |--- utc_offset_10800.0 <= 0.50\n",
      "|   |   |   |--- friends_count <= 23.00\n",
      "|   |   |   |   |--- weights: [0.00, 10.00, 3.00, 0.00, 0.00, 62.00, 0.00, 25.00] class: 5\n",
      "|   |   |   |--- friends_count >  23.00\n",
      "|   |   |   |   |--- weights: [0.00, 2683.00, 2.00, 3.00, 0.00, 10.00, 0.00, 2.00] class: 1\n",
      "|   |   |--- utc_offset_10800.0 >  0.50\n",
      "|   |   |   |--- weights: [316.00, 0.00, 0.00, 0.00, 0.00, 0.00, 0.00, 0.00] class: 0\n",
      "|   |--- followers_count >  16.50\n",
      "|   |   |--- lang_en <= 0.50\n",
      "|   |   |   |--- lang_it <= 0.50\n",
      "|   |   |   |   |--- weights: [0.00, 0.00, 1.00, 794.00, 57.00, 0.00, 0.00, 6.00] class: 3\n",
      "|   |   |   |--- lang_it >  0.50\n",
      "|   |   |   |   |--- weights: [394.00, 0.00, 0.00, 0.00, 0.00, 0.00, 0.00, 1.00] class: 0\n",
      "|   |   |--- lang_en >  0.50\n",
      "|   |   |   |--- statuses_count <= 889.50\n",
      "|   |   |   |   |--- weights: [35.00, 47.00, 11.00, 0.00, 23.00, 59.00, 895.00, 30.00] class: 6\n",
      "|   |   |   |--- statuses_count >  889.50\n",
      "|   |   |   |   |--- weights: [32.00, 1.00, 338.00, 0.00, 0.00, 156.00, 8.00, 0.00] class: 2\n",
      "|--- favourites_count >  13.50\n",
      "|   |--- listed_count <= 6.50\n",
      "|   |   |--- followers_count <= 510.00\n",
      "|   |   |   |--- statuses_count <= 42732.00\n",
      "|   |   |   |   |--- weights: [8.00, 2.00, 3.00, 1.00, 0.00, 6.00, 0.00, 14196.00] class: 7\n",
      "|   |   |   |--- statuses_count >  42732.00\n",
      "|   |   |   |   |--- weights: [0.00, 0.00, 0.00, 0.00, 0.00, 1.00, 0.00, 0.00] class: 5\n",
      "|   |   |--- followers_count >  510.00\n",
      "|   |   |   |--- friends_count <= 741.50\n",
      "|   |   |   |   |--- weights: [0.00, 3.00, 0.00, 0.00, 0.00, 0.00, 0.00, 0.00] class: 1\n",
      "|   |   |   |--- friends_count >  741.50\n",
      "|   |   |   |   |--- weights: [4.00, 0.00, 1.00, 1.00, 0.00, 0.00, 0.00, 0.00] class: 0\n",
      "|   |--- listed_count >  6.50\n",
      "|   |   |--- favourites_count <= 62.50\n",
      "|   |   |   |--- statuses_count <= 1667.00\n",
      "|   |   |   |   |--- weights: [0.00, 0.00, 0.00, 4.00, 0.00, 0.00, 0.00, 0.00] class: 3\n",
      "|   |   |   |--- statuses_count >  1667.00\n",
      "|   |   |   |   |--- weights: [0.00, 1.00, 1.00, 0.00, 0.00, 26.00, 0.00, 0.00] class: 5\n",
      "|   |   |--- favourites_count >  62.50\n",
      "|   |   |   |--- followers_count <= 500.00\n",
      "|   |   |   |   |--- weights: [1.00, 1.00, 2.00, 0.00, 0.00, 5.00, 0.00, 48.00] class: 7\n",
      "|   |   |   |--- followers_count >  500.00\n",
      "|   |   |   |   |--- weights: [7.00, 4.00, 5.00, 3.00, 0.00, 2.00, 0.00, 0.00] class: 0\n",
      "\n",
      "Accuracy: 0.9669616519174041\n",
      "Precision -1\n",
      "Recall: -1\n",
      "F1: -1\n",
      "Finished train_test_fit_and_score_clf at 1665194776.53909. Execution time: 0.22315454483032227 s\n"
     ]
    },
    {
     "data": {
      "text/plain": [
       "(0.9669616519174041, -1, -1, -1)"
      ]
     },
     "execution_count": 1512,
     "metadata": {},
     "output_type": "execute_result"
    }
   ],
   "source": [
    "train_test_fit_and_score(spammers_intradataset, spammers_labels, depth=4, silent=False, prec_rec=False)\n"
   ]
  },
  {
   "cell_type": "code",
   "execution_count": 1513,
   "id": "41457440",
   "metadata": {},
   "outputs": [
    {
     "name": "stdout",
     "output_type": "stream",
     "text": [
      "Starting train_test_fit_and_score_clf at 10/07/22 22:06:20\n",
      "|--- favourites_count <= 11.50\n",
      "|   |--- followers_count <= 16.50\n",
      "|   |   |--- friends_count <= 19.50\n",
      "|   |   |   |--- utc_offset_10800.0 <= 0.50\n",
      "|   |   |   |   |--- weights: [1.00, 5.00, 2.00, 0.00, 0.00, 56.00, 0.00, 28.00] class: 5\n",
      "|   |   |   |--- utc_offset_10800.0 >  0.50\n",
      "|   |   |   |   |--- weights: [310.00, 0.00, 0.00, 0.00, 0.00, 0.00, 0.00, 0.00] class: 0\n",
      "|   |   |--- friends_count >  19.50\n",
      "|   |   |   |--- statuses_count <= 106.50\n",
      "|   |   |   |   |--- weights: [0.00, 2691.00, 3.00, 4.00, 0.00, 1.00, 0.00, 2.00] class: 1\n",
      "|   |   |   |--- statuses_count >  106.50\n",
      "|   |   |   |   |--- weights: [8.00, 1.00, 2.00, 0.00, 0.00, 11.00, 0.00, 0.00] class: 5\n",
      "|   |--- followers_count >  16.50\n",
      "|   |   |--- lang_en <= 0.50\n",
      "|   |   |   |--- lang_it <= 0.50\n",
      "|   |   |   |   |--- weights: [0.00, 0.00, 1.00, 802.00, 54.00, 0.00, 0.00, 7.00] class: 3\n",
      "|   |   |   |--- lang_it >  0.50\n",
      "|   |   |   |   |--- weights: [381.00, 0.00, 0.00, 0.00, 0.00, 0.00, 0.00, 0.00] class: 0\n",
      "|   |   |--- lang_en >  0.50\n",
      "|   |   |   |--- statuses_count <= 953.50\n",
      "|   |   |   |   |--- weights: [36.00, 51.00, 11.00, 0.00, 21.00, 63.00, 892.00, 29.00] class: 6\n",
      "|   |   |   |--- statuses_count >  953.50\n",
      "|   |   |   |   |--- weights: [32.00, 1.00, 341.00, 0.00, 0.00, 143.00, 6.00, 0.00] class: 2\n",
      "|--- favourites_count >  11.50\n",
      "|   |--- followers_count <= 502.00\n",
      "|   |   |--- listed_count <= 4.50\n",
      "|   |   |   |--- statuses_count <= 9003.50\n",
      "|   |   |   |   |--- weights: [5.00, 2.00, 3.00, 0.00, 0.00, 2.00, 0.00, 14139.00] class: 7\n",
      "|   |   |   |--- statuses_count >  9003.50\n",
      "|   |   |   |   |--- weights: [5.00, 1.00, 0.00, 0.00, 0.00, 1.00, 0.00, 35.00] class: 7\n",
      "|   |   |--- listed_count >  4.50\n",
      "|   |   |   |--- favourites_count <= 54.00\n",
      "|   |   |   |   |--- weights: [0.00, 0.00, 0.00, 2.00, 0.00, 31.00, 0.00, 1.00] class: 5\n",
      "|   |   |   |--- favourites_count >  54.00\n",
      "|   |   |   |   |--- weights: [1.00, 1.00, 1.00, 0.00, 0.00, 4.00, 0.00, 69.00] class: 7\n",
      "|   |--- followers_count >  502.00\n",
      "|   |   |--- lang_it <= 0.50\n",
      "|   |   |   |--- statuses_count <= 2766.50\n",
      "|   |   |   |   |--- weights: [0.00, 0.00, 0.00, 7.00, 0.00, 0.00, 0.00, 1.00] class: 3\n",
      "|   |   |   |--- statuses_count >  2766.50\n",
      "|   |   |   |   |--- weights: [1.00, 9.00, 10.00, 1.00, 0.00, 1.00, 0.00, 0.00] class: 2\n",
      "|   |   |--- lang_it >  0.50\n",
      "|   |   |   |--- weights: [11.00, 0.00, 0.00, 0.00, 0.00, 0.00, 0.00, 0.00] class: 0\n",
      "\n",
      "Accuracy: 0.9695181907571289\n",
      "Precision -1\n",
      "Recall: -1\n",
      "F1: -1\n",
      "Finished train_test_fit_and_score_clf at 1665194781.0614827. Execution time: 0.1716320514678955 s\n"
     ]
    },
    {
     "data": {
      "text/plain": [
       "(0.9695181907571289, -1, -1, -1)"
      ]
     },
     "execution_count": 1513,
     "metadata": {},
     "output_type": "execute_result"
    }
   ],
   "source": [
    "spammers_intradataset, spammers_labels = load_spammers(intradataset=True)\n",
    "train_test_fit_and_score(spammers_intradataset, spammers_labels, depth=4, silent=False, prec_rec=False, balance=False)\n"
   ]
  },
  {
   "cell_type": "code",
   "execution_count": 1514,
   "id": "89c2a812",
   "metadata": {},
   "outputs": [
    {
     "name": "stdout",
     "output_type": "stream",
     "text": [
      "Starting train_test_fit_and_score_clf at 10/07/22 22:06:22\n",
      "|--- lang_it <= 0.50\n",
      "|   |--- friends_count <= 765.00\n",
      "|   |   |--- weights: [0.00, 80.00] class: 1\n",
      "|   |--- friends_count >  765.00\n",
      "|   |   |--- weights: [2.00, 0.00] class: 0\n",
      "|--- lang_it >  0.50\n",
      "|   |--- weights: [78.00, 0.00] class: 0\n",
      "\n",
      "Accuracy: 1.0\n",
      "Precision -1\n",
      "Recall: -1\n",
      "F1: -1\n",
      "Finished train_test_fit_and_score_clf at 1665194782.9992433. Execution time: 0.0193023681640625 s\n"
     ]
    },
    {
     "data": {
      "text/plain": [
       "(1.0, -1, -1, -1)"
      ]
     },
     "execution_count": 1514,
     "metadata": {},
     "output_type": "execute_result"
    }
   ],
   "source": [
    "spammers_intradataset, spammers_labels = load_spammers(intradataset=True, balance=True)\n",
    "train_test_fit_and_score(spammers_intradataset, spammers_labels, depth=4, silent=False, prec_rec=False, balance=True)\n"
   ]
  },
  {
   "cell_type": "markdown",
   "id": "efe9eb6c",
   "metadata": {},
   "source": [
    "### fake followers"
   ]
  },
  {
   "cell_type": "code",
   "execution_count": 1539,
   "id": "0fa31458",
   "metadata": {},
   "outputs": [],
   "source": [
    "fake_followers_df, fake_followers_labels = load_fake_followers(intradataset=True)\n"
   ]
  },
  {
   "cell_type": "code",
   "execution_count": 1540,
   "id": "61a1d8fe",
   "metadata": {},
   "outputs": [
    {
     "name": "stdout",
     "output_type": "stream",
     "text": [
      "Starting train_test_fit_and_score_clf at 10/07/22 22:17:57\n",
      "|--- profile_use_background_image_True <= 0.50\n",
      "|   |--- weights: [96.00, 2680.00] class: 1\n",
      "|--- profile_use_background_image_True >  0.50\n",
      "|   |--- weights: [774.00, 0.00] class: 0\n",
      "\n",
      "Accuracy: 0.9707207207207207\n",
      "Precision -1\n",
      "Recall: -1\n",
      "F1: -1\n",
      "Finished train_test_fit_and_score_clf at 1665195477.7016487. Execution time: 0.12215185165405273 s\n"
     ]
    },
    {
     "data": {
      "text/plain": [
       "(0.9707207207207207, -1, -1, -1)"
      ]
     },
     "execution_count": 1540,
     "metadata": {},
     "output_type": "execute_result"
    }
   ],
   "source": [
    "train_test_fit_and_score(fake_followers_df.drop(['created_at'], axis=1), fake_followers_labels, depth=1, silent=False, prec_rec=False)\n"
   ]
  },
  {
   "cell_type": "code",
   "execution_count": 1541,
   "id": "8ecdfc32",
   "metadata": {},
   "outputs": [
    {
     "name": "stdout",
     "output_type": "stream",
     "text": [
      "Starting train_test_fit_and_score_clf at 10/07/22 22:18:01\n",
      "|--- favourites_count <= 3.50\n",
      "|   |--- weights: [48.00, 820.00] class: 1\n",
      "|--- favourites_count >  3.50\n",
      "|   |--- weights: [832.00, 39.00] class: 0\n",
      "\n",
      "Accuracy: 0.9333333333333333\n",
      "Precision -1\n",
      "Recall: -1\n",
      "F1: -1\n",
      "Finished train_test_fit_and_score_clf at 1665195481.435124. Execution time: 0.023526668548583984 s\n"
     ]
    },
    {
     "data": {
      "text/plain": [
       "(0.9333333333333333, -1, -1, -1)"
      ]
     },
     "execution_count": 1541,
     "metadata": {},
     "output_type": "execute_result"
    }
   ],
   "source": [
    "fake_followers_df, fake_followers_labels = load_fake_followers(intradataset=True, balance=True)\n",
    "\n",
    "train_test_fit_and_score(fake_followers_df, fake_followers_labels, depth=1, silent=False, prec_rec=False)\n"
   ]
  },
  {
   "cell_type": "markdown",
   "id": "19a78651",
   "metadata": {},
   "source": [
    "### self-declared"
   ]
  },
  {
   "cell_type": "code",
   "execution_count": 1542,
   "id": "a9928b06",
   "metadata": {},
   "outputs": [],
   "source": [
    "botwiki_df, self_declared_df, botwiki_labels = load_dataset(PROJ_PATH + \"/data/botwiki-2019_tweets.json\", PROJ_PATH + \"/data/botwiki-2019.tsv\")\n"
   ]
  },
  {
   "cell_type": "markdown",
   "id": "377d5b56",
   "metadata": {},
   "source": [
    "### political bots"
   ]
  },
  {
   "cell_type": "code",
   "execution_count": 1543,
   "id": "ed0beee4",
   "metadata": {},
   "outputs": [],
   "source": [
    "political_bots, political_bots_df, political_bots_labels = load_dataset(PROJ_PATH + \"/data/political-bots-2019/political-bots-2019_tweets.json\", PROJ_PATH + \"/data/political-bots-2019/political-bots-2019.tsv\")\n"
   ]
  },
  {
   "cell_type": "markdown",
   "id": "7862d335",
   "metadata": {},
   "source": [
    "### other bots"
   ]
  },
  {
   "cell_type": "code",
   "execution_count": 1548,
   "id": "e5802c74",
   "metadata": {},
   "outputs": [],
   "source": [
    "other_bots, other_bots_labels = load_other_bots(intradataset=True)\n"
   ]
  },
  {
   "cell_type": "code",
   "execution_count": 1549,
   "id": "d66bd918",
   "metadata": {
    "scrolled": true
   },
   "outputs": [
    {
     "name": "stdout",
     "output_type": "stream",
     "text": [
      "Starting train_test_fit_and_score_clf at 10/07/22 22:23:15\n",
      "|--- followers_count <= 699.00\n",
      "|   |--- lang_it <= 0.50\n",
      "|   |   |--- created_at <= 1505079680.00\n",
      "|   |   |   |--- weights: [36.00, 20.00, 9.00, 5477.00] class: 3\n",
      "|   |   |--- created_at >  1505079680.00\n",
      "|   |   |   |--- weights: [5.00, 5.00, 19.00, 0.00] class: 2\n",
      "|   |--- lang_it >  0.50\n",
      "|   |   |--- created_at <= 1382974976.00\n",
      "|   |   |   |--- weights: [1.00, 0.00, 40.00, 34.00] class: 2\n",
      "|   |   |--- created_at >  1382974976.00\n",
      "|   |   |   |--- weights: [0.00, 0.00, 183.00, 7.00] class: 2\n",
      "|--- followers_count >  699.00\n",
      "|   |--- followers_count <= 27269.00\n",
      "|   |   |--- favourites_count <= 533.00\n",
      "|   |   |   |--- weights: [16.00, 159.00, 1.00, 8.00] class: 1\n",
      "|   |   |--- favourites_count >  533.00\n",
      "|   |   |   |--- weights: [32.00, 144.00, 31.00, 155.00] class: 3\n",
      "|   |--- followers_count >  27269.00\n",
      "|   |   |--- created_at <= 1444555456.00\n",
      "|   |   |   |--- weights: [10.00, 543.00, 1.00, 2.00] class: 1\n",
      "|   |   |--- created_at >  1444555456.00\n",
      "|   |   |   |--- weights: [6.00, 3.00, 0.00, 0.00] class: 0\n",
      "\n",
      "Accuracy: 0.9447322970639033\n",
      "Precision -1\n",
      "Recall: -1\n",
      "F1: -1\n",
      "Finished train_test_fit_and_score_clf at 1665195795.823327. Execution time: 0.03454470634460449 s\n"
     ]
    },
    {
     "data": {
      "text/plain": [
       "(0.9447322970639033, -1, -1, -1)"
      ]
     },
     "execution_count": 1549,
     "metadata": {},
     "output_type": "execute_result"
    }
   ],
   "source": [
    "train_test_fit_and_score(other_bots, other_bots_labels, depth=3, silent=False, prec_rec=False)\n"
   ]
  },
  {
   "cell_type": "code",
   "execution_count": 1550,
   "id": "9a1de9e8",
   "metadata": {},
   "outputs": [
    {
     "name": "stdout",
     "output_type": "stream",
     "text": [
      "Starting train_test_fit_and_score_clf at 10/07/22 22:23:41\n",
      "|--- lang_it <= 0.50\n",
      "|   |--- followers_count <= 635.00\n",
      "|   |   |--- statuses_count <= 154.00\n",
      "|   |   |   |--- weights: [20.00, 0.00, 0.00, 0.00] class: 0\n",
      "|   |   |--- statuses_count >  154.00\n",
      "|   |   |   |--- favourites_count <= 19.00\n",
      "|   |   |   |   |--- weights: [9.00, 1.00, 1.00, 1.00] class: 0\n",
      "|   |   |   |--- favourites_count >  19.00\n",
      "|   |   |   |   |--- weights: [8.00, 2.00, 7.00, 107.00] class: 3\n",
      "|   |--- followers_count >  635.00\n",
      "|   |   |--- created_at <= 1426461760.00\n",
      "|   |   |   |--- favourites_count <= 91420.50\n",
      "|   |   |   |   |--- weights: [19.00, 104.00, 2.00, 1.00] class: 1\n",
      "|   |   |   |--- favourites_count >  91420.50\n",
      "|   |   |   |   |--- weights: [8.00, 1.00, 2.00, 1.00] class: 0\n",
      "|   |   |--- created_at >  1426461760.00\n",
      "|   |   |   |--- favourites_count <= 107708.00\n",
      "|   |   |   |   |--- weights: [43.00, 0.00, 0.00, 0.00] class: 0\n",
      "|   |   |   |--- favourites_count >  107708.00\n",
      "|   |   |   |   |--- weights: [0.00, 2.00, 0.00, 0.00] class: 1\n",
      "|--- lang_it >  0.50\n",
      "|   |--- created_at <= 1277610048.00\n",
      "|   |   |--- followers_count <= 256.50\n",
      "|   |   |   |--- weights: [0.00, 0.00, 0.00, 2.00] class: 3\n",
      "|   |   |--- followers_count >  256.50\n",
      "|   |   |   |--- weights: [1.00, 0.00, 0.00, 0.00] class: 0\n",
      "|   |--- created_at >  1277610048.00\n",
      "|   |   |--- statuses_count <= 200.50\n",
      "|   |   |   |--- weights: [1.00, 0.00, 0.00, 0.00] class: 0\n",
      "|   |   |--- statuses_count >  200.50\n",
      "|   |   |   |--- friends_count <= 0.50\n",
      "|   |   |   |   |--- weights: [0.00, 0.00, 1.00, 1.00] class: 2\n",
      "|   |   |   |--- friends_count >  0.50\n",
      "|   |   |   |   |--- weights: [0.00, 0.00, 98.00, 1.00] class: 2\n",
      "\n",
      "Accuracy: 0.8482142857142857\n",
      "Precision -1\n",
      "Recall: -1\n",
      "F1: -1\n",
      "Finished train_test_fit_and_score_clf at 1665195821.4574833. Execution time: 0.015560150146484375 s\n"
     ]
    },
    {
     "data": {
      "text/plain": [
       "(0.8482142857142857, -1, -1, -1)"
      ]
     },
     "execution_count": 1550,
     "metadata": {},
     "output_type": "execute_result"
    }
   ],
   "source": [
    "other_bots, other_bots_labels = load_other_bots(intradataset=True, balance=True)\n",
    "train_test_fit_and_score(other_bots, other_bots_labels, depth=4, silent=False, prec_rec=False)\n"
   ]
  },
  {
   "cell_type": "markdown",
   "id": "3f8e8bab",
   "metadata": {},
   "source": [
    "# Botometer combined datasets: train on one, test on same one"
   ]
  },
  {
   "cell_type": "code",
   "execution_count": 1626,
   "id": "7ca7e341",
   "metadata": {},
   "outputs": [],
   "source": [
    "importlib.reload(sys.modules['fit_and_score'])\n",
    "from fit_and_score import fit, score, fit_and_score, kfold_cv, analyze_dataset, train_test_fit_and_score, train_test_fit_and_score_clf, nonnumeric, mdi_feature_importance, permutation_feature_importance, plot_metrics, calculate_accuracy\n",
    "\n",
    "importlib.reload(sys.modules['train_on_one_test_on_another'])\n",
    "from train_on_one_test_on_another import train_test_botometer_combined"
   ]
  },
  {
   "cell_type": "code",
   "execution_count": 1627,
   "id": "8f762eda",
   "metadata": {
    "jupyter": {
     "outputs_hidden": true
    }
   },
   "outputs": [
    {
     "name": "stdout",
     "output_type": "stream",
     "text": [
      "simple_df\n",
      "Starting train_test_fit_and_score_clf at 10/07/22 23:54:29\n",
      "|--- friends_count <= 245.50\n",
      "|   |--- weights: [11256.00, 3473.00] class: 0\n",
      "|--- friends_count >  245.50\n",
      "|   |--- weights: [6506.00, 14321.00] class: 1\n",
      "\n",
      "Accuracy: 0.7237345331833521\n",
      "Precision 0.6887315859957911\n",
      "Recall: 0.8128245653646421\n",
      "F1: 0.7456503728251864\n",
      "Finished train_test_fit_and_score_clf at 1665201269.963542. Execution time: 0.14446640014648438 s\n",
      "Starting train_test_fit_and_score_clf at 10/07/22 23:54:29\n",
      "|--- friends_count <= 245.50\n",
      "|   |--- statuses_count <= 76.50\n",
      "|   |   |--- weights: [1423.00, 2405.00] class: 1\n",
      "|   |--- statuses_count >  76.50\n",
      "|   |   |--- weights: [9884.00, 1046.00] class: 0\n",
      "|--- friends_count >  245.50\n",
      "|   |--- statuses_count <= 2366.50\n",
      "|   |   |--- weights: [1456.00, 12593.00] class: 1\n",
      "|   |--- statuses_count >  2366.50\n",
      "|   |   |--- weights: [5030.00, 1719.00] class: 0\n",
      "\n",
      "Accuracy: 0.8382452193475816\n",
      "Precision 0.8356286095068858\n",
      "Recall: 0.8434977578475337\n",
      "F1: 0.8395447444766794\n",
      "Finished train_test_fit_and_score_clf at 1665201270.1429358. Execution time: 0.17935395240783691 s\n",
      "Starting train_test_fit_and_score_clf at 10/07/22 23:54:30\n",
      "|--- friends_count <= 245.50\n",
      "|   |--- statuses_count <= 100.50\n",
      "|   |   |--- friends_count <= 66.50\n",
      "|   |   |   |--- weights: [1464.00, 818.00] class: 0\n",
      "|   |   |--- friends_count >  66.50\n",
      "|   |   |   |--- weights: [217.00, 1737.00] class: 1\n",
      "|   |--- statuses_count >  100.50\n",
      "|   |   |--- friends_count <= 92.50\n",
      "|   |   |   |--- weights: [5793.00, 143.00] class: 0\n",
      "|   |   |--- friends_count >  92.50\n",
      "|   |   |   |--- weights: [3765.00, 762.00] class: 0\n",
      "|--- friends_count >  245.50\n",
      "|   |--- statuses_count <= 2368.50\n",
      "|   |   |--- statuses_count <= 574.50\n",
      "|   |   |   |--- weights: [405.00, 9922.00] class: 1\n",
      "|   |   |--- statuses_count >  574.50\n",
      "|   |   |   |--- weights: [1071.00, 2691.00] class: 1\n",
      "|   |--- statuses_count >  2368.50\n",
      "|   |   |--- friends_count <= 1560.50\n",
      "|   |   |   |--- weights: [3820.00, 351.00] class: 0\n",
      "|   |   |--- friends_count >  1560.50\n",
      "|   |   |   |--- weights: [1251.00, 1346.00] class: 1\n",
      "\n",
      "Accuracy: 0.8601799775028122\n",
      "Precision 0.8469520103761349\n",
      "Recall: 0.8798562766674152\n",
      "F1: 0.8630906487498624\n",
      "Finished train_test_fit_and_score_clf at 1665201270.2634678. Execution time: 0.12050056457519531 s\n",
      "Starting train_test_fit_and_score_clf at 10/07/22 23:54:30\n",
      "|--- friends_count <= 245.50\n",
      "|   |--- statuses_count <= 97.50\n",
      "|   |   |--- friends_count <= 59.50\n",
      "|   |   |   |--- statuses_count <= 7.50\n",
      "|   |   |   |   |--- weights: [304.00, 442.00] class: 1\n",
      "|   |   |   |--- statuses_count >  7.50\n",
      "|   |   |   |   |--- weights: [1131.00, 327.00] class: 0\n",
      "|   |   |--- friends_count >  59.50\n",
      "|   |   |   |--- statuses_count <= 19.50\n",
      "|   |   |   |   |--- weights: [40.00, 1104.00] class: 1\n",
      "|   |   |   |--- statuses_count >  19.50\n",
      "|   |   |   |   |--- weights: [210.00, 673.00] class: 1\n",
      "|   |--- statuses_count >  97.50\n",
      "|   |   |--- friends_count <= 85.50\n",
      "|   |   |   |--- statuses_count <= 180.50\n",
      "|   |   |   |   |--- weights: [804.00, 48.00] class: 0\n",
      "|   |   |   |--- statuses_count >  180.50\n",
      "|   |   |   |   |--- weights: [4677.00, 64.00] class: 0\n",
      "|   |   |--- friends_count >  85.50\n",
      "|   |   |   |--- statuses_count <= 323.50\n",
      "|   |   |   |   |--- weights: [332.00, 455.00] class: 1\n",
      "|   |   |   |--- statuses_count >  323.50\n",
      "|   |   |   |   |--- weights: [3828.00, 350.00] class: 0\n",
      "|--- friends_count >  245.50\n",
      "|   |--- statuses_count <= 2366.00\n",
      "|   |   |--- statuses_count <= 628.50\n",
      "|   |   |   |--- followers_count <= 71886.50\n",
      "|   |   |   |   |--- weights: [422.00, 10046.00] class: 1\n",
      "|   |   |   |--- followers_count >  71886.50\n",
      "|   |   |   |   |--- weights: [36.00, 2.00] class: 0\n",
      "|   |   |--- statuses_count >  628.50\n",
      "|   |   |   |--- friends_count <= 719.50\n",
      "|   |   |   |   |--- weights: [693.00, 429.00] class: 0\n",
      "|   |   |   |--- friends_count >  719.50\n",
      "|   |   |   |   |--- weights: [354.00, 2084.00] class: 1\n",
      "|   |--- statuses_count >  2366.00\n",
      "|   |   |--- friends_count <= 1566.50\n",
      "|   |   |   |--- statuses_count <= 3889.00\n",
      "|   |   |   |   |--- weights: [556.00, 187.00] class: 0\n",
      "|   |   |   |--- statuses_count >  3889.00\n",
      "|   |   |   |   |--- weights: [3257.00, 184.00] class: 0\n",
      "|   |   |--- friends_count >  1566.50\n",
      "|   |   |   |--- followers_count <= 65359.50\n",
      "|   |   |   |   |--- weights: [543.00, 1306.00] class: 1\n",
      "|   |   |   |--- followers_count >  65359.50\n",
      "|   |   |   |   |--- weights: [657.00, 11.00] class: 0\n",
      "\n",
      "Accuracy: 0.8970753655793026\n",
      "Precision 0.886168384879725\n",
      "Recall: 0.9146530702726668\n",
      "F1: 0.9001854478018981\n",
      "Finished train_test_fit_and_score_clf at 1665201270.4567752. Execution time: 0.19326496124267578 s\n",
      "spammers_df\n",
      "Starting train_test_fit_and_score_clf at 10/07/22 23:54:30\n",
      "|--- statuses_count <= 157.50\n",
      "|   |--- weights: [2879.00, 17457.00] class: 1\n",
      "|--- statuses_count >  157.50\n",
      "|   |--- weights: [17543.00, 2801.00] class: 0\n",
      "\n",
      "Accuracy: 0.8643067846607669\n",
      "Precision 0.869031377899045\n",
      "Recall: 0.8629765821559899\n",
      "F1: 0.865993396776073\n",
      "Finished train_test_fit_and_score_clf at 1665201270.6858304. Execution time: 0.1782529354095459 s\n",
      "Starting train_test_fit_and_score_clf at 10/07/22 23:54:30\n",
      "|--- statuses_count <= 156.50\n",
      "|   |--- friends_count <= 0.50\n",
      "|   |   |--- weights: [362.00, 10677.00] class: 1\n",
      "|   |--- friends_count >  0.50\n",
      "|   |   |--- weights: [2499.00, 6816.00] class: 1\n",
      "|--- statuses_count >  156.50\n",
      "|   |--- friends_count <= 0.50\n",
      "|   |   |--- weights: [1130.00, 1083.00] class: 0\n",
      "|   |--- friends_count >  0.50\n",
      "|   |   |--- weights: [16357.00, 1756.00] class: 0\n",
      "\n",
      "Accuracy: 0.8664700098328417\n",
      "Precision 0.8675457587089156\n",
      "Recall: 0.8655016689573924\n",
      "F1: 0.8665225083546293\n",
      "Finished train_test_fit_and_score_clf at 1665201270.83383. Execution time: 0.14795613288879395 s\n",
      "Starting train_test_fit_and_score_clf at 10/07/22 23:54:30\n",
      "|--- statuses_count <= 156.50\n",
      "|   |--- friends_count <= 0.50\n",
      "|   |   |--- followers_count <= 1.50\n",
      "|   |   |   |--- weights: [197.00, 578.00] class: 1\n",
      "|   |   |--- followers_count >  1.50\n",
      "|   |   |   |--- weights: [159.00, 10030.00] class: 1\n",
      "|   |--- friends_count >  0.50\n",
      "|   |   |--- friends_count <= 31.50\n",
      "|   |   |   |--- weights: [1417.00, 622.00] class: 0\n",
      "|   |   |--- friends_count >  31.50\n",
      "|   |   |   |--- weights: [1090.00, 6294.00] class: 1\n",
      "|--- statuses_count >  156.50\n",
      "|   |--- friends_count <= 0.50\n",
      "|   |   |--- followers_count <= 3.50\n",
      "|   |   |   |--- weights: [405.00, 21.00] class: 0\n",
      "|   |   |--- followers_count >  3.50\n",
      "|   |   |   |--- weights: [685.00, 1031.00] class: 1\n",
      "|   |--- friends_count >  0.50\n",
      "|   |   |--- friends_count <= 490.50\n",
      "|   |   |   |--- weights: [11691.00, 672.00] class: 0\n",
      "|   |   |--- friends_count >  490.50\n",
      "|   |   |   |--- weights: [4668.00, 1120.00] class: 0\n",
      "\n",
      "Accuracy: 0.8893805309734514\n",
      "Precision 0.8894611727416799\n",
      "Recall: 0.8878781886493968\n",
      "F1: 0.8886689757545769\n",
      "Finished train_test_fit_and_score_clf at 1665201270.9582877. Execution time: 0.12442970275878906 s\n",
      "Starting train_test_fit_and_score_clf at 10/07/22 23:54:30\n",
      "|--- statuses_count <= 157.50\n",
      "|   |--- friends_count <= 0.50\n",
      "|   |   |--- followers_count <= 1.50\n",
      "|   |   |   |--- statuses_count <= 89.00\n",
      "|   |   |   |   |--- weights: [71.00, 483.00] class: 1\n",
      "|   |   |   |--- statuses_count >  89.00\n",
      "|   |   |   |   |--- weights: [128.00, 104.00] class: 0\n",
      "|   |   |--- followers_count >  1.50\n",
      "|   |   |   |--- followers_count <= 1551.00\n",
      "|   |   |   |   |--- weights: [145.00, 10061.00] class: 1\n",
      "|   |   |   |--- followers_count >  1551.00\n",
      "|   |   |   |   |--- weights: [9.00, 0.00] class: 0\n",
      "|   |--- friends_count >  0.50\n",
      "|   |   |--- friends_count <= 31.50\n",
      "|   |   |   |--- statuses_count <= 73.50\n",
      "|   |   |   |   |--- weights: [981.00, 584.00] class: 0\n",
      "|   |   |   |--- statuses_count >  73.50\n",
      "|   |   |   |   |--- weights: [426.00, 45.00] class: 0\n",
      "|   |   |--- friends_count >  31.50\n",
      "|   |   |   |--- statuses_count <= 85.50\n",
      "|   |   |   |   |--- weights: [624.00, 5438.00] class: 1\n",
      "|   |   |   |--- statuses_count >  85.50\n",
      "|   |   |   |   |--- weights: [487.00, 810.00] class: 1\n",
      "|--- statuses_count >  157.50\n",
      "|   |--- friends_count <= 0.50\n",
      "|   |   |--- followers_count <= 3.50\n",
      "|   |   |   |--- followers_count <= 2.50\n",
      "|   |   |   |   |--- weights: [393.00, 11.00] class: 0\n",
      "|   |   |   |--- followers_count >  2.50\n",
      "|   |   |   |   |--- weights: [24.00, 7.00] class: 0\n",
      "|   |   |--- followers_count >  3.50\n",
      "|   |   |   |--- statuses_count <= 1393.50\n",
      "|   |   |   |   |--- weights: [322.00, 820.00] class: 1\n",
      "|   |   |   |--- statuses_count >  1393.50\n",
      "|   |   |   |   |--- weights: [390.00, 203.00] class: 0\n",
      "|   |--- friends_count >  0.50\n",
      "|   |   |--- friends_count <= 491.50\n",
      "|   |   |   |--- statuses_count <= 294.50\n",
      "|   |   |   |   |--- weights: [1019.00, 162.00] class: 0\n",
      "|   |   |   |--- statuses_count >  294.50\n",
      "|   |   |   |   |--- weights: [10735.00, 501.00] class: 0\n",
      "|   |   |--- friends_count >  491.50\n",
      "|   |   |   |--- statuses_count <= 553.50\n",
      "|   |   |   |   |--- weights: [169.00, 521.00] class: 1\n",
      "|   |   |   |--- statuses_count >  553.50\n",
      "|   |   |   |   |--- weights: [4446.00, 561.00] class: 0\n",
      "\n"
     ]
    },
    {
     "name": "stdout",
     "output_type": "stream",
     "text": [
      "Accuracy: 0.9018682399213372\n",
      "Precision 0.9114354258296681\n",
      "Recall: 0.8914743840438013\n",
      "F1: 0.9013444049031238\n",
      "Finished train_test_fit_and_score_clf at 1665201271.152526. Execution time: 0.19419622421264648 s\n",
      "fake_followers_df\n",
      "Starting train_test_fit_and_score_clf at 10/07/22 23:54:31\n",
      "|--- statuses_count <= 117.00\n",
      "|   |--- weights: [185.00, 1222.00] class: 1\n",
      "|--- statuses_count >  117.00\n",
      "|   |--- weights: [1545.00, 526.00] class: 0\n",
      "\n",
      "Accuracy: 0.7724137931034483\n",
      "Precision 0.8584905660377359\n",
      "Recall: 0.6408450704225352\n",
      "F1: 0.7338709677419356\n",
      "Finished train_test_fit_and_score_clf at 1665201271.1854162. Execution time: 0.02360081672668457 s\n",
      "Starting train_test_fit_and_score_clf at 10/07/22 23:54:31\n",
      "|--- statuses_count <= 117.00\n",
      "|   |--- friends_count <= 116.50\n",
      "|   |   |--- weights: [161.00, 43.00] class: 0\n",
      "|   |--- friends_count >  116.50\n",
      "|   |   |--- weights: [23.00, 1141.00] class: 1\n",
      "|--- statuses_count >  117.00\n",
      "|   |--- friends_count <= 864.50\n",
      "|   |   |--- weights: [1318.00, 134.00] class: 0\n",
      "|   |--- friends_count >  864.50\n",
      "|   |   |--- weights: [237.00, 421.00] class: 1\n",
      "\n",
      "Accuracy: 0.8735632183908046\n",
      "Precision 0.8587196467991169\n",
      "Recall: 0.8942528735632184\n",
      "F1: 0.8761261261261262\n",
      "Finished train_test_fit_and_score_clf at 1665201271.2102597. Execution time: 0.024806976318359375 s\n",
      "Starting train_test_fit_and_score_clf at 10/07/22 23:54:31\n",
      "|--- statuses_count <= 131.50\n",
      "|   |--- friends_count <= 159.50\n",
      "|   |   |--- statuses_count <= 4.50\n",
      "|   |   |   |--- weights: [15.00, 38.00] class: 1\n",
      "|   |   |--- statuses_count >  4.50\n",
      "|   |   |   |--- weights: [155.00, 15.00] class: 0\n",
      "|   |--- friends_count >  159.50\n",
      "|   |   |--- followers_count <= 61.00\n",
      "|   |   |   |--- weights: [7.00, 1098.00] class: 1\n",
      "|   |   |--- followers_count >  61.00\n",
      "|   |   |   |--- weights: [18.00, 53.00] class: 1\n",
      "|--- statuses_count >  131.50\n",
      "|   |--- friends_count <= 864.00\n",
      "|   |   |--- friends_count <= 498.50\n",
      "|   |   |   |--- weights: [1145.00, 73.00] class: 0\n",
      "|   |   |--- friends_count >  498.50\n",
      "|   |   |   |--- weights: [143.00, 60.00] class: 0\n",
      "|   |--- friends_count >  864.00\n",
      "|   |   |--- followers_count <= 188.00\n",
      "|   |   |   |--- weights: [3.00, 114.00] class: 1\n",
      "|   |   |--- followers_count >  188.00\n",
      "|   |   |   |--- weights: [237.00, 304.00] class: 1\n",
      "\n",
      "Accuracy: 0.8931034482758621\n",
      "Precision 0.8574561403508771\n",
      "Recall: 0.9331742243436754\n",
      "F1: 0.8937142857142857\n",
      "Finished train_test_fit_and_score_clf at 1665201271.235058. Execution time: 0.02476024627685547 s\n",
      "Starting train_test_fit_and_score_clf at 10/07/22 23:54:31\n",
      "|--- statuses_count <= 115.50\n",
      "|   |--- friends_count <= 159.50\n",
      "|   |   |--- statuses_count <= 4.50\n",
      "|   |   |   |--- friends_count <= 10.00\n",
      "|   |   |   |   |--- weights: [11.00, 1.00] class: 0\n",
      "|   |   |   |--- friends_count >  10.00\n",
      "|   |   |   |   |--- weights: [8.00, 42.00] class: 1\n",
      "|   |   |--- statuses_count >  4.50\n",
      "|   |   |   |--- followers_count <= 0.50\n",
      "|   |   |   |   |--- weights: [5.00, 4.00] class: 0\n",
      "|   |   |   |--- followers_count >  0.50\n",
      "|   |   |   |   |--- weights: [148.00, 9.00] class: 0\n",
      "|   |--- friends_count >  159.50\n",
      "|   |   |--- followers_count <= 155970.50\n",
      "|   |   |   |--- followers_count <= 61.00\n",
      "|   |   |   |   |--- weights: [2.00, 1071.00] class: 1\n",
      "|   |   |   |--- followers_count >  61.00\n",
      "|   |   |   |   |--- weights: [9.00, 54.00] class: 1\n",
      "|   |   |--- followers_count >  155970.50\n",
      "|   |   |   |--- weights: [3.00, 0.00] class: 0\n",
      "|--- statuses_count >  115.50\n",
      "|   |--- friends_count <= 796.00\n",
      "|   |   |--- friends_count <= 514.50\n",
      "|   |   |   |--- friends_count <= 0.50\n",
      "|   |   |   |   |--- weights: [112.00, 48.00] class: 0\n",
      "|   |   |   |--- friends_count >  0.50\n",
      "|   |   |   |   |--- weights: [1081.00, 35.00] class: 0\n",
      "|   |   |--- friends_count >  514.50\n",
      "|   |   |   |--- followers_count <= 76.00\n",
      "|   |   |   |   |--- weights: [0.00, 37.00] class: 1\n",
      "|   |   |   |--- followers_count >  76.00\n",
      "|   |   |   |   |--- weights: [113.00, 15.00] class: 0\n",
      "|   |--- friends_count >  796.00\n",
      "|   |   |--- followers_count <= 184.50\n",
      "|   |   |   |--- statuses_count <= 2159.50\n",
      "|   |   |   |   |--- weights: [1.00, 115.00] class: 1\n",
      "|   |   |   |--- statuses_count >  2159.50\n",
      "|   |   |   |   |--- weights: [3.00, 8.00] class: 1\n",
      "|   |   |--- followers_count >  184.50\n",
      "|   |   |   |--- friends_count <= 3913.00\n",
      "|   |   |   |   |--- weights: [201.00, 69.00] class: 0\n",
      "|   |   |   |--- friends_count >  3913.00\n",
      "|   |   |   |   |--- weights: [54.00, 219.00] class: 1\n",
      "\n",
      "Accuracy: 0.9206896551724137\n",
      "Precision 0.9354838709677419\n",
      "Recall: 0.9082774049217002\n",
      "F1: 0.9216799091940975\n",
      "Finished train_test_fit_and_score_clf at 1665201271.261889. Execution time: 0.02679896354675293 s\n",
      "self_declared_df\n",
      "Starting train_test_fit_and_score_clf at 10/07/22 23:54:31\n",
      "|--- friends_count <= 13.50\n",
      "|   |--- weights: [77.00, 459.00] class: 1\n",
      "|--- friends_count >  13.50\n",
      "|   |--- weights: [490.00, 90.00] class: 0\n",
      "\n",
      "Accuracy: 0.8321428571428572\n",
      "Precision 0.8642857142857143\n",
      "Recall: 0.8120805369127517\n",
      "F1: 0.8373702422145329\n",
      "Finished train_test_fit_and_score_clf at 1665201271.2845335. Execution time: 0.017646074295043945 s\n",
      "Starting train_test_fit_and_score_clf at 10/07/22 23:54:31\n",
      "|--- friends_count <= 12.50\n",
      "|   |--- statuses_count <= 330.50\n",
      "|   |   |--- weights: [46.00, 14.00] class: 0\n",
      "|   |--- statuses_count >  330.50\n",
      "|   |   |--- weights: [31.00, 438.00] class: 1\n",
      "|--- friends_count >  12.50\n",
      "|   |--- friends_count <= 52.50\n",
      "|   |   |--- weights: [85.00, 47.00] class: 0\n",
      "|   |--- friends_count >  52.50\n",
      "|   |   |--- weights: [405.00, 50.00] class: 0\n",
      "\n",
      "Accuracy: 0.8607142857142858\n",
      "Precision 0.9508196721311475\n",
      "Recall: 0.7785234899328859\n",
      "F1: 0.8560885608856088\n",
      "Finished train_test_fit_and_score_clf at 1665201271.3032663. Execution time: 0.018698692321777344 s\n",
      "Starting train_test_fit_and_score_clf at 10/07/22 23:54:31\n",
      "|--- friends_count <= 13.50\n",
      "|   |--- statuses_count <= 330.50\n",
      "|   |   |--- followers_count <= 2.50\n",
      "|   |   |   |--- weights: [29.00, 0.00] class: 0\n",
      "|   |   |--- followers_count >  2.50\n",
      "|   |   |   |--- weights: [16.00, 16.00] class: 0\n",
      "|   |--- statuses_count >  330.50\n",
      "|   |   |--- followers_count <= 408140.00\n",
      "|   |   |   |--- weights: [29.00, 449.00] class: 1\n",
      "|   |   |--- followers_count >  408140.00\n",
      "|   |   |   |--- weights: [3.00, 1.00] class: 0\n",
      "|--- friends_count >  13.50\n",
      "|   |--- friends_count <= 63.50\n",
      "|   |   |--- statuses_count <= 1477.00\n",
      "|   |   |   |--- weights: [86.00, 11.00] class: 0\n",
      "|   |   |--- statuses_count >  1477.00\n",
      "|   |   |   |--- weights: [20.00, 45.00] class: 1\n",
      "|   |--- friends_count >  63.50\n",
      "|   |   |--- followers_count <= 20.00\n",
      "|   |   |   |--- weights: [4.00, 4.00] class: 0\n",
      "|   |   |--- followers_count >  20.00\n",
      "|   |   |   |--- weights: [364.00, 39.00] class: 0\n",
      "\n",
      "Accuracy: 0.9035714285714286\n",
      "Precision 0.9344262295081968\n",
      "Recall: 0.8571428571428571\n",
      "F1: 0.8941176470588236\n",
      "Finished train_test_fit_and_score_clf at 1665201271.321899. Execution time: 0.018422365188598633 s\n",
      "Starting train_test_fit_and_score_clf at 10/07/22 23:54:31\n",
      "|--- friends_count <= 13.50\n",
      "|   |--- statuses_count <= 330.50\n",
      "|   |   |--- followers_count <= 3.00\n",
      "|   |   |   |--- friends_count <= 1.50\n",
      "|   |   |   |   |--- weights: [24.00, 0.00] class: 0\n",
      "|   |   |   |--- friends_count >  1.50\n",
      "|   |   |   |   |--- weights: [5.00, 1.00] class: 0\n",
      "|   |   |--- followers_count >  3.00\n",
      "|   |   |   |--- friends_count <= 3.50\n",
      "|   |   |   |   |--- weights: [8.00, 14.00] class: 1\n",
      "|   |   |   |--- friends_count >  3.50\n",
      "|   |   |   |   |--- weights: [9.00, 2.00] class: 0\n",
      "|   |--- statuses_count >  330.50\n",
      "|   |   |--- followers_count <= 419450.00\n",
      "|   |   |   |--- followers_count <= 1.50\n",
      "|   |   |   |   |--- weights: [3.00, 3.00] class: 0\n",
      "|   |   |   |--- followers_count >  1.50\n",
      "|   |   |   |   |--- weights: [23.00, 453.00] class: 1\n",
      "|   |   |--- followers_count >  419450.00\n",
      "|   |   |   |--- statuses_count <= 171731.00\n",
      "|   |   |   |   |--- weights: [4.00, 0.00] class: 0\n",
      "|   |   |   |--- statuses_count >  171731.00\n",
      "|   |   |   |   |--- weights: [0.00, 1.00] class: 1\n",
      "|--- friends_count >  13.50\n",
      "|   |--- friends_count <= 50.50\n",
      "|   |   |--- statuses_count <= 1466.00\n",
      "|   |   |   |--- statuses_count <= 652.50\n",
      "|   |   |   |   |--- weights: [61.00, 1.00] class: 0\n",
      "|   |   |   |--- statuses_count >  652.50\n",
      "|   |   |   |   |--- weights: [17.00, 7.00] class: 0\n",
      "|   |   |--- statuses_count >  1466.00\n",
      "|   |   |   |--- followers_count <= 426562.50\n",
      "|   |   |   |   |--- weights: [5.00, 43.00] class: 1\n",
      "|   |   |   |--- followers_count >  426562.50\n",
      "|   |   |   |   |--- weights: [4.00, 0.00] class: 0\n",
      "|   |--- friends_count >  50.50\n",
      "|   |   |--- followers_count <= 20.00\n",
      "|   |   |   |--- statuses_count <= 296.00\n",
      "|   |   |   |   |--- weights: [4.00, 1.00] class: 0\n",
      "|   |   |   |--- statuses_count >  296.00\n",
      "|   |   |   |   |--- weights: [0.00, 4.00] class: 1\n",
      "|   |   |--- followers_count >  20.00\n",
      "|   |   |   |--- followers_count <= 30090.00\n",
      "|   |   |   |   |--- weights: [285.00, 46.00] class: 0\n",
      "|   |   |   |--- followers_count >  30090.00\n",
      "|   |   |   |   |--- weights: [87.00, 1.00] class: 0\n",
      "\n",
      "Accuracy: 0.8964285714285715\n",
      "Precision 0.8650793650793651\n",
      "Recall: 0.9008264462809917\n",
      "F1: 0.8825910931174089\n",
      "Finished train_test_fit_and_score_clf at 1665201271.341928. Execution time: 0.019477367401123047 s\n",
      "political_bots_df\n",
      "Starting train_test_fit_and_score_clf at 10/07/22 23:54:31\n"
     ]
    },
    {
     "name": "stdout",
     "output_type": "stream",
     "text": [
      "|--- friends_count <= 918.50\n",
      "|   |--- weights: [43.00, 0.00] class: 0\n",
      "|--- friends_count >  918.50\n",
      "|   |--- weights: [6.00, 50.00] class: 1\n",
      "\n",
      "Accuracy: 0.92\n",
      "Precision 0.8571428571428571\n",
      "Recall: 1.0\n",
      "F1: 0.923076923076923\n",
      "Finished train_test_fit_and_score_clf at 1665201271.3615913. Execution time: 0.016101360321044922 s\n",
      "Starting train_test_fit_and_score_clf at 10/07/22 23:54:31\n",
      "|--- friends_count <= 918.50\n",
      "|   |--- weights: [43.00, 0.00] class: 0\n",
      "|--- friends_count >  918.50\n",
      "|   |--- statuses_count <= 15290.00\n",
      "|   |   |--- weights: [2.00, 50.00] class: 1\n",
      "|   |--- statuses_count >  15290.00\n",
      "|   |   |--- weights: [4.00, 0.00] class: 0\n",
      "\n",
      "Accuracy: 0.96\n",
      "Precision 0.9230769230769231\n",
      "Recall: 1.0\n",
      "F1: 0.9600000000000001\n",
      "Finished train_test_fit_and_score_clf at 1665201271.3780618. Execution time: 0.016449689865112305 s\n",
      "Starting train_test_fit_and_score_clf at 10/07/22 23:54:31\n",
      "|--- friends_count <= 918.50\n",
      "|   |--- weights: [46.00, 0.00] class: 0\n",
      "|--- friends_count >  918.50\n",
      "|   |--- statuses_count <= 29647.00\n",
      "|   |   |--- weights: [0.00, 49.00] class: 1\n",
      "|   |--- statuses_count >  29647.00\n",
      "|   |   |--- weights: [4.00, 0.00] class: 0\n",
      "\n",
      "Accuracy: 0.84\n",
      "Precision 0.7647058823529411\n",
      "Recall: 1.0\n",
      "F1: 0.8666666666666666\n",
      "Finished train_test_fit_and_score_clf at 1665201271.3940017. Execution time: 0.01591181755065918 s\n",
      "Starting train_test_fit_and_score_clf at 10/07/22 23:54:31\n",
      "|--- friends_count <= 918.50\n",
      "|   |--- weights: [41.00, 0.00] class: 0\n",
      "|--- friends_count >  918.50\n",
      "|   |--- statuses_count <= 17054.00\n",
      "|   |   |--- followers_count <= 831.00\n",
      "|   |   |   |--- weights: [2.00, 0.00] class: 0\n",
      "|   |   |--- followers_count >  831.00\n",
      "|   |   |   |--- weights: [0.00, 51.00] class: 1\n",
      "|   |--- statuses_count >  17054.00\n",
      "|   |   |--- weights: [5.00, 0.00] class: 0\n",
      "\n",
      "Accuracy: 0.96\n",
      "Precision 0.9166666666666666\n",
      "Recall: 1.0\n",
      "F1: 0.9565217391304348\n",
      "Finished train_test_fit_and_score_clf at 1665201271.4096246. Execution time: 0.015594244003295898 s\n",
      "other_bots\n",
      "Starting train_test_fit_and_score_clf at 10/07/22 23:54:31\n",
      "|--- statuses_count <= 32098.50\n",
      "|   |--- weights: [409.00, 313.00] class: 0\n",
      "|--- statuses_count >  32098.50\n",
      "|   |--- weights: [29.00, 138.00] class: 1\n",
      "\n",
      "Accuracy: 0.6905829596412556\n",
      "Precision 0.8913043478260869\n",
      "Recall: 0.3904761904761905\n",
      "F1: 0.543046357615894\n",
      "Finished train_test_fit_and_score_clf at 1665201271.4308245. Execution time: 0.01687026023864746 s\n",
      "Starting train_test_fit_and_score_clf at 10/07/22 23:54:31\n",
      "|--- statuses_count <= 32094.00\n",
      "|   |--- followers_count <= 206952.50\n",
      "|   |   |--- weights: [352.00, 291.00] class: 0\n",
      "|   |--- followers_count >  206952.50\n",
      "|   |   |--- weights: [68.00, 4.00] class: 0\n",
      "|--- statuses_count >  32094.00\n",
      "|   |--- statuses_count <= 119597.00\n",
      "|   |   |--- weights: [24.00, 95.00] class: 1\n",
      "|   |--- statuses_count >  119597.00\n",
      "|   |   |--- weights: [1.00, 54.00] class: 1\n",
      "\n",
      "Accuracy: 0.5964125560538116\n",
      "Precision 0.775\n",
      "Recall: 0.2767857142857143\n",
      "F1: 0.40789473684210525\n",
      "Finished train_test_fit_and_score_clf at 1665201271.4491057. Execution time: 0.018254756927490234 s\n",
      "Starting train_test_fit_and_score_clf at 10/07/22 23:54:31\n",
      "|--- statuses_count <= 33554.00\n",
      "|   |--- followers_count <= 206952.50\n",
      "|   |   |--- statuses_count <= 1880.00\n",
      "|   |   |   |--- weights: [219.00, 96.00] class: 0\n",
      "|   |   |--- statuses_count >  1880.00\n",
      "|   |   |   |--- weights: [142.00, 191.00] class: 1\n",
      "|   |--- followers_count >  206952.50\n",
      "|   |   |--- friends_count <= 425878.00\n",
      "|   |   |   |--- weights: [68.00, 2.00] class: 0\n",
      "|   |   |--- friends_count >  425878.00\n",
      "|   |   |   |--- weights: [0.00, 1.00] class: 1\n",
      "|--- statuses_count >  33554.00\n",
      "|   |--- followers_count <= 240246.00\n",
      "|   |   |--- followers_count <= 1906.00\n",
      "|   |   |   |--- weights: [13.00, 38.00] class: 1\n",
      "|   |   |--- followers_count >  1906.00\n",
      "|   |   |   |--- weights: [5.00, 82.00] class: 1\n",
      "|   |--- followers_count >  240246.00\n",
      "|   |   |--- followers_count <= 333582.00\n",
      "|   |   |   |--- weights: [5.00, 1.00] class: 0\n",
      "|   |   |--- followers_count >  333582.00\n",
      "|   |   |   |--- weights: [6.00, 20.00] class: 1\n",
      "\n",
      "Accuracy: 0.695067264573991\n",
      "Precision 0.7050359712230215\n",
      "Recall: 0.784\n",
      "F1: 0.7424242424242425\n",
      "Finished train_test_fit_and_score_clf at 1665201271.4668381. Execution time: 0.017701148986816406 s\n",
      "Starting train_test_fit_and_score_clf at 10/07/22 23:54:31\n",
      "|--- statuses_count <= 34845.00\n",
      "|   |--- followers_count <= 213301.00\n",
      "|   |   |--- statuses_count <= 2796.50\n",
      "|   |   |   |--- followers_count <= 19.50\n",
      "|   |   |   |   |--- weights: [63.00, 73.00] class: 1\n",
      "|   |   |   |--- followers_count >  19.50\n",
      "|   |   |   |   |--- weights: [186.00, 55.00] class: 0\n",
      "|   |   |--- statuses_count >  2796.50\n",
      "|   |   |   |--- followers_count <= 100.50\n",
      "|   |   |   |   |--- weights: [5.00, 54.00] class: 1\n",
      "|   |   |   |--- followers_count >  100.50\n",
      "|   |   |   |   |--- weights: [102.00, 112.00] class: 1\n",
      "|   |--- followers_count >  213301.00\n",
      "|   |   |--- friends_count <= 425878.00\n",
      "|   |   |   |--- statuses_count <= 8793.00\n",
      "|   |   |   |   |--- weights: [38.00, 0.00] class: 0\n",
      "|   |   |   |--- statuses_count >  8793.00\n",
      "|   |   |   |   |--- weights: [28.00, 3.00] class: 0\n",
      "|   |   |--- friends_count >  425878.00\n",
      "|   |   |   |--- weights: [0.00, 1.00] class: 1\n",
      "|--- statuses_count >  34845.00\n",
      "|   |--- followers_count <= 264698.00\n",
      "|   |   |--- statuses_count <= 51267.50\n",
      "|   |   |   |--- friends_count <= 1021.50\n",
      "|   |   |   |   |--- weights: [6.00, 7.00] class: 1\n",
      "|   |   |   |--- friends_count >  1021.50\n",
      "|   |   |   |   |--- weights: [1.00, 15.00] class: 1\n",
      "|   |   |--- statuses_count >  51267.50\n",
      "|   |   |   |--- followers_count <= 29967.50\n",
      "|   |   |   |   |--- weights: [6.00, 52.00] class: 1\n",
      "|   |   |   |--- followers_count >  29967.50\n",
      "|   |   |   |   |--- weights: [1.00, 48.00] class: 1\n",
      "|   |--- followers_count >  264698.00\n",
      "|   |   |--- followers_count <= 311637.00\n",
      "|   |   |   |--- weights: [4.00, 0.00] class: 0\n",
      "|   |   |--- followers_count >  311637.00\n",
      "|   |   |   |--- statuses_count <= 144504.00\n",
      "|   |   |   |   |--- weights: [8.00, 13.00] class: 1\n",
      "|   |   |   |--- statuses_count >  144504.00\n",
      "|   |   |   |   |--- weights: [0.00, 8.00] class: 1\n",
      "\n",
      "Accuracy: 0.6547085201793722\n",
      "Precision 0.625\n",
      "Recall: 0.8260869565217391\n",
      "F1: 0.7116104868913856\n",
      "Finished train_test_fit_and_score_clf at 1665201271.4857829. Execution time: 0.018915653228759766 s\n"
     ]
    }
   ],
   "source": [
    "botometer_datasets = [simple_df, spammers_df, fake_followers_df, self_declared_df, political_bots_df, other_bots]\n",
    "\n",
    "rows = []\n",
    "for j, dataset in enumerate(botometer_datasets[0:]):\n",
    "    print(get_dataset_name(dataset))\n",
    "    rows.append(train_test_botometer_combined(dataset, human_df, max_depth=4, silent=False))\n",
    "botometer_leave_one_out_scores = pd.DataFrame(rows)"
   ]
  },
  {
   "cell_type": "markdown",
   "id": "725a5aca",
   "metadata": {},
   "source": [
    "# Botometer combined datasets: train on one, test on another"
   ]
  },
  {
   "cell_type": "code",
   "execution_count": 1628,
   "id": "ff87e15b",
   "metadata": {
    "jupyter": {
     "outputs_hidden": true
    }
   },
   "outputs": [
    {
     "name": "stderr",
     "output_type": "stream",
     "text": [
      "/home/jhays/.local/lib/python3.6/site-packages/sklearn/metrics/_classification.py:1248: UndefinedMetricWarning: Precision is ill-defined and being set to 0.0 due to no predicted samples. Use `zero_division` parameter to control this behavior.\n",
      "  _warn_prf(average, modifier, msg_start, len(result))\n",
      "/home/jhays/.local/lib/python3.6/site-packages/sklearn/metrics/_classification.py:1248: UndefinedMetricWarning: Precision is ill-defined and being set to 0.0 due to no predicted samples. Use `zero_division` parameter to control this behavior.\n",
      "  _warn_prf(average, modifier, msg_start, len(result))\n",
      "/home/jhays/.local/lib/python3.6/site-packages/sklearn/metrics/_classification.py:1248: UndefinedMetricWarning: Precision is ill-defined and being set to 0.0 due to no predicted samples. Use `zero_division` parameter to control this behavior.\n",
      "  _warn_prf(average, modifier, msg_start, len(result))\n",
      "/home/jhays/.local/lib/python3.6/site-packages/sklearn/metrics/_classification.py:1248: UndefinedMetricWarning: Precision is ill-defined and being set to 0.0 due to no predicted samples. Use `zero_division` parameter to control this behavior.\n",
      "  _warn_prf(average, modifier, msg_start, len(result))\n",
      "/home/jhays/.local/lib/python3.6/site-packages/sklearn/metrics/_classification.py:1248: UndefinedMetricWarning: Precision is ill-defined and being set to 0.0 due to no predicted samples. Use `zero_division` parameter to control this behavior.\n",
      "  _warn_prf(average, modifier, msg_start, len(result))\n",
      "/home/jhays/.local/lib/python3.6/site-packages/sklearn/metrics/_classification.py:1248: UndefinedMetricWarning: Precision is ill-defined and being set to 0.0 due to no predicted samples. Use `zero_division` parameter to control this behavior.\n",
      "  _warn_prf(average, modifier, msg_start, len(result))\n",
      "/home/jhays/.local/lib/python3.6/site-packages/sklearn/metrics/_classification.py:1248: UndefinedMetricWarning: Precision is ill-defined and being set to 0.0 due to no predicted samples. Use `zero_division` parameter to control this behavior.\n",
      "  _warn_prf(average, modifier, msg_start, len(result))\n"
     ]
    }
   ],
   "source": [
    "rows = []\n",
    "\n",
    "for bots1 in botometer_datasets:\n",
    "    for bots2 in botometer_datasets:\n",
    "        rows.append(train_on_one_test_on_another_botometer_combined(bots1, bots2, human_df, silent=True))\n",
    "        \n",
    "botometer_train_on_one_test_on_another_performance = pd.DataFrame(rows)   \n"
   ]
  },
  {
   "cell_type": "code",
   "execution_count": null,
   "id": "ed9f5605",
   "metadata": {},
   "outputs": [],
   "source": [
    "botometer_train_on_one_test_on_another_performance"
   ]
  },
  {
   "cell_type": "code",
   "execution_count": 1629,
   "id": "dd149a16",
   "metadata": {},
   "outputs": [
    {
     "data": {
      "image/png": "[encoded data removed]",
      "text/plain": [
       "<Figure size 360x360 with 1 Axes>"
      ]
     },
     "metadata": {
      "needs_background": "light"
     },
     "output_type": "display_data"
    }
   ],
   "source": [
    "depth = 3\n",
    "botometer_tootoa_a = heatmap_train_on_one_test_on_another(botometer_train_on_one_test_on_another_performance, 'accuracy', depth)\n",
    "botometer_tootoa_a.to_csv(f\"botometer_tootoa_a{depth}.csv\")"
   ]
  },
  {
   "cell_type": "code",
   "execution_count": 1630,
   "id": "dbfe0fff",
   "metadata": {},
   "outputs": [
    {
     "data": {
      "image/png": "[encoded data removed]",
      "text/plain": [
       "<Figure size 360x360 with 1 Axes>"
      ]
     },
     "metadata": {
      "needs_background": "light"
     },
     "output_type": "display_data"
    }
   ],
   "source": [
    "depth = 3\n",
    "botometer_tootoa_f = heatmap_train_on_one_test_on_another(botometer_train_on_one_test_on_another_performance, 'f1', depth)\n",
    "botometer_tootoa_f.to_csv(f\"botometer_tootoa_f{depth}.csv\")"
   ]
  },
  {
   "cell_type": "markdown",
   "id": "490f252d",
   "metadata": {},
   "source": [
    "# Botometer combined datasets: leave-one-dataset-out"
   ]
  },
  {
   "cell_type": "code",
   "execution_count": 1633,
   "id": "9cc7376d",
   "metadata": {},
   "outputs": [],
   "source": [
    "cols = list(set.intersection(*map(set,[list(d) for d in botometer_datasets])))\n",
    "if 'created_at' in cols:\n",
    "    cols.remove(\"created_at\")\n",
    "\n",
    "\n",
    "rows = []\n",
    "\n",
    "for i in range(len(botometer_datasets)):\n",
    "    rows.append(botometer_leave_dataset_out(botometer_datasets, i))\n",
    "    \n",
    "botometer_leave_one_out_scores = pd.DataFrame(rows)"
   ]
  },
  {
   "cell_type": "code",
   "execution_count": 1634,
   "id": "d6135e06",
   "metadata": {},
   "outputs": [
    {
     "name": "stdout",
     "output_type": "stream",
     "text": [
      "simple & 0.69/0.66 & 1 \\\\\n",
      "spammers & 0.81/0.83 & 2 \\\\\n",
      "fake-followers & 0.91/0.91 & 3 \\\\\n",
      "self-declared & 0.46/0.08 & 1 \\\\\n",
      "political-bots & 0.96/0.96 & 3 \\\\\n",
      "other-bots & 0.61/0.48 & 1 \\\\\n"
     ]
    }
   ],
   "source": [
    "print_leave_one_out_table(botometer_leave_one_out_scores)"
   ]
  },
  {
   "cell_type": "markdown",
   "id": "0acb5975",
   "metadata": {},
   "source": [
    "# Ensemble of specialized decision trees"
   ]
  },
  {
   "cell_type": "code",
   "execution_count": 1660,
   "id": "b0a8234e",
   "metadata": {},
   "outputs": [],
   "source": [
    "def split_human_df(human_df, n_datasets, dataset_size):\n",
    "    human_df_sample = human_df.sample(n=n_datasets*dataset_size)\n",
    "    return [human_df_sample[i*dataset_size:(i+1)*dataset_size] for i in range(n_datasets)]"
   ]
  },
  {
   "cell_type": "code",
   "execution_count": 1661,
   "id": "5167deb7",
   "metadata": {},
   "outputs": [],
   "source": [
    "botometer_datasets = [simple_df, spammers_df, fake_followers_df, self_declared_df, political_bots_df, other_bots]\n",
    "human_dfs = split_human_df(human_df, len(botometer_datasets), dataset_size)\n",
    "\n",
    "bot_names = [get_dataset_name(d) for d in botometer_datasets]\n"
   ]
  },
  {
   "cell_type": "code",
   "execution_count": 1682,
   "id": "092de781",
   "metadata": {},
   "outputs": [],
   "source": [
    "importlib.reload(sys.modules['ensemble'])\n",
    "\n",
    "from ensemble import get_ensemble_of_classifiers"
   ]
  },
  {
   "cell_type": "code",
   "execution_count": 1683,
   "id": "ee60c96a",
   "metadata": {},
   "outputs": [],
   "source": [
    "clfs, test_aggregate_df, test_labels_aggregate_concat = get_ensemble_of_classifiers(botometer_datasets, human_dfs, bot_names, depth=4)\n"
   ]
  },
  {
   "cell_type": "code",
   "execution_count": 1684,
   "id": "c66d0ed0",
   "metadata": {},
   "outputs": [
    {
     "name": "stdout",
     "output_type": "stream",
     "text": [
      "Accuracy using max confidences: 0.5869744435284419\n",
      "Accuracy using majority vote: 0.8062654575432812\n",
      "Accuracy using weighted majority vote: 0.6685902720527618\n",
      "F1 using max confidences: 0.32388663967611336\n",
      "F1 using majority votes: 0.7764034253092293\n",
      "F1 using weighted majority votes: 0.508557457212714\n",
      "Accuracy using most captured: 0.8235779060181369\n",
      "Accuracy using weighted most captured: 0.8211046990931574)\n",
      "F1 using most captured: 0.8099467140319716\n",
      "F1 using weighted majority captured: 0.7973856209150327\n"
     ]
    }
   ],
   "source": [
    "score_ensemble_speicalized_trees(clfs, test_aggregate_df, test_labels_aggregate_concat)"
   ]
  },
  {
   "cell_type": "markdown",
   "id": "b8f617ff",
   "metadata": {},
   "source": [
    "## Ensembles of specialized random forests"
   ]
  },
  {
   "cell_type": "code",
   "execution_count": 1686,
   "id": "ea2b9adb",
   "metadata": {},
   "outputs": [
    {
     "name": "stdout",
     "output_type": "stream",
     "text": [
      "Accuracy: 0.5919208573784006\n",
      "F1: 0.2998585572842999\n"
     ]
    }
   ],
   "source": [
    "rf = ensemble.RandomForestClassifier(n_estimators=100)\n",
    "rf_clfs, test_aggregate_df, test_labels_aggregate_concat = get_ensemble_of_classifiers(botometer_datasets, human_dfs, bot_names, method=rf)\n",
    "\n",
    "predictions = [rf_clfs[i].predict(test_aggregate_df) for i in range(n_classifiers)]\n",
    "probs = [rf_clfs[i].predict_proba(test_aggregate_df) for i in range(n_classifiers)]\n",
    "probs = [p[:,0] for p in probs]\n",
    "most_confident_clf = [get_max_confidence_rf(probs, i)[0] for i in range(len(test_aggregate_df))]\n",
    "max_prediction = [predictions[j][i] for i,j in enumerate(most_confident_clf)]\n",
    "print(f\"Accuracy: {accuracy_score(max_prediction, test_labels_aggregate_concat)}\")\n",
    "print(f\"F1: {f1_score(max_prediction, test_labels_aggregate_concat)}\")"
   ]
  },
  {
   "cell_type": "markdown",
   "id": "64135848",
   "metadata": {},
   "source": [
    "## Just simple decision rule"
   ]
  },
  {
   "cell_type": "code",
   "execution_count": 1687,
   "id": "3d7d325c",
   "metadata": {},
   "outputs": [
    {
     "name": "stdout",
     "output_type": "stream",
     "text": [
      "Accuracy: 0.8252267106347898\n",
      "F1: 0.8062157221206582\n"
     ]
    }
   ],
   "source": [
    "all_clf = clfs[-1]\n",
    "all_predictions = all_clf.predict(test_aggregate_df)\n",
    "print(f\"Accuracy: {accuracy_score(all_predictions, test_labels_aggregate_concat)}\")\n",
    "print(f\"F1: {f1_score(all_predictions, test_labels_aggregate_concat)}\")"
   ]
  },
  {
   "cell_type": "markdown",
   "id": "58c77371",
   "metadata": {},
   "source": [
    "## Just random forest"
   ]
  },
  {
   "cell_type": "code",
   "execution_count": 1688,
   "id": "9720b088",
   "metadata": {},
   "outputs": [
    {
     "name": "stdout",
     "output_type": "stream",
     "text": [
      "Accuracy: 0.887881286067601\n",
      "F1: 0.8800705467372133\n"
     ]
    }
   ],
   "source": [
    "all_clf_rf = rf_clfs[-1]\n",
    "all_predictions_rf = all_clf_rf.predict(test_aggregate_df)\n",
    "print(f\"Accuracy: {accuracy_score(all_predictions_rf, test_labels_aggregate_concat)}\")\n",
    "print(f\"F1: {f1_score(all_predictions_rf, test_labels_aggregate_concat)}\")"
   ]
  },
  {
   "cell_type": "markdown",
   "id": "47afa3cd",
   "metadata": {},
   "source": [
    "## Testing on held-out set"
   ]
  },
  {
   "cell_type": "code",
   "execution_count": 1689,
   "id": "9c3cf9d2",
   "metadata": {},
   "outputs": [
    {
     "name": "stdout",
     "output_type": "stream",
     "text": [
      "Accuracy using max confidences: 0.6582078678970374\n",
      "Accuracy using majority vote: 0.5419499757163672\n",
      "Accuracy using weighted majority vote: 0.607030111704711\n",
      "F1 using max confidences: 0.629556520594815\n",
      "F1 using majority votes: 0.6788131624877612\n",
      "F1 using weighted majority votes: 0.6920112290050912\n",
      "Accuracy using most captured: 0.550692083535697\n",
      "Accuracy using weighted most captured: 0.5520883924235066)\n",
      "F1 using most captured: 0.6755228199394975\n",
      "F1 using weighted majority captured: 0.6796908917252756\n"
     ]
    }
   ],
   "source": [
    "hold_out_test_df = pd.concat([cresci_stock_2018_one_hot[cols], cresci_rtbust_2019_one_hot[cols], gilani_2017_one_hot[cols]])\n",
    "hold_out_test_labels = pd.concat([cresci_stock_labels, rtbust_labels, gilani_labels])\n",
    "\n",
    "score_ensemble_speicalized_trees(clfs, hold_out_test_df, hold_out_test_labels)\n"
   ]
  },
  {
   "cell_type": "code",
   "execution_count": 1690,
   "id": "7e0067e7",
   "metadata": {},
   "outputs": [
    {
     "name": "stdout",
     "output_type": "stream",
     "text": [
      "Accuracy using max confidences: 0.6844682133172643\n",
      "Accuracy using majority vote: 0.5534046399517927\n",
      "Accuracy using weighted majority vote: 0.6180325399216632\n",
      "F1 using max confidences: 0.6898185857089967\n",
      "F1 using majority votes: 0.7029410291096749\n",
      "F1 using weighted majority votes: 0.7263799708627852\n",
      "Accuracy using most captured: 0.5602591141910214\n",
      "Accuracy using weighted most captured: 0.5604097619764989)\n",
      "F1 using most captured: 0.7046443387635334\n",
      "F1 using weighted majority captured: 0.7048052604957005\n"
     ]
    }
   ],
   "source": [
    "score_ensemble_speicalized_trees(clfs, cresci_stock_2018_one_hot[cols], cresci_stock_labels)"
   ]
  },
  {
   "cell_type": "code",
   "execution_count": 1691,
   "id": "14604184",
   "metadata": {},
   "outputs": [
    {
     "name": "stdout",
     "output_type": "stream",
     "text": [
      "Accuracy using max confidences: 0.5411255411255411\n",
      "Accuracy using majority vote: 0.5180375180375181\n",
      "Accuracy using weighted majority vote: 0.6031746031746031\n",
      "F1 using max confidences: 0.39543726235741444\n",
      "F1 using majority votes: 0.6744639376218322\n",
      "F1 using weighted majority votes: 0.6609124537607892\n",
      "Accuracy using most captured: 0.5238095238095238\n",
      "Accuracy using weighted most captured: 0.5238095238095238)\n",
      "F1 using most captured: 0.6751968503937009\n",
      "F1 using weighted majority captured: 0.6758349705304518\n"
     ]
    }
   ],
   "source": [
    "score_ensemble_speicalized_trees(clfs, cresci_rtbust_2019_one_hot[cols], rtbust_labels)"
   ]
  },
  {
   "cell_type": "code",
   "execution_count": 1692,
   "id": "ed0f4a96",
   "metadata": {},
   "outputs": [
    {
     "name": "stdout",
     "output_type": "stream",
     "text": [
      "Accuracy using max confidences: 0.5513383939272872\n",
      "Accuracy using majority vote: 0.48781462245305635\n",
      "Accuracy using weighted majority vote: 0.5497403116260487\n",
      "F1 using max confidences: 0.037703513281919454\n",
      "F1 using majority votes: 0.48842777334397447\n",
      "F1 using weighted majority votes: 0.3263598326359832\n",
      "Accuracy using most captured: 0.5073911306432282\n",
      "Accuracy using weighted most captured: 0.5157810627247303)\n",
      "F1 using most captured: 0.39171188949185987\n",
      "F1 using weighted majority captured: 0.4603739982190561\n"
     ]
    }
   ],
   "source": [
    "score_ensemble_speicalized_trees(clfs, gilani_2017_one_hot[cols], gilani_labels)"
   ]
  },
  {
   "cell_type": "code",
   "execution_count": 1693,
   "id": "0692fc70",
   "metadata": {},
   "outputs": [
    {
     "name": "stdout",
     "output_type": "stream",
     "text": [
      "Accuracy: 0.5428606119475473\n",
      "F1: 0.6736586634307012\n"
     ]
    }
   ],
   "source": [
    "all_predictions = all_clf.predict(hold_out_test_df)\n",
    "print(f\"Accuracy: {accuracy_score(all_predictions, hold_out_test_labels)}\")\n",
    "print(f\"F1: {f1_score(all_predictions, hold_out_test_labels)}\")"
   ]
  },
  {
   "cell_type": "code",
   "execution_count": 1694,
   "id": "a2927e96",
   "metadata": {},
   "outputs": [
    {
     "name": "stdout",
     "output_type": "stream",
     "text": [
      "Accuracy: 0.5508436275986743\n",
      "F1: 0.7020734449163127\n"
     ]
    }
   ],
   "source": [
    "all_predictions = all_clf.predict(cresci_stock_2018_one_hot[cols])\n",
    "print(f\"Accuracy: {accuracy_score(all_predictions, cresci_stock_labels)}\")\n",
    "print(f\"F1: {f1_score(all_predictions, cresci_stock_labels)}\")"
   ]
  },
  {
   "cell_type": "code",
   "execution_count": 1695,
   "id": "2521a4a3",
   "metadata": {},
   "outputs": [
    {
     "name": "stdout",
     "output_type": "stream",
     "text": [
      "Accuracy: 0.5238095238095238\n",
      "F1: 0.6771037181996086\n"
     ]
    }
   ],
   "source": [
    "all_predictions = all_clf.predict(cresci_rtbust_2019_one_hot[cols])\n",
    "print(f\"Accuracy: {accuracy_score(all_predictions, rtbust_labels)}\")\n",
    "print(f\"F1: {f1_score(all_predictions, rtbust_labels)}\")"
   ]
  },
  {
   "cell_type": "code",
   "execution_count": 1696,
   "id": "603601bb",
   "metadata": {},
   "outputs": [
    {
     "name": "stdout",
     "output_type": "stream",
     "text": [
      "Accuracy: 0.5057930483419896\n",
      "F1: 0.39273441335297005\n"
     ]
    }
   ],
   "source": [
    "all_predictions = all_clf.predict(gilani_2017_one_hot[cols])\n",
    "print(f\"Accuracy: {accuracy_score(all_predictions, gilani_labels)}\")\n",
    "print(f\"F1: {f1_score(all_predictions, gilani_labels)}\")"
   ]
  },
  {
   "cell_type": "code",
   "execution_count": 1697,
   "id": "bb9e1e04",
   "metadata": {},
   "outputs": [
    {
     "name": "stdout",
     "output_type": "stream",
     "text": [
      "Accuracy: 0.5622875182127246\n",
      "F1: 0.6783260462211119\n"
     ]
    }
   ],
   "source": [
    "all_clf_rf = rf_clfs[-1]\n",
    "all_predictions_rf = all_clf_rf.predict(hold_out_test_df)\n",
    "print(f\"Accuracy: {accuracy_score(all_predictions_rf, hold_out_test_labels)}\")\n",
    "print(f\"F1: {f1_score(all_predictions_rf, hold_out_test_labels)}\")"
   ]
  },
  {
   "cell_type": "code",
   "execution_count": 1698,
   "id": "4d8669ce",
   "metadata": {},
   "outputs": [
    {
     "name": "stdout",
     "output_type": "stream",
     "text": [
      "Accuracy: 0.566812292859295\n",
      "F1: 0.7066564651874522\n"
     ]
    }
   ],
   "source": [
    "all_predictions_rf = all_clf_rf.predict(cresci_stock_2018_one_hot[cols])\n",
    "print(f\"Accuracy: {accuracy_score(all_predictions_rf, cresci_stock_labels)}\")\n",
    "print(f\"F1: {f1_score(all_predictions_rf, cresci_stock_labels)}\")"
   ]
  },
  {
   "cell_type": "code",
   "execution_count": 1699,
   "id": "8fb0ccc3",
   "metadata": {},
   "outputs": [
    {
     "name": "stdout",
     "output_type": "stream",
     "text": [
      "Accuracy: 0.5367965367965368\n",
      "F1: 0.6603174603174603\n"
     ]
    }
   ],
   "source": [
    "all_predictions_rf = all_clf_rf.predict(cresci_rtbust_2019_one_hot[cols])\n",
    "print(f\"Accuracy: {accuracy_score(all_predictions_rf, rtbust_labels)}\")\n",
    "print(f\"F1: {f1_score(all_predictions_rf, rtbust_labels)}\")"
   ]
  },
  {
   "cell_type": "code",
   "execution_count": 1700,
   "id": "e1be3eda",
   "metadata": {},
   "outputs": [
    {
     "name": "stdout",
     "output_type": "stream",
     "text": [
      "Accuracy: 0.5453455852976429\n",
      "F1: 0.3894849785407725\n"
     ]
    }
   ],
   "source": [
    "all_predictions_rf = all_clf_rf.predict(gilani_2017_one_hot[cols])\n",
    "print(f\"Accuracy: {accuracy_score(all_predictions_rf, gilani_labels)}\")\n",
    "print(f\"F1: {f1_score(all_predictions_rf, gilani_labels)}\")"
   ]
  }
 ],
 "metadata": {
  "kernelspec": {
   "display_name": "Python 3",
   "language": "python",
   "name": "python3"
  },
  "language_info": {
   "codemirror_mode": {
    "name": "ipython",
    "version": 3
   },
   "file_extension": ".py",
   "mimetype": "text/x-python",
   "name": "python",
   "nbconvert_exporter": "python",
   "pygments_lexer": "ipython3",
   "version": "3.6.8"
  }
 },
 "nbformat": 4,
 "nbformat_minor": 5
}
