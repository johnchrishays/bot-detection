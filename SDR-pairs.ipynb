{
 "cells": [
  {
   "cell_type": "markdown",
   "id": "58e0d721",
   "metadata": {},
   "source": [
    "# Simple decision rules give high performance for detecting social bots on benchmark datasets\n",
    "\n",
    "Analysis of benchmark datasets for bot detection."
   ]
  },
  {
   "cell_type": "markdown",
   "id": "efcf7dda",
   "metadata": {},
   "source": [
    "## Setup"
   ]
  },
  {
   "cell_type": "code",
   "execution_count": null,
   "id": "a4f5eb48",
   "metadata": {
    "ExecuteTime": {
     "end_time": "2022-05-25T14:00:15.177464Z",
     "start_time": "2022-05-25T14:00:14.157695Z"
    }
   },
   "outputs": [],
   "source": [
    "import bson\n",
    "import datetime\n",
    "import itertools\n",
    "import numpy as np\n",
    "import matplotlib.pyplot as plt\n",
    "import matplotlib.ticker as mtick\n",
    "from matplotlib.ticker import MaxNLocator\n",
    "import pandas as pd\n",
    "import pyreadr\n",
    "import random\n",
    "import re\n",
    "from sklearn.model_selection import train_test_split\n",
    "from sklearn.metrics import f1_score, recall_score, precision_score, accuracy_score\n",
    "from sklearn import tree, ensemble\n",
    "import sys\n",
    "import time\n",
    "import importlib\n"
   ]
  },
  {
   "cell_type": "code",
   "execution_count": 1408,
   "id": "210a8cc4",
   "metadata": {},
   "outputs": [],
   "source": [
    "importlib.reload(sys.modules['data_accessor'])\n",
    "\n",
    "from data_accessor import load_twibot, load_bot_repo_dataset, load_cresci, load_cresci2017, load_cresci2015, load_caverlee, load_emd, load_pan19, load_cresci2017_tweets, load_cresci2015_tweets, load_midterm, load_gilani_derived_bands, load_yang, load_yang_tweets, load_cresci_stock_tweets, tweets_to_countvectorized_df\n",
    "from preprocess import drop_and_one_hot, extract_users, load_json, preprocess_users, COLUMNS_TO_DROP, DUMMY_COLUMNS\n",
    "from fit_and_score import fit, score, fit_and_score, kfold_cv, analyze_bot_repo_dataset, analyze_bot_repo_dataset_full, train_test_fit_and_score, train_test_fit_and_score_clf, nonnumeric, mdi_feature_importance, permutation_feature_importance, plot_metrics, calculate_accuracy\n",
    "from unused_data import remove_trailing_zero\n"
   ]
  },
  {
   "cell_type": "code",
   "execution_count": 586,
   "id": "b0ae77d9",
   "metadata": {
    "ExecuteTime": {
     "end_time": "2022-05-25T14:00:16.465779Z",
     "start_time": "2022-05-25T14:00:16.447264Z"
    }
   },
   "outputs": [],
   "source": [
    "PROJ_PATH = \"/nfs/sloanlab003/projects/bot_ensemble_proj/bot-detection\"\n",
    "\n",
    "def namestr(obj, namespace):\n",
    "    return [name for name in namespace if namespace[name] is obj]\n",
    "\n",
    "def get_dataset_name(df):\n",
    "    try:\n",
    "        return namestr(df, globals())[0]\n",
    "    except:\n",
    "        return \"Unknown\"\n"
   ]
  },
  {
   "cell_type": "markdown",
   "id": "1b4bf8d2",
   "metadata": {},
   "source": [
    "## Load datasets and calculate scores"
   ]
  },
  {
   "cell_type": "markdown",
   "id": "010f7e76",
   "metadata": {},
   "source": [
    "## Profile data"
   ]
  },
  {
   "cell_type": "code",
   "execution_count": 1287,
   "id": "5db5db42",
   "metadata": {},
   "outputs": [],
   "source": [
    "# Twibot\n",
    "twibot_df, twibot_2020_one_hot, twibot_labels = load_twibot(PROJ_PATH + \"/data/Twibot-20/train.json\")\n",
    "twibot_test, twibot_2020_one_hot_test, twibot_labels_test = load_twibot(PROJ_PATH + \"/data/Twibot-20/test.json\")\n",
    "#twibot_validate, twibot_2020_one_hot_validate, twibot_labels_validate = load_twibot(PROJ_PATH + \"/data/Twibot-20/dev.json\")\n",
    "shared_columns = set.intersection(set(twibot_2020_one_hot.columns), set(twibot_2020_one_hot_test.columns)) # Since we want to check on test set, just use common columns between train/test.\n",
    "twibot_scores = []\n",
    "for i in range(1, 6):\n",
    "    dt_clf = fit(twibot_2020_one_hot[shared_columns], twibot_labels, depth=i)\n",
    "    scr = score(dt_clf, twibot_2020_one_hot_test[shared_columns], twibot_labels_test, silent=True)\n",
    "    # balanced\n",
    "    baccs = []\n",
    "    iters = 5\n",
    "    for j in range(iters):\n",
    "        twibot_2020_humans = twibot_2020_one_hot[pd.Series(twibot_labels) == 0]\n",
    "        twibot_2020_bots = twibot_2020_one_hot[pd.Series(twibot_labels) == 1]\n",
    "        n_accts = min(len(twibot_2020_humans), len(twibot_2020_bots))\n",
    "        btwibot_labels = [0]*n_accts + [1]*n_accts\n",
    "        bal_clf = fit(pd.concat([twibot_2020_humans.sample(n_accts), twibot_2020_bots.sample(n_accts)])[shared_columns], btwibot_labels, depth=i)\n",
    "        twibot_2020_humans_test = twibot_2020_one_hot[pd.Series(twibot_labels) == 0]\n",
    "        twibot_2020_bots_test = twibot_2020_one_hot[pd.Series(twibot_labels) == 1]\n",
    "        n_accts_test = min(len(twibot_2020_humans_test), len(twibot_2020_bots_test))\n",
    "        btwibot_labels_test = [0]*n_accts_test + [1]*n_accts_test\n",
    "        bacc, *_ = score(bal_clf, pd.concat([twibot_2020_humans_test.sample(n_accts_test), twibot_2020_bots_test.sample(n_accts_test)])[shared_columns], btwibot_labels_test, silent=True)\n",
    "        baccs = baccs + [bacc]\n",
    "    mean_bacc = sum(baccs)/iters\n",
    "    twibot_scores.append(list(scr) + [mean_bacc])\n",
    "    "
   ]
  },
  {
   "cell_type": "code",
   "execution_count": 1382,
   "id": "2e8a6818",
   "metadata": {},
   "outputs": [
    {
     "name": "stdout",
     "output_type": "stream",
     "text": [
      "Starting kfold_cv at 10/07/22 15:47:17\n",
      "Finished kfold_cv at 1665172037.5428152. Execution time: 0.11285829544067383 s\n",
      "Starting kfold_cv at 10/07/22 15:47:17\n",
      "Finished kfold_cv at 1665172037.631188. Execution time: 0.0882866382598877 s\n",
      "Starting kfold_cv at 10/07/22 15:47:17\n",
      "Finished kfold_cv at 1665172037.721704. Execution time: 0.09042239189147949 s\n",
      "Starting kfold_cv at 10/07/22 15:47:17\n",
      "Finished kfold_cv at 1665172037.8225932. Execution time: 0.10079145431518555 s\n",
      "Starting kfold_cv at 10/07/22 15:47:17\n",
      "Finished kfold_cv at 1665172037.9195182. Execution time: 0.09683680534362793 s\n",
      "Starting kfold_cv at 10/07/22 15:47:17\n",
      "Finished kfold_cv at 1665172038.0038977. Execution time: 0.08427214622497559 s\n",
      "Starting kfold_cv at 10/07/22 15:47:18\n",
      "Finished kfold_cv at 1665172038.0875986. Execution time: 0.0836031436920166 s\n",
      "Starting kfold_cv at 10/07/22 15:47:18\n",
      "Finished kfold_cv at 1665172038.1739025. Execution time: 0.0862126350402832 s\n",
      "Starting kfold_cv at 10/07/22 15:47:18\n",
      "Finished kfold_cv at 1665172038.2624087. Execution time: 0.08843064308166504 s\n",
      "Starting kfold_cv at 10/07/22 15:47:18\n",
      "Finished kfold_cv at 1665172038.3492725. Execution time: 0.08676695823669434 s\n",
      "k fold\n"
     ]
    }
   ],
   "source": [
    "# botometer-feedback\n",
    "bf, botometer_feedback_2019_one_hot, bf_labels = load_bot_repo_dataset(PROJ_PATH + \"/data/botometer-feedback-2019_tweets.json\", PROJ_PATH + \"/data/botometer-feedback-2019.tsv\")\n",
    "botometer_feedback_scores = analyze_bot_repo_dataset(botometer_feedback_2019_one_hot, bf_labels, silent=True)"
   ]
  },
  {
   "cell_type": "code",
   "execution_count": 1384,
   "id": "fc14f162",
   "metadata": {},
   "outputs": [
    {
     "name": "stdout",
     "output_type": "stream",
     "text": [
      "Starting kfold_cv at 10/07/22 15:47:43\n",
      "Finished kfold_cv at 1665172063.2065978. Execution time: 0.10977339744567871 s\n",
      "Starting kfold_cv at 10/07/22 15:47:43\n",
      "Finished kfold_cv at 1665172063.2949648. Execution time: 0.08828091621398926 s\n",
      "Starting kfold_cv at 10/07/22 15:47:43\n",
      "Finished kfold_cv at 1665172063.386158. Execution time: 0.09111380577087402 s\n",
      "Starting kfold_cv at 10/07/22 15:47:43\n",
      "Finished kfold_cv at 1665172063.4800096. Execution time: 0.09377241134643555 s\n",
      "Starting kfold_cv at 10/07/22 15:47:43\n",
      "Finished kfold_cv at 1665172063.5773191. Execution time: 0.09720706939697266 s\n",
      "Starting kfold_cv at 10/07/22 15:47:43\n",
      "Finished kfold_cv at 1665172063.6640503. Execution time: 0.08663821220397949 s\n",
      "Starting kfold_cv at 10/07/22 15:47:43\n",
      "Finished kfold_cv at 1665172063.7479987. Execution time: 0.08386349678039551 s\n",
      "Starting kfold_cv at 10/07/22 15:47:43\n",
      "Finished kfold_cv at 1665172063.83296. Execution time: 0.0848689079284668 s\n",
      "Starting kfold_cv at 10/07/22 15:47:43\n",
      "Finished kfold_cv at 1665172063.9215436. Execution time: 0.08849239349365234 s\n",
      "Starting kfold_cv at 10/07/22 15:47:43\n",
      "Finished kfold_cv at 1665172064.0089707. Execution time: 0.08734130859375 s\n",
      "k fold\n",
      "Starting kfold_cv at 10/07/22 15:47:44\n",
      "Finished kfold_cv at 1665172064.2159624. Execution time: 0.09882354736328125 s\n",
      "Starting kfold_cv at 10/07/22 15:47:44\n",
      "Finished kfold_cv at 1665172064.2946985. Execution time: 0.0786433219909668 s\n",
      "Starting kfold_cv at 10/07/22 15:47:44\n",
      "Finished kfold_cv at 1665172064.373749. Execution time: 0.07895731925964355 s\n",
      "Starting kfold_cv at 10/07/22 15:47:44\n",
      "Finished kfold_cv at 1665172064.456355. Execution time: 0.08251357078552246 s\n",
      "Starting kfold_cv at 10/07/22 15:47:44\n",
      "Finished kfold_cv at 1665172064.5381942. Execution time: 0.08174347877502441 s\n",
      "Starting kfold_cv at 10/07/22 15:47:44\n",
      "Finished kfold_cv at 1665172064.6132247. Execution time: 0.07493782043457031 s\n",
      "Starting kfold_cv at 10/07/22 15:47:44\n",
      "Finished kfold_cv at 1665172064.6942246. Execution time: 0.08090615272521973 s\n",
      "Starting kfold_cv at 10/07/22 15:47:44\n",
      "Finished kfold_cv at 1665172064.77393. Execution time: 0.07960915565490723 s\n",
      "Starting kfold_cv at 10/07/22 15:47:44\n",
      "Finished kfold_cv at 1665172064.8551486. Execution time: 0.08113932609558105 s\n",
      "Starting kfold_cv at 10/07/22 15:47:44\n",
      "Finished kfold_cv at 1665172064.939533. Execution time: 0.08429288864135742 s\n",
      "k fold\n",
      "Starting kfold_cv at 10/07/22 15:47:45\n",
      "Finished kfold_cv at 1665172065.3928132. Execution time: 0.3021538257598877 s\n",
      "Starting kfold_cv at 10/07/22 15:47:45\n",
      "Finished kfold_cv at 1665172065.7210867. Execution time: 0.3281424045562744 s\n",
      "Starting kfold_cv at 10/07/22 15:47:45\n",
      "Finished kfold_cv at 1665172066.0746036. Execution time: 0.353363037109375 s\n",
      "Starting kfold_cv at 10/07/22 15:47:46\n",
      "Finished kfold_cv at 1665172066.4472468. Execution time: 0.37249279022216797 s\n",
      "Starting kfold_cv at 10/07/22 15:47:46\n",
      "Finished kfold_cv at 1665172066.832947. Execution time: 0.3855600357055664 s\n",
      "Starting kfold_cv at 10/07/22 15:47:46\n",
      "Finished kfold_cv at 1665172067.1479833. Execution time: 0.31489109992980957 s\n",
      "Starting kfold_cv at 10/07/22 15:47:47\n",
      "Finished kfold_cv at 1665172067.4866664. Execution time: 0.33855342864990234 s\n",
      "Starting kfold_cv at 10/07/22 15:47:47\n",
      "Finished kfold_cv at 1665172067.8390026. Execution time: 0.3521885871887207 s\n",
      "Starting kfold_cv at 10/07/22 15:47:47\n",
      "Finished kfold_cv at 1665172068.2060652. Execution time: 0.3669307231903076 s\n",
      "Starting kfold_cv at 10/07/22 15:47:48\n",
      "Finished kfold_cv at 1665172068.5835197. Execution time: 0.3773057460784912 s\n",
      "k fold\n",
      "Starting kfold_cv at 10/07/22 15:47:48\n",
      "Finished kfold_cv at 1665172068.7385585. Execution time: 0.060475826263427734 s\n",
      "Starting kfold_cv at 10/07/22 15:47:48\n",
      "Finished kfold_cv at 1665172068.806089. Execution time: 0.06743979454040527 s\n",
      "Starting kfold_cv at 10/07/22 15:47:48\n",
      "Finished kfold_cv at 1665172068.8756971. Execution time: 0.06950569152832031 s\n",
      "Starting kfold_cv at 10/07/22 15:47:48\n",
      "Finished kfold_cv at 1665172068.9469266. Execution time: 0.0711359977722168 s\n",
      "Starting kfold_cv at 10/07/22 15:47:48\n",
      "Finished kfold_cv at 1665172069.0242457. Execution time: 0.07722949981689453 s\n",
      "Starting kfold_cv at 10/07/22 15:47:49\n",
      "Finished kfold_cv at 1665172069.0869868. Execution time: 0.06265497207641602 s\n",
      "Starting kfold_cv at 10/07/22 15:47:49\n",
      "Finished kfold_cv at 1665172069.1512923. Execution time: 0.06423115730285645 s\n",
      "Starting kfold_cv at 10/07/22 15:47:49\n",
      "Finished kfold_cv at 1665172069.2187803. Execution time: 0.067413330078125 s\n",
      "Starting kfold_cv at 10/07/22 15:47:49\n",
      "Finished kfold_cv at 1665172069.2934198. Execution time: 0.07456135749816895 s\n",
      "Starting kfold_cv at 10/07/22 15:47:49\n",
      "Finished kfold_cv at 1665172069.3663514. Execution time: 0.07284784317016602 s\n",
      "k fold\n",
      "Starting kfold_cv at 10/07/22 15:47:49\n",
      "Finished kfold_cv at 1665172069.4295003. Execution time: 0.06300806999206543 s\n",
      "Starting kfold_cv at 10/07/22 15:47:49\n",
      "Finished kfold_cv at 1665172069.501696. Execution time: 0.07209587097167969 s\n",
      "Starting kfold_cv at 10/07/22 15:47:49\n",
      "Finished kfold_cv at 1665172069.5774682. Execution time: 0.0754384994506836 s\n",
      "Starting kfold_cv at 10/07/22 15:47:49\n",
      "Finished kfold_cv at 1665172069.6582832. Execution time: 0.08073902130126953 s\n",
      "Starting kfold_cv at 10/07/22 15:47:49\n",
      "Finished kfold_cv at 1665172069.742611. Execution time: 0.08424568176269531 s\n",
      "Starting kfold_cv at 10/07/22 15:47:49\n",
      "Finished kfold_cv at 1665172069.8094149. Execution time: 0.06670689582824707 s\n",
      "Starting kfold_cv at 10/07/22 15:47:49\n",
      "Finished kfold_cv at 1665172069.8806934. Execution time: 0.07118654251098633 s\n",
      "Starting kfold_cv at 10/07/22 15:47:49\n",
      "Finished kfold_cv at 1665172069.9585795. Execution time: 0.07781291007995605 s\n",
      "Starting kfold_cv at 10/07/22 15:47:49\n",
      "Finished kfold_cv at 1665172070.043758. Execution time: 0.0850827693939209 s\n",
      "Starting kfold_cv at 10/07/22 15:47:50\n",
      "Finished kfold_cv at 1665172070.133278. Execution time: 0.08943653106689453 s\n",
      "k fold\n",
      "Starting kfold_cv at 10/07/22 15:47:50\n",
      "Finished kfold_cv at 1665172070.1910322. Execution time: 0.05751228332519531 s\n",
      "Starting kfold_cv at 10/07/22 15:47:50\n",
      "Finished kfold_cv at 1665172070.250806. Execution time: 0.05969595909118652 s\n",
      "Starting kfold_cv at 10/07/22 15:47:50\n",
      "Finished kfold_cv at 1665172070.3097777. Execution time: 0.05889320373535156 s\n",
      "Starting kfold_cv at 10/07/22 15:47:50\n",
      "Finished kfold_cv at 1665172070.3728607. Execution time: 0.06299304962158203 s\n",
      "Starting kfold_cv at 10/07/22 15:47:50\n",
      "Finished kfold_cv at 1665172070.4383886. Execution time: 0.06543684005737305 s\n",
      "Starting kfold_cv at 10/07/22 15:47:50\n",
      "Finished kfold_cv at 1665172070.4990087. Execution time: 0.06053280830383301 s\n",
      "Starting kfold_cv at 10/07/22 15:47:50\n",
      "Finished kfold_cv at 1665172070.5605173. Execution time: 0.06130075454711914 s\n",
      "Starting kfold_cv at 10/07/22 15:47:50\n",
      "Finished kfold_cv at 1665172070.6233692. Execution time: 0.06262826919555664 s\n",
      "Starting kfold_cv at 10/07/22 15:47:50\n",
      "Finished kfold_cv at 1665172070.6898525. Execution time: 0.0663907527923584 s\n",
      "Starting kfold_cv at 10/07/22 15:47:50\n",
      "Finished kfold_cv at 1665172070.7570536. Execution time: 0.06711125373840332 s\n",
      "k fold\n",
      "Starting kfold_cv at 10/07/22 15:47:50\n",
      "Finished kfold_cv at 1665172070.8086107. Execution time: 0.05131816864013672 s\n",
      "Starting kfold_cv at 10/07/22 15:47:50\n",
      "Finished kfold_cv at 1665172070.8589525. Execution time: 0.05026364326477051 s\n",
      "Starting kfold_cv at 10/07/22 15:47:50\n",
      "Finished kfold_cv at 1665172070.9136329. Execution time: 0.05460190773010254 s\n",
      "Starting kfold_cv at 10/07/22 15:47:50\n",
      "Finished kfold_cv at 1665172070.96333. Execution time: 0.04957771301269531 s\n",
      "Starting kfold_cv at 10/07/22 15:47:50\n",
      "Finished kfold_cv at 1665172071.0149212. Execution time: 0.05151510238647461 s\n",
      "Starting kfold_cv at 10/07/22 15:47:51\n",
      "Finished kfold_cv at 1665172071.0678387. Execution time: 0.052837371826171875 s\n",
      "Starting kfold_cv at 10/07/22 15:47:51\n",
      "Finished kfold_cv at 1665172071.1231608. Execution time: 0.05523180961608887 s\n",
      "Starting kfold_cv at 10/07/22 15:47:51\n",
      "Finished kfold_cv at 1665172071.180818. Execution time: 0.057579755783081055 s\n",
      "Starting kfold_cv at 10/07/22 15:47:51\n",
      "Finished kfold_cv at 1665172071.2334745. Execution time: 0.052414655685424805 s\n",
      "Starting kfold_cv at 10/07/22 15:47:51\n",
      "Finished kfold_cv at 1665172071.2897642. Execution time: 0.056191205978393555 s\n",
      "k fold\n"
     ]
    },
    {
     "name": "stdout",
     "output_type": "stream",
     "text": [
      "Starting kfold_cv at 10/07/22 15:47:51\n",
      "Finished kfold_cv at 1665172075.0853748. Execution time: 3.3997609615325928 s\n",
      "Starting kfold_cv at 10/07/22 15:47:55\n",
      "Finished kfold_cv at 1665172079.0394192. Execution time: 3.953845500946045 s\n",
      "Starting kfold_cv at 10/07/22 15:47:59\n",
      "Finished kfold_cv at 1665172083.4095664. Execution time: 4.369809627532959 s\n",
      "Starting kfold_cv at 10/07/22 15:48:03\n",
      "Finished kfold_cv at 1665172088.132686. Execution time: 4.722923278808594 s\n",
      "Starting kfold_cv at 10/07/22 15:48:08\n",
      "Finished kfold_cv at 1665172093.2033992. Execution time: 5.070523262023926 s\n",
      "Starting kfold_cv at 10/07/22 15:48:13\n",
      "Finished kfold_cv at 1665172095.469055. Execution time: 2.265408754348755 s\n",
      "Starting kfold_cv at 10/07/22 15:48:15\n",
      "Finished kfold_cv at 1665172097.9366274. Execution time: 2.4673852920532227 s\n",
      "Starting kfold_cv at 10/07/22 15:48:17\n",
      "Finished kfold_cv at 1665172100.5253565. Execution time: 2.5884008407592773 s\n",
      "Starting kfold_cv at 10/07/22 15:48:20\n",
      "Finished kfold_cv at 1665172103.2267761. Execution time: 2.7012107372283936 s\n",
      "Starting kfold_cv at 10/07/22 15:48:23\n",
      "Finished kfold_cv at 1665172106.1115823. Execution time: 2.8846096992492676 s\n",
      "k fold\n",
      "Starting kfold_cv at 10/07/22 15:48:26\n",
      "Finished kfold_cv at 1665172107.2524824. Execution time: 0.9202046394348145 s\n",
      "Starting kfold_cv at 10/07/22 15:48:27\n",
      "Finished kfold_cv at 1665172108.295926. Execution time: 1.0432524681091309 s\n",
      "Starting kfold_cv at 10/07/22 15:48:28\n",
      "Finished kfold_cv at 1665172109.4348605. Execution time: 1.1387722492218018 s\n",
      "Starting kfold_cv at 10/07/22 15:48:29\n",
      "Finished kfold_cv at 1665172110.652127. Execution time: 1.2171218395233154 s\n",
      "Starting kfold_cv at 10/07/22 15:48:30\n",
      "Finished kfold_cv at 1665172111.9429085. Execution time: 1.2906177043914795 s\n",
      "Starting kfold_cv at 10/07/22 15:48:31\n",
      "Finished kfold_cv at 1665172112.79521. Execution time: 0.8521368503570557 s\n",
      "Starting kfold_cv at 10/07/22 15:48:32\n",
      "Finished kfold_cv at 1665172113.7439673. Execution time: 0.9486217498779297 s\n",
      "Starting kfold_cv at 10/07/22 15:48:33\n",
      "Finished kfold_cv at 1665172114.7559617. Execution time: 1.0118486881256104 s\n",
      "Starting kfold_cv at 10/07/22 15:48:34\n",
      "Finished kfold_cv at 1665172115.7864513. Execution time: 1.030179500579834 s\n",
      "Starting kfold_cv at 10/07/22 15:48:35\n",
      "Finished kfold_cv at 1665172116.8334846. Execution time: 1.0468590259552002 s\n",
      "k fold\n",
      "Starting kfold_cv at 10/07/22 15:48:37\n",
      "Finished kfold_cv at 1665172117.6772804. Execution time: 0.3362283706665039 s\n",
      "Starting kfold_cv at 10/07/22 15:48:37\n",
      "Finished kfold_cv at 1665172118.0653965. Execution time: 0.3877828121185303 s\n",
      "Starting kfold_cv at 10/07/22 15:48:38\n",
      "Finished kfold_cv at 1665172118.515134. Execution time: 0.4496166706085205 s\n",
      "Starting kfold_cv at 10/07/22 15:48:38\n",
      "Finished kfold_cv at 1665172119.0007925. Execution time: 0.48554539680480957 s\n",
      "Starting kfold_cv at 10/07/22 15:48:38\n",
      "Finished kfold_cv at 1665172119.534075. Execution time: 0.5331594944000244 s\n",
      "Starting kfold_cv at 10/07/22 15:48:39\n",
      "Finished kfold_cv at 1665172119.864568. Execution time: 0.33037304878234863 s\n",
      "Starting kfold_cv at 10/07/22 15:48:39\n",
      "Finished kfold_cv at 1665172120.2433615. Execution time: 0.37866997718811035 s\n",
      "Starting kfold_cv at 10/07/22 15:48:40\n",
      "Finished kfold_cv at 1665172120.7451768. Execution time: 0.501692533493042 s\n",
      "Starting kfold_cv at 10/07/22 15:48:40\n",
      "Finished kfold_cv at 1665172121.2250996. Execution time: 0.47981691360473633 s\n",
      "Starting kfold_cv at 10/07/22 15:48:41\n",
      "Finished kfold_cv at 1665172121.7432978. Execution time: 0.5180716514587402 s\n",
      "k fold\n",
      "Starting kfold_cv at 10/07/22 15:48:42\n",
      "Finished kfold_cv at 1665172125.8432226. Execution time: 3.323636770248413 s\n",
      "Starting kfold_cv at 10/07/22 15:48:45\n",
      "Finished kfold_cv at 1665172129.703507. Execution time: 3.8600964546203613 s\n",
      "Starting kfold_cv at 10/07/22 15:48:49\n",
      "Finished kfold_cv at 1665172133.9884746. Execution time: 4.284731388092041 s\n",
      "Starting kfold_cv at 10/07/22 15:48:53\n",
      "Finished kfold_cv at 1665172138.680657. Execution time: 4.691826343536377 s\n",
      "Starting kfold_cv at 10/07/22 15:48:58\n",
      "Finished kfold_cv at 1665172143.6715162. Execution time: 4.990670919418335 s\n",
      "Starting kfold_cv at 10/07/22 15:49:03\n",
      "Finished kfold_cv at 1665172147.2394912. Execution time: 3.567772150039673 s\n",
      "Starting kfold_cv at 10/07/22 15:49:07\n",
      "Finished kfold_cv at 1665172151.2733972. Execution time: 4.033669710159302 s\n",
      "Starting kfold_cv at 10/07/22 15:49:11\n",
      "Finished kfold_cv at 1665172155.6838312. Execution time: 4.410233020782471 s\n",
      "Starting kfold_cv at 10/07/22 15:49:15\n",
      "Finished kfold_cv at 1665172160.369365. Execution time: 4.685202121734619 s\n",
      "Starting kfold_cv at 10/07/22 15:49:20\n",
      "Finished kfold_cv at 1665172165.3827064. Execution time: 5.013128995895386 s\n",
      "k fold\n"
     ]
    }
   ],
   "source": [
    "# botometer-feedback\n",
    "bf, botometer_feedback_2019_one_hot, bf_labels = load_bot_repo_dataset(PROJ_PATH + \"/data/botometer-feedback-2019_tweets.json\", PROJ_PATH + \"/data/botometer-feedback-2019.tsv\")\n",
    "botometer_feedback_scores = analyze_bot_repo_dataset(botometer_feedback_2019_one_hot, bf_labels, silent=True)\n",
    "\n",
    "#rtbust\n",
    "rtbust, cresci_rtbust_2019_one_hot, rtbust_labels = load_bot_repo_dataset(PROJ_PATH + \"/data/cresci-rtbust-2019_tweets.json\", PROJ_PATH + \"/data/cresci-rtbust-2019.tsv\")\n",
    "rtbust_scores = analyze_bot_repo_dataset(cresci_rtbust_2019_one_hot, rtbust_labels, silent=True)\n",
    "\n",
    "#gilani-2017\n",
    "gilani, gilani_2017_one_hot, gilani_labels = load_bot_repo_dataset(PROJ_PATH + \"/data/gilani-2017_tweets.json\", PROJ_PATH + \"/data/gilani-2017.tsv\")\n",
    "gilani_scores = analyze_bot_repo_dataset(gilani_2017_one_hot, gilani_labels, silent=True)\n",
    "\n",
    "#gilani-2017 with derived features from orginal paper\n",
    "gilani_derived_dfs, gilani_derived_labels = load_gilani_derived_bands(PROJ_PATH + f\"/data/gilani_derived/classification_processed/\")\n",
    "gilani_derived_scores = [analyze_bot_repo_dataset(gilani_derived_df, gilani_derived_label, silent=True) for gilani_derived_df, gilani_derived_label in zip(gilani_derived_dfs, gilani_derived_labels)]\n",
    "gilani_derived_scores_avg = [[sum([strat[depth_ind][scr_ind] for strat in gilani_derived_scores])/4 for scr_ind in range(4)] for depth_ind in range(5)]\n",
    "\n",
    "#cresci-2017\n",
    "cresci2017, cresci_2017_one_hot, cresci2017_labels = load_cresci2017(PROJ_PATH + \"/data/cresci-2017/{}.csv/users.csv\")\n",
    "cresci2017_scores = analyze_bot_repo_dataset(cresci_2017_one_hot, cresci2017_labels, silent=True)\n",
    "\n",
    "#cresci-2015\n",
    "cresci2015, cresci_2015_one_hot, cresci2015_labels = load_cresci2015(PROJ_PATH + \"/data/cresci-2015/{}/users.csv\")\n",
    "cresci2015_scores = analyze_bot_repo_dataset(cresci_2015_one_hot, cresci2015_labels, silent=True)\n",
    "\n",
    "#caverlee-2011\n",
    "caverlee_2011, caverlee_2011_labels = load_caverlee(PROJ_PATH + \"/data/social_honeypot_icwsm_2011/\")\n",
    "caverlee_2011_scores = analyze_bot_repo_dataset(caverlee_2011, caverlee_2011_labels, silent=True)\n",
    "\n",
    "#cresci-stock-2018\n",
    "cresci_stock, cresci_stock_2018_one_hot, cresci_stock_labels = load_bot_repo_dataset(PROJ_PATH + \"/data/cresci-stock-2018_tweets.json\", PROJ_PATH + \"/data/cresci-stock-2018.tsv\")\n",
    "cresci_stock_scores = analyze_bot_repo_dataset(cresci_stock_2018_one_hot, cresci_stock_labels, silent=True)\n"
   ]
  },
  {
   "cell_type": "code",
   "execution_count": null,
   "id": "e44d58ed",
   "metadata": {},
   "outputs": [],
   "source": [
    "train_test_fit_and_score(cresci_rtbust_2019_one_hot, rtbust_labels, depth=3, balance=False)"
   ]
  },
  {
   "cell_type": "code",
   "execution_count": 1385,
   "id": "de8ad870",
   "metadata": {},
   "outputs": [],
   "source": [
    "# bot-wiki\n",
    "botwiki_df, botwiki_one_hot, botwiki_labels = load_bot_repo_dataset(PROJ_PATH + \"/data/botwiki-2019_tweets.json\", PROJ_PATH + \"/data/botwiki-2019.tsv\")\n",
    "# celebrity\n",
    "celebrity_df, celebrity_one_hot, celebrity_labels = load_bot_repo_dataset(PROJ_PATH + \"/data/celebrity-2019_tweets.json\", PROJ_PATH + \"/data/celebrity-2019.tsv\")\n",
    "# political-bots\n",
    "political_bots_df, political_bots_one_hot, political_bots_labels = load_bot_repo_dataset(PROJ_PATH + \"/data/political-bots-2019/political-bots-2019_tweets.json\", PROJ_PATH + \"/data/political-bots-2019/political-bots-2019.tsv\")\n",
    "# pronbots\n",
    "pronbots_df, pronbots_one_hot, pronbots_labels = load_bot_repo_dataset(PROJ_PATH + \"/data/pronbots-2019_tweets.json\", PROJ_PATH + \"/data/pronbots-2019.tsv\")\n",
    "# vendor purchased\n",
    "vendor_purchased_df, vendor_purchased_one_hot, vendor_purchased_labels = load_bot_repo_dataset(PROJ_PATH + \"/data/vendor-purchased-2019_tweets.json\", PROJ_PATH + \"/data/vendor-purchased-2019.tsv\")\n",
    "#verified\n",
    "verified_df, verified_one_hot, verified_labels = load_bot_repo_dataset(PROJ_PATH + \"/data/verified-2019_tweets.json\", PROJ_PATH + \"/data/verified-2019.tsv\")\n",
    "\n",
    "# EMD\n",
    "ersahin_2017, ersahin_2017_labels = load_emd(PROJ_PATH + '/data/EMD-2017/Twitter_dataset.arff') # Load data"
   ]
  },
  {
   "cell_type": "code",
   "execution_count": 1386,
   "id": "8910d161",
   "metadata": {},
   "outputs": [
    {
     "name": "stdout",
     "output_type": "stream",
     "text": [
      "getting here\n",
      "Starting train_test_fit_and_score_clf at 10/07/22 15:50:47\n",
      "Finished train_test_fit_and_score_clf at 1665172301.8520963. Execution time: 54.14731025695801 s\n",
      "Starting train_test_fit_and_score_clf at 10/07/22 15:51:41\n",
      "Finished train_test_fit_and_score_clf at 1665172359.6413069. Execution time: 57.788907051086426 s\n",
      "Starting train_test_fit_and_score_clf at 10/07/22 15:52:39\n",
      "Finished train_test_fit_and_score_clf at 1665172421.3783252. Execution time: 61.73670053482056 s\n",
      "Starting train_test_fit_and_score_clf at 10/07/22 15:53:41\n",
      "Finished train_test_fit_and_score_clf at 1665172486.5683594. Execution time: 65.18972754478455 s\n",
      "Starting train_test_fit_and_score_clf at 10/07/22 15:54:46\n",
      "Finished train_test_fit_and_score_clf at 1665172555.7271903. Execution time: 69.1585214138031 s\n"
     ]
    }
   ],
   "source": [
    "midterm, midterm_2018_one_hot, midterm_labels = load_midterm(PROJ_PATH + \"/data/midterm-2018/midterm-2018_processed_user_objects.json\", PROJ_PATH + \"/data/midterm-2018/midterm-2018.tsv\")\n",
    "midterm_scores = analyze_bot_repo_dataset(midterm_2018_one_hot, midterm_labels, kfold=False, silent=True)"
   ]
  },
  {
   "cell_type": "code",
   "execution_count": 1387,
   "id": "2d00e229",
   "metadata": {},
   "outputs": [
    {
     "name": "stdout",
     "output_type": "stream",
     "text": [
      "Starting kfold_cv at 10/07/22 15:55:57\n",
      "Finished kfold_cv at 1665172577.4899294. Execution time: 20.307188749313354 s\n",
      "Starting kfold_cv at 10/07/22 15:56:17\n",
      "Finished kfold_cv at 1665172601.1247098. Execution time: 23.63442325592041 s\n",
      "Starting kfold_cv at 10/07/22 15:56:41\n",
      "Finished kfold_cv at 1665172627.5649817. Execution time: 26.43988800048828 s\n",
      "Starting kfold_cv at 10/07/22 15:57:07\n",
      "Finished kfold_cv at 1665172656.6762574. Execution time: 29.11090850830078 s\n",
      "Starting kfold_cv at 10/07/22 15:57:36\n",
      "Finished kfold_cv at 1665172687.8315983. Execution time: 31.154962301254272 s\n",
      "Starting kfold_cv at 10/07/22 15:58:07\n",
      "Finished kfold_cv at 1665172696.5206883. Execution time: 8.688685178756714 s\n",
      "Starting kfold_cv at 10/07/22 15:58:16\n",
      "Finished kfold_cv at 1665172705.0567892. Execution time: 8.535767555236816 s\n",
      "Starting kfold_cv at 10/07/22 15:58:25\n",
      "Finished kfold_cv at 1665172713.700738. Execution time: 8.643719673156738 s\n",
      "Starting kfold_cv at 10/07/22 15:58:33\n",
      "Finished kfold_cv at 1665172722.533765. Execution time: 8.832703113555908 s\n",
      "Starting kfold_cv at 10/07/22 15:58:42\n",
      "Finished kfold_cv at 1665172731.3129485. Execution time: 8.778952598571777 s\n",
      "k fold\n"
     ]
    }
   ],
   "source": [
    "yang, yang_2013_one_hot, yang_labels = load_yang(PROJ_PATH + \"/data/yang-2013/\")\n",
    "yang_scores = analyze_bot_repo_dataset(yang_2013_one_hot, yang_labels)"
   ]
  },
  {
   "cell_type": "markdown",
   "id": "87d3f7ea",
   "metadata": {},
   "source": [
    "## Tweets data"
   ]
  },
  {
   "cell_type": "code",
   "execution_count": 1388,
   "id": "389986a9",
   "metadata": {},
   "outputs": [
    {
     "name": "stdout",
     "output_type": "stream",
     "text": [
      "Starting kfold_cv at 10/07/22 16:00:12\n",
      "Finished kfold_cv at 1665172834.3027408. Execution time: 22.172532081604004 s\n",
      "Starting kfold_cv at 10/07/22 16:00:34\n",
      "Finished kfold_cv at 1665172868.593337. Execution time: 34.29038381576538 s\n",
      "Starting kfold_cv at 10/07/22 16:01:08\n",
      "Finished kfold_cv at 1665172914.5048594. Execution time: 45.91113066673279 s\n",
      "Starting kfold_cv at 10/07/22 16:01:54\n",
      "Finished kfold_cv at 1665172971.9243326. Execution time: 57.41906762123108 s\n",
      "Starting kfold_cv at 10/07/22 16:02:51\n",
      "Finished kfold_cv at 1665173040.9974518. Execution time: 69.0727105140686 s\n",
      "Starting kfold_cv at 10/07/22 16:04:00\n",
      "Finished kfold_cv at 1665173047.8034902. Execution time: 6.805635213851929 s\n",
      "Starting kfold_cv at 10/07/22 16:04:07\n",
      "Finished kfold_cv at 1665173056.563499. Execution time: 8.759685516357422 s\n",
      "Starting kfold_cv at 10/07/22 16:04:16\n",
      "Finished kfold_cv at 1665173067.1353765. Execution time: 10.571713209152222 s\n",
      "Starting kfold_cv at 10/07/22 16:04:27\n",
      "Finished kfold_cv at 1665173079.058203. Execution time: 11.922640800476074 s\n",
      "Starting kfold_cv at 10/07/22 16:04:39\n",
      "Finished kfold_cv at 1665173091.7713094. Execution time: 12.712786436080933 s\n",
      "k fold\n"
     ]
    }
   ],
   "source": [
    "yang_tweets, yang_2013_tweets_labels = load_yang_tweets(PROJ_PATH + \"/data/yang-2013/\")\n",
    "yang_tweets_scores = analyze_bot_repo_dataset(yang_tweets, yang_2013_tweets_labels)\n"
   ]
  },
  {
   "cell_type": "code",
   "execution_count": 1398,
   "id": "7d426186",
   "metadata": {},
   "outputs": [
    {
     "name": "stdout",
     "output_type": "stream",
     "text": [
      "Starting kfold_cv at 10/07/22 16:21:12\n",
      "Finished kfold_cv at 1665174076.9866495. Execution time: 4.7592926025390625 s\n",
      "Starting kfold_cv at 10/07/22 16:21:16\n",
      "Finished kfold_cv at 1665174083.8426266. Execution time: 6.85580039024353 s\n",
      "Starting kfold_cv at 10/07/22 16:21:23\n",
      "Finished kfold_cv at 1665174092.866968. Execution time: 9.024145603179932 s\n",
      "Starting kfold_cv at 10/07/22 16:21:32\n",
      "Finished kfold_cv at 1665174103.742617. Execution time: 10.875348567962646 s\n",
      "Starting kfold_cv at 10/07/22 16:21:43\n",
      "Finished kfold_cv at 1665174116.7194612. Execution time: 12.976686000823975 s\n",
      "Starting kfold_cv at 10/07/22 16:21:56\n",
      "Finished kfold_cv at 1665174121.999779. Execution time: 5.2799389362335205 s\n",
      "Starting kfold_cv at 10/07/22 16:22:01\n",
      "Finished kfold_cv at 1665174129.27283. Execution time: 7.272893667221069 s\n",
      "Starting kfold_cv at 10/07/22 16:22:09\n",
      "Finished kfold_cv at 1665174138.5737078. Execution time: 9.30068850517273 s\n",
      "Starting kfold_cv at 10/07/22 16:22:18\n",
      "Finished kfold_cv at 1665174149.8133955. Execution time: 11.239400148391724 s\n",
      "Starting kfold_cv at 10/07/22 16:22:29\n",
      "Finished kfold_cv at 1665174163.0883007. Execution time: 13.274720907211304 s\n",
      "k fold\n"
     ]
    }
   ],
   "source": [
    "pan_2019_df, pan19_labels = load_pan19(PROJ_PATH + \"/data/pan19/pan19-author-profiling-training-2019-02-18/en/{}.xml\", PROJ_PATH + \"/data/pan19/pan19-author-profiling-training-2019-02-18/en/truth.txt\")\n",
    "pan19_scores = analyze_bot_repo_dataset(pan_2019_df, pan19_labels)\n"
   ]
  },
  {
   "cell_type": "code",
   "execution_count": 1409,
   "id": "0c0d41ea",
   "metadata": {
    "scrolled": false
   },
   "outputs": [
    {
     "name": "stderr",
     "output_type": "stream",
     "text": [
      "/home/jhays/.local/lib/python3.6/site-packages/IPython/core/interactiveshell.py:3343: DtypeWarning: Columns (8,11) have mixed types.Specify dtype option on import or set low_memory=False.\n",
      "  exec(code_obj, self.user_global_ns, self.user_ns)\n",
      "/home/jhays/.local/lib/python3.6/site-packages/IPython/core/interactiveshell.py:3343: DtypeWarning: Columns (0) have mixed types.Specify dtype option on import or set low_memory=False.\n",
      "  exec(code_obj, self.user_global_ns, self.user_ns)\n",
      "/home/jhays/.local/lib/python3.6/site-packages/IPython/core/interactiveshell.py:3343: DtypeWarning: Columns (10) have mixed types.Specify dtype option on import or set low_memory=False.\n",
      "  exec(code_obj, self.user_global_ns, self.user_ns)\n",
      "/home/jhays/.local/lib/python3.6/site-packages/IPython/core/interactiveshell.py:3343: DtypeWarning: Columns (7,10) have mixed types.Specify dtype option on import or set low_memory=False.\n",
      "  exec(code_obj, self.user_global_ns, self.user_ns)\n"
     ]
    },
    {
     "name": "stdout",
     "output_type": "stream",
     "text": [
      "Starting kfold_cv at 10/07/22 16:35:05\n",
      "Finished kfold_cv at 1665174954.9184365. Execution time: 49.880038022994995 s\n",
      "Starting kfold_cv at 10/07/22 16:35:54\n",
      "Finished kfold_cv at 1665175032.371238. Execution time: 77.45242357254028 s\n",
      "Starting kfold_cv at 10/07/22 16:37:12\n",
      "Finished kfold_cv at 1665175135.9345758. Execution time: 103.56292271614075 s\n",
      "Starting kfold_cv at 10/07/22 16:38:55\n",
      "Finished kfold_cv at 1665175265.210303. Execution time: 129.27523255348206 s\n",
      "Starting kfold_cv at 10/07/22 16:41:05\n",
      "Finished kfold_cv at 1665175420.479958. Execution time: 155.26917791366577 s\n",
      "Starting kfold_cv at 10/07/22 16:43:40\n",
      "Finished kfold_cv at 1665175437.6873846. Execution time: 17.206937313079834 s\n",
      "Starting kfold_cv at 10/07/22 16:43:57\n",
      "Finished kfold_cv at 1665175460.7004974. Execution time: 23.012733459472656 s\n",
      "Starting kfold_cv at 10/07/22 16:44:20\n",
      "Finished kfold_cv at 1665175489.14071. Execution time: 28.43999147415161 s\n",
      "Starting kfold_cv at 10/07/22 16:44:49\n",
      "Finished kfold_cv at 1665175520.058634. Execution time: 30.917494297027588 s\n",
      "Starting kfold_cv at 10/07/22 16:45:20\n",
      "Finished kfold_cv at 1665175553.359957. Execution time: 33.3009307384491 s\n"
     ]
    }
   ],
   "source": [
    "cresci_2017_tweets, cresci_2017_tweets_labels = load_cresci2017_tweets(PROJ_PATH + \"/data/cresci-2017/{}.csv/tweets.csv\")\n",
    "cresci_2017_tweets_scores = analyze_bot_repo_dataset(cresci_2017_tweets, cresci_2017_tweets_labels, silent=True)\n"
   ]
  },
  {
   "cell_type": "code",
   "execution_count": 1411,
   "id": "06644ae1",
   "metadata": {
    "scrolled": true
   },
   "outputs": [
    {
     "name": "stdout",
     "output_type": "stream",
     "text": [
      "Starting kfold_cv at 10/07/22 16:50:08\n",
      "Finished kfold_cv at 1665175831.7089179. Execution time: 22.854049682617188 s\n",
      "Starting kfold_cv at 10/07/22 16:50:31\n",
      "Finished kfold_cv at 1665175865.8004606. Execution time: 34.09115934371948 s\n",
      "Starting kfold_cv at 10/07/22 16:51:05\n",
      "Finished kfold_cv at 1665175907.0361679. Execution time: 41.23519229888916 s\n",
      "Starting kfold_cv at 10/07/22 16:51:47\n",
      "Finished kfold_cv at 1665175951.9683146. Execution time: 44.931644439697266 s\n",
      "Starting kfold_cv at 10/07/22 16:52:31\n",
      "Finished kfold_cv at 1665176005.8308055. Execution time: 53.86196565628052 s\n",
      "Starting kfold_cv at 10/07/22 16:53:25\n"
     ]
    },
    {
     "ename": "IndexError",
     "evalue": "Boolean index has wrong length: 5301 instead of 5148",
     "output_type": "error",
     "traceback": [
      "\u001b[0;31m---------------------------------------------------------------------------\u001b[0m",
      "\u001b[0;31mIndexError\u001b[0m                                Traceback (most recent call last)",
      "\u001b[0;32m<ipython-input-1411-60319a069c9e>\u001b[0m in \u001b[0;36m<module>\u001b[0;34m\u001b[0m\n\u001b[1;32m      1\u001b[0m \u001b[0mcresci_2015_tweets\u001b[0m\u001b[0;34m,\u001b[0m \u001b[0mcresci_2015_tweets_labels\u001b[0m \u001b[0;34m=\u001b[0m \u001b[0mload_cresci2015_tweets\u001b[0m\u001b[0;34m(\u001b[0m\u001b[0mPROJ_PATH\u001b[0m \u001b[0;34m+\u001b[0m \u001b[0;34m\"/data/cresci-2015/{}/tweets.csv\"\u001b[0m\u001b[0;34m)\u001b[0m\u001b[0;34m\u001b[0m\u001b[0;34m\u001b[0m\u001b[0m\n\u001b[0;32m----> 2\u001b[0;31m \u001b[0mcresci_2015_tweets_scores\u001b[0m \u001b[0;34m=\u001b[0m \u001b[0manalyze_bot_repo_dataset\u001b[0m\u001b[0;34m(\u001b[0m\u001b[0mcresci_2015_tweets\u001b[0m\u001b[0;34m,\u001b[0m \u001b[0mcresci2015_labels\u001b[0m\u001b[0;34m)\u001b[0m\u001b[0;34m\u001b[0m\u001b[0;34m\u001b[0m\u001b[0m\n\u001b[0m",
      "\u001b[0;32m~/bot-detection/fit_and_score.py\u001b[0m in \u001b[0;36manalyze_bot_repo_dataset\u001b[0;34m(one_hot, labels, k, silent, kfold)\u001b[0m\n\u001b[1;32m    227\u001b[0m     \u001b[0;32mif\u001b[0m \u001b[0mkfold\u001b[0m\u001b[0;34m:\u001b[0m\u001b[0;34m\u001b[0m\u001b[0;34m\u001b[0m\u001b[0m\n\u001b[1;32m    228\u001b[0m         \u001b[0munbalanced_scores\u001b[0m \u001b[0;34m=\u001b[0m \u001b[0;34m[\u001b[0m\u001b[0mkfold_cv\u001b[0m\u001b[0;34m(\u001b[0m\u001b[0mone_hot\u001b[0m\u001b[0;34m,\u001b[0m \u001b[0mpd\u001b[0m\u001b[0;34m.\u001b[0m\u001b[0mSeries\u001b[0m\u001b[0;34m(\u001b[0m\u001b[0mlabels\u001b[0m\u001b[0;34m)\u001b[0m\u001b[0;34m,\u001b[0m \u001b[0mdepth\u001b[0m\u001b[0;34m=\u001b[0m\u001b[0mi\u001b[0m\u001b[0;34m,\u001b[0m \u001b[0mk\u001b[0m\u001b[0;34m=\u001b[0m\u001b[0mk\u001b[0m\u001b[0;34m,\u001b[0m \u001b[0mbalance\u001b[0m\u001b[0;34m=\u001b[0m\u001b[0;32mFalse\u001b[0m\u001b[0;34m)\u001b[0m \u001b[0;32mfor\u001b[0m \u001b[0mi\u001b[0m \u001b[0;32min\u001b[0m \u001b[0mrange\u001b[0m\u001b[0;34m(\u001b[0m\u001b[0;36m1\u001b[0m\u001b[0;34m,\u001b[0m\u001b[0;36m6\u001b[0m\u001b[0;34m)\u001b[0m\u001b[0;34m]\u001b[0m\u001b[0;34m\u001b[0m\u001b[0;34m\u001b[0m\u001b[0m\n\u001b[0;32m--> 229\u001b[0;31m         \u001b[0mbalanced_scores\u001b[0m \u001b[0;34m=\u001b[0m \u001b[0;34m[\u001b[0m\u001b[0mkfold_cv\u001b[0m\u001b[0;34m(\u001b[0m\u001b[0mone_hot\u001b[0m\u001b[0;34m,\u001b[0m \u001b[0mpd\u001b[0m\u001b[0;34m.\u001b[0m\u001b[0mSeries\u001b[0m\u001b[0;34m(\u001b[0m\u001b[0mlabels\u001b[0m\u001b[0;34m)\u001b[0m\u001b[0;34m,\u001b[0m \u001b[0mdepth\u001b[0m\u001b[0;34m=\u001b[0m\u001b[0mi\u001b[0m\u001b[0;34m,\u001b[0m \u001b[0mk\u001b[0m\u001b[0;34m=\u001b[0m\u001b[0mk\u001b[0m\u001b[0;34m,\u001b[0m \u001b[0mbalance\u001b[0m\u001b[0;34m=\u001b[0m\u001b[0;32mTrue\u001b[0m\u001b[0;34m)\u001b[0m \u001b[0;32mfor\u001b[0m \u001b[0mi\u001b[0m \u001b[0;32min\u001b[0m \u001b[0mrange\u001b[0m\u001b[0;34m(\u001b[0m\u001b[0;36m1\u001b[0m\u001b[0;34m,\u001b[0m\u001b[0;36m6\u001b[0m\u001b[0;34m)\u001b[0m\u001b[0;34m]\u001b[0m\u001b[0;34m\u001b[0m\u001b[0;34m\u001b[0m\u001b[0m\n\u001b[0m\u001b[1;32m    230\u001b[0m         \u001b[0mscores\u001b[0m \u001b[0;34m=\u001b[0m \u001b[0;34m[\u001b[0m\u001b[0;34m[\u001b[0m\u001b[0mu\u001b[0m\u001b[0;34m[\u001b[0m\u001b[0;36m0\u001b[0m\u001b[0;34m]\u001b[0m\u001b[0;34m,\u001b[0m \u001b[0mu\u001b[0m\u001b[0;34m[\u001b[0m\u001b[0;36m1\u001b[0m\u001b[0;34m]\u001b[0m\u001b[0;34m,\u001b[0m \u001b[0mu\u001b[0m\u001b[0;34m[\u001b[0m\u001b[0;36m2\u001b[0m\u001b[0;34m]\u001b[0m\u001b[0;34m,\u001b[0m \u001b[0mu\u001b[0m\u001b[0;34m[\u001b[0m\u001b[0;36m3\u001b[0m\u001b[0;34m]\u001b[0m\u001b[0;34m,\u001b[0m \u001b[0mb\u001b[0m\u001b[0;34m[\u001b[0m\u001b[0;36m0\u001b[0m\u001b[0;34m]\u001b[0m\u001b[0;34m]\u001b[0m \u001b[0;32mfor\u001b[0m \u001b[0mu\u001b[0m\u001b[0;34m,\u001b[0m \u001b[0mb\u001b[0m \u001b[0;32min\u001b[0m \u001b[0mzip\u001b[0m\u001b[0;34m(\u001b[0m\u001b[0munbalanced_scores\u001b[0m\u001b[0;34m,\u001b[0m \u001b[0mbalanced_scores\u001b[0m\u001b[0;34m)\u001b[0m\u001b[0;34m]\u001b[0m\u001b[0;34m\u001b[0m\u001b[0;34m\u001b[0m\u001b[0m\n\u001b[1;32m    231\u001b[0m         \u001b[0;32mreturn\u001b[0m \u001b[0mscores\u001b[0m\u001b[0;34m\u001b[0m\u001b[0;34m\u001b[0m\u001b[0m\n",
      "\u001b[0;32m~/bot-detection/fit_and_score.py\u001b[0m in \u001b[0;36m<listcomp>\u001b[0;34m(.0)\u001b[0m\n\u001b[1;32m    227\u001b[0m     \u001b[0;32mif\u001b[0m \u001b[0mkfold\u001b[0m\u001b[0;34m:\u001b[0m\u001b[0;34m\u001b[0m\u001b[0;34m\u001b[0m\u001b[0m\n\u001b[1;32m    228\u001b[0m         \u001b[0munbalanced_scores\u001b[0m \u001b[0;34m=\u001b[0m \u001b[0;34m[\u001b[0m\u001b[0mkfold_cv\u001b[0m\u001b[0;34m(\u001b[0m\u001b[0mone_hot\u001b[0m\u001b[0;34m,\u001b[0m \u001b[0mpd\u001b[0m\u001b[0;34m.\u001b[0m\u001b[0mSeries\u001b[0m\u001b[0;34m(\u001b[0m\u001b[0mlabels\u001b[0m\u001b[0;34m)\u001b[0m\u001b[0;34m,\u001b[0m \u001b[0mdepth\u001b[0m\u001b[0;34m=\u001b[0m\u001b[0mi\u001b[0m\u001b[0;34m,\u001b[0m \u001b[0mk\u001b[0m\u001b[0;34m=\u001b[0m\u001b[0mk\u001b[0m\u001b[0;34m,\u001b[0m \u001b[0mbalance\u001b[0m\u001b[0;34m=\u001b[0m\u001b[0;32mFalse\u001b[0m\u001b[0;34m)\u001b[0m \u001b[0;32mfor\u001b[0m \u001b[0mi\u001b[0m \u001b[0;32min\u001b[0m \u001b[0mrange\u001b[0m\u001b[0;34m(\u001b[0m\u001b[0;36m1\u001b[0m\u001b[0;34m,\u001b[0m\u001b[0;36m6\u001b[0m\u001b[0;34m)\u001b[0m\u001b[0;34m]\u001b[0m\u001b[0;34m\u001b[0m\u001b[0;34m\u001b[0m\u001b[0m\n\u001b[0;32m--> 229\u001b[0;31m         \u001b[0mbalanced_scores\u001b[0m \u001b[0;34m=\u001b[0m \u001b[0;34m[\u001b[0m\u001b[0mkfold_cv\u001b[0m\u001b[0;34m(\u001b[0m\u001b[0mone_hot\u001b[0m\u001b[0;34m,\u001b[0m \u001b[0mpd\u001b[0m\u001b[0;34m.\u001b[0m\u001b[0mSeries\u001b[0m\u001b[0;34m(\u001b[0m\u001b[0mlabels\u001b[0m\u001b[0;34m)\u001b[0m\u001b[0;34m,\u001b[0m \u001b[0mdepth\u001b[0m\u001b[0;34m=\u001b[0m\u001b[0mi\u001b[0m\u001b[0;34m,\u001b[0m \u001b[0mk\u001b[0m\u001b[0;34m=\u001b[0m\u001b[0mk\u001b[0m\u001b[0;34m,\u001b[0m \u001b[0mbalance\u001b[0m\u001b[0;34m=\u001b[0m\u001b[0;32mTrue\u001b[0m\u001b[0;34m)\u001b[0m \u001b[0;32mfor\u001b[0m \u001b[0mi\u001b[0m \u001b[0;32min\u001b[0m \u001b[0mrange\u001b[0m\u001b[0;34m(\u001b[0m\u001b[0;36m1\u001b[0m\u001b[0;34m,\u001b[0m\u001b[0;36m6\u001b[0m\u001b[0;34m)\u001b[0m\u001b[0;34m]\u001b[0m\u001b[0;34m\u001b[0m\u001b[0;34m\u001b[0m\u001b[0m\n\u001b[0m\u001b[1;32m    230\u001b[0m         \u001b[0mscores\u001b[0m \u001b[0;34m=\u001b[0m \u001b[0;34m[\u001b[0m\u001b[0;34m[\u001b[0m\u001b[0mu\u001b[0m\u001b[0;34m[\u001b[0m\u001b[0;36m0\u001b[0m\u001b[0;34m]\u001b[0m\u001b[0;34m,\u001b[0m \u001b[0mu\u001b[0m\u001b[0;34m[\u001b[0m\u001b[0;36m1\u001b[0m\u001b[0;34m]\u001b[0m\u001b[0;34m,\u001b[0m \u001b[0mu\u001b[0m\u001b[0;34m[\u001b[0m\u001b[0;36m2\u001b[0m\u001b[0;34m]\u001b[0m\u001b[0;34m,\u001b[0m \u001b[0mu\u001b[0m\u001b[0;34m[\u001b[0m\u001b[0;36m3\u001b[0m\u001b[0;34m]\u001b[0m\u001b[0;34m,\u001b[0m \u001b[0mb\u001b[0m\u001b[0;34m[\u001b[0m\u001b[0;36m0\u001b[0m\u001b[0;34m]\u001b[0m\u001b[0;34m]\u001b[0m \u001b[0;32mfor\u001b[0m \u001b[0mu\u001b[0m\u001b[0;34m,\u001b[0m \u001b[0mb\u001b[0m \u001b[0;32min\u001b[0m \u001b[0mzip\u001b[0m\u001b[0;34m(\u001b[0m\u001b[0munbalanced_scores\u001b[0m\u001b[0;34m,\u001b[0m \u001b[0mbalanced_scores\u001b[0m\u001b[0;34m)\u001b[0m\u001b[0;34m]\u001b[0m\u001b[0;34m\u001b[0m\u001b[0;34m\u001b[0m\u001b[0m\n\u001b[1;32m    231\u001b[0m         \u001b[0;32mreturn\u001b[0m \u001b[0mscores\u001b[0m\u001b[0;34m\u001b[0m\u001b[0;34m\u001b[0m\u001b[0m\n",
      "\u001b[0;32m~/bot-detection/fit_and_score.py\u001b[0m in \u001b[0;36mwrapper\u001b[0;34m(*args, **kwargs)\u001b[0m\n\u001b[1;32m     22\u001b[0m             \u001b[0mstart_time\u001b[0m \u001b[0;34m=\u001b[0m \u001b[0mtime\u001b[0m\u001b[0;34m.\u001b[0m\u001b[0mtime\u001b[0m\u001b[0;34m(\u001b[0m\u001b[0;34m)\u001b[0m\u001b[0;34m\u001b[0m\u001b[0;34m\u001b[0m\u001b[0m\n\u001b[1;32m     23\u001b[0m             \u001b[0mprint\u001b[0m\u001b[0;34m(\u001b[0m\u001b[0;34mf\"Starting {func.__name__} at {time.strftime('%D %H:%M:%S')}\"\u001b[0m\u001b[0;34m)\u001b[0m\u001b[0;34m\u001b[0m\u001b[0;34m\u001b[0m\u001b[0m\n\u001b[0;32m---> 24\u001b[0;31m         \u001b[0mresult\u001b[0m \u001b[0;34m=\u001b[0m \u001b[0mfunc\u001b[0m\u001b[0;34m(\u001b[0m\u001b[0;34m*\u001b[0m\u001b[0margs\u001b[0m\u001b[0;34m,\u001b[0m \u001b[0;34m**\u001b[0m\u001b[0mkwargs\u001b[0m\u001b[0;34m)\u001b[0m\u001b[0;34m\u001b[0m\u001b[0;34m\u001b[0m\u001b[0m\n\u001b[0m\u001b[1;32m     25\u001b[0m         \u001b[0;32mif\u001b[0m \u001b[0;34m'silent'\u001b[0m \u001b[0;32mnot\u001b[0m \u001b[0;32min\u001b[0m \u001b[0mkwargs\u001b[0m \u001b[0;32mor\u001b[0m \u001b[0;32mnot\u001b[0m \u001b[0mkwargs\u001b[0m\u001b[0;34m[\u001b[0m\u001b[0;34m'silent'\u001b[0m\u001b[0;34m]\u001b[0m\u001b[0;34m:\u001b[0m\u001b[0;34m\u001b[0m\u001b[0;34m\u001b[0m\u001b[0m\n\u001b[1;32m     26\u001b[0m             \u001b[0mend_time\u001b[0m \u001b[0;34m=\u001b[0m \u001b[0mtime\u001b[0m\u001b[0;34m.\u001b[0m\u001b[0mtime\u001b[0m\u001b[0;34m(\u001b[0m\u001b[0;34m)\u001b[0m\u001b[0;34m\u001b[0m\u001b[0;34m\u001b[0m\u001b[0m\n",
      "\u001b[0;32m~/bot-detection/fit_and_score.py\u001b[0m in \u001b[0;36mkfold_cv\u001b[0;34m(X, y, method, depth, k, calibrate, silent, balance)\u001b[0m\n\u001b[1;32m     84\u001b[0m     \u001b[0mscores\u001b[0m \u001b[0;34m=\u001b[0m \u001b[0;34m[\u001b[0m\u001b[0;34m]\u001b[0m\u001b[0;34m\u001b[0m\u001b[0;34m\u001b[0m\u001b[0m\n\u001b[1;32m     85\u001b[0m     \u001b[0;32mif\u001b[0m \u001b[0mbalance\u001b[0m\u001b[0;34m:\u001b[0m\u001b[0;34m\u001b[0m\u001b[0;34m\u001b[0m\u001b[0m\n\u001b[0;32m---> 86\u001b[0;31m         \u001b[0mhumans\u001b[0m \u001b[0;34m=\u001b[0m \u001b[0mX\u001b[0m\u001b[0;34m.\u001b[0m\u001b[0mloc\u001b[0m\u001b[0;34m[\u001b[0m\u001b[0;34m(\u001b[0m\u001b[0my\u001b[0m \u001b[0;34m==\u001b[0m \u001b[0;36m0\u001b[0m\u001b[0;34m)\u001b[0m\u001b[0;34m.\u001b[0m\u001b[0mvalues\u001b[0m\u001b[0;34m]\u001b[0m\u001b[0;34m\u001b[0m\u001b[0;34m\u001b[0m\u001b[0m\n\u001b[0m\u001b[1;32m     87\u001b[0m         \u001b[0mbots\u001b[0m \u001b[0;34m=\u001b[0m \u001b[0mX\u001b[0m\u001b[0;34m.\u001b[0m\u001b[0mloc\u001b[0m\u001b[0;34m[\u001b[0m\u001b[0;34m(\u001b[0m\u001b[0my\u001b[0m \u001b[0;34m==\u001b[0m \u001b[0;36m1\u001b[0m\u001b[0;34m)\u001b[0m\u001b[0;34m.\u001b[0m\u001b[0mvalues\u001b[0m\u001b[0;34m]\u001b[0m\u001b[0;34m\u001b[0m\u001b[0;34m\u001b[0m\u001b[0m\n\u001b[1;32m     88\u001b[0m         \u001b[0mn_accts\u001b[0m \u001b[0;34m=\u001b[0m \u001b[0mmin\u001b[0m\u001b[0;34m(\u001b[0m\u001b[0mlen\u001b[0m\u001b[0;34m(\u001b[0m\u001b[0mhumans\u001b[0m\u001b[0;34m)\u001b[0m\u001b[0;34m,\u001b[0m \u001b[0mlen\u001b[0m\u001b[0;34m(\u001b[0m\u001b[0mbots\u001b[0m\u001b[0;34m)\u001b[0m\u001b[0;34m)\u001b[0m\u001b[0;34m\u001b[0m\u001b[0;34m\u001b[0m\u001b[0m\n",
      "\u001b[0;32m~/.local/lib/python3.6/site-packages/pandas/core/indexing.py\u001b[0m in \u001b[0;36m__getitem__\u001b[0;34m(self, key)\u001b[0m\n\u001b[1;32m    877\u001b[0m \u001b[0;34m\u001b[0m\u001b[0m\n\u001b[1;32m    878\u001b[0m             \u001b[0mmaybe_callable\u001b[0m \u001b[0;34m=\u001b[0m \u001b[0mcom\u001b[0m\u001b[0;34m.\u001b[0m\u001b[0mapply_if_callable\u001b[0m\u001b[0;34m(\u001b[0m\u001b[0mkey\u001b[0m\u001b[0;34m,\u001b[0m \u001b[0mself\u001b[0m\u001b[0;34m.\u001b[0m\u001b[0mobj\u001b[0m\u001b[0;34m)\u001b[0m\u001b[0;34m\u001b[0m\u001b[0;34m\u001b[0m\u001b[0m\n\u001b[0;32m--> 879\u001b[0;31m             \u001b[0;32mreturn\u001b[0m \u001b[0mself\u001b[0m\u001b[0;34m.\u001b[0m\u001b[0m_getitem_axis\u001b[0m\u001b[0;34m(\u001b[0m\u001b[0mmaybe_callable\u001b[0m\u001b[0;34m,\u001b[0m \u001b[0maxis\u001b[0m\u001b[0;34m=\u001b[0m\u001b[0maxis\u001b[0m\u001b[0;34m)\u001b[0m\u001b[0;34m\u001b[0m\u001b[0;34m\u001b[0m\u001b[0m\n\u001b[0m\u001b[1;32m    880\u001b[0m \u001b[0;34m\u001b[0m\u001b[0m\n\u001b[1;32m    881\u001b[0m     \u001b[0;32mdef\u001b[0m \u001b[0m_is_scalar_access\u001b[0m\u001b[0;34m(\u001b[0m\u001b[0mself\u001b[0m\u001b[0;34m,\u001b[0m \u001b[0mkey\u001b[0m\u001b[0;34m:\u001b[0m \u001b[0mTuple\u001b[0m\u001b[0;34m)\u001b[0m\u001b[0;34m:\u001b[0m\u001b[0;34m\u001b[0m\u001b[0;34m\u001b[0m\u001b[0m\n",
      "\u001b[0;32m~/.local/lib/python3.6/site-packages/pandas/core/indexing.py\u001b[0m in \u001b[0;36m_getitem_axis\u001b[0;34m(self, key, axis)\u001b[0m\n\u001b[1;32m   1088\u001b[0m             \u001b[0;32mreturn\u001b[0m \u001b[0mself\u001b[0m\u001b[0;34m.\u001b[0m\u001b[0m_get_slice_axis\u001b[0m\u001b[0;34m(\u001b[0m\u001b[0mkey\u001b[0m\u001b[0;34m,\u001b[0m \u001b[0maxis\u001b[0m\u001b[0;34m=\u001b[0m\u001b[0maxis\u001b[0m\u001b[0;34m)\u001b[0m\u001b[0;34m\u001b[0m\u001b[0;34m\u001b[0m\u001b[0m\n\u001b[1;32m   1089\u001b[0m         \u001b[0;32melif\u001b[0m \u001b[0mcom\u001b[0m\u001b[0;34m.\u001b[0m\u001b[0mis_bool_indexer\u001b[0m\u001b[0;34m(\u001b[0m\u001b[0mkey\u001b[0m\u001b[0;34m)\u001b[0m\u001b[0;34m:\u001b[0m\u001b[0;34m\u001b[0m\u001b[0;34m\u001b[0m\u001b[0m\n\u001b[0;32m-> 1090\u001b[0;31m             \u001b[0;32mreturn\u001b[0m \u001b[0mself\u001b[0m\u001b[0;34m.\u001b[0m\u001b[0m_getbool_axis\u001b[0m\u001b[0;34m(\u001b[0m\u001b[0mkey\u001b[0m\u001b[0;34m,\u001b[0m \u001b[0maxis\u001b[0m\u001b[0;34m=\u001b[0m\u001b[0maxis\u001b[0m\u001b[0;34m)\u001b[0m\u001b[0;34m\u001b[0m\u001b[0;34m\u001b[0m\u001b[0m\n\u001b[0m\u001b[1;32m   1091\u001b[0m         \u001b[0;32melif\u001b[0m \u001b[0mis_list_like_indexer\u001b[0m\u001b[0;34m(\u001b[0m\u001b[0mkey\u001b[0m\u001b[0;34m)\u001b[0m\u001b[0;34m:\u001b[0m\u001b[0;34m\u001b[0m\u001b[0;34m\u001b[0m\u001b[0m\n\u001b[1;32m   1092\u001b[0m \u001b[0;34m\u001b[0m\u001b[0m\n",
      "\u001b[0;32m~/.local/lib/python3.6/site-packages/pandas/core/indexing.py\u001b[0m in \u001b[0;36m_getbool_axis\u001b[0;34m(self, key, axis)\u001b[0m\n\u001b[1;32m    894\u001b[0m         \u001b[0;31m# caller is responsible for ensuring non-None axis\u001b[0m\u001b[0;34m\u001b[0m\u001b[0;34m\u001b[0m\u001b[0;34m\u001b[0m\u001b[0m\n\u001b[1;32m    895\u001b[0m         \u001b[0mlabels\u001b[0m \u001b[0;34m=\u001b[0m \u001b[0mself\u001b[0m\u001b[0;34m.\u001b[0m\u001b[0mobj\u001b[0m\u001b[0;34m.\u001b[0m\u001b[0m_get_axis\u001b[0m\u001b[0;34m(\u001b[0m\u001b[0maxis\u001b[0m\u001b[0;34m)\u001b[0m\u001b[0;34m\u001b[0m\u001b[0;34m\u001b[0m\u001b[0m\n\u001b[0;32m--> 896\u001b[0;31m         \u001b[0mkey\u001b[0m \u001b[0;34m=\u001b[0m \u001b[0mcheck_bool_indexer\u001b[0m\u001b[0;34m(\u001b[0m\u001b[0mlabels\u001b[0m\u001b[0;34m,\u001b[0m \u001b[0mkey\u001b[0m\u001b[0;34m)\u001b[0m\u001b[0;34m\u001b[0m\u001b[0;34m\u001b[0m\u001b[0m\n\u001b[0m\u001b[1;32m    897\u001b[0m         \u001b[0minds\u001b[0m \u001b[0;34m=\u001b[0m \u001b[0mkey\u001b[0m\u001b[0;34m.\u001b[0m\u001b[0mnonzero\u001b[0m\u001b[0;34m(\u001b[0m\u001b[0;34m)\u001b[0m\u001b[0;34m[\u001b[0m\u001b[0;36m0\u001b[0m\u001b[0;34m]\u001b[0m\u001b[0;34m\u001b[0m\u001b[0;34m\u001b[0m\u001b[0m\n\u001b[1;32m    898\u001b[0m         \u001b[0;32mreturn\u001b[0m \u001b[0mself\u001b[0m\u001b[0;34m.\u001b[0m\u001b[0mobj\u001b[0m\u001b[0;34m.\u001b[0m\u001b[0m_take_with_is_copy\u001b[0m\u001b[0;34m(\u001b[0m\u001b[0minds\u001b[0m\u001b[0;34m,\u001b[0m \u001b[0maxis\u001b[0m\u001b[0;34m=\u001b[0m\u001b[0maxis\u001b[0m\u001b[0;34m)\u001b[0m\u001b[0;34m\u001b[0m\u001b[0;34m\u001b[0m\u001b[0m\n",
      "\u001b[0;32m~/.local/lib/python3.6/site-packages/pandas/core/indexing.py\u001b[0m in \u001b[0;36mcheck_bool_indexer\u001b[0;34m(index, key)\u001b[0m\n\u001b[1;32m   2193\u001b[0m         \u001b[0;31m# key may contain nan elements, check_array_indexer needs bool array\u001b[0m\u001b[0;34m\u001b[0m\u001b[0;34m\u001b[0m\u001b[0;34m\u001b[0m\u001b[0m\n\u001b[1;32m   2194\u001b[0m         \u001b[0mresult\u001b[0m \u001b[0;34m=\u001b[0m \u001b[0mpd_array\u001b[0m\u001b[0;34m(\u001b[0m\u001b[0mresult\u001b[0m\u001b[0;34m,\u001b[0m \u001b[0mdtype\u001b[0m\u001b[0;34m=\u001b[0m\u001b[0mbool\u001b[0m\u001b[0;34m)\u001b[0m\u001b[0;34m\u001b[0m\u001b[0;34m\u001b[0m\u001b[0m\n\u001b[0;32m-> 2195\u001b[0;31m     \u001b[0;32mreturn\u001b[0m \u001b[0mcheck_array_indexer\u001b[0m\u001b[0;34m(\u001b[0m\u001b[0mindex\u001b[0m\u001b[0;34m,\u001b[0m \u001b[0mresult\u001b[0m\u001b[0;34m)\u001b[0m\u001b[0;34m\u001b[0m\u001b[0;34m\u001b[0m\u001b[0m\n\u001b[0m\u001b[1;32m   2196\u001b[0m \u001b[0;34m\u001b[0m\u001b[0m\n\u001b[1;32m   2197\u001b[0m \u001b[0;34m\u001b[0m\u001b[0m\n",
      "\u001b[0;32m~/.local/lib/python3.6/site-packages/pandas/core/indexers.py\u001b[0m in \u001b[0;36mcheck_array_indexer\u001b[0;34m(array, indexer)\u001b[0m\n\u001b[1;32m    469\u001b[0m         \u001b[0;32mif\u001b[0m \u001b[0mlen\u001b[0m\u001b[0;34m(\u001b[0m\u001b[0mindexer\u001b[0m\u001b[0;34m)\u001b[0m \u001b[0;34m!=\u001b[0m \u001b[0mlen\u001b[0m\u001b[0;34m(\u001b[0m\u001b[0marray\u001b[0m\u001b[0;34m)\u001b[0m\u001b[0;34m:\u001b[0m\u001b[0;34m\u001b[0m\u001b[0;34m\u001b[0m\u001b[0m\n\u001b[1;32m    470\u001b[0m             raise IndexError(\n\u001b[0;32m--> 471\u001b[0;31m                 \u001b[0;34mf\"Boolean index has wrong length: \"\u001b[0m\u001b[0;34m\u001b[0m\u001b[0;34m\u001b[0m\u001b[0m\n\u001b[0m\u001b[1;32m    472\u001b[0m                 \u001b[0;34mf\"{len(indexer)} instead of {len(array)}\"\u001b[0m\u001b[0;34m\u001b[0m\u001b[0;34m\u001b[0m\u001b[0m\n\u001b[1;32m    473\u001b[0m             )\n",
      "\u001b[0;31mIndexError\u001b[0m: Boolean index has wrong length: 5301 instead of 5148"
     ]
    }
   ],
   "source": [
    "cresci_2015_tweets, cresci_2015_tweets_labels = load_cresci2015_tweets(PROJ_PATH + \"/data/cresci-2015/{}/tweets.csv\")\n",
    "cresci_2015_tweets_scores = analyze_bot_repo_dataset(cresci_2015_tweets, cresci2015_labels)\n"
   ]
  },
  {
   "cell_type": "code",
   "execution_count": null,
   "id": "f7ae50a3",
   "metadata": {
    "scrolled": true
   },
   "outputs": [],
   "source": [
    "cresci_stock_2018_tweets, cresci_stock_2018_tweets_labels = load_cresci_stock_2018_tweets(PROJ_PATH + \"/data/cresci-stock-2018_tweets.json\", PROJ_PATH + \"/data/cresci-stock-2018.tsv\", PROJ_PATH + \"/data/golbeck/tweets/{}_tweets.csv\")\n",
    "cresci_stock_2018_tweets_scores = analyze_bot_repo_dataset(cresci_stock_2018_tweets, cresci_stock_2018_tweets_labels)\n"
   ]
  },
  {
   "cell_type": "code",
   "execution_count": null,
   "id": "8bd764ac",
   "metadata": {},
   "outputs": [],
   "source": [
    "scores = {\n",
    "    'twibot-2020': twibot_scores, \n",
    "    'botometer-feedback-2019': botometer_feedback_scores, \n",
    "    'cresci-rtbust-2019': rtbust_scores, \n",
    "    'gilani-2017': gilani_derived_scores_avg, \n",
    "    'cresci-2017': cresci2017_scores, \n",
    "    'cresci-2015': cresci2015_scores, \n",
    "    'caverlee-2011': caverlee_2011_scores,\n",
    "    'midterm-2018': midterm_scores, \n",
    "    'yang-2013': yang_scores,\n",
    "    'cresci-stock-2018': cresci_stock_scores,\n",
    "    'pan-2019': pan19_scores\n",
    "}\n",
    "\n",
    "rows = []\n",
    "\n",
    "for name, scr in scores.items():\n",
    "    row = {'name': name}\n",
    "    for i, (a,p,r,f,ba) in enumerate(scr):\n",
    "        row.update({\n",
    "            f'a{i+1}': a,\n",
    "            f'p{i+1}': p,\n",
    "            f'r{i+1}': r,\n",
    "            f'f{i+1}': f,\n",
    "            f'ba{i+1}': ba\n",
    "        })\n",
    "    rows.append(row)\n",
    "scores_df = pd.DataFrame(rows)\n",
    "scores_df.to_csv(\"scores.csv\", index=False)"
   ]
  },
  {
   "cell_type": "markdown",
   "id": "d872a6df",
   "metadata": {},
   "source": [
    "# Train on one, test on another"
   ]
  },
  {
   "cell_type": "code",
   "execution_count": 526,
   "id": "b84d8604",
   "metadata": {},
   "outputs": [],
   "source": [
    "datasets = [twibot_2020_one_hot, botometer_feedback_2019_one_hot, cresci_rtbust_2019_one_hot, gilani_2017_one_hot, cresci_2017_one_hot, cresci_2015_one_hot, cresci_stock_2018_one_hot, yang_2013_one_hot]\n",
    "labels = [twibot_labels, bf_labels, rtbust_labels, gilani_labels, cresci2017_labels, cresci2015_labels, cresci_stock_labels, yang_labels]\n"
   ]
  },
  {
   "cell_type": "code",
   "execution_count": null,
   "id": "c7577fd0",
   "metadata": {},
   "outputs": [
    {
     "name": "stderr",
     "output_type": "stream",
     "text": [
      "/home/jhays/.local/lib/python3.6/site-packages/sklearn/metrics/_classification.py:1248: UndefinedMetricWarning: Precision is ill-defined and being set to 0.0 due to no predicted samples. Use `zero_division` parameter to control this behavior.\n",
      "  _warn_prf(average, modifier, msg_start, len(result))\n",
      "/home/jhays/.local/lib/python3.6/site-packages/sklearn/metrics/_classification.py:1248: UndefinedMetricWarning: Precision is ill-defined and being set to 0.0 due to no predicted samples. Use `zero_division` parameter to control this behavior.\n",
      "  _warn_prf(average, modifier, msg_start, len(result))\n",
      "/home/jhays/.local/lib/python3.6/site-packages/sklearn/metrics/_classification.py:1248: UndefinedMetricWarning: Precision is ill-defined and being set to 0.0 due to no predicted samples. Use `zero_division` parameter to control this behavior.\n",
      "  _warn_prf(average, modifier, msg_start, len(result))\n",
      "/home/jhays/.local/lib/python3.6/site-packages/sklearn/metrics/_classification.py:1248: UndefinedMetricWarning: Precision is ill-defined and being set to 0.0 due to no predicted samples. Use `zero_division` parameter to control this behavior.\n",
      "  _warn_prf(average, modifier, msg_start, len(result))\n",
      "/home/jhays/.local/lib/python3.6/site-packages/sklearn/metrics/_classification.py:1248: UndefinedMetricWarning: Precision is ill-defined and being set to 0.0 due to no predicted samples. Use `zero_division` parameter to control this behavior.\n",
      "  _warn_prf(average, modifier, msg_start, len(result))\n",
      "/home/jhays/.local/lib/python3.6/site-packages/sklearn/metrics/_classification.py:1248: UndefinedMetricWarning: Precision is ill-defined and being set to 0.0 due to no predicted samples. Use `zero_division` parameter to control this behavior.\n",
      "  _warn_prf(average, modifier, msg_start, len(result))\n",
      "/home/jhays/.local/lib/python3.6/site-packages/sklearn/metrics/_classification.py:1248: UndefinedMetricWarning: Precision is ill-defined and being set to 0.0 due to no predicted samples. Use `zero_division` parameter to control this behavior.\n",
      "  _warn_prf(average, modifier, msg_start, len(result))\n",
      "/home/jhays/.local/lib/python3.6/site-packages/sklearn/metrics/_classification.py:1248: UndefinedMetricWarning: Precision is ill-defined and being set to 0.0 due to no predicted samples. Use `zero_division` parameter to control this behavior.\n",
      "  _warn_prf(average, modifier, msg_start, len(result))\n",
      "/home/jhays/.local/lib/python3.6/site-packages/sklearn/metrics/_classification.py:1248: UndefinedMetricWarning: Precision is ill-defined and being set to 0.0 due to no predicted samples. Use `zero_division` parameter to control this behavior.\n",
      "  _warn_prf(average, modifier, msg_start, len(result))\n",
      "/home/jhays/.local/lib/python3.6/site-packages/sklearn/metrics/_classification.py:1248: UndefinedMetricWarning: Precision is ill-defined and being set to 0.0 due to no predicted samples. Use `zero_division` parameter to control this behavior.\n",
      "  _warn_prf(average, modifier, msg_start, len(result))\n",
      "/home/jhays/.local/lib/python3.6/site-packages/sklearn/metrics/_classification.py:1248: UndefinedMetricWarning: Precision is ill-defined and being set to 0.0 due to no predicted samples. Use `zero_division` parameter to control this behavior.\n",
      "  _warn_prf(average, modifier, msg_start, len(result))\n",
      "/home/jhays/.local/lib/python3.6/site-packages/sklearn/metrics/_classification.py:1248: UndefinedMetricWarning: Precision is ill-defined and being set to 0.0 due to no predicted samples. Use `zero_division` parameter to control this behavior.\n",
      "  _warn_prf(average, modifier, msg_start, len(result))\n"
     ]
    }
   ],
   "source": [
    "rows = []\n",
    "\n",
    "for train_on, train_on_labels in zip(datasets,labels):\n",
    "    for test_on, test_on_labels in zip(datasets,labels):\n",
    "        rows.append(train_on_one_test_on_another_rf(train_on, train_on_labels, test_on, test_on_labels))\n",
    "        \n",
    "train_on_one_test_on_another_performance = pd.DataFrame(rows)\n"
   ]
  },
  {
   "cell_type": "code",
   "execution_count": 1333,
   "id": "0d689b85",
   "metadata": {},
   "outputs": [
    {
     "data": {
      "image/png": "[encoded data removed]",
      "text/plain": [
       "<Figure size 360x360 with 1 Axes>"
      ]
     },
     "metadata": {
      "needs_background": "light"
     },
     "output_type": "display_data"
    }
   ],
   "source": [
    "depth=3\n",
    "tootoa_a3 = heatmap_train_on_one_test_on_another(train_on_one_test_on_another_performance, 'accuracy', depth)\n",
    "tootoa_a3.to_csv(f\"tootoa_a{depth}.csv\")"
   ]
  },
  {
   "cell_type": "code",
   "execution_count": 1326,
   "id": "0c8e6711",
   "metadata": {},
   "outputs": [
    {
     "data": {
      "image/png": "[encoded data removed]",
      "text/plain": [
       "<Figure size 360x360 with 1 Axes>"
      ]
     },
     "metadata": {
      "needs_background": "light"
     },
     "output_type": "display_data"
    }
   ],
   "source": [
    "depth=3\n",
    "tootoa_f = heatmap_train_on_one_test_on_another(train_on_one_test_on_another_performance, 'f1', depth)\n",
    "tootoa_f.to_csv(f\"tootoa_f{depth}.csv\")"
   ]
  },
  {
   "cell_type": "markdown",
   "id": "985dbcdf",
   "metadata": {},
   "source": [
    "# Leave-one-dataset-out"
   ]
  },
  {
   "cell_type": "code",
   "execution_count": 1068,
   "id": "e9f9b6e3",
   "metadata": {},
   "outputs": [],
   "source": [
    "cols = list(set.intersection(*map(set,[list(d) for d in datasets])))\n",
    "max_depth = 5\n",
    "\n",
    "rows = []\n",
    "\n",
    "for i in range(len(datasets)):\n",
    "    rows.append(leave_dataset_out(i))\n",
    "    \n",
    "leave_one_out_scores = pd.DataFrame(rows)"
   ]
  },
  {
   "cell_type": "code",
   "execution_count": null,
   "id": "dede05b5",
   "metadata": {},
   "outputs": [],
   "source": [
    "plot_leave_one_out_scores()"
   ]
  },
  {
   "cell_type": "code",
   "execution_count": 1071,
   "id": "f54e706b",
   "metadata": {},
   "outputs": [
    {
     "name": "stdout",
     "output_type": "stream",
     "text": [
      "twibot-2020 & 0.45/0.18 & 1 \\\\\n",
      "botometer-feedback-2019 & 0.65/0.40 & 1 \\\\\n",
      "cresci-rtbust-2019 & 0.55/0.36 & 1 \\\\\n",
      "gilani-2017 & 0.56/0.12 & 1 \\\\\n",
      "cresci-2017 & 0.78/0.84 & 1 \\\\\n",
      "cresci-2015 & 0.91/0.94 & 1 \\\\\n",
      "cresci-stock-2018 & 0.65/0.66 & 1 \\\\\n",
      "yang-2013 & 0.32/0.21 & 1 \\\\\n"
     ]
    }
   ],
   "source": [
    "print_leave_one_out_table(leave_one_out_scores)"
   ]
  },
  {
   "cell_type": "markdown",
   "id": "728289e1",
   "metadata": {},
   "source": [
    "## Analysis of each of the specialized classifiers in Botometer"
   ]
  },
  {
   "cell_type": "code",
   "execution_count": 635,
   "id": "30fd6d27",
   "metadata": {},
   "outputs": [],
   "source": [
    "def get_columns(df):\n",
    "    return df.columns[~df.columns.str.contains('location') & ~df.columns.str.contains('utc') & ~df.columns.str.contains('time_zone')& ~df.columns.str.contains('lang')]\n"
   ]
  },
  {
   "cell_type": "markdown",
   "id": "d0e56279",
   "metadata": {},
   "source": [
    "### humans"
   ]
  },
  {
   "cell_type": "code",
   "execution_count": 1244,
   "id": "2dd01a27",
   "metadata": {},
   "outputs": [
    {
     "name": "stdout",
     "output_type": "stream",
     "text": [
      "Starting train_test_fit_and_score_clf at 10/07/22 10:31:06\n",
      "|--- followers_count <= 10066.50\n",
      "|   |--- friends_count <= 0.50\n",
      "|   |   |--- statuses_count <= 93.50\n",
      "|   |   |   |--- weights: [139.00, 0.00, 1.00, 7.00, 1.00] class: 0\n",
      "|   |   |--- statuses_count >  93.50\n",
      "|   |   |   |--- weights: [227.00, 1.00, 1.00, 10.00, 1485.00] class: 5\n",
      "|   |--- friends_count >  0.50\n",
      "|   |   |--- statuses_count <= 9199.50\n",
      "|   |   |   |--- weights: [14176.00, 169.00, 111.00, 84.00, 2075.00] class: 0\n",
      "|   |   |--- statuses_count >  9199.50\n",
      "|   |   |   |--- weights: [829.00, 66.00, 24.00, 323.00, 1278.00] class: 5\n",
      "|--- followers_count >  10066.50\n",
      "|   |--- followers_count <= 207887.50\n",
      "|   |   |--- statuses_count <= 17930.50\n",
      "|   |   |   |--- weights: [72.00, 19.00, 623.00, 131.00, 18.00] class: 2\n",
      "|   |   |--- statuses_count >  17930.50\n",
      "|   |   |   |--- weights: [10.00, 21.00, 181.00, 231.00, 75.00] class: 4\n",
      "|   |--- followers_count >  207887.50\n",
      "|   |   |--- statuses_count <= 10220.50\n",
      "|   |   |   |--- weights: [1.00, 2.00, 1975.00, 83.00, 0.00] class: 2\n",
      "|   |   |--- statuses_count >  10220.50\n",
      "|   |   |   |--- weights: [2.00, 10.00, 1810.00, 245.00, 12.00] class: 2\n",
      "\n",
      "Accuracy: 0.8064224332881049\n",
      "Precision -1\n",
      "Recall: -1\n",
      "F1: -1\n",
      "Finished train_test_fit_and_score_clf at 1665153066.7201815. Execution time: 0.08950209617614746 s\n"
     ]
    },
    {
     "data": {
      "text/plain": [
       "(0.8064224332881049, -1, -1, -1)"
      ]
     },
     "execution_count": 1244,
     "metadata": {},
     "output_type": "execute_result"
    }
   ],
   "source": [
    "caverlee_2011.set_axis(['created_at', 'friends_count', 'followers_count', 'statuses_count', 'LengthfScreenName', 'LengthOfDescriptionInUserProfile'], inplace=True, axis=1)\n",
    "\n",
    "caverlee2011_humans = caverlee_2011[caverlee_2011_labels.values == 0]\n",
    "botometer_feedback_2019_one_hot_humans = botometer_feedback_2019_one_hot[bf_labels.values == 0]\n",
    "gilani_2017_one_hot_humans = gilani_2017_one_hot[gilani_labels.values == 0]\n",
    "cresci_rtbust_2019_one_hot_humans = cresci_rtbust_2019_one_hot[rtbust_labels.values == 0]\n",
    "cresci_stock_2018_one_hot_humans = cresci_stock_2018_one_hot[cresci_stock_labels.values == 0]\n",
    "midterm_2018_one_hot_humans = midterm_2018_one_hot[midterm_labels.values == 0]\n",
    "\n",
    "cols = set.intersection(\n",
    "    set(celebrity_one_hot.columns),\n",
    "    set(botometer_feedback_2019_one_hot_humans.columns),\n",
    "    set(caverlee2011_humans.columns),\n",
    "    set(gilani_2017_one_hot_humans.columns),\n",
    "    set(cresci_stock_2018_one_hot_humans.columns),\n",
    "                       )\n",
    "\n",
    "human_df = pd.concat([\n",
    "    caverlee2011_humans[cols], \n",
    "    botometer_feedback_2019_one_hot_humans[cols],\n",
    "    celebrity_one_hot[cols],\n",
    "    gilani_2017_one_hot_humans[cols],\n",
    "    cresci_stock_2018_one_hot_humans[cols]\n",
    "], axis=0)"
   ]
  },
  {
   "cell_type": "code",
   "execution_count": null,
   "id": "465bc2aa",
   "metadata": {},
   "outputs": [],
   "source": [
    "human_dataset_class_labels = [0] * len(caverlee2011_humans) \\\n",
    "        + [1] * len(botometer_feedback_2019_one_hot_humans) \\\n",
    "        + [2] * len(celebrity_one_hot) \\\n",
    "        + [4] * len(gilani_2017_one_hot_humans) \\\n",
    "        + [5] * len(cresci_stock_2018_one_hot_humans) \n",
    "\n",
    "train_test_fit_and_score(human_df.drop(['created_at'], axis=1), human_dataset_class_labels, depth=3, silent=False, prec_rec=False)"
   ]
  },
  {
   "cell_type": "code",
   "execution_count": 1247,
   "id": "70e8b1d8",
   "metadata": {},
   "outputs": [
    {
     "name": "stdout",
     "output_type": "stream",
     "text": [
      "Starting train_test_fit_and_score_clf at 10/07/22 10:31:54\n",
      "|--- followers_count <= 22243.00\n",
      "|   |--- followers_count <= 729.50\n",
      "|   |   |--- friends_count <= 0.50\n",
      "|   |   |   |--- statuses_count <= 71.00\n",
      "|   |   |   |   |--- weights: [2.00, 0.00, 0.00, 3.00, 0.00] class: 4\n",
      "|   |   |   |--- statuses_count >  71.00\n",
      "|   |   |   |   |--- weights: [6.00, 0.00, 0.00, 0.00, 84.00] class: 5\n",
      "|   |   |--- friends_count >  0.50\n",
      "|   |   |   |--- friends_count <= 165.00\n",
      "|   |   |   |   |--- weights: [204.00, 53.00, 0.00, 3.00, 50.00] class: 0\n",
      "|   |   |   |--- friends_count >  165.00\n",
      "|   |   |   |   |--- weights: [64.00, 106.00, 1.00, 3.00, 98.00] class: 1\n",
      "|   |--- followers_count >  729.50\n",
      "|   |   |--- followers_count <= 2602.00\n",
      "|   |   |   |--- statuses_count <= 20062.00\n",
      "|   |   |   |   |--- weights: [25.00, 28.00, 3.00, 24.00, 20.00] class: 1\n",
      "|   |   |   |--- statuses_count >  20062.00\n",
      "|   |   |   |   |--- weights: [4.00, 16.00, 1.00, 90.00, 19.00] class: 4\n",
      "|   |   |--- followers_count >  2602.00\n",
      "|   |   |   |--- friends_count <= 2977.50\n",
      "|   |   |   |   |--- weights: [4.00, 20.00, 6.00, 4.00, 11.00] class: 1\n",
      "|   |   |   |--- friends_count >  2977.50\n",
      "|   |   |   |   |--- weights: [1.00, 37.00, 1.00, 0.00, 6.00] class: 1\n",
      "|--- followers_count >  22243.00\n",
      "|   |--- statuses_count <= 12998.00\n",
      "|   |   |--- friends_count <= 14161.50\n",
      "|   |   |   |--- followers_count <= 26079891.00\n",
      "|   |   |   |   |--- weights: [0.00, 8.00, 188.00, 26.00, 1.00] class: 2\n",
      "|   |   |   |--- followers_count >  26079891.00\n",
      "|   |   |   |   |--- weights: [0.00, 0.00, 1.00, 7.00, 0.00] class: 4\n",
      "|   |   |--- friends_count >  14161.50\n",
      "|   |   |   |--- statuses_count <= 5428.50\n",
      "|   |   |   |   |--- weights: [0.00, 1.00, 0.00, 11.00, 1.00] class: 4\n",
      "|   |   |   |--- statuses_count >  5428.50\n",
      "|   |   |   |   |--- weights: [0.00, 5.00, 6.00, 7.00, 1.00] class: 4\n",
      "|   |--- statuses_count >  12998.00\n",
      "|   |   |--- followers_count <= 219962.50\n",
      "|   |   |   |--- followers_count <= 68812.00\n",
      "|   |   |   |   |--- weights: [0.00, 8.00, 5.00, 3.00, 2.00] class: 1\n",
      "|   |   |   |--- followers_count >  68812.00\n",
      "|   |   |   |   |--- weights: [0.00, 7.00, 8.00, 73.00, 0.00] class: 4\n",
      "|   |   |--- followers_count >  219962.50\n",
      "|   |   |   |--- followers_count <= 673813.00\n",
      "|   |   |   |   |--- weights: [0.00, 2.00, 36.00, 8.00, 0.00] class: 2\n",
      "|   |   |   |--- followers_count >  673813.00\n",
      "|   |   |   |   |--- weights: [0.00, 7.00, 48.00, 53.00, 0.00] class: 4\n",
      "\n",
      "Accuracy: 0.5815789473684211\n",
      "Precision -1\n",
      "Recall: -1\n",
      "F1: -1\n",
      "Finished train_test_fit_and_score_clf at 1665153114.5592377. Execution time: 0.032381534576416016 s\n"
     ]
    },
    {
     "data": {
      "text/plain": [
       "(0.5815789473684211, -1, -1, -1)"
      ]
     },
     "execution_count": 1247,
     "metadata": {},
     "output_type": "execute_result"
    }
   ],
   "source": [
    "n_accts = min(len(caverlee2011_humans), len(botometer_feedback_2019_one_hot_humans), len(celebrity_one_hot), len(gilani_2017_one_hot_humans), len(cresci_stock_2018_one_hot_humans))\n",
    "\n",
    "human_df = pd.concat([\n",
    "    caverlee2011_humans.sample(n_accts)[cols], \n",
    "    botometer_feedback_2019_one_hot_humans.sample(n_accts)[cols],\n",
    "    celebrity_one_hot.sample(n_accts)[cols],\n",
    "    gilani_2017_one_hot_humans.sample(n_accts)[cols],\n",
    "    cresci_stock_2018_one_hot_humans.sample(n_accts)[cols]\n",
    "], axis=0)\n",
    "\n",
    "human_dataset_class_labels = [0] * n_accts \\\n",
    "        + [1] * n_accts \\\n",
    "        + [2] * n_accts \\\n",
    "        + [4] * n_accts \\\n",
    "        + [5] * n_accts \n",
    "\n",
    "train_test_fit_and_score(human_df.drop(['created_at'], axis=1), human_dataset_class_labels, depth=4, silent=False, prec_rec=False)\n"
   ]
  },
  {
   "cell_type": "markdown",
   "id": "72f2aa5b",
   "metadata": {},
   "source": [
    "### simple bots"
   ]
  },
  {
   "cell_type": "code",
   "execution_count": 637,
   "id": "81502861",
   "metadata": {
    "ExecuteTime": {
     "end_time": "2022-05-25T14:27:24.656045Z",
     "start_time": "2022-05-25T14:27:24.652694Z"
    }
   },
   "outputs": [],
   "source": [
    "caverlee2011_bots = caverlee_2011[caverlee_2011_labels.values == 1]\n",
    "simple_df = caverlee2011_bots"
   ]
  },
  {
   "cell_type": "code",
   "execution_count": 638,
   "id": "92b52a6a",
   "metadata": {},
   "outputs": [
    {
     "data": {
      "text/plain": [
       "Index(['created_at', 'friends_count', 'followers_count', 'statuses_count',\n",
       "       'LengthfScreenName', 'LengthOfDescriptionInUserProfile'],\n",
       "      dtype='object')"
      ]
     },
     "execution_count": 638,
     "metadata": {},
     "output_type": "execute_result"
    }
   ],
   "source": [
    "simple_df.columns"
   ]
  },
  {
   "cell_type": "markdown",
   "id": "5b8a7dbd",
   "metadata": {},
   "source": [
    "### spammers"
   ]
  },
  {
   "cell_type": "code",
   "execution_count": 1248,
   "id": "535cfdd6",
   "metadata": {
    "ExecuteTime": {
     "end_time": "2022-05-25T14:35:52.198968Z",
     "start_time": "2022-05-25T14:35:52.114390Z"
    }
   },
   "outputs": [],
   "source": [
    "# Load in cresci data\n",
    "folder_names = [ 'social_spambots_1', \n",
    " 'social_spambots_2', \n",
    " 'social_spambots_3', \n",
    " 'traditional_spambots_1', \n",
    " 'traditional_spambots_2', \n",
    " 'traditional_spambots_3',\n",
    " 'traditional_spambots_4']\n",
    "is_bot = [1, 1, 1, 1, 1, 1, 1]\n",
    "cols_to_drop = COLUMNS_TO_DROP + ['profile_banner_url', \n",
    "                                        'test_set_1', \n",
    "                                        'test_set_2', \n",
    "                                        'crawled_at',\n",
    "                                        'updated', \n",
    "                                        'timestamp',\n",
    "                                        'following', \n",
    "                                        'follow_request_sent',\n",
    "                                        'created_at',\n",
    "                                  ]\n",
    "dummy_cols = DUMMY_COLUMNS + ['is_translator', 'contributors_enabled', 'notifications']\n",
    "    \n",
    "cresci2017_spammers, cresci2017_spammers_one_hot, cresci2017_spammers_labels  = load_cresci(PROJ_PATH + \"/data/cresci-2017/{}.csv/users.csv\", folder_names, is_bot, cols_to_drop, dummy_cols, False)\n",
    "# cresci2017_spammers_one_hot.loc[:,~cresci2017_spammers_one_hot.columns.duplicated()]\n",
    "# pronbots_one_hot = pronbots_one_hot.loc[:,~pronbots_one_hot.columns.duplicated()]\n",
    "# pronbots_one_hot = pronbots_one_hot.drop(['location'])\n",
    "cols = set(pronbots_one_hot.columns).intersection(set(cresci2017_spammers_one_hot.columns))\n",
    "spammers_df = pd.concat([pronbots_one_hot[cols], cresci2017_spammers_one_hot[cols]])\n"
   ]
  },
  {
   "cell_type": "code",
   "execution_count": 1249,
   "id": "32752cc0",
   "metadata": {},
   "outputs": [
    {
     "data": {
      "text/plain": [
       "[1, 1, 0, 0]"
      ]
     },
     "execution_count": 1249,
     "metadata": {},
     "output_type": "execute_result"
    }
   ],
   "source": [
    "from functools import reduce\n",
    "list(reduce(lambda x,y: x + y, [[1, 1], [0, 0]]))"
   ]
  },
  {
   "cell_type": "code",
   "execution_count": 1250,
   "id": "c53a65cc",
   "metadata": {},
   "outputs": [
    {
     "name": "stdout",
     "output_type": "stream",
     "text": [
      "Starting train_test_fit_and_score_clf at 10/07/22 10:32:27\n",
      "|--- favourites_count <= 14.50\n",
      "|   |--- followers_count <= 15.50\n",
      "|   |   |--- friends_count <= 23.50\n",
      "|   |   |   |--- time_zone_Athens <= 0.50\n",
      "|   |   |   |   |--- weights: [1.00, 8.00, 1.00, 1.00, 0.00, 61.00, 0.00, 31.00] class: 5\n",
      "|   |   |   |--- time_zone_Athens >  0.50\n",
      "|   |   |   |   |--- weights: [305.00, 0.00, 0.00, 0.00, 0.00, 0.00, 0.00, 0.00] class: 0\n",
      "|   |   |--- friends_count >  23.50\n",
      "|   |   |   |--- statuses_count <= 97.50\n",
      "|   |   |   |   |--- weights: [0.00, 2709.00, 1.00, 4.00, 0.00, 1.00, 0.00, 2.00] class: 1\n",
      "|   |   |   |--- statuses_count >  97.50\n",
      "|   |   |   |   |--- weights: [6.00, 4.00, 2.00, 0.00, 0.00, 8.00, 0.00, 0.00] class: 5\n",
      "|   |--- followers_count >  15.50\n",
      "|   |   |--- lang_en <= 0.50\n",
      "|   |   |   |--- lang_it <= 0.50\n",
      "|   |   |   |   |--- weights: [0.00, 0.00, 1.00, 786.00, 53.00, 0.00, 0.00, 10.00] class: 3\n",
      "|   |   |   |--- lang_it >  0.50\n",
      "|   |   |   |   |--- weights: [390.00, 0.00, 0.00, 0.00, 0.00, 0.00, 0.00, 0.00] class: 0\n",
      "|   |   |--- lang_en >  0.50\n",
      "|   |   |   |--- statuses_count <= 1569.50\n",
      "|   |   |   |   |--- weights: [66.00, 60.00, 14.00, 0.00, 25.00, 64.00, 899.00, 38.00] class: 6\n",
      "|   |   |   |--- statuses_count >  1569.50\n",
      "|   |   |   |   |--- weights: [3.00, 0.00, 332.00, 0.00, 0.00, 148.00, 3.00, 0.00] class: 2\n",
      "|--- favourites_count >  14.50\n",
      "|   |--- followers_count <= 512.00\n",
      "|   |   |--- listed_count <= 4.50\n",
      "|   |   |   |--- time_zone_Rome <= 0.50\n",
      "|   |   |   |   |--- weights: [8.00, 3.00, 4.00, 0.00, 0.00, 0.00, 0.00, 14123.00] class: 7\n",
      "|   |   |   |--- time_zone_Rome >  0.50\n",
      "|   |   |   |   |--- weights: [4.00, 0.00, 0.00, 0.00, 0.00, 0.00, 0.00, 13.00] class: 7\n",
      "|   |   |--- listed_count >  4.50\n",
      "|   |   |   |--- favourites_count <= 54.00\n",
      "|   |   |   |   |--- weights: [0.00, 0.00, 0.00, 2.00, 0.00, 26.00, 0.00, 1.00] class: 5\n",
      "|   |   |   |--- favourites_count >  54.00\n",
      "|   |   |   |   |--- weights: [1.00, 1.00, 3.00, 0.00, 0.00, 4.00, 0.00, 73.00] class: 7\n",
      "|   |--- followers_count >  512.00\n",
      "|   |   |--- lang_it <= 0.50\n",
      "|   |   |   |--- lang_en <= 0.50\n",
      "|   |   |   |   |--- weights: [0.00, 0.00, 0.00, 6.00, 0.00, 0.00, 0.00, 0.00] class: 3\n",
      "|   |   |   |--- lang_en >  0.50\n",
      "|   |   |   |   |--- weights: [1.00, 7.00, 9.00, 0.00, 0.00, 3.00, 0.00, 0.00] class: 2\n",
      "|   |   |--- lang_it >  0.50\n",
      "|   |   |   |--- weights: [11.00, 0.00, 0.00, 0.00, 0.00, 0.00, 0.00, 0.00] class: 0\n",
      "\n",
      "Accuracy: 0.9708947885939037\n",
      "Precision -1\n",
      "Recall: -1\n",
      "F1: -1\n",
      "Finished train_test_fit_and_score_clf at 1665153147.304494. Execution time: 0.16414189338684082 s\n"
     ]
    },
    {
     "data": {
      "text/plain": [
       "(0.9708947885939037, -1, -1, -1)"
      ]
     },
     "execution_count": 1250,
     "metadata": {},
     "output_type": "execute_result"
    }
   ],
   "source": [
    "folder_names = [ 'social_spambots_1', \n",
    " 'social_spambots_2', \n",
    " 'social_spambots_3', \n",
    " 'traditional_spambots_1', \n",
    " 'traditional_spambots_2', \n",
    " 'traditional_spambots_3',\n",
    " 'traditional_spambots_4']\n",
    "labels = [0, 1, 2, 3, 4, 5, 6]\n",
    "cols_to_drop = COLUMNS_TO_DROP + ['profile_banner_url', \n",
    "                                        'test_set_1', \n",
    "                                        'test_set_2', \n",
    "                                        'crawled_at',\n",
    "                                        'updated', \n",
    "                                        'timestamp',\n",
    "                                        'following', \n",
    "                                        'follow_request_sent',\n",
    "                                        'created_at',\n",
    "                                  ]\n",
    "dummy_cols = DUMMY_COLUMNS + ['is_translator', 'contributors_enabled', 'notifications']\n",
    "   \n",
    "importlib.reload(sys.modules['data_accessor'])\n",
    "cresci2017_spammers, cresci2017_spammers_one_hot, cresci2017_spammers_labels  = load_cresci(PROJ_PATH + \"/data/cresci-2017/{}.csv/users.csv\", folder_names, labels, cols_to_drop, dummy_cols, False)\n",
    "cols = set(pronbots_one_hot.columns).intersection(set(cresci2017_spammers_one_hot.columns))\n",
    "\n",
    "spammers_one_hot = pd.concat([cresci2017_spammers_one_hot[cols], pronbots_one_hot[cols]])\n",
    "spammers_labels = pd.concat([cresci2017_spammers_labels, pd.Series([7]*len(pronbots_one_hot))])\n",
    "\n",
    "\n",
    "train_test_fit_and_score(spammers_one_hot, spammers_labels, depth=4, silent=False, prec_rec=False)\n"
   ]
  },
  {
   "cell_type": "code",
   "execution_count": 1252,
   "id": "23982c1e",
   "metadata": {},
   "outputs": [
    {
     "name": "stdout",
     "output_type": "stream",
     "text": [
      "Starting train_test_fit_and_score_clf at 10/07/22 10:32:34\n",
      "|--- time_zone_Hawaii <= 0.50\n",
      "|   |--- favourites_count <= 44.50\n",
      "|   |   |--- lang_it <= 0.50\n",
      "|   |   |   |--- friends_count <= 153.00\n",
      "|   |   |   |   |--- weights: [1.00, 73.00, 3.00, 1.00, 0.00, 63.00, 0.00, 0.00] class: 1\n",
      "|   |   |   |--- friends_count >  153.00\n",
      "|   |   |   |   |--- weights: [7.00, 1.00, 75.00, 78.00, 1.00, 15.00, 79.00, 0.00] class: 6\n",
      "|   |   |--- lang_it >  0.50\n",
      "|   |   |   |--- weights: [69.00, 0.00, 0.00, 0.00, 0.00, 0.00, 0.00, 0.00] class: 0\n",
      "|   |--- favourites_count >  44.50\n",
      "|   |   |--- statuses_count <= 3986.50\n",
      "|   |   |   |--- weights: [0.00, 0.00, 0.00, 0.00, 0.00, 0.00, 0.00, 79.00] class: 7\n",
      "|   |   |--- statuses_count >  3986.50\n",
      "|   |   |   |--- friends_count <= 377.50\n",
      "|   |   |   |   |--- weights: [0.00, 0.00, 0.00, 0.00, 0.00, 3.00, 0.00, 0.00] class: 5\n",
      "|   |   |   |--- friends_count >  377.50\n",
      "|   |   |   |   |--- weights: [0.00, 1.00, 3.00, 0.00, 0.00, 0.00, 0.00, 0.00] class: 2\n",
      "|--- time_zone_Hawaii >  0.50\n",
      "|   |--- favourites_count <= 37.50\n",
      "|   |   |--- weights: [0.00, 0.00, 0.00, 0.00, 86.00, 0.00, 0.00, 0.00] class: 4\n",
      "|   |--- favourites_count >  37.50\n",
      "|   |   |--- weights: [0.00, 0.00, 0.00, 0.00, 0.00, 0.00, 0.00, 2.00] class: 7\n",
      "\n",
      "Accuracy: 0.59375\n",
      "Precision -1\n",
      "Recall: -1\n",
      "F1: -1\n",
      "Finished train_test_fit_and_score_clf at 1665153154.4917645. Execution time: 0.016649723052978516 s\n"
     ]
    },
    {
     "data": {
      "text/plain": [
       "(0.59375, -1, -1, -1)"
      ]
     },
     "execution_count": 1252,
     "metadata": {},
     "output_type": "execute_result"
    }
   ],
   "source": [
    "folder_names = [ 'social_spambots_1', \n",
    " 'social_spambots_2', \n",
    " 'social_spambots_3', \n",
    " 'traditional_spambots_1', \n",
    " 'traditional_spambots_2', \n",
    " 'traditional_spambots_3',\n",
    " 'traditional_spambots_4']\n",
    "labels = [0, 1, 2, 3, 4, 5, 6]\n",
    "cols_to_drop = COLUMNS_TO_DROP + ['profile_banner_url', \n",
    "                                        'test_set_1', \n",
    "                                        'test_set_2', \n",
    "                                        'crawled_at',\n",
    "                                        'updated', \n",
    "                                        'timestamp',\n",
    "                                        'following', \n",
    "                                        'follow_request_sent',\n",
    "                                        'created_at',\n",
    "                                  ]\n",
    "dummy_cols = DUMMY_COLUMNS + ['is_translator', 'contributors_enabled', 'notifications']\n",
    "   \n",
    "importlib.reload(sys.modules['data_accessor'])\n",
    "cresci2017_spammers, cresci2017_spammers_one_hot, cresci2017_spammers_labels  = load_cresci(PROJ_PATH + \"/data/cresci-2017/{}.csv/users.csv\", folder_names, labels, cols_to_drop, dummy_cols, False, balance=True)\n",
    "cols = set(pronbots_one_hot.columns).intersection(set(cresci2017_spammers_one_hot.columns))\n",
    "\n",
    "n_accts = sum(cresci2017_spammers_labels == 0)\n",
    "spammers_one_hot = pd.concat([cresci2017_spammers_one_hot[cols], pronbots_one_hot[cols].sample(n_accts)])\n",
    "\n",
    "spammers_labels = pd.concat([cresci2017_spammers_labels, pd.Series([7]*n_accts)])\n",
    "\n",
    "\n",
    "train_test_fit_and_score(spammers_one_hot, spammers_labels, depth=4, silent=False, prec_rec=False)\n"
   ]
  },
  {
   "cell_type": "code",
   "execution_count": 640,
   "id": "926a5fec",
   "metadata": {},
   "outputs": [
    {
     "data": {
      "text/plain": [
       "Index(['friends_count', 'statuses_count', 'listed_count', 'followers_count',\n",
       "       'favourites_count'],\n",
       "      dtype='object')"
      ]
     },
     "execution_count": 640,
     "metadata": {},
     "output_type": "execute_result"
    }
   ],
   "source": [
    "get_columns(spammers_df)"
   ]
  },
  {
   "cell_type": "markdown",
   "id": "efe9eb6c",
   "metadata": {},
   "source": [
    "### fake followers"
   ]
  },
  {
   "cell_type": "code",
   "execution_count": 1253,
   "id": "0fa31458",
   "metadata": {},
   "outputs": [],
   "source": [
    "# Load in cresci data\n",
    "folder_names = ['fake_followers']\n",
    "is_bot = [1]\n",
    "cols_to_drop = COLUMNS_TO_DROP + ['profile_banner_url',  \n",
    "                                        'updated', \n",
    "                                        'following', \n",
    "                                        'follow_request_sent',\n",
    "                                        'created_at'\n",
    "                                  ]\n",
    "dummy_cols = DUMMY_COLUMNS + ['is_translator', 'contributors_enabled', 'notifications']\n",
    "    \n",
    "cresci2017_fake_followers, cresci2017_fake_followers_one_hot, cresci2017_fake_followers_labels  = load_cresci(PROJ_PATH + \"/data/cresci-2017/{}.csv/users.csv\", folder_names, is_bot, cols_to_drop, dummy_cols, False)\n",
    "cresci2017_fake_followers_one_hot = cresci2017_fake_followers_one_hot.loc[:,~cresci2017_fake_followers_one_hot.columns.duplicated()]\n",
    "vendor_purchased_one_hot = vendor_purchased_one_hot.loc[:,~vendor_purchased_one_hot.columns.duplicated()]\n",
    "\n",
    "cols = set(vendor_purchased_one_hot.columns).intersection(set(cresci2017_fake_followers_one_hot.columns))\n",
    "fake_followers_df = pd.concat([vendor_purchased_one_hot, cresci2017_fake_followers_one_hot[cols]])\n"
   ]
  },
  {
   "cell_type": "code",
   "execution_count": 1254,
   "id": "56f9322b",
   "metadata": {},
   "outputs": [
    {
     "data": {
      "text/plain": [
       "Index(['followers_count', 'listed_count', 'statuses_count', 'friends_count',\n",
       "       'favourites_count', 'created_at', 'default_profile_True',\n",
       "       'default_profile_image_True', 'profile_background_tile_True',\n",
       "       'geo_enabled_True', 'verified_True',\n",
       "       'profile_use_background_image_True', 'is_translation_enabled_True',\n",
       "       'has_extended_profile_True'],\n",
       "      dtype='object')"
      ]
     },
     "execution_count": 1254,
     "metadata": {},
     "output_type": "execute_result"
    }
   ],
   "source": [
    "fake_followers_df.columns[~fake_followers_df.columns.str.contains('location') & ~fake_followers_df.columns.str.contains('utc') & ~fake_followers_df.columns.str.contains('time_zone')& ~fake_followers_df.columns.str.contains('lang')]\n"
   ]
  },
  {
   "cell_type": "code",
   "execution_count": 1255,
   "id": "39a55058",
   "metadata": {},
   "outputs": [
    {
     "name": "stdout",
     "output_type": "stream",
     "text": [
      "Starting train_test_fit_and_score_clf at 10/07/22 10:33:02\n",
      "|--- favourites_count <= 4.50\n",
      "|   |--- weights: [54.00, 2580.00] class: 1\n",
      "|--- favourites_count >  4.50\n",
      "|   |--- weights: [805.00, 111.00] class: 0\n",
      "\n",
      "Accuracy: 0.9493243243243243\n",
      "Precision -1\n",
      "Recall: -1\n",
      "F1: -1\n",
      "Finished train_test_fit_and_score_clf at 1665153182.7489762. Execution time: 0.03706836700439453 s\n"
     ]
    },
    {
     "data": {
      "text/plain": [
       "(0.9493243243243243, -1, -1, -1)"
      ]
     },
     "execution_count": 1255,
     "metadata": {},
     "output_type": "execute_result"
    }
   ],
   "source": [
    "# Load in cresci data\n",
    "folder_names = ['fake_followers']\n",
    "is_bot = [1]\n",
    "cols_to_drop = COLUMNS_TO_DROP + ['profile_banner_url',  \n",
    "                                        'updated', \n",
    "                                        'following', \n",
    "                                        'follow_request_sent',\n",
    "                                        'created_at'\n",
    "                                  ]\n",
    "dummy_cols = DUMMY_COLUMNS + ['is_translator', 'contributors_enabled', 'notifications']\n",
    "    \n",
    "cresci2017_fake_followers, cresci2017_fake_followers_one_hot, cresci2017_fake_followers_labels  = load_cresci(PROJ_PATH + \"/data/cresci-2017/{}.csv/users.csv\", folder_names, is_bot, cols_to_drop, dummy_cols, False)\n",
    "cresci2017_fake_followers_one_hot = cresci2017_fake_followers_one_hot.loc[:,~cresci2017_fake_followers_one_hot.columns.duplicated()]\n",
    "vendor_purchased_one_hot = vendor_purchased_one_hot.loc[:,~vendor_purchased_one_hot.columns.duplicated()]\n",
    "\n",
    "cols = set(vendor_purchased_one_hot.columns).intersection(set(cresci2017_fake_followers_one_hot.columns))\n",
    "\n",
    "fake_followers_df = pd.concat([vendor_purchased_one_hot[cols], cresci2017_fake_followers_one_hot[cols]])\n",
    "fake_followers_labels = [0] * len(vendor_purchased_one_hot) + [1] * len(cresci2017_fake_followers_one_hot)\n",
    "\n",
    "train_test_fit_and_score(fake_followers_df, fake_followers_labels, depth=1, silent=False, prec_rec=False)\n"
   ]
  },
  {
   "cell_type": "code",
   "execution_count": 1256,
   "id": "accae7af",
   "metadata": {},
   "outputs": [
    {
     "name": "stdout",
     "output_type": "stream",
     "text": [
      "Starting train_test_fit_and_score_clf at 10/07/22 10:33:07\n",
      "|--- favourites_count <= 2.50\n",
      "|   |--- weights: [40.00, 830.00] class: 1\n",
      "|--- favourites_count >  2.50\n",
      "|   |--- weights: [831.00, 38.00] class: 0\n",
      "\n",
      "Accuracy: 0.9425287356321839\n",
      "Precision -1\n",
      "Recall: -1\n",
      "F1: -1\n",
      "Finished train_test_fit_and_score_clf at 1665153187.0904372. Execution time: 0.029121875762939453 s\n"
     ]
    },
    {
     "data": {
      "text/plain": [
       "(0.9425287356321839, -1, -1, -1)"
      ]
     },
     "execution_count": 1256,
     "metadata": {},
     "output_type": "execute_result"
    }
   ],
   "source": [
    "# Load in cresci data\n",
    "folder_names = ['fake_followers']\n",
    "is_bot = [1]\n",
    "cols_to_drop = COLUMNS_TO_DROP + ['profile_banner_url',  \n",
    "                                        'updated', \n",
    "                                        'following', \n",
    "                                        'follow_request_sent',\n",
    "                                        'created_at'\n",
    "                                  ]\n",
    "dummy_cols = DUMMY_COLUMNS + ['is_translator', 'contributors_enabled', 'notifications']\n",
    "    \n",
    "cresci2017_fake_followers, cresci2017_fake_followers_one_hot, cresci2017_fake_followers_labels  = load_cresci(PROJ_PATH + \"/data/cresci-2017/{}.csv/users.csv\", folder_names, is_bot, cols_to_drop, dummy_cols, False)\n",
    "cresci2017_fake_followers_one_hot = cresci2017_fake_followers_one_hot.loc[:,~cresci2017_fake_followers_one_hot.columns.duplicated()]\n",
    "vendor_purchased_one_hot = vendor_purchased_one_hot.loc[:,~vendor_purchased_one_hot.columns.duplicated()]\n",
    "\n",
    "cols = set(vendor_purchased_one_hot.columns).intersection(set(cresci2017_fake_followers_one_hot.columns))\n",
    "\n",
    "n_accts = min(len(vendor_purchased_one_hot), len(cresci2017_fake_followers_one_hot))\n",
    "\n",
    "fake_followers_df = pd.concat([vendor_purchased_one_hot[cols].sample(n_accts), cresci2017_fake_followers_one_hot[cols].sample(n_accts)])\n",
    "fake_followers_labels = [0] * n_accts + [1] * n_accts\n",
    "\n",
    "train_test_fit_and_score(fake_followers_df, fake_followers_labels, depth=1, silent=False, prec_rec=False)\n"
   ]
  },
  {
   "cell_type": "markdown",
   "id": "19a78651",
   "metadata": {},
   "source": [
    "### self-declared"
   ]
  },
  {
   "cell_type": "code",
   "execution_count": 643,
   "id": "a9928b06",
   "metadata": {},
   "outputs": [
    {
     "data": {
      "text/plain": [
       "Index(['followers_count', 'friends_count', 'listed_count', 'created_at',\n",
       "       'favourites_count', 'statuses_count', 'default_profile_True',\n",
       "       'default_profile_image_True', 'default_profile_True',\n",
       "       'default_profile_image_True', 'profile_background_tile_True',\n",
       "       'geo_enabled_True', 'verified_True',\n",
       "       'profile_use_background_image_True', 'is_translation_enabled_True',\n",
       "       'has_extended_profile_True'],\n",
       "      dtype='object')"
      ]
     },
     "execution_count": 643,
     "metadata": {},
     "output_type": "execute_result"
    }
   ],
   "source": [
    "self_declared_df = botwiki_one_hot\n",
    "\n",
    "get_columns(self_declared_df)"
   ]
  },
  {
   "cell_type": "markdown",
   "id": "377d5b56",
   "metadata": {},
   "source": [
    "### political bots"
   ]
  },
  {
   "cell_type": "code",
   "execution_count": 644,
   "id": "ed0beee4",
   "metadata": {},
   "outputs": [
    {
     "data": {
      "text/plain": [
       "Index(['followers_count', 'listed_count', 'statuses_count', 'friends_count',\n",
       "       'favourites_count', 'created_at', 'default_profile_True',\n",
       "       'default_profile_True', 'profile_background_tile_True',\n",
       "       'geo_enabled_True'],\n",
       "      dtype='object')"
      ]
     },
     "execution_count": 644,
     "metadata": {},
     "output_type": "execute_result"
    }
   ],
   "source": [
    "political_bots_df = political_bots_one_hot\n",
    "\n",
    "get_columns(political_bots_df)"
   ]
  },
  {
   "cell_type": "markdown",
   "id": "7862d335",
   "metadata": {},
   "source": [
    "### other bots"
   ]
  },
  {
   "cell_type": "code",
   "execution_count": 645,
   "id": "e5802c74",
   "metadata": {},
   "outputs": [],
   "source": [
    "botometer_feedback_2019_one_hot_bot = botometer_feedback_2019_one_hot[bf_labels.values == 1]\n",
    "gilani_2017_one_hot_bot = gilani_2017_one_hot[gilani_labels.values == 1]\n",
    "cresci_rtbust_2019_one_hot_bot = cresci_rtbust_2019_one_hot[rtbust_labels.values == 1]\n",
    "cresci_stock_2018_one_hot_bot = cresci_stock_2018_one_hot[cresci_stock_labels.values == 1]\n",
    "midterm_2018_one_hot_bot = midterm_2018_one_hot[midterm_labels.values == 1]\n",
    "\n",
    "cols = set.intersection(\n",
    "    set(botometer_feedback_2019_one_hot_bot.columns), \n",
    "    set(gilani_2017_one_hot_bot.columns), \n",
    "    set(cresci_rtbust_2019_one_hot_bot.columns), \n",
    "    set(cresci_stock_2018_one_hot_bot.columns), \n",
    ")\n",
    "\n",
    "other_bots = pd.concat([botometer_feedback_2019_one_hot_bot[cols], \n",
    "                        gilani_2017_one_hot_bot[cols], \n",
    "                        cresci_rtbust_2019_one_hot_bot[cols], \n",
    "                        cresci_stock_2018_one_hot_bot[cols]])\n"
   ]
  },
  {
   "cell_type": "code",
   "execution_count": 646,
   "id": "2ff3a8f0",
   "metadata": {},
   "outputs": [
    {
     "data": {
      "text/plain": [
       "Index(['default_profile_image_True', 'default_profile_image_True',\n",
       "       'friends_count', 'listed_count', 'verified_True',\n",
       "       'is_translation_enabled_True', 'has_extended_profile_True',\n",
       "       'created_at', 'followers_count', 'profile_use_background_image_True',\n",
       "       'default_profile_True', 'default_profile_True', 'statuses_count',\n",
       "       'geo_enabled_True', 'favourites_count', 'profile_background_tile_True'],\n",
       "      dtype='object')"
      ]
     },
     "execution_count": 646,
     "metadata": {},
     "output_type": "execute_result"
    }
   ],
   "source": [
    "get_columns(other_bots)"
   ]
  },
  {
   "cell_type": "code",
   "execution_count": 1230,
   "id": "3887ec2a",
   "metadata": {},
   "outputs": [
    {
     "name": "stdout",
     "output_type": "stream",
     "text": [
      "Starting train_test_fit_and_score_clf at 10/06/22 21:04:28\n",
      "|--- followers_count <= 701.50\n",
      "|   |--- lang_it <= 0.50\n",
      "|   |   |--- created_at <= 1505079680.00\n",
      "|   |   |   |--- weights: [38.00, 20.00, 8.00, 5469.00] class: 3\n",
      "|   |   |--- created_at >  1505079680.00\n",
      "|   |   |   |--- weights: [5.00, 5.00, 20.00, 0.00] class: 2\n",
      "|   |--- lang_it >  0.50\n",
      "|   |   |--- created_at <= 1350975616.00\n",
      "|   |   |   |--- weights: [0.00, 0.00, 27.00, 29.00] class: 3\n",
      "|   |   |--- created_at >  1350975616.00\n",
      "|   |   |   |--- weights: [0.00, 0.00, 190.00, 10.00] class: 2\n",
      "|--- followers_count >  701.50\n",
      "|   |--- followers_count <= 27269.00\n",
      "|   |   |--- favourites_count <= 1555.00\n",
      "|   |   |   |--- weights: [25.00, 178.00, 2.00, 16.00] class: 1\n",
      "|   |   |--- favourites_count >  1555.00\n",
      "|   |   |   |--- weights: [31.00, 119.00, 34.00, 150.00] class: 3\n",
      "|   |--- followers_count >  27269.00\n",
      "|   |   |--- created_at <= 1444555456.00\n",
      "|   |   |   |--- weights: [15.00, 547.00, 1.00, 1.00] class: 1\n",
      "|   |   |--- created_at >  1444555456.00\n",
      "|   |   |   |--- weights: [5.00, 2.00, 0.00, 0.00] class: 0\n",
      "\n",
      "Accuracy: 0.9510650546919976\n",
      "Precision -1\n",
      "Recall: -1\n",
      "F1: -1\n",
      "Finished train_test_fit_and_score_clf at 1665104668.7945178. Execution time: 0.06738662719726562 s\n"
     ]
    },
    {
     "data": {
      "text/plain": [
       "(0.9510650546919976, -1, -1, -1)"
      ]
     },
     "execution_count": 1230,
     "metadata": {},
     "output_type": "execute_result"
    }
   ],
   "source": [
    "other_bots_labels = [0]*len(botometer_feedback_2019_one_hot_bot) + [1]*len(gilani_2017_one_hot_bot) + [2]*len(cresci_rtbust_2019_one_hot_bot) + [3]*len(cresci_stock_2018_one_hot_bot)\n",
    "\n",
    "train_test_fit_and_score(other_bots, other_bots_labels, depth=3, silent=False, prec_rec=False)\n",
    "\n"
   ]
  },
  {
   "cell_type": "code",
   "execution_count": 1234,
   "id": "a392930a",
   "metadata": {},
   "outputs": [
    {
     "name": "stdout",
     "output_type": "stream",
     "text": [
      "Starting train_test_fit_and_score_clf at 10/06/22 21:08:29\n",
      "|--- followers_count <= 701.50\n",
      "|   |--- created_at <= 1392233920.00\n",
      "|   |   |--- statuses_count <= 98.00\n",
      "|   |   |   |--- weights: [11.00, 0.00, 0.00, 0.00] class: 0\n",
      "|   |   |--- statuses_count >  98.00\n",
      "|   |   |   |--- followers_count <= 162.50\n",
      "|   |   |   |   |--- weights: [2.00, 0.00, 2.00, 71.00] class: 3\n",
      "|   |   |   |--- followers_count >  162.50\n",
      "|   |   |   |   |--- weights: [5.00, 0.00, 11.00, 7.00] class: 2\n",
      "|   |--- created_at >  1392233920.00\n",
      "|   |   |--- statuses_count <= 358.50\n",
      "|   |   |   |--- friends_count <= 30.50\n",
      "|   |   |   |   |--- weights: [0.00, 0.00, 1.00, 13.00] class: 3\n",
      "|   |   |   |--- friends_count >  30.50\n",
      "|   |   |   |   |--- weights: [13.00, 0.00, 0.00, 0.00] class: 0\n",
      "|   |   |--- statuses_count >  358.50\n",
      "|   |   |   |--- statuses_count <= 25426.00\n",
      "|   |   |   |   |--- weights: [7.00, 0.00, 80.00, 13.00] class: 2\n",
      "|   |   |   |--- statuses_count >  25426.00\n",
      "|   |   |   |   |--- weights: [5.00, 3.00, 1.00, 1.00] class: 0\n",
      "|--- followers_count >  701.50\n",
      "|   |--- created_at <= 1444645952.00\n",
      "|   |   |--- followers_count <= 64762.50\n",
      "|   |   |   |--- followers_count <= 2421.00\n",
      "|   |   |   |   |--- weights: [8.00, 35.00, 10.00, 4.00] class: 1\n",
      "|   |   |   |--- followers_count >  2421.00\n",
      "|   |   |   |   |--- weights: [16.00, 4.00, 3.00, 4.00] class: 0\n",
      "|   |   |--- followers_count >  64762.50\n",
      "|   |   |   |--- friends_count <= 196086.50\n",
      "|   |   |   |   |--- weights: [4.00, 68.00, 0.00, 0.00] class: 1\n",
      "|   |   |   |--- friends_count >  196086.50\n",
      "|   |   |   |   |--- weights: [3.00, 1.00, 0.00, 0.00] class: 0\n",
      "|   |--- created_at >  1444645952.00\n",
      "|   |   |--- statuses_count <= 698716.50\n",
      "|   |   |   |--- created_at <= 1523292608.00\n",
      "|   |   |   |   |--- weights: [35.00, 0.00, 0.00, 1.00] class: 0\n",
      "|   |   |   |--- created_at >  1523292608.00\n",
      "|   |   |   |   |--- weights: [0.00, 0.00, 1.00, 0.00] class: 2\n",
      "|   |   |--- statuses_count >  698716.50\n",
      "|   |   |   |--- weights: [0.00, 1.00, 0.00, 0.00] class: 1\n",
      "\n",
      "Accuracy: 0.7857142857142857\n",
      "Precision -1\n",
      "Recall: -1\n",
      "F1: -1\n",
      "Finished train_test_fit_and_score_clf at 1665104909.511297. Execution time: 0.03408241271972656 s\n"
     ]
    },
    {
     "data": {
      "text/plain": [
       "(0.7857142857142857, -1, -1, -1)"
      ]
     },
     "execution_count": 1234,
     "metadata": {},
     "output_type": "execute_result"
    }
   ],
   "source": [
    "n_accts = min(len(botometer_feedback_2019_one_hot_bot), len(gilani_2017_one_hot_bot), len(cresci_rtbust_2019_one_hot_bot), len(cresci_stock_2018_one_hot_bot))\n",
    "\n",
    "other_bots = pd.concat([botometer_feedback_2019_one_hot_bot[cols].sample(n_accts), \n",
    "                        gilani_2017_one_hot_bot[cols].sample(n_accts), \n",
    "                        cresci_rtbust_2019_one_hot_bot[cols].sample(n_accts), \n",
    "                        cresci_stock_2018_one_hot_bot[cols].sample(n_accts)])\n",
    "\n",
    "other_bots_labels = [0]*n_accts + [1]*n_accts + [2]*n_accts + [3]*n_accts\n",
    "train_test_fit_and_score(other_bots, other_bots_labels, depth=4, silent=False, prec_rec=False)\n"
   ]
  },
  {
   "cell_type": "markdown",
   "id": "3f8e8bab",
   "metadata": {},
   "source": [
    "# Botometer combined datasets: train on one, test on same one"
   ]
  },
  {
   "cell_type": "code",
   "execution_count": 1336,
   "id": "8f762eda",
   "metadata": {
    "jupyter": {
     "outputs_hidden": true
    }
   },
   "outputs": [
    {
     "name": "stdout",
     "output_type": "stream",
     "text": [
      "caverlee2011_bots\n",
      "Starting train_test_fit_and_score_clf at 10/07/22 14:09:45\n",
      "|--- statuses_count <= 1351.50\n",
      "|   |--- weights: [239.00, 666.00] class: 1\n",
      "|--- statuses_count >  1351.50\n",
      "|   |--- weights: [568.00, 127.00] class: 0\n",
      "\n",
      "Accuracy: 0.78\n",
      "Precision 0.7644444444444445\n",
      "Recall: 0.8309178743961353\n",
      "F1: 0.7962962962962963\n",
      "Finished train_test_fit_and_score_clf at 1665166185.492984. Execution time: 0.04721832275390625 s\n",
      "Starting train_test_fit_and_score_clf at 10/07/22 14:09:45\n",
      "|--- statuses_count <= 1522.00\n",
      "|   |--- friends_count <= 82.00\n",
      "|   |   |--- weights: [143.00, 33.00] class: 0\n",
      "|   |--- friends_count >  82.00\n",
      "|   |   |--- weights: [108.00, 633.00] class: 1\n",
      "|--- statuses_count >  1522.00\n",
      "|   |--- statuses_count <= 7321.50\n",
      "|   |   |--- weights: [193.00, 101.00] class: 0\n",
      "|   |--- statuses_count >  7321.50\n",
      "|   |   |--- weights: [374.00, 15.00] class: 0\n",
      "\n",
      "Accuracy: 0.7975\n",
      "Precision 0.8549222797927462\n",
      "Recall: 0.7568807339449541\n",
      "F1: 0.802919708029197\n",
      "Finished train_test_fit_and_score_clf at 1665166185.5301595. Execution time: 0.03712320327758789 s\n",
      "Starting train_test_fit_and_score_clf at 10/07/22 14:09:45\n",
      "|--- statuses_count <= 1351.50\n",
      "|   |--- friends_count <= 132.00\n",
      "|   |   |--- statuses_count <= 32.00\n",
      "|   |   |   |--- weights: [8.00, 51.00] class: 1\n",
      "|   |   |--- statuses_count >  32.00\n",
      "|   |   |   |--- weights: [148.00, 23.00] class: 0\n",
      "|   |--- friends_count >  132.00\n",
      "|   |   |--- followers_count <= 69411.50\n",
      "|   |   |   |--- weights: [57.00, 612.00] class: 1\n",
      "|   |   |--- followers_count >  69411.50\n",
      "|   |   |   |--- weights: [8.00, 0.00] class: 0\n",
      "|--- statuses_count >  1351.50\n",
      "|   |--- friends_count <= 1494.50\n",
      "|   |   |--- statuses_count <= 2856.50\n",
      "|   |   |   |--- weights: [78.00, 23.00] class: 0\n",
      "|   |   |--- statuses_count >  2856.50\n",
      "|   |   |   |--- weights: [356.00, 13.00] class: 0\n",
      "|   |--- friends_count >  1494.50\n",
      "|   |   |--- statuses_count <= 6038.50\n",
      "|   |   |   |--- weights: [17.00, 74.00] class: 1\n",
      "|   |   |--- statuses_count >  6038.50\n",
      "|   |   |   |--- weights: [111.00, 21.00] class: 0\n",
      "\n",
      "Accuracy: 0.8575\n",
      "Precision 0.815\n",
      "Recall: 0.8907103825136612\n",
      "F1: 0.8511749347258486\n",
      "Finished train_test_fit_and_score_clf at 1665166185.5621433. Execution time: 0.03193926811218262 s\n",
      "Starting train_test_fit_and_score_clf at 10/07/22 14:09:45\n",
      "|--- statuses_count <= 2935.50\n",
      "|   |--- friends_count <= 151.50\n",
      "|   |   |--- statuses_count <= 42.50\n",
      "|   |   |   |--- followers_count <= 44.00\n",
      "|   |   |   |   |--- weights: [17.00, 61.00] class: 1\n",
      "|   |   |   |--- followers_count >  44.00\n",
      "|   |   |   |   |--- weights: [4.00, 0.00] class: 0\n",
      "|   |   |--- statuses_count >  42.50\n",
      "|   |   |   |--- friends_count <= 82.50\n",
      "|   |   |   |   |--- weights: [140.00, 3.00] class: 0\n",
      "|   |   |   |--- friends_count >  82.50\n",
      "|   |   |   |   |--- weights: [43.00, 21.00] class: 0\n",
      "|   |--- friends_count >  151.50\n",
      "|   |   |--- followers_count <= 27313.50\n",
      "|   |   |   |--- statuses_count <= 672.50\n",
      "|   |   |   |   |--- weights: [34.00, 522.00] class: 1\n",
      "|   |   |   |--- statuses_count >  672.50\n",
      "|   |   |   |   |--- weights: [58.00, 149.00] class: 1\n",
      "|   |   |--- followers_count >  27313.50\n",
      "|   |   |   |--- friends_count <= 26112.50\n",
      "|   |   |   |   |--- weights: [16.00, 0.00] class: 0\n",
      "|   |   |   |--- friends_count >  26112.50\n",
      "|   |   |   |   |--- weights: [2.00, 1.00] class: 0\n",
      "|--- statuses_count >  2935.50\n",
      "|   |--- friends_count <= 1853.50\n",
      "|   |   |--- followers_count <= 1401.00\n",
      "|   |   |   |--- followers_count <= 1367.00\n",
      "|   |   |   |   |--- weights: [161.00, 10.00] class: 0\n",
      "|   |   |   |--- followers_count >  1367.00\n",
      "|   |   |   |   |--- weights: [0.00, 1.00] class: 1\n",
      "|   |   |--- followers_count >  1401.00\n",
      "|   |   |   |--- weights: [206.00, 0.00] class: 0\n",
      "|   |--- friends_count >  1853.50\n",
      "|   |   |--- statuses_count <= 5981.50\n",
      "|   |   |   |--- followers_count <= 38281.00\n",
      "|   |   |   |   |--- weights: [4.00, 30.00] class: 1\n",
      "|   |   |   |--- followers_count >  38281.00\n",
      "|   |   |   |   |--- weights: [4.00, 0.00] class: 0\n",
      "|   |   |--- statuses_count >  5981.50\n",
      "|   |   |   |--- followers_count <= 26621.50\n",
      "|   |   |   |   |--- weights: [41.00, 18.00] class: 0\n",
      "|   |   |   |--- followers_count >  26621.50\n",
      "|   |   |   |   |--- weights: [54.00, 0.00] class: 0\n",
      "\n",
      "Accuracy: 0.83\n",
      "Precision 0.7959183673469388\n",
      "Recall: 0.8478260869565217\n",
      "F1: 0.8210526315789473\n",
      "Finished train_test_fit_and_score_clf at 1665166185.5907507. Execution time: 0.028371334075927734 s\n",
      "Starting train_test_fit_and_score_clf at 10/07/22 14:09:45\n",
      "|--- statuses_count <= 1541.50\n",
      "|   |--- friends_count <= 82.00\n",
      "|   |   |--- statuses_count <= 31.00\n",
      "|   |   |   |--- followers_count <= 5.50\n",
      "|   |   |   |   |--- friends_count <= 21.50\n",
      "|   |   |   |   |   |--- weights: [4.00, 12.00] class: 1\n",
      "|   |   |   |   |--- friends_count >  21.50\n",
      "|   |   |   |   |   |--- weights: [0.00, 16.00] class: 1\n",
      "|   |   |   |--- followers_count >  5.50\n",
      "|   |   |   |   |--- friends_count <= 14.50\n",
      "|   |   |   |   |   |--- weights: [3.00, 0.00] class: 0\n",
      "|   |   |   |   |--- friends_count >  14.50\n",
      "|   |   |   |   |   |--- weights: [5.00, 9.00] class: 1\n",
      "|   |   |--- statuses_count >  31.00\n",
      "|   |   |   |--- statuses_count <= 103.00\n",
      "|   |   |   |   |--- followers_count <= 21.00\n",
      "|   |   |   |   |   |--- weights: [9.00, 5.00] class: 0\n",
      "|   |   |   |   |--- followers_count >  21.00\n",
      "|   |   |   |   |   |--- weights: [12.00, 0.00] class: 0\n",
      "|   |   |   |--- statuses_count >  103.00\n",
      "|   |   |   |   |--- friends_count <= 76.50\n",
      "|   |   |   |   |   |--- weights: [102.00, 0.00] class: 0\n",
      "|   |   |   |   |--- friends_count >  76.50\n",
      "|   |   |   |   |   |--- weights: [6.00, 1.00] class: 0\n",
      "|   |--- friends_count >  82.00\n",
      "|   |   |--- statuses_count <= 362.00\n",
      "|   |   |   |--- followers_count <= 33772.50\n",
      "|   |   |   |   |--- friends_count <= 231.50\n",
      "|   |   |   |   |   |--- weights: [22.00, 86.00] class: 1\n",
      "|   |   |   |   |--- friends_count >  231.50\n",
      "|   |   |   |   |   |--- weights: [15.00, 415.00] class: 1\n",
      "|   |   |   |--- followers_count >  33772.50\n",
      "|   |   |   |   |--- weights: [3.00, 0.00] class: 0\n",
      "|   |   |--- statuses_count >  362.00\n",
      "|   |   |   |--- friends_count <= 256.50\n",
      "|   |   |   |   |--- friends_count <= 125.50\n",
      "|   |   |   |   |   |--- weights: [18.00, 1.00] class: 0\n",
      "|   |   |   |   |--- friends_count >  125.50\n",
      "|   |   |   |   |   |--- weights: [16.00, 10.00] class: 0\n",
      "|   |   |   |--- friends_count >  256.50\n",
      "|   |   |   |   |--- followers_count <= 69411.50\n",
      "|   |   |   |   |   |--- weights: [27.00, 130.00] class: 1\n",
      "|   |   |   |   |--- followers_count >  69411.50\n",
      "|   |   |   |   |   |--- weights: [5.00, 0.00] class: 0\n",
      "|--- statuses_count >  1541.50\n",
      "|   |--- friends_count <= 1655.00\n",
      "|   |   |--- statuses_count <= 2870.50\n",
      "|   |   |   |--- friends_count <= 643.50\n",
      "|   |   |   |   |--- friends_count <= 265.50\n",
      "|   |   |   |   |   |--- weights: [42.00, 0.00] class: 0\n",
      "|   |   |   |   |--- friends_count >  265.50\n",
      "|   |   |   |   |   |--- weights: [21.00, 7.00] class: 0\n",
      "|   |   |   |--- friends_count >  643.50\n",
      "|   |   |   |   |--- followers_count <= 249.50\n",
      "|   |   |   |   |   |--- weights: [2.00, 0.00] class: 0\n",
      "|   |   |   |   |--- followers_count >  249.50\n",
      "|   |   |   |   |   |--- weights: [6.00, 15.00] class: 1\n",
      "|   |   |--- statuses_count >  2870.50\n",
      "|   |   |   |--- followers_count <= 466.00\n",
      "|   |   |   |   |--- followers_count <= 449.50\n",
      "|   |   |   |   |   |--- weights: [74.00, 7.00] class: 0\n",
      "|   |   |   |   |--- followers_count >  449.50\n",
      "|   |   |   |   |   |--- weights: [0.00, 1.00] class: 1\n",
      "|   |   |   |--- followers_count >  466.00\n",
      "|   |   |   |   |--- statuses_count <= 3742.50\n",
      "|   |   |   |   |   |--- weights: [11.00, 2.00] class: 0\n",
      "|   |   |   |   |--- statuses_count >  3742.50\n",
      "|   |   |   |   |   |--- weights: [277.00, 1.00] class: 0\n",
      "|   |--- friends_count >  1655.00\n",
      "|   |   |--- statuses_count <= 6038.50\n",
      "|   |   |   |--- followers_count <= 38281.00\n",
      "|   |   |   |   |--- followers_count <= 1347.00\n",
      "|   |   |   |   |   |--- weights: [5.00, 4.00] class: 0\n",
      "|   |   |   |   |--- followers_count >  1347.00\n",
      "|   |   |   |   |   |--- weights: [8.00, 61.00] class: 1\n",
      "|   |   |   |--- followers_count >  38281.00\n",
      "|   |   |   |   |--- weights: [4.00, 0.00] class: 0\n",
      "|   |   |--- statuses_count >  6038.50\n",
      "|   |   |   |--- followers_count <= 22629.00\n",
      "|   |   |   |   |--- friends_count <= 5500.50\n",
      "|   |   |   |   |   |--- weights: [36.00, 6.00] class: 0\n",
      "|   |   |   |   |--- friends_count >  5500.50\n",
      "|   |   |   |   |   |--- weights: [10.00, 12.00] class: 1\n",
      "|   |   |   |--- followers_count >  22629.00\n",
      "|   |   |   |   |--- followers_count <= 57665.50\n",
      "|   |   |   |   |   |--- weights: [8.00, 1.00] class: 0\n",
      "|   |   |   |   |--- followers_count >  57665.50\n",
      "|   |   |   |   |   |--- weights: [47.00, 0.00] class: 0\n",
      "\n",
      "Accuracy: 0.895\n",
      "Precision 0.8786407766990292\n",
      "Recall: 0.9141414141414141\n",
      "F1: 0.8960396039603961\n",
      "Finished train_test_fit_and_score_clf at 1665166185.6182604. Execution time: 0.027477741241455078 s\n",
      "spammers_df\n",
      "Starting train_test_fit_and_score_clf at 10/07/22 14:09:45\n",
      "|--- statuses_count <= 216.50\n",
      "|   |--- weights: [80.00, 723.00] class: 1\n",
      "|--- statuses_count >  216.50\n",
      "|   |--- weights: [718.00, 79.00] class: 0\n",
      "\n"
     ]
    },
    {
     "name": "stdout",
     "output_type": "stream",
     "text": [
      "Accuracy: 0.8975\n",
      "Precision 0.8755980861244019\n",
      "Recall: 0.9242424242424242\n",
      "F1: 0.8992628992628992\n",
      "Finished train_test_fit_and_score_clf at 1665166185.6460164. Execution time: 0.02106189727783203 s\n",
      "Starting train_test_fit_and_score_clf at 10/07/22 14:09:45\n",
      "|--- statuses_count <= 221.50\n",
      "|   |--- friends_count <= 0.50\n",
      "|   |   |--- weights: [13.00, 428.00] class: 1\n",
      "|   |--- friends_count >  0.50\n",
      "|   |   |--- weights: [77.00, 279.00] class: 1\n",
      "|--- statuses_count >  221.50\n",
      "|   |--- friends_count <= 8.50\n",
      "|   |   |--- weights: [44.00, 20.00] class: 0\n",
      "|   |--- friends_count >  8.50\n",
      "|   |   |--- weights: [691.00, 48.00] class: 0\n",
      "\n",
      "Accuracy: 0.895\n",
      "Precision 0.9140271493212669\n",
      "Recall: 0.8977777777777778\n",
      "F1: 0.9058295964125561\n",
      "Finished train_test_fit_and_score_clf at 1665166185.6663723. Execution time: 0.020336151123046875 s\n",
      "Starting train_test_fit_and_score_clf at 10/07/22 14:09:45\n",
      "|--- statuses_count <= 205.50\n",
      "|   |--- friends_count <= 0.50\n",
      "|   |   |--- statuses_count <= 97.00\n",
      "|   |   |   |--- weights: [0.00, 391.00] class: 1\n",
      "|   |   |--- statuses_count >  97.00\n",
      "|   |   |   |--- weights: [11.00, 59.00] class: 1\n",
      "|   |--- friends_count >  0.50\n",
      "|   |   |--- friends_count <= 29.50\n",
      "|   |   |   |--- weights: [23.00, 19.00] class: 0\n",
      "|   |   |--- friends_count >  29.50\n",
      "|   |   |   |--- weights: [41.00, 263.00] class: 1\n",
      "|--- statuses_count >  205.50\n",
      "|   |--- statuses_count <= 429.50\n",
      "|   |   |--- friends_count <= 4526.00\n",
      "|   |   |   |--- weights: [51.00, 20.00] class: 0\n",
      "|   |   |--- friends_count >  4526.00\n",
      "|   |   |   |--- weights: [0.00, 8.00] class: 1\n",
      "|   |--- statuses_count >  429.50\n",
      "|   |   |--- followers_count <= 23.50\n",
      "|   |   |   |--- weights: [9.00, 9.00] class: 0\n",
      "|   |   |--- followers_count >  23.50\n",
      "|   |   |   |--- weights: [654.00, 42.00] class: 0\n",
      "\n",
      "Accuracy: 0.8975\n",
      "Precision 0.8854166666666666\n",
      "Recall: 0.8994708994708994\n",
      "F1: 0.8923884514435695\n",
      "Finished train_test_fit_and_score_clf at 1665166185.687649. Execution time: 0.02124166488647461 s\n",
      "Starting train_test_fit_and_score_clf at 10/07/22 14:09:45\n",
      "|--- statuses_count <= 215.00\n",
      "|   |--- friends_count <= 0.50\n",
      "|   |   |--- statuses_count <= 97.50\n",
      "|   |   |   |--- weights: [0.00, 393.00] class: 1\n",
      "|   |   |--- statuses_count >  97.50\n",
      "|   |   |   |--- followers_count <= 26.50\n",
      "|   |   |   |   |--- weights: [10.00, 9.00] class: 0\n",
      "|   |   |   |--- followers_count >  26.50\n",
      "|   |   |   |   |--- weights: [3.00, 45.00] class: 1\n",
      "|   |--- friends_count >  0.50\n",
      "|   |   |--- friends_count <= 32.50\n",
      "|   |   |   |--- statuses_count <= 12.50\n",
      "|   |   |   |   |--- weights: [10.00, 0.00] class: 0\n",
      "|   |   |   |--- statuses_count >  12.50\n",
      "|   |   |   |   |--- weights: [18.00, 18.00] class: 0\n",
      "|   |   |--- friends_count >  32.50\n",
      "|   |   |   |--- followers_count <= 2785.00\n",
      "|   |   |   |   |--- weights: [37.00, 263.00] class: 1\n",
      "|   |   |   |--- followers_count >  2785.00\n",
      "|   |   |   |   |--- weights: [4.00, 0.00] class: 0\n",
      "|--- statuses_count >  215.00\n",
      "|   |--- statuses_count <= 453.50\n",
      "|   |   |--- friends_count <= 2984.50\n",
      "|   |   |   |--- followers_count <= 46.50\n",
      "|   |   |   |   |--- weights: [29.00, 2.00] class: 0\n",
      "|   |   |   |--- followers_count >  46.50\n",
      "|   |   |   |   |--- weights: [23.00, 15.00] class: 0\n",
      "|   |   |--- friends_count >  2984.50\n",
      "|   |   |   |--- weights: [0.00, 8.00] class: 1\n",
      "|   |--- statuses_count >  453.50\n",
      "|   |   |--- friends_count <= 43.50\n",
      "|   |   |   |--- followers_count <= 619.00\n",
      "|   |   |   |   |--- weights: [36.00, 19.00] class: 0\n",
      "|   |   |   |--- followers_count >  619.00\n",
      "|   |   |   |   |--- weights: [22.00, 0.00] class: 0\n",
      "|   |   |--- friends_count >  43.50\n",
      "|   |   |   |--- followers_count <= 6911.50\n",
      "|   |   |   |   |--- weights: [346.00, 26.00] class: 0\n",
      "|   |   |   |--- followers_count >  6911.50\n",
      "|   |   |   |   |--- weights: [263.00, 1.00] class: 0\n",
      "\n",
      "Accuracy: 0.8575\n",
      "Precision 0.9\n",
      "Recall: 0.8059701492537313\n",
      "F1: 0.8503937007874016\n",
      "Finished train_test_fit_and_score_clf at 1665166185.7093732. Execution time: 0.021698713302612305 s\n",
      "Starting train_test_fit_and_score_clf at 10/07/22 14:09:45\n",
      "|--- statuses_count <= 221.00\n",
      "|   |--- statuses_count <= 127.50\n",
      "|   |   |--- friends_count <= 0.50\n",
      "|   |   |   |--- statuses_count <= 97.00\n",
      "|   |   |   |   |--- weights: [0.00, 369.00] class: 1\n",
      "|   |   |   |--- statuses_count >  97.00\n",
      "|   |   |   |   |--- statuses_count <= 98.50\n",
      "|   |   |   |   |   |--- weights: [1.00, 0.00] class: 0\n",
      "|   |   |   |   |--- statuses_count >  98.50\n",
      "|   |   |   |   |   |--- weights: [4.00, 35.00] class: 1\n",
      "|   |   |--- friends_count >  0.50\n",
      "|   |   |   |--- friends_count <= 30.00\n",
      "|   |   |   |   |--- statuses_count <= 12.50\n",
      "|   |   |   |   |   |--- weights: [9.00, 0.00] class: 0\n",
      "|   |   |   |   |--- statuses_count >  12.50\n",
      "|   |   |   |   |   |--- weights: [11.00, 17.00] class: 1\n",
      "|   |   |   |--- friends_count >  30.00\n",
      "|   |   |   |   |--- followers_count <= 755.00\n",
      "|   |   |   |   |   |--- weights: [25.00, 253.00] class: 1\n",
      "|   |   |   |   |--- followers_count >  755.00\n",
      "|   |   |   |   |   |--- weights: [4.00, 3.00] class: 0\n",
      "|   |--- statuses_count >  127.50\n",
      "|   |   |--- friends_count <= 0.50\n",
      "|   |   |   |--- followers_count <= 29.00\n",
      "|   |   |   |   |--- statuses_count <= 159.50\n",
      "|   |   |   |   |   |--- weights: [2.00, 3.00] class: 1\n",
      "|   |   |   |   |--- statuses_count >  159.50\n",
      "|   |   |   |   |   |--- weights: [4.00, 0.00] class: 0\n",
      "|   |   |   |--- followers_count >  29.00\n",
      "|   |   |   |   |--- statuses_count <= 190.00\n",
      "|   |   |   |   |   |--- weights: [0.00, 22.00] class: 1\n",
      "|   |   |   |   |--- statuses_count >  190.00\n",
      "|   |   |   |   |   |--- weights: [1.00, 3.00] class: 1\n",
      "|   |   |--- friends_count >  0.50\n",
      "|   |   |   |--- friends_count <= 243.00\n",
      "|   |   |   |   |--- followers_count <= 3.00\n",
      "|   |   |   |   |   |--- weights: [0.00, 1.00] class: 1\n",
      "|   |   |   |   |--- followers_count >  3.00\n",
      "|   |   |   |   |   |--- weights: [17.00, 2.00] class: 0\n",
      "|   |   |   |--- friends_count >  243.00\n",
      "|   |   |   |   |--- followers_count <= 109.50\n",
      "|   |   |   |   |   |--- weights: [0.00, 11.00] class: 1\n",
      "|   |   |   |   |--- followers_count >  109.50\n",
      "|   |   |   |   |   |--- weights: [6.00, 7.00] class: 1\n",
      "|--- statuses_count >  221.00\n",
      "|   |--- friends_count <= 8.50\n",
      "|   |   |--- followers_count <= 13.00\n",
      "|   |   |   |--- weights: [18.00, 0.00] class: 0\n",
      "|   |   |--- followers_count >  13.00\n",
      "|   |   |   |--- followers_count <= 434.00\n",
      "|   |   |   |   |--- statuses_count <= 5444.00\n",
      "|   |   |   |   |   |--- weights: [15.00, 20.00] class: 1\n",
      "|   |   |   |   |--- statuses_count >  5444.00\n",
      "|   |   |   |   |   |--- weights: [0.00, 6.00] class: 1\n",
      "|   |   |   |--- followers_count >  434.00\n",
      "|   |   |   |   |--- weights: [9.00, 0.00] class: 0\n",
      "|   |--- friends_count >  8.50\n",
      "|   |   |--- statuses_count <= 297.00\n",
      "|   |   |   |--- friends_count <= 2984.50\n",
      "|   |   |   |   |--- friends_count <= 127.00\n",
      "|   |   |   |   |   |--- weights: [6.00, 0.00] class: 0\n",
      "|   |   |   |   |--- friends_count >  127.00\n",
      "|   |   |   |   |   |--- weights: [6.00, 5.00] class: 0\n",
      "|   |   |   |--- friends_count >  2984.50\n",
      "|   |   |   |   |--- weights: [0.00, 4.00] class: 1\n",
      "|   |   |--- statuses_count >  297.00\n",
      "|   |   |   |--- followers_count <= 23.50\n",
      "|   |   |   |   |--- friends_count <= 55.00\n",
      "|   |   |   |   |   |--- weights: [2.00, 4.00] class: 1\n",
      "|   |   |   |   |--- friends_count >  55.00\n",
      "|   |   |   |   |   |--- weights: [4.00, 0.00] class: 0\n",
      "|   |   |   |--- followers_count >  23.50\n",
      "|   |   |   |   |--- followers_count <= 6911.50\n",
      "|   |   |   |   |   |--- weights: [382.00, 33.00] class: 0\n",
      "|   |   |   |   |--- followers_count >  6911.50\n",
      "|   |   |   |   |   |--- weights: [275.00, 1.00] class: 0\n",
      "\n",
      "Accuracy: 0.8925\n",
      "Precision 0.8761904761904762\n",
      "Recall: 0.9154228855721394\n",
      "F1: 0.8953771289537713\n",
      "Finished train_test_fit_and_score_clf at 1665166185.7315404. Execution time: 0.021982669830322266 s\n",
      "fake_followers_df\n",
      "Starting train_test_fit_and_score_clf at 10/07/22 14:09:45\n",
      "|--- statuses_count <= 163.00\n",
      "|   |--- weights: [54.00, 566.00] class: 1\n",
      "|--- statuses_count >  163.00\n",
      "|   |--- weights: [756.00, 224.00] class: 0\n",
      "\n",
      "Accuracy: 0.7975\n",
      "Precision 0.8728323699421965\n",
      "Recall: 0.719047619047619\n",
      "F1: 0.7885117493472585\n",
      "Finished train_test_fit_and_score_clf at 1665166185.7547014. Execution time: 0.01924419403076172 s\n",
      "Starting train_test_fit_and_score_clf at 10/07/22 14:09:45\n",
      "|--- statuses_count <= 163.00\n",
      "|   |--- friends_count <= 133.50\n",
      "|   |   |--- weights: [49.00, 23.00] class: 0\n",
      "|   |--- friends_count >  133.50\n",
      "|   |   |--- weights: [11.00, 537.00] class: 1\n",
      "|--- statuses_count >  163.00\n",
      "|   |--- friends_count <= 17525.00\n",
      "|   |   |--- weights: [725.00, 140.00] class: 0\n",
      "|   |--- friends_count >  17525.00\n",
      "|   |   |--- weights: [29.00, 86.00] class: 1\n",
      "\n",
      "Accuracy: 0.8525\n",
      "Precision 0.9234972677595629\n",
      "Recall: 0.7897196261682243\n",
      "F1: 0.8513853904282116\n",
      "Finished train_test_fit_and_score_clf at 1665166185.7754266. Execution time: 0.020267724990844727 s\n",
      "Starting train_test_fit_and_score_clf at 10/07/22 14:09:45\n",
      "|--- statuses_count <= 118.50\n",
      "|   |--- friends_count <= 133.50\n",
      "|   |   |--- statuses_count <= 5.00\n",
      "|   |   |   |--- weights: [6.00, 15.00] class: 1\n",
      "|   |   |--- statuses_count >  5.00\n",
      "|   |   |   |--- weights: [38.00, 6.00] class: 0\n",
      "|   |--- friends_count >  133.50\n",
      "|   |   |--- followers_count <= 181795.00\n",
      "|   |   |   |--- weights: [4.00, 542.00] class: 1\n",
      "|   |   |--- followers_count >  181795.00\n",
      "|   |   |   |--- weights: [1.00, 0.00] class: 0\n",
      "|--- statuses_count >  118.50\n",
      "|   |--- friends_count <= 1565.50\n",
      "|   |   |--- statuses_count <= 1662.50\n",
      "|   |   |   |--- weights: [189.00, 60.00] class: 0\n",
      "|   |   |--- statuses_count >  1662.50\n",
      "|   |   |   |--- weights: [423.00, 9.00] class: 0\n",
      "|   |--- friends_count >  1565.50\n",
      "|   |   |--- statuses_count <= 1902.00\n",
      "|   |   |   |--- weights: [12.00, 78.00] class: 1\n",
      "|   |   |--- statuses_count >  1902.00\n",
      "|   |   |   |--- weights: [122.00, 95.00] class: 0\n",
      "\n",
      "Accuracy: 0.8325\n",
      "Precision 0.9210526315789473\n",
      "Recall: 0.717948717948718\n",
      "F1: 0.8069164265129682\n",
      "Finished train_test_fit_and_score_clf at 1665166185.7964034. Execution time: 0.020948171615600586 s\n",
      "Starting train_test_fit_and_score_clf at 10/07/22 14:09:45\n",
      "|--- statuses_count <= 168.00\n",
      "|   |--- friends_count <= 161.00\n",
      "|   |   |--- statuses_count <= 5.00\n",
      "|   |   |   |--- friends_count <= 16.00\n",
      "|   |   |   |   |--- weights: [4.00, 1.00] class: 0\n",
      "|   |   |   |--- friends_count >  16.00\n",
      "|   |   |   |   |--- weights: [0.00, 15.00] class: 1\n",
      "|   |   |--- statuses_count >  5.00\n",
      "|   |   |   |--- followers_count <= 32.50\n",
      "|   |   |   |   |--- weights: [33.00, 2.00] class: 0\n",
      "|   |   |   |--- followers_count >  32.50\n",
      "|   |   |   |   |--- weights: [9.00, 3.00] class: 0\n",
      "|   |--- friends_count >  161.00\n",
      "|   |   |--- followers_count <= 226.00\n",
      "|   |   |   |--- followers_count <= 35.50\n",
      "|   |   |   |   |--- weights: [4.00, 502.00] class: 1\n",
      "|   |   |   |--- followers_count >  35.50\n",
      "|   |   |   |   |--- weights: [2.00, 33.00] class: 1\n",
      "|   |   |--- followers_count >  226.00\n",
      "|   |   |   |--- friends_count <= 454.50\n",
      "|   |   |   |   |--- weights: [3.00, 1.00] class: 0\n",
      "|   |   |   |--- friends_count >  454.50\n",
      "|   |   |   |   |--- weights: [1.00, 26.00] class: 1\n",
      "|--- statuses_count >  168.00\n",
      "|   |--- friends_count <= 1560.00\n",
      "|   |   |--- statuses_count <= 1682.50\n",
      "|   |   |   |--- friends_count <= 284.00\n",
      "|   |   |   |   |--- weights: [140.00, 22.00] class: 0\n",
      "|   |   |   |--- friends_count >  284.00\n",
      "|   |   |   |   |--- weights: [30.00, 37.00] class: 1\n",
      "|   |   |--- statuses_count >  1682.50\n",
      "|   |   |   |--- followers_count <= 669.50\n",
      "|   |   |   |   |--- weights: [121.00, 7.00] class: 0\n",
      "|   |   |   |--- followers_count >  669.50\n",
      "|   |   |   |   |--- weights: [303.00, 3.00] class: 0\n",
      "|   |--- friends_count >  1560.00\n",
      "|   |   |--- friends_count <= 144690.00\n",
      "|   |   |   |--- statuses_count <= 5321.00\n",
      "|   |   |   |   |--- weights: [31.00, 74.00] class: 1\n",
      "|   |   |   |--- statuses_count >  5321.00\n",
      "|   |   |   |   |--- weights: [113.00, 30.00] class: 0\n",
      "|   |   |--- friends_count >  144690.00\n",
      "|   |   |   |--- friends_count <= 707950.50\n",
      "|   |   |   |   |--- weights: [1.00, 41.00] class: 1\n",
      "|   |   |   |--- friends_count >  707950.50\n",
      "|   |   |   |   |--- weights: [2.00, 6.00] class: 1\n",
      "\n",
      "Accuracy: 0.9025\n",
      "Precision 0.8872549019607843\n",
      "Recall: 0.9187817258883249\n",
      "F1: 0.9027431421446384\n",
      "Finished train_test_fit_and_score_clf at 1665166185.8179343. Execution time: 0.021396398544311523 s\n",
      "Starting train_test_fit_and_score_clf at 10/07/22 14:09:45\n",
      "|--- statuses_count <= 167.50\n",
      "|   |--- friends_count <= 133.50\n",
      "|   |   |--- statuses_count <= 5.00\n",
      "|   |   |   |--- followers_count <= 3.50\n",
      "|   |   |   |   |--- friends_count <= 16.00\n",
      "|   |   |   |   |   |--- weights: [1.00, 1.00] class: 0\n",
      "|   |   |   |   |--- friends_count >  16.00\n",
      "|   |   |   |   |   |--- weights: [0.00, 15.00] class: 1\n",
      "|   |   |   |--- followers_count >  3.50\n",
      "|   |   |   |   |--- weights: [5.00, 0.00] class: 0\n",
      "|   |   |--- statuses_count >  5.00\n",
      "|   |   |   |--- followers_count <= 31.50\n",
      "|   |   |   |   |--- weights: [34.00, 0.00] class: 0\n",
      "|   |   |   |--- followers_count >  31.50\n",
      "|   |   |   |   |--- followers_count <= 42.00\n",
      "|   |   |   |   |   |--- weights: [1.00, 4.00] class: 1\n",
      "|   |   |   |   |--- followers_count >  42.00\n",
      "|   |   |   |   |   |--- weights: [7.00, 0.00] class: 0\n",
      "|   |--- friends_count >  133.50\n",
      "|   |   |--- followers_count <= 181795.00\n",
      "|   |   |   |--- statuses_count <= 118.50\n",
      "|   |   |   |   |--- followers_count <= 35.00\n",
      "|   |   |   |   |   |--- weights: [2.00, 471.00] class: 1\n",
      "|   |   |   |   |--- followers_count >  35.00\n",
      "|   |   |   |   |   |--- weights: [3.00, 44.00] class: 1\n",
      "|   |   |   |--- statuses_count >  118.50\n",
      "|   |   |   |   |--- friends_count <= 299.50\n",
      "|   |   |   |   |   |--- weights: [4.00, 0.00] class: 0\n",
      "|   |   |   |   |--- friends_count >  299.50\n",
      "|   |   |   |   |   |--- weights: [1.00, 24.00] class: 1\n",
      "|   |   |--- followers_count >  181795.00\n",
      "|   |   |   |--- weights: [1.00, 0.00] class: 0\n",
      "|--- statuses_count >  167.50\n",
      "|   |--- friends_count <= 2363.50\n",
      "|   |   |--- statuses_count <= 1677.00\n",
      "|   |   |   |--- friends_count <= 713.00\n",
      "|   |   |   |   |--- statuses_count <= 1347.00\n",
      "|   |   |   |   |   |--- weights: [140.00, 15.00] class: 0\n",
      "|   |   |   |   |--- statuses_count >  1347.00\n",
      "|   |   |   |   |   |--- weights: [21.00, 20.00] class: 0\n",
      "|   |   |   |--- friends_count >  713.00\n",
      "|   |   |   |   |--- followers_count <= 206.50\n",
      "|   |   |   |   |   |--- weights: [2.00, 31.00] class: 1\n",
      "|   |   |   |   |--- followers_count >  206.50\n",
      "|   |   |   |   |   |--- weights: [12.00, 8.00] class: 0\n",
      "|   |   |--- statuses_count >  1677.00\n",
      "|   |   |   |--- followers_count <= 658.50\n",
      "|   |   |   |   |--- friends_count <= 720.50\n",
      "|   |   |   |   |   |--- weights: [124.00, 5.00] class: 0\n",
      "|   |   |   |   |--- friends_count >  720.50\n",
      "|   |   |   |   |   |--- weights: [18.00, 6.00] class: 0\n",
      "|   |   |   |--- followers_count >  658.50\n",
      "|   |   |   |   |--- followers_count <= 15806.00\n",
      "|   |   |   |   |   |--- weights: [131.00, 3.00] class: 0\n",
      "|   |   |   |   |--- followers_count >  15806.00\n",
      "|   |   |   |   |   |--- weights: [203.00, 0.00] class: 0\n",
      "|   |--- friends_count >  2363.50\n",
      "|   |   |--- friends_count <= 141372.50\n",
      "|   |   |   |--- statuses_count <= 5067.00\n",
      "|   |   |   |   |--- followers_count <= 298.50\n",
      "|   |   |   |   |   |--- weights: [0.00, 19.00] class: 1\n",
      "|   |   |   |   |--- followers_count >  298.50\n",
      "|   |   |   |   |   |--- weights: [18.00, 36.00] class: 1\n",
      "|   |   |   |--- statuses_count >  5067.00\n",
      "|   |   |   |   |--- friends_count <= 11207.00\n",
      "|   |   |   |   |   |--- weights: [57.00, 5.00] class: 0\n",
      "|   |   |   |   |--- friends_count >  11207.00\n",
      "|   |   |   |   |   |--- weights: [29.00, 25.00] class: 0\n",
      "|   |   |--- friends_count >  141372.50\n",
      "|   |   |   |--- friends_count <= 707950.50\n",
      "|   |   |   |   |--- followers_count <= 225284.50\n",
      "|   |   |   |   |   |--- weights: [1.00, 10.00] class: 1\n",
      "|   |   |   |   |--- followers_count >  225284.50\n",
      "|   |   |   |   |   |--- weights: [0.00, 33.00] class: 1\n",
      "|   |   |   |--- friends_count >  707950.50\n",
      "|   |   |   |   |--- statuses_count <= 9640.50\n",
      "|   |   |   |   |   |--- weights: [2.00, 1.00] class: 0\n",
      "|   |   |   |   |--- statuses_count >  9640.50\n",
      "|   |   |   |   |   |--- weights: [0.00, 7.00] class: 1\n",
      "\n",
      "Accuracy: 0.9075\n",
      "Precision 0.9368932038834952\n",
      "Recall: 0.8894009216589862\n",
      "F1: 0.9125295508274232\n",
      "Finished train_test_fit_and_score_clf at 1665166185.8399851. Execution time: 0.022017717361450195 s\n",
      "self_declared_df\n",
      "Starting train_test_fit_and_score_clf at 10/07/22 14:09:45\n"
     ]
    },
    {
     "name": "stdout",
     "output_type": "stream",
     "text": [
      "|--- friends_count <= 20.50\n",
      "|   |--- weights: [70.00, 478.00] class: 1\n",
      "|--- friends_count >  20.50\n",
      "|   |--- weights: [484.00, 84.00] class: 0\n",
      "\n",
      "Accuracy: 0.8678571428571429\n",
      "Precision 0.8721804511278195\n",
      "Recall: 0.8529411764705882\n",
      "F1: 0.862453531598513\n",
      "Finished train_test_fit_and_score_clf at 1665166186.2426703. Execution time: 0.3987901210784912 s\n",
      "Starting train_test_fit_and_score_clf at 10/07/22 14:09:46\n",
      "|--- friends_count <= 19.50\n",
      "|   |--- statuses_count <= 301.00\n",
      "|   |   |--- weights: [35.00, 17.00] class: 0\n",
      "|   |--- statuses_count >  301.00\n",
      "|   |   |--- weights: [35.00, 452.00] class: 1\n",
      "|--- friends_count >  19.50\n",
      "|   |--- friends_count <= 59.50\n",
      "|   |   |--- weights: [46.00, 41.00] class: 0\n",
      "|   |--- friends_count >  59.50\n",
      "|   |   |--- weights: [443.00, 47.00] class: 0\n",
      "\n",
      "Accuracy: 0.9\n",
      "Precision 0.937984496124031\n",
      "Recall: 0.8581560283687943\n",
      "F1: 0.8962962962962963\n",
      "Finished train_test_fit_and_score_clf at 1665166186.2741556. Execution time: 0.031432390213012695 s\n",
      "Starting train_test_fit_and_score_clf at 10/07/22 14:09:46\n",
      "|--- friends_count <= 24.50\n",
      "|   |--- statuses_count <= 300.50\n",
      "|   |   |--- followers_count <= 2.50\n",
      "|   |   |   |--- weights: [20.00, 1.00] class: 0\n",
      "|   |   |--- followers_count >  2.50\n",
      "|   |   |   |--- weights: [18.00, 15.00] class: 0\n",
      "|   |--- statuses_count >  300.50\n",
      "|   |   |--- friends_count <= 10.50\n",
      "|   |   |   |--- weights: [26.00, 433.00] class: 1\n",
      "|   |   |--- friends_count >  10.50\n",
      "|   |   |   |--- weights: [14.00, 27.00] class: 1\n",
      "|--- friends_count >  24.50\n",
      "|   |--- friends_count <= 50.50\n",
      "|   |   |--- statuses_count <= 1176.00\n",
      "|   |   |   |--- weights: [23.00, 3.00] class: 0\n",
      "|   |   |--- statuses_count >  1176.00\n",
      "|   |   |   |--- weights: [10.00, 25.00] class: 1\n",
      "|   |--- friends_count >  50.50\n",
      "|   |   |--- followers_count <= 29502.00\n",
      "|   |   |   |--- weights: [280.00, 50.00] class: 0\n",
      "|   |   |--- followers_count >  29502.00\n",
      "|   |   |   |--- weights: [170.00, 1.00] class: 0\n",
      "\n",
      "Accuracy: 0.9107142857142857\n",
      "Precision 0.9214285714285714\n",
      "Recall: 0.9020979020979021\n",
      "F1: 0.911660777385159\n",
      "Finished train_test_fit_and_score_clf at 1665166186.3011572. Execution time: 0.026961088180541992 s\n",
      "Starting train_test_fit_and_score_clf at 10/07/22 14:09:46\n",
      "|--- friends_count <= 50.50\n",
      "|   |--- statuses_count <= 413.00\n",
      "|   |   |--- followers_count <= 2.50\n",
      "|   |   |   |--- statuses_count <= 28.00\n",
      "|   |   |   |   |--- weights: [2.00, 1.00] class: 0\n",
      "|   |   |   |--- statuses_count >  28.00\n",
      "|   |   |   |   |--- weights: [18.00, 0.00] class: 0\n",
      "|   |   |--- followers_count >  2.50\n",
      "|   |   |   |--- friends_count <= 13.00\n",
      "|   |   |   |   |--- weights: [20.00, 27.00] class: 1\n",
      "|   |   |   |--- friends_count >  13.00\n",
      "|   |   |   |   |--- weights: [14.00, 0.00] class: 0\n",
      "|   |--- statuses_count >  413.00\n",
      "|   |   |--- followers_count <= 109775.50\n",
      "|   |   |   |--- friends_count <= 16.00\n",
      "|   |   |   |   |--- weights: [17.00, 443.00] class: 1\n",
      "|   |   |   |--- friends_count >  16.00\n",
      "|   |   |   |   |--- weights: [17.00, 47.00] class: 1\n",
      "|   |   |--- followers_count >  109775.50\n",
      "|   |   |   |--- statuses_count <= 170040.50\n",
      "|   |   |   |   |--- weights: [11.00, 0.00] class: 0\n",
      "|   |   |   |--- statuses_count >  170040.50\n",
      "|   |   |   |   |--- weights: [0.00, 1.00] class: 1\n",
      "|--- friends_count >  50.50\n",
      "|   |--- followers_count <= 29502.00\n",
      "|   |   |--- statuses_count <= 380123.50\n",
      "|   |   |   |--- friends_count <= 168.50\n",
      "|   |   |   |   |--- weights: [76.00, 23.00] class: 0\n",
      "|   |   |   |--- friends_count >  168.50\n",
      "|   |   |   |   |--- weights: [190.00, 25.00] class: 0\n",
      "|   |   |--- statuses_count >  380123.50\n",
      "|   |   |   |--- weights: [0.00, 2.00] class: 1\n",
      "|   |--- followers_count >  29502.00\n",
      "|   |   |--- friends_count <= 4603.00\n",
      "|   |   |   |--- weights: [142.00, 0.00] class: 0\n",
      "|   |   |--- friends_count >  4603.00\n",
      "|   |   |   |--- friends_count <= 4997.00\n",
      "|   |   |   |   |--- weights: [0.00, 1.00] class: 1\n",
      "|   |   |   |--- friends_count >  4997.00\n",
      "|   |   |   |   |--- weights: [39.00, 0.00] class: 0\n",
      "\n",
      "Accuracy: 0.8785714285714286\n",
      "Precision 0.8357142857142857\n",
      "Recall: 0.9140625\n",
      "F1: 0.8731343283582088\n",
      "Finished train_test_fit_and_score_clf at 1665166186.3260603. Execution time: 0.024866580963134766 s\n",
      "Starting train_test_fit_and_score_clf at 10/07/22 14:09:46\n",
      "|--- friends_count <= 19.50\n",
      "|   |--- statuses_count <= 300.50\n",
      "|   |   |--- followers_count <= 2.50\n",
      "|   |   |   |--- weights: [18.00, 0.00] class: 0\n",
      "|   |   |--- followers_count >  2.50\n",
      "|   |   |   |--- statuses_count <= 263.00\n",
      "|   |   |   |   |--- friends_count <= 4.50\n",
      "|   |   |   |   |   |--- weights: [10.00, 15.00] class: 1\n",
      "|   |   |   |   |--- friends_count >  4.50\n",
      "|   |   |   |   |   |--- weights: [4.00, 1.00] class: 0\n",
      "|   |   |   |--- statuses_count >  263.00\n",
      "|   |   |   |   |--- weights: [3.00, 0.00] class: 0\n",
      "|   |--- statuses_count >  300.50\n",
      "|   |   |--- followers_count <= 44592.00\n",
      "|   |   |   |--- friends_count <= 10.50\n",
      "|   |   |   |   |--- friends_count <= 0.50\n",
      "|   |   |   |   |   |--- weights: [21.00, 152.00] class: 1\n",
      "|   |   |   |   |--- friends_count >  0.50\n",
      "|   |   |   |   |   |--- weights: [3.00, 273.00] class: 1\n",
      "|   |   |   |--- friends_count >  10.50\n",
      "|   |   |   |   |--- statuses_count <= 936.50\n",
      "|   |   |   |   |   |--- weights: [3.00, 2.00] class: 0\n",
      "|   |   |   |   |--- statuses_count >  936.50\n",
      "|   |   |   |   |   |--- weights: [3.00, 15.00] class: 1\n",
      "|   |   |--- followers_count >  44592.00\n",
      "|   |   |   |--- statuses_count <= 47817.00\n",
      "|   |   |   |   |--- weights: [6.00, 0.00] class: 0\n",
      "|   |   |   |--- statuses_count >  47817.00\n",
      "|   |   |   |   |--- weights: [0.00, 1.00] class: 1\n",
      "|--- friends_count >  19.50\n",
      "|   |--- friends_count <= 55.50\n",
      "|   |   |--- statuses_count <= 745.00\n",
      "|   |   |   |--- weights: [29.00, 0.00] class: 0\n",
      "|   |   |--- statuses_count >  745.00\n",
      "|   |   |   |--- followers_count <= 77277.00\n",
      "|   |   |   |   |--- followers_count <= 140.50\n",
      "|   |   |   |   |   |--- weights: [8.00, 14.00] class: 1\n",
      "|   |   |   |   |--- followers_count >  140.50\n",
      "|   |   |   |   |   |--- weights: [2.00, 25.00] class: 1\n",
      "|   |   |   |--- followers_count >  77277.00\n",
      "|   |   |   |   |--- weights: [6.00, 0.00] class: 0\n",
      "|   |--- friends_count >  55.50\n",
      "|   |   |--- followers_count <= 29502.00\n",
      "|   |   |   |--- friends_count <= 136.50\n",
      "|   |   |   |   |--- followers_count <= 2377.50\n",
      "|   |   |   |   |   |--- weights: [65.00, 16.00] class: 0\n",
      "|   |   |   |   |--- followers_count >  2377.50\n",
      "|   |   |   |   |   |--- weights: [0.00, 4.00] class: 1\n",
      "|   |   |   |--- friends_count >  136.50\n",
      "|   |   |   |   |--- friends_count <= 3694.50\n",
      "|   |   |   |   |   |--- weights: [182.00, 18.00] class: 0\n",
      "|   |   |   |   |--- friends_count >  3694.50\n",
      "|   |   |   |   |   |--- weights: [18.00, 8.00] class: 0\n",
      "|   |   |--- followers_count >  29502.00\n",
      "|   |   |   |--- friends_count <= 4564.00\n",
      "|   |   |   |   |--- weights: [147.00, 0.00] class: 0\n",
      "|   |   |   |--- friends_count >  4564.00\n",
      "|   |   |   |   |--- friends_count <= 4997.00\n",
      "|   |   |   |   |   |--- weights: [0.00, 1.00] class: 1\n",
      "|   |   |   |   |--- friends_count >  4997.00\n",
      "|   |   |   |   |   |--- weights: [43.00, 0.00] class: 0\n",
      "\n",
      "Accuracy: 0.8785714285714286\n",
      "Precision 0.8993288590604027\n",
      "Recall: 0.8758169934640523\n",
      "F1: 0.8874172185430463\n",
      "Finished train_test_fit_and_score_clf at 1665166186.3498068. Execution time: 0.023714303970336914 s\n",
      "political_bots_df\n",
      "Starting train_test_fit_and_score_clf at 10/07/22 14:09:46\n",
      "|--- friends_count <= 879.00\n",
      "|   |--- weights: [37.00, 0.00] class: 0\n",
      "|--- friends_count >  879.00\n",
      "|   |--- weights: [12.00, 50.00] class: 1\n",
      "\n",
      "Accuracy: 0.84\n",
      "Precision 0.75\n",
      "Recall: 1.0\n",
      "F1: 0.8571428571428571\n",
      "Finished train_test_fit_and_score_clf at 1665166186.36815. Execution time: 0.014713048934936523 s\n",
      "Starting train_test_fit_and_score_clf at 10/07/22 14:09:46\n",
      "|--- friends_count <= 776.50\n",
      "|   |--- weights: [35.00, 0.00] class: 0\n",
      "|--- friends_count >  776.50\n",
      "|   |--- statuses_count <= 4237.00\n",
      "|   |   |--- weights: [3.00, 48.00] class: 1\n",
      "|   |--- statuses_count >  4237.00\n",
      "|   |   |--- weights: [10.00, 3.00] class: 0\n",
      "\n",
      "Accuracy: 0.92\n",
      "Precision 0.9090909090909091\n",
      "Recall: 0.9090909090909091\n",
      "F1: 0.9090909090909091\n",
      "Finished train_test_fit_and_score_clf at 1665166186.382483. Execution time: 0.014305830001831055 s\n",
      "Starting train_test_fit_and_score_clf at 10/07/22 14:09:46\n",
      "|--- friends_count <= 879.00\n",
      "|   |--- weights: [36.00, 0.00] class: 0\n",
      "|--- friends_count >  879.00\n",
      "|   |--- statuses_count <= 12568.00\n",
      "|   |   |--- friends_count <= 14528.00\n",
      "|   |   |   |--- weights: [4.00, 50.00] class: 1\n",
      "|   |   |--- friends_count >  14528.00\n",
      "|   |   |   |--- weights: [3.00, 0.00] class: 0\n",
      "|   |--- statuses_count >  12568.00\n",
      "|   |   |--- weights: [6.00, 0.00] class: 0\n",
      "\n",
      "Accuracy: 1.0\n",
      "Precision 1.0\n",
      "Recall: 1.0\n",
      "F1: 1.0\n",
      "Finished train_test_fit_and_score_clf at 1665166186.3969994. Execution time: 0.014488697052001953 s\n",
      "Starting train_test_fit_and_score_clf at 10/07/22 14:09:46\n",
      "|--- friends_count <= 879.00\n",
      "|   |--- weights: [35.00, 0.00] class: 0\n",
      "|--- friends_count >  879.00\n",
      "|   |--- statuses_count <= 12568.00\n",
      "|   |   |--- followers_count <= 19195.50\n",
      "|   |   |   |--- followers_count <= 683.50\n",
      "|   |   |   |   |--- weights: [1.00, 0.00] class: 0\n",
      "|   |   |   |--- followers_count >  683.50\n",
      "|   |   |   |   |--- weights: [1.00, 51.00] class: 1\n",
      "|   |   |--- followers_count >  19195.50\n",
      "|   |   |   |--- weights: [2.00, 0.00] class: 0\n",
      "|   |--- statuses_count >  12568.00\n",
      "|   |   |--- weights: [9.00, 0.00] class: 0\n",
      "\n",
      "Accuracy: 1.0\n",
      "Precision 1.0\n",
      "Recall: 1.0\n",
      "F1: 1.0\n",
      "Finished train_test_fit_and_score_clf at 1665166186.4106598. Execution time: 0.0135498046875 s\n",
      "Starting train_test_fit_and_score_clf at 10/07/22 14:09:46\n",
      "|--- friends_count <= 879.50\n",
      "|   |--- weights: [39.00, 0.00] class: 0\n",
      "|--- friends_count >  879.50\n",
      "|   |--- followers_count <= 15168.50\n",
      "|   |   |--- statuses_count <= 4237.00\n",
      "|   |   |   |--- followers_count <= 812.00\n",
      "|   |   |   |   |--- weights: [1.00, 0.00] class: 0\n",
      "|   |   |   |--- followers_count >  812.00\n",
      "|   |   |   |   |--- weights: [0.00, 45.00] class: 1\n",
      "|   |   |--- statuses_count >  4237.00\n",
      "|   |   |   |--- friends_count <= 2682.50\n",
      "|   |   |   |   |--- weights: [4.00, 0.00] class: 0\n",
      "|   |   |   |--- friends_count >  2682.50\n",
      "|   |   |   |   |--- weights: [0.00, 3.00] class: 1\n",
      "|   |--- followers_count >  15168.50\n",
      "|   |   |--- weights: [7.00, 0.00] class: 0\n",
      "\n",
      "Accuracy: 1.0\n",
      "Precision 1.0\n",
      "Recall: 1.0\n",
      "F1: 1.0\n",
      "Finished train_test_fit_and_score_clf at 1665166186.4241405. Execution time: 0.013449668884277344 s\n",
      "other_bots\n",
      "Starting train_test_fit_and_score_clf at 10/07/22 14:09:46\n"
     ]
    },
    {
     "name": "stdout",
     "output_type": "stream",
     "text": [
      "|--- followers_count <= 224483.00\n",
      "|   |--- weights: [341.00, 404.00] class: 1\n",
      "|--- followers_count >  224483.00\n",
      "|   |--- weights: [110.00, 34.00] class: 0\n",
      "\n",
      "Accuracy: 0.5695067264573991\n",
      "Precision 0.5572916666666666\n",
      "Recall: 0.9067796610169492\n",
      "F1: 0.6903225806451613\n",
      "Finished train_test_fit_and_score_clf at 1665166186.4441698. Execution time: 0.017094135284423828 s\n",
      "Starting train_test_fit_and_score_clf at 10/07/22 14:09:46\n",
      "|--- statuses_count <= 71602.50\n",
      "|   |--- followers_count <= 34866.50\n",
      "|   |   |--- weights: [271.00, 320.00] class: 1\n",
      "|   |--- followers_count >  34866.50\n",
      "|   |   |--- weights: [141.00, 36.00] class: 0\n",
      "|--- statuses_count >  71602.50\n",
      "|   |--- statuses_count <= 219663.50\n",
      "|   |   |--- weights: [20.00, 68.00] class: 1\n",
      "|   |--- statuses_count >  219663.50\n",
      "|   |   |--- weights: [1.00, 32.00] class: 1\n",
      "\n",
      "Accuracy: 0.5829596412556054\n",
      "Precision 0.5193370165745856\n",
      "Recall: 0.94\n",
      "F1: 0.6690391459074733\n",
      "Finished train_test_fit_and_score_clf at 1665166186.461613. Execution time: 0.01741647720336914 s\n",
      "Starting train_test_fit_and_score_clf at 10/07/22 14:09:46\n",
      "|--- statuses_count <= 70753.00\n",
      "|   |--- followers_count <= 34866.50\n",
      "|   |   |--- statuses_count <= 1700.50\n",
      "|   |   |   |--- weights: [137.00, 84.00] class: 0\n",
      "|   |   |--- statuses_count >  1700.50\n",
      "|   |   |   |--- weights: [140.00, 238.00] class: 1\n",
      "|   |--- followers_count >  34866.50\n",
      "|   |   |--- statuses_count <= 34932.00\n",
      "|   |   |   |--- weights: [125.00, 17.00] class: 0\n",
      "|   |   |--- statuses_count >  34932.00\n",
      "|   |   |   |--- weights: [17.00, 17.00] class: 0\n",
      "|--- statuses_count >  70753.00\n",
      "|   |--- statuses_count <= 210814.50\n",
      "|   |   |--- followers_count <= 8126.00\n",
      "|   |   |   |--- weights: [13.00, 21.00] class: 1\n",
      "|   |   |--- followers_count >  8126.00\n",
      "|   |   |   |--- weights: [9.00, 43.00] class: 1\n",
      "|   |--- statuses_count >  210814.50\n",
      "|   |   |--- friends_count <= 21157.00\n",
      "|   |   |   |--- weights: [0.00, 22.00] class: 1\n",
      "|   |   |--- friends_count >  21157.00\n",
      "|   |   |   |--- weights: [1.00, 5.00] class: 1\n",
      "\n",
      "Accuracy: 0.6771300448430493\n",
      "Precision 0.648\n",
      "Recall: 0.7431192660550459\n",
      "F1: 0.6923076923076924\n",
      "Finished train_test_fit_and_score_clf at 1665166186.4786673. Execution time: 0.01702594757080078 s\n",
      "Starting train_test_fit_and_score_clf at 10/07/22 14:09:46\n",
      "|--- statuses_count <= 52116.00\n",
      "|   |--- followers_count <= 46415.50\n",
      "|   |   |--- statuses_count <= 1581.50\n",
      "|   |   |   |--- friends_count <= 958.00\n",
      "|   |   |   |   |--- weights: [126.00, 55.00] class: 0\n",
      "|   |   |   |--- friends_count >  958.00\n",
      "|   |   |   |   |--- weights: [7.00, 19.00] class: 1\n",
      "|   |   |--- statuses_count >  1581.50\n",
      "|   |   |   |--- followers_count <= 812.50\n",
      "|   |   |   |   |--- weights: [66.00, 180.00] class: 1\n",
      "|   |   |   |--- followers_count >  812.50\n",
      "|   |   |   |   |--- weights: [76.00, 50.00] class: 0\n",
      "|   |--- followers_count >  46415.50\n",
      "|   |   |--- statuses_count <= 18843.00\n",
      "|   |   |   |--- friends_count <= 7.50\n",
      "|   |   |   |   |--- weights: [1.00, 1.00] class: 0\n",
      "|   |   |   |--- friends_count >  7.50\n",
      "|   |   |   |   |--- weights: [87.00, 3.00] class: 0\n",
      "|   |   |--- statuses_count >  18843.00\n",
      "|   |   |   |--- friends_count <= 149.00\n",
      "|   |   |   |   |--- weights: [5.00, 9.00] class: 1\n",
      "|   |   |   |--- friends_count >  149.00\n",
      "|   |   |   |   |--- weights: [41.00, 13.00] class: 0\n",
      "|--- statuses_count >  52116.00\n",
      "|   |--- statuses_count <= 219663.50\n",
      "|   |   |--- followers_count <= 8126.00\n",
      "|   |   |   |--- friends_count <= 626.50\n",
      "|   |   |   |   |--- weights: [11.00, 5.00] class: 0\n",
      "|   |   |   |--- friends_count >  626.50\n",
      "|   |   |   |   |--- weights: [10.00, 20.00] class: 1\n",
      "|   |   |--- followers_count >  8126.00\n",
      "|   |   |   |--- followers_count <= 225520.50\n",
      "|   |   |   |   |--- weights: [6.00, 43.00] class: 1\n",
      "|   |   |   |--- followers_count >  225520.50\n",
      "|   |   |   |   |--- weights: [9.00, 17.00] class: 1\n",
      "|   |--- statuses_count >  219663.50\n",
      "|   |   |--- weights: [0.00, 29.00] class: 1\n",
      "\n",
      "Accuracy: 0.6816143497757847\n",
      "Precision 0.7029702970297029\n",
      "Recall: 0.6339285714285714\n",
      "F1: 0.6666666666666666\n",
      "Finished train_test_fit_and_score_clf at 1665166186.4969065. Execution time: 0.01821160316467285 s\n",
      "Starting train_test_fit_and_score_clf at 10/07/22 14:09:46\n",
      "|--- statuses_count <= 52487.00\n",
      "|   |--- followers_count <= 34956.50\n",
      "|   |   |--- statuses_count <= 1700.50\n",
      "|   |   |   |--- followers_count <= 23.50\n",
      "|   |   |   |   |--- statuses_count <= 767.00\n",
      "|   |   |   |   |   |--- weights: [45.00, 32.00] class: 0\n",
      "|   |   |   |   |--- statuses_count >  767.00\n",
      "|   |   |   |   |   |--- weights: [2.00, 15.00] class: 1\n",
      "|   |   |   |--- followers_count >  23.50\n",
      "|   |   |   |   |--- friends_count <= 986.50\n",
      "|   |   |   |   |   |--- weights: [83.00, 17.00] class: 0\n",
      "|   |   |   |   |--- friends_count >  986.50\n",
      "|   |   |   |   |   |--- weights: [10.00, 17.00] class: 1\n",
      "|   |   |--- statuses_count >  1700.50\n",
      "|   |   |   |--- followers_count <= 778.00\n",
      "|   |   |   |   |--- followers_count <= 23.00\n",
      "|   |   |   |   |   |--- weights: [0.00, 50.00] class: 1\n",
      "|   |   |   |   |--- followers_count >  23.00\n",
      "|   |   |   |   |   |--- weights: [64.00, 127.00] class: 1\n",
      "|   |   |   |--- followers_count >  778.00\n",
      "|   |   |   |   |--- friends_count <= 4614.00\n",
      "|   |   |   |   |   |--- weights: [65.00, 33.00] class: 0\n",
      "|   |   |   |   |--- friends_count >  4614.00\n",
      "|   |   |   |   |   |--- weights: [8.00, 17.00] class: 1\n",
      "|   |--- followers_count >  34956.50\n",
      "|   |   |--- statuses_count <= 18843.00\n",
      "|   |   |   |--- friends_count <= 7.50\n",
      "|   |   |   |   |--- friends_count <= 4.00\n",
      "|   |   |   |   |   |--- weights: [2.00, 0.00] class: 0\n",
      "|   |   |   |   |--- friends_count >  4.00\n",
      "|   |   |   |   |   |--- weights: [0.00, 2.00] class: 1\n",
      "|   |   |   |--- friends_count >  7.50\n",
      "|   |   |   |   |--- statuses_count <= 12493.00\n",
      "|   |   |   |   |   |--- weights: [72.00, 1.00] class: 0\n",
      "|   |   |   |   |--- statuses_count >  12493.00\n",
      "|   |   |   |   |   |--- weights: [23.00, 3.00] class: 0\n",
      "|   |   |--- statuses_count >  18843.00\n",
      "|   |   |   |--- friends_count <= 149.00\n",
      "|   |   |   |   |--- friends_count <= 72.00\n",
      "|   |   |   |   |   |--- weights: [4.00, 4.00] class: 0\n",
      "|   |   |   |   |--- friends_count >  72.00\n",
      "|   |   |   |   |   |--- weights: [0.00, 4.00] class: 1\n",
      "|   |   |   |--- friends_count >  149.00\n",
      "|   |   |   |   |--- followers_count <= 89949.50\n",
      "|   |   |   |   |   |--- weights: [3.00, 4.00] class: 1\n",
      "|   |   |   |   |--- followers_count >  89949.50\n",
      "|   |   |   |   |   |--- weights: [33.00, 5.00] class: 0\n",
      "|--- statuses_count >  52487.00\n",
      "|   |--- statuses_count <= 106637.50\n",
      "|   |   |--- statuses_count <= 62697.50\n",
      "|   |   |   |--- followers_count <= 1449115.00\n",
      "|   |   |   |   |--- followers_count <= 3360.00\n",
      "|   |   |   |   |   |--- weights: [1.00, 4.00] class: 1\n",
      "|   |   |   |   |--- followers_count >  3360.00\n",
      "|   |   |   |   |   |--- weights: [0.00, 15.00] class: 1\n",
      "|   |   |   |--- followers_count >  1449115.00\n",
      "|   |   |   |   |--- weights: [1.00, 0.00] class: 0\n",
      "|   |   |--- statuses_count >  62697.50\n",
      "|   |   |   |--- friends_count <= 14904.50\n",
      "|   |   |   |   |--- statuses_count <= 70998.00\n",
      "|   |   |   |   |   |--- weights: [10.00, 2.00] class: 0\n",
      "|   |   |   |   |--- statuses_count >  70998.00\n",
      "|   |   |   |   |   |--- weights: [17.00, 21.00] class: 1\n",
      "|   |   |   |--- friends_count >  14904.50\n",
      "|   |   |   |   |--- weights: [0.00, 6.00] class: 1\n",
      "|   |--- statuses_count >  106637.50\n",
      "|   |   |--- followers_count <= 2419.00\n",
      "|   |   |   |--- friends_count <= 1517.50\n",
      "|   |   |   |   |--- followers_count <= 2028.00\n",
      "|   |   |   |   |   |--- weights: [1.00, 13.00] class: 1\n",
      "|   |   |   |   |--- followers_count >  2028.00\n",
      "|   |   |   |   |   |--- weights: [1.00, 0.00] class: 0\n",
      "|   |   |   |--- friends_count >  1517.50\n",
      "|   |   |   |   |--- weights: [3.00, 0.00] class: 0\n",
      "|   |   |--- followers_count >  2419.00\n",
      "|   |   |   |--- friends_count <= 968.50\n",
      "|   |   |   |   |--- weights: [0.00, 15.00] class: 1\n",
      "|   |   |   |--- friends_count >  968.50\n",
      "|   |   |   |   |--- friends_count <= 1367.00\n",
      "|   |   |   |   |   |--- weights: [1.00, 0.00] class: 0\n",
      "|   |   |   |   |--- friends_count >  1367.00\n",
      "|   |   |   |   |   |--- weights: [3.00, 30.00] class: 1\n",
      "\n",
      "Accuracy: 0.7354260089686099\n",
      "Precision 0.7727272727272727\n",
      "Recall: 0.7142857142857143\n",
      "F1: 0.7423580786026202\n",
      "Finished train_test_fit_and_score_clf at 1665166186.5149965. Execution time: 0.01806163787841797 s\n"
     ]
    }
   ],
   "source": [
    "botometer_datasets = [simple_df, spammers_df, fake_followers_df, self_declared_df, political_bots_df, other_bots]\n",
    "\n",
    "rows = []\n",
    "for j, dataset in enumerate(botometer_datasets[0:]):\n",
    "    print(get_dataset_name(dataset))\n",
    "    rows.append(train_test_botometer_combined(dataset, human_df, silent=False))\n",
    "    \n",
    "botometer_leave_one_out_scores = pd.DataFrame(rows)"
   ]
  },
  {
   "cell_type": "code",
   "execution_count": null,
   "id": "e422f5d3",
   "metadata": {},
   "outputs": [],
   "source": [
    "plot_botometer_combined_dataset_performance()"
   ]
  },
  {
   "cell_type": "markdown",
   "id": "725a5aca",
   "metadata": {},
   "source": [
    "# Botometer combined datasets: train on one, test on another"
   ]
  },
  {
   "cell_type": "code",
   "execution_count": 1339,
   "id": "ff87e15b",
   "metadata": {
    "jupyter": {
     "outputs_hidden": true
    }
   },
   "outputs": [
    {
     "name": "stderr",
     "output_type": "stream",
     "text": [
      "/home/jhays/.local/lib/python3.6/site-packages/sklearn/metrics/_classification.py:1248: UndefinedMetricWarning: Precision is ill-defined and being set to 0.0 due to no predicted samples. Use `zero_division` parameter to control this behavior.\n",
      "  _warn_prf(average, modifier, msg_start, len(result))\n",
      "/home/jhays/.local/lib/python3.6/site-packages/sklearn/metrics/_classification.py:1248: UndefinedMetricWarning: Precision is ill-defined and being set to 0.0 due to no predicted samples. Use `zero_division` parameter to control this behavior.\n",
      "  _warn_prf(average, modifier, msg_start, len(result))\n"
     ]
    }
   ],
   "source": [
    "rows = []\n",
    "\n",
    "for bots1 in botometer_datasets:\n",
    "    for bots2 in botometer_datasets:\n",
    "        rows.append(train_on_one_test_on_another_botometer_combined(bots1, bots2, human_df, silent=True))\n",
    "        \n",
    "botometer_train_on_one_test_on_another_performance = pd.DataFrame(rows)   \n"
   ]
  },
  {
   "cell_type": "code",
   "execution_count": 1341,
   "id": "dd149a16",
   "metadata": {},
   "outputs": [
    {
     "data": {
      "image/png": "[encoded data removed]",
      "text/plain": [
       "<Figure size 360x360 with 1 Axes>"
      ]
     },
     "metadata": {
      "needs_background": "light"
     },
     "output_type": "display_data"
    }
   ],
   "source": [
    "depth = 3\n",
    "botometer_tootoa_a = heatmap_train_on_one_test_on_another(botometer_train_on_one_test_on_another_performance, 'accuracy', depth)\n",
    "botometer_tootoa_a.to_csv(f\"botometer_tootoa_a{depth}.csv\")"
   ]
  },
  {
   "cell_type": "code",
   "execution_count": 1342,
   "id": "dbfe0fff",
   "metadata": {},
   "outputs": [
    {
     "data": {
      "image/png": "[encoded data removed]",
      "text/plain": [
       "<Figure size 360x360 with 1 Axes>"
      ]
     },
     "metadata": {
      "needs_background": "light"
     },
     "output_type": "display_data"
    }
   ],
   "source": [
    "depth = 3\n",
    "botometer_tootoa_f = heatmap_train_on_one_test_on_another(botometer_train_on_one_test_on_another_performance, 'f1', depth)\n",
    "botometer_tootoa_f.to_csv(f\"botometer_tootoa_f{depth}.csv\")"
   ]
  },
  {
   "cell_type": "code",
   "execution_count": 1343,
   "id": "b2d6e0ce",
   "metadata": {},
   "outputs": [
    {
     "data": {
      "text/html": [
       "<div>\n",
       "<style scoped>\n",
       "    .dataframe tbody tr th:only-of-type {\n",
       "        vertical-align: middle;\n",
       "    }\n",
       "\n",
       "    .dataframe tbody tr th {\n",
       "        vertical-align: top;\n",
       "    }\n",
       "\n",
       "    .dataframe thead th {\n",
       "        text-align: right;\n",
       "    }\n",
       "</style>\n",
       "<table border=\"1\" class=\"dataframe\">\n",
       "  <thead>\n",
       "    <tr style=\"text-align: right;\">\n",
       "      <th></th>\n",
       "      <th>caverlee2011_bots</th>\n",
       "      <th>spammers_df</th>\n",
       "      <th>fake_followers_df</th>\n",
       "      <th>self_declared_df</th>\n",
       "      <th>political_bots_df</th>\n",
       "      <th>other_bots</th>\n",
       "    </tr>\n",
       "  </thead>\n",
       "  <tbody>\n",
       "    <tr>\n",
       "      <th>caverlee2011_bots</th>\n",
       "      <td>0.894211</td>\n",
       "      <td>0.531053</td>\n",
       "      <td>0.785789</td>\n",
       "      <td>0.419054</td>\n",
       "      <td>0.967742</td>\n",
       "      <td>0.535072</td>\n",
       "    </tr>\n",
       "    <tr>\n",
       "      <th>spammers_df</th>\n",
       "      <td>0.487105</td>\n",
       "      <td>0.916842</td>\n",
       "      <td>0.788158</td>\n",
       "      <td>0.475645</td>\n",
       "      <td>0.435484</td>\n",
       "      <td>0.473022</td>\n",
       "    </tr>\n",
       "    <tr>\n",
       "      <th>fake_followers_df</th>\n",
       "      <td>0.793947</td>\n",
       "      <td>0.585789</td>\n",
       "      <td>0.868421</td>\n",
       "      <td>0.527937</td>\n",
       "      <td>0.935484</td>\n",
       "      <td>0.597122</td>\n",
       "    </tr>\n",
       "    <tr>\n",
       "      <th>self_declared_df</th>\n",
       "      <td>0.469914</td>\n",
       "      <td>0.707020</td>\n",
       "      <td>0.503582</td>\n",
       "      <td>0.920487</td>\n",
       "      <td>0.483871</td>\n",
       "      <td>0.642086</td>\n",
       "    </tr>\n",
       "    <tr>\n",
       "      <th>political_bots_df</th>\n",
       "      <td>0.870968</td>\n",
       "      <td>0.491935</td>\n",
       "      <td>0.580645</td>\n",
       "      <td>0.491935</td>\n",
       "      <td>0.991935</td>\n",
       "      <td>0.556452</td>\n",
       "    </tr>\n",
       "    <tr>\n",
       "      <th>other_bots</th>\n",
       "      <td>0.696942</td>\n",
       "      <td>0.388489</td>\n",
       "      <td>0.644784</td>\n",
       "      <td>0.716727</td>\n",
       "      <td>0.887097</td>\n",
       "      <td>0.729317</td>\n",
       "    </tr>\n",
       "  </tbody>\n",
       "</table>\n",
       "</div>"
      ],
      "text/plain": [
       "                   caverlee2011_bots  spammers_df  fake_followers_df  \\\n",
       "caverlee2011_bots           0.894211     0.531053           0.785789   \n",
       "spammers_df                 0.487105     0.916842           0.788158   \n",
       "fake_followers_df           0.793947     0.585789           0.868421   \n",
       "self_declared_df            0.469914     0.707020           0.503582   \n",
       "political_bots_df           0.870968     0.491935           0.580645   \n",
       "other_bots                  0.696942     0.388489           0.644784   \n",
       "\n",
       "                   self_declared_df  political_bots_df  other_bots  \n",
       "caverlee2011_bots          0.419054           0.967742    0.535072  \n",
       "spammers_df                0.475645           0.435484    0.473022  \n",
       "fake_followers_df          0.527937           0.935484    0.597122  \n",
       "self_declared_df           0.920487           0.483871    0.642086  \n",
       "political_bots_df          0.491935           0.991935    0.556452  \n",
       "other_bots                 0.716727           0.887097    0.729317  "
      ]
     },
     "execution_count": 1343,
     "metadata": {},
     "output_type": "execute_result"
    }
   ],
   "source": [
    "botometer_tootoa_a"
   ]
  },
  {
   "cell_type": "markdown",
   "id": "490f252d",
   "metadata": {},
   "source": [
    "# Botometer combined datasets: leave-one-dataset-out"
   ]
  },
  {
   "cell_type": "code",
   "execution_count": 655,
   "id": "9cc7376d",
   "metadata": {},
   "outputs": [],
   "source": [
    "cols = list(set.intersection(*map(set,[list(d) for d in botometer_datasets])))\n",
    "if 'created_at' in cols:\n",
    "    cols.remove(\"created_at\")\n",
    "max_depth = 5\n",
    "n = 1000\n",
    "\n",
    "rows = []\n",
    "\n",
    "for i in range(len(botometer_datasets)):\n",
    "    rows.append(botometer_leave_dataset_out(botometer_datasets, i))\n",
    "    \n",
    "botometer_leave_one_out_scores = pd.DataFrame(rows)"
   ]
  },
  {
   "cell_type": "code",
   "execution_count": 656,
   "id": "d6135e06",
   "metadata": {},
   "outputs": [
    {
     "name": "stdout",
     "output_type": "stream",
     "text": [
      "caverlee2011_bots & 0.70 \\textit{(3)} & 0.70  \\textit{(1)} \\\\\n",
      "spammers_df & 0.81 \\textit{(2)} & 0.81  \\textit{(2)} \\\\\n",
      "fake_followers_df & 0.92 \\textit{(3)} & 0.92  \\textit{(3)} \\\\\n",
      "botwiki_one_hot & 0.46 \\textit{(1)} & 0.46  \\textit{(2)} \\\\\n",
      "political_bots_df & 0.96 \\textit{(3)} & 0.96  \\textit{(3)} \\\\\n",
      "other_bots & 0.51 \\textit{(1)} & 0.51  \\textit{(2)} \\\\\n"
     ]
    }
   ],
   "source": [
    "print_leave_one_out_table(botometer_leave_one_out_scores)"
   ]
  },
  {
   "cell_type": "markdown",
   "id": "0acb5975",
   "metadata": {},
   "source": [
    "# Ensemble of specialized decision trees"
   ]
  },
  {
   "cell_type": "code",
   "execution_count": 1092,
   "id": "b0a8234e",
   "metadata": {},
   "outputs": [],
   "source": [
    "def split_human_df(human_df, n_datasets, dataset_size):\n",
    "    human_df_sample = human_df.sample(n=n_datasets*dataset_size)\n",
    "    return [human_df_sample[i*dataset_size:(i+1)*dataset_size] for i in range(n_datasets)]"
   ]
  },
  {
   "cell_type": "code",
   "execution_count": 1093,
   "id": "9ac2c22a",
   "metadata": {},
   "outputs": [],
   "source": [
    "DEPTH = 4\n"
   ]
  },
  {
   "cell_type": "code",
   "execution_count": 1309,
   "id": "5167deb7",
   "metadata": {},
   "outputs": [
    {
     "ename": "ValueError",
     "evalue": "Cannot take a larger sample than population when 'replace=False'",
     "output_type": "error",
     "traceback": [
      "\u001b[0;31m---------------------------------------------------------------------------\u001b[0m",
      "\u001b[0;31mValueError\u001b[0m                                Traceback (most recent call last)",
      "\u001b[0;32m<ipython-input-1309-8ab7e6aaabeb>\u001b[0m in \u001b[0;36m<module>\u001b[0;34m\u001b[0m\n\u001b[1;32m      1\u001b[0m \u001b[0mbotometer_datasets\u001b[0m \u001b[0;34m=\u001b[0m \u001b[0;34m[\u001b[0m\u001b[0msimple_df\u001b[0m\u001b[0;34m,\u001b[0m \u001b[0mspammers_df\u001b[0m\u001b[0;34m,\u001b[0m \u001b[0mfake_followers_df\u001b[0m\u001b[0;34m,\u001b[0m \u001b[0mself_declared_df\u001b[0m\u001b[0;34m,\u001b[0m \u001b[0mpolitical_bots_df\u001b[0m\u001b[0;34m,\u001b[0m \u001b[0mother_bots\u001b[0m\u001b[0;34m]\u001b[0m\u001b[0;34m\u001b[0m\u001b[0;34m\u001b[0m\u001b[0m\n\u001b[0;32m----> 2\u001b[0;31m \u001b[0mhuman_dfs\u001b[0m \u001b[0;34m=\u001b[0m \u001b[0msplit_human_df\u001b[0m\u001b[0;34m(\u001b[0m\u001b[0mhuman_df\u001b[0m\u001b[0;34m,\u001b[0m \u001b[0mlen\u001b[0m\u001b[0;34m(\u001b[0m\u001b[0mbotometer_datasets\u001b[0m\u001b[0;34m)\u001b[0m\u001b[0;34m,\u001b[0m \u001b[0mdataset_size\u001b[0m\u001b[0;34m)\u001b[0m\u001b[0;34m\u001b[0m\u001b[0;34m\u001b[0m\u001b[0m\n\u001b[0m\u001b[1;32m      3\u001b[0m \u001b[0;34m\u001b[0m\u001b[0m\n\u001b[1;32m      4\u001b[0m cols = set.intersection(\n\u001b[1;32m      5\u001b[0m     \u001b[0;34m*\u001b[0m\u001b[0;34m[\u001b[0m\u001b[0mset\u001b[0m\u001b[0;34m(\u001b[0m\u001b[0mb\u001b[0m\u001b[0;34m.\u001b[0m\u001b[0mcolumns\u001b[0m\u001b[0;34m)\u001b[0m \u001b[0;32mfor\u001b[0m \u001b[0mb\u001b[0m \u001b[0;32min\u001b[0m \u001b[0mbotometer_datasets\u001b[0m\u001b[0;34m]\u001b[0m\u001b[0;34m,\u001b[0m\u001b[0;34m\u001b[0m\u001b[0;34m\u001b[0m\u001b[0m\n",
      "\u001b[0;32m<ipython-input-1092-a4ee647f1eda>\u001b[0m in \u001b[0;36msplit_human_df\u001b[0;34m(human_df, n_datasets, dataset_size)\u001b[0m\n\u001b[1;32m      1\u001b[0m \u001b[0;32mdef\u001b[0m \u001b[0msplit_human_df\u001b[0m\u001b[0;34m(\u001b[0m\u001b[0mhuman_df\u001b[0m\u001b[0;34m,\u001b[0m \u001b[0mn_datasets\u001b[0m\u001b[0;34m,\u001b[0m \u001b[0mdataset_size\u001b[0m\u001b[0;34m)\u001b[0m\u001b[0;34m:\u001b[0m\u001b[0;34m\u001b[0m\u001b[0;34m\u001b[0m\u001b[0m\n\u001b[0;32m----> 2\u001b[0;31m     \u001b[0mhuman_df_sample\u001b[0m \u001b[0;34m=\u001b[0m \u001b[0mhuman_df\u001b[0m\u001b[0;34m.\u001b[0m\u001b[0msample\u001b[0m\u001b[0;34m(\u001b[0m\u001b[0mn\u001b[0m\u001b[0;34m=\u001b[0m\u001b[0mn_datasets\u001b[0m\u001b[0;34m*\u001b[0m\u001b[0mdataset_size\u001b[0m\u001b[0;34m)\u001b[0m\u001b[0;34m\u001b[0m\u001b[0;34m\u001b[0m\u001b[0m\n\u001b[0m\u001b[1;32m      3\u001b[0m     \u001b[0;32mreturn\u001b[0m \u001b[0;34m[\u001b[0m\u001b[0mhuman_df_sample\u001b[0m\u001b[0;34m[\u001b[0m\u001b[0mi\u001b[0m\u001b[0;34m*\u001b[0m\u001b[0mdataset_size\u001b[0m\u001b[0;34m:\u001b[0m\u001b[0;34m(\u001b[0m\u001b[0mi\u001b[0m\u001b[0;34m+\u001b[0m\u001b[0;36m1\u001b[0m\u001b[0;34m)\u001b[0m\u001b[0;34m*\u001b[0m\u001b[0mdataset_size\u001b[0m\u001b[0;34m]\u001b[0m \u001b[0;32mfor\u001b[0m \u001b[0mi\u001b[0m \u001b[0;32min\u001b[0m \u001b[0mrange\u001b[0m\u001b[0;34m(\u001b[0m\u001b[0mn_datasets\u001b[0m\u001b[0;34m)\u001b[0m\u001b[0;34m]\u001b[0m\u001b[0;34m\u001b[0m\u001b[0;34m\u001b[0m\u001b[0m\n",
      "\u001b[0;32m~/.local/lib/python3.6/site-packages/pandas/core/generic.py\u001b[0m in \u001b[0;36msample\u001b[0;34m(self, n, frac, replace, weights, random_state, axis)\u001b[0m\n\u001b[1;32m   4993\u001b[0m             )\n\u001b[1;32m   4994\u001b[0m \u001b[0;34m\u001b[0m\u001b[0m\n\u001b[0;32m-> 4995\u001b[0;31m         \u001b[0mlocs\u001b[0m \u001b[0;34m=\u001b[0m \u001b[0mrs\u001b[0m\u001b[0;34m.\u001b[0m\u001b[0mchoice\u001b[0m\u001b[0;34m(\u001b[0m\u001b[0maxis_length\u001b[0m\u001b[0;34m,\u001b[0m \u001b[0msize\u001b[0m\u001b[0;34m=\u001b[0m\u001b[0mn\u001b[0m\u001b[0;34m,\u001b[0m \u001b[0mreplace\u001b[0m\u001b[0;34m=\u001b[0m\u001b[0mreplace\u001b[0m\u001b[0;34m,\u001b[0m \u001b[0mp\u001b[0m\u001b[0;34m=\u001b[0m\u001b[0mweights\u001b[0m\u001b[0;34m)\u001b[0m\u001b[0;34m\u001b[0m\u001b[0;34m\u001b[0m\u001b[0m\n\u001b[0m\u001b[1;32m   4996\u001b[0m         \u001b[0;32mreturn\u001b[0m \u001b[0mself\u001b[0m\u001b[0;34m.\u001b[0m\u001b[0mtake\u001b[0m\u001b[0;34m(\u001b[0m\u001b[0mlocs\u001b[0m\u001b[0;34m,\u001b[0m \u001b[0maxis\u001b[0m\u001b[0;34m=\u001b[0m\u001b[0maxis\u001b[0m\u001b[0;34m)\u001b[0m\u001b[0;34m\u001b[0m\u001b[0;34m\u001b[0m\u001b[0m\n\u001b[1;32m   4997\u001b[0m \u001b[0;34m\u001b[0m\u001b[0m\n",
      "\u001b[0;32mmtrand.pyx\u001b[0m in \u001b[0;36mnumpy.random.mtrand.RandomState.choice\u001b[0;34m()\u001b[0m\n",
      "\u001b[0;31mValueError\u001b[0m: Cannot take a larger sample than population when 'replace=False'"
     ]
    }
   ],
   "source": [
    "botometer_datasets = [simple_df, spammers_df, fake_followers_df, self_declared_df, political_bots_df, other_bots]\n",
    "human_dfs = split_human_df(human_df, len(botometer_datasets), dataset_size)\n",
    "\n",
    "cols = set.intersection(\n",
    "    *[set(b.columns) for b in botometer_datasets],\n",
    "    set(human_df.columns)\n",
    ")\n",
    "if 'created_at' in cols:\n",
    "    cols.remove('created_at')\n",
    "cols = list(cols)\n",
    "\n"
   ]
  },
  {
   "cell_type": "code",
   "execution_count": 1096,
   "id": "ee60c96a",
   "metadata": {},
   "outputs": [],
   "source": [
    "clfs, test_aggregate_df, test_labels_aggregate_concat = get_ensemble_of_classifiers()\n"
   ]
  },
  {
   "cell_type": "code",
   "execution_count": 1097,
   "id": "f0e9dc7b",
   "metadata": {},
   "outputs": [
    {
     "name": "stdout",
     "output_type": "stream",
     "text": [
      "Accuracy using max confidences: 0.5693169092945128\n",
      "Accuracy using majority vote: 0.792609182530795\n",
      "Accuracy using weighted majority vote: 0.6512877939529675\n",
      "F1 using max confidences: 0.2811214953271028\n",
      "F1 using majority votes: 0.765093860984272\n",
      "F1 using weighted majority votes: 0.4801335559265442\n",
      "Accuracy using most captured: 0.8085106382978723\n",
      "Accuracy using weighted most captured: 0.8085106382978723)\n",
      "F1 using most captured: 0.8014859530996054\n",
      "F1 using weighted majority captured: 0.8014859530996054\n"
     ]
    }
   ],
   "source": [
    "score_ensemble_speicalized_trees(clfs, test_aggregate_df, test_labels_aggregate_concat)"
   ]
  },
  {
   "cell_type": "markdown",
   "id": "b8f617ff",
   "metadata": {},
   "source": [
    "## Ensembles of specialized random forests"
   ]
  },
  {
   "cell_type": "code",
   "execution_count": 1098,
   "id": "ea2b9adb",
   "metadata": {},
   "outputs": [
    {
     "name": "stdout",
     "output_type": "stream",
     "text": [
      "Accuracy: 0.5522956326987682\n",
      "F1: 0.23085802231627547\n"
     ]
    }
   ],
   "source": [
    ":w\n",
    "    rf = ensemble.RandomForestClassifier(n_estimators=100)\n",
    "rf_clfs, test_aggregate_df, test_labels_aggregate_concat = get_ensemble_of_classifiers(rf)\n",
    "\n",
    "predictions = [rf_clfs[i].predict(test_aggregate_df) for i in range(n_classifiers)]\n",
    "probs = [rf_clfs[i].predict_proba(test_aggregate_df) for i in range(n_classifiers)]\n",
    "probs = [p[:,0] for p in probs]\n",
    "most_confident_clf = [get_max_confidence_rf(probs, i)[0] for i in range(len(test_aggregate_df))]\n",
    "max_prediction = [predictions[j][i] for i,j in enumerate(most_confident_clf)]\n",
    "print(f\"Accuracy: {accuracy_score(max_prediction, test_labels_aggregate_concat)}\")\n",
    "print(f\"F1: {f1_score(max_prediction, test_labels_aggregate_concat)}\")"
   ]
  },
  {
   "cell_type": "markdown",
   "id": "64135848",
   "metadata": {},
   "source": [
    "## Just simple decision rule"
   ]
  },
  {
   "cell_type": "code",
   "execution_count": 1099,
   "id": "3d7d325c",
   "metadata": {},
   "outputs": [
    {
     "name": "stdout",
     "output_type": "stream",
     "text": [
      "Accuracy: 0.8100783874580068\n",
      "F1: 0.8108831400535237\n"
     ]
    }
   ],
   "source": [
    "all_clf = clfs[-1]\n",
    "all_predictions = all_clf.predict(test_aggregate_df)\n",
    "print(f\"Accuracy: {accuracy_score(all_predictions, test_labels_aggregate_concat)}\")\n",
    "print(f\"F1: {f1_score(all_predictions, test_labels_aggregate_concat)}\")"
   ]
  },
  {
   "cell_type": "markdown",
   "id": "58c77371",
   "metadata": {},
   "source": [
    "## Just random forest"
   ]
  },
  {
   "cell_type": "code",
   "execution_count": 1100,
   "id": "9720b088",
   "metadata": {},
   "outputs": [
    {
     "name": "stdout",
     "output_type": "stream",
     "text": [
      "Accuracy: 0.8855543113101904\n",
      "F1: 0.8867715488588522\n"
     ]
    }
   ],
   "source": [
    "all_clf_rf = rf_clfs[-1]\n",
    "all_predictions_rf = all_clf_rf.predict(test_aggregate_df)\n",
    "print(f\"Accuracy: {accuracy_score(all_predictions_rf, test_labels_aggregate_concat)}\")\n",
    "print(f\"F1: {f1_score(all_predictions_rf, test_labels_aggregate_concat)}\")"
   ]
  },
  {
   "cell_type": "markdown",
   "id": "3b9efd86",
   "metadata": {},
   "source": [
    "## Testing on held-out set"
   ]
  },
  {
   "cell_type": "code",
   "execution_count": 1101,
   "id": "446e4f13",
   "metadata": {},
   "outputs": [
    {
     "name": "stdout",
     "output_type": "stream",
     "text": [
      "Accuracy using max confidences: 0.46229966002914036\n",
      "Accuracy using majority vote: 0.5355755220981059\n",
      "Accuracy using weighted majority vote: 0.46958474987858184\n",
      "F1 using max confidences: 0.046917034326912736\n",
      "F1 using majority votes: 0.4088098918083462\n",
      "F1 using weighted majority votes: 0.0606386410063434\n",
      "Accuracy using most captured: 0.4993929091792132\n",
      "Accuracy using weighted most captured: 0.49945361826129187)\n",
      "F1 using most captured: 0.445609788893371\n",
      "F1 using weighted majority captured: 0.4456397498823372\n"
     ]
    }
   ],
   "source": [
    "hold_out_test_df = pd.concat([cresci_stock_2018_one_hot[cols], cresci_rtbust_2019_one_hot[cols], gilani_2017_one_hot[cols]])\n",
    "hold_out_test_labels = pd.concat([cresci_stock_labels, rtbust_labels, gilani_labels])\n",
    "\n",
    "score_ensemble_speicalized_trees(clfs, hold_out_test_df, hold_out_test_labels)\n"
   ]
  },
  {
   "cell_type": "code",
   "execution_count": 1106,
   "id": "96f4a7e4",
   "metadata": {},
   "outputs": [
    {
     "name": "stdout",
     "output_type": "stream",
     "text": [
      "Accuracy using max confidences: 0.44448629105152154\n",
      "Accuracy using majority vote: 0.5284724314552576\n",
      "Accuracy using weighted majority vote: 0.4517173847544441\n",
      "F1 using max confidences: 0.04033832140533506\n",
      "F1 using majority votes: 0.43684778697373156\n",
      "F1 using weighted majority votes: 0.06547695467967646\n",
      "Accuracy using most captured: 0.491563724013257\n",
      "Accuracy using weighted most captured: 0.491563724013257)\n",
      "F1 using most captured: 0.4731501717140181\n",
      "F1 using weighted majority captured: 0.4731501717140181\n"
     ]
    }
   ],
   "source": [
    "score_ensemble_speicalized_trees(clfs, cresci_stock_2018_one_hot[cols], cresci_stock_labels)"
   ]
  },
  {
   "cell_type": "code",
   "execution_count": 1107,
   "id": "930b25be",
   "metadata": {},
   "outputs": [
    {
     "name": "stdout",
     "output_type": "stream",
     "text": [
      "Accuracy using max confidences: 0.44155844155844154\n",
      "Accuracy using majority vote: 0.46176046176046176\n",
      "Accuracy using weighted majority vote: 0.47474747474747475\n",
      "F1 using max confidences: 0.05839416058394161\n",
      "F1 using majority votes: 0.15419501133786848\n",
      "F1 using weighted majority votes: 0.037037037037037035\n",
      "Accuracy using most captured: 0.4227994227994228\n",
      "Accuracy using weighted most captured: 0.4227994227994228)\n",
      "F1 using most captured: 0.22779922779922782\n",
      "F1 using weighted majority captured: 0.22779922779922782\n"
     ]
    }
   ],
   "source": [
    "score_ensemble_speicalized_trees(clfs, cresci_rtbust_2019_one_hot[cols], rtbust_labels)"
   ]
  },
  {
   "cell_type": "code",
   "execution_count": 1104,
   "id": "84487f74",
   "metadata": {},
   "outputs": [
    {
     "name": "stdout",
     "output_type": "stream",
     "text": [
      "Accuracy using max confidences: 0.5625249700359568\n",
      "Accuracy using majority vote: 0.5936875749101078\n",
      "Accuracy using weighted majority vote: 0.5629244906112665\n",
      "F1 using max confidences: 0.08521303258145364\n",
      "F1 using majority votes: 0.2646420824295011\n",
      "F1 using weighted majority votes: 0.03527336860670194\n",
      "Accuracy using most captured: 0.5621254494606472\n",
      "Accuracy using weighted most captured: 0.5625249700359568)\n",
      "F1 using most captured: 0.2901554404145078\n",
      "F1 using weighted majority captured: 0.29034348671419313\n"
     ]
    }
   ],
   "source": [
    "score_ensemble_speicalized_trees(clfs, gilani_2017_one_hot[cols], gilani_labels)"
   ]
  },
  {
   "cell_type": "code",
   "execution_count": 1105,
   "id": "d9b6ee7f",
   "metadata": {},
   "outputs": [
    {
     "name": "stdout",
     "output_type": "stream",
     "text": [
      "Accuracy: 0.5064958717824186\n",
      "F1: 0.4619763055132703\n"
     ]
    }
   ],
   "source": [
    "all_predictions = all_clf.predict(hold_out_test_df)\n",
    "print(f\"Accuracy: {accuracy_score(all_predictions, hold_out_test_labels)}\")\n",
    "print(f\"F1: {f1_score(all_predictions, hold_out_test_labels)}\")"
   ]
  },
  {
   "cell_type": "code",
   "execution_count": 1108,
   "id": "86e0c68f",
   "metadata": {},
   "outputs": [
    {
     "name": "stdout",
     "output_type": "stream",
     "text": [
      "Accuracy: 0.4909611328713468\n",
      "F1: 0.4729371392918421\n"
     ]
    }
   ],
   "source": [
    "all_predictions = all_clf.predict(cresci_stock_2018_one_hot[cols])\n",
    "print(f\"Accuracy: {accuracy_score(all_predictions, cresci_stock_labels)}\")\n",
    "print(f\"F1: {f1_score(all_predictions, cresci_stock_labels)}\")"
   ]
  },
  {
   "cell_type": "code",
   "execution_count": 1112,
   "id": "823c97a5",
   "metadata": {},
   "outputs": [
    {
     "name": "stdout",
     "output_type": "stream",
     "text": [
      "Accuracy: 0.4213564213564214\n",
      "F1: 0.2273603082851638\n"
     ]
    }
   ],
   "source": [
    "all_predictions = all_clf.predict(cresci_rtbust_2019_one_hot[cols])\n",
    "print(f\"Accuracy: {accuracy_score(all_predictions, rtbust_labels)}\")\n",
    "print(f\"F1: {f1_score(all_predictions, rtbust_labels)}\")"
   ]
  },
  {
   "cell_type": "code",
   "execution_count": 1109,
   "id": "5005440e",
   "metadata": {},
   "outputs": [
    {
     "name": "stdout",
     "output_type": "stream",
     "text": [
      "Accuracy: 0.6124650419496604\n",
      "F1: 0.4513574660633484\n"
     ]
    }
   ],
   "source": [
    "all_predictions = all_clf.predict(gilani_2017_one_hot[cols])\n",
    "print(f\"Accuracy: {accuracy_score(all_predictions, gilani_labels)}\")\n",
    "print(f\"F1: {f1_score(all_predictions, gilani_labels)}\")"
   ]
  },
  {
   "cell_type": "code",
   "execution_count": 1110,
   "id": "da06c098",
   "metadata": {},
   "outputs": [
    {
     "name": "stdout",
     "output_type": "stream",
     "text": [
      "Accuracy: 0.8944269062651773\n",
      "F1: 0.8897902275175866\n"
     ]
    }
   ],
   "source": [
    "all_clf_rf = rf_clfs[-1]\n",
    "all_predictions_rf = all_clf_rf.predict(hold_out_test_df)\n",
    "print(f\"Accuracy: {accuracy_score(all_predictions_rf, hold_out_test_labels)}\")\n",
    "print(f\"F1: {f1_score(all_predictions_rf, hold_out_test_labels)}\")"
   ]
  },
  {
   "cell_type": "code",
   "execution_count": 1111,
   "id": "24f8485d",
   "metadata": {},
   "outputs": [
    {
     "name": "stdout",
     "output_type": "stream",
     "text": [
      "Accuracy: 0.9026062066887617\n",
      "F1: 0.9022749603204596\n"
     ]
    }
   ],
   "source": [
    "all_predictions_rf = all_clf_rf.predict(cresci_stock_2018_one_hot[cols])\n",
    "print(f\"Accuracy: {accuracy_score(all_predictions_rf, cresci_stock_labels)}\")\n",
    "print(f\"F1: {f1_score(all_predictions_rf, cresci_stock_labels)}\")"
   ]
  },
  {
   "cell_type": "code",
   "execution_count": 1113,
   "id": "759e6820",
   "metadata": {},
   "outputs": [
    {
     "name": "stdout",
     "output_type": "stream",
     "text": [
      "Accuracy: 0.7878787878787878\n",
      "F1: 0.7741935483870966\n"
     ]
    }
   ],
   "source": [
    "all_predictions_rf = all_clf_rf.predict(cresci_rtbust_2019_one_hot[cols])\n",
    "print(f\"Accuracy: {accuracy_score(all_predictions_rf, rtbust_labels)}\")\n",
    "print(f\"F1: {f1_score(all_predictions_rf, rtbust_labels)}\")"
   ]
  },
  {
   "cell_type": "code",
   "execution_count": 1114,
   "id": "d3435f16",
   "metadata": {},
   "outputs": [
    {
     "name": "stdout",
     "output_type": "stream",
     "text": [
      "Accuracy: 0.8805433479824211\n",
      "F1: 0.8423827095413812\n"
     ]
    }
   ],
   "source": [
    "all_predictions_rf = all_clf_rf.predict(gilani_2017_one_hot[cols])\n",
    "print(f\"Accuracy: {accuracy_score(all_predictions_rf, gilani_labels)}\")\n",
    "print(f\"F1: {f1_score(all_predictions_rf, gilani_labels)}\")"
   ]
  }
 ],
 "metadata": {
  "kernelspec": {
   "display_name": "Python 3",
   "language": "python",
   "name": "python3"
  },
  "language_info": {
   "codemirror_mode": {
    "name": "ipython",
    "version": 3
   },
   "file_extension": ".py",
   "mimetype": "text/x-python",
   "name": "python",
   "nbconvert_exporter": "python",
   "pygments_lexer": "ipython3",
   "version": "3.6.8"
  }
 },
 "nbformat": 4,
 "nbformat_minor": 5
}
