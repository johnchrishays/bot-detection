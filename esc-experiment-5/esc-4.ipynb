{
 "cells": [
  {
   "cell_type": "code",
   "execution_count": 1,
   "metadata": {},
   "outputs": [],
   "source": [
    "%matplotlib inline\n",
    "import matplotlib.pyplot as plt\n",
    "import numpy as np\n",
    "from sklearn.tree import DecisionTreeClassifier\n",
    "from sklearn.ensemble import RandomForestClassifier\n",
    "from sklearn.model_selection import train_test_split\n",
    "from sklearn.model_selection import cross_val_score\n",
    "import time"
   ]
  },
  {
   "cell_type": "code",
   "execution_count": 2,
   "metadata": {},
   "outputs": [],
   "source": [
    "import pandas as pd\n",
    "realDF = pd.read_csv('../data-processing/cresci-2017/genuine_accounts_processed.csv')\n",
    "ss1DF = pd.read_csv('../data-processing/cresci-2017/social_spambots_1_processed.csv')\n",
    "ss2DF = pd.read_csv('../data-processing/cresci-2017/social_spambots_2_processed.csv')\n",
    "ss3DF = pd.read_csv('../data-processing/cresci-2017/social_spambots_3_processed.csv')\n",
    "ffDF = pd.read_csv('../data-processing/cresci-2017/fake_followers_processed.csv')\n",
    "ts1DF = pd.read_csv('../data-processing/cresci-2017/traditional_spambots_1_processed.csv')\n",
    "coaDF = pd.read_csv('../data-processing/college-official-accounts/coa_processed.csv')\n",
    "v2019DF = pd.read_csv('../data-processing/verified-2019/v2019_processed.csv')\n",
    "vp2019DF = pd.read_csv('../data-processing/vp-2019/vp2019_processed.csv')\n",
    "varol_realDF = pd.read_csv('../data-processing/varol-2017/varol_real_processed.csv')\n",
    "varol_botDF = pd.read_csv('../data-processing/varol-2017/varol_bot_processed.csv')"
   ]
  },
  {
   "cell_type": "code",
   "execution_count": 3,
   "metadata": {},
   "outputs": [],
   "source": [
    "# removing some entries from data\n",
    "del coaDF['url_youtube'], v2019DF['url_youtube'], vp2019DF['url_youtube'], varol_botDF['url_youtube'], varol_realDF['url_youtube']\n",
    "del coaDF['favorite'], realDF['favorite'], ss1DF['favorite'], ss2DF['favorite'], ss3DF['favorite'], ffDF['favorite'], ts1DF['favorite'], v2019DF['favorite'], vp2019DF['favorite'], varol_realDF['favorite'], varol_botDF['favorite']\n",
    "del coaDF['Unnamed: 0'], realDF['Unnamed: 0'], ss1DF['Unnamed: 0'], ss2DF['Unnamed: 0'], ss3DF['Unnamed: 0'], ffDF['Unnamed: 0'], ts1DF['Unnamed: 0'], v2019DF['Unnamed: 0'], vp2019DF['Unnamed: 0'], varol_realDF['Unnamed: 0'], varol_botDF['Unnamed: 0']\n",
    "del coaDF['favorite_over_friend'], realDF['favorite_over_friend'], ss1DF['favorite_over_friend'], ss2DF['favorite_over_friend'], ss3DF['favorite_over_friend'], ffDF['favorite_over_friend'], ts1DF['favorite_over_friend'], v2019DF['favorite_over_friend'], vp2019DF['favorite_over_friend'], varol_botDF['favorite_over_friend'], varol_realDF['favorite_over_friend']\n"
   ]
  },
  {
   "cell_type": "code",
   "execution_count": 4,
   "metadata": {},
   "outputs": [],
   "source": [
    "def data_split (df, split=0.7):\n",
    "    train_num = int(len(df.index)*split)\n",
    "    return df.iloc[:train_num,:], df.iloc[train_num+1:,:]"
   ]
  },
  {
   "cell_type": "code",
   "execution_count": 5,
   "metadata": {},
   "outputs": [],
   "source": [
    "def trainRF (reals, bots, n_estimators=100):\n",
    "\n",
    "    data = pd.concat(reals+bots).fillna(0).to_numpy()\n",
    "    target = np.array([0] * sum(len(real.index) for real in reals) + [1] * sum(len(bot.index) for bot in bots))\n",
    "    rfc = RandomForestClassifier(n_estimators=n_estimators)\n",
    "    rfc = rfc.fit(data, target)\n",
    "    return rfc"
   ]
  },
  {
   "cell_type": "code",
   "execution_count": 32,
   "metadata": {},
   "outputs": [],
   "source": [
    "def testRF(reals, bots, RF):\n",
    "    data = pd.concat(reals+bots).fillna(0).to_numpy()\n",
    "    target = np.array([0] * sum(len(real.index) for real in reals) + [1] * sum(len(bot.index) for bot in bots))\n",
    "    print(data)\n",
    "    print(target)\n",
    "    return RF.score(data, target)"
   ]
  },
  {
   "cell_type": "code",
   "execution_count": 7,
   "metadata": {},
   "outputs": [],
   "source": [
    "def testRF_ESC(reals, bots, RFs):\n",
    "    data = pd.concat(reals+bots).fillna(0).to_numpy()\n",
    "    target = np.array([0] * sum(len(real.index) for real in reals) + [1] * sum(len(bot.index) for bot in bots))\n",
    "    totalAccNum = 0\n",
    "    for i in range(data.shape[0]):\n",
    "        catScore = [float(RFs[0].predict_proba([data[i]])[0][0])] + [float(RF.predict_proba([data[i]])[0][1]) for RF in RFs[1:]]\n",
    "        if target[i] == 0 and catScore[0] == max(catScore) or target[i] == 1 and catScore[0] != max(catScore):\n",
    "            totalAccNum += 1\n",
    "        else:    \n",
    "            print(\"Pred\", i, target[i], catScore)\n",
    "    return float(totalAccNum)/data.shape[0]"
   ]
  },
  {
   "cell_type": "code",
   "execution_count": 8,
   "metadata": {},
   "outputs": [],
   "source": [
    "del coaDF['geo'], realDF['geo'], ss1DF['geo'], ss2DF['geo'], ss3DF['geo'], ffDF['geo'], ts1DF['geo'], v2019DF['geo'],vp2019DF['geo'], varol_botDF['geo'], varol_realDF['geo']"
   ]
  },
  {
   "cell_type": "code",
   "execution_count": 9,
   "metadata": {},
   "outputs": [],
   "source": [
    "realTrain, realTest = data_split(realDF)\n",
    "ss1Train, ss1Test = data_split(ss1DF)\n",
    "ss2Train, ss2Test = data_split(ss2DF)\n",
    "ss3Train, ss3Test = data_split(ss3DF)\n",
    "ts1Train, ts1Test = data_split(ts1DF)\n",
    "ffTrain, ffTest = data_split(ffDF)\n",
    "coaTrain, coaTest = data_split(coaDF)\n",
    "v2019Train, v2019Test = data_split(v2019DF)\n",
    "vp2019Train, vp2019Test = data_split(vp2019DF)\n",
    "varol_realTrain, varol_realTest = data_split(varol_realDF)\n",
    "varol_botTrain, varol_botTest = data_split(varol_botDF)"
   ]
  },
  {
   "cell_type": "code",
   "execution_count": 11,
   "metadata": {},
   "outputs": [
    {
     "name": "stdout",
     "output_type": "stream",
     "text": [
      "(2499, 47) (1367, 47) (477, 47) (445, 47) (862, 47)\n"
     ]
    }
   ],
   "source": [
    "print(coaTrain.shape, v2019Train.shape, vp2019Train.shape, varol_botTrain.shape, varol_realTrain.shape)"
   ]
  },
  {
   "cell_type": "code",
   "execution_count": 12,
   "metadata": {},
   "outputs": [
    {
     "name": "stdout",
     "output_type": "stream",
     "text": [
      "0.9255890863993386\n"
     ]
    }
   ],
   "source": [
    "no_cresci_2017_RF = trainRF([vp2019Train, varol_realTrain], [v2019Train, coaTrain, varol_botTrain])\n",
    "print(testRF([vp2019Test, varol_realTest], [v2019Test, coaTest, varol_botTest], no_cresci_2017_RF))"
   ]
  },
  {
   "cell_type": "code",
   "execution_count": 13,
   "metadata": {},
   "outputs": [
    {
     "name": "stdout",
     "output_type": "stream",
     "text": [
      "Elapsed time to compute the importances: 0.009 seconds\n"
     ]
    }
   ],
   "source": [
    "start_time = time.time()\n",
    "importances = no_cresci_2017_RF.feature_importances_\n",
    "std = np.std([tree.feature_importances_ for tree in no_cresci_2017_RF.estimators_], axis=0)\n",
    "elapsed_time = time.time() - start_time\n",
    "\n",
    "print(f\"Elapsed time to compute the importances: {elapsed_time:.3f} seconds\")"
   ]
  },
  {
   "cell_type": "code",
   "execution_count": 14,
   "metadata": {},
   "outputs": [
    {
     "data": {
      "image/png": "[encoded data removed]",
      "text/plain": [
       "<Figure size 432x288 with 1 Axes>"
      ]
     },
     "metadata": {
      "needs_background": "light"
     },
     "output_type": "display_data"
    }
   ],
   "source": [
    "forest_importances = pd.Series(importances, index=realTrain.columns.values.tolist())\n",
    "\n",
    "fig, ax = plt.subplots()\n",
    "forest_importances.plot.bar(yerr=std, ax=ax)\n",
    "ax.set_title(\"Feature importances using MDI\")\n",
    "ax.set_ylabel(\"Mean decrease in impurity\")\n",
    "fig.tight_layout()"
   ]
  },
  {
   "cell_type": "code",
   "execution_count": 15,
   "metadata": {},
   "outputs": [],
   "source": [
    "real_detect_RF = []\n",
    "real_detect_RF.append(trainRF([realTrain, varol_realTrain], [ss1Train, ss2Train, ss3Train, ffTrain, ts1Train, coaTrain, v2019Train, vp2019Train, varol_botTrain]))\n",
    "real_detect_RF.append(trainRF([realTrain, varol_realTrain], [ss1Train, ss2Train, ss3Train]))\n",
    "real_detect_RF.append(trainRF([realTrain, varol_realTrain], [ts1Train]))\n",
    "real_detect_RF.append(trainRF([realTrain, varol_realTrain], [coaTrain]))\n",
    "real_detect_RF.append(trainRF([realTrain, varol_realTrain], [ffTrain]))\n",
    "real_detect_RF.append(trainRF([realTrain, varol_realTrain], [v2019Train]))\n",
    "real_detect_RF.append(trainRF([realTrain, varol_realTrain], [vp2019Train]))\n",
    "real_detect_RF.append(trainRF([realTrain, varol_realTrain], [varol_botTrain]))"
   ]
  },
  {
   "cell_type": "code",
   "execution_count": 16,
   "metadata": {},
   "outputs": [
    {
     "name": "stdout",
     "output_type": "stream",
     "text": [
      "0.9705114421747811\n"
     ]
    }
   ],
   "source": [
    "print(testRF([realTest, varol_realTest], [ss1Test, ss2Test, ss3Test, ffTest, ts1Test, coaTest, v2019Test, vp2019Train, varol_botTest], real_detect_RF[0]))"
   ]
  },
  {
   "cell_type": "code",
   "execution_count": 18,
   "metadata": {},
   "outputs": [
    {
     "name": "stdout",
     "output_type": "stream",
     "text": [
      "0.7298747763864043\n"
     ]
    }
   ],
   "source": [
    "print(testRF([varol_realTest], [varol_botTest], real_detect_RF[0]))"
   ]
  },
  {
   "cell_type": "code",
   "execution_count": 19,
   "metadata": {},
   "outputs": [
    {
     "name": "stdout",
     "output_type": "stream",
     "text": [
      "Elapsed time to compute the importances: 0.008 seconds\n"
     ]
    }
   ],
   "source": [
    "start_time = time.time()\n",
    "importances = real_detect_RF[0].feature_importances_\n",
    "std = np.std([tree.feature_importances_ for tree in real_detect_RF[0].estimators_], axis=0)\n",
    "elapsed_time = time.time() - start_time\n",
    "\n",
    "print(f\"Elapsed time to compute the importances: {elapsed_time:.3f} seconds\")"
   ]
  },
  {
   "cell_type": "code",
   "execution_count": 20,
   "metadata": {},
   "outputs": [
    {
     "data": {
      "image/png": "[encoded data removed]",
      "text/plain": [
       "<Figure size 432x288 with 1 Axes>"
      ]
     },
     "metadata": {
      "needs_background": "light"
     },
     "output_type": "display_data"
    }
   ],
   "source": [
    "forest_importances = pd.Series(importances, index=realTrain.columns.values.tolist())\n",
    "\n",
    "fig, ax = plt.subplots()\n",
    "forest_importances.plot.bar(yerr=std, ax=ax)\n",
    "ax.set_title(\"Feature importances using MDI\")\n",
    "ax.set_ylabel(\"Mean decrease in impurity\")\n",
    "fig.tight_layout()"
   ]
  },
  {
   "cell_type": "code",
   "execution_count": 22,
   "metadata": {},
   "outputs": [
    {
     "name": "stdout",
     "output_type": "stream",
     "text": [
      "Pred 7 0 [0.1, 0.07, 0.01, 0.6, 0.0, 0.05, 0.08, 0.77]\n",
      "Pred 10 0 [0.15, 0.07, 0.24, 0.26, 0.01, 0.0, 0.04, 0.68]\n",
      "Pred 13 0 [0.01, 0.04, 0.0, 0.97, 0.0, 0.89, 0.27, 0.48]\n",
      "Pred 14 0 [0.35, 0.06, 0.03, 0.57, 0.0, 0.0, 0.12, 0.76]\n",
      "Pred 24 0 [0.34, 0.05, 0.01, 0.17, 0.02, 0.0, 0.08, 0.58]\n",
      "Pred 27 0 [0.18, 0.05, 0.0, 0.69, 0.01, 0.02, 0.02, 0.42]\n",
      "Pred 30 0 [0.31, 0.01, 0.0, 0.32, 0.0, 0.2, 0.03, 0.05]\n",
      "Pred 31 0 [0.43, 0.0, 0.02, 0.29, 0.02, 0.09, 0.49, 0.1]\n",
      "Pred 32 0 [0.35, 0.01, 0.02, 0.17, 0.05, 0.01, 0.35, 0.37]\n",
      "Pred 42 0 [0.25, 0.01, 0.0, 0.42, 0.01, 0.02, 0.08, 0.52]\n",
      "Pred 45 0 [0.06, 0.01, 0.0, 0.23, 0.01, 0.96, 0.33, 0.26]\n",
      "Pred 47 0 [0.18, 0.05, 0.0, 0.64, 0.02, 0.02, 0.63, 0.11]\n",
      "Pred 55 0 [0.4, 0.03, 0.0, 0.43, 0.01, 0.08, 0.15, 0.17]\n",
      "Pred 59 0 [0.06, 0.02, 0.0, 0.72, 0.02, 0.99, 0.13, 0.38]\n",
      "Pred 62 0 [0.19, 0.0, 0.0, 0.65, 0.0, 0.38, 0.07, 0.29]\n",
      "Pred 66 0 [0.0, 0.06, 0.0, 0.52, 0.01, 0.99, 0.36, 0.42]\n",
      "Pred 72 0 [0.1, 0.02, 0.0, 0.37, 0.02, 0.92, 0.52, 0.16]\n",
      "Pred 76 0 [0.19, 0.08, 0.03, 0.84, 0.01, 0.3, 0.14, 0.46]\n",
      "Pred 80 0 [0.25, 0.14, 0.01, 0.61, 0.02, 0.08, 0.17, 0.57]\n",
      "Pred 88 0 [0.33, 0.05, 0.0, 0.27, 0.0, 0.66, 0.15, 0.33]\n",
      "Pred 91 0 [0.29, 0.02, 0.0, 0.46, 0.01, 0.06, 0.67, 0.52]\n",
      "Pred 96 0 [0.2, 0.03, 0.0, 0.8, 0.03, 0.1, 0.39, 0.64]\n",
      "Pred 100 0 [0.14, 0.07, 0.0, 0.13, 0.0, 0.0, 0.01, 0.76]\n",
      "Pred 103 0 [0.17, 0.11, 0.01, 0.25, 0.02, 0.0, 0.07, 0.75]\n",
      "Pred 107 0 [0.35, 0.02, 0.02, 0.18, 0.06, 0.01, 0.45, 0.17]\n",
      "Pred 108 0 [0.14, 0.04, 0.0, 0.26, 0.0, 0.01, 0.01, 0.78]\n",
      "Pred 109 0 [0.33, 0.07, 0.0, 0.29, 0.0, 0.01, 0.04, 0.43]\n",
      "Pred 112 0 [0.1, 0.15, 0.02, 0.5, 0.01, 0.02, 0.16, 0.76]\n",
      "Pred 118 0 [0.37, 0.03, 0.03, 0.13, 0.0, 0.02, 0.14, 0.39]\n",
      "Pred 121 0 [0.02, 0.0, 0.0, 0.64, 0.02, 0.98, 0.24, 0.09]\n",
      "Pred 123 0 [0.3, 0.03, 0.01, 0.54, 0.05, 0.0, 0.37, 0.38]\n",
      "Pred 130 0 [0.47, 0.0, 0.0, 0.16, 0.0, 0.0, 0.7, 0.15]\n",
      "Pred 131 0 [0.08, 0.01, 0.0, 0.42, 0.01, 0.85, 0.27, 0.08]\n",
      "Pred 132 0 [0.38, 0.02, 0.0, 0.1, 0.06, 0.0, 0.39, 0.33]\n",
      "Pred 133 0 [0.01, 0.02, 0.0, 0.99, 0.0, 0.61, 0.16, 0.67]\n",
      "Pred 135 0 [0.22, 0.01, 0.0, 0.73, 0.0, 0.0, 0.07, 0.71]\n",
      "Pred 138 0 [0.25, 0.09, 0.01, 0.74, 0.0, 0.2, 0.1, 0.71]\n",
      "Pred 140 0 [0.24, 0.04, 0.01, 0.69, 0.0, 0.06, 0.1, 0.68]\n",
      "Pred 144 0 [0.51, 0.02, 0.05, 0.05, 0.04, 0.0, 0.16, 0.61]\n",
      "Pred 149 0 [0.11, 0.08, 0.0, 0.3, 0.0, 0.0, 0.04, 0.87]\n",
      "Pred 150 0 [0.29, 0.06, 0.0, 0.47, 0.0, 0.0, 0.06, 0.67]\n",
      "Pred 154 0 [0.21, 0.09, 0.0, 0.3, 0.0, 0.18, 0.11, 0.66]\n",
      "Pred 159 0 [0.25, 0.21, 0.05, 0.21, 0.05, 0.0, 0.01, 0.72]\n",
      "Pred 163 0 [0.23, 0.06, 0.03, 0.33, 0.04, 0.53, 0.2, 0.32]\n",
      "Pred 171 0 [0.28, 0.11, 0.03, 0.14, 0.01, 0.0, 0.05, 0.64]\n",
      "Pred 172 0 [0.13, 0.0, 0.0, 0.55, 0.0, 0.66, 0.23, 0.12]\n",
      "Pred 173 0 [0.0, 0.0, 0.0, 1.0, 0.0, 0.43, 0.12, 0.35]\n",
      "Pred 184 0 [0.45, 0.0, 0.0, 0.09, 0.02, 0.74, 0.03, 0.03]\n",
      "Pred 185 0 [0.31, 0.09, 0.02, 0.21, 0.04, 0.02, 0.3, 0.49]\n",
      "Pred 187 0 [0.29, 0.01, 0.02, 0.08, 0.08, 0.01, 0.12, 0.75]\n",
      "Pred 190 0 [0.34, 0.08, 0.0, 0.33, 0.0, 0.47, 0.14, 0.34]\n",
      "Pred 198 0 [0.25, 0.14, 0.01, 0.13, 0.02, 0.02, 0.07, 0.67]\n",
      "Pred 205 0 [0.13, 0.07, 0.02, 0.7, 0.0, 0.21, 0.16, 0.49]\n",
      "Pred 206 0 [0.42, 0.08, 0.02, 0.2, 0.0, 0.01, 0.03, 0.63]\n",
      "Pred 212 0 [0.34, 0.06, 0.02, 0.1, 0.06, 0.0, 0.05, 0.57]\n",
      "Pred 217 0 [0.41, 0.03, 0.02, 0.12, 0.02, 0.02, 0.04, 0.63]\n",
      "Pred 218 0 [0.4, 0.11, 0.02, 0.18, 0.0, 0.0, 0.0, 0.61]\n",
      "Pred 221 0 [0.3, 0.05, 0.0, 0.29, 0.01, 0.02, 0.06, 0.49]\n",
      "Pred 225 0 [0.36, 0.03, 0.0, 0.23, 0.0, 0.0, 0.04, 0.61]\n",
      "Pred 230 0 [0.37, 0.0, 0.0, 0.49, 0.03, 0.11, 0.15, 0.4]\n",
      "Pred 237 0 [0.13, 0.04, 0.0, 0.31, 0.01, 0.82, 0.15, 0.08]\n",
      "Pred 238 0 [0.11, 0.0, 0.0, 0.33, 0.01, 0.82, 0.13, 0.09]\n",
      "Pred 240 0 [0.16, 0.01, 0.0, 0.51, 0.01, 0.78, 0.29, 0.17]\n",
      "Pred 244 0 [0.4, 0.02, 0.01, 0.13, 0.11, 0.02, 0.09, 0.46]\n",
      "Pred 250 0 [0.14, 0.01, 0.0, 0.54, 0.0, 0.69, 0.06, 0.17]\n",
      "Pred 251 0 [0.34, 0.03, 0.0, 0.49, 0.0, 0.31, 0.07, 0.2]\n",
      "Pred 252 0 [0.1, 0.01, 0.0, 0.53, 0.01, 0.75, 0.48, 0.49]\n",
      "Pred 254 0 [0.35, 0.15, 0.03, 0.26, 0.07, 0.0, 0.12, 0.66]\n",
      "Pred 255 0 [0.3, 0.09, 0.02, 0.42, 0.03, 0.0, 0.39, 0.54]\n",
      "Pred 257 0 [0.21, 0.02, 0.0, 0.68, 0.0, 0.48, 0.52, 0.33]\n",
      "Pred 261 0 [0.33, 0.02, 0.0, 0.49, 0.0, 0.09, 0.06, 0.5]\n",
      "Pred 271 0 [0.22, 0.08, 0.29, 0.19, 0.04, 0.0, 0.15, 0.6]\n",
      "Pred 277 0 [0.14, 0.09, 0.02, 0.22, 0.0, 0.02, 0.0, 0.78]\n",
      "Pred 279 0 [0.18, 0.0, 0.0, 0.19, 0.01, 0.83, 0.04, 0.0]\n",
      "Pred 280 0 [0.13, 0.07, 0.02, 0.81, 0.0, 0.0, 0.15, 0.84]\n",
      "Pred 283 0 [0.25, 0.01, 0.0, 0.7, 0.0, 0.07, 0.11, 0.28]\n",
      "Pred 290 0 [0.13, 0.16, 0.1, 0.68, 0.01, 0.54, 0.31, 0.44]\n",
      "Pred 292 0 [0.0, 0.04, 0.0, 0.93, 0.02, 1.0, 0.54, 0.39]\n",
      "Pred 293 0 [0.21, 0.19, 0.4, 0.1, 0.16, 0.0, 0.02, 0.77]\n",
      "Pred 294 0 [0.14, 0.05, 0.28, 0.08, 0.03, 0.0, 0.02, 0.69]\n",
      "Pred 297 0 [0.43, 0.06, 0.01, 0.29, 0.02, 0.04, 0.08, 0.44]\n",
      "Pred 300 0 [0.42, 0.03, 0.0, 0.17, 0.02, 0.0, 0.18, 0.48]\n",
      "Pred 301 0 [0.43, 0.02, 0.04, 0.0, 0.05, 0.0, 0.05, 0.66]\n",
      "Pred 302 0 [0.09, 0.0, 0.0, 0.96, 0.0, 0.45, 0.05, 0.26]\n",
      "Pred 304 0 [0.34, 0.0, 0.01, 0.02, 0.05, 0.01, 0.12, 0.73]\n",
      "Pred 309 0 [0.47, 0.0, 0.0, 0.1, 0.0, 0.54, 0.02, 0.06]\n",
      "Pred 312 0 [0.05, 0.08, 0.04, 0.75, 0.05, 0.68, 0.69, 0.57]\n",
      "Pred 315 0 [0.08, 0.0, 0.0, 0.62, 0.0, 0.85, 0.08, 0.28]\n",
      "Pred 316 0 [0.26, 0.12, 0.0, 0.45, 0.02, 0.0, 0.21, 0.26]\n",
      "Pred 319 0 [0.0, 0.04, 0.0, 0.96, 0.0, 0.96, 0.47, 0.44]\n",
      "Pred 321 0 [0.3, 0.07, 0.08, 0.35, 0.15, 0.1, 0.65, 0.2]\n",
      "Pred 333 0 [0.19, 0.12, 0.26, 0.34, 0.01, 0.02, 0.07, 0.69]\n",
      "Pred 334 0 [0.28, 0.08, 0.01, 0.24, 0.01, 0.03, 0.5, 0.5]\n",
      "Pred 345 0 [0.25, 0.15, 0.01, 0.34, 0.0, 0.11, 0.05, 0.85]\n",
      "Pred 346 0 [0.14, 0.12, 0.12, 0.76, 0.1, 0.15, 0.45, 0.3]\n",
      "Pred 349 0 [0.38, 0.01, 0.0, 0.07, 0.11, 0.01, 0.12, 0.46]\n",
      "Pred 350 0 [0.15, 0.15, 0.12, 0.59, 0.02, 0.01, 0.32, 0.84]\n",
      "Pred 352 0 [0.13, 0.06, 0.06, 0.68, 0.07, 0.0, 0.59, 0.59]\n",
      "Pred 356 0 [0.25, 0.13, 0.04, 0.18, 0.0, 0.0, 0.04, 0.75]\n",
      "Pred 357 0 [0.1, 0.0, 0.02, 0.57, 0.0, 0.05, 0.25, 0.19]\n",
      "Pred 360 0 [0.09, 0.1, 0.0, 0.61, 0.04, 0.94, 0.63, 0.39]\n",
      "Pred 364 0 [0.32, 0.02, 0.02, 0.26, 0.0, 0.0, 0.04, 0.42]\n",
      "Pred 368 0 [0.47, 0.02, 0.0, 0.03, 0.06, 0.0, 0.07, 0.49]\n",
      "Pred 370 1 [0.51, 0.03, 0.01, 0.17, 0.0, 0.03, 0.02, 0.49]\n",
      "Pred 371 1 [0.5, 0.01, 0.0, 0.16, 0.0, 0.32, 0.08, 0.05]\n",
      "Pred 379 1 [0.5, 0.0, 0.0, 0.04, 0.0, 0.0, 0.07, 0.42]\n",
      "Pred 380 1 [0.65, 0.0, 0.0, 0.28, 0.0, 0.01, 0.04, 0.08]\n",
      "Pred 384 1 [0.64, 0.0, 0.0, 0.19, 0.0, 0.08, 0.04, 0.14]\n",
      "Pred 388 1 [0.7, 0.01, 0.0, 0.06, 0.04, 0.11, 0.03, 0.17]\n",
      "Pred 392 1 [0.89, 0.0, 0.01, 0.03, 0.09, 0.05, 0.01, 0.05]\n",
      "Pred 397 1 [0.57, 0.05, 0.0, 0.26, 0.02, 0.24, 0.04, 0.34]\n",
      "Pred 398 1 [0.74, 0.0, 0.01, 0.06, 0.0, 0.12, 0.04, 0.04]\n",
      "Pred 401 1 [0.59, 0.04, 0.0, 0.13, 0.0, 0.02, 0.07, 0.26]\n",
      "Pred 404 1 [0.86, 0.0, 0.0, 0.03, 0.01, 0.03, 0.0, 0.02]\n",
      "Pred 406 1 [0.81, 0.01, 0.0, 0.04, 0.0, 0.04, 0.0, 0.16]\n",
      "Pred 415 1 [0.65, 0.01, 0.04, 0.01, 0.03, 0.0, 0.04, 0.24]\n",
      "Pred 416 1 [0.43, 0.06, 0.08, 0.12, 0.0, 0.0, 0.09, 0.42]\n",
      "Pred 417 1 [0.48, 0.02, 0.0, 0.15, 0.05, 0.06, 0.33, 0.28]\n",
      "Pred 425 1 [0.59, 0.01, 0.0, 0.04, 0.01, 0.0, 0.01, 0.43]\n",
      "Pred 428 1 [0.67, 0.02, 0.01, 0.12, 0.01, 0.02, 0.01, 0.08]\n",
      "Pred 434 1 [0.49, 0.06, 0.0, 0.18, 0.02, 0.0, 0.02, 0.32]\n",
      "Pred 435 1 [0.61, 0.04, 0.02, 0.09, 0.01, 0.07, 0.02, 0.46]\n",
      "Pred 442 1 [0.41, 0.01, 0.04, 0.34, 0.06, 0.02, 0.27, 0.34]\n",
      "Pred 446 1 [0.57, 0.0, 0.01, 0.02, 0.0, 0.05, 0.01, 0.16]\n",
      "Pred 457 1 [0.49, 0.02, 0.02, 0.09, 0.0, 0.0, 0.04, 0.47]\n",
      "Pred 467 1 [0.56, 0.0, 0.0, 0.2, 0.11, 0.38, 0.04, 0.1]\n",
      "Pred 472 1 [0.47, 0.01, 0.0, 0.21, 0.0, 0.01, 0.14, 0.1]\n",
      "Pred 473 1 [0.44, 0.06, 0.04, 0.11, 0.0, 0.0, 0.28, 0.3]\n",
      "Pred 479 1 [0.75, 0.0, 0.0, 0.09, 0.0, 0.05, 0.13, 0.14]\n",
      "Pred 511 1 [0.4, 0.02, 0.0, 0.34, 0.03, 0.11, 0.15, 0.14]\n",
      "Pred 520 1 [0.45, 0.02, 0.01, 0.32, 0.01, 0.18, 0.03, 0.24]\n",
      "Pred 531 1 [0.9, 0.0, 0.0, 0.0, 0.01, 0.0, 0.0, 0.15]\n",
      "Pred 541 1 [0.48, 0.05, 0.0, 0.01, 0.08, 0.0, 0.11, 0.29]\n",
      "Pred 543 1 [0.63, 0.01, 0.0, 0.31, 0.0, 0.0, 0.01, 0.09]\n",
      "Pred 545 1 [0.54, 0.03, 0.02, 0.04, 0.02, 0.0, 0.14, 0.46]\n",
      "Pred 547 1 [0.48, 0.02, 0.01, 0.16, 0.0, 0.0, 0.06, 0.42]\n",
      "Pred 552 1 [0.41, 0.02, 0.0, 0.29, 0.01, 0.11, 0.24, 0.18]\n",
      "Pred 554 1 [0.45, 0.02, 0.01, 0.22, 0.04, 0.23, 0.3, 0.08]\n",
      "Pred 556 1 [0.4, 0.02, 0.0, 0.33, 0.0, 0.03, 0.02, 0.3]\n"
     ]
    }
   ],
   "source": [
    "correctRate = testRF_ESC([varol_realTest], [varol_botTest], real_detect_RF)"
   ]
  },
  {
   "cell_type": "code",
   "execution_count": 23,
   "metadata": {},
   "outputs": [
    {
     "name": "stdout",
     "output_type": "stream",
     "text": [
      "0.7513416815742398\n"
     ]
    }
   ],
   "source": [
    "print(correctRate)"
   ]
  },
  {
   "cell_type": "code",
   "execution_count": 24,
   "metadata": {},
   "outputs": [],
   "source": [
    "varol_realDF.to_pickle('varol-real-pickled')\n",
    "varol_botDF.to_pickle('varol-bot-pickled')"
   ]
  },
  {
   "cell_type": "code",
   "execution_count": 25,
   "metadata": {},
   "outputs": [],
   "source": [
    "caverlee_realDF = pd.read_csv('../data-processing/caverlee/caverlee_real_processed.csv')\n",
    "caverlee_botDF = pd.read_csv('../data-processing/caverlee/caverlee_real_processed.csv')"
   ]
  },
  {
   "cell_type": "code",
   "execution_count": 26,
   "metadata": {},
   "outputs": [],
   "source": [
    "caverlee_realTrain, caverlee_realTest = data_split(caverlee_realDF)\n",
    "caverlee_botTrain, caverlee_botTest = data_split(caverlee_botDF)"
   ]
  },
  {
   "cell_type": "code",
   "execution_count": 29,
   "metadata": {},
   "outputs": [],
   "source": [
    "caverlee_RF = trainRF([caverlee_realTrain], [caverlee_botTrain])"
   ]
  },
  {
   "cell_type": "code",
   "execution_count": 33,
   "metadata": {},
   "outputs": [
    {
     "name": "stdout",
     "output_type": "stream",
     "text": [
      "[[0.00000000e+00 2.91000000e+02 1.24000000e+02 ... 9.00000000e+00\n",
      "  1.97907035e+04 4.27191901e+04]\n",
      " [0.00000000e+00 5.48000000e+02 1.32000000e+02 ... 1.10000000e+01\n",
      "  1.16786276e+04 1.54957107e+04]\n",
      " [0.00000000e+00 1.33900000e+03 8.40000000e+01 ... 1.30000000e+01\n",
      "  1.69783417e+03 4.23880709e+03]\n",
      " ...\n",
      " [0.00000000e+00 1.00000000e+00 0.00000000e+00 ... 8.00000000e+00\n",
      "  0.00000000e+00 0.00000000e+00]\n",
      " [0.00000000e+00 1.00000000e+00 1.00000000e+00 ... 1.00000000e+01\n",
      "  0.00000000e+00 0.00000000e+00]\n",
      " [0.00000000e+00 1.00000000e+00 0.00000000e+00 ... 7.00000000e+00\n",
      "  0.00000000e+00 0.00000000e+00]]\n",
      "[0 0 0 ... 1 1 1]\n",
      "0.5\n"
     ]
    }
   ],
   "source": [
    "print(testRF([caverlee_realTest], [caverlee_botTest], caverlee_RF))"
   ]
  },
  {
   "cell_type": "code",
   "execution_count": 34,
   "metadata": {},
   "outputs": [],
   "source": [
    "caverlee_realDF.to_pickle('./caverlee-real-pickled')\n",
    "caverlee_botDF.to_pickle('./caverlee-bot-pickled')"
   ]
  },
  {
   "cell_type": "code",
   "execution_count": 36,
   "metadata": {},
   "outputs": [
    {
     "name": "stdout",
     "output_type": "stream",
     "text": [
      "Elapsed time to compute the importances: 0.032 seconds\n"
     ]
    }
   ],
   "source": [
    "start_time = time.time()\n",
    "importances = caverlee_RF.feature_importances_\n",
    "std = np.std([tree.feature_importances_ for tree in caverlee_RF.estimators_], axis=0)\n",
    "elapsed_time = time.time() - start_time\n",
    "\n",
    "print(f\"Elapsed time to compute the importances: {elapsed_time:.3f} seconds\")"
   ]
  },
  {
   "cell_type": "code",
   "execution_count": 38,
   "metadata": {},
   "outputs": [
    {
     "data": {
      "image/png": "[encoded data removed]",
      "text/plain": [
       "<Figure size 432x288 with 1 Axes>"
      ]
     },
     "metadata": {
      "needs_background": "light"
     },
     "output_type": "display_data"
    }
   ],
   "source": [
    "forest_importances = pd.Series(importances, index=caverlee_realTrain.columns.values.tolist())\n",
    "\n",
    "fig, ax = plt.subplots()\n",
    "forest_importances.plot.bar(yerr=std, ax=ax)\n",
    "ax.set_title(\"Feature importances using MDI\")\n",
    "ax.set_ylabel(\"Mean decrease in impurity\")\n",
    "fig.tight_layout()"
   ]
  },
  {
   "cell_type": "code",
   "execution_count": null,
   "metadata": {},
   "outputs": [],
   "source": []
  }
 ],
 "metadata": {
  "interpreter": {
   "hash": "cb986cb43caf49adc937092c4520ad72ea98a1d83bf0f91755f5ca9ed24d87ff"
  },
  "kernelspec": {
   "display_name": "Python 3.10.1 64-bit ('sklearn-env': conda)",
   "language": "python",
   "name": "python3"
  },
  "language_info": {
   "codemirror_mode": {
    "name": "ipython",
    "version": 3
   },
   "file_extension": ".py",
   "mimetype": "text/x-python",
   "name": "python",
   "nbconvert_exporter": "python",
   "pygments_lexer": "ipython3",
   "version": "3.9.7"
  },
  "orig_nbformat": 4
 },
 "nbformat": 4,
 "nbformat_minor": 2
}
