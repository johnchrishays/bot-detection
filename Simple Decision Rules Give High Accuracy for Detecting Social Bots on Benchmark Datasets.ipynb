{
 "cells": [
  {
   "cell_type": "code",
   "execution_count": 356,
   "id": "30d4901e",
   "metadata": {
    "ExecuteTime": {
     "end_time": "2022-04-26T01:57:56.019856Z",
     "start_time": "2022-04-26T01:57:56.015605Z"
    }
   },
   "outputs": [],
   "source": [
    "import json\n",
    "import numpy as np\n",
    "import matplotlib.pyplot as plt\n",
    "import pandas as pd\n",
    "from sklearn.datasets import load_iris\n",
    "from sklearn.inspection import permutation_importance\n",
    "from sklearn import tree, ensemble\n",
    "from sklearn.tree import export_text\n",
    "from sklearn.metrics import f1_score, recall_score"
   ]
  },
  {
   "cell_type": "code",
   "execution_count": 357,
   "id": "52ecb529",
   "metadata": {
    "ExecuteTime": {
     "end_time": "2022-04-26T01:57:56.173588Z",
     "start_time": "2022-04-26T01:57:56.166518Z"
    }
   },
   "outputs": [],
   "source": [
    "def preprocess(X, drop_cols, one_hot_cols):\n",
    "    \"\"\"\n",
    "    Drop columns listed by drop_cols, turn one_hot_cols into \n",
    "    one-hot variables since decision trees must be fitted on numerical data.\n",
    "    \"\"\"\n",
    "    X.drop(columns=drop_cols, inplace=True)\n",
    "    one_hot = pd.get_dummies(X, columns=one_hot_cols, drop_first=True)\n",
    "    return one_hot\n",
    "\n",
    "def fit_and_score(X, y, method=None, depth=3):\n",
    "    \"\"\" \n",
    "    Fit a decision tree using features X, labels y and maximum depth equal to depth. \n",
    "    Print out the ascii tree, accuracy, F1 score and return the model.\n",
    "    \"\"\"\n",
    "    if method is None:\n",
    "        # Use decision tree\n",
    "        clf = tree.DecisionTreeClassifier(max_depth=depth)\n",
    "    else:\n",
    "        clf = method\n",
    "    clf = clf.fit(X, y)\n",
    "    if method is None:\n",
    "        r = export_text(clf, feature_names=list(X.columns))\n",
    "        print(r)\n",
    "    print(f\"In-sample precision:\", clf.score(X, y))\n",
    "    preds = clf.predict(X)\n",
    "    print(f\"In-sample recall score:\", recall_score(y, preds))\n",
    "    print(f\"In-sample F1 score:\", f1_score(y, preds))\n",
    "    return clf\n",
    "    \n",
    "def oos_score(model, X, y):\n",
    "    \"\"\"\n",
    "    Print accuracy and F1 score on (possibly) out-of-sample data for model.\n",
    "    \"\"\"\n",
    "    print(f\"Out-of-sample accuracy:\", model.score(X, y))\n",
    "    preds = model.predict(X)\n",
    "    print(f\"Out-of-sample F1 score:\", f1_score(y, preds))\n",
    "    \n",
    "def nonnumeric(df):\n",
    "    \"\"\"\n",
    "    Print out columns that contain NA or have dtype=object.\n",
    "    \"\"\"\n",
    "    print(\"Columns with NA values:\", df.isna().any()[lambda x: x])\n",
    "    print(\"Columns with dtype=object\", list(twibot_one_hot.select_dtypes(include='object')))\n",
    "    \n",
    "def mdi_feature_importance(clf, labels, ax):\n",
    "    \"\"\"\n",
    "    Plot most important features.\n",
    "    \n",
    "    @param clf: fitted classifier\n",
    "    \"\"\"\n",
    "    importances = clf.feature_importances_\n",
    "    top10 = np.argsort(importances)[-10:] # Get top 10 most important features\n",
    "    top10 = top10[::-1]\n",
    "    std = np.std([tree.feature_importances_ for tree in clf.estimators_], axis=0)\n",
    "    mdi_importances = pd.Series(importances, index=labels)\n",
    "    mdi_importances[top10].plot.bar(yerr=std[top10], ax=ax)\n",
    "    ax.set_title(\"Feature importances using MDI\")\n",
    "    ax.set_ylabel(\"Mean decrease in impurity\")\n",
    "    return mdi_importances\n",
    "\n",
    "def permutation_feature_importance(ax, X, y, drop_cols):\n",
    "    \"\"\"\n",
    "    Random forest feature importance on fitted model clf, features. Plot results on ax.\n",
    "    Warning: computationally expensive, since refits model multiple times.\n",
    "    \"\"\"\n",
    "    processed = preprocess(X, drop_cols, [])\n",
    "    \n",
    "    rf = ensemble.RandomForestClassifier(n_estimators=100)\n",
    "    clf = fit_and_score(X, y, method=rf)\n",
    "\n",
    "    pi = permutation_importance(clf, X, y, n_repeats=10, random_state=42, n_jobs=1)\n",
    "    top10 = np.argsort(pi.importances_mean)[-10:] # Get top 10 most important features\n",
    "    top10 = top10[::-1]\n",
    "    pi_importances = pd.Series(pi.importances_mean, index=list(X.columns))\n",
    "    pi_importances[top10].plot.bar(ax=ax)\n",
    "    ax.set_title(\"Feature importances using permutation on full model\")\n",
    "    ax.set_ylabel(\"Mean accuracy decrease\")"
   ]
  },
  {
   "cell_type": "markdown",
   "id": "897192c2",
   "metadata": {},
   "source": [
    "## cresci-2017"
   ]
  },
  {
   "cell_type": "code",
   "execution_count": 358,
   "id": "cd2805a4",
   "metadata": {
    "ExecuteTime": {
     "end_time": "2022-04-26T01:57:56.793403Z",
     "start_time": "2022-04-26T01:57:56.790324Z"
    }
   },
   "outputs": [],
   "source": [
    "COLUMNS_TO_DROP = ['id', \n",
    "                   'name', \n",
    "                   'screen_name', \n",
    "                   'url', \n",
    "                   'profile_image_url', \n",
    "                   'profile_background_image_url_https', \n",
    "                   'description',\n",
    "                   'profile_image_url_https', \n",
    "                   'profile_background_image_url', \n",
    "                   'created_at', \n",
    "                   'profile_text_color', \n",
    "                   'profile_sidebar_border_color', \n",
    "                   'profile_sidebar_fill_color', \n",
    "                   'profile_background_color', \n",
    "                   'profile_link_color']\n",
    "DUMMY_COLUMNS = ['lang', \n",
    "                  'time_zone', \n",
    "                  'location', \n",
    "                  'default_profile', \n",
    "                  'default_profile_image', \n",
    "                  'utc_offset',\n",
    "                  'is_translator', \n",
    "                  'default_profile', \n",
    "                  'default_profile_image', \n",
    "                  'profile_background_tile', \n",
    "                  'utc_offset',\n",
    "                  'is_translator', \n",
    "                  'protected', \n",
    "                  'contributors_enabled', \n",
    "                  'geo_enabled',\n",
    "                  'verified',\n",
    "                  'profile_use_background_image']"
   ]
  },
  {
   "cell_type": "code",
   "execution_count": 359,
   "id": "c5eeb886",
   "metadata": {
    "ExecuteTime": {
     "end_time": "2022-04-26T01:57:58.611500Z",
     "start_time": "2022-04-26T01:57:57.664931Z"
    }
   },
   "outputs": [
    {
     "name": "stdout",
     "output_type": "stream",
     "text": [
      "|--- favourites_count <= 16.50\n",
      "|   |--- class: 1\n",
      "|--- favourites_count >  16.50\n",
      "|   |--- class: 0\n",
      "\n",
      "In-sample precision: 0.9766146993318485\n",
      "In-sample recall score: 0.9862309528180649\n",
      "In-sample F1 score: 0.9846041055718475\n"
     ]
    },
    {
     "data": {
      "text/plain": [
       "DecisionTreeClassifier(max_depth=1)"
      ]
     },
     "execution_count": 359,
     "metadata": {},
     "output_type": "execute_result"
    }
   ],
   "source": [
    "# Load in data\n",
    "folder_names = ['fake_followers', \n",
    " 'genuine_accounts', \n",
    " 'social_spambots_1', \n",
    " 'social_spambots_2', \n",
    " 'social_spambots_3', \n",
    " 'traditional_spambots_1', \n",
    " 'traditional_spambots_2', \n",
    " 'traditional_spambots_3',\n",
    " 'traditional_spambots_4']\n",
    "is_bot = [1, 0, 1, 1, 1, 1, 1, 1, 1]\n",
    "dfs = []\n",
    "cresci_labels = []\n",
    "for name, ib in zip(folder_names, is_bot):\n",
    "    df = pd.read_csv(f\"./data/datasets_full.csv/{name}.csv/users.csv\")\n",
    "    dfs.append(df)\n",
    "    cresci_labels.extend([ib]*len(df))\n",
    "\n",
    "cresci2017 = pd.concat(dfs)\n",
    "\n",
    "# Preprocess\n",
    "cresci2017_one_hot = preprocess(cresci2017, \n",
    "                        COLUMNS_TO_DROP + ['profile_banner_url', \n",
    "                                                        'test_set_1', \n",
    "                                                        'test_set_2', \n",
    "                                                        'crawled_at',\n",
    "                                                        'updated', \n",
    "                                                        'timestamp',\n",
    "                                                        'following', \n",
    "                                                        'follow_request_sent'\n",
    "                                                  ], \n",
    "                        DUMMY_COLUMNS + ['notifications',])\n",
    "\n",
    "# Fit and score decision tree\n",
    "fit_and_score(cresci2017_one_hot, cresci_labels, depth=1)"
   ]
  },
  {
   "cell_type": "code",
   "execution_count": 360,
   "id": "143ce1e2",
   "metadata": {
    "ExecuteTime": {
     "end_time": "2022-04-26T01:58:10.783079Z",
     "start_time": "2022-04-26T01:57:59.521092Z"
    }
   },
   "outputs": [
    {
     "name": "stdout",
     "output_type": "stream",
     "text": [
      "In-sample precision: 0.9999304008908686\n",
      "In-sample recall score: 0.9999082063521204\n",
      "In-sample F1 score: 0.9999541010694452\n"
     ]
    }
   ],
   "source": [
    "# Fit and score on random forest\n",
    "rf = ensemble.RandomForestClassifier(n_estimators=100)\n",
    "rf_clf = fit_and_score(cresci2017_one_hot, cresci_labels, method=rf)"
   ]
  },
  {
   "cell_type": "code",
   "execution_count": 363,
   "id": "38382025",
   "metadata": {
    "ExecuteTime": {
     "end_time": "2022-04-26T01:59:39.060374Z",
     "start_time": "2022-04-26T01:59:34.850890Z"
    }
   },
   "outputs": [
    {
     "name": "stdout",
     "output_type": "stream",
     "text": [
      "In-sample precision: 1.0\n",
      "In-sample recall score: 1.0\n",
      "In-sample F1 score: 1.0\n"
     ]
    },
    {
     "data": {
      "image/png": "[encoded data removed]",
      "text/plain": [
       "<Figure size 1080x504 with 2 Axes>"
      ]
     },
     "metadata": {
      "needs_background": "light"
     },
     "output_type": "display_data"
    }
   ],
   "source": [
    "fig, axes = plt.subplots(1,2, figsize=(15,7))\n",
    "mdi = mdi_feature_importance(rf_clf, list(cresci2017_one_hot.columns), axes[0])\n",
    "permutation_feature_importance(axes[1], cresci2017, cresci_labels, DUMMY_COLUMNS + ['notifications',])\n",
    "fig.tight_layout()"
   ]
  },
  {
   "cell_type": "markdown",
   "id": "73df99d5",
   "metadata": {},
   "source": [
    "## TwiBot-20"
   ]
  },
  {
   "cell_type": "code",
   "execution_count": 371,
   "id": "1e8debd3",
   "metadata": {
    "ExecuteTime": {
     "end_time": "2022-04-26T02:03:42.171875Z",
     "start_time": "2022-04-26T02:03:41.016520Z"
    }
   },
   "outputs": [],
   "source": [
    "# Load data\n",
    "def load_twibot(path):\n",
    "    with open(path) as f:\n",
    "        twibot = json.load(f)\n",
    "        twibot_labels = [int(ent['label']) for ent in twibot]\n",
    "        profs = [ent['profile'] for ent in twibot]\n",
    "        twibot_df = pd.DataFrame(profs)\n",
    "    # Turn bool, string columns into ints\n",
    "    for col in twibot_df:\n",
    "        if (True in twibot_df):\n",
    "            twibot_df[col] = twibot_df[col].astype(int)\n",
    "        if (col in ['followers_count', 'friends_count', 'listed_count', 'favourites_count', 'statuses_count']):\n",
    "            twibot_df[col] = twibot_df[col].astype(int)\n",
    "        if (col in ['is_translation_enabled', 'has_extended_profile']):\n",
    "            twibot_df[col] = twibot_df[col].astype(bool).astype(int) \n",
    "    twibot_one_hot = preprocess(twibot_df, COLUMNS_TO_DROP + ['profile_location', 'entities', 'id_str'], DUMMY_COLUMNS)\n",
    "    return twibot_df, twibot_one_hot, twibot_labels\n",
    "\n",
    "twibot_df, twibot_one_hot, twibot_labels = load_twibot(\"./data/Twibot-20/train.json\")"
   ]
  },
  {
   "cell_type": "code",
   "execution_count": 372,
   "id": "c8319ae6",
   "metadata": {
    "ExecuteTime": {
     "end_time": "2022-04-26T02:03:43.510869Z",
     "start_time": "2022-04-26T02:03:43.203459Z"
    }
   },
   "outputs": [
    {
     "name": "stdout",
     "output_type": "stream",
     "text": [
      "|--- verified_True  <= 0.50\n",
      "|   |--- class: 1\n",
      "|--- verified_True  >  0.50\n",
      "|   |--- class: 0\n",
      "\n",
      "In-sample precision: 0.8094950471128292\n",
      "In-sample recall score: 0.9997847610848042\n",
      "In-sample F1 score: 0.8548817520934942\n"
     ]
    }
   ],
   "source": [
    "# Fit and score on decision tree\n",
    "dt_clf = fit_and_score(twibot_one_hot, twibot_labels, depth=1)"
   ]
  },
  {
   "cell_type": "code",
   "execution_count": 373,
   "id": "bee189ac",
   "metadata": {
    "ExecuteTime": {
     "end_time": "2022-04-26T02:03:52.659085Z",
     "start_time": "2022-04-26T02:03:44.981786Z"
    }
   },
   "outputs": [
    {
     "name": "stdout",
     "output_type": "stream",
     "text": [
      "In-sample precision: 1.0\n",
      "In-sample recall score: 1.0\n",
      "In-sample F1 score: 1.0\n"
     ]
    }
   ],
   "source": [
    "# Fit and score on random forest\n",
    "rf = ensemble.RandomForestClassifier(n_estimators=100)\n",
    "rf_clf = fit_and_score(twibot_one_hot, twibot_labels, method=rf)"
   ]
  },
  {
   "cell_type": "code",
   "execution_count": 374,
   "id": "c194aa26",
   "metadata": {
    "ExecuteTime": {
     "end_time": "2022-04-26T02:03:59.913838Z",
     "start_time": "2022-04-26T02:03:53.178639Z"
    }
   },
   "outputs": [
    {
     "name": "stdout",
     "output_type": "stream",
     "text": [
      "In-sample precision: 1.0\n",
      "In-sample recall score: 1.0\n",
      "In-sample F1 score: 1.0\n"
     ]
    },
    {
     "data": {
      "image/png": "[encoded data removed]",
      "text/plain": [
       "<Figure size 1080x504 with 2 Axes>"
      ]
     },
     "metadata": {
      "needs_background": "light"
     },
     "output_type": "display_data"
    }
   ],
   "source": [
    "fig, axes = plt.subplots(1,2, figsize=(15,7))\n",
    "mdi_feature_importance(rf_clf, list(twibot_one_hot.columns), axes[0])\n",
    "permutation_feature_importance(axes[1], twibot_df, twibot_labels, DUMMY_COLUMNS)\n",
    "fig.tight_layout()"
   ]
  },
  {
   "cell_type": "markdown",
   "id": "a0995263",
   "metadata": {},
   "source": [
    "## caverlee-2011"
   ]
  },
  {
   "cell_type": "code",
   "execution_count": 375,
   "id": "a44a8b35",
   "metadata": {
    "ExecuteTime": {
     "end_time": "2022-04-26T02:04:14.161538Z",
     "start_time": "2022-04-26T02:04:14.117168Z"
    }
   },
   "outputs": [],
   "source": [
    "caverlee2011_bots = pd.read_csv(\"./data/social_honeypot_icwsm_2011/content_polluters.txt\", sep=\"\\t\", header=0, names=[\"UserID\", \"CreatedAt\", \"CollectedAt\", \"NumerOfFollowings\", \"NumberOfFollowers\", \"NumberOfTweets\", \"LengthOfScreenName\", \"LengthOfDescriptionInUserProfile\"])\n",
    "caverlee2011_humans = pd.read_csv(\"./data/social_honeypot_icwsm_2011/legitimate_users.txt\", sep=\"\\t\", header=0, names=[\"UserID\", \"CreatedAt\", \"CollectedAt\", \"NumerOfFollowings\", \"NumberOfFollowers\", \"NumberOfTweets\", \"LengthOfScreenName\", \"LengthOfDescriptionInUserProfile\"])\n",
    "caverlee2011 = pd.concat([caverlee2011_bots, caverlee2011_humans])\n",
    "caverlee2011_labels = [1]*len(caverlee2011_bots) + [0]*len(caverlee2011_humans)\n"
   ]
  },
  {
   "cell_type": "code",
   "execution_count": 376,
   "id": "00030424",
   "metadata": {
    "ExecuteTime": {
     "end_time": "2022-04-26T02:04:14.315954Z",
     "start_time": "2022-04-26T02:04:14.308082Z"
    }
   },
   "outputs": [
    {
     "data": {
      "text/html": [
       "<div>\n",
       "<style scoped>\n",
       "    .dataframe tbody tr th:only-of-type {\n",
       "        vertical-align: middle;\n",
       "    }\n",
       "\n",
       "    .dataframe tbody tr th {\n",
       "        vertical-align: top;\n",
       "    }\n",
       "\n",
       "    .dataframe thead th {\n",
       "        text-align: right;\n",
       "    }\n",
       "</style>\n",
       "<table border=\"1\" class=\"dataframe\">\n",
       "  <thead>\n",
       "    <tr style=\"text-align: right;\">\n",
       "      <th></th>\n",
       "      <th>UserID</th>\n",
       "      <th>CreatedAt</th>\n",
       "      <th>CollectedAt</th>\n",
       "      <th>NumerOfFollowings</th>\n",
       "      <th>NumberOfFollowers</th>\n",
       "      <th>NumberOfTweets</th>\n",
       "      <th>LengthOfScreenName</th>\n",
       "      <th>LengthOfDescriptionInUserProfile</th>\n",
       "    </tr>\n",
       "  </thead>\n",
       "  <tbody>\n",
       "    <tr>\n",
       "      <th>0</th>\n",
       "      <td>10836</td>\n",
       "      <td>2006-10-27 14:38:04</td>\n",
       "      <td>2010-06-18 03:35:34</td>\n",
       "      <td>1949</td>\n",
       "      <td>793</td>\n",
       "      <td>226</td>\n",
       "      <td>9</td>\n",
       "      <td>134</td>\n",
       "    </tr>\n",
       "    <tr>\n",
       "      <th>1</th>\n",
       "      <td>10997</td>\n",
       "      <td>2006-10-29 09:50:38</td>\n",
       "      <td>2010-04-24 01:12:40</td>\n",
       "      <td>1119</td>\n",
       "      <td>9644</td>\n",
       "      <td>38674</td>\n",
       "      <td>12</td>\n",
       "      <td>158</td>\n",
       "    </tr>\n",
       "    <tr>\n",
       "      <th>2</th>\n",
       "      <td>633293</td>\n",
       "      <td>2007-01-14 12:40:10</td>\n",
       "      <td>2010-01-24 11:59:38</td>\n",
       "      <td>2174</td>\n",
       "      <td>6029</td>\n",
       "      <td>12718</td>\n",
       "      <td>11</td>\n",
       "      <td>121</td>\n",
       "    </tr>\n",
       "    <tr>\n",
       "      <th>3</th>\n",
       "      <td>717883</td>\n",
       "      <td>2007-01-27 22:14:18</td>\n",
       "      <td>2010-02-06 06:25:58</td>\n",
       "      <td>7731</td>\n",
       "      <td>7029</td>\n",
       "      <td>873</td>\n",
       "      <td>6</td>\n",
       "      <td>70</td>\n",
       "    </tr>\n",
       "    <tr>\n",
       "      <th>4</th>\n",
       "      <td>763068</td>\n",
       "      <td>2007-02-10 10:51:38</td>\n",
       "      <td>2010-07-26 04:48:03</td>\n",
       "      <td>120</td>\n",
       "      <td>130</td>\n",
       "      <td>686</td>\n",
       "      <td>6</td>\n",
       "      <td>35</td>\n",
       "    </tr>\n",
       "    <tr>\n",
       "      <th>...</th>\n",
       "      <td>...</td>\n",
       "      <td>...</td>\n",
       "      <td>...</td>\n",
       "      <td>...</td>\n",
       "      <td>...</td>\n",
       "      <td>...</td>\n",
       "      <td>...</td>\n",
       "      <td>...</td>\n",
       "    </tr>\n",
       "    <tr>\n",
       "      <th>19270</th>\n",
       "      <td>93390990</td>\n",
       "      <td>2009-11-29 06:34:30</td>\n",
       "      <td>2009-11-29 07:50:54</td>\n",
       "      <td>5</td>\n",
       "      <td>0</td>\n",
       "      <td>5</td>\n",
       "      <td>11</td>\n",
       "      <td>0</td>\n",
       "    </tr>\n",
       "    <tr>\n",
       "      <th>19271</th>\n",
       "      <td>93402679</td>\n",
       "      <td>2009-11-29 07:47:50</td>\n",
       "      <td>2009-11-29 07:56:28</td>\n",
       "      <td>20</td>\n",
       "      <td>1</td>\n",
       "      <td>1</td>\n",
       "      <td>12</td>\n",
       "      <td>0</td>\n",
       "    </tr>\n",
       "    <tr>\n",
       "      <th>19272</th>\n",
       "      <td>93419256</td>\n",
       "      <td>2009-11-29 09:23:30</td>\n",
       "      <td>2009-11-29 09:30:48</td>\n",
       "      <td>0</td>\n",
       "      <td>0</td>\n",
       "      <td>1</td>\n",
       "      <td>8</td>\n",
       "      <td>0</td>\n",
       "    </tr>\n",
       "    <tr>\n",
       "      <th>19273</th>\n",
       "      <td>93426370</td>\n",
       "      <td>2009-11-29 10:04:26</td>\n",
       "      <td>2009-11-29 10:13:17</td>\n",
       "      <td>20</td>\n",
       "      <td>1</td>\n",
       "      <td>1</td>\n",
       "      <td>10</td>\n",
       "      <td>0</td>\n",
       "    </tr>\n",
       "    <tr>\n",
       "      <th>19274</th>\n",
       "      <td>93442002</td>\n",
       "      <td>2009-11-29 11:27:25</td>\n",
       "      <td>2009-11-29 11:36:52</td>\n",
       "      <td>1</td>\n",
       "      <td>0</td>\n",
       "      <td>1</td>\n",
       "      <td>7</td>\n",
       "      <td>0</td>\n",
       "    </tr>\n",
       "  </tbody>\n",
       "</table>\n",
       "<p>41497 rows × 8 columns</p>\n",
       "</div>"
      ],
      "text/plain": [
       "         UserID            CreatedAt          CollectedAt  NumerOfFollowings  \\\n",
       "0         10836  2006-10-27 14:38:04  2010-06-18 03:35:34               1949   \n",
       "1         10997  2006-10-29 09:50:38  2010-04-24 01:12:40               1119   \n",
       "2        633293  2007-01-14 12:40:10  2010-01-24 11:59:38               2174   \n",
       "3        717883  2007-01-27 22:14:18  2010-02-06 06:25:58               7731   \n",
       "4        763068  2007-02-10 10:51:38  2010-07-26 04:48:03                120   \n",
       "...         ...                  ...                  ...                ...   \n",
       "19270  93390990  2009-11-29 06:34:30  2009-11-29 07:50:54                  5   \n",
       "19271  93402679  2009-11-29 07:47:50  2009-11-29 07:56:28                 20   \n",
       "19272  93419256  2009-11-29 09:23:30  2009-11-29 09:30:48                  0   \n",
       "19273  93426370  2009-11-29 10:04:26  2009-11-29 10:13:17                 20   \n",
       "19274  93442002  2009-11-29 11:27:25  2009-11-29 11:36:52                  1   \n",
       "\n",
       "       NumberOfFollowers  NumberOfTweets  LengthOfScreenName  \\\n",
       "0                    793             226                   9   \n",
       "1                   9644           38674                  12   \n",
       "2                   6029           12718                  11   \n",
       "3                   7029             873                   6   \n",
       "4                    130             686                   6   \n",
       "...                  ...             ...                 ...   \n",
       "19270                  0               5                  11   \n",
       "19271                  1               1                  12   \n",
       "19272                  0               1                   8   \n",
       "19273                  1               1                  10   \n",
       "19274                  0               1                   7   \n",
       "\n",
       "       LengthOfDescriptionInUserProfile  \n",
       "0                                   134  \n",
       "1                                   158  \n",
       "2                                   121  \n",
       "3                                    70  \n",
       "4                                    35  \n",
       "...                                 ...  \n",
       "19270                                 0  \n",
       "19271                                 0  \n",
       "19272                                 0  \n",
       "19273                                 0  \n",
       "19274                                 0  \n",
       "\n",
       "[41497 rows x 8 columns]"
      ]
     },
     "execution_count": 376,
     "metadata": {},
     "output_type": "execute_result"
    }
   ],
   "source": [
    "caverlee2011"
   ]
  },
  {
   "cell_type": "code",
   "execution_count": 377,
   "id": "734c6811",
   "metadata": {
    "ExecuteTime": {
     "end_time": "2022-04-26T02:04:15.655567Z",
     "start_time": "2022-04-26T02:04:15.644326Z"
    }
   },
   "outputs": [
    {
     "data": {
      "text/html": [
       "<div>\n",
       "<style scoped>\n",
       "    .dataframe tbody tr th:only-of-type {\n",
       "        vertical-align: middle;\n",
       "    }\n",
       "\n",
       "    .dataframe tbody tr th {\n",
       "        vertical-align: top;\n",
       "    }\n",
       "\n",
       "    .dataframe thead th {\n",
       "        text-align: right;\n",
       "    }\n",
       "</style>\n",
       "<table border=\"1\" class=\"dataframe\">\n",
       "  <thead>\n",
       "    <tr style=\"text-align: right;\">\n",
       "      <th></th>\n",
       "      <th>NumerOfFollowings</th>\n",
       "      <th>NumberOfFollowers</th>\n",
       "      <th>NumberOfTweets</th>\n",
       "      <th>LengthOfScreenName</th>\n",
       "      <th>LengthOfDescriptionInUserProfile</th>\n",
       "    </tr>\n",
       "  </thead>\n",
       "  <tbody>\n",
       "    <tr>\n",
       "      <th>0</th>\n",
       "      <td>1949</td>\n",
       "      <td>793</td>\n",
       "      <td>226</td>\n",
       "      <td>9</td>\n",
       "      <td>134</td>\n",
       "    </tr>\n",
       "    <tr>\n",
       "      <th>1</th>\n",
       "      <td>1119</td>\n",
       "      <td>9644</td>\n",
       "      <td>38674</td>\n",
       "      <td>12</td>\n",
       "      <td>158</td>\n",
       "    </tr>\n",
       "    <tr>\n",
       "      <th>2</th>\n",
       "      <td>2174</td>\n",
       "      <td>6029</td>\n",
       "      <td>12718</td>\n",
       "      <td>11</td>\n",
       "      <td>121</td>\n",
       "    </tr>\n",
       "    <tr>\n",
       "      <th>3</th>\n",
       "      <td>7731</td>\n",
       "      <td>7029</td>\n",
       "      <td>873</td>\n",
       "      <td>6</td>\n",
       "      <td>70</td>\n",
       "    </tr>\n",
       "    <tr>\n",
       "      <th>4</th>\n",
       "      <td>120</td>\n",
       "      <td>130</td>\n",
       "      <td>686</td>\n",
       "      <td>6</td>\n",
       "      <td>35</td>\n",
       "    </tr>\n",
       "    <tr>\n",
       "      <th>...</th>\n",
       "      <td>...</td>\n",
       "      <td>...</td>\n",
       "      <td>...</td>\n",
       "      <td>...</td>\n",
       "      <td>...</td>\n",
       "    </tr>\n",
       "    <tr>\n",
       "      <th>19270</th>\n",
       "      <td>5</td>\n",
       "      <td>0</td>\n",
       "      <td>5</td>\n",
       "      <td>11</td>\n",
       "      <td>0</td>\n",
       "    </tr>\n",
       "    <tr>\n",
       "      <th>19271</th>\n",
       "      <td>20</td>\n",
       "      <td>1</td>\n",
       "      <td>1</td>\n",
       "      <td>12</td>\n",
       "      <td>0</td>\n",
       "    </tr>\n",
       "    <tr>\n",
       "      <th>19272</th>\n",
       "      <td>0</td>\n",
       "      <td>0</td>\n",
       "      <td>1</td>\n",
       "      <td>8</td>\n",
       "      <td>0</td>\n",
       "    </tr>\n",
       "    <tr>\n",
       "      <th>19273</th>\n",
       "      <td>20</td>\n",
       "      <td>1</td>\n",
       "      <td>1</td>\n",
       "      <td>10</td>\n",
       "      <td>0</td>\n",
       "    </tr>\n",
       "    <tr>\n",
       "      <th>19274</th>\n",
       "      <td>1</td>\n",
       "      <td>0</td>\n",
       "      <td>1</td>\n",
       "      <td>7</td>\n",
       "      <td>0</td>\n",
       "    </tr>\n",
       "  </tbody>\n",
       "</table>\n",
       "<p>41497 rows × 5 columns</p>\n",
       "</div>"
      ],
      "text/plain": [
       "       NumerOfFollowings  NumberOfFollowers  NumberOfTweets  \\\n",
       "0                   1949                793             226   \n",
       "1                   1119               9644           38674   \n",
       "2                   2174               6029           12718   \n",
       "3                   7731               7029             873   \n",
       "4                    120                130             686   \n",
       "...                  ...                ...             ...   \n",
       "19270                  5                  0               5   \n",
       "19271                 20                  1               1   \n",
       "19272                  0                  0               1   \n",
       "19273                 20                  1               1   \n",
       "19274                  1                  0               1   \n",
       "\n",
       "       LengthOfScreenName  LengthOfDescriptionInUserProfile  \n",
       "0                       9                               134  \n",
       "1                      12                               158  \n",
       "2                      11                               121  \n",
       "3                       6                                70  \n",
       "4                       6                                35  \n",
       "...                   ...                               ...  \n",
       "19270                  11                                 0  \n",
       "19271                  12                                 0  \n",
       "19272                   8                                 0  \n",
       "19273                  10                                 0  \n",
       "19274                   7                                 0  \n",
       "\n",
       "[41497 rows x 5 columns]"
      ]
     },
     "execution_count": 377,
     "metadata": {},
     "output_type": "execute_result"
    }
   ],
   "source": [
    "preprocess(caverlee2011, ['UserID', 'CollectedAt', 'CreatedAt'], [])"
   ]
  },
  {
   "cell_type": "code",
   "execution_count": 378,
   "id": "ccb2ffff",
   "metadata": {
    "ExecuteTime": {
     "end_time": "2022-04-26T02:04:15.884665Z",
     "start_time": "2022-04-26T02:04:15.815312Z"
    }
   },
   "outputs": [
    {
     "name": "stdout",
     "output_type": "stream",
     "text": [
      "|--- NumerOfFollowings <= 232.50\n",
      "|   |--- NumberOfTweets <= 65.50\n",
      "|   |   |--- class: 1\n",
      "|   |--- NumberOfTweets >  65.50\n",
      "|   |   |--- class: 0\n",
      "|--- NumerOfFollowings >  232.50\n",
      "|   |--- NumberOfTweets <= 1087.50\n",
      "|   |   |--- class: 1\n",
      "|   |--- NumberOfTweets >  1087.50\n",
      "|   |   |--- class: 1\n",
      "\n",
      "In-sample precision: 0.8133841000554257\n",
      "In-sample recall score: 0.9416344163441634\n",
      "In-sample F1 score: 0.8438520788805098\n"
     ]
    },
    {
     "data": {
      "text/plain": [
       "DecisionTreeClassifier(max_depth=2)"
      ]
     },
     "execution_count": 378,
     "metadata": {},
     "output_type": "execute_result"
    }
   ],
   "source": [
    "fit_and_score(caverlee2011, caverlee2011_labels, depth=2)"
   ]
  },
  {
   "cell_type": "code",
   "execution_count": 379,
   "id": "523bb99c",
   "metadata": {
    "ExecuteTime": {
     "end_time": "2022-04-26T02:04:18.855947Z",
     "start_time": "2022-04-26T02:04:16.023287Z"
    }
   },
   "outputs": [
    {
     "name": "stdout",
     "output_type": "stream",
     "text": [
      "In-sample precision: 0.9245728606887245\n",
      "In-sample recall score: 0.9399243992439924\n",
      "In-sample F1 score: 0.9302957420274363\n"
     ]
    }
   ],
   "source": [
    "rf = ensemble.RandomForestClassifier(n_estimators=100, max_depth=10)\n",
    "rf_clf = fit_and_score(caverlee2011, caverlee2011_labels, method=rf, depth=2)"
   ]
  },
  {
   "cell_type": "code",
   "execution_count": 381,
   "id": "7fbab90b",
   "metadata": {
    "ExecuteTime": {
     "end_time": "2022-04-26T02:04:57.341688Z",
     "start_time": "2022-04-26T02:04:36.699772Z"
    }
   },
   "outputs": [
    {
     "name": "stdout",
     "output_type": "stream",
     "text": [
      "In-sample precision: 0.9993252524278864\n",
      "In-sample recall score: 0.999279992799928\n",
      "In-sample F1 score: 0.9993699369936995\n"
     ]
    },
    {
     "data": {
      "image/png": "[encoded data removed]",
      "text/plain": [
       "<Figure size 1080x504 with 2 Axes>"
      ]
     },
     "metadata": {
      "needs_background": "light"
     },
     "output_type": "display_data"
    }
   ],
   "source": [
    "fig, axes =plt.subplots(1, 2, figsize=(15,7))\n",
    "mdi_feature_importance(rf_clf, list(caverlee2011.columns), axes[0])\n",
    "permutation_feature_importance(axes[1], caverlee2011, caverlee2011_labels, [])"
   ]
  }
 ],
 "metadata": {
  "kernelspec": {
   "display_name": "Python 3 (ipykernel)",
   "language": "python",
   "name": "python3"
  },
  "language_info": {
   "codemirror_mode": {
    "name": "ipython",
    "version": 3
   },
   "file_extension": ".py",
   "mimetype": "text/x-python",
   "name": "python",
   "nbconvert_exporter": "python",
   "pygments_lexer": "ipython3",
   "version": "3.10.4"
  }
 },
 "nbformat": 4,
 "nbformat_minor": 5
}
