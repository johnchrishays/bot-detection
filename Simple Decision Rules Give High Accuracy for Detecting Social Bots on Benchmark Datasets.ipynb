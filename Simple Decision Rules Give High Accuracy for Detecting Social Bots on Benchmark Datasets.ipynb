{
 "cells": [
  {
   "cell_type": "markdown",
   "metadata": {},
   "source": [
    "# Simple decision rules give high accuracy for detecting social bots on benchmark datasets\n",
    "\n",
    "Analysis of benchmark datasets for bot detection."
   ]
  },
  {
   "cell_type": "markdown",
   "metadata": {},
   "source": [
    "## Setup"
   ]
  },
  {
   "cell_type": "code",
   "execution_count": 50,
   "metadata": {
    "ExecuteTime": {
     "end_time": "2022-05-25T14:00:15.177464Z",
     "start_time": "2022-05-25T14:00:14.157695Z"
    }
   },
   "outputs": [],
   "source": [
    "from datetime import datetime\n",
    "from functools import reduce\n",
    "import json\n",
    "import numpy as np\n",
    "import matplotlib.pyplot as plt\n",
    "import matplotlib.pyplot as plt\n",
    "import matplotlib.ticker as mtick\n",
    "from matplotlib.ticker import MaxNLocator\n",
    "import pandas as pd\n",
    "import pyreadr\n",
    "import random\n",
    "from scipy.io import arff\n",
    "from sklearn.decomposition import PCA\n",
    "from sklearn.feature_extraction.text import CountVectorizer\n",
    "from sklearn.model_selection import train_test_split\n",
    "from sklearn.inspection import permutation_importance\n",
    "from sklearn import tree, ensemble\n",
    "from sklearn.tree import export_text\n",
    "from sklearn.metrics import f1_score, recall_score, precision_score\n",
    "import time\n",
    "import xml.etree.ElementTree as ET"
   ]
  },
  {
   "cell_type": "code",
   "execution_count": 6,
   "metadata": {
    "ExecuteTime": {
     "end_time": "2022-05-25T14:00:16.465779Z",
     "start_time": "2022-05-25T14:00:16.447264Z"
    }
   },
   "outputs": [],
   "source": [
    "PROJ_PATH = \"/nfs/sloanlab003/projects/bot_ensemble_proj/bot-detection\"\n",
    "\n",
    "def timeit(func):\n",
    "    def wrapper(*args, **kwargs):\n",
    "        start_time = time.time()\n",
    "        print(f\"Starting {func.__name__} at {start_time}\")\n",
    "        result = func(*args, **kwargs)\n",
    "        end_time = time.time()\n",
    "        print(f\"Finished {func.__name__} at {end_time}. Execution time: {end_time - start_time} s\")\n",
    "        return result\n",
    "    return wrapper\n",
    "\n",
    "def extract_users(data_path):\n",
    "    \"\"\"\n",
    "    Load json file with user dictionaries and return.\n",
    "    \"\"\"\n",
    "    with open(data_path) as f:\n",
    "        d = json.load(f)\n",
    "        profs = [ent['user'] for ent in d]\n",
    "    return profs\n",
    "\n",
    "\n",
    "def preprocess(X, drop_cols, one_hot_cols):\n",
    "    \"\"\"\n",
    "    Drop columns listed by drop_cols, turn one_hot_cols into \n",
    "    one-hot variables since decision trees must be fitted on numerical data.\n",
    "    \"\"\"\n",
    "    X.drop(columns=drop_cols, inplace=True)\n",
    "    one_hot = pd.get_dummies(X, columns=one_hot_cols, drop_first=True)\n",
    "    return one_hot\n",
    "\n",
    "\n",
    "def preprocess_users(profs, labels_path):\n",
    "    \"\"\"\n",
    "    Preprocessing user dictionaries.\n",
    "    - Convert created_at to datetime\n",
    "    - Read in labels\n",
    "    - Run preprocess\n",
    "    - Return dataframe, one_hot dataframe and labels\n",
    "    \"\"\"\n",
    "    df = pd.DataFrame(profs).set_index(\"id\")\n",
    "    df[\"created_at\"] = df[\"created_at\"].apply(lambda dt: datetime.strptime(dt, \"%a %b %d %H:%M:%S %z %Y\").timestamp())\n",
    "    labels = pd.read_csv(labels_path, sep=\"\\t\", header=None, names=[\"id\", \"label_str\"], index_col=\"id\")\n",
    "    labels.loc[labels['label_str']==\"human\", 'label'] = 0\n",
    "    labels.loc[labels['label_str']==\"bot\", 'label'] = 1\n",
    "    df, labels = df.align(labels, join=\"inner\", axis=0)\n",
    "    df.reset_index(inplace=True)\n",
    "    labels = labels['label']\n",
    "    one_hot = preprocess(df, COLUMNS_TO_DROP + ['profile_banner_url', 'entities', 'id_str', 'following', 'follow_request_sent', 'notifications', 'translator_type'], DUMMY_COLUMNS + ['is_translator', 'contributors_enabled', 'is_translation_enabled', 'has_extended_profile'])\n",
    "    return df, one_hot, labels\n",
    "\n",
    "\n",
    "def fit(X, y, method=None, depth=3):\n",
    "    \"\"\"\n",
    "    Fit a decision tree (or method, if provided) using features X, labels y and maximum depth equal to depth. \n",
    "    \"\"\"\n",
    "    if method is None:\n",
    "        # Use decision tree\n",
    "        clf = tree.DecisionTreeClassifier(max_depth=depth)\n",
    "    else:\n",
    "        clf = method\n",
    "    clf = clf.fit(X, y)\n",
    "    return clf\n",
    " \n",
    "\n",
    "def score(clf, X, y, method=None, silent=False):\n",
    "    \"\"\"\n",
    "    Score trained model, and print out results if not silent.\n",
    "    \"\"\"\n",
    "    if method is None and not silent:\n",
    "        r = export_text(clf, feature_names=list(X.columns), show_weights=True)\n",
    "        print(r)\n",
    "    accuracy = clf.score(X, y)\n",
    "    preds = clf.predict(X)\n",
    "    precision = precision_score(y, preds)\n",
    "    recall = recall_score(y, preds)\n",
    "    f1 = f1_score(y, preds)\n",
    "    if (not silent):\n",
    "        print(f\"Accuracy:\", accuracy)\n",
    "        print(f\"Precision\", precision)\n",
    "        print(f\"Recall:\", recall)\n",
    "        print(f\"F1:\", f1)\n",
    "    return accuracy, precision, recall, f1\n",
    "\n",
    "\n",
    "def fit_and_score(X, y, method=None, depth=3, silent=False):\n",
    "    \"\"\" \n",
    "    Fit model, print out the ascii tree and scores and return the model/scores.\n",
    "    \"\"\"\n",
    "    clf = fit(X, y, method, depth)\n",
    "    accuracy, precision, recall, f1 = score(clf, X, y, method, silent)\n",
    "    return clf, accuracy, precision, recall, f1\n",
    "\n",
    "@timeit\n",
    "def kfold_cv(X, y, method=None, depth=3, k=5):\n",
    "    \"\"\"\n",
    "    Run fit_and_score k times and compute test score statistics.\n",
    "    \"\"\"\n",
    "    inds = random.sample(range(len(X)), len(X))\n",
    "    scores = []\n",
    "    for i in range(k):\n",
    "        print(f\"Fold {i} in progress\")\n",
    "        # Train test split\n",
    "        fold_size = (len(X) // k)+1\n",
    "        train_X = pd.concat([X.iloc[:i*fold_size], X.iloc[(i+1)*fold_size:]])\n",
    "        test_X = X.iloc[i*fold_size:(i+1)*fold_size]\n",
    "        train_y = [label for j,label in enumerate(y) if ((j < i*fold_size) or (j >= (i+1)*fold_size))]\n",
    "        test_y = [label for j,label in enumerate(y) if ((j >= i*fold_size) and (j < (i+1)*fold_size))]\n",
    "        # Fit\n",
    "        clf = fit(train_X, train_y, depth=depth)\n",
    "        scr = score(clf, test_X, test_y, method, True)\n",
    "        scores.append(scr)\n",
    "    avg_scores = [sum([row[i] for row in scores])/k for i in range(4)]\n",
    "    return avg_scores\n",
    "    \n",
    "@timeit\n",
    "def train_test_fit_and_score(X, y, depth=3):\n",
    "    \"\"\" Train test split. \"\"\"\n",
    "    train, test, train_labels, test_labels = train_test_split(X, y, test_size=0.3)\n",
    "    clf, *_ = fit_and_score(train, train_labels, depth=depth, silent=True)\n",
    "    score(clf, test, test_labels)\n",
    "\n",
    "\n",
    "def nonnumeric(df):\n",
    "    \"\"\"\n",
    "    Print out columns that contain NA or have dtype=object.\n",
    "    \"\"\"\n",
    "    print(\"Columns with NA values:\", df.isnull().any()[lambda x: x])\n",
    "    print(\"Columns with dtype=object\", list(df.select_dtypes(include='object')))\n",
    "    print(\"Columns with dtype=bool\", list(df.select_dtypes(include='bool')))\n",
    "\n",
    "\n",
    "@timeit\n",
    "def mdi_feature_importance(clf, labels, ax):\n",
    "    \"\"\"\n",
    "    Plot most important features.\n",
    "    \n",
    "    @param clf: fitted classifier\n",
    "    \"\"\"\n",
    "    importances = clf.feature_importances_\n",
    "    top10 = np.argsort(importances)[-10:] # Get top 10 most important features\n",
    "    top10 = top10[::-1]\n",
    "    std = np.std([tree.feature_importances_ for tree in clf.estimators_], axis=0)\n",
    "    mdi_importances = pd.Series(importances, index=labels)\n",
    "    mdi_importances[top10].plot.bar(yerr=std[top10], ax=ax)\n",
    "    ax.set_title(\"Feature importances using MDI\")\n",
    "    ax.set_ylabel(\"Mean decrease in impurity\")\n",
    "    return mdi_importances\n",
    "\n",
    "@timeit\n",
    "def permutation_feature_importance(ax, X, y, drop_cols):\n",
    "    \"\"\"\n",
    "    Random forest feature importance on fitted model clf, features. Plot results on ax.\n",
    "    Warning: computationally expensive, since refits model multiple times.\n",
    "    \"\"\"\n",
    "    processed = preprocess(X, drop_cols, [])\n",
    "    \n",
    "    rf = ensemble.RandomForestClassifier(n_estimators=100)\n",
    "    clf, *_ = fit_and_score(X, y, method=rf, silent=True)\n",
    "\n",
    "    pi = permutation_importance(clf, X, y, n_repeats=10, random_state=42, n_jobs=1)\n",
    "    top10 = np.argsort(pi.importances_mean)[-10:] # Get top 10 most important features\n",
    "    top10 = top10[::-1]\n",
    "    pi_importances = pd.Series(pi.importances_mean, index=list(X.columns))\n",
    "    pi_importances[top10].plot.bar(ax=ax)\n",
    "    ax.set_title(\"Feature importances using permutation on full model\")\n",
    "    ax.set_ylabel(\"Mean accuracy decrease\")\n",
    "\n",
    "def plot_metrics(one_hot, labels, soa_accuracy=None, soa_precision=None, soa_recall=None):\n",
    "    \"\"\" Plot accuracy, precision and recall for different numbers of features. \"\"\"\n",
    "    rng = range(1,6)\n",
    "    models = [fit_and_score(one_hot, labels, depth=i, silent=True) for i in rng]\n",
    "    clfs, accuracies, precisions, recalls, f1s = zip(*models)\n",
    "    fig, ax = plt.subplots(figsize=(7,4))\n",
    "    ax.scatter(rng, accuracies, label=\"Accuracy\")\n",
    "    ax.scatter(rng, precisions, label=\"Precision\")\n",
    "    ax.scatter(rng, recalls, label=\"Recall\")\n",
    "    ax.set_title(\"Accuracy, precision and recall as a function of model complexity\")\n",
    "    ax.set_xlabel(\"Model complexity (tree depth)\")\n",
    "    ax.set_ylabel(\"Score\")\n",
    "    ax.set_ylim([0,1.05])\n",
    "    ax.xaxis.set_major_locator(MaxNLocator(integer=True))\n",
    "    if soa_accuracy:\n",
    "        plt.axhline(y= soa_accuracy, color='C0', linestyle='-', label=\"State-of-art accuracy\")\n",
    "    if soa_precision:\n",
    "        plt.axhline(y= soa_precision, color='C1', linestyle='-', label=\"State-of-art precision\")\n",
    "    if soa_recall:\n",
    "        plt.axhline(y= soa_recall, color='C2', linestyle='-', label=\"State-of-art recall\")\n",
    "    ax.legend()\n",
    "    plt.tight_layout()"
   ]
  },
  {
   "cell_type": "code",
   "execution_count": 7,
   "metadata": {
    "ExecuteTime": {
     "end_time": "2022-05-25T14:00:23.211405Z",
     "start_time": "2022-05-25T14:00:23.204456Z"
    }
   },
   "outputs": [],
   "source": [
    "COLUMNS_TO_DROP = ['id', \n",
    "                   'name', \n",
    "                   'screen_name', \n",
    "                   'url', \n",
    "                   'profile_image_url', \n",
    "                   'profile_background_image_url_https', \n",
    "                   'description',\n",
    "                   'profile_image_url_https', \n",
    "                   'profile_background_image_url', \n",
    "                   'profile_text_color', \n",
    "                   'profile_sidebar_border_color', \n",
    "                   'profile_sidebar_fill_color', \n",
    "                   'profile_background_color', \n",
    "                   'profile_link_color']\n",
    "DUMMY_COLUMNS = ['lang', \n",
    "                  'time_zone', \n",
    "                  'location', \n",
    "                  'default_profile', \n",
    "                  'default_profile_image', \n",
    "                  'utc_offset',\n",
    "                  'default_profile', \n",
    "                  'default_profile_image', \n",
    "                  'profile_background_tile', \n",
    "                  'utc_offset',\n",
    "                  'protected', \n",
    "                  'geo_enabled',\n",
    "                  'verified',\n",
    "                  'profile_use_background_image']"
   ]
  },
  {
   "cell_type": "markdown",
   "metadata": {},
   "source": [
    "# Network features"
   ]
  },
  {
   "cell_type": "markdown",
   "metadata": {
    "heading_collapsed": true
   },
   "source": [
    "## \"TwiBot-20: A Comprehensive Twitter Bot Detection Benchmark.\"\n",
    "\n",
    "Shangbin Feng, Herun Wan, Ningnan Wang, Jundong Li, and Minnan Luo. \"TwiBot-20: A Comprehensive Twitter Bot Detection Benchmark.\" CIKM. 2021.\n",
    "https://arxiv.org/abs/2106.13088\n",
    "\n",
    "Simple decision rule accuracy: 0.8165\n",
    "\n",
    "State-of-art accuracy: 0.8664"
   ]
  },
  {
   "cell_type": "code",
   "execution_count": 8,
   "metadata": {
    "ExecuteTime": {
     "end_time": "2022-04-29T03:24:07.783649Z",
     "start_time": "2022-04-29T03:24:05.920258Z"
    },
    "hidden": true
   },
   "outputs": [],
   "source": [
    "# Load data\n",
    "def load_twibot(path, drop_extra_cols=[]):\n",
    "    with open(path) as f:\n",
    "        twibot = json.load(f)\n",
    "        twibot_labels = [int(ent['label']) for ent in twibot]\n",
    "        profs = [ent['profile'] for ent in twibot]\n",
    "        twibot_df = pd.DataFrame(profs)\n",
    "    twibot_df[\"created_at\"] = twibot_df[\"created_at\"].apply(lambda dt: datetime.strptime(dt, \"%a %b %d %H:%M:%S %z %Y \").timestamp())\n",
    "    # Turn bool, string columns into ints\n",
    "    for col in twibot_df:\n",
    "        if (True in twibot_df):\n",
    "            twibot_df[col] = twibot_df[col].astype(int)\n",
    "        if (col in ['followers_count', 'friends_count', 'listed_count', 'favourites_count', 'statuses_count']):\n",
    "            twibot_df[col] = twibot_df[col].astype(int)\n",
    "        if (col in ['is_translation_enabled', 'has_extended_profile']):\n",
    "            twibot_df[col] = twibot_df[col].astype(bool).astype(int) \n",
    "    drop_cols = COLUMNS_TO_DROP + ['profile_location', 'entities', 'id_str'] + drop_extra_cols\n",
    "    twibot_one_hot = preprocess(twibot_df, drop_cols, [ent for ent in DUMMY_COLUMNS + ['is_translator', 'contributors_enabled'] if ent not in drop_cols])\n",
    "    return twibot_df, twibot_one_hot, twibot_labels\n",
    "\n",
    "twibot_df, twibot_one_hot, twibot_labels = load_twibot(PROJ_PATH + \"/data/Twibot-20/train.json\")\n",
    "twibot_test, twibot_one_hot_test, twibot_labels_test = load_twibot(PROJ_PATH + \"/data/Twibot-20/test.json\")\n",
    "twibot_validate, twibot_one_hot_validate, twibot_labels_validate = load_twibot(PROJ_PATH + \"/data/Twibot-20/dev.json\")"
   ]
  },
  {
   "cell_type": "code",
   "execution_count": 14,
   "metadata": {
    "ExecuteTime": {
     "end_time": "2022-04-29T03:24:07.841756Z",
     "start_time": "2022-04-29T03:24:07.784762Z"
    },
    "hidden": true
   },
   "outputs": [
    {
     "name": "stdout",
     "output_type": "stream",
     "text": [
      "--------Train and score on training set--------\n",
      "|--- verified_True  <= 0.50\n",
      "|   |--- weights: [1576.00, 4645.00] class: 1\n",
      "|--- verified_True  >  0.50\n",
      "|   |--- weights: [2056.00, 1.00] class: 0\n",
      "\n",
      "Accuracy: 0.8094950471128292\n",
      "Precision 0.7466645233885227\n",
      "Recall: 0.9997847610848042\n",
      "F1: 0.8548817520934942\n"
     ]
    }
   ],
   "source": [
    "# Fit and score on decision tree\n",
    "print(\"--------Train and score on training set--------\")\n",
    "shared_columns = np.intersect1d(twibot_one_hot.columns, twibot_one_hot_test.columns) # Since we want to check on test set, just use common columns between train/test.\n",
    "dt_clf, *_ = fit_and_score(twibot_one_hot[shared_columns], twibot_labels, depth=1)"
   ]
  },
  {
   "cell_type": "code",
   "execution_count": 6,
   "metadata": {
    "ExecuteTime": {
     "end_time": "2022-04-29T03:24:07.852392Z",
     "start_time": "2022-04-29T03:24:07.842693Z"
    },
    "hidden": true
   },
   "outputs": [
    {
     "name": "stdout",
     "output_type": "stream",
     "text": [
      "--------Score on test set--------\n",
      "|--- verified_True  <= 0.50\n",
      "|   |--- weights: [1576.00, 4645.00] class: 1\n",
      "|--- verified_True  >  0.50\n",
      "|   |--- weights: [2056.00, 1.00] class: 0\n",
      "\n",
      "Accuracy: 0.8165680473372781\n",
      "Precision 0.7467911318553092\n",
      "Recall: 1.0\n",
      "F1: 0.8550434201736806\n"
     ]
    }
   ],
   "source": [
    "# Score on test set for comparison to state of the art\n",
    "print(\"--------Score on test set--------\")\n",
    "score(dt_clf, twibot_one_hot_test[shared_columns], twibot_labels_test)"
   ]
  },
  {
   "cell_type": "code",
   "execution_count": 15,
   "metadata": {},
   "outputs": [
    {
     "name": "stdout",
     "output_type": "stream",
     "text": [
      "|--- verified_True  <= 0.50\n",
      "|   |--- weights: [1576.00, 4645.00] class: 1\n",
      "|--- verified_True  >  0.50\n",
      "|   |--- weights: [2056.00, 1.00] class: 0\n",
      "\n",
      "Accuracy: 0.8094950471128292\n",
      "Precision 0.7466645233885227\n",
      "Recall: 0.9997847610848042\n",
      "F1: 0.8548817520934942\n",
      "|--- verified_True  <= 0.50\n",
      "|   |--- friends_count <= 1789.50\n",
      "|   |   |--- weights: [1261.00, 3113.00] class: 1\n",
      "|   |--- friends_count >  1789.50\n",
      "|   |   |--- weights: [315.00, 1532.00] class: 1\n",
      "|--- verified_True  >  0.50\n",
      "|   |--- created_at <= 1237883904.00\n",
      "|   |   |--- weights: [500.00, 1.00] class: 0\n",
      "|   |--- created_at >  1237883904.00\n",
      "|   |   |--- weights: [1556.00, 0.00] class: 0\n",
      "\n",
      "Accuracy: 0.8094950471128292\n",
      "Precision 0.7466645233885227\n",
      "Recall: 0.9997847610848042\n",
      "F1: 0.8548817520934942\n",
      "|--- verified_True  <= 0.50\n",
      "|   |--- friends_count <= 1789.50\n",
      "|   |   |--- statuses_count <= 11.50\n",
      "|   |   |   |--- weights: [198.00, 282.00] class: 1\n",
      "|   |   |--- statuses_count >  11.50\n",
      "|   |   |   |--- weights: [1063.00, 2831.00] class: 1\n",
      "|   |--- friends_count >  1789.50\n",
      "|   |   |--- created_at <= 1583986112.00\n",
      "|   |   |   |--- weights: [295.00, 1509.00] class: 1\n",
      "|   |   |--- created_at >  1583986112.00\n",
      "|   |   |   |--- weights: [20.00, 23.00] class: 1\n",
      "|--- verified_True  >  0.50\n",
      "|   |--- created_at <= 1237883904.00\n",
      "|   |   |--- created_at <= 1237859776.00\n",
      "|   |   |   |--- weights: [500.00, 0.00] class: 0\n",
      "|   |   |--- created_at >  1237859776.00\n",
      "|   |   |   |--- weights: [0.00, 1.00] class: 1\n",
      "|   |--- created_at >  1237883904.00\n",
      "|   |   |--- weights: [1556.00, 0.00] class: 0\n",
      "\n",
      "Accuracy: 0.8096158492389466\n",
      "Precision 0.7467052394728383\n",
      "Recall: 1.0\n",
      "F1: 0.8549871181450128\n",
      "|--- verified_True  <= 0.50\n",
      "|   |--- friends_count <= 1789.50\n",
      "|   |   |--- statuses_count <= 11.50\n",
      "|   |   |   |--- created_at <= 1530348416.00\n",
      "|   |   |   |   |--- weights: [39.00, 134.00] class: 1\n",
      "|   |   |   |--- created_at >  1530348416.00\n",
      "|   |   |   |   |--- weights: [159.00, 148.00] class: 0\n",
      "|   |   |--- statuses_count >  11.50\n",
      "|   |   |   |--- followers_count <= 11639.50\n",
      "|   |   |   |   |--- weights: [897.00, 2570.00] class: 1\n",
      "|   |   |   |--- followers_count >  11639.50\n",
      "|   |   |   |   |--- weights: [166.00, 261.00] class: 1\n",
      "|   |--- friends_count >  1789.50\n",
      "|   |   |--- created_at <= 1583986112.00\n",
      "|   |   |   |--- geo_enabled_True  <= 0.50\n",
      "|   |   |   |   |--- weights: [136.00, 933.00] class: 1\n",
      "|   |   |   |--- geo_enabled_True  >  0.50\n",
      "|   |   |   |   |--- weights: [159.00, 576.00] class: 1\n",
      "|   |   |--- created_at >  1583986112.00\n",
      "|   |   |   |--- statuses_count <= 19.00\n",
      "|   |   |   |   |--- weights: [7.00, 1.00] class: 0\n",
      "|   |   |   |--- statuses_count >  19.00\n",
      "|   |   |   |   |--- weights: [13.00, 22.00] class: 1\n",
      "|--- verified_True  >  0.50\n",
      "|   |--- created_at <= 1237883904.00\n",
      "|   |   |--- created_at <= 1237859776.00\n",
      "|   |   |   |--- weights: [500.00, 0.00] class: 0\n",
      "|   |   |--- created_at >  1237859776.00\n",
      "|   |   |   |--- weights: [0.00, 1.00] class: 1\n",
      "|   |--- created_at >  1237883904.00\n",
      "|   |   |--- weights: [1556.00, 0.00] class: 0\n",
      "\n",
      "Accuracy: 0.8116694853829427\n",
      "Precision 0.7613001523616049\n",
      "Recall: 0.9679294016358158\n",
      "F1: 0.8522694968255473\n",
      "|--- verified_True  <= 0.50\n",
      "|   |--- friends_count <= 1789.50\n",
      "|   |   |--- statuses_count <= 11.50\n",
      "|   |   |   |--- created_at <= 1530348416.00\n",
      "|   |   |   |   |--- friends_count <= 79.50\n",
      "|   |   |   |   |   |--- weights: [25.00, 52.00] class: 1\n",
      "|   |   |   |   |--- friends_count >  79.50\n",
      "|   |   |   |   |   |--- weights: [14.00, 82.00] class: 1\n",
      "|   |   |   |--- created_at >  1530348416.00\n",
      "|   |   |   |   |--- favourites_count <= 4.50\n",
      "|   |   |   |   |   |--- weights: [59.00, 80.00] class: 1\n",
      "|   |   |   |   |--- favourites_count >  4.50\n",
      "|   |   |   |   |   |--- weights: [100.00, 68.00] class: 0\n",
      "|   |   |--- statuses_count >  11.50\n",
      "|   |   |   |--- followers_count <= 11639.50\n",
      "|   |   |   |   |--- statuses_count <= 2840.50\n",
      "|   |   |   |   |   |--- weights: [555.00, 1812.00] class: 1\n",
      "|   |   |   |   |--- statuses_count >  2840.50\n",
      "|   |   |   |   |   |--- weights: [342.00, 758.00] class: 1\n",
      "|   |   |   |--- followers_count >  11639.50\n",
      "|   |   |   |   |--- listed_count <= 185.00\n",
      "|   |   |   |   |   |--- weights: [97.00, 82.00] class: 0\n",
      "|   |   |   |   |--- listed_count >  185.00\n",
      "|   |   |   |   |   |--- weights: [69.00, 179.00] class: 1\n",
      "|   |--- friends_count >  1789.50\n",
      "|   |   |--- created_at <= 1583986112.00\n",
      "|   |   |   |--- geo_enabled_True  <= 0.50\n",
      "|   |   |   |   |--- created_at <= 1539071488.00\n",
      "|   |   |   |   |   |--- weights: [107.00, 829.00] class: 1\n",
      "|   |   |   |   |--- created_at >  1539071488.00\n",
      "|   |   |   |   |   |--- weights: [29.00, 104.00] class: 1\n",
      "|   |   |   |--- geo_enabled_True  >  0.50\n",
      "|   |   |   |   |--- location_Lima, Peru  <= 0.50\n",
      "|   |   |   |   |   |--- weights: [155.00, 576.00] class: 1\n",
      "|   |   |   |   |--- location_Lima, Peru  >  0.50\n",
      "|   |   |   |   |   |--- weights: [4.00, 0.00] class: 0\n",
      "|   |   |--- created_at >  1583986112.00\n",
      "|   |   |   |--- statuses_count <= 19.00\n",
      "|   |   |   |   |--- listed_count <= 1.50\n",
      "|   |   |   |   |   |--- weights: [7.00, 0.00] class: 0\n",
      "|   |   |   |   |--- listed_count >  1.50\n",
      "|   |   |   |   |   |--- weights: [0.00, 1.00] class: 1\n",
      "|   |   |   |--- statuses_count >  19.00\n",
      "|   |   |   |   |--- listed_count <= 10.50\n",
      "|   |   |   |   |   |--- weights: [9.00, 22.00] class: 1\n",
      "|   |   |   |   |--- listed_count >  10.50\n",
      "|   |   |   |   |   |--- weights: [4.00, 0.00] class: 0\n",
      "|--- verified_True  >  0.50\n",
      "|   |--- created_at <= 1237883904.00\n",
      "|   |   |--- created_at <= 1237859776.00\n",
      "|   |   |   |--- weights: [500.00, 0.00] class: 0\n",
      "|   |   |--- created_at >  1237859776.00\n",
      "|   |   |   |--- weights: [0.00, 1.00] class: 1\n",
      "|   |--- created_at >  1237883904.00\n",
      "|   |   |--- weights: [1556.00, 0.00] class: 0\n",
      "\n",
      "Accuracy: 0.8171055810582266\n",
      "Precision 0.7672354948805461\n",
      "Recall: 0.9677141627206199\n",
      "F1: 0.8558918713116315\n"
     ]
    }
   ],
   "source": [
    "twibot_df, twibot_one_hot, twibot_labels = load_twibot(PROJ_PATH + \"/data/Twibot-20/train.json\")\n",
    "twibot_test, twibot_one_hot_test, twibot_labels_test = load_twibot(PROJ_PATH + \"/data/Twibot-20/test.json\")\n",
    "twibot_validate, twibot_one_hot_validate, twibot_labels_validate = load_twibot(PROJ_PATH + \"/data/Twibot-20/dev.json\")\n",
    "twibot_scores = []\n",
    "for i in range(1, 6):\n",
    "    dt_clf, *_ = fit_and_score(twibot_one_hot[shared_columns], twibot_labels, depth=i)\n",
    "    scr = score(dt_clf, twibot_one_hot_test[shared_columns], twibot_labels_test, silent=True)\n",
    "    twibot_scores.append(scr)"
   ]
  },
  {
   "cell_type": "code",
   "execution_count": 7,
   "metadata": {
    "ExecuteTime": {
     "end_time": "2022-04-29T03:24:11.009049Z",
     "start_time": "2022-04-29T03:24:10.687955Z"
    },
    "hidden": true
   },
   "outputs": [
    {
     "data": {
      "image/png": "[encoded data removed]",
      "text/plain": [
       "<Figure size 504x288 with 1 Axes>"
      ]
     },
     "metadata": {
      "needs_background": "light"
     },
     "output_type": "display_data"
    }
   ],
   "source": [
    "plot_metrics(twibot_one_hot[shared_columns], twibot_labels, soa_accuracy=0.8664)"
   ]
  },
  {
   "cell_type": "code",
   "execution_count": 8,
   "metadata": {
    "ExecuteTime": {
     "end_time": "2022-04-29T03:24:12.324567Z",
     "start_time": "2022-04-29T03:24:11.116343Z"
    },
    "hidden": true
   },
   "outputs": [
    {
     "name": "stdout",
     "output_type": "stream",
     "text": [
      "Accuracy: 1.0\n",
      "Precision 1.0\n",
      "Recall: 1.0\n",
      "F1: 1.0\n"
     ]
    }
   ],
   "source": [
    "# Fit and score on random forest\n",
    "rf = ensemble.RandomForestClassifier(n_estimators=100)\n",
    "rf_clf, *_ = fit_and_score(twibot_one_hot[shared_columns], twibot_labels, method=rf)"
   ]
  },
  {
   "cell_type": "code",
   "execution_count": 9,
   "metadata": {
    "ExecuteTime": {
     "end_time": "2022-04-29T03:24:12.380710Z",
     "start_time": "2022-04-29T03:24:12.325619Z"
    },
    "hidden": true
   },
   "outputs": [
    {
     "name": "stdout",
     "output_type": "stream",
     "text": [
      "Accuracy: 0.8038884192730347\n",
      "Precision 0.7588832487309645\n",
      "Recall: 0.934375\n",
      "F1: 0.8375350140056023\n"
     ]
    },
    {
     "data": {
      "text/plain": [
       "(0.8038884192730347, 0.7588832487309645, 0.934375, 0.8375350140056023)"
      ]
     },
     "execution_count": 9,
     "metadata": {},
     "output_type": "execute_result"
    }
   ],
   "source": [
    "score(rf_clf, twibot_one_hot_test[shared_columns], twibot_labels_test, method=rf)"
   ]
  },
  {
   "cell_type": "code",
   "execution_count": 10,
   "metadata": {
    "ExecuteTime": {
     "end_time": "2022-04-29T03:24:20.365280Z",
     "start_time": "2022-04-29T03:24:12.823781Z"
    },
    "hidden": true
   },
   "outputs": [
    {
     "data": {
      "image/png": "[encoded data removed]",
      "text/plain": [
       "<Figure size 1080x504 with 2 Axes>"
      ]
     },
     "metadata": {
      "needs_background": "light"
     },
     "output_type": "display_data"
    }
   ],
   "source": [
    "fig, axes = plt.subplots(1,2, figsize=(15,7))\n",
    "mdi_feature_importance(rf_clf, list(twibot_one_hot[shared_columns].columns), axes[0])\n",
    "permutation_feature_importance(axes[1], twibot_df, twibot_labels, DUMMY_COLUMNS + ['is_translator', 'contributors_enabled'])\n",
    "fig.tight_layout()"
   ]
  },
  {
   "cell_type": "markdown",
   "metadata": {
    "heading_collapsed": true,
    "hidden": true
   },
   "source": [
    "### Without verified"
   ]
  },
  {
   "cell_type": "code",
   "execution_count": 11,
   "metadata": {
    "ExecuteTime": {
     "end_time": "2022-04-29T03:24:22.883959Z",
     "start_time": "2022-04-29T03:24:21.404548Z"
    },
    "hidden": true
   },
   "outputs": [
    {
     "name": "stdout",
     "output_type": "stream",
     "text": [
      "|--- listed_count <= 225.50\n",
      "|   |--- weights: [1845.00, 4265.00] class: 1\n",
      "|--- listed_count >  225.50\n",
      "|   |--- weights: [1787.00, 381.00] class: 0\n",
      "\n",
      "Accuracy: 0.7310944672626238\n",
      "Precision 0.6980360065466449\n",
      "Recall: 0.9179939733103745\n",
      "F1: 0.7930457419114912\n"
     ]
    }
   ],
   "source": [
    "twibot_df, twibot_one_hot, twibot_labels = load_twibot(PROJ_PATH + \"/data/Twibot-20/train.json\", ['verified'])\n",
    "dt_clf, *_ = fit_and_score(twibot_one_hot, twibot_labels, depth=1)"
   ]
  },
  {
   "cell_type": "markdown",
   "metadata": {},
   "source": [
    "## botometer-feedback-2019: \"Arming the public with artificial intelligence to counter social bots.\"\n",
    "\n",
    "Yang, Kai‐Cheng, Onur Varol, Clayton A. Davis, Emilio Ferrara, Alessandro Flammini, and Filippo Menczer. \"Arming the public with artificial intelligence to counter social bots.\" Human Behavior and Emerging Technologies 1, no. 1 (2019): 48-61.\n",
    "\n",
    "https://arxiv.org/pdf/1901.00912.pdf\n",
    "\n",
    "Approx. citations: 300\n",
    "\n",
    "Precision is `# correctly predicted bots / # predicted bots`. Recall is `# correctly predicted bots / # bots`.\n",
    "\n",
    "Simple decision rule precision/recall: 0.86/0.68\n",
    "\n",
    "State-of-art precision/recall: 0.84/0.7"
   ]
  },
  {
   "cell_type": "code",
   "execution_count": 16,
   "metadata": {
    "ExecuteTime": {
     "end_time": "2022-05-25T14:00:26.476153Z",
     "start_time": "2022-05-25T14:00:25.273867Z"
    }
   },
   "outputs": [
    {
     "name": "stdout",
     "output_type": "stream",
     "text": [
      "-------------- DECISION TREE --------------\n",
      "|--- friends_count <= 8.50\n",
      "|   |--- favourites_count <= 70.00\n",
      "|   |   |--- utc_offset_-10800.0 <= 0.50\n",
      "|   |   |   |--- weights: [0.00, 23.00] class: 1.0\n",
      "|   |   |--- utc_offset_-10800.0 >  0.50\n",
      "|   |   |   |--- weights: [1.00, 0.00] class: 0.0\n",
      "|   |--- favourites_count >  70.00\n",
      "|   |   |--- listed_count <= 20.50\n",
      "|   |   |   |--- weights: [0.00, 1.00] class: 1.0\n",
      "|   |   |--- listed_count >  20.50\n",
      "|   |   |   |--- weights: [2.00, 0.00] class: 0.0\n",
      "|--- friends_count >  8.50\n",
      "|   |--- friends_count <= 4219.50\n",
      "|   |   |--- statuses_count <= 143.00\n",
      "|   |   |   |--- weights: [47.00, 28.00] class: 0.0\n",
      "|   |   |--- statuses_count >  143.00\n",
      "|   |   |   |--- weights: [272.00, 32.00] class: 0.0\n",
      "|   |--- friends_count >  4219.50\n",
      "|   |   |--- created_at <= 1352961024.00\n",
      "|   |   |   |--- weights: [36.00, 11.00] class: 0.0\n",
      "|   |   |--- created_at >  1352961024.00\n",
      "|   |   |   |--- weights: [22.00, 44.00] class: 1.0\n",
      "\n",
      "Accuracy: 0.8208092485549133\n",
      "Precision 0.7555555555555555\n",
      "Recall: 0.4892086330935252\n",
      "F1: 0.593886462882096\n",
      "Starting kfold_cv at 1653924966.4051838\n",
      "Fold 0 in progress\n",
      "Fold 1 in progress\n",
      "Fold 2 in progress\n",
      "Fold 3 in progress\n",
      "Fold 4 in progress\n",
      "Finished kfold_cv at 1653924966.550075. Execution time: 0.14489126205444336 s\n",
      "Starting kfold_cv at 1653924966.5503266\n",
      "Fold 0 in progress\n",
      "Fold 1 in progress\n",
      "Fold 2 in progress\n",
      "Fold 3 in progress\n",
      "Fold 4 in progress\n",
      "Finished kfold_cv at 1653924966.6684926. Execution time: 0.11816596984863281 s\n",
      "Starting kfold_cv at 1653924966.6687107\n",
      "Fold 0 in progress\n",
      "Fold 1 in progress\n",
      "Fold 2 in progress\n",
      "Fold 3 in progress\n",
      "Fold 4 in progress\n",
      "Finished kfold_cv at 1653924966.7888527. Execution time: 0.12014198303222656 s\n",
      "Starting kfold_cv at 1653924966.789072\n",
      "Fold 0 in progress\n",
      "Fold 1 in progress\n",
      "Fold 2 in progress\n",
      "Fold 3 in progress\n",
      "Fold 4 in progress\n",
      "Finished kfold_cv at 1653924966.985549. Execution time: 0.19647693634033203 s\n",
      "Starting kfold_cv at 1653924966.9856195\n",
      "Fold 0 in progress\n",
      "Fold 1 in progress\n",
      "Fold 2 in progress\n",
      "Fold 3 in progress\n",
      "Fold 4 in progress\n",
      "Finished kfold_cv at 1653924967.1213198. Execution time: 0.13570022583007812 s\n"
     ]
    },
    {
     "data": {
      "image/png": "[encoded data removed]",
      "text/plain": [
       "<Figure size 504x288 with 1 Axes>"
      ]
     },
     "metadata": {
      "needs_background": "light"
     },
     "output_type": "display_data"
    }
   ],
   "source": [
    "def analyze_bot_repo_dataset(data_path, labels_path, depth=5, soa_accuracy=None, soa_precision=None, soa_recall=None):\n",
    "    profs = extract_users(data_path)\n",
    "    df, one_hot, labels = preprocess_users(profs, labels_path)\n",
    "    # Fit and score on decision tree\n",
    "    print(\"-------------- DECISION TREE --------------\")\n",
    "    dt_clf, *_ = fit_and_score(one_hot, labels, depth=depth)\n",
    "    plot_metrics(one_hot, labels, soa_accuracy=soa_accuracy, soa_precision=soa_precision, soa_recall=soa_recall)\n",
    "    # Fit and score on decision tree\n",
    "#     print(\"-------------- DECISION TREE TRAIN/TEST SPLIT --------------\")\n",
    "#     train_test_fit_and_score(one_hot, labels, depth=depth)\n",
    "#     # Fit and score on random forest\n",
    "#     print(\"-------------- RANDOM FOREST --------------\")\n",
    "#     rf = ensemble.RandomForestClassifier(n_estimators=100)\n",
    "#     rf_clf, *_ = fit_and_score(one_hot, labels, method=rf)\n",
    "#     fig, axes = plt.subplots(1,2, figsize=(15,7))\n",
    "#     mdi_feature_importance(rf_clf, list(one_hot.columns), axes[0])\n",
    "#     permutation_feature_importance(axes[1], df, labels, DUMMY_COLUMNS + ['is_translator', 'contributors_enabled'])\n",
    "#     fig.tight_layout()\n",
    "    return [kfold_cv(one_hot, labels, depth=i) for i in range(1,6)]\n",
    "\n",
    "botometer_feedback_scores = analyze_bot_repo_dataset(PROJ_PATH + \"/data/botometer-feedback-2019_tweets.json\", PROJ_PATH + \"/data/botometer-feedback-2019.tsv\", depth=3, soa_precision=0.84, soa_recall=0.7)\n"
   ]
  },
  {
   "cell_type": "markdown",
   "metadata": {
    "heading_collapsed": true
   },
   "source": [
    "## \"Rtbust-2019: Exploiting temporal patterns for botnet detection on twitter.\"\n",
    "\n",
    "Mazza, Michele, Stefano Cresci, Marco Avvenuti, Walter Quattrociocchi, and Maurizio Tesconi. \"Rtbust: Exploiting temporal patterns for botnet detection on twitter.\" In Proceedings of the 10th ACM Conference on Web Science, pp. 183-192. 2019.\n",
    "\n",
    "https://arxiv.org/abs/1902.04506\n",
    "\n",
    "Approx. citations: 100\n",
    "\n",
    "Simple decision rule accuracy: 0.7345\n",
    "\n",
    "State-of-art accuracy: 0.8755 (using different features)"
   ]
  },
  {
   "cell_type": "code",
   "execution_count": 17,
   "metadata": {
    "ExecuteTime": {
     "end_time": "2022-04-29T03:24:41.446328Z",
     "start_time": "2022-04-29T03:24:40.263155Z"
    },
    "hidden": true
   },
   "outputs": [
    {
     "name": "stdout",
     "output_type": "stream",
     "text": [
      "-------------- DECISION TREE --------------\n",
      "|--- favourites_count <= 9206.00\n",
      "|   |--- created_at <= 1403440128.00\n",
      "|   |   |--- weights: [72.00, 66.00] class: 0.0\n",
      "|   |--- created_at >  1403440128.00\n",
      "|   |   |--- weights: [88.00, 233.00] class: 1.0\n",
      "|--- favourites_count >  9206.00\n",
      "|   |--- favourites_count <= 24401.50\n",
      "|   |   |--- weights: [86.00, 41.00] class: 0.0\n",
      "|   |--- favourites_count >  24401.50\n",
      "|   |   |--- weights: [94.00, 13.00] class: 0.0\n",
      "\n",
      "Accuracy: 0.6998556998556998\n",
      "Precision 0.7258566978193146\n",
      "Recall: 0.660056657223796\n",
      "F1: 0.6913946587537092\n",
      "Starting kfold_cv at 1653924968.2784195\n",
      "Fold 0 in progress\n",
      "Fold 1 in progress\n",
      "Fold 2 in progress\n",
      "Fold 3 in progress\n",
      "Fold 4 in progress\n",
      "Finished kfold_cv at 1653924968.4063115. Execution time: 0.12789201736450195 s\n",
      "Starting kfold_cv at 1653924968.4066358\n",
      "Fold 0 in progress\n",
      "Fold 1 in progress\n",
      "Fold 2 in progress\n",
      "Fold 3 in progress\n",
      "Fold 4 in progress\n",
      "Finished kfold_cv at 1653924968.5186121. Execution time: 0.11197638511657715 s\n",
      "Starting kfold_cv at 1653924968.5188293\n",
      "Fold 0 in progress\n",
      "Fold 1 in progress\n",
      "Fold 2 in progress\n",
      "Fold 3 in progress\n",
      "Fold 4 in progress\n",
      "Finished kfold_cv at 1653924968.6161304. Execution time: 0.09730100631713867 s\n",
      "Starting kfold_cv at 1653924968.6163642\n",
      "Fold 0 in progress\n",
      "Fold 1 in progress\n",
      "Fold 2 in progress\n",
      "Fold 3 in progress\n",
      "Fold 4 in progress\n",
      "Finished kfold_cv at 1653924968.7356682. Execution time: 0.11930394172668457 s\n",
      "Starting kfold_cv at 1653924968.7358134\n",
      "Fold 0 in progress\n",
      "Fold 1 in progress\n",
      "Fold 2 in progress\n",
      "Fold 3 in progress\n",
      "Fold 4 in progress\n",
      "Finished kfold_cv at 1653924968.876619. Execution time: 0.14080572128295898 s\n"
     ]
    },
    {
     "data": {
      "image/png": "[encoded data removed]",
      "text/plain": [
       "<Figure size 504x288 with 1 Axes>"
      ]
     },
     "metadata": {
      "needs_background": "light"
     },
     "output_type": "display_data"
    }
   ],
   "source": [
    "rtbust_scores = analyze_bot_repo_dataset(PROJ_PATH + \"/data/cresci-rtbust-2019_tweets.json\", PROJ_PATH + \"/data/cresci-rtbust-2019.tsv\", depth=2, soa_accuracy=0.8755)"
   ]
  },
  {
   "cell_type": "markdown",
   "metadata": {
    "heading_collapsed": true
   },
   "source": [
    "## midterm-2018\n",
    "\n",
    "Note: Too big to run on my computer right now."
   ]
  },
  {
   "cell_type": "code",
   "execution_count": 18,
   "metadata": {
    "ExecuteTime": {
     "start_time": "2022-05-25T01:03:42.481Z"
    },
    "hidden": true
   },
   "outputs": [
    {
     "name": "stdout",
     "output_type": "stream",
     "text": [
      "-------------- DECISION TREE --------------\n",
      "|--- user_created_at <= 1505082048.00\n",
      "|   |--- weights: [7396.00, 584.00] class: 0.0\n",
      "|--- user_created_at >  1505082048.00\n",
      "|   |--- weights: [696.00, 41862.00] class: 1.0\n",
      "\n",
      "Accuracy: 0.9746725236455737\n",
      "Precision 0.9836458480191739\n",
      "Recall: 0.9862413419403477\n",
      "F1: 0.9849418850877606\n",
      "Starting kfold_cv at 1653925446.3510287\n",
      "Fold 0 in progress\n",
      "Fold 1 in progress\n",
      "Fold 2 in progress\n",
      "Fold 3 in progress\n",
      "Fold 4 in progress\n",
      "Finished kfold_cv at 1653925573.1245208. Execution time: 126.77349209785461 s\n",
      "Starting kfold_cv at 1653925573.1250763\n",
      "Fold 0 in progress\n",
      "Fold 1 in progress\n",
      "Fold 2 in progress\n",
      "Fold 3 in progress\n",
      "Fold 4 in progress\n",
      "Finished kfold_cv at 1653925727.5248122. Execution time: 154.3997359275818 s\n",
      "Starting kfold_cv at 1653925727.5257976\n",
      "Fold 0 in progress\n",
      "Fold 1 in progress\n",
      "Fold 2 in progress\n",
      "Fold 3 in progress\n",
      "Fold 4 in progress\n",
      "Finished kfold_cv at 1653925901.527805. Execution time: 174.00200748443604 s\n",
      "Starting kfold_cv at 1653925901.52829\n",
      "Fold 0 in progress\n",
      "Fold 1 in progress\n",
      "Fold 2 in progress\n",
      "Fold 3 in progress\n",
      "Fold 4 in progress\n",
      "Finished kfold_cv at 1653926091.5214486. Execution time: 189.99315857887268 s\n",
      "Starting kfold_cv at 1653926091.5224504\n",
      "Fold 0 in progress\n",
      "Fold 1 in progress\n",
      "Fold 2 in progress\n",
      "Fold 3 in progress\n",
      "Fold 4 in progress\n",
      "Finished kfold_cv at 1653926302.3699431. Execution time: 210.84749269485474 s\n"
     ]
    },
    {
     "data": {
      "image/png": "[encoded data removed]",
      "text/plain": [
       "<Figure size 504x288 with 1 Axes>"
      ]
     },
     "metadata": {
      "needs_background": "light"
     },
     "output_type": "display_data"
    }
   ],
   "source": [
    "def midterm_extract_users(data_path):\n",
    "    with open(data_path) as f:\n",
    "        d = json.load(f)\n",
    "    return d\n",
    "\n",
    "def midterm_preprocess_users(profs, labels_path, dummy_cols):\n",
    "    df = pd.DataFrame(profs).set_index(\"user_id\")\n",
    "    df[\"user_created_at\"] = df[\"user_created_at\"].apply(lambda dt: datetime.strptime(dt, \"%a %b %d %H:%M:%S %Y\").timestamp())\n",
    "    labels = pd.read_csv(labels_path, sep=\"\\t\", header=None, names=[\"id\", \"label_str\"], index_col=\"id\")\n",
    "    labels.loc[labels['label_str']==\"human\", 'label'] = 0\n",
    "    labels.loc[labels['label_str']==\"bot\", 'label'] = 1\n",
    "    df, labels = df.align(labels, join=\"inner\", axis=0)\n",
    "    df.reset_index(inplace=True)\n",
    "    labels = labels['label']\n",
    "    one_hot = preprocess(df, ['probe_timestamp', 'screen_name', 'name', 'description', 'url'], dummy_cols)\n",
    "    return df, one_hot, labels\n",
    "\n",
    "def analyze_midterm_dataset(data_path, labels_path, depth=1, soa_accuracy=None, soa_precision=None, soa_recall=None):\n",
    "    profs = midterm_extract_users(data_path)\n",
    "    dummy_cols = ['lang', 'protected', 'verified', 'geo_enabled', 'profile_use_background_image', 'default_profile', 'index']\n",
    "    df, one_hot, labels = midterm_preprocess_users(profs, labels_path, dummy_cols)\n",
    "    # Fit and score on decision tree\n",
    "    print(\"-------------- DECISION TREE --------------\")\n",
    "    dt_clf, *_ = fit_and_score(one_hot, labels, depth=depth)\n",
    "    plot_metrics(one_hot, labels, soa_accuracy=soa_accuracy, soa_precision=soa_precision, soa_recall=soa_recall)\n",
    "    # Fit and score on decision tree\n",
    "#     print(\"-------------- DECISION TREE TRAIN/TEST SPLIT --------------\")\n",
    "#     train_test_fit_and_score(one_hot, labels, depth=depth)\n",
    "#     # Fit and score on random forest\n",
    "#     print(\"-------------- RANDOM FOREST --------------\")\n",
    "#     rf = ensemble.RandomForestClassifier(n_estimators=100)\n",
    "#     rf_clf, *_ = fit_and_score(one_hot, labels, method=rf)\n",
    "#     fig, axes = plt.subplots(1,2, figsize=(15,7))\n",
    "#     mdi_feature_importance(rf_clf, list(one_hot.columns), axes[0])\n",
    "#     permutation_feature_importance(axes[1], df, labels, dummy_cols)\n",
    "#     fig.tight_layout()\n",
    "    return [kfold_cv(one_hot, labels, depth=i) for i in range(1,6)]\n",
    "\n",
    "midterm2018_scores = analyze_midterm_dataset(PROJ_PATH + \"/data/midterm-2018/midterm-2018_processed_user_objects.json\", PROJ_PATH + \"/data/midterm-2018/midterm-2018.tsv\", depth=1)"
   ]
  },
  {
   "cell_type": "markdown",
   "metadata": {
    "heading_collapsed": true
   },
   "source": [
    "## gilani-2017"
   ]
  },
  {
   "cell_type": "code",
   "execution_count": 19,
   "metadata": {
    "ExecuteTime": {
     "end_time": "2022-04-29T12:27:40.688385Z",
     "start_time": "2022-04-29T12:27:36.907788Z"
    },
    "hidden": true
   },
   "outputs": [
    {
     "name": "stdout",
     "output_type": "stream",
     "text": [
      "-------------- DECISION TREE --------------\n",
      "|--- statuses_count <= 90439.00\n",
      "|   |--- favourites_count <= 1471.50\n",
      "|   |   |--- statuses_count <= 34842.50\n",
      "|   |   |   |--- weights: [321.00, 180.00] class: 0.0\n",
      "|   |   |--- statuses_count >  34842.50\n",
      "|   |   |   |--- weights: [90.00, 171.00] class: 1.0\n",
      "|   |--- favourites_count >  1471.50\n",
      "|   |   |--- statuses_count <= 50663.00\n",
      "|   |   |   |--- weights: [710.00, 145.00] class: 0.0\n",
      "|   |   |--- statuses_count >  50663.00\n",
      "|   |   |   |--- weights: [167.00, 96.00] class: 0.0\n",
      "|--- statuses_count >  90439.00\n",
      "|   |--- favourites_count <= 3001.00\n",
      "|   |   |--- has_extended_profile_True <= 0.50\n",
      "|   |   |   |--- weights: [10.00, 264.00] class: 1.0\n",
      "|   |   |--- has_extended_profile_True >  0.50\n",
      "|   |   |   |--- weights: [16.00, 55.00] class: 1.0\n",
      "|   |--- favourites_count >  3001.00\n",
      "|   |   |--- statuses_count <= 142930.50\n",
      "|   |   |   |--- weights: [67.00, 56.00] class: 0.0\n",
      "|   |   |--- statuses_count >  142930.50\n",
      "|   |   |   |--- weights: [32.00, 123.00] class: 1.0\n",
      "\n",
      "Accuracy: 0.7502996404314822\n",
      "Precision 0.8055190538764783\n",
      "Recall: 0.5623853211009174\n",
      "F1: 0.6623446785521341\n",
      "Starting kfold_cv at 1653926303.876638\n",
      "Fold 0 in progress\n",
      "Fold 1 in progress\n",
      "Fold 2 in progress\n",
      "Fold 3 in progress\n",
      "Fold 4 in progress\n",
      "Finished kfold_cv at 1653926304.2521183. Execution time: 0.37548041343688965 s\n",
      "Starting kfold_cv at 1653926304.2524667\n",
      "Fold 0 in progress\n",
      "Fold 1 in progress\n",
      "Fold 2 in progress\n",
      "Fold 3 in progress\n",
      "Fold 4 in progress\n",
      "Finished kfold_cv at 1653926304.6776245. Execution time: 0.4251577854156494 s\n",
      "Starting kfold_cv at 1653926304.6779625\n",
      "Fold 0 in progress\n",
      "Fold 1 in progress\n",
      "Fold 2 in progress\n",
      "Fold 3 in progress\n",
      "Fold 4 in progress\n",
      "Finished kfold_cv at 1653926305.1244981. Execution time: 0.446535587310791 s\n",
      "Starting kfold_cv at 1653926305.1249423\n",
      "Fold 0 in progress\n",
      "Fold 1 in progress\n",
      "Fold 2 in progress\n",
      "Fold 3 in progress\n",
      "Fold 4 in progress\n",
      "Finished kfold_cv at 1653926305.595031. Execution time: 0.4700887203216553 s\n",
      "Starting kfold_cv at 1653926305.5953817\n",
      "Fold 0 in progress\n",
      "Fold 1 in progress\n",
      "Fold 2 in progress\n",
      "Fold 3 in progress\n",
      "Fold 4 in progress\n",
      "Finished kfold_cv at 1653926306.0863166. Execution time: 0.4909348487854004 s\n"
     ]
    },
    {
     "data": {
      "image/png": "[encoded data removed]",
      "text/plain": [
       "<Figure size 504x288 with 1 Axes>"
      ]
     },
     "metadata": {
      "needs_background": "light"
     },
     "output_type": "display_data"
    }
   ],
   "source": [
    "gilani_scores = analyze_bot_repo_dataset(PROJ_PATH + \"/data/gilani-2017_tweets.json\", PROJ_PATH + \"/data/gilani-2017.tsv\", depth=3, soa_accuracy=0.8755)"
   ]
  },
  {
   "cell_type": "markdown",
   "metadata": {},
   "source": [
    "## cresci-2017: \"The paradigm-shift of social spambots: Evidence, theories, and tools for the arms race.\"\n",
    "\n",
    "Cresci, S., Di Pietro, R., Petrocchi, M., Spognardi, A., & Tesconi, M. (2017, April). The paradigm-shift of social spambots: Evidence, theories, and tools for the arms race. In Proceedings of the 26th International Conference on World Wide Web Companion (pp. 963-972). ACM.\n",
    "\n",
    "https://arxiv.org/abs/1701.03017\n",
    "\n",
    "Approx. citations: 328\n",
    "\n",
    "Simple decision rule precision/recall: 0.98/0.98\n",
    "\n",
    "State-of-art precision/recall: 0.98/0.98"
   ]
  },
  {
   "cell_type": "code",
   "execution_count": 20,
   "metadata": {
    "ExecuteTime": {
     "end_time": "2022-04-29T12:18:03.728805Z",
     "start_time": "2022-04-29T12:18:02.824387Z"
    }
   },
   "outputs": [
    {
     "name": "stdout",
     "output_type": "stream",
     "text": [
      "|--- favourites_count <= 16.50\n",
      "|   |--- weights: [186.00, 10744.00] class: 1\n",
      "|--- favourites_count >  16.50\n",
      "|   |--- weights: [3288.00, 150.00] class: 0\n",
      "\n",
      "Accuracy: 0.9766146993318485\n",
      "Precision 0.9829826166514181\n",
      "Recall: 0.9862309528180649\n",
      "F1: 0.9846041055718475\n"
     ]
    },
    {
     "data": {
      "text/plain": [
       "(DecisionTreeClassifier(max_depth=1),\n",
       " 0.9766146993318485,\n",
       " 0.9829826166514181,\n",
       " 0.9862309528180649,\n",
       " 0.9846041055718475)"
      ]
     },
     "execution_count": 20,
     "metadata": {},
     "output_type": "execute_result"
    }
   ],
   "source": [
    "# Load in data\n",
    "folder_names = ['fake_followers', \n",
    " 'genuine_accounts', \n",
    " 'social_spambots_1', \n",
    " 'social_spambots_2', \n",
    " 'social_spambots_3', \n",
    " 'traditional_spambots_1', \n",
    " 'traditional_spambots_2', \n",
    " 'traditional_spambots_3',\n",
    " 'traditional_spambots_4']\n",
    "is_bot = [1, 0, 1, 1, 1, 1, 1, 1, 1]\n",
    "dfs = []\n",
    "cresci2017_labels = []\n",
    "\n",
    "for name, ib in zip(folder_names, is_bot):\n",
    "    df = pd.read_csv(PROJ_PATH + f\"/data/cresci-2017/{name}.csv/users.csv\")\n",
    "    dfs.append(df)\n",
    "    cresci2017_labels.extend([ib]*len(df))\n",
    "\n",
    "    \n",
    "def format_time(dt):\n",
    "    try:\n",
    "        datetime.strptime(dt, \"%a %b %d %H:%M:%S %z %Y\").timestamp()\n",
    "    except:\n",
    "        print(dt)\n",
    "    \n",
    "cresci2017 = pd.concat(dfs)\n",
    "\n",
    "\n",
    "\n",
    "# Preprocess\n",
    "cresci2017_one_hot = preprocess(cresci2017, \n",
    "                        COLUMNS_TO_DROP + ['profile_banner_url', \n",
    "                                                        'test_set_1', \n",
    "                                                        'test_set_2', \n",
    "                                                        'crawled_at',\n",
    "                                                        'updated', \n",
    "                                                        'timestamp',\n",
    "                                                        'following', \n",
    "                                                        'follow_request_sent',\n",
    "                                                        'created_at'\n",
    "                                                  ], \n",
    "                        DUMMY_COLUMNS + ['is_translator', 'contributors_enabled', 'notifications'])\n",
    "\n",
    "# Fit and score decision tree\n",
    "fit_and_score(cresci2017_one_hot, cresci2017_labels, depth=1)"
   ]
  },
  {
   "cell_type": "code",
   "execution_count": 21,
   "metadata": {},
   "outputs": [
    {
     "name": "stdout",
     "output_type": "stream",
     "text": [
      "Starting kfold_cv at 1653926309.7915256\n",
      "Fold 0 in progress\n",
      "Fold 1 in progress\n",
      "Fold 2 in progress\n",
      "Fold 3 in progress\n",
      "Fold 4 in progress\n",
      "Finished kfold_cv at 1653926313.92203. Execution time: 4.130504369735718 s\n",
      "Starting kfold_cv at 1653926313.9221396\n",
      "Fold 0 in progress\n",
      "Fold 1 in progress\n",
      "Fold 2 in progress\n",
      "Fold 3 in progress\n",
      "Fold 4 in progress\n",
      "Finished kfold_cv at 1653926318.983376. Execution time: 5.061236381530762 s\n",
      "Starting kfold_cv at 1653926318.98357\n",
      "Fold 0 in progress\n",
      "Fold 1 in progress\n",
      "Fold 2 in progress\n",
      "Fold 3 in progress\n",
      "Fold 4 in progress\n",
      "Finished kfold_cv at 1653926324.5497231. Execution time: 5.566153049468994 s\n",
      "Starting kfold_cv at 1653926324.5498343\n",
      "Fold 0 in progress\n",
      "Fold 1 in progress\n",
      "Fold 2 in progress\n",
      "Fold 3 in progress\n",
      "Fold 4 in progress\n",
      "Finished kfold_cv at 1653926330.6179478. Execution time: 6.068113565444946 s\n",
      "Starting kfold_cv at 1653926330.6184328\n",
      "Fold 0 in progress\n",
      "Fold 1 in progress\n",
      "Fold 2 in progress\n",
      "Fold 3 in progress\n",
      "Fold 4 in progress\n",
      "Finished kfold_cv at 1653926337.0702841. Execution time: 6.4518513679504395 s\n"
     ]
    }
   ],
   "source": [
    "cresci2017_scores = [kfold_cv(cresci2017_one_hot, cresci2017_labels, depth=i) for i in range(1,6)]"
   ]
  },
  {
   "cell_type": "code",
   "execution_count": 16,
   "metadata": {
    "ExecuteTime": {
     "end_time": "2022-04-29T12:18:08.179137Z",
     "start_time": "2022-04-29T12:18:03.729771Z"
    }
   },
   "outputs": [
    {
     "data": {
      "image/png": "[encoded data removed]",
      "text/plain": [
       "<Figure size 504x288 with 1 Axes>"
      ]
     },
     "metadata": {
      "needs_background": "light"
     },
     "output_type": "display_data"
    }
   ],
   "source": [
    "plot_metrics(cresci2017_one_hot, cresci2017_labels, soa_precision=0.98, soa_recall=0.98)"
   ]
  },
  {
   "cell_type": "code",
   "execution_count": 17,
   "metadata": {
    "ExecuteTime": {
     "end_time": "2022-04-29T12:18:08.908937Z",
     "start_time": "2022-04-29T12:18:08.180230Z"
    }
   },
   "outputs": [
    {
     "name": "stdout",
     "output_type": "stream",
     "text": [
      "|--- favourites_count <= 16.50\n",
      "|   |--- weights: [127.00, 7510.00] class: 1\n",
      "|--- favourites_count >  16.50\n",
      "|   |--- weights: [2315.00, 105.00] class: 0\n",
      "\n",
      "Accuracy: 0.9758756668986314\n",
      "Precision 0.9820832068023079\n",
      "Recall: 0.9862763037511436\n",
      "F1: 0.9841752891052952\n"
     ]
    }
   ],
   "source": [
    "train_test_fit_and_score(cresci2017_one_hot, cresci2017_labels, depth=1)"
   ]
  },
  {
   "cell_type": "code",
   "execution_count": 18,
   "metadata": {
    "ExecuteTime": {
     "end_time": "2022-04-29T12:18:19.427414Z",
     "start_time": "2022-04-29T12:18:08.910350Z"
    }
   },
   "outputs": [
    {
     "name": "stdout",
     "output_type": "stream",
     "text": [
      "Accuracy: 1.0\n",
      "Precision 1.0\n",
      "Recall: 1.0\n",
      "F1: 1.0\n"
     ]
    }
   ],
   "source": [
    "# Fit and score on random forest\n",
    "rf = ensemble.RandomForestClassifier(n_estimators=100)\n",
    "rf_clf, *_ = fit_and_score(cresci2017_one_hot, cresci2017_labels, method=rf)"
   ]
  },
  {
   "cell_type": "code",
   "execution_count": 19,
   "metadata": {
    "ExecuteTime": {
     "end_time": "2022-04-29T12:18:23.426266Z",
     "start_time": "2022-04-29T12:18:19.428135Z"
    }
   },
   "outputs": [
    {
     "data": {
      "image/png": "[encoded data removed]",
      "text/plain": [
       "<Figure size 1080x504 with 2 Axes>"
      ]
     },
     "metadata": {
      "needs_background": "light"
     },
     "output_type": "display_data"
    }
   ],
   "source": [
    "fig, axes = plt.subplots(1,2, figsize=(15,7))\n",
    "mdi = mdi_feature_importance(rf_clf, list(cresci2017_one_hot.columns), axes[0])\n",
    "permutation_feature_importance(axes[1], cresci2017, cresci2017_labels, DUMMY_COLUMNS + ['is_translator', 'contributors_enabled', 'notifications',])\n",
    "fig.tight_layout()"
   ]
  },
  {
   "cell_type": "markdown",
   "metadata": {
    "heading_collapsed": true
   },
   "source": [
    "## varol-2017\n",
    "\n",
    "Bot repository only has account ids and labels. Reached out to http://sbp-brims.org/2021/papers/working-papers/2021_SBP-BRiMS_FinalPDF_57.pdf to get full data."
   ]
  },
  {
   "cell_type": "markdown",
   "metadata": {
    "heading_collapsed": true
   },
   "source": [
    "## cresci-2015"
   ]
  },
  {
   "cell_type": "code",
   "execution_count": 22,
   "metadata": {
    "ExecuteTime": {
     "end_time": "2022-04-29T12:08:34.977767Z",
     "start_time": "2022-04-29T12:08:34.687499Z"
    },
    "hidden": true
   },
   "outputs": [
    {
     "name": "stdout",
     "output_type": "stream",
     "text": [
      "|--- statuses_count <= 78.50\n",
      "|   |--- weights: [210.00, 3140.00] class: 1\n",
      "|--- statuses_count >  78.50\n",
      "|   |--- weights: [1740.00, 211.00] class: 0\n",
      "\n",
      "Accuracy: 0.9205810224485946\n",
      "Precision 0.9373134328358209\n",
      "Recall: 0.9370337212772307\n",
      "F1: 0.937173556185644\n"
     ]
    },
    {
     "data": {
      "text/plain": [
       "(DecisionTreeClassifier(max_depth=1),\n",
       " 0.9205810224485946,\n",
       " 0.9373134328358209,\n",
       " 0.9370337212772307,\n",
       " 0.937173556185644)"
      ]
     },
     "execution_count": 22,
     "metadata": {},
     "output_type": "execute_result"
    }
   ],
   "source": [
    "folder_names = [\"elzioni2013\", \"TheFakeProject\", \"intertwitter\", \"twittertechnology\", \"fastfollowerz\"]\n",
    "is_bot = [0, 0, 1, 1, 1]\n",
    "\n",
    "dfs = []\n",
    "cresci2015_labels = []\n",
    "\n",
    "for name, ib in zip(folder_names, is_bot):\n",
    "    df = pd.read_csv(PROJ_PATH + f\"/data/cresci-2015/{name}/users.csv\")\n",
    "    #print(name, df[\"created_at\"])\n",
    "    dfs.append(df)\n",
    "    cresci2015_labels.extend([ib]*len(df))\n",
    "\n",
    "cresci2015 = pd.concat(dfs)\n",
    "cresci2015[\"created_at\"] = cresci2015[\"created_at\"].apply(lambda dt: datetime.strptime(dt, \"%a %b %d %H:%M:%S %z %Y\").timestamp())\n",
    "\n",
    "# Preprocess\n",
    "cresci2015_one_hot = preprocess(cresci2015, \n",
    "                        ['id', 'lang', 'name', 'screen_name',\n",
    "                           'url', 'profile_image_url',\n",
    "                           'profile_banner_url',\n",
    "                           'profile_background_image_url_https', 'profile_text_color',\n",
    "                           'profile_image_url_https', 'profile_sidebar_border_color',\n",
    "                           'profile_sidebar_fill_color',\n",
    "                           'profile_background_image_url', 'profile_background_color',\n",
    "                           'profile_link_color',\n",
    "                           'description', 'dataset', 'updated'], \n",
    "                        [col for col in DUMMY_COLUMNS if col not in ['lang']])\n",
    "\n",
    "\n",
    "# Fit and score decision tree\n",
    "fit_and_score(cresci2015_one_hot, cresci2015_labels, depth=1)"
   ]
  },
  {
   "cell_type": "code",
   "execution_count": 23,
   "metadata": {},
   "outputs": [
    {
     "name": "stdout",
     "output_type": "stream",
     "text": [
      "Starting kfold_cv at 1653926338.1898541\n",
      "Fold 0 in progress\n"
     ]
    },
    {
     "name": "stderr",
     "output_type": "stream",
     "text": [
      "/home/software/anaconda3/2020.11/lib/python3.8/site-packages/sklearn/metrics/_classification.py:1221: UndefinedMetricWarning: Recall is ill-defined and being set to 0.0 due to no true samples. Use `zero_division` parameter to control this behavior.\n",
      "  _warn_prf(average, modifier, msg_start, len(result))\n"
     ]
    },
    {
     "name": "stdout",
     "output_type": "stream",
     "text": [
      "Fold 1 in progress\n",
      "Fold 2 in progress\n",
      "Fold 3 in progress\n",
      "Fold 4 in progress\n",
      "Finished kfold_cv at 1653926339.3026977. Execution time: 1.1128435134887695 s\n",
      "Starting kfold_cv at 1653926339.3031576\n",
      "Fold 0 in progress\n"
     ]
    },
    {
     "name": "stderr",
     "output_type": "stream",
     "text": [
      "/home/software/anaconda3/2020.11/lib/python3.8/site-packages/sklearn/metrics/_classification.py:1221: UndefinedMetricWarning: Recall is ill-defined and being set to 0.0 due to no true samples. Use `zero_division` parameter to control this behavior.\n",
      "  _warn_prf(average, modifier, msg_start, len(result))\n"
     ]
    },
    {
     "name": "stdout",
     "output_type": "stream",
     "text": [
      "Fold 1 in progress\n",
      "Fold 2 in progress\n",
      "Fold 3 in progress\n",
      "Fold 4 in progress\n",
      "Finished kfold_cv at 1653926340.581442. Execution time: 1.2782845497131348 s\n",
      "Starting kfold_cv at 1653926340.5819075\n",
      "Fold 0 in progress\n"
     ]
    },
    {
     "name": "stderr",
     "output_type": "stream",
     "text": [
      "/home/software/anaconda3/2020.11/lib/python3.8/site-packages/sklearn/metrics/_classification.py:1221: UndefinedMetricWarning: Recall is ill-defined and being set to 0.0 due to no true samples. Use `zero_division` parameter to control this behavior.\n",
      "  _warn_prf(average, modifier, msg_start, len(result))\n"
     ]
    },
    {
     "name": "stdout",
     "output_type": "stream",
     "text": [
      "Fold 1 in progress\n",
      "Fold 2 in progress\n",
      "Fold 3 in progress\n",
      "Fold 4 in progress\n",
      "Finished kfold_cv at 1653926341.9844608. Execution time: 1.4025533199310303 s\n",
      "Starting kfold_cv at 1653926341.984926\n",
      "Fold 0 in progress\n"
     ]
    },
    {
     "name": "stderr",
     "output_type": "stream",
     "text": [
      "/home/software/anaconda3/2020.11/lib/python3.8/site-packages/sklearn/metrics/_classification.py:1221: UndefinedMetricWarning: Recall is ill-defined and being set to 0.0 due to no true samples. Use `zero_division` parameter to control this behavior.\n",
      "  _warn_prf(average, modifier, msg_start, len(result))\n"
     ]
    },
    {
     "name": "stdout",
     "output_type": "stream",
     "text": [
      "Fold 1 in progress\n",
      "Fold 2 in progress\n",
      "Fold 3 in progress\n",
      "Fold 4 in progress\n",
      "Finished kfold_cv at 1653926343.4898534. Execution time: 1.504927396774292 s\n",
      "Starting kfold_cv at 1653926343.4903595\n",
      "Fold 0 in progress\n"
     ]
    },
    {
     "name": "stderr",
     "output_type": "stream",
     "text": [
      "/home/software/anaconda3/2020.11/lib/python3.8/site-packages/sklearn/metrics/_classification.py:1221: UndefinedMetricWarning: Recall is ill-defined and being set to 0.0 due to no true samples. Use `zero_division` parameter to control this behavior.\n",
      "  _warn_prf(average, modifier, msg_start, len(result))\n"
     ]
    },
    {
     "name": "stdout",
     "output_type": "stream",
     "text": [
      "Fold 1 in progress\n",
      "Fold 2 in progress\n",
      "Fold 3 in progress\n",
      "Fold 4 in progress\n",
      "Finished kfold_cv at 1653926345.248086. Execution time: 1.7577264308929443 s\n"
     ]
    }
   ],
   "source": [
    "cresci2015_scores = [kfold_cv(cresci2015_one_hot, cresci2015_labels, depth=i) for i in range(1,6)]"
   ]
  },
  {
   "cell_type": "code",
   "execution_count": 41,
   "metadata": {},
   "outputs": [
    {
     "data": {
      "text/plain": [
       "[[0.915928369462771, 0.6909090909090909, 0.7500427415996318, 0.70254025456376],\n",
       " [0.8524470854061207,\n",
       "  0.6976190476190476,\n",
       "  0.6866885864034247,\n",
       "  0.6704436909761873],\n",
       " [0.7702604690064978,\n",
       "  0.7097643097643098,\n",
       "  0.5965531284107456,\n",
       "  0.5921249665753676],\n",
       " [0.7734649930404279, 0.7634615384615385, 0.5901780544349, 0.6114412572520597],\n",
       " [0.7978808303692363,\n",
       "  0.7460176991150442,\n",
       "  0.6106649524129424,\n",
       "  0.6133245533660471]]"
      ]
     },
     "execution_count": 41,
     "metadata": {},
     "output_type": "execute_result"
    }
   ],
   "source": [
    "cresci2015_scores"
   ]
  },
  {
   "cell_type": "code",
   "execution_count": 21,
   "metadata": {
    "ExecuteTime": {
     "end_time": "2022-04-29T12:08:41.948336Z",
     "start_time": "2022-04-29T12:08:41.748392Z"
    },
    "hidden": true
   },
   "outputs": [
    {
     "name": "stdout",
     "output_type": "stream",
     "text": [
      "|--- statuses_count <= 78.50\n",
      "|   |--- friends_count <= 159.50\n",
      "|   |   |--- weights: [117.00, 99.00] class: 0\n",
      "|   |--- friends_count >  159.50\n",
      "|   |   |--- weights: [23.00, 2105.00] class: 1\n",
      "|--- statuses_count >  78.50\n",
      "|   |--- friends_count <= 474.50\n",
      "|   |   |--- weights: [925.00, 19.00] class: 0\n",
      "|   |--- friends_count >  474.50\n",
      "|   |   |--- weights: [288.00, 134.00] class: 0\n",
      "\n",
      "Accuracy: 0.9226901319924575\n",
      "Precision 0.9943246311010215\n",
      "Recall: 0.8812877263581489\n",
      "F1: 0.9343999999999999\n"
     ]
    }
   ],
   "source": [
    "train_test_fit_and_score(cresci2015_one_hot, cresci2015_labels, depth=2)"
   ]
  },
  {
   "cell_type": "code",
   "execution_count": 22,
   "metadata": {
    "ExecuteTime": {
     "end_time": "2022-04-29T12:06:14.724309Z",
     "start_time": "2022-04-29T12:06:13.499381Z"
    },
    "hidden": true
   },
   "outputs": [
    {
     "data": {
      "image/png": "[encoded data removed]",
      "text/plain": [
       "<Figure size 504x288 with 1 Axes>"
      ]
     },
     "metadata": {
      "needs_background": "light"
     },
     "output_type": "display_data"
    }
   ],
   "source": [
    "plot_metrics(cresci2015_one_hot, cresci2015_labels)"
   ]
  },
  {
   "cell_type": "markdown",
   "metadata": {
    "heading_collapsed": true
   },
   "source": [
    "## caverlee-2011: \"A Long-Term Study of Content Polluters on Twitter.\"\n",
    "\n",
    "Lee, Kyumin, Brian David Eoff, and James Caverlee. \"A Long-Term Study of Content Polluters on Twitter.\" ICWSM. 2011.\n",
    "\n",
    "https://ojs.aaai.org/index.php/ICWSM/article/view/14106\n",
    "\n",
    "Approx. citations: 500\n",
    "\n",
    "Simple decision rule precision/recall: 0.91/0.92\n",
    "\n",
    "State-of-art precision/recall: 0.89/0.87"
   ]
  },
  {
   "cell_type": "code",
   "execution_count": 27,
   "metadata": {
    "ExecuteTime": {
     "end_time": "2022-05-25T14:24:38.163633Z",
     "start_time": "2022-05-25T14:24:37.916416Z"
    },
    "hidden": true
   },
   "outputs": [],
   "source": [
    "caverlee2011_bots = pd.read_csv(PROJ_PATH + \"/data/social_honeypot_icwsm_2011/content_polluters.txt\", sep=\"\\t\", header=None, names=[\"UserID\", \"CreatedAt\", \"CollectedAt\", \"NumerOfFollowings\", \"NumberOfFollowers\", \"NumberOfTweets\", \"LengthOfScreenName\", \"LengthOfDescriptionInUserProfile\"])\n",
    "caverlee2011_humans = pd.read_csv(PROJ_PATH + \"/data/social_honeypot_icwsm_2011/legitimate_users.txt\", sep=\"\\t\", header=None, names=[\"UserID\", \"CreatedAt\", \"CollectedAt\", \"NumerOfFollowings\", \"NumberOfFollowers\", \"NumberOfTweets\", \"LengthOfScreenName\", \"LengthOfDescriptionInUserProfile\"])\n",
    "caverlee2011 = pd.concat([caverlee2011_bots, caverlee2011_humans])\n",
    "caverlee2011[\"CreatedAt\"] = caverlee2011[\"CreatedAt\"].apply(lambda dt: datetime.strptime(dt, \"%Y-%m-%d %H:%M:%S\").timestamp())\n",
    "caverlee2011.drop(columns=[\"CollectedAt\", \"UserID\"], inplace=True)\n",
    "caverlee2011_labels = [1]*len(caverlee2011_bots) + [0]*len(caverlee2011_humans)\n"
   ]
  },
  {
   "cell_type": "code",
   "execution_count": 24,
   "metadata": {
    "ExecuteTime": {
     "end_time": "2022-04-29T00:48:56.272603Z",
     "start_time": "2022-04-29T00:48:56.265239Z"
    },
    "hidden": true
   },
   "outputs": [
    {
     "name": "stdout",
     "output_type": "stream",
     "text": [
      "Columns with NA values: Series([], dtype: bool)\n",
      "Columns with dtype=object []\n",
      "Columns with dtype=bool []\n"
     ]
    }
   ],
   "source": [
    "nonnumeric(caverlee2011)"
   ]
  },
  {
   "cell_type": "code",
   "execution_count": 25,
   "metadata": {
    "ExecuteTime": {
     "end_time": "2022-04-29T00:48:56.779655Z",
     "start_time": "2022-04-29T00:48:56.699905Z"
    },
    "hidden": true
   },
   "outputs": [
    {
     "name": "stdout",
     "output_type": "stream",
     "text": [
      "|--- CreatedAt <= 1259512448.00\n",
      "|   |--- NumerOfFollowings <= 502.50\n",
      "|   |   |--- weights: [17261.00, 1879.00] class: 0\n",
      "|   |--- NumerOfFollowings >  502.50\n",
      "|   |   |--- weights: [2015.00, 7856.00] class: 1\n",
      "|--- CreatedAt >  1259512448.00\n",
      "|   |--- weights: [0.00, 12488.00] class: 1\n",
      "\n",
      "Accuracy: 0.9061664136485217\n",
      "Precision 0.9098796905049421\n",
      "Recall: 0.9154479593214238\n",
      "F1: 0.9126553317482392\n"
     ]
    },
    {
     "data": {
      "text/plain": [
       "(DecisionTreeClassifier(max_depth=2),\n",
       " 0.9061664136485217,\n",
       " 0.9098796905049421,\n",
       " 0.9154479593214238,\n",
       " 0.9126553317482392)"
      ]
     },
     "execution_count": 25,
     "metadata": {},
     "output_type": "execute_result"
    }
   ],
   "source": [
    "fit_and_score(caverlee2011, caverlee2011_labels, depth=2)"
   ]
  },
  {
   "cell_type": "code",
   "execution_count": 28,
   "metadata": {},
   "outputs": [
    {
     "name": "stdout",
     "output_type": "stream",
     "text": [
      "Starting kfold_cv at 1653926539.3931081\n",
      "Fold 0 in progress\n",
      "Fold 1 in progress\n"
     ]
    },
    {
     "name": "stderr",
     "output_type": "stream",
     "text": [
      "/home/software/anaconda3/2020.11/lib/python3.8/site-packages/sklearn/metrics/_classification.py:1221: UndefinedMetricWarning: Precision is ill-defined and being set to 0.0 due to no predicted samples. Use `zero_division` parameter to control this behavior.\n",
      "  _warn_prf(average, modifier, msg_start, len(result))\n"
     ]
    },
    {
     "name": "stdout",
     "output_type": "stream",
     "text": [
      "Fold 2 in progress\n",
      "Fold 3 in progress\n",
      "Fold 4 in progress\n"
     ]
    },
    {
     "name": "stderr",
     "output_type": "stream",
     "text": [
      "/home/software/anaconda3/2020.11/lib/python3.8/site-packages/sklearn/metrics/_classification.py:1221: UndefinedMetricWarning: Recall is ill-defined and being set to 0.0 due to no true samples. Use `zero_division` parameter to control this behavior.\n",
      "  _warn_prf(average, modifier, msg_start, len(result))\n",
      "/home/software/anaconda3/2020.11/lib/python3.8/site-packages/sklearn/metrics/_classification.py:1221: UndefinedMetricWarning: Recall is ill-defined and being set to 0.0 due to no true samples. Use `zero_division` parameter to control this behavior.\n",
      "  _warn_prf(average, modifier, msg_start, len(result))\n",
      "/home/software/anaconda3/2020.11/lib/python3.8/site-packages/sklearn/metrics/_classification.py:1221: UndefinedMetricWarning: Precision is ill-defined and being set to 0.0 due to no predicted samples. Use `zero_division` parameter to control this behavior.\n",
      "  _warn_prf(average, modifier, msg_start, len(result))\n"
     ]
    },
    {
     "name": "stdout",
     "output_type": "stream",
     "text": [
      "Finished kfold_cv at 1653926539.8676667. Execution time: 0.47455859184265137 s\n",
      "Starting kfold_cv at 1653926539.8677444\n",
      "Fold 0 in progress\n",
      "Fold 1 in progress\n",
      "Fold 2 in progress\n",
      "Fold 3 in progress\n",
      "Fold 4 in progress\n",
      "Finished kfold_cv at 1653926540.3023846. Execution time: 0.43464016914367676 s\n",
      "Starting kfold_cv at 1653926540.3024414\n",
      "Fold 0 in progress\n"
     ]
    },
    {
     "name": "stderr",
     "output_type": "stream",
     "text": [
      "/home/software/anaconda3/2020.11/lib/python3.8/site-packages/sklearn/metrics/_classification.py:1221: UndefinedMetricWarning: Recall is ill-defined and being set to 0.0 due to no true samples. Use `zero_division` parameter to control this behavior.\n",
      "  _warn_prf(average, modifier, msg_start, len(result))\n",
      "/home/software/anaconda3/2020.11/lib/python3.8/site-packages/sklearn/metrics/_classification.py:1221: UndefinedMetricWarning: Recall is ill-defined and being set to 0.0 due to no true samples. Use `zero_division` parameter to control this behavior.\n",
      "  _warn_prf(average, modifier, msg_start, len(result))\n"
     ]
    },
    {
     "name": "stdout",
     "output_type": "stream",
     "text": [
      "Fold 1 in progress\n",
      "Fold 2 in progress\n",
      "Fold 3 in progress\n"
     ]
    },
    {
     "name": "stderr",
     "output_type": "stream",
     "text": [
      "/home/software/anaconda3/2020.11/lib/python3.8/site-packages/sklearn/metrics/_classification.py:1221: UndefinedMetricWarning: Recall is ill-defined and being set to 0.0 due to no true samples. Use `zero_division` parameter to control this behavior.\n",
      "  _warn_prf(average, modifier, msg_start, len(result))\n",
      "/home/software/anaconda3/2020.11/lib/python3.8/site-packages/sklearn/metrics/_classification.py:1221: UndefinedMetricWarning: Recall is ill-defined and being set to 0.0 due to no true samples. Use `zero_division` parameter to control this behavior.\n",
      "  _warn_prf(average, modifier, msg_start, len(result))\n"
     ]
    },
    {
     "name": "stdout",
     "output_type": "stream",
     "text": [
      "Fold 4 in progress\n",
      "Finished kfold_cv at 1653926540.8376312. Execution time: 0.5351898670196533 s\n",
      "Starting kfold_cv at 1653926540.8378518\n",
      "Fold 0 in progress\n",
      "Fold 1 in progress\n",
      "Fold 2 in progress\n",
      "Fold 3 in progress\n",
      "Fold 4 in progress\n"
     ]
    },
    {
     "name": "stderr",
     "output_type": "stream",
     "text": [
      "/home/software/anaconda3/2020.11/lib/python3.8/site-packages/sklearn/metrics/_classification.py:1221: UndefinedMetricWarning: Recall is ill-defined and being set to 0.0 due to no true samples. Use `zero_division` parameter to control this behavior.\n",
      "  _warn_prf(average, modifier, msg_start, len(result))\n",
      "/home/software/anaconda3/2020.11/lib/python3.8/site-packages/sklearn/metrics/_classification.py:1221: UndefinedMetricWarning: Recall is ill-defined and being set to 0.0 due to no true samples. Use `zero_division` parameter to control this behavior.\n",
      "  _warn_prf(average, modifier, msg_start, len(result))\n"
     ]
    },
    {
     "name": "stdout",
     "output_type": "stream",
     "text": [
      "Finished kfold_cv at 1653926541.510075. Execution time: 0.6722233295440674 s\n",
      "Starting kfold_cv at 1653926541.5104582\n",
      "Fold 0 in progress\n",
      "Fold 1 in progress\n",
      "Fold 2 in progress\n",
      "Fold 3 in progress\n",
      "Fold 4 in progress\n",
      "Finished kfold_cv at 1653926542.1921275. Execution time: 0.6816692352294922 s\n"
     ]
    },
    {
     "name": "stderr",
     "output_type": "stream",
     "text": [
      "/home/software/anaconda3/2020.11/lib/python3.8/site-packages/sklearn/metrics/_classification.py:1221: UndefinedMetricWarning: Recall is ill-defined and being set to 0.0 due to no true samples. Use `zero_division` parameter to control this behavior.\n",
      "  _warn_prf(average, modifier, msg_start, len(result))\n",
      "/home/software/anaconda3/2020.11/lib/python3.8/site-packages/sklearn/metrics/_classification.py:1221: UndefinedMetricWarning: Recall is ill-defined and being set to 0.0 due to no true samples. Use `zero_division` parameter to control this behavior.\n",
      "  _warn_prf(average, modifier, msg_start, len(result))\n"
     ]
    }
   ],
   "source": [
    "caverlee2011_scores = [kfold_cv(caverlee2011, caverlee2011_labels, depth=i) for i in range(1,6)]"
   ]
  },
  {
   "cell_type": "code",
   "execution_count": 21,
   "metadata": {},
   "outputs": [
    {
     "data": {
      "text/plain": [
       "[[0.4121204819277109,\n",
       "  0.3574775563827458,\n",
       "  0.277975543647112,\n",
       "  0.3126337689624016],\n",
       " [0.48520481927710846,\n",
       "  0.3705489839247801,\n",
       "  0.3743132530120482,\n",
       "  0.3703793843696347],\n",
       " [0.48908433734939766,\n",
       "  0.5875515818431912,\n",
       "  0.3615793353031546,\n",
       "  0.3731163285639149],\n",
       " [0.5068433734939759,\n",
       "  0.5871214642262895,\n",
       "  0.38267469879518073,\n",
       "  0.38432669111662776],\n",
       " [0.4234698795180723,\n",
       "  0.5604737442922374,\n",
       "  0.328289156626506,\n",
       "  0.3344125171111247]]"
      ]
     },
     "execution_count": 21,
     "metadata": {},
     "output_type": "execute_result"
    }
   ],
   "source": [
    "caverlee2011_scores"
   ]
  },
  {
   "cell_type": "code",
   "execution_count": 26,
   "metadata": {
    "ExecuteTime": {
     "end_time": "2022-04-29T00:49:32.524036Z",
     "start_time": "2022-04-29T00:49:32.432593Z"
    },
    "hidden": true
   },
   "outputs": [
    {
     "name": "stdout",
     "output_type": "stream",
     "text": [
      "|--- CreatedAt <= 1259513664.00\n",
      "|   |--- NumerOfFollowings <= 498.50\n",
      "|   |   |--- weights: [12086.00, 1317.00] class: 0\n",
      "|   |--- NumerOfFollowings >  498.50\n",
      "|   |   |--- weights: [1407.00, 5558.00] class: 1\n",
      "|--- CreatedAt >  1259513664.00\n",
      "|   |--- weights: [0.00, 8681.00] class: 1\n",
      "\n",
      "Accuracy: 0.9057831325301204\n",
      "Precision 0.9078087885985748\n",
      "Recall: 0.9172041397930103\n",
      "F1: 0.9124822800865479\n"
     ]
    }
   ],
   "source": [
    "train_test_fit_and_score(caverlee2011, caverlee2011_labels, depth=2)"
   ]
  },
  {
   "cell_type": "code",
   "execution_count": 27,
   "metadata": {
    "ExecuteTime": {
     "end_time": "2022-04-27T11:52:18.844377Z",
     "start_time": "2022-04-27T11:52:18.315643Z"
    },
    "hidden": true
   },
   "outputs": [
    {
     "data": {
      "image/png": "[encoded data removed]",
      "text/plain": [
       "<Figure size 504x288 with 1 Axes>"
      ]
     },
     "metadata": {
      "needs_background": "light"
     },
     "output_type": "display_data"
    }
   ],
   "source": [
    "plot_metrics(caverlee2011, caverlee2011_labels, soa_precision=0.89, soa_recall=0.87)"
   ]
  },
  {
   "cell_type": "code",
   "execution_count": 28,
   "metadata": {
    "ExecuteTime": {
     "end_time": "2022-04-27T02:50:39.143271Z",
     "start_time": "2022-04-27T02:50:36.542744Z"
    },
    "hidden": true
   },
   "outputs": [
    {
     "name": "stdout",
     "output_type": "stream",
     "text": [
      "Accuracy: 0.9526253644666136\n",
      "Precision 0.9538875196056464\n",
      "Recall: 0.9578364757233497\n",
      "F1: 0.9558579190803359\n"
     ]
    }
   ],
   "source": [
    "rf = ensemble.RandomForestClassifier(n_estimators=100, max_depth=10)\n",
    "rf_clf, _, _, _, _ = fit_and_score(caverlee2011, caverlee2011_labels, method=rf, depth=2)"
   ]
  },
  {
   "cell_type": "code",
   "execution_count": 29,
   "metadata": {
    "ExecuteTime": {
     "end_time": "2022-04-27T02:50:58.498028Z",
     "start_time": "2022-04-27T02:50:39.892947Z"
    },
    "hidden": true
   },
   "outputs": [
    {
     "data": {
      "image/png": "[encoded data removed]",
      "text/plain": [
       "<Figure size 1080x504 with 2 Axes>"
      ]
     },
     "metadata": {
      "needs_background": "light"
     },
     "output_type": "display_data"
    }
   ],
   "source": [
    "fig, axes =plt.subplots(1, 2, figsize=(15,7))\n",
    "mdi_feature_importance(rf_clf, list(caverlee2011.columns), axes[0])\n",
    "permutation_feature_importance(axes[1], caverlee2011, caverlee2011_labels, [])"
   ]
  },
  {
   "cell_type": "markdown",
   "metadata": {
    "heading_collapsed": true
   },
   "source": [
    "## Kaiser\n",
    "\n",
    "Only account ids and labels."
   ]
  },
  {
   "cell_type": "code",
   "execution_count": 33,
   "metadata": {
    "ExecuteTime": {
     "end_time": "2022-05-25T00:44:12.436346Z",
     "start_time": "2022-05-25T00:44:12.085174Z"
    },
    "hidden": true
   },
   "outputs": [],
   "source": [
    "kaiser = pyreadr.read_r(PROJ_PATH + '/data/kaiser/data_botometer.RData')['data_botometer']"
   ]
  },
  {
   "cell_type": "code",
   "execution_count": 34,
   "metadata": {
    "ExecuteTime": {
     "end_time": "2022-05-25T00:44:14.210355Z",
     "start_time": "2022-05-25T00:44:14.197245Z"
    },
    "hidden": true
   },
   "outputs": [
    {
     "data": {
      "text/html": [
       "<div>\n",
       "<style scoped>\n",
       "    .dataframe tbody tr th:only-of-type {\n",
       "        vertical-align: middle;\n",
       "    }\n",
       "\n",
       "    .dataframe tbody tr th {\n",
       "        vertical-align: top;\n",
       "    }\n",
       "\n",
       "    .dataframe thead th {\n",
       "        text-align: right;\n",
       "    }\n",
       "</style>\n",
       "<table border=\"1\" class=\"dataframe\">\n",
       "  <thead>\n",
       "    <tr style=\"text-align: right;\">\n",
       "      <th></th>\n",
       "      <th>user.id_str</th>\n",
       "      <th>date</th>\n",
       "      <th>type</th>\n",
       "      <th>cap.universal</th>\n",
       "      <th>scores.universal</th>\n",
       "    </tr>\n",
       "  </thead>\n",
       "  <tbody>\n",
       "    <tr>\n",
       "      <th>0</th>\n",
       "      <td>1073515275323097088</td>\n",
       "      <td>2019-03-03</td>\n",
       "      <td>bot</td>\n",
       "      <td>0.325413</td>\n",
       "      <td>0.724840</td>\n",
       "    </tr>\n",
       "    <tr>\n",
       "      <th>1</th>\n",
       "      <td>961438005675397120</td>\n",
       "      <td>2019-03-03</td>\n",
       "      <td>bot</td>\n",
       "      <td>0.104603</td>\n",
       "      <td>0.515643</td>\n",
       "    </tr>\n",
       "    <tr>\n",
       "      <th>2</th>\n",
       "      <td>941291900862124032</td>\n",
       "      <td>2019-03-03</td>\n",
       "      <td>bot</td>\n",
       "      <td>0.060559</td>\n",
       "      <td>0.413570</td>\n",
       "    </tr>\n",
       "    <tr>\n",
       "      <th>3</th>\n",
       "      <td>809439447796355072</td>\n",
       "      <td>2019-03-03</td>\n",
       "      <td>bot</td>\n",
       "      <td>0.060559</td>\n",
       "      <td>0.413570</td>\n",
       "    </tr>\n",
       "    <tr>\n",
       "      <th>4</th>\n",
       "      <td>769777732213321729</td>\n",
       "      <td>2019-03-03</td>\n",
       "      <td>bot</td>\n",
       "      <td>0.054305</td>\n",
       "      <td>0.393746</td>\n",
       "    </tr>\n",
       "    <tr>\n",
       "      <th>...</th>\n",
       "      <td>...</td>\n",
       "      <td>...</td>\n",
       "      <td>...</td>\n",
       "      <td>...</td>\n",
       "      <td>...</td>\n",
       "    </tr>\n",
       "    <tr>\n",
       "      <th>374719</th>\n",
       "      <td>2234767742</td>\n",
       "      <td>2019-06-02</td>\n",
       "      <td>ger_bot</td>\n",
       "      <td>0.104603</td>\n",
       "      <td>0.515643</td>\n",
       "    </tr>\n",
       "    <tr>\n",
       "      <th>374720</th>\n",
       "      <td>1092190045</td>\n",
       "      <td>2019-06-02</td>\n",
       "      <td>ger_bot</td>\n",
       "      <td>0.010165</td>\n",
       "      <td>0.170132</td>\n",
       "    </tr>\n",
       "    <tr>\n",
       "      <th>374721</th>\n",
       "      <td>57146860</td>\n",
       "      <td>2019-06-02</td>\n",
       "      <td>ger_bot</td>\n",
       "      <td>0.023812</td>\n",
       "      <td>0.267344</td>\n",
       "    </tr>\n",
       "    <tr>\n",
       "      <th>374722</th>\n",
       "      <td>56828167</td>\n",
       "      <td>2019-06-02</td>\n",
       "      <td>ger_bot</td>\n",
       "      <td>0.005778</td>\n",
       "      <td>0.119570</td>\n",
       "    </tr>\n",
       "    <tr>\n",
       "      <th>374723</th>\n",
       "      <td>14383393</td>\n",
       "      <td>2019-06-02</td>\n",
       "      <td>ger_bot</td>\n",
       "      <td>0.023812</td>\n",
       "      <td>0.267344</td>\n",
       "    </tr>\n",
       "  </tbody>\n",
       "</table>\n",
       "<p>374724 rows × 5 columns</p>\n",
       "</div>"
      ],
      "text/plain": [
       "                user.id_str        date     type  cap.universal  \\\n",
       "0       1073515275323097088  2019-03-03      bot       0.325413   \n",
       "1        961438005675397120  2019-03-03      bot       0.104603   \n",
       "2        941291900862124032  2019-03-03      bot       0.060559   \n",
       "3        809439447796355072  2019-03-03      bot       0.060559   \n",
       "4        769777732213321729  2019-03-03      bot       0.054305   \n",
       "...                     ...         ...      ...            ...   \n",
       "374719           2234767742  2019-06-02  ger_bot       0.104603   \n",
       "374720           1092190045  2019-06-02  ger_bot       0.010165   \n",
       "374721             57146860  2019-06-02  ger_bot       0.023812   \n",
       "374722             56828167  2019-06-02  ger_bot       0.005778   \n",
       "374723             14383393  2019-06-02  ger_bot       0.023812   \n",
       "\n",
       "        scores.universal  \n",
       "0               0.724840  \n",
       "1               0.515643  \n",
       "2               0.413570  \n",
       "3               0.413570  \n",
       "4               0.393746  \n",
       "...                  ...  \n",
       "374719          0.515643  \n",
       "374720          0.170132  \n",
       "374721          0.267344  \n",
       "374722          0.119570  \n",
       "374723          0.267344  \n",
       "\n",
       "[374724 rows x 5 columns]"
      ]
     },
     "execution_count": 34,
     "metadata": {},
     "output_type": "execute_result"
    }
   ],
   "source": [
    "kaiser"
   ]
  },
  {
   "cell_type": "markdown",
   "metadata": {},
   "source": [
    "# Single-class datasets"
   ]
  },
  {
   "cell_type": "markdown",
   "metadata": {
    "heading_collapsed": true
   },
   "source": [
    "## Astroturf\n",
    "\n",
    "Only account ids and labels."
   ]
  },
  {
   "cell_type": "markdown",
   "metadata": {
    "heading_collapsed": true
   },
   "source": [
    "## botwiki-2019"
   ]
  },
  {
   "cell_type": "code",
   "execution_count": 36,
   "metadata": {
    "ExecuteTime": {
     "end_time": "2022-05-25T14:00:31.432087Z",
     "start_time": "2022-05-25T14:00:31.401108Z"
    },
    "hidden": true
   },
   "outputs": [],
   "source": [
    "botwiki_profs = extract_users(PROJ_PATH + \"/data/botwiki-2019_tweets.json\")\n",
    "botwiki_df, botwiki_one_hot, botwiki_labels = preprocess_users(botwiki_profs, PROJ_PATH + \"/data/botwiki-2019.tsv\")"
   ]
  },
  {
   "cell_type": "markdown",
   "metadata": {
    "heading_collapsed": true
   },
   "source": [
    "## celebrity-2019"
   ]
  },
  {
   "cell_type": "code",
   "execution_count": 37,
   "metadata": {
    "ExecuteTime": {
     "end_time": "2022-05-25T14:02:43.239555Z",
     "start_time": "2022-05-25T14:02:42.710222Z"
    },
    "hidden": true
   },
   "outputs": [],
   "source": [
    "celebrity_profs = extract_users(PROJ_PATH + \"/data/celebrity-2019_tweets.json\")\n",
    "celebrity_df, celebrity_one_hot, celebrity_labels = preprocess_users(celebrity_profs, PROJ_PATH + \"/data/celebrity-2019.tsv\")"
   ]
  },
  {
   "cell_type": "markdown",
   "metadata": {
    "heading_collapsed": true
   },
   "source": [
    "## political-bots-2019"
   ]
  },
  {
   "cell_type": "code",
   "execution_count": 38,
   "metadata": {
    "ExecuteTime": {
     "end_time": "2022-05-25T14:03:26.218392Z",
     "start_time": "2022-05-25T14:03:26.195781Z"
    },
    "hidden": true
   },
   "outputs": [],
   "source": [
    "political_bots_profs = extract_users(PROJ_PATH + \"/data/political-bots-2019/political-bots-2019_tweets.json\")\n",
    "political_bots_df, political_bots_one_hot, political_bots_labels = preprocess_users(political_bots_profs, PROJ_PATH + \"/data/political-bots-2019/political-bots-2019.tsv\")"
   ]
  },
  {
   "cell_type": "markdown",
   "metadata": {},
   "source": [
    "## pronbots-2019"
   ]
  },
  {
   "cell_type": "code",
   "execution_count": 39,
   "metadata": {
    "ExecuteTime": {
     "end_time": "2022-05-25T14:37:30.470180Z",
     "start_time": "2022-05-25T14:37:30.092891Z"
    }
   },
   "outputs": [
    {
     "ename": "KeyError",
     "evalue": "\"None of ['id'] are in the columns\"",
     "output_type": "error",
     "traceback": [
      "\u001b[0;31m---------------------------------------------------------------------------\u001b[0m",
      "\u001b[0;31mKeyError\u001b[0m                                  Traceback (most recent call last)",
      "\u001b[0;32m<ipython-input-39-52d7de778bb9>\u001b[0m in \u001b[0;36m<module>\u001b[0;34m\u001b[0m\n\u001b[1;32m      5\u001b[0m \u001b[0;34m\u001b[0m\u001b[0m\n\u001b[1;32m      6\u001b[0m \u001b[0mpronbots_profs\u001b[0m \u001b[0;34m=\u001b[0m \u001b[0mextract_users_list\u001b[0m\u001b[0;34m(\u001b[0m\u001b[0mPROJ_PATH\u001b[0m \u001b[0;34m+\u001b[0m \u001b[0;34m\"/data/pronbots-2019_tweets.json\"\u001b[0m\u001b[0;34m)\u001b[0m\u001b[0;34m\u001b[0m\u001b[0;34m\u001b[0m\u001b[0m\n\u001b[0;32m----> 7\u001b[0;31m \u001b[0mpronbots_df\u001b[0m\u001b[0;34m,\u001b[0m \u001b[0mpronbots_one_hot\u001b[0m\u001b[0;34m,\u001b[0m \u001b[0mpronbots_labels\u001b[0m \u001b[0;34m=\u001b[0m \u001b[0mpreprocess_users\u001b[0m\u001b[0;34m(\u001b[0m\u001b[0mpronbots_profs\u001b[0m\u001b[0;34m,\u001b[0m \u001b[0mPROJ_PATH\u001b[0m \u001b[0;34m+\u001b[0m \u001b[0;34m\"/data/pronbots-2019.tsv\"\u001b[0m\u001b[0;34m)\u001b[0m\u001b[0;34m\u001b[0m\u001b[0;34m\u001b[0m\u001b[0m\n\u001b[0m",
      "\u001b[0;32m<ipython-input-2-b9a8039455a6>\u001b[0m in \u001b[0;36mpreprocess_users\u001b[0;34m(profs, labels_path)\u001b[0m\n\u001b[1;32m      8\u001b[0m \u001b[0;34m\u001b[0m\u001b[0m\n\u001b[1;32m      9\u001b[0m \u001b[0;32mdef\u001b[0m \u001b[0mpreprocess_users\u001b[0m\u001b[0;34m(\u001b[0m\u001b[0mprofs\u001b[0m\u001b[0;34m,\u001b[0m \u001b[0mlabels_path\u001b[0m\u001b[0;34m)\u001b[0m\u001b[0;34m:\u001b[0m\u001b[0;34m\u001b[0m\u001b[0;34m\u001b[0m\u001b[0m\n\u001b[0;32m---> 10\u001b[0;31m     \u001b[0mdf\u001b[0m \u001b[0;34m=\u001b[0m \u001b[0mpd\u001b[0m\u001b[0;34m.\u001b[0m\u001b[0mDataFrame\u001b[0m\u001b[0;34m(\u001b[0m\u001b[0mprofs\u001b[0m\u001b[0;34m)\u001b[0m\u001b[0;34m.\u001b[0m\u001b[0mset_index\u001b[0m\u001b[0;34m(\u001b[0m\u001b[0;34m\"id\"\u001b[0m\u001b[0;34m)\u001b[0m\u001b[0;34m\u001b[0m\u001b[0;34m\u001b[0m\u001b[0m\n\u001b[0m\u001b[1;32m     11\u001b[0m     \u001b[0mdf\u001b[0m\u001b[0;34m[\u001b[0m\u001b[0;34m\"created_at\"\u001b[0m\u001b[0;34m]\u001b[0m \u001b[0;34m=\u001b[0m \u001b[0mdf\u001b[0m\u001b[0;34m[\u001b[0m\u001b[0;34m\"created_at\"\u001b[0m\u001b[0;34m]\u001b[0m\u001b[0;34m.\u001b[0m\u001b[0mapply\u001b[0m\u001b[0;34m(\u001b[0m\u001b[0;32mlambda\u001b[0m \u001b[0mdt\u001b[0m\u001b[0;34m:\u001b[0m \u001b[0mdatetime\u001b[0m\u001b[0;34m.\u001b[0m\u001b[0mstrptime\u001b[0m\u001b[0;34m(\u001b[0m\u001b[0mdt\u001b[0m\u001b[0;34m,\u001b[0m \u001b[0;34m\"%a %b %d %H:%M:%S %z %Y\"\u001b[0m\u001b[0;34m)\u001b[0m\u001b[0;34m.\u001b[0m\u001b[0mtimestamp\u001b[0m\u001b[0;34m(\u001b[0m\u001b[0;34m)\u001b[0m\u001b[0;34m)\u001b[0m\u001b[0;34m\u001b[0m\u001b[0;34m\u001b[0m\u001b[0m\n\u001b[1;32m     12\u001b[0m     \u001b[0mlabels\u001b[0m \u001b[0;34m=\u001b[0m \u001b[0mpd\u001b[0m\u001b[0;34m.\u001b[0m\u001b[0mread_csv\u001b[0m\u001b[0;34m(\u001b[0m\u001b[0mlabels_path\u001b[0m\u001b[0;34m,\u001b[0m \u001b[0msep\u001b[0m\u001b[0;34m=\u001b[0m\u001b[0;34m\"\\t\"\u001b[0m\u001b[0;34m,\u001b[0m \u001b[0mheader\u001b[0m\u001b[0;34m=\u001b[0m\u001b[0;32mNone\u001b[0m\u001b[0;34m,\u001b[0m \u001b[0mnames\u001b[0m\u001b[0;34m=\u001b[0m\u001b[0;34m[\u001b[0m\u001b[0;34m\"id\"\u001b[0m\u001b[0;34m,\u001b[0m \u001b[0;34m\"label_str\"\u001b[0m\u001b[0;34m]\u001b[0m\u001b[0;34m,\u001b[0m \u001b[0mindex_col\u001b[0m\u001b[0;34m=\u001b[0m\u001b[0;34m\"id\"\u001b[0m\u001b[0;34m)\u001b[0m\u001b[0;34m\u001b[0m\u001b[0;34m\u001b[0m\u001b[0m\n",
      "\u001b[0;32m~/.local/lib/python3.8/site-packages/pandas/util/_decorators.py\u001b[0m in \u001b[0;36mwrapper\u001b[0;34m(*args, **kwargs)\u001b[0m\n\u001b[1;32m    309\u001b[0m                     \u001b[0mstacklevel\u001b[0m\u001b[0;34m=\u001b[0m\u001b[0mstacklevel\u001b[0m\u001b[0;34m,\u001b[0m\u001b[0;34m\u001b[0m\u001b[0;34m\u001b[0m\u001b[0m\n\u001b[1;32m    310\u001b[0m                 )\n\u001b[0;32m--> 311\u001b[0;31m             \u001b[0;32mreturn\u001b[0m \u001b[0mfunc\u001b[0m\u001b[0;34m(\u001b[0m\u001b[0;34m*\u001b[0m\u001b[0margs\u001b[0m\u001b[0;34m,\u001b[0m \u001b[0;34m**\u001b[0m\u001b[0mkwargs\u001b[0m\u001b[0;34m)\u001b[0m\u001b[0;34m\u001b[0m\u001b[0;34m\u001b[0m\u001b[0m\n\u001b[0m\u001b[1;32m    312\u001b[0m \u001b[0;34m\u001b[0m\u001b[0m\n\u001b[1;32m    313\u001b[0m         \u001b[0;32mreturn\u001b[0m \u001b[0mwrapper\u001b[0m\u001b[0;34m\u001b[0m\u001b[0;34m\u001b[0m\u001b[0m\n",
      "\u001b[0;32m~/.local/lib/python3.8/site-packages/pandas/core/frame.py\u001b[0m in \u001b[0;36mset_index\u001b[0;34m(self, keys, drop, append, inplace, verify_integrity)\u001b[0m\n\u001b[1;32m   5494\u001b[0m \u001b[0;34m\u001b[0m\u001b[0m\n\u001b[1;32m   5495\u001b[0m         \u001b[0;32mif\u001b[0m \u001b[0mmissing\u001b[0m\u001b[0;34m:\u001b[0m\u001b[0;34m\u001b[0m\u001b[0;34m\u001b[0m\u001b[0m\n\u001b[0;32m-> 5496\u001b[0;31m             \u001b[0;32mraise\u001b[0m \u001b[0mKeyError\u001b[0m\u001b[0;34m(\u001b[0m\u001b[0;34mf\"None of {missing} are in the columns\"\u001b[0m\u001b[0;34m)\u001b[0m\u001b[0;34m\u001b[0m\u001b[0;34m\u001b[0m\u001b[0m\n\u001b[0m\u001b[1;32m   5497\u001b[0m \u001b[0;34m\u001b[0m\u001b[0m\n\u001b[1;32m   5498\u001b[0m         \u001b[0;32mif\u001b[0m \u001b[0minplace\u001b[0m\u001b[0;34m:\u001b[0m\u001b[0;34m\u001b[0m\u001b[0;34m\u001b[0m\u001b[0m\n",
      "\u001b[0;31mKeyError\u001b[0m: \"None of ['id'] are in the columns\""
     ]
    }
   ],
   "source": [
    "def extract_users_list(data_path):\n",
    "    with open(data_path) as f:\n",
    "        d = json.load(f)\n",
    "    return d\n",
    "\n",
    "pronbots_profs = extract_users_list(PROJ_PATH + \"/data/pronbots-2019_tweets.json\")\n",
    "pronbots_df, pronbots_one_hot, pronbots_labels = preprocess_users(pronbots_profs, PROJ_PATH + \"/data/pronbots-2019.tsv\")"
   ]
  },
  {
   "cell_type": "code",
   "execution_count": 39,
   "metadata": {
    "ExecuteTime": {
     "end_time": "2022-05-25T14:37:41.540717Z",
     "start_time": "2022-05-25T14:37:41.536187Z"
    }
   },
   "outputs": [
    {
     "data": {
      "text/html": [
       "<div>\n",
       "<style scoped>\n",
       "    .dataframe tbody tr th:only-of-type {\n",
       "        vertical-align: middle;\n",
       "    }\n",
       "\n",
       "    .dataframe tbody tr th {\n",
       "        vertical-align: top;\n",
       "    }\n",
       "\n",
       "    .dataframe thead th {\n",
       "        text-align: right;\n",
       "    }\n",
       "</style>\n",
       "<table border=\"1\" class=\"dataframe\">\n",
       "  <thead>\n",
       "    <tr style=\"text-align: right;\">\n",
       "      <th></th>\n",
       "      <th>followers_count</th>\n",
       "      <th>friends_count</th>\n",
       "      <th>listed_count</th>\n",
       "      <th>created_at</th>\n",
       "      <th>favourites_count</th>\n",
       "      <th>statuses_count</th>\n",
       "    </tr>\n",
       "  </thead>\n",
       "  <tbody>\n",
       "  </tbody>\n",
       "</table>\n",
       "</div>"
      ],
      "text/plain": [
       "Empty DataFrame\n",
       "Columns: [followers_count, friends_count, listed_count, created_at, favourites_count, statuses_count]\n",
       "Index: []"
      ]
     },
     "execution_count": 39,
     "metadata": {},
     "output_type": "execute_result"
    }
   ],
   "source": [
    "pronbots_one_hot"
   ]
  },
  {
   "cell_type": "markdown",
   "metadata": {},
   "source": [
    "## vendor-purchased-2019"
   ]
  },
  {
   "cell_type": "code",
   "execution_count": 40,
   "metadata": {
    "ExecuteTime": {
     "end_time": "2022-05-25T14:04:38.566003Z",
     "start_time": "2022-05-25T14:04:38.531114Z"
    }
   },
   "outputs": [],
   "source": [
    "vendor_purchased_profs = extract_users(PROJ_PATH + \"/data/vendor-purchased-2019_tweets.json\")\n",
    "vendor_purchased_df, vendor_purchased_one_hot, vendor_purchased_labels = preprocess_users(vendor_purchased_profs, PROJ_PATH + \"/data/vendor-purchased-2019.tsv\")"
   ]
  },
  {
   "cell_type": "markdown",
   "metadata": {},
   "source": [
    "## analysis of each of the specialized classifiers in Botometer"
   ]
  },
  {
   "cell_type": "markdown",
   "metadata": {},
   "source": [
    "### humans"
   ]
  },
  {
   "cell_type": "code",
   "execution_count": null,
   "metadata": {},
   "outputs": [],
   "source": [
    "human_df = pd.concat([caverlee2011_humans], axis=0)"
   ]
  },
  {
   "cell_type": "markdown",
   "metadata": {},
   "source": [
    "### simple bots"
   ]
  },
  {
   "cell_type": "code",
   "execution_count": 20,
   "metadata": {
    "ExecuteTime": {
     "end_time": "2022-05-25T14:27:24.656045Z",
     "start_time": "2022-05-25T14:27:24.652694Z"
    }
   },
   "outputs": [],
   "source": [
    "simple_df = caverlee2011_bots"
   ]
  },
  {
   "cell_type": "markdown",
   "metadata": {},
   "source": [
    "### spammers"
   ]
  },
  {
   "cell_type": "code",
   "execution_count": 28,
   "metadata": {
    "ExecuteTime": {
     "end_time": "2022-05-25T14:35:52.198968Z",
     "start_time": "2022-05-25T14:35:52.114390Z"
    }
   },
   "outputs": [
    {
     "ename": "InvalidIndexError",
     "evalue": "Reindexing only valid with uniquely valued Index objects",
     "output_type": "error",
     "traceback": [
      "\u001b[0;31m---------------------------------------------------------------------------\u001b[0m",
      "\u001b[0;31mInvalidIndexError\u001b[0m                         Traceback (most recent call last)",
      "\u001b[0;32m/tmp/ipykernel_73451/1699319705.py\u001b[0m in \u001b[0;36m<module>\u001b[0;34m\u001b[0m\n\u001b[1;32m     38\u001b[0m                         DUMMY_COLUMNS + ['is_translator', 'contributors_enabled', 'notifications'])\n\u001b[1;32m     39\u001b[0m \u001b[0;34m\u001b[0m\u001b[0m\n\u001b[0;32m---> 40\u001b[0;31m \u001b[0mspammers_df\u001b[0m \u001b[0;34m=\u001b[0m \u001b[0mpd\u001b[0m\u001b[0;34m.\u001b[0m\u001b[0mconcat\u001b[0m\u001b[0;34m(\u001b[0m\u001b[0;34m[\u001b[0m\u001b[0mpronbots_one_hot\u001b[0m\u001b[0;34m,\u001b[0m \u001b[0mcresci2017_one_hot\u001b[0m\u001b[0;34m]\u001b[0m\u001b[0;34m,\u001b[0m \u001b[0mignore_index\u001b[0m\u001b[0;34m=\u001b[0m\u001b[0;32mTrue\u001b[0m\u001b[0;34m)\u001b[0m\u001b[0;34m\u001b[0m\u001b[0;34m\u001b[0m\u001b[0m\n\u001b[0m",
      "\u001b[0;32m~/.local/lib/python3.10/site-packages/pandas/util/_decorators.py\u001b[0m in \u001b[0;36mwrapper\u001b[0;34m(*args, **kwargs)\u001b[0m\n\u001b[1;32m    309\u001b[0m                     \u001b[0mstacklevel\u001b[0m\u001b[0;34m=\u001b[0m\u001b[0mstacklevel\u001b[0m\u001b[0;34m,\u001b[0m\u001b[0;34m\u001b[0m\u001b[0;34m\u001b[0m\u001b[0m\n\u001b[1;32m    310\u001b[0m                 )\n\u001b[0;32m--> 311\u001b[0;31m             \u001b[0;32mreturn\u001b[0m \u001b[0mfunc\u001b[0m\u001b[0;34m(\u001b[0m\u001b[0;34m*\u001b[0m\u001b[0margs\u001b[0m\u001b[0;34m,\u001b[0m \u001b[0;34m**\u001b[0m\u001b[0mkwargs\u001b[0m\u001b[0;34m)\u001b[0m\u001b[0;34m\u001b[0m\u001b[0;34m\u001b[0m\u001b[0m\n\u001b[0m\u001b[1;32m    312\u001b[0m \u001b[0;34m\u001b[0m\u001b[0m\n\u001b[1;32m    313\u001b[0m         \u001b[0;32mreturn\u001b[0m \u001b[0mwrapper\u001b[0m\u001b[0;34m\u001b[0m\u001b[0;34m\u001b[0m\u001b[0m\n",
      "\u001b[0;32m~/.local/lib/python3.10/site-packages/pandas/core/reshape/concat.py\u001b[0m in \u001b[0;36mconcat\u001b[0;34m(objs, axis, join, ignore_index, keys, levels, names, verify_integrity, sort, copy)\u001b[0m\n\u001b[1;32m    305\u001b[0m     )\n\u001b[1;32m    306\u001b[0m \u001b[0;34m\u001b[0m\u001b[0m\n\u001b[0;32m--> 307\u001b[0;31m     \u001b[0;32mreturn\u001b[0m \u001b[0mop\u001b[0m\u001b[0;34m.\u001b[0m\u001b[0mget_result\u001b[0m\u001b[0;34m(\u001b[0m\u001b[0;34m)\u001b[0m\u001b[0;34m\u001b[0m\u001b[0;34m\u001b[0m\u001b[0m\n\u001b[0m\u001b[1;32m    308\u001b[0m \u001b[0;34m\u001b[0m\u001b[0m\n\u001b[1;32m    309\u001b[0m \u001b[0;34m\u001b[0m\u001b[0m\n",
      "\u001b[0;32m~/.local/lib/python3.10/site-packages/pandas/core/reshape/concat.py\u001b[0m in \u001b[0;36mget_result\u001b[0;34m(self)\u001b[0m\n\u001b[1;32m    526\u001b[0m                     \u001b[0mobj_labels\u001b[0m \u001b[0;34m=\u001b[0m \u001b[0mobj\u001b[0m\u001b[0;34m.\u001b[0m\u001b[0maxes\u001b[0m\u001b[0;34m[\u001b[0m\u001b[0;36m1\u001b[0m \u001b[0;34m-\u001b[0m \u001b[0max\u001b[0m\u001b[0;34m]\u001b[0m\u001b[0;34m\u001b[0m\u001b[0;34m\u001b[0m\u001b[0m\n\u001b[1;32m    527\u001b[0m                     \u001b[0;32mif\u001b[0m \u001b[0;32mnot\u001b[0m \u001b[0mnew_labels\u001b[0m\u001b[0;34m.\u001b[0m\u001b[0mequals\u001b[0m\u001b[0;34m(\u001b[0m\u001b[0mobj_labels\u001b[0m\u001b[0;34m)\u001b[0m\u001b[0;34m:\u001b[0m\u001b[0;34m\u001b[0m\u001b[0;34m\u001b[0m\u001b[0m\n\u001b[0;32m--> 528\u001b[0;31m                         \u001b[0mindexers\u001b[0m\u001b[0;34m[\u001b[0m\u001b[0max\u001b[0m\u001b[0;34m]\u001b[0m \u001b[0;34m=\u001b[0m \u001b[0mobj_labels\u001b[0m\u001b[0;34m.\u001b[0m\u001b[0mget_indexer\u001b[0m\u001b[0;34m(\u001b[0m\u001b[0mnew_labels\u001b[0m\u001b[0;34m)\u001b[0m\u001b[0;34m\u001b[0m\u001b[0;34m\u001b[0m\u001b[0m\n\u001b[0m\u001b[1;32m    529\u001b[0m \u001b[0;34m\u001b[0m\u001b[0m\n\u001b[1;32m    530\u001b[0m                 \u001b[0mmgrs_indexers\u001b[0m\u001b[0;34m.\u001b[0m\u001b[0mappend\u001b[0m\u001b[0;34m(\u001b[0m\u001b[0;34m(\u001b[0m\u001b[0mobj\u001b[0m\u001b[0;34m.\u001b[0m\u001b[0m_mgr\u001b[0m\u001b[0;34m,\u001b[0m \u001b[0mindexers\u001b[0m\u001b[0;34m)\u001b[0m\u001b[0;34m)\u001b[0m\u001b[0;34m\u001b[0m\u001b[0;34m\u001b[0m\u001b[0m\n",
      "\u001b[0;32m~/.local/lib/python3.10/site-packages/pandas/core/indexes/base.py\u001b[0m in \u001b[0;36mget_indexer\u001b[0;34m(self, target, method, limit, tolerance)\u001b[0m\n\u001b[1;32m   3440\u001b[0m \u001b[0;34m\u001b[0m\u001b[0m\n\u001b[1;32m   3441\u001b[0m         \u001b[0;32mif\u001b[0m \u001b[0;32mnot\u001b[0m \u001b[0mself\u001b[0m\u001b[0;34m.\u001b[0m\u001b[0m_index_as_unique\u001b[0m\u001b[0;34m:\u001b[0m\u001b[0;34m\u001b[0m\u001b[0;34m\u001b[0m\u001b[0m\n\u001b[0;32m-> 3442\u001b[0;31m             \u001b[0;32mraise\u001b[0m \u001b[0mInvalidIndexError\u001b[0m\u001b[0;34m(\u001b[0m\u001b[0mself\u001b[0m\u001b[0;34m.\u001b[0m\u001b[0m_requires_unique_msg\u001b[0m\u001b[0;34m)\u001b[0m\u001b[0;34m\u001b[0m\u001b[0;34m\u001b[0m\u001b[0m\n\u001b[0m\u001b[1;32m   3443\u001b[0m \u001b[0;34m\u001b[0m\u001b[0m\n\u001b[1;32m   3444\u001b[0m         \u001b[0;32mif\u001b[0m \u001b[0;32mnot\u001b[0m \u001b[0mself\u001b[0m\u001b[0;34m.\u001b[0m\u001b[0m_should_compare\u001b[0m\u001b[0;34m(\u001b[0m\u001b[0mtarget\u001b[0m\u001b[0;34m)\u001b[0m \u001b[0;32mand\u001b[0m \u001b[0;32mnot\u001b[0m \u001b[0mis_interval_dtype\u001b[0m\u001b[0;34m(\u001b[0m\u001b[0mself\u001b[0m\u001b[0;34m.\u001b[0m\u001b[0mdtype\u001b[0m\u001b[0;34m)\u001b[0m\u001b[0;34m:\u001b[0m\u001b[0;34m\u001b[0m\u001b[0;34m\u001b[0m\u001b[0m\n",
      "\u001b[0;31mInvalidIndexError\u001b[0m: Reindexing only valid with uniquely valued Index objects"
     ]
    }
   ],
   "source": [
    "# Load in cresci data\n",
    "folder_names = [ 'social_spambots_1', \n",
    " 'social_spambots_2', \n",
    " 'social_spambots_3', \n",
    " 'traditional_spambots_1', \n",
    " 'traditional_spambots_2', \n",
    " 'traditional_spambots_3',\n",
    " 'traditional_spambots_4']\n",
    "dfs = []\n",
    "\n",
    "for name in folder_names:\n",
    "    df = pd.read_csv(f\"./data/cresci-2017/{name}.csv/users.csv\")\n",
    "    dfs.append(df)\n",
    "\n",
    "    \n",
    "def format_time(dt):\n",
    "    try:\n",
    "        datetime.strptime(dt, \"%a %b %d %H:%M:%S %z %Y\").timestamp()\n",
    "    except:\n",
    "        print(dt)\n",
    "    \n",
    "cresci2017_spammers = pd.concat(dfs)\n",
    "\n",
    "\n",
    "\n",
    "# Preprocess\n",
    "cresci2017_one_hot = preprocess(cresci2017_spammers, \n",
    "                        COLUMNS_TO_DROP + ['profile_banner_url', \n",
    "                                                        'test_set_1', \n",
    "                                                        'test_set_2', \n",
    "                                                        'crawled_at',\n",
    "                                                        'updated', \n",
    "                                                        'timestamp',\n",
    "                                                        'following', \n",
    "                                                        'follow_request_sent',\n",
    "                                                        'created_at'\n",
    "                                                  ], \n",
    "                        DUMMY_COLUMNS + ['is_translator', 'contributors_enabled', 'notifications'])\n",
    "\n",
    "spammers_df = pd.concat([pronbots_one_hot, cresci2017_one_hot], ignore_index=True)"
   ]
  },
  {
   "cell_type": "code",
   "execution_count": 31,
   "metadata": {
    "ExecuteTime": {
     "end_time": "2022-05-25T14:36:09.874058Z",
     "start_time": "2022-05-25T14:36:09.864724Z"
    }
   },
   "outputs": [
    {
     "data": {
      "text/html": [
       "<div>\n",
       "<style scoped>\n",
       "    .dataframe tbody tr th:only-of-type {\n",
       "        vertical-align: middle;\n",
       "    }\n",
       "\n",
       "    .dataframe tbody tr th {\n",
       "        vertical-align: top;\n",
       "    }\n",
       "\n",
       "    .dataframe thead th {\n",
       "        text-align: right;\n",
       "    }\n",
       "</style>\n",
       "<table border=\"1\" class=\"dataframe\">\n",
       "  <thead>\n",
       "    <tr style=\"text-align: right;\">\n",
       "      <th></th>\n",
       "      <th>statuses_count</th>\n",
       "      <th>followers_count</th>\n",
       "      <th>friends_count</th>\n",
       "      <th>favourites_count</th>\n",
       "      <th>listed_count</th>\n",
       "      <th>lang_en</th>\n",
       "      <th>lang_en-gb</th>\n",
       "      <th>lang_it</th>\n",
       "      <th>lang_ja</th>\n",
       "      <th>lang_nl</th>\n",
       "      <th>...</th>\n",
       "      <th>utc_offset_-14400.0</th>\n",
       "      <th>utc_offset_-7200.0</th>\n",
       "      <th>utc_offset_0.0</th>\n",
       "      <th>utc_offset_3600.0</th>\n",
       "      <th>utc_offset_7200.0</th>\n",
       "      <th>utc_offset_10800.0</th>\n",
       "      <th>utc_offset_14400.0</th>\n",
       "      <th>utc_offset_21600.0</th>\n",
       "      <th>utc_offset_25200.0</th>\n",
       "      <th>utc_offset_32400.0</th>\n",
       "    </tr>\n",
       "  </thead>\n",
       "  <tbody>\n",
       "    <tr>\n",
       "      <th>0</th>\n",
       "      <td>1299</td>\n",
       "      <td>22</td>\n",
       "      <td>40</td>\n",
       "      <td>1</td>\n",
       "      <td>0</td>\n",
       "      <td>0</td>\n",
       "      <td>0</td>\n",
       "      <td>1</td>\n",
       "      <td>0</td>\n",
       "      <td>0</td>\n",
       "      <td>...</td>\n",
       "      <td>0</td>\n",
       "      <td>0</td>\n",
       "      <td>0</td>\n",
       "      <td>0</td>\n",
       "      <td>1</td>\n",
       "      <td>0</td>\n",
       "      <td>0</td>\n",
       "      <td>0</td>\n",
       "      <td>0</td>\n",
       "      <td>0</td>\n",
       "    </tr>\n",
       "    <tr>\n",
       "      <th>1</th>\n",
       "      <td>18665</td>\n",
       "      <td>12561</td>\n",
       "      <td>3442</td>\n",
       "      <td>16358</td>\n",
       "      <td>110</td>\n",
       "      <td>0</td>\n",
       "      <td>0</td>\n",
       "      <td>1</td>\n",
       "      <td>0</td>\n",
       "      <td>0</td>\n",
       "      <td>...</td>\n",
       "      <td>0</td>\n",
       "      <td>1</td>\n",
       "      <td>0</td>\n",
       "      <td>0</td>\n",
       "      <td>0</td>\n",
       "      <td>0</td>\n",
       "      <td>0</td>\n",
       "      <td>0</td>\n",
       "      <td>0</td>\n",
       "      <td>0</td>\n",
       "    </tr>\n",
       "    <tr>\n",
       "      <th>2</th>\n",
       "      <td>22987</td>\n",
       "      <td>600</td>\n",
       "      <td>755</td>\n",
       "      <td>14</td>\n",
       "      <td>6</td>\n",
       "      <td>0</td>\n",
       "      <td>0</td>\n",
       "      <td>1</td>\n",
       "      <td>0</td>\n",
       "      <td>0</td>\n",
       "      <td>...</td>\n",
       "      <td>0</td>\n",
       "      <td>0</td>\n",
       "      <td>0</td>\n",
       "      <td>0</td>\n",
       "      <td>1</td>\n",
       "      <td>0</td>\n",
       "      <td>0</td>\n",
       "      <td>0</td>\n",
       "      <td>0</td>\n",
       "      <td>0</td>\n",
       "    </tr>\n",
       "    <tr>\n",
       "      <th>3</th>\n",
       "      <td>7975</td>\n",
       "      <td>398</td>\n",
       "      <td>350</td>\n",
       "      <td>11</td>\n",
       "      <td>2</td>\n",
       "      <td>1</td>\n",
       "      <td>0</td>\n",
       "      <td>0</td>\n",
       "      <td>0</td>\n",
       "      <td>0</td>\n",
       "      <td>...</td>\n",
       "      <td>0</td>\n",
       "      <td>0</td>\n",
       "      <td>0</td>\n",
       "      <td>0</td>\n",
       "      <td>0</td>\n",
       "      <td>0</td>\n",
       "      <td>0</td>\n",
       "      <td>0</td>\n",
       "      <td>0</td>\n",
       "      <td>0</td>\n",
       "    </tr>\n",
       "    <tr>\n",
       "      <th>4</th>\n",
       "      <td>20218</td>\n",
       "      <td>413</td>\n",
       "      <td>405</td>\n",
       "      <td>162</td>\n",
       "      <td>8</td>\n",
       "      <td>0</td>\n",
       "      <td>0</td>\n",
       "      <td>1</td>\n",
       "      <td>0</td>\n",
       "      <td>0</td>\n",
       "      <td>...</td>\n",
       "      <td>0</td>\n",
       "      <td>0</td>\n",
       "      <td>0</td>\n",
       "      <td>0</td>\n",
       "      <td>1</td>\n",
       "      <td>0</td>\n",
       "      <td>0</td>\n",
       "      <td>0</td>\n",
       "      <td>0</td>\n",
       "      <td>0</td>\n",
       "    </tr>\n",
       "    <tr>\n",
       "      <th>...</th>\n",
       "      <td>...</td>\n",
       "      <td>...</td>\n",
       "      <td>...</td>\n",
       "      <td>...</td>\n",
       "      <td>...</td>\n",
       "      <td>...</td>\n",
       "      <td>...</td>\n",
       "      <td>...</td>\n",
       "      <td>...</td>\n",
       "      <td>...</td>\n",
       "      <td>...</td>\n",
       "      <td>...</td>\n",
       "      <td>...</td>\n",
       "      <td>...</td>\n",
       "      <td>...</td>\n",
       "      <td>...</td>\n",
       "      <td>...</td>\n",
       "      <td>...</td>\n",
       "      <td>...</td>\n",
       "      <td>...</td>\n",
       "      <td>...</td>\n",
       "    </tr>\n",
       "    <tr>\n",
       "      <th>1123</th>\n",
       "      <td>41</td>\n",
       "      <td>169</td>\n",
       "      <td>151</td>\n",
       "      <td>0</td>\n",
       "      <td>12</td>\n",
       "      <td>1</td>\n",
       "      <td>0</td>\n",
       "      <td>0</td>\n",
       "      <td>0</td>\n",
       "      <td>0</td>\n",
       "      <td>...</td>\n",
       "      <td>0</td>\n",
       "      <td>0</td>\n",
       "      <td>0</td>\n",
       "      <td>0</td>\n",
       "      <td>0</td>\n",
       "      <td>0</td>\n",
       "      <td>0</td>\n",
       "      <td>0</td>\n",
       "      <td>0</td>\n",
       "      <td>0</td>\n",
       "    </tr>\n",
       "    <tr>\n",
       "      <th>1124</th>\n",
       "      <td>218</td>\n",
       "      <td>332</td>\n",
       "      <td>245</td>\n",
       "      <td>0</td>\n",
       "      <td>31</td>\n",
       "      <td>1</td>\n",
       "      <td>0</td>\n",
       "      <td>0</td>\n",
       "      <td>0</td>\n",
       "      <td>0</td>\n",
       "      <td>...</td>\n",
       "      <td>0</td>\n",
       "      <td>0</td>\n",
       "      <td>0</td>\n",
       "      <td>0</td>\n",
       "      <td>0</td>\n",
       "      <td>0</td>\n",
       "      <td>0</td>\n",
       "      <td>0</td>\n",
       "      <td>0</td>\n",
       "      <td>0</td>\n",
       "    </tr>\n",
       "    <tr>\n",
       "      <th>1125</th>\n",
       "      <td>17</td>\n",
       "      <td>530</td>\n",
       "      <td>300</td>\n",
       "      <td>0</td>\n",
       "      <td>8</td>\n",
       "      <td>1</td>\n",
       "      <td>0</td>\n",
       "      <td>0</td>\n",
       "      <td>0</td>\n",
       "      <td>0</td>\n",
       "      <td>...</td>\n",
       "      <td>0</td>\n",
       "      <td>0</td>\n",
       "      <td>0</td>\n",
       "      <td>0</td>\n",
       "      <td>0</td>\n",
       "      <td>0</td>\n",
       "      <td>0</td>\n",
       "      <td>0</td>\n",
       "      <td>0</td>\n",
       "      <td>0</td>\n",
       "    </tr>\n",
       "    <tr>\n",
       "      <th>1126</th>\n",
       "      <td>2</td>\n",
       "      <td>247</td>\n",
       "      <td>202</td>\n",
       "      <td>0</td>\n",
       "      <td>1</td>\n",
       "      <td>1</td>\n",
       "      <td>0</td>\n",
       "      <td>0</td>\n",
       "      <td>0</td>\n",
       "      <td>0</td>\n",
       "      <td>...</td>\n",
       "      <td>0</td>\n",
       "      <td>0</td>\n",
       "      <td>0</td>\n",
       "      <td>0</td>\n",
       "      <td>0</td>\n",
       "      <td>0</td>\n",
       "      <td>0</td>\n",
       "      <td>0</td>\n",
       "      <td>0</td>\n",
       "      <td>0</td>\n",
       "    </tr>\n",
       "    <tr>\n",
       "      <th>1127</th>\n",
       "      <td>47</td>\n",
       "      <td>267</td>\n",
       "      <td>234</td>\n",
       "      <td>0</td>\n",
       "      <td>7</td>\n",
       "      <td>1</td>\n",
       "      <td>0</td>\n",
       "      <td>0</td>\n",
       "      <td>0</td>\n",
       "      <td>0</td>\n",
       "      <td>...</td>\n",
       "      <td>0</td>\n",
       "      <td>0</td>\n",
       "      <td>0</td>\n",
       "      <td>0</td>\n",
       "      <td>0</td>\n",
       "      <td>0</td>\n",
       "      <td>0</td>\n",
       "      <td>0</td>\n",
       "      <td>0</td>\n",
       "      <td>0</td>\n",
       "    </tr>\n",
       "  </tbody>\n",
       "</table>\n",
       "<p>7543 rows × 953 columns</p>\n",
       "</div>"
      ],
      "text/plain": [
       "      statuses_count  followers_count  friends_count  favourites_count  \\\n",
       "0               1299               22             40                 1   \n",
       "1              18665            12561           3442             16358   \n",
       "2              22987              600            755                14   \n",
       "3               7975              398            350                11   \n",
       "4              20218              413            405               162   \n",
       "...              ...              ...            ...               ...   \n",
       "1123              41              169            151                 0   \n",
       "1124             218              332            245                 0   \n",
       "1125              17              530            300                 0   \n",
       "1126               2              247            202                 0   \n",
       "1127              47              267            234                 0   \n",
       "\n",
       "      listed_count  lang_en  lang_en-gb  lang_it  lang_ja  lang_nl  ...  \\\n",
       "0                0        0           0        1        0        0  ...   \n",
       "1              110        0           0        1        0        0  ...   \n",
       "2                6        0           0        1        0        0  ...   \n",
       "3                2        1           0        0        0        0  ...   \n",
       "4                8        0           0        1        0        0  ...   \n",
       "...            ...      ...         ...      ...      ...      ...  ...   \n",
       "1123            12        1           0        0        0        0  ...   \n",
       "1124            31        1           0        0        0        0  ...   \n",
       "1125             8        1           0        0        0        0  ...   \n",
       "1126             1        1           0        0        0        0  ...   \n",
       "1127             7        1           0        0        0        0  ...   \n",
       "\n",
       "      utc_offset_-14400.0  utc_offset_-7200.0  utc_offset_0.0  \\\n",
       "0                       0                   0               0   \n",
       "1                       0                   1               0   \n",
       "2                       0                   0               0   \n",
       "3                       0                   0               0   \n",
       "4                       0                   0               0   \n",
       "...                   ...                 ...             ...   \n",
       "1123                    0                   0               0   \n",
       "1124                    0                   0               0   \n",
       "1125                    0                   0               0   \n",
       "1126                    0                   0               0   \n",
       "1127                    0                   0               0   \n",
       "\n",
       "      utc_offset_3600.0  utc_offset_7200.0  utc_offset_10800.0  \\\n",
       "0                     0                  1                   0   \n",
       "1                     0                  0                   0   \n",
       "2                     0                  1                   0   \n",
       "3                     0                  0                   0   \n",
       "4                     0                  1                   0   \n",
       "...                 ...                ...                 ...   \n",
       "1123                  0                  0                   0   \n",
       "1124                  0                  0                   0   \n",
       "1125                  0                  0                   0   \n",
       "1126                  0                  0                   0   \n",
       "1127                  0                  0                   0   \n",
       "\n",
       "      utc_offset_14400.0  utc_offset_21600.0  utc_offset_25200.0  \\\n",
       "0                      0                   0                   0   \n",
       "1                      0                   0                   0   \n",
       "2                      0                   0                   0   \n",
       "3                      0                   0                   0   \n",
       "4                      0                   0                   0   \n",
       "...                  ...                 ...                 ...   \n",
       "1123                   0                   0                   0   \n",
       "1124                   0                   0                   0   \n",
       "1125                   0                   0                   0   \n",
       "1126                   0                   0                   0   \n",
       "1127                   0                   0                   0   \n",
       "\n",
       "      utc_offset_32400.0  \n",
       "0                      0  \n",
       "1                      0  \n",
       "2                      0  \n",
       "3                      0  \n",
       "4                      0  \n",
       "...                  ...  \n",
       "1123                   0  \n",
       "1124                   0  \n",
       "1125                   0  \n",
       "1126                   0  \n",
       "1127                   0  \n",
       "\n",
       "[7543 rows x 953 columns]"
      ]
     },
     "execution_count": 31,
     "metadata": {},
     "output_type": "execute_result"
    }
   ],
   "source": [
    "cresci2017_one_hot"
   ]
  },
  {
   "cell_type": "markdown",
   "metadata": {},
   "source": [
    "### fake followers"
   ]
  },
  {
   "cell_type": "markdown",
   "metadata": {},
   "source": [
    "### self-declared"
   ]
  },
  {
   "cell_type": "markdown",
   "metadata": {},
   "source": [
    "### political bots"
   ]
  },
  {
   "cell_type": "markdown",
   "metadata": {},
   "source": [
    "### other bots"
   ]
  },
  {
   "cell_type": "markdown",
   "metadata": {
    "heading_collapsed": true
   },
   "source": [
    "## EMD-2017: \"Twitter fake account detection\"\n",
    "\n",
    "All accounts are fake. "
   ]
  },
  {
   "cell_type": "code",
   "execution_count": 41,
   "metadata": {
    "ExecuteTime": {
     "end_time": "2022-05-24T12:35:01.322695Z",
     "start_time": "2022-05-24T12:35:01.307355Z"
    },
    "hidden": true
   },
   "outputs": [],
   "source": [
    "# Load data\n",
    "data = arff.loadarff('data/EMD-2017/Twitter_dataset.arff')\n",
    "emd = pd.DataFrame(data[0])\n",
    "\n",
    "for col in emd:\n",
    "    if (type(emd[col][0]) == type(b'str')):\n",
    "        emd[col] = emd[col].apply(bool)\n",
    "\n",
    "emd.head()\n",
    "\n",
    "emd_labels = emd['is_fake'].apply(lambda x: 1 if x else 0)"
   ]
  },
  {
   "cell_type": "code",
   "execution_count": 38,
   "metadata": {
    "ExecuteTime": {
     "end_time": "2022-05-24T12:33:54.595843Z",
     "start_time": "2022-05-24T12:33:54.573813Z"
    },
    "hidden": true
   },
   "outputs": [
    {
     "name": "stdout",
     "output_type": "stream",
     "text": [
      "|--- class: 0\n",
      "\n",
      "In-sample accuracy: 1.0\n",
      "In-sample precision score: 1.0\n",
      "In-sample recall score: 1.0\n",
      "In-sample F1 score: 1.0\n"
     ]
    },
    {
     "data": {
      "text/plain": [
       "(DecisionTreeClassifier(max_depth=1), 1.0, 1.0, 1.0, 1.0)"
      ]
     },
     "execution_count": 38,
     "metadata": {},
     "output_type": "execute_result"
    }
   ],
   "source": [
    "# Preprocess\n",
    "emd_one_hot = preprocess(emd, ['is_fake'], ['protected', 'profile_use_background_image', 'verified', 'contributors_enabled', 'default_profile', 'default_profile_image', 'is_translator'])\n",
    "\n",
    "# Fit and score decision tree\n",
    "fit_and_score(emd_one_hot, emd_labels, depth=1)"
   ]
  },
  {
   "cell_type": "markdown",
   "metadata": {
    "heading_collapsed": true
   },
   "source": [
    "# Text-based classification"
   ]
  },
  {
   "cell_type": "markdown",
   "metadata": {
    "hidden": true
   },
   "source": [
    "## PAN19"
   ]
  },
  {
   "cell_type": "code",
   "execution_count": 30,
   "metadata": {
    "ExecuteTime": {
     "end_time": "2022-05-25T13:36:12.824810Z",
     "start_time": "2022-05-25T13:36:07.295376Z"
    },
    "hidden": true
   },
   "outputs": [],
   "source": [
    "def get_tweets_xml(path):\n",
    "    with open(path) as xmlfile:\n",
    "        tree = ET.parse(xmlfile)\n",
    "        tweets = (document.text for document in tree.getroot()[0])\n",
    "        tweets_joined = \" \".join(tweets)\n",
    "        return tweets_joined\n",
    "    \n",
    "def get_labels(path):\n",
    "    d = dict()\n",
    "    with open(path) as file:\n",
    "        for line in file:\n",
    "            labels = line.split(\":::\")\n",
    "            d[labels[0]] = 1 if labels[1] == 'bot' else 0\n",
    "    return pd.DataFrame.from_dict(d, orient='index', columns=['label'])\n",
    "\n",
    "def get_tweets_pan19(index):\n",
    "    d = {ind : get_tweets_xml(PROJ_PATH + f\"/data/pan19/pan19-author-profiling-training-2019-02-18/en/{ind}.xml\") for ind in index}\n",
    "    return pd.DataFrame.from_dict(d, orient='index', columns=['tweets'])\n",
    "        \n",
    "# Get dataframe of labels and tweets\n",
    "pan19_labels = get_labels(PROJ_PATH + \"/data/pan19/pan19-author-profiling-training-2019-02-18/en/truth.txt\")\n",
    "pan19_tweets = get_tweets_pan19(pan19_labels.index)\n",
    "# Get count vectorizer df\n",
    "pan19_cv = CountVectorizer(stop_words='english') \n",
    "pan19_cv_matrix = pan19_cv.fit_transform(pan19_tweets['tweets']) \n",
    "pan19_cv_df = pd.DataFrame(pan19_cv_matrix.toarray(), index=pan19_tweets.index, columns=pan19_cv.get_feature_names())"
   ]
  },
  {
   "cell_type": "code",
   "execution_count": 31,
   "metadata": {
    "ExecuteTime": {
     "start_time": "2022-05-25T13:36:13.572Z"
    },
    "hidden": true
   },
   "outputs": [
    {
     "name": "stdout",
     "output_type": "stream",
     "text": [
      "|--- rt <= 1.50\n",
      "|   |--- webinar <= 0.50\n",
      "|   |   |--- merci <= 0.50\n",
      "|   |   |   |--- weights: [59.00, 1720.00] class: 1\n",
      "|   |   |--- merci >  0.50\n",
      "|   |   |   |--- weights: [13.00, 0.00] class: 0\n",
      "|   |--- webinar >  0.50\n",
      "|   |   |--- iii <= 0.50\n",
      "|   |   |   |--- weights: [28.00, 0.00] class: 0\n",
      "|   |   |--- iii >  0.50\n",
      "|   |   |   |--- weights: [0.00, 2.00] class: 1\n",
      "|--- rt >  1.50\n",
      "|   |--- rt <= 99.50\n",
      "|   |   |--- https <= 1.50\n",
      "|   |   |   |--- weights: [102.00, 114.00] class: 1\n",
      "|   |   |--- https >  1.50\n",
      "|   |   |   |--- weights: [1854.00, 154.00] class: 0\n",
      "|   |--- rt >  99.50\n",
      "|   |   |--- struggling <= 0.50\n",
      "|   |   |   |--- weights: [1.00, 69.00] class: 1\n",
      "|   |   |--- struggling >  0.50\n",
      "|   |   |   |--- weights: [3.00, 1.00] class: 0\n",
      "\n",
      "Accuracy: 0.9230582524271844\n",
      "Precision 0.9216255442670537\n",
      "Recall: 0.9247572815533981\n",
      "F1: 0.9231887569663194\n"
     ]
    },
    {
     "data": {
      "text/plain": [
       "(DecisionTreeClassifier(max_depth=3),\n",
       " 0.9230582524271844,\n",
       " 0.9216255442670537,\n",
       " 0.9247572815533981,\n",
       " 0.9231887569663194)"
      ]
     },
     "execution_count": 31,
     "metadata": {},
     "output_type": "execute_result"
    }
   ],
   "source": [
    "fit_and_score(pan19_cv_df.loc[pan19_labels.index].drop(['tweets', 'label'], axis=1), pan19_labels, depth=3)"
   ]
  },
  {
   "cell_type": "code",
   "execution_count": 32,
   "metadata": {},
   "outputs": [
    {
     "ename": "KeyboardInterrupt",
     "evalue": "",
     "output_type": "error",
     "traceback": [
      "\u001b[0;31m---------------------------------------------------------------------------\u001b[0m",
      "\u001b[0;31mKeyboardInterrupt\u001b[0m                         Traceback (most recent call last)",
      "\u001b[0;32m<ipython-input-32-4a7de8a8df71>\u001b[0m in \u001b[0;36m<module>\u001b[0;34m\u001b[0m\n\u001b[0;32m----> 1\u001b[0;31m \u001b[0mplot_metrics\u001b[0m\u001b[0;34m(\u001b[0m\u001b[0mpan19_cv_df\u001b[0m\u001b[0;34m.\u001b[0m\u001b[0mloc\u001b[0m\u001b[0;34m[\u001b[0m\u001b[0mpan19_labels\u001b[0m\u001b[0;34m.\u001b[0m\u001b[0mindex\u001b[0m\u001b[0;34m]\u001b[0m\u001b[0;34m.\u001b[0m\u001b[0mdrop\u001b[0m\u001b[0;34m(\u001b[0m\u001b[0;34m[\u001b[0m\u001b[0;34m'tweets'\u001b[0m\u001b[0;34m,\u001b[0m \u001b[0;34m'label'\u001b[0m\u001b[0;34m]\u001b[0m\u001b[0;34m,\u001b[0m \u001b[0maxis\u001b[0m\u001b[0;34m=\u001b[0m\u001b[0;36m1\u001b[0m\u001b[0;34m)\u001b[0m\u001b[0;34m,\u001b[0m \u001b[0mpan19_labels\u001b[0m\u001b[0;34m)\u001b[0m\u001b[0;34m\u001b[0m\u001b[0;34m\u001b[0m\u001b[0m\n\u001b[0m",
      "\u001b[0;32m<ipython-input-2-f090a3db1366>\u001b[0m in \u001b[0;36mplot_metrics\u001b[0;34m(one_hot, labels, soa_accuracy, soa_precision, soa_recall)\u001b[0m\n\u001b[1;32m    154\u001b[0m     \u001b[0;34m\"\"\" Plot accuracy, precision and recall for different numbers of features. \"\"\"\u001b[0m\u001b[0;34m\u001b[0m\u001b[0;34m\u001b[0m\u001b[0m\n\u001b[1;32m    155\u001b[0m     \u001b[0mrng\u001b[0m \u001b[0;34m=\u001b[0m \u001b[0mrange\u001b[0m\u001b[0;34m(\u001b[0m\u001b[0;36m1\u001b[0m\u001b[0;34m,\u001b[0m\u001b[0;36m6\u001b[0m\u001b[0;34m)\u001b[0m\u001b[0;34m\u001b[0m\u001b[0;34m\u001b[0m\u001b[0m\n\u001b[0;32m--> 156\u001b[0;31m     \u001b[0mmodels\u001b[0m \u001b[0;34m=\u001b[0m \u001b[0;34m[\u001b[0m\u001b[0mfit_and_score\u001b[0m\u001b[0;34m(\u001b[0m\u001b[0mone_hot\u001b[0m\u001b[0;34m,\u001b[0m \u001b[0mlabels\u001b[0m\u001b[0;34m,\u001b[0m \u001b[0mdepth\u001b[0m\u001b[0;34m=\u001b[0m\u001b[0mi\u001b[0m\u001b[0;34m,\u001b[0m \u001b[0msilent\u001b[0m\u001b[0;34m=\u001b[0m\u001b[0;32mTrue\u001b[0m\u001b[0;34m)\u001b[0m \u001b[0;32mfor\u001b[0m \u001b[0mi\u001b[0m \u001b[0;32min\u001b[0m \u001b[0mrng\u001b[0m\u001b[0;34m]\u001b[0m\u001b[0;34m\u001b[0m\u001b[0;34m\u001b[0m\u001b[0m\n\u001b[0m\u001b[1;32m    157\u001b[0m     \u001b[0mclfs\u001b[0m\u001b[0;34m,\u001b[0m \u001b[0maccuracies\u001b[0m\u001b[0;34m,\u001b[0m \u001b[0mprecisions\u001b[0m\u001b[0;34m,\u001b[0m \u001b[0mrecalls\u001b[0m\u001b[0;34m,\u001b[0m \u001b[0mf1s\u001b[0m \u001b[0;34m=\u001b[0m \u001b[0mzip\u001b[0m\u001b[0;34m(\u001b[0m\u001b[0;34m*\u001b[0m\u001b[0mmodels\u001b[0m\u001b[0;34m)\u001b[0m\u001b[0;34m\u001b[0m\u001b[0;34m\u001b[0m\u001b[0m\n\u001b[1;32m    158\u001b[0m     \u001b[0mfig\u001b[0m\u001b[0;34m,\u001b[0m \u001b[0max\u001b[0m \u001b[0;34m=\u001b[0m \u001b[0mplt\u001b[0m\u001b[0;34m.\u001b[0m\u001b[0msubplots\u001b[0m\u001b[0;34m(\u001b[0m\u001b[0mfigsize\u001b[0m\u001b[0;34m=\u001b[0m\u001b[0;34m(\u001b[0m\u001b[0;36m7\u001b[0m\u001b[0;34m,\u001b[0m\u001b[0;36m4\u001b[0m\u001b[0;34m)\u001b[0m\u001b[0;34m)\u001b[0m\u001b[0;34m\u001b[0m\u001b[0;34m\u001b[0m\u001b[0m\n",
      "\u001b[0;32m<ipython-input-2-f090a3db1366>\u001b[0m in \u001b[0;36m<listcomp>\u001b[0;34m(.0)\u001b[0m\n\u001b[1;32m    154\u001b[0m     \u001b[0;34m\"\"\" Plot accuracy, precision and recall for different numbers of features. \"\"\"\u001b[0m\u001b[0;34m\u001b[0m\u001b[0;34m\u001b[0m\u001b[0m\n\u001b[1;32m    155\u001b[0m     \u001b[0mrng\u001b[0m \u001b[0;34m=\u001b[0m \u001b[0mrange\u001b[0m\u001b[0;34m(\u001b[0m\u001b[0;36m1\u001b[0m\u001b[0;34m,\u001b[0m\u001b[0;36m6\u001b[0m\u001b[0;34m)\u001b[0m\u001b[0;34m\u001b[0m\u001b[0;34m\u001b[0m\u001b[0m\n\u001b[0;32m--> 156\u001b[0;31m     \u001b[0mmodels\u001b[0m \u001b[0;34m=\u001b[0m \u001b[0;34m[\u001b[0m\u001b[0mfit_and_score\u001b[0m\u001b[0;34m(\u001b[0m\u001b[0mone_hot\u001b[0m\u001b[0;34m,\u001b[0m \u001b[0mlabels\u001b[0m\u001b[0;34m,\u001b[0m \u001b[0mdepth\u001b[0m\u001b[0;34m=\u001b[0m\u001b[0mi\u001b[0m\u001b[0;34m,\u001b[0m \u001b[0msilent\u001b[0m\u001b[0;34m=\u001b[0m\u001b[0;32mTrue\u001b[0m\u001b[0;34m)\u001b[0m \u001b[0;32mfor\u001b[0m \u001b[0mi\u001b[0m \u001b[0;32min\u001b[0m \u001b[0mrng\u001b[0m\u001b[0;34m]\u001b[0m\u001b[0;34m\u001b[0m\u001b[0;34m\u001b[0m\u001b[0m\n\u001b[0m\u001b[1;32m    157\u001b[0m     \u001b[0mclfs\u001b[0m\u001b[0;34m,\u001b[0m \u001b[0maccuracies\u001b[0m\u001b[0;34m,\u001b[0m \u001b[0mprecisions\u001b[0m\u001b[0;34m,\u001b[0m \u001b[0mrecalls\u001b[0m\u001b[0;34m,\u001b[0m \u001b[0mf1s\u001b[0m \u001b[0;34m=\u001b[0m \u001b[0mzip\u001b[0m\u001b[0;34m(\u001b[0m\u001b[0;34m*\u001b[0m\u001b[0mmodels\u001b[0m\u001b[0;34m)\u001b[0m\u001b[0;34m\u001b[0m\u001b[0;34m\u001b[0m\u001b[0m\n\u001b[1;32m    158\u001b[0m     \u001b[0mfig\u001b[0m\u001b[0;34m,\u001b[0m \u001b[0max\u001b[0m \u001b[0;34m=\u001b[0m \u001b[0mplt\u001b[0m\u001b[0;34m.\u001b[0m\u001b[0msubplots\u001b[0m\u001b[0;34m(\u001b[0m\u001b[0mfigsize\u001b[0m\u001b[0;34m=\u001b[0m\u001b[0;34m(\u001b[0m\u001b[0;36m7\u001b[0m\u001b[0;34m,\u001b[0m\u001b[0;36m4\u001b[0m\u001b[0;34m)\u001b[0m\u001b[0;34m)\u001b[0m\u001b[0;34m\u001b[0m\u001b[0;34m\u001b[0m\u001b[0m\n",
      "\u001b[0;32m<ipython-input-2-f090a3db1366>\u001b[0m in \u001b[0;36mfit_and_score\u001b[0;34m(X, y, method, depth, silent)\u001b[0m\n\u001b[1;32m     79\u001b[0m     \"\"\"\n\u001b[1;32m     80\u001b[0m     \u001b[0mclf\u001b[0m \u001b[0;34m=\u001b[0m \u001b[0mfit\u001b[0m\u001b[0;34m(\u001b[0m\u001b[0mX\u001b[0m\u001b[0;34m,\u001b[0m \u001b[0my\u001b[0m\u001b[0;34m,\u001b[0m \u001b[0mmethod\u001b[0m\u001b[0;34m,\u001b[0m \u001b[0mdepth\u001b[0m\u001b[0;34m)\u001b[0m\u001b[0;34m\u001b[0m\u001b[0;34m\u001b[0m\u001b[0m\n\u001b[0;32m---> 81\u001b[0;31m     \u001b[0maccuracy\u001b[0m\u001b[0;34m,\u001b[0m \u001b[0mprecision\u001b[0m\u001b[0;34m,\u001b[0m \u001b[0mrecall\u001b[0m\u001b[0;34m,\u001b[0m \u001b[0mf1\u001b[0m \u001b[0;34m=\u001b[0m \u001b[0mscore\u001b[0m\u001b[0;34m(\u001b[0m\u001b[0mclf\u001b[0m\u001b[0;34m,\u001b[0m \u001b[0mX\u001b[0m\u001b[0;34m,\u001b[0m \u001b[0my\u001b[0m\u001b[0;34m,\u001b[0m \u001b[0mmethod\u001b[0m\u001b[0;34m,\u001b[0m \u001b[0msilent\u001b[0m\u001b[0;34m)\u001b[0m\u001b[0;34m\u001b[0m\u001b[0;34m\u001b[0m\u001b[0m\n\u001b[0m\u001b[1;32m     82\u001b[0m     \u001b[0;32mreturn\u001b[0m \u001b[0mclf\u001b[0m\u001b[0;34m,\u001b[0m \u001b[0maccuracy\u001b[0m\u001b[0;34m,\u001b[0m \u001b[0mprecision\u001b[0m\u001b[0;34m,\u001b[0m \u001b[0mrecall\u001b[0m\u001b[0;34m,\u001b[0m \u001b[0mf1\u001b[0m\u001b[0;34m\u001b[0m\u001b[0;34m\u001b[0m\u001b[0m\n\u001b[1;32m     83\u001b[0m \u001b[0;34m\u001b[0m\u001b[0m\n",
      "\u001b[0;32m<ipython-input-2-f090a3db1366>\u001b[0m in \u001b[0;36mscore\u001b[0;34m(clf, X, y, method, silent)\u001b[0m\n\u001b[1;32m     62\u001b[0m         \u001b[0mprint\u001b[0m\u001b[0;34m(\u001b[0m\u001b[0mr\u001b[0m\u001b[0;34m)\u001b[0m\u001b[0;34m\u001b[0m\u001b[0;34m\u001b[0m\u001b[0m\n\u001b[1;32m     63\u001b[0m     \u001b[0maccuracy\u001b[0m \u001b[0;34m=\u001b[0m \u001b[0mclf\u001b[0m\u001b[0;34m.\u001b[0m\u001b[0mscore\u001b[0m\u001b[0;34m(\u001b[0m\u001b[0mX\u001b[0m\u001b[0;34m,\u001b[0m \u001b[0my\u001b[0m\u001b[0;34m)\u001b[0m\u001b[0;34m\u001b[0m\u001b[0;34m\u001b[0m\u001b[0m\n\u001b[0;32m---> 64\u001b[0;31m     \u001b[0mpreds\u001b[0m \u001b[0;34m=\u001b[0m \u001b[0mclf\u001b[0m\u001b[0;34m.\u001b[0m\u001b[0mpredict\u001b[0m\u001b[0;34m(\u001b[0m\u001b[0mX\u001b[0m\u001b[0;34m)\u001b[0m\u001b[0;34m\u001b[0m\u001b[0;34m\u001b[0m\u001b[0m\n\u001b[0m\u001b[1;32m     65\u001b[0m     \u001b[0mprecision\u001b[0m \u001b[0;34m=\u001b[0m \u001b[0mprecision_score\u001b[0m\u001b[0;34m(\u001b[0m\u001b[0my\u001b[0m\u001b[0;34m,\u001b[0m \u001b[0mpreds\u001b[0m\u001b[0;34m)\u001b[0m\u001b[0;34m\u001b[0m\u001b[0;34m\u001b[0m\u001b[0m\n\u001b[1;32m     66\u001b[0m     \u001b[0mrecall\u001b[0m \u001b[0;34m=\u001b[0m \u001b[0mrecall_score\u001b[0m\u001b[0;34m(\u001b[0m\u001b[0my\u001b[0m\u001b[0;34m,\u001b[0m \u001b[0mpreds\u001b[0m\u001b[0;34m)\u001b[0m\u001b[0;34m\u001b[0m\u001b[0;34m\u001b[0m\u001b[0m\n",
      "\u001b[0;32m/home/software/anaconda3/2020.11/lib/python3.8/site-packages/sklearn/tree/_classes.py\u001b[0m in \u001b[0;36mpredict\u001b[0;34m(self, X, check_input)\u001b[0m\n\u001b[1;32m    425\u001b[0m         \"\"\"\n\u001b[1;32m    426\u001b[0m         \u001b[0mcheck_is_fitted\u001b[0m\u001b[0;34m(\u001b[0m\u001b[0mself\u001b[0m\u001b[0;34m)\u001b[0m\u001b[0;34m\u001b[0m\u001b[0;34m\u001b[0m\u001b[0m\n\u001b[0;32m--> 427\u001b[0;31m         \u001b[0mX\u001b[0m \u001b[0;34m=\u001b[0m \u001b[0mself\u001b[0m\u001b[0;34m.\u001b[0m\u001b[0m_validate_X_predict\u001b[0m\u001b[0;34m(\u001b[0m\u001b[0mX\u001b[0m\u001b[0;34m,\u001b[0m \u001b[0mcheck_input\u001b[0m\u001b[0;34m)\u001b[0m\u001b[0;34m\u001b[0m\u001b[0;34m\u001b[0m\u001b[0m\n\u001b[0m\u001b[1;32m    428\u001b[0m         \u001b[0mproba\u001b[0m \u001b[0;34m=\u001b[0m \u001b[0mself\u001b[0m\u001b[0;34m.\u001b[0m\u001b[0mtree_\u001b[0m\u001b[0;34m.\u001b[0m\u001b[0mpredict\u001b[0m\u001b[0;34m(\u001b[0m\u001b[0mX\u001b[0m\u001b[0;34m)\u001b[0m\u001b[0;34m\u001b[0m\u001b[0;34m\u001b[0m\u001b[0m\n\u001b[1;32m    429\u001b[0m         \u001b[0mn_samples\u001b[0m \u001b[0;34m=\u001b[0m \u001b[0mX\u001b[0m\u001b[0;34m.\u001b[0m\u001b[0mshape\u001b[0m\u001b[0;34m[\u001b[0m\u001b[0;36m0\u001b[0m\u001b[0;34m]\u001b[0m\u001b[0;34m\u001b[0m\u001b[0;34m\u001b[0m\u001b[0m\n",
      "\u001b[0;32m/home/software/anaconda3/2020.11/lib/python3.8/site-packages/sklearn/tree/_classes.py\u001b[0m in \u001b[0;36m_validate_X_predict\u001b[0;34m(self, X, check_input)\u001b[0m\n\u001b[1;32m    386\u001b[0m         \u001b[0;34m\"\"\"Validate X whenever one tries to predict, apply, predict_proba\"\"\"\u001b[0m\u001b[0;34m\u001b[0m\u001b[0;34m\u001b[0m\u001b[0m\n\u001b[1;32m    387\u001b[0m         \u001b[0;32mif\u001b[0m \u001b[0mcheck_input\u001b[0m\u001b[0;34m:\u001b[0m\u001b[0;34m\u001b[0m\u001b[0;34m\u001b[0m\u001b[0m\n\u001b[0;32m--> 388\u001b[0;31m             \u001b[0mX\u001b[0m \u001b[0;34m=\u001b[0m \u001b[0mcheck_array\u001b[0m\u001b[0;34m(\u001b[0m\u001b[0mX\u001b[0m\u001b[0;34m,\u001b[0m \u001b[0mdtype\u001b[0m\u001b[0;34m=\u001b[0m\u001b[0mDTYPE\u001b[0m\u001b[0;34m,\u001b[0m \u001b[0maccept_sparse\u001b[0m\u001b[0;34m=\u001b[0m\u001b[0;34m\"csr\"\u001b[0m\u001b[0;34m)\u001b[0m\u001b[0;34m\u001b[0m\u001b[0;34m\u001b[0m\u001b[0m\n\u001b[0m\u001b[1;32m    389\u001b[0m             if issparse(X) and (X.indices.dtype != np.intc or\n\u001b[1;32m    390\u001b[0m                                 X.indptr.dtype != np.intc):\n",
      "\u001b[0;32m/home/software/anaconda3/2020.11/lib/python3.8/site-packages/sklearn/utils/validation.py\u001b[0m in \u001b[0;36minner_f\u001b[0;34m(*args, **kwargs)\u001b[0m\n\u001b[1;32m     70\u001b[0m                           FutureWarning)\n\u001b[1;32m     71\u001b[0m         \u001b[0mkwargs\u001b[0m\u001b[0;34m.\u001b[0m\u001b[0mupdate\u001b[0m\u001b[0;34m(\u001b[0m\u001b[0;34m{\u001b[0m\u001b[0mk\u001b[0m\u001b[0;34m:\u001b[0m \u001b[0marg\u001b[0m \u001b[0;32mfor\u001b[0m \u001b[0mk\u001b[0m\u001b[0;34m,\u001b[0m \u001b[0marg\u001b[0m \u001b[0;32min\u001b[0m \u001b[0mzip\u001b[0m\u001b[0;34m(\u001b[0m\u001b[0msig\u001b[0m\u001b[0;34m.\u001b[0m\u001b[0mparameters\u001b[0m\u001b[0;34m,\u001b[0m \u001b[0margs\u001b[0m\u001b[0;34m)\u001b[0m\u001b[0;34m}\u001b[0m\u001b[0;34m)\u001b[0m\u001b[0;34m\u001b[0m\u001b[0;34m\u001b[0m\u001b[0m\n\u001b[0;32m---> 72\u001b[0;31m         \u001b[0;32mreturn\u001b[0m \u001b[0mf\u001b[0m\u001b[0;34m(\u001b[0m\u001b[0;34m**\u001b[0m\u001b[0mkwargs\u001b[0m\u001b[0;34m)\u001b[0m\u001b[0;34m\u001b[0m\u001b[0;34m\u001b[0m\u001b[0m\n\u001b[0m\u001b[1;32m     73\u001b[0m     \u001b[0;32mreturn\u001b[0m \u001b[0minner_f\u001b[0m\u001b[0;34m\u001b[0m\u001b[0;34m\u001b[0m\u001b[0m\n\u001b[1;32m     74\u001b[0m \u001b[0;34m\u001b[0m\u001b[0m\n",
      "\u001b[0;32m/home/software/anaconda3/2020.11/lib/python3.8/site-packages/sklearn/utils/validation.py\u001b[0m in \u001b[0;36mcheck_array\u001b[0;34m(array, accept_sparse, accept_large_sparse, dtype, order, copy, force_all_finite, ensure_2d, allow_nd, ensure_min_samples, ensure_min_features, estimator)\u001b[0m\n\u001b[1;32m    516\u001b[0m             \u001b[0;32mif\u001b[0m \u001b[0mdtype_iter\u001b[0m\u001b[0;34m.\u001b[0m\u001b[0mkind\u001b[0m \u001b[0;34m==\u001b[0m \u001b[0;34m'b'\u001b[0m\u001b[0;34m:\u001b[0m\u001b[0;34m\u001b[0m\u001b[0;34m\u001b[0m\u001b[0m\n\u001b[1;32m    517\u001b[0m                 \u001b[0mdtypes_orig\u001b[0m\u001b[0;34m[\u001b[0m\u001b[0mi\u001b[0m\u001b[0;34m]\u001b[0m \u001b[0;34m=\u001b[0m \u001b[0mnp\u001b[0m\u001b[0;34m.\u001b[0m\u001b[0mdtype\u001b[0m\u001b[0;34m(\u001b[0m\u001b[0mnp\u001b[0m\u001b[0;34m.\u001b[0m\u001b[0mobject\u001b[0m\u001b[0;34m)\u001b[0m\u001b[0;34m\u001b[0m\u001b[0;34m\u001b[0m\u001b[0m\n\u001b[0;32m--> 518\u001b[0;31m             \u001b[0;32melif\u001b[0m \u001b[0mdtype_iter\u001b[0m\u001b[0;34m.\u001b[0m\u001b[0mname\u001b[0m\u001b[0;34m.\u001b[0m\u001b[0mstartswith\u001b[0m\u001b[0;34m(\u001b[0m\u001b[0;34m(\u001b[0m\u001b[0;34m\"Int\"\u001b[0m\u001b[0;34m,\u001b[0m \u001b[0;34m\"UInt\"\u001b[0m\u001b[0;34m)\u001b[0m\u001b[0;34m)\u001b[0m\u001b[0;34m:\u001b[0m\u001b[0;34m\u001b[0m\u001b[0;34m\u001b[0m\u001b[0m\n\u001b[0m\u001b[1;32m    519\u001b[0m                 \u001b[0;31m# name looks like an Integer Extension Array, now check for\u001b[0m\u001b[0;34m\u001b[0m\u001b[0;34m\u001b[0m\u001b[0;34m\u001b[0m\u001b[0m\n\u001b[1;32m    520\u001b[0m                 \u001b[0;31m# the dtype\u001b[0m\u001b[0;34m\u001b[0m\u001b[0;34m\u001b[0m\u001b[0;34m\u001b[0m\u001b[0m\n",
      "\u001b[0;31mKeyboardInterrupt\u001b[0m: "
     ]
    }
   ],
   "source": [
    "plot_metrics(pan19_cv_df.loc[pan19_labels.index].drop(['tweets', 'label'], axis=1), pan19_labels)"
   ]
  },
  {
   "cell_type": "markdown",
   "metadata": {},
   "source": [
    "## cresci-2017"
   ]
  },
  {
   "cell_type": "code",
   "execution_count": 4,
   "metadata": {},
   "outputs": [
    {
     "name": "stderr",
     "output_type": "stream",
     "text": [
      "<ipython-input-4-9fbcf55adced>:13: DtypeWarning: Columns (8,11) have mixed types. Specify dtype option on import or set low_memory=False.\n",
      "  df = pd.read_csv(PROJ_PATH + f\"/data/cresci-2017/{name}.csv/tweets.csv\", encoding='latin-1')\n"
     ]
    },
    {
     "name": "stdout",
     "output_type": "stream",
     "text": [
      "fake_followers 3202\n"
     ]
    },
    {
     "name": "stderr",
     "output_type": "stream",
     "text": [
      "<ipython-input-4-9fbcf55adced>:13: DtypeWarning: Columns (0) have mixed types. Specify dtype option on import or set low_memory=False.\n",
      "  df = pd.read_csv(PROJ_PATH + f\"/data/cresci-2017/{name}.csv/tweets.csv\", encoding='latin-1')\n"
     ]
    },
    {
     "name": "stdout",
     "output_type": "stream",
     "text": [
      "genuine_accounts 1083\n"
     ]
    },
    {
     "name": "stderr",
     "output_type": "stream",
     "text": [
      "<ipython-input-4-9fbcf55adced>:13: DtypeWarning: Columns (10) have mixed types. Specify dtype option on import or set low_memory=False.\n",
      "  df = pd.read_csv(PROJ_PATH + f\"/data/cresci-2017/{name}.csv/tweets.csv\", encoding='latin-1')\n"
     ]
    },
    {
     "name": "stdout",
     "output_type": "stream",
     "text": [
      "social_spambots_1 991\n"
     ]
    },
    {
     "name": "stderr",
     "output_type": "stream",
     "text": [
      "<ipython-input-4-9fbcf55adced>:13: DtypeWarning: Columns (10) have mixed types. Specify dtype option on import or set low_memory=False.\n",
      "  df = pd.read_csv(PROJ_PATH + f\"/data/cresci-2017/{name}.csv/tweets.csv\", encoding='latin-1')\n"
     ]
    },
    {
     "name": "stdout",
     "output_type": "stream",
     "text": [
      "social_spambots_2 3457\n"
     ]
    },
    {
     "name": "stderr",
     "output_type": "stream",
     "text": [
      "<ipython-input-4-9fbcf55adced>:13: DtypeWarning: Columns (7,10) have mixed types. Specify dtype option on import or set low_memory=False.\n",
      "  df = pd.read_csv(PROJ_PATH + f\"/data/cresci-2017/{name}.csv/tweets.csv\", encoding='latin-1')\n"
     ]
    },
    {
     "name": "stdout",
     "output_type": "stream",
     "text": [
      "social_spambots_3 464\n",
      "traditional_spambots_1 1000\n"
     ]
    }
   ],
   "source": [
    "# Load in data\n",
    "folder_names = ['fake_followers', \n",
    " 'genuine_accounts', \n",
    " 'social_spambots_1', \n",
    " 'social_spambots_2', \n",
    " 'social_spambots_3', \n",
    " 'traditional_spambots_1']\n",
    "is_bot = [1, 0, 1, 1, 1, 1]\n",
    "tweets = []\n",
    "cresci2017_labels = []\n",
    "\n",
    "for name, ib in zip(folder_names, is_bot):\n",
    "    df = pd.read_csv(PROJ_PATH + f\"/data/cresci-2017/{name}.csv/tweets.csv\", encoding='latin-1')\n",
    "    df['text'] = df['text'].apply(lambda x: \"\" if isinstance(x, float) else x)\n",
    "    df_groups = df[['text', 'user_id']].groupby(['user_id'])\n",
    "    df_tweets = df_groups['text'].apply(lambda x: \" \".join(x))\n",
    "    tweets.append(df_tweets)\n",
    "    print(name, len(df_tweets))\n",
    "    cresci2017_labels.extend([ib]*len(df_tweets))\n",
    "    \n",
    "def format_time(dt):\n",
    "    try:\n",
    "        datetime.strptime(dt, \"%a %b %d %H:%M:%S %z %Y\").timestamp()\n",
    "    except:\n",
    "        print(dt)\n",
    "        \n",
    "cresci2017_tweets = pd.concat(tweets)"
   ]
  },
  {
   "cell_type": "code",
   "execution_count": 27,
   "metadata": {},
   "outputs": [
    {
     "name": "stderr",
     "output_type": "stream",
     "text": [
      "<ipython-input-27-d4030157cae8>:3: DtypeWarning: Columns (8,11) have mixed types. Specify dtype option on import or set low_memory=False.\n",
      "  df = pd.read_csv(PROJ_PATH + f\"/data/cresci-2017/{name}.csv/tweets.csv\", encoding='latin-1')\n"
     ]
    },
    {
     "name": "stdout",
     "output_type": "stream",
     "text": [
      "fake_followers 17\n"
     ]
    },
    {
     "name": "stderr",
     "output_type": "stream",
     "text": [
      "<ipython-input-27-d4030157cae8>:3: DtypeWarning: Columns (0) have mixed types. Specify dtype option on import or set low_memory=False.\n",
      "  df = pd.read_csv(PROJ_PATH + f\"/data/cresci-2017/{name}.csv/tweets.csv\", encoding='latin-1')\n"
     ]
    },
    {
     "name": "stdout",
     "output_type": "stream",
     "text": [
      "genuine_accounts 5081\n"
     ]
    },
    {
     "name": "stderr",
     "output_type": "stream",
     "text": [
      "<ipython-input-27-d4030157cae8>:3: DtypeWarning: Columns (10) have mixed types. Specify dtype option on import or set low_memory=False.\n",
      "  df = pd.read_csv(PROJ_PATH + f\"/data/cresci-2017/{name}.csv/tweets.csv\", encoding='latin-1')\n"
     ]
    },
    {
     "name": "stdout",
     "output_type": "stream",
     "text": [
      "social_spambots_1 2\n"
     ]
    },
    {
     "name": "stderr",
     "output_type": "stream",
     "text": [
      "<ipython-input-27-d4030157cae8>:3: DtypeWarning: Columns (10) have mixed types. Specify dtype option on import or set low_memory=False.\n",
      "  df = pd.read_csv(PROJ_PATH + f\"/data/cresci-2017/{name}.csv/tweets.csv\", encoding='latin-1')\n"
     ]
    },
    {
     "name": "stdout",
     "output_type": "stream",
     "text": [
      "social_spambots_2 9\n"
     ]
    },
    {
     "name": "stderr",
     "output_type": "stream",
     "text": [
      "<ipython-input-27-d4030157cae8>:3: DtypeWarning: Columns (7,10) have mixed types. Specify dtype option on import or set low_memory=False.\n",
      "  df = pd.read_csv(PROJ_PATH + f\"/data/cresci-2017/{name}.csv/tweets.csv\", encoding='latin-1')\n"
     ]
    },
    {
     "name": "stdout",
     "output_type": "stream",
     "text": [
      "social_spambots_3 6\n",
      "traditional_spambots_1 18\n"
     ]
    }
   ],
   "source": [
    "\n",
    "eqs = []\n",
    "for name, ib in zip(folder_names, is_bot):\n",
    "    df = pd.read_csv(PROJ_PATH + f\"/data/cresci-2017/{name}.csv/tweets.csv\", encoding='latin-1')\n",
    "    eq = df[[(isinstance(row, str)) and ('earthquake' in row) for row in df['text']]]\n",
    "    eqs.append(eq)\n",
    "    print(name, len(eq))\n",
    "    \n",
    "cresci2017 = pd.concat(eqs)"
   ]
  },
  {
   "cell_type": "code",
   "execution_count": 39,
   "metadata": {},
   "outputs": [
    {
     "data": {
      "text/plain": [
       "['Volcanes D. Light mag. 4.2 earthquake  - Crete, Greece on Sunday, 19 April 2015:  http://t.co/bpGRpKH9Qd',\n",
       " 'I felt no type of earthquake',\n",
       " \"RT @jonk: Bunch of us huddled in the middle of an intersection away from things we've seen fall. #Kathmandu #earthquake http://t.co/Homswcjâ\\x80¦\",\n",
       " 'Road buckle on Hwy 12, Napa, CA. #earthquake http://t.co/ogR5DXNPLL',\n",
       " 'RT @cctvnews: Pic:â\\x80\\x9dLoveâ\\x80\\x9d from above: victims of the 2013 Yaâ\\x80\\x98an earthquake give thanks to those who helped them rebuild. http://t.co/ZT1W0Glâ\\x80¦']"
      ]
     },
     "execution_count": 39,
     "metadata": {},
     "output_type": "execute_result"
    }
   ],
   "source": [
    "import random\n",
    "\n",
    "random.sample(list(cresci2017['text']), 5)"
   ]
  },
  {
   "cell_type": "code",
   "execution_count": 40,
   "metadata": {},
   "outputs": [],
   "source": [
    "# Get count vectorizer df\n",
    "cresci2017_cv = CountVectorizer(stop_words='english', min_df=5) \n",
    "cresci2017_cv_matrix = cresci2017_cv.fit_transform(cresci2017_tweets) "
   ]
  },
  {
   "cell_type": "code",
   "execution_count": 41,
   "metadata": {},
   "outputs": [],
   "source": [
    "cresci2017_cv_df = pd.DataFrame(cresci2017_cv_matrix.toarray(), index=cresci2017_tweets.index, columns=cresci2017_cv.get_feature_names())"
   ]
  },
  {
   "cell_type": "code",
   "execution_count": 46,
   "metadata": {},
   "outputs": [
    {
     "name": "stdout",
     "output_type": "stream",
     "text": [
      "|--- earthquake <= 0.50\n",
      "|   |--- https <= 30.50\n",
      "|   |   |--- weights: [27.00, 9054.00] class: 1\n",
      "|   |--- https >  30.50\n",
      "|   |   |--- weights: [61.00, 16.00] class: 0\n",
      "|--- earthquake >  0.50\n",
      "|   |--- https <= 0.50\n",
      "|   |   |--- weights: [39.00, 34.00] class: 0\n",
      "|   |--- https >  0.50\n",
      "|   |   |--- weights: [956.00, 10.00] class: 0\n",
      "\n",
      "In-sample accuracy: 0.9914680788467196\n",
      "In-sample precision score: 0.9970267591674926\n",
      "In-sample recall score: 0.9934167215273206\n",
      "In-sample F1 score: 0.9952184666117065\n"
     ]
    },
    {
     "data": {
      "text/plain": [
       "(DecisionTreeClassifier(max_depth=2),\n",
       " 0.9914680788467196,\n",
       " 0.9970267591674926,\n",
       " 0.9934167215273206,\n",
       " 0.9952184666117065)"
      ]
     },
     "execution_count": 46,
     "metadata": {},
     "output_type": "execute_result"
    }
   ],
   "source": [
    "fit_and_score(cresci2017_cv_df, cresci2017_labels, depth=2)"
   ]
  },
  {
   "cell_type": "code",
   "execution_count": 43,
   "metadata": {},
   "outputs": [
    {
     "data": {
      "image/png": "[encoded data removed]",
      "text/plain": [
       "<Figure size 504x288 with 1 Axes>"
      ]
     },
     "metadata": {
      "needs_background": "light"
     },
     "output_type": "display_data"
    }
   ],
   "source": [
    "plot_metrics(cresci2017_cv_df, cresci2017_labels)"
   ]
  },
  {
   "cell_type": "markdown",
   "metadata": {},
   "source": [
    "# Plotting performance of network stats on single plot"
   ]
  },
  {
   "cell_type": "code",
   "execution_count": 43,
   "metadata": {},
   "outputs": [],
   "source": [
    "names = [\n",
    "    \"twibot\", \n",
    "    \"botometer-feedback\", \n",
    "    \"rtbust\", \n",
    "    \"midterm-2018\", \n",
    "    \"gilani\", \n",
    "    \"cresci-2017\", \n",
    "    \"cresci-2015\", \n",
    "    \"caverlee-2011\"]\n",
    "scores = [twibot_scores,\n",
    "         botometer_feedback_scores,\n",
    "         rtbust_scores,\n",
    "         midterm2018_scores,\n",
    "         gilani_scores,\n",
    "         cresci2017_scores,\n",
    "         cresci2015_scores,\n",
    "         caverlee2011_scores]\n",
    "metric_names = ['Accuracy', 'Precision', 'Recall', 'F1']"
   ]
  },
  {
   "cell_type": "code",
   "execution_count": 49,
   "metadata": {},
   "outputs": [
    {
     "data": {
      "image/png": "[encoded data removed]",
      "text/plain": [
       "<Figure size 1440x360 with 4 Axes>"
      ]
     },
     "metadata": {
      "needs_background": "light"
     },
     "output_type": "display_data"
    }
   ],
   "source": [
    "fig, axes = plt.subplots(1,4, figsize=(20, 5))\n",
    "\n",
    "for i, metric_name in enumerate(metric_names):\n",
    "    for name, scr in zip(names, scores):\n",
    "        metric_i = [item[i]*100 for item in scr]\n",
    "        axes[i].plot(range(1,6), metric_i, label=name)\n",
    "    axes[i].set_ylabel(metric_name)\n",
    "    yticks = mtick.PercentFormatter(is_latex=True)\n",
    "    axes[i].yaxis.set_major_formatter(yticks)\n",
    "axes[3].legend()\n",
    "fig.text(0.5, 0.0, 'Model complexity (tree depth)', ha='center')\n",
    "fig.suptitle(\"Model performance of shallow decision trees relative to state-of-art as a function of tree depth\")\n",
    "fig.tight_layout()\n",
    "plt.show()"
   ]
  },
  {
   "cell_type": "code",
   "execution_count": null,
   "metadata": {},
   "outputs": [],
   "source": []
  }
 ],
 "metadata": {
  "kernelspec": {
   "display_name": "Python 3",
   "language": "python",
   "name": "python3"
  },
  "language_info": {
   "codemirror_mode": {
    "name": "ipython",
    "version": 3
   },
   "file_extension": ".py",
   "mimetype": "text/x-python",
   "name": "python",
   "nbconvert_exporter": "python",
   "pygments_lexer": "ipython3",
   "version": "3.8.5"
  }
 },
 "nbformat": 4,
 "nbformat_minor": 5
}
