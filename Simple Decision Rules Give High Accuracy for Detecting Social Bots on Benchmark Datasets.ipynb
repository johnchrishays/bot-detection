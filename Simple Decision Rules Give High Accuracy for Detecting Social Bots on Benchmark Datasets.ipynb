{
 "cells": [
  {
   "cell_type": "markdown",
   "metadata": {},
   "source": [
    "# Simple decision rules give high performance for detecting social bots on benchmark datasets\n",
    "\n",
    "Analysis of benchmark datasets for bot detection."
   ]
  },
  {
   "cell_type": "markdown",
   "metadata": {},
   "source": [
    "## Setup"
   ]
  },
  {
   "cell_type": "code",
   "execution_count": 2,
   "metadata": {
    "ExecuteTime": {
     "end_time": "2022-05-25T14:00:15.177464Z",
     "start_time": "2022-05-25T14:00:14.157695Z"
    }
   },
   "outputs": [],
   "source": [
    "import datetime\n",
    "# from functools import reduce\n",
    "# import json\n",
    "import numpy as np\n",
    "# import matplotlib.pyplot as plt\n",
    "# import matplotlib.ticker as mtick\n",
    "# from matplotlib.ticker import MaxNLocator\n",
    "import pandas as pd\n",
    "# import pyreadr\n",
    "# import random\n",
    "# from scipy.io import arff\n",
    "# from sklearn.decomposition import PCA\n",
    "# from sklearn.feature_extraction.text import CountVectorizer\n",
    "# from sklearn.model_selection import train_test_split\n",
    "# from sklearn.inspection import permutation_importance\n",
    "# from sklearn import tree, ensemble\n",
    "# from sklearn.tree import export_text\n",
    "# from sklearn.metrics import f1_score, recall_score, precision_score, accuracy_score\n",
    "# import time\n",
    "# import xml.etree.ElementTree as ET"
   ]
  },
  {
   "cell_type": "code",
   "execution_count": 3,
   "metadata": {},
   "outputs": [],
   "source": [
    "from data_accessor import load_twibot, load_bot_repo_dataset, load_cresci2017, load_cresci2015, load_caverlee, load_emd, load_pan19, load_cresci2017_tweets, load_cresci2015_tweets, load_midterm, load_gilani_derived_bands, load_yang, load_yang_tweets\n",
    "from preprocess import drop_and_one_hot, extract_users, load_json, preprocess_users, COLUMNS_TO_DROP, DUMMY_COLUMNS\n",
    "from fit_and_score import fit, score, fit_and_score, kfold_cv, analyze_bot_repo_dataset, analyze_bot_repo_dataset_full, train_test_fit_and_score, nonnumeric, mdi_feature_importance, permutation_feature_importance, plot_metrics, calculate_accuracy"
   ]
  },
  {
   "cell_type": "code",
   "execution_count": 4,
   "metadata": {
    "ExecuteTime": {
     "end_time": "2022-05-25T14:00:16.465779Z",
     "start_time": "2022-05-25T14:00:16.447264Z"
    }
   },
   "outputs": [],
   "source": [
    "PROJ_PATH = \"/nfs/sloanlab003/projects/bot_ensemble_proj/bot-detection\""
   ]
  },
  {
   "cell_type": "markdown",
   "metadata": {},
   "source": [
    "## Load datasets and calculate scores"
   ]
  },
  {
   "cell_type": "code",
   "execution_count": null,
   "metadata": {},
   "outputs": [
    {
     "name": "stdout",
     "output_type": "stream",
     "text": [
      "Starting kfold_cv at 1654628950.1885793\n",
      "Finished kfold_cv at 1654629004.339777. Execution time: 54.15119767189026 s\n",
      "Starting kfold_cv at 1654629004.3399405\n"
     ]
    }
   ],
   "source": [
    "yang_tweets, yang_labels = load_yang_tweets(PROJ_PATH + \"/data/yang-2013/\")\n",
    "yang_tweets_scores = analyze_bot_repo_dataset(yang_tweets, yang_labels)"
   ]
  },
  {
   "cell_type": "code",
   "execution_count": 4,
   "metadata": {},
   "outputs": [
    {
     "name": "stdout",
     "output_type": "stream",
     "text": [
      "Starting kfold_cv at 1654569296.6242614\n",
      "Finished kfold_cv at 1654569296.78486. Execution time: 0.1605985164642334 s\n",
      "Starting kfold_cv at 1654569296.7851017\n",
      "Finished kfold_cv at 1654569296.9043663. Execution time: 0.11926460266113281 s\n",
      "Starting kfold_cv at 1654569296.904673\n",
      "Finished kfold_cv at 1654569297.0297587. Execution time: 0.12508559226989746 s\n",
      "Starting kfold_cv at 1654569297.029978\n",
      "Finished kfold_cv at 1654569297.168235. Execution time: 0.13825702667236328 s\n",
      "Starting kfold_cv at 1654569297.1685503\n",
      "Finished kfold_cv at 1654569297.297276. Execution time: 0.12872576713562012 s\n",
      "Starting kfold_cv at 1654569297.3679843\n",
      "Finished kfold_cv at 1654569297.5121562. Execution time: 0.14417195320129395 s\n",
      "Starting kfold_cv at 1654569297.5122433\n",
      "Finished kfold_cv at 1654569297.617006. Execution time: 0.10476279258728027 s\n",
      "Starting kfold_cv at 1654569297.61706\n",
      "Finished kfold_cv at 1654569297.716559. Execution time: 0.09949898719787598 s\n",
      "Starting kfold_cv at 1654569297.71718\n",
      "Finished kfold_cv at 1654569297.8173976. Execution time: 0.10021758079528809 s\n",
      "Starting kfold_cv at 1654569297.8174515\n",
      "Finished kfold_cv at 1654569297.9313958. Execution time: 0.11394429206848145 s\n",
      "Starting kfold_cv at 1654569298.27713\n",
      "Finished kfold_cv at 1654569298.6950886. Execution time: 0.41795873641967773 s\n",
      "Starting kfold_cv at 1654569298.6955318\n",
      "Finished kfold_cv at 1654569299.1428893. Execution time: 0.4473574161529541 s\n",
      "Starting kfold_cv at 1654569299.1433253\n",
      "Finished kfold_cv at 1654569299.622127. Execution time: 0.4788017272949219 s\n",
      "Starting kfold_cv at 1654569299.622662\n",
      "Finished kfold_cv at 1654569300.1581218. Execution time: 0.5354597568511963 s\n",
      "Starting kfold_cv at 1654569300.158226\n",
      "Finished kfold_cv at 1654569300.761124. Execution time: 0.6028978824615479 s\n",
      "Starting kfold_cv at 1654569300.8614268\n",
      "Finished kfold_cv at 1654569300.9274821. Execution time: 0.0660552978515625 s\n",
      "Starting kfold_cv at 1654569300.9276907\n",
      "Finished kfold_cv at 1654569301.0362356. Execution time: 0.10854482650756836 s\n",
      "Starting kfold_cv at 1654569301.0363677\n",
      "Finished kfold_cv at 1654569301.1371055. Execution time: 0.1007378101348877 s\n",
      "Starting kfold_cv at 1654569301.1371639\n",
      "Finished kfold_cv at 1654569301.2612565. Execution time: 0.12409257888793945 s\n",
      "Starting kfold_cv at 1654569301.261609\n",
      "Finished kfold_cv at 1654569301.345358. Execution time: 0.08374881744384766 s\n",
      "Starting kfold_cv at 1654569301.3455718\n",
      "Finished kfold_cv at 1654569301.413791. Execution time: 0.06821918487548828 s\n",
      "Starting kfold_cv at 1654569301.4140058\n",
      "Finished kfold_cv at 1654569301.5159886. Execution time: 0.10198283195495605 s\n",
      "Starting kfold_cv at 1654569301.5161157\n",
      "Finished kfold_cv at 1654569301.6358197. Execution time: 0.11970400810241699 s\n",
      "Starting kfold_cv at 1654569301.6358783\n",
      "Finished kfold_cv at 1654569301.7709136. Execution time: 0.13503527641296387 s\n",
      "Starting kfold_cv at 1654569301.771256\n",
      "Finished kfold_cv at 1654569301.8622158. Execution time: 0.09095978736877441 s\n",
      "Starting kfold_cv at 1654569301.86257\n",
      "Finished kfold_cv at 1654569301.9630947. Execution time: 0.1005246639251709 s\n",
      "Starting kfold_cv at 1654569301.9631655\n",
      "Finished kfold_cv at 1654569302.0852442. Execution time: 0.12207865715026855 s\n",
      "Starting kfold_cv at 1654569302.0855935\n",
      "Finished kfold_cv at 1654569302.192718. Execution time: 0.10712456703186035 s\n",
      "Starting kfold_cv at 1654569302.1927845\n",
      "Finished kfold_cv at 1654569302.3017251. Execution time: 0.10894060134887695 s\n",
      "Starting kfold_cv at 1654569302.3020942\n",
      "Finished kfold_cv at 1654569302.3741417. Execution time: 0.07204747200012207 s\n",
      "Starting kfold_cv at 1654569302.374386\n",
      "Finished kfold_cv at 1654569302.4259646. Execution time: 0.051578521728515625 s\n",
      "Starting kfold_cv at 1654569302.4261835\n",
      "Finished kfold_cv at 1654569302.4774582. Execution time: 0.051274776458740234 s\n",
      "Starting kfold_cv at 1654569302.4776654\n",
      "Finished kfold_cv at 1654569302.5559585. Execution time: 0.0782930850982666 s\n",
      "Starting kfold_cv at 1654569302.5565658\n",
      "Finished kfold_cv at 1654569302.6276565. Execution time: 0.0710906982421875 s\n",
      "Starting kfold_cv at 1654569302.6278996\n",
      "Finished kfold_cv at 1654569302.6822324. Execution time: 0.054332733154296875 s\n",
      "Starting kfold_cv at 1654569303.1940582\n",
      "Finished kfold_cv at 1654569307.4541683. Execution time: 4.260110139846802 s\n",
      "Starting kfold_cv at 1654569307.4546633\n",
      "Finished kfold_cv at 1654569312.404076. Execution time: 4.949412822723389 s\n",
      "Starting kfold_cv at 1654569312.4046469\n",
      "Finished kfold_cv at 1654569317.924884. Execution time: 5.52023720741272 s\n",
      "Starting kfold_cv at 1654569317.9262776\n",
      "Finished kfold_cv at 1654569323.9591985. Execution time: 6.032920837402344 s\n",
      "Starting kfold_cv at 1654569323.9596667\n",
      "Finished kfold_cv at 1654569330.5011795. Execution time: 6.541512727737427 s\n",
      "Starting kfold_cv at 1654569330.8552158\n",
      "Finished kfold_cv at 1654569332.0467927. Execution time: 1.1915769577026367 s\n",
      "Starting kfold_cv at 1654569332.0472453\n",
      "Finished kfold_cv at 1654569333.4171495. Execution time: 1.3699042797088623 s\n",
      "Starting kfold_cv at 1654569333.417623\n",
      "Finished kfold_cv at 1654569334.911563. Execution time: 1.4939398765563965 s\n",
      "Starting kfold_cv at 1654569334.9120145\n",
      "Finished kfold_cv at 1654569336.5073273. Execution time: 1.5953128337860107 s\n",
      "Starting kfold_cv at 1654569336.5079627\n",
      "Finished kfold_cv at 1654569338.1962857. Execution time: 1.6883230209350586 s\n",
      "Starting kfold_cv at 1654569339.1574554\n",
      "Finished kfold_cv at 1654569339.636035. Execution time: 0.4785795211791992 s\n",
      "Starting kfold_cv at 1654569339.6363919\n",
      "Finished kfold_cv at 1654569340.0985851. Execution time: 0.46219325065612793 s\n",
      "Starting kfold_cv at 1654569340.0989184\n",
      "Finished kfold_cv at 1654569340.6130128. Execution time: 0.514094352722168 s\n",
      "Starting kfold_cv at 1654569340.6133544\n",
      "Finished kfold_cv at 1654569341.1870322. Execution time: 0.5736777782440186 s\n",
      "Starting kfold_cv at 1654569341.1873713\n",
      "Finished kfold_cv at 1654569341.8115804. Execution time: 0.6242091655731201 s\n"
     ]
    }
   ],
   "source": [
    "# Twibot\n",
    "twibot_df, twibot_one_hot, twibot_labels = load_twibot(PROJ_PATH + \"/data/Twibot-20/train.json\")\n",
    "twibot_test, twibot_one_hot_test, twibot_labels_test = load_twibot(PROJ_PATH + \"/data/Twibot-20/test.json\")\n",
    "#twibot_validate, twibot_one_hot_validate, twibot_labels_validate = load_twibot(PROJ_PATH + \"/data/Twibot-20/dev.json\")\n",
    "shared_columns = np.intersect1d(twibot_one_hot.columns, twibot_one_hot_test.columns) # Since we want to check on test set, just use common columns between train/test.\n",
    "twibot_scores = []\n",
    "for i in range(1, 6):\n",
    "    dt_clf = fit(twibot_one_hot[shared_columns], twibot_labels, depth=i)\n",
    "    scr = score(dt_clf, twibot_one_hot_test[shared_columns], twibot_labels_test, silent=True)\n",
    "    twibot_scores.append(scr)\n",
    "    \n",
    "# botometer-feedback\n",
    "bf, bf_one_hot, bf_labels = load_bot_repo_dataset(PROJ_PATH + \"/data/botometer-feedback-2019_tweets.json\", PROJ_PATH + \"/data/botometer-feedback-2019.tsv\")\n",
    "botometer_feedback_scores = analyze_bot_repo_dataset(bf_one_hot, bf_labels)\n",
    "\n",
    "#rtbust\n",
    "rtbust, rtbust_one_hot, rtbust_labels = load_bot_repo_dataset(PROJ_PATH + \"/data/cresci-rtbust-2019_tweets.json\", PROJ_PATH + \"/data/cresci-rtbust-2019.tsv\")\n",
    "rtbust_scores = analyze_bot_repo_dataset(rtbust_one_hot, rtbust_labels)\n",
    "\n",
    "#gilani-2017\n",
    "gilani, gilani_one_hot, gilani_labels = load_bot_repo_dataset(PROJ_PATH + \"/data/gilani-2017_tweets.json\", PROJ_PATH + \"/data/gilani-2017.tsv\")\n",
    "gilani_scores = analyze_bot_repo_dataset(gilani_one_hot, gilani_labels)\n",
    "\n",
    "#gilani-2017 with derived features from orginal paper\n",
    "gilani_derived_dfs, gilani_derived_labels = load_gilani_derived_bands(PROJ_PATH + f\"/data/gilani_derived/classification_processed/\")\n",
    "gilani_derived_scores = [analyze_bot_repo_dataset(gilani_derived_df, gilani_derived_label) for gilani_derived_df, gilani_derived_label in zip(gilani_derived_dfs, gilani_derived_labels)]\n",
    "\n",
    "#cresci-2017\n",
    "cresci2017, cresci2017_one_hot, cresci2017_labels = load_cresci2017(PROJ_PATH + \"/data/cresci-2017/{}.csv/users.csv\")\n",
    "cresci2017_scores = analyze_bot_repo_dataset(cresci2017_one_hot, cresci2017_labels)\n",
    "\n",
    "#cresci-2015\n",
    "cresci2015, cresci2015_one_hot, cresci2015_labels = load_cresci2015(PROJ_PATH + \"/data/cresci-2015/{}/users.csv\")\n",
    "cresci2015_scores = analyze_bot_repo_dataset(cresci2015_one_hot, cresci2015_labels)\n",
    "\n",
    "#caverlee-2011\n",
    "caverlee2011, caverlee2011_labels = load_caverlee(PROJ_PATH + \"/data/social_honeypot_icwsm_2011/\")\n",
    "caverlee2011_scores = analyze_bot_repo_dataset(caverlee2011, caverlee2011_labels)"
   ]
  },
  {
   "cell_type": "code",
   "execution_count": 7,
   "metadata": {},
   "outputs": [
    {
     "name": "stdout",
     "output_type": "stream",
     "text": [
      "Starting kfold_cv at 1654615852.3800583\n",
      "Finished kfold_cv at 1654615877.4664397. Execution time: 25.086381435394287 s\n",
      "Starting kfold_cv at 1654615877.466675\n",
      "Finished kfold_cv at 1654615907.444159. Execution time: 29.977483987808228 s\n",
      "Starting kfold_cv at 1654615907.44532\n",
      "Finished kfold_cv at 1654615941.5274572. Execution time: 34.0821373462677 s\n",
      "Starting kfold_cv at 1654615941.529127\n",
      "Finished kfold_cv at 1654615979.9663718. Execution time: 38.43724489212036 s\n",
      "Starting kfold_cv at 1654615979.9666023\n",
      "Finished kfold_cv at 1654616021.4285593. Execution time: 41.46195697784424 s\n"
     ]
    }
   ],
   "source": [
    "yang, yang_one_hot, yang_labels = load_yang(PROJ_PATH + \"/data/yang-2013/\")\n",
    "yang_scores = analyze_bot_repo_dataset(yang_one_hot, yang_labels)"
   ]
  },
  {
   "cell_type": "code",
   "execution_count": 4,
   "metadata": {},
   "outputs": [],
   "source": [
    "pan19_df, pan19_labels = load_pan19(PROJ_PATH + \"/data/pan19/pan19-author-profiling-training-2019-02-18/en/{}.xml\", PROJ_PATH + \"/data/pan19/pan19-author-profiling-training-2019-02-18/en/truth.txt\")\n",
    "pan19_scores = analyze_bot_repo_dataset(pan19_df, pan19_labels)"
   ]
  },
  {
   "cell_type": "code",
   "execution_count": null,
   "metadata": {},
   "outputs": [
    {
     "name": "stderr",
     "output_type": "stream",
     "text": [
      "/home/jhays/bot-detection/data_accessor.py:224: DtypeWarning: Columns (8,11) have mixed types. Specify dtype option on import or set low_memory=False.\n",
      "  df = pd.read_csv(data_path_template.format(name), encoding='latin-1')\n",
      "/home/jhays/bot-detection/data_accessor.py:224: DtypeWarning: Columns (0) have mixed types. Specify dtype option on import or set low_memory=False.\n",
      "  df = pd.read_csv(data_path_template.format(name), encoding='latin-1')\n",
      "/home/jhays/bot-detection/data_accessor.py:224: DtypeWarning: Columns (10) have mixed types. Specify dtype option on import or set low_memory=False.\n",
      "  df = pd.read_csv(data_path_template.format(name), encoding='latin-1')\n",
      "/home/jhays/bot-detection/data_accessor.py:224: DtypeWarning: Columns (10) have mixed types. Specify dtype option on import or set low_memory=False.\n",
      "  df = pd.read_csv(data_path_template.format(name), encoding='latin-1')\n",
      "/home/jhays/bot-detection/data_accessor.py:224: DtypeWarning: Columns (7,10) have mixed types. Specify dtype option on import or set low_memory=False.\n",
      "  df = pd.read_csv(data_path_template.format(name), encoding='latin-1')\n"
     ]
    }
   ],
   "source": [
    "cresci2017_tweets, cresci2017_labels = load_cresci2017_tweets(PROJ_PATH + \"/data/cresci-2017/{}.csv/tweets.csv\")\n",
    "cresci2017_tweets_scores = analyze_bot_repo_dataset(cresci2017_tweets, cresci2017_labels)"
   ]
  },
  {
   "cell_type": "code",
   "execution_count": 5,
   "metadata": {},
   "outputs": [
    {
     "name": "stderr",
     "output_type": "stream",
     "text": [
      "/home/jhays/bot-detection/data_accessor.py:255: DtypeWarning: Columns (8) have mixed types. Specify dtype option on import or set low_memory=False.\n",
      "  df = pd.read_csv(data_path_template.format(name), encoding='latin-1')\n"
     ]
    },
    {
     "name": "stdout",
     "output_type": "stream",
     "text": [
      "Starting kfold_cv at 1654626317.7949297\n",
      "Finished kfold_cv at 1654626370.664954. Execution time: 52.87002420425415 s\n",
      "Starting kfold_cv at 1654626370.665665\n",
      "Finished kfold_cv at 1654626451.4402087. Execution time: 80.77454376220703 s\n",
      "Starting kfold_cv at 1654626451.4409568\n",
      "Finished kfold_cv at 1654626543.3047235. Execution time: 91.86376667022705 s\n",
      "Starting kfold_cv at 1654626543.3054848\n",
      "Finished kfold_cv at 1654626647.666441. Execution time: 104.3609561920166 s\n",
      "Starting kfold_cv at 1654626647.6671922\n",
      "Finished kfold_cv at 1654626762.499904. Execution time: 114.83271169662476 s\n"
     ]
    }
   ],
   "source": [
    "cresci2015_tweets, cresci2015_labels = load_cresci2015_tweets(PROJ_PATH + \"/data/cresci-2015/{}/tweets.csv\")\n",
    "cresci2015_tweets_scores = analyze_bot_repo_dataset(cresci2015_tweets, cresci2015_labels)"
   ]
  },
  {
   "cell_type": "code",
   "execution_count": null,
   "metadata": {},
   "outputs": [],
   "source": [
    "midterm, midterm_one_hot, midterm_labels = load_midterm(PROJ_PATH + \"/data/midterm-2018/midterm-2018_processed_user_objects.json\", PROJ_PATH + \"/data/midterm-2018/midterm-2018.tsv\")\n",
    "midterm_scores = analyze_bot_repo_dataset(midterm_one_hot, midterm_labels)"
   ]
  },
  {
   "cell_type": "markdown",
   "metadata": {
    "heading_collapsed": true
   },
   "source": [
    "## varol-2017\n",
    "\n",
    "Bot repository only has account ids and labels. Reached out to http://sbp-brims.org/2021/papers/working-papers/2021_SBP-BRiMS_FinalPDF_57.pdf to get full data."
   ]
  },
  {
   "cell_type": "code",
   "execution_count": 67,
   "metadata": {},
   "outputs": [],
   "source": [
    "varol = np.loadtxt(PROJ_PATH + \"/data/gilani_derived/varol-2017.dat\", unpack=True)"
   ]
  },
  {
   "cell_type": "code",
   "execution_count": 68,
   "metadata": {},
   "outputs": [
    {
     "data": {
      "text/plain": [
       "array([[3.09842135e+09, 5.54067867e+08, 2.56597786e+08, ...,\n",
       "        3.52864520e+09, 3.39406006e+09, 1.68603364e+09],\n",
       "       [1.00000000e+00, 1.00000000e+00, 1.00000000e+00, ...,\n",
       "        0.00000000e+00, 0.00000000e+00, 0.00000000e+00]])"
      ]
     },
     "execution_count": 68,
     "metadata": {},
     "output_type": "execute_result"
    }
   ],
   "source": [
    "varol"
   ]
  },
  {
   "cell_type": "markdown",
   "metadata": {
    "heading_collapsed": true
   },
   "source": [
    "## Kaiser\n",
    "\n",
    "Only account ids and labels."
   ]
  },
  {
   "cell_type": "code",
   "execution_count": 33,
   "metadata": {
    "ExecuteTime": {
     "end_time": "2022-05-25T00:44:12.436346Z",
     "start_time": "2022-05-25T00:44:12.085174Z"
    },
    "hidden": true
   },
   "outputs": [],
   "source": [
    "kaiser = pyreadr.read_r(PROJ_PATH + '/data/kaiser/data_botometer.RData')['data_botometer']"
   ]
  },
  {
   "cell_type": "code",
   "execution_count": 34,
   "metadata": {
    "ExecuteTime": {
     "end_time": "2022-05-25T00:44:14.210355Z",
     "start_time": "2022-05-25T00:44:14.197245Z"
    },
    "hidden": true
   },
   "outputs": [
    {
     "data": {
      "text/html": [
       "<div>\n",
       "<style scoped>\n",
       "    .dataframe tbody tr th:only-of-type {\n",
       "        vertical-align: middle;\n",
       "    }\n",
       "\n",
       "    .dataframe tbody tr th {\n",
       "        vertical-align: top;\n",
       "    }\n",
       "\n",
       "    .dataframe thead th {\n",
       "        text-align: right;\n",
       "    }\n",
       "</style>\n",
       "<table border=\"1\" class=\"dataframe\">\n",
       "  <thead>\n",
       "    <tr style=\"text-align: right;\">\n",
       "      <th></th>\n",
       "      <th>user.id_str</th>\n",
       "      <th>date</th>\n",
       "      <th>type</th>\n",
       "      <th>cap.universal</th>\n",
       "      <th>scores.universal</th>\n",
       "    </tr>\n",
       "  </thead>\n",
       "  <tbody>\n",
       "    <tr>\n",
       "      <th>0</th>\n",
       "      <td>1073515275323097088</td>\n",
       "      <td>2019-03-03</td>\n",
       "      <td>bot</td>\n",
       "      <td>0.325413</td>\n",
       "      <td>0.724840</td>\n",
       "    </tr>\n",
       "    <tr>\n",
       "      <th>1</th>\n",
       "      <td>961438005675397120</td>\n",
       "      <td>2019-03-03</td>\n",
       "      <td>bot</td>\n",
       "      <td>0.104603</td>\n",
       "      <td>0.515643</td>\n",
       "    </tr>\n",
       "    <tr>\n",
       "      <th>2</th>\n",
       "      <td>941291900862124032</td>\n",
       "      <td>2019-03-03</td>\n",
       "      <td>bot</td>\n",
       "      <td>0.060559</td>\n",
       "      <td>0.413570</td>\n",
       "    </tr>\n",
       "    <tr>\n",
       "      <th>3</th>\n",
       "      <td>809439447796355072</td>\n",
       "      <td>2019-03-03</td>\n",
       "      <td>bot</td>\n",
       "      <td>0.060559</td>\n",
       "      <td>0.413570</td>\n",
       "    </tr>\n",
       "    <tr>\n",
       "      <th>4</th>\n",
       "      <td>769777732213321729</td>\n",
       "      <td>2019-03-03</td>\n",
       "      <td>bot</td>\n",
       "      <td>0.054305</td>\n",
       "      <td>0.393746</td>\n",
       "    </tr>\n",
       "    <tr>\n",
       "      <th>...</th>\n",
       "      <td>...</td>\n",
       "      <td>...</td>\n",
       "      <td>...</td>\n",
       "      <td>...</td>\n",
       "      <td>...</td>\n",
       "    </tr>\n",
       "    <tr>\n",
       "      <th>374719</th>\n",
       "      <td>2234767742</td>\n",
       "      <td>2019-06-02</td>\n",
       "      <td>ger_bot</td>\n",
       "      <td>0.104603</td>\n",
       "      <td>0.515643</td>\n",
       "    </tr>\n",
       "    <tr>\n",
       "      <th>374720</th>\n",
       "      <td>1092190045</td>\n",
       "      <td>2019-06-02</td>\n",
       "      <td>ger_bot</td>\n",
       "      <td>0.010165</td>\n",
       "      <td>0.170132</td>\n",
       "    </tr>\n",
       "    <tr>\n",
       "      <th>374721</th>\n",
       "      <td>57146860</td>\n",
       "      <td>2019-06-02</td>\n",
       "      <td>ger_bot</td>\n",
       "      <td>0.023812</td>\n",
       "      <td>0.267344</td>\n",
       "    </tr>\n",
       "    <tr>\n",
       "      <th>374722</th>\n",
       "      <td>56828167</td>\n",
       "      <td>2019-06-02</td>\n",
       "      <td>ger_bot</td>\n",
       "      <td>0.005778</td>\n",
       "      <td>0.119570</td>\n",
       "    </tr>\n",
       "    <tr>\n",
       "      <th>374723</th>\n",
       "      <td>14383393</td>\n",
       "      <td>2019-06-02</td>\n",
       "      <td>ger_bot</td>\n",
       "      <td>0.023812</td>\n",
       "      <td>0.267344</td>\n",
       "    </tr>\n",
       "  </tbody>\n",
       "</table>\n",
       "<p>374724 rows × 5 columns</p>\n",
       "</div>"
      ],
      "text/plain": [
       "                user.id_str        date     type  cap.universal  \\\n",
       "0       1073515275323097088  2019-03-03      bot       0.325413   \n",
       "1        961438005675397120  2019-03-03      bot       0.104603   \n",
       "2        941291900862124032  2019-03-03      bot       0.060559   \n",
       "3        809439447796355072  2019-03-03      bot       0.060559   \n",
       "4        769777732213321729  2019-03-03      bot       0.054305   \n",
       "...                     ...         ...      ...            ...   \n",
       "374719           2234767742  2019-06-02  ger_bot       0.104603   \n",
       "374720           1092190045  2019-06-02  ger_bot       0.010165   \n",
       "374721             57146860  2019-06-02  ger_bot       0.023812   \n",
       "374722             56828167  2019-06-02  ger_bot       0.005778   \n",
       "374723             14383393  2019-06-02  ger_bot       0.023812   \n",
       "\n",
       "        scores.universal  \n",
       "0               0.724840  \n",
       "1               0.515643  \n",
       "2               0.413570  \n",
       "3               0.413570  \n",
       "4               0.393746  \n",
       "...                  ...  \n",
       "374719          0.515643  \n",
       "374720          0.170132  \n",
       "374721          0.267344  \n",
       "374722          0.119570  \n",
       "374723          0.267344  \n",
       "\n",
       "[374724 rows x 5 columns]"
      ]
     },
     "execution_count": 34,
     "metadata": {},
     "output_type": "execute_result"
    }
   ],
   "source": [
    "kaiser"
   ]
  },
  {
   "cell_type": "markdown",
   "metadata": {},
   "source": [
    "# Single-class datasets"
   ]
  },
  {
   "cell_type": "markdown",
   "metadata": {
    "heading_collapsed": true
   },
   "source": [
    "## Astroturf\n",
    "\n",
    "Only account ids and labels."
   ]
  },
  {
   "cell_type": "markdown",
   "metadata": {
    "heading_collapsed": true
   },
   "source": [
    "## botwiki-2019"
   ]
  },
  {
   "cell_type": "code",
   "execution_count": 36,
   "metadata": {
    "ExecuteTime": {
     "end_time": "2022-05-25T14:00:31.432087Z",
     "start_time": "2022-05-25T14:00:31.401108Z"
    },
    "hidden": true
   },
   "outputs": [],
   "source": [
    "botwiki_profs = extract_users(PROJ_PATH + \"/data/botwiki-2019_tweets.json\")\n",
    "botwiki_df, botwiki_one_hot, botwiki_labels = preprocess_users(botwiki_profs, PROJ_PATH + \"/data/botwiki-2019.tsv\")"
   ]
  },
  {
   "cell_type": "markdown",
   "metadata": {
    "heading_collapsed": true
   },
   "source": [
    "## celebrity-2019"
   ]
  },
  {
   "cell_type": "code",
   "execution_count": 37,
   "metadata": {
    "ExecuteTime": {
     "end_time": "2022-05-25T14:02:43.239555Z",
     "start_time": "2022-05-25T14:02:42.710222Z"
    },
    "hidden": true
   },
   "outputs": [],
   "source": [
    "celebrity_profs = extract_users(PROJ_PATH + \"/data/celebrity-2019_tweets.json\")\n",
    "celebrity_df, celebrity_one_hot, celebrity_labels = preprocess_users(celebrity_profs, PROJ_PATH + \"/data/celebrity-2019.tsv\")"
   ]
  },
  {
   "cell_type": "markdown",
   "metadata": {
    "heading_collapsed": true
   },
   "source": [
    "## political-bots-2019"
   ]
  },
  {
   "cell_type": "code",
   "execution_count": 38,
   "metadata": {
    "ExecuteTime": {
     "end_time": "2022-05-25T14:03:26.218392Z",
     "start_time": "2022-05-25T14:03:26.195781Z"
    },
    "hidden": true
   },
   "outputs": [],
   "source": [
    "political_bots_profs = extract_users(PROJ_PATH + \"/data/political-bots-2019/political-bots-2019_tweets.json\")\n",
    "political_bots_df, political_bots_one_hot, political_bots_labels = preprocess_users(political_bots_profs, PROJ_PATH + \"/data/political-bots-2019/political-bots-2019.tsv\")"
   ]
  },
  {
   "cell_type": "markdown",
   "metadata": {},
   "source": [
    "## pronbots-2019"
   ]
  },
  {
   "cell_type": "code",
   "execution_count": 39,
   "metadata": {
    "ExecuteTime": {
     "end_time": "2022-05-25T14:37:30.470180Z",
     "start_time": "2022-05-25T14:37:30.092891Z"
    }
   },
   "outputs": [
    {
     "ename": "KeyError",
     "evalue": "\"None of ['id'] are in the columns\"",
     "output_type": "error",
     "traceback": [
      "\u001b[0;31m---------------------------------------------------------------------------\u001b[0m",
      "\u001b[0;31mKeyError\u001b[0m                                  Traceback (most recent call last)",
      "\u001b[0;32m<ipython-input-39-52d7de778bb9>\u001b[0m in \u001b[0;36m<module>\u001b[0;34m\u001b[0m\n\u001b[1;32m      5\u001b[0m \u001b[0;34m\u001b[0m\u001b[0m\n\u001b[1;32m      6\u001b[0m \u001b[0mpronbots_profs\u001b[0m \u001b[0;34m=\u001b[0m \u001b[0mextract_users_list\u001b[0m\u001b[0;34m(\u001b[0m\u001b[0mPROJ_PATH\u001b[0m \u001b[0;34m+\u001b[0m \u001b[0;34m\"/data/pronbots-2019_tweets.json\"\u001b[0m\u001b[0;34m)\u001b[0m\u001b[0;34m\u001b[0m\u001b[0;34m\u001b[0m\u001b[0m\n\u001b[0;32m----> 7\u001b[0;31m \u001b[0mpronbots_df\u001b[0m\u001b[0;34m,\u001b[0m \u001b[0mpronbots_one_hot\u001b[0m\u001b[0;34m,\u001b[0m \u001b[0mpronbots_labels\u001b[0m \u001b[0;34m=\u001b[0m \u001b[0mpreprocess_users\u001b[0m\u001b[0;34m(\u001b[0m\u001b[0mpronbots_profs\u001b[0m\u001b[0;34m,\u001b[0m \u001b[0mPROJ_PATH\u001b[0m \u001b[0;34m+\u001b[0m \u001b[0;34m\"/data/pronbots-2019.tsv\"\u001b[0m\u001b[0;34m)\u001b[0m\u001b[0;34m\u001b[0m\u001b[0;34m\u001b[0m\u001b[0m\n\u001b[0m",
      "\u001b[0;32m<ipython-input-2-b9a8039455a6>\u001b[0m in \u001b[0;36mpreprocess_users\u001b[0;34m(profs, labels_path)\u001b[0m\n\u001b[1;32m      8\u001b[0m \u001b[0;34m\u001b[0m\u001b[0m\n\u001b[1;32m      9\u001b[0m \u001b[0;32mdef\u001b[0m \u001b[0mpreprocess_users\u001b[0m\u001b[0;34m(\u001b[0m\u001b[0mprofs\u001b[0m\u001b[0;34m,\u001b[0m \u001b[0mlabels_path\u001b[0m\u001b[0;34m)\u001b[0m\u001b[0;34m:\u001b[0m\u001b[0;34m\u001b[0m\u001b[0;34m\u001b[0m\u001b[0m\n\u001b[0;32m---> 10\u001b[0;31m     \u001b[0mdf\u001b[0m \u001b[0;34m=\u001b[0m \u001b[0mpd\u001b[0m\u001b[0;34m.\u001b[0m\u001b[0mDataFrame\u001b[0m\u001b[0;34m(\u001b[0m\u001b[0mprofs\u001b[0m\u001b[0;34m)\u001b[0m\u001b[0;34m.\u001b[0m\u001b[0mset_index\u001b[0m\u001b[0;34m(\u001b[0m\u001b[0;34m\"id\"\u001b[0m\u001b[0;34m)\u001b[0m\u001b[0;34m\u001b[0m\u001b[0;34m\u001b[0m\u001b[0m\n\u001b[0m\u001b[1;32m     11\u001b[0m     \u001b[0mdf\u001b[0m\u001b[0;34m[\u001b[0m\u001b[0;34m\"created_at\"\u001b[0m\u001b[0;34m]\u001b[0m \u001b[0;34m=\u001b[0m \u001b[0mdf\u001b[0m\u001b[0;34m[\u001b[0m\u001b[0;34m\"created_at\"\u001b[0m\u001b[0;34m]\u001b[0m\u001b[0;34m.\u001b[0m\u001b[0mapply\u001b[0m\u001b[0;34m(\u001b[0m\u001b[0;32mlambda\u001b[0m \u001b[0mdt\u001b[0m\u001b[0;34m:\u001b[0m \u001b[0mdatetime\u001b[0m\u001b[0;34m.\u001b[0m\u001b[0mstrptime\u001b[0m\u001b[0;34m(\u001b[0m\u001b[0mdt\u001b[0m\u001b[0;34m,\u001b[0m \u001b[0;34m\"%a %b %d %H:%M:%S %z %Y\"\u001b[0m\u001b[0;34m)\u001b[0m\u001b[0;34m.\u001b[0m\u001b[0mtimestamp\u001b[0m\u001b[0;34m(\u001b[0m\u001b[0;34m)\u001b[0m\u001b[0;34m)\u001b[0m\u001b[0;34m\u001b[0m\u001b[0;34m\u001b[0m\u001b[0m\n\u001b[1;32m     12\u001b[0m     \u001b[0mlabels\u001b[0m \u001b[0;34m=\u001b[0m \u001b[0mpd\u001b[0m\u001b[0;34m.\u001b[0m\u001b[0mread_csv\u001b[0m\u001b[0;34m(\u001b[0m\u001b[0mlabels_path\u001b[0m\u001b[0;34m,\u001b[0m \u001b[0msep\u001b[0m\u001b[0;34m=\u001b[0m\u001b[0;34m\"\\t\"\u001b[0m\u001b[0;34m,\u001b[0m \u001b[0mheader\u001b[0m\u001b[0;34m=\u001b[0m\u001b[0;32mNone\u001b[0m\u001b[0;34m,\u001b[0m \u001b[0mnames\u001b[0m\u001b[0;34m=\u001b[0m\u001b[0;34m[\u001b[0m\u001b[0;34m\"id\"\u001b[0m\u001b[0;34m,\u001b[0m \u001b[0;34m\"label_str\"\u001b[0m\u001b[0;34m]\u001b[0m\u001b[0;34m,\u001b[0m \u001b[0mindex_col\u001b[0m\u001b[0;34m=\u001b[0m\u001b[0;34m\"id\"\u001b[0m\u001b[0;34m)\u001b[0m\u001b[0;34m\u001b[0m\u001b[0;34m\u001b[0m\u001b[0m\n",
      "\u001b[0;32m~/.local/lib/python3.8/site-packages/pandas/util/_decorators.py\u001b[0m in \u001b[0;36mwrapper\u001b[0;34m(*args, **kwargs)\u001b[0m\n\u001b[1;32m    309\u001b[0m                     \u001b[0mstacklevel\u001b[0m\u001b[0;34m=\u001b[0m\u001b[0mstacklevel\u001b[0m\u001b[0;34m,\u001b[0m\u001b[0;34m\u001b[0m\u001b[0;34m\u001b[0m\u001b[0m\n\u001b[1;32m    310\u001b[0m                 )\n\u001b[0;32m--> 311\u001b[0;31m             \u001b[0;32mreturn\u001b[0m \u001b[0mfunc\u001b[0m\u001b[0;34m(\u001b[0m\u001b[0;34m*\u001b[0m\u001b[0margs\u001b[0m\u001b[0;34m,\u001b[0m \u001b[0;34m**\u001b[0m\u001b[0mkwargs\u001b[0m\u001b[0;34m)\u001b[0m\u001b[0;34m\u001b[0m\u001b[0;34m\u001b[0m\u001b[0m\n\u001b[0m\u001b[1;32m    312\u001b[0m \u001b[0;34m\u001b[0m\u001b[0m\n\u001b[1;32m    313\u001b[0m         \u001b[0;32mreturn\u001b[0m \u001b[0mwrapper\u001b[0m\u001b[0;34m\u001b[0m\u001b[0;34m\u001b[0m\u001b[0m\n",
      "\u001b[0;32m~/.local/lib/python3.8/site-packages/pandas/core/frame.py\u001b[0m in \u001b[0;36mset_index\u001b[0;34m(self, keys, drop, append, inplace, verify_integrity)\u001b[0m\n\u001b[1;32m   5494\u001b[0m \u001b[0;34m\u001b[0m\u001b[0m\n\u001b[1;32m   5495\u001b[0m         \u001b[0;32mif\u001b[0m \u001b[0mmissing\u001b[0m\u001b[0;34m:\u001b[0m\u001b[0;34m\u001b[0m\u001b[0;34m\u001b[0m\u001b[0m\n\u001b[0;32m-> 5496\u001b[0;31m             \u001b[0;32mraise\u001b[0m \u001b[0mKeyError\u001b[0m\u001b[0;34m(\u001b[0m\u001b[0;34mf\"None of {missing} are in the columns\"\u001b[0m\u001b[0;34m)\u001b[0m\u001b[0;34m\u001b[0m\u001b[0;34m\u001b[0m\u001b[0m\n\u001b[0m\u001b[1;32m   5497\u001b[0m \u001b[0;34m\u001b[0m\u001b[0m\n\u001b[1;32m   5498\u001b[0m         \u001b[0;32mif\u001b[0m \u001b[0minplace\u001b[0m\u001b[0;34m:\u001b[0m\u001b[0;34m\u001b[0m\u001b[0;34m\u001b[0m\u001b[0m\n",
      "\u001b[0;31mKeyError\u001b[0m: \"None of ['id'] are in the columns\""
     ]
    }
   ],
   "source": [
    "def extract_users_list(data_path):\n",
    "    with open(data_path) as f:\n",
    "        d = json.load(f)\n",
    "    return d\n",
    "\n",
    "pronbots_profs = extract_users_list(PROJ_PATH + \"/data/pronbots-2019_tweets.json\")\n",
    "pronbots_df, pronbots_one_hot, pronbots_labels = preprocess_users(pronbots_profs, PROJ_PATH + \"/data/pronbots-2019.tsv\")"
   ]
  },
  {
   "cell_type": "code",
   "execution_count": 39,
   "metadata": {
    "ExecuteTime": {
     "end_time": "2022-05-25T14:37:41.540717Z",
     "start_time": "2022-05-25T14:37:41.536187Z"
    }
   },
   "outputs": [
    {
     "data": {
      "text/html": [
       "<div>\n",
       "<style scoped>\n",
       "    .dataframe tbody tr th:only-of-type {\n",
       "        vertical-align: middle;\n",
       "    }\n",
       "\n",
       "    .dataframe tbody tr th {\n",
       "        vertical-align: top;\n",
       "    }\n",
       "\n",
       "    .dataframe thead th {\n",
       "        text-align: right;\n",
       "    }\n",
       "</style>\n",
       "<table border=\"1\" class=\"dataframe\">\n",
       "  <thead>\n",
       "    <tr style=\"text-align: right;\">\n",
       "      <th></th>\n",
       "      <th>followers_count</th>\n",
       "      <th>friends_count</th>\n",
       "      <th>listed_count</th>\n",
       "      <th>created_at</th>\n",
       "      <th>favourites_count</th>\n",
       "      <th>statuses_count</th>\n",
       "    </tr>\n",
       "  </thead>\n",
       "  <tbody>\n",
       "  </tbody>\n",
       "</table>\n",
       "</div>"
      ],
      "text/plain": [
       "Empty DataFrame\n",
       "Columns: [followers_count, friends_count, listed_count, created_at, favourites_count, statuses_count]\n",
       "Index: []"
      ]
     },
     "execution_count": 39,
     "metadata": {},
     "output_type": "execute_result"
    }
   ],
   "source": [
    "pronbots_one_hot"
   ]
  },
  {
   "cell_type": "markdown",
   "metadata": {},
   "source": [
    "## vendor-purchased-2019"
   ]
  },
  {
   "cell_type": "code",
   "execution_count": 40,
   "metadata": {
    "ExecuteTime": {
     "end_time": "2022-05-25T14:04:38.566003Z",
     "start_time": "2022-05-25T14:04:38.531114Z"
    }
   },
   "outputs": [],
   "source": [
    "vendor_purchased_profs = extract_users(PROJ_PATH + \"/data/vendor-purchased-2019_tweets.json\")\n",
    "vendor_purchased_df, vendor_purchased_one_hot, vendor_purchased_labels = preprocess_users(vendor_purchased_profs, PROJ_PATH + \"/data/vendor-purchased-2019.tsv\")"
   ]
  },
  {
   "cell_type": "markdown",
   "metadata": {},
   "source": [
    "## analysis of each of the specialized classifiers in Botometer"
   ]
  },
  {
   "cell_type": "markdown",
   "metadata": {},
   "source": [
    "### humans"
   ]
  },
  {
   "cell_type": "code",
   "execution_count": null,
   "metadata": {},
   "outputs": [],
   "source": [
    "human_df = pd.concat([caverlee2011_humans], axis=0)"
   ]
  },
  {
   "cell_type": "markdown",
   "metadata": {},
   "source": [
    "### simple bots"
   ]
  },
  {
   "cell_type": "code",
   "execution_count": 20,
   "metadata": {
    "ExecuteTime": {
     "end_time": "2022-05-25T14:27:24.656045Z",
     "start_time": "2022-05-25T14:27:24.652694Z"
    }
   },
   "outputs": [],
   "source": [
    "simple_df = caverlee2011_bots"
   ]
  },
  {
   "cell_type": "markdown",
   "metadata": {},
   "source": [
    "### spammers"
   ]
  },
  {
   "cell_type": "code",
   "execution_count": 28,
   "metadata": {
    "ExecuteTime": {
     "end_time": "2022-05-25T14:35:52.198968Z",
     "start_time": "2022-05-25T14:35:52.114390Z"
    }
   },
   "outputs": [
    {
     "ename": "InvalidIndexError",
     "evalue": "Reindexing only valid with uniquely valued Index objects",
     "output_type": "error",
     "traceback": [
      "\u001b[0;31m---------------------------------------------------------------------------\u001b[0m",
      "\u001b[0;31mInvalidIndexError\u001b[0m                         Traceback (most recent call last)",
      "\u001b[0;32m/tmp/ipykernel_73451/1699319705.py\u001b[0m in \u001b[0;36m<module>\u001b[0;34m\u001b[0m\n\u001b[1;32m     38\u001b[0m                         DUMMY_COLUMNS + ['is_translator', 'contributors_enabled', 'notifications'])\n\u001b[1;32m     39\u001b[0m \u001b[0;34m\u001b[0m\u001b[0m\n\u001b[0;32m---> 40\u001b[0;31m \u001b[0mspammers_df\u001b[0m \u001b[0;34m=\u001b[0m \u001b[0mpd\u001b[0m\u001b[0;34m.\u001b[0m\u001b[0mconcat\u001b[0m\u001b[0;34m(\u001b[0m\u001b[0;34m[\u001b[0m\u001b[0mpronbots_one_hot\u001b[0m\u001b[0;34m,\u001b[0m \u001b[0mcresci2017_one_hot\u001b[0m\u001b[0;34m]\u001b[0m\u001b[0;34m,\u001b[0m \u001b[0mignore_index\u001b[0m\u001b[0;34m=\u001b[0m\u001b[0;32mTrue\u001b[0m\u001b[0;34m)\u001b[0m\u001b[0;34m\u001b[0m\u001b[0;34m\u001b[0m\u001b[0m\n\u001b[0m",
      "\u001b[0;32m~/.local/lib/python3.10/site-packages/pandas/util/_decorators.py\u001b[0m in \u001b[0;36mwrapper\u001b[0;34m(*args, **kwargs)\u001b[0m\n\u001b[1;32m    309\u001b[0m                     \u001b[0mstacklevel\u001b[0m\u001b[0;34m=\u001b[0m\u001b[0mstacklevel\u001b[0m\u001b[0;34m,\u001b[0m\u001b[0;34m\u001b[0m\u001b[0;34m\u001b[0m\u001b[0m\n\u001b[1;32m    310\u001b[0m                 )\n\u001b[0;32m--> 311\u001b[0;31m             \u001b[0;32mreturn\u001b[0m \u001b[0mfunc\u001b[0m\u001b[0;34m(\u001b[0m\u001b[0;34m*\u001b[0m\u001b[0margs\u001b[0m\u001b[0;34m,\u001b[0m \u001b[0;34m**\u001b[0m\u001b[0mkwargs\u001b[0m\u001b[0;34m)\u001b[0m\u001b[0;34m\u001b[0m\u001b[0;34m\u001b[0m\u001b[0m\n\u001b[0m\u001b[1;32m    312\u001b[0m \u001b[0;34m\u001b[0m\u001b[0m\n\u001b[1;32m    313\u001b[0m         \u001b[0;32mreturn\u001b[0m \u001b[0mwrapper\u001b[0m\u001b[0;34m\u001b[0m\u001b[0;34m\u001b[0m\u001b[0m\n",
      "\u001b[0;32m~/.local/lib/python3.10/site-packages/pandas/core/reshape/concat.py\u001b[0m in \u001b[0;36mconcat\u001b[0;34m(objs, axis, join, ignore_index, keys, levels, names, verify_integrity, sort, copy)\u001b[0m\n\u001b[1;32m    305\u001b[0m     )\n\u001b[1;32m    306\u001b[0m \u001b[0;34m\u001b[0m\u001b[0m\n\u001b[0;32m--> 307\u001b[0;31m     \u001b[0;32mreturn\u001b[0m \u001b[0mop\u001b[0m\u001b[0;34m.\u001b[0m\u001b[0mget_result\u001b[0m\u001b[0;34m(\u001b[0m\u001b[0;34m)\u001b[0m\u001b[0;34m\u001b[0m\u001b[0;34m\u001b[0m\u001b[0m\n\u001b[0m\u001b[1;32m    308\u001b[0m \u001b[0;34m\u001b[0m\u001b[0m\n\u001b[1;32m    309\u001b[0m \u001b[0;34m\u001b[0m\u001b[0m\n",
      "\u001b[0;32m~/.local/lib/python3.10/site-packages/pandas/core/reshape/concat.py\u001b[0m in \u001b[0;36mget_result\u001b[0;34m(self)\u001b[0m\n\u001b[1;32m    526\u001b[0m                     \u001b[0mobj_labels\u001b[0m \u001b[0;34m=\u001b[0m \u001b[0mobj\u001b[0m\u001b[0;34m.\u001b[0m\u001b[0maxes\u001b[0m\u001b[0;34m[\u001b[0m\u001b[0;36m1\u001b[0m \u001b[0;34m-\u001b[0m \u001b[0max\u001b[0m\u001b[0;34m]\u001b[0m\u001b[0;34m\u001b[0m\u001b[0;34m\u001b[0m\u001b[0m\n\u001b[1;32m    527\u001b[0m                     \u001b[0;32mif\u001b[0m \u001b[0;32mnot\u001b[0m \u001b[0mnew_labels\u001b[0m\u001b[0;34m.\u001b[0m\u001b[0mequals\u001b[0m\u001b[0;34m(\u001b[0m\u001b[0mobj_labels\u001b[0m\u001b[0;34m)\u001b[0m\u001b[0;34m:\u001b[0m\u001b[0;34m\u001b[0m\u001b[0;34m\u001b[0m\u001b[0m\n\u001b[0;32m--> 528\u001b[0;31m                         \u001b[0mindexers\u001b[0m\u001b[0;34m[\u001b[0m\u001b[0max\u001b[0m\u001b[0;34m]\u001b[0m \u001b[0;34m=\u001b[0m \u001b[0mobj_labels\u001b[0m\u001b[0;34m.\u001b[0m\u001b[0mget_indexer\u001b[0m\u001b[0;34m(\u001b[0m\u001b[0mnew_labels\u001b[0m\u001b[0;34m)\u001b[0m\u001b[0;34m\u001b[0m\u001b[0;34m\u001b[0m\u001b[0m\n\u001b[0m\u001b[1;32m    529\u001b[0m \u001b[0;34m\u001b[0m\u001b[0m\n\u001b[1;32m    530\u001b[0m                 \u001b[0mmgrs_indexers\u001b[0m\u001b[0;34m.\u001b[0m\u001b[0mappend\u001b[0m\u001b[0;34m(\u001b[0m\u001b[0;34m(\u001b[0m\u001b[0mobj\u001b[0m\u001b[0;34m.\u001b[0m\u001b[0m_mgr\u001b[0m\u001b[0;34m,\u001b[0m \u001b[0mindexers\u001b[0m\u001b[0;34m)\u001b[0m\u001b[0;34m)\u001b[0m\u001b[0;34m\u001b[0m\u001b[0;34m\u001b[0m\u001b[0m\n",
      "\u001b[0;32m~/.local/lib/python3.10/site-packages/pandas/core/indexes/base.py\u001b[0m in \u001b[0;36mget_indexer\u001b[0;34m(self, target, method, limit, tolerance)\u001b[0m\n\u001b[1;32m   3440\u001b[0m \u001b[0;34m\u001b[0m\u001b[0m\n\u001b[1;32m   3441\u001b[0m         \u001b[0;32mif\u001b[0m \u001b[0;32mnot\u001b[0m \u001b[0mself\u001b[0m\u001b[0;34m.\u001b[0m\u001b[0m_index_as_unique\u001b[0m\u001b[0;34m:\u001b[0m\u001b[0;34m\u001b[0m\u001b[0;34m\u001b[0m\u001b[0m\n\u001b[0;32m-> 3442\u001b[0;31m             \u001b[0;32mraise\u001b[0m \u001b[0mInvalidIndexError\u001b[0m\u001b[0;34m(\u001b[0m\u001b[0mself\u001b[0m\u001b[0;34m.\u001b[0m\u001b[0m_requires_unique_msg\u001b[0m\u001b[0;34m)\u001b[0m\u001b[0;34m\u001b[0m\u001b[0;34m\u001b[0m\u001b[0m\n\u001b[0m\u001b[1;32m   3443\u001b[0m \u001b[0;34m\u001b[0m\u001b[0m\n\u001b[1;32m   3444\u001b[0m         \u001b[0;32mif\u001b[0m \u001b[0;32mnot\u001b[0m \u001b[0mself\u001b[0m\u001b[0;34m.\u001b[0m\u001b[0m_should_compare\u001b[0m\u001b[0;34m(\u001b[0m\u001b[0mtarget\u001b[0m\u001b[0;34m)\u001b[0m \u001b[0;32mand\u001b[0m \u001b[0;32mnot\u001b[0m \u001b[0mis_interval_dtype\u001b[0m\u001b[0;34m(\u001b[0m\u001b[0mself\u001b[0m\u001b[0;34m.\u001b[0m\u001b[0mdtype\u001b[0m\u001b[0;34m)\u001b[0m\u001b[0;34m:\u001b[0m\u001b[0;34m\u001b[0m\u001b[0;34m\u001b[0m\u001b[0m\n",
      "\u001b[0;31mInvalidIndexError\u001b[0m: Reindexing only valid with uniquely valued Index objects"
     ]
    }
   ],
   "source": [
    "# Load in cresci data\n",
    "folder_names = [ 'social_spambots_1', \n",
    " 'social_spambots_2', \n",
    " 'social_spambots_3', \n",
    " 'traditional_spambots_1', \n",
    " 'traditional_spambots_2', \n",
    " 'traditional_spambots_3',\n",
    " 'traditional_spambots_4']\n",
    "dfs = []\n",
    "\n",
    "for name in folder_names:\n",
    "    df = pd.read_csv(f\"./data/cresci-2017/{name}.csv/users.csv\")\n",
    "    dfs.append(df)\n",
    "\n",
    "    \n",
    "def format_time(dt):\n",
    "    try:\n",
    "        datetime.strptime(dt, \"%a %b %d %H:%M:%S %z %Y\").timestamp()\n",
    "    except:\n",
    "        print(dt)\n",
    "    \n",
    "cresci2017_spammers = pd.concat(dfs)\n",
    "\n",
    "\n",
    "\n",
    "# Preprocess\n",
    "cresci2017_one_hot = preprocess(cresci2017_spammers, \n",
    "                        COLUMNS_TO_DROP + ['profile_banner_url', \n",
    "                                                        'test_set_1', \n",
    "                                                        'test_set_2', \n",
    "                                                        'crawled_at',\n",
    "                                                        'updated', \n",
    "                                                        'timestamp',\n",
    "                                                        'following', \n",
    "                                                        'follow_request_sent',\n",
    "                                                        'created_at'\n",
    "                                                  ], \n",
    "                        DUMMY_COLUMNS + ['is_translator', 'contributors_enabled', 'notifications'])\n",
    "\n",
    "spammers_df = pd.concat([pronbots_one_hot, cresci2017_one_hot], ignore_index=True)"
   ]
  },
  {
   "cell_type": "code",
   "execution_count": 31,
   "metadata": {
    "ExecuteTime": {
     "end_time": "2022-05-25T14:36:09.874058Z",
     "start_time": "2022-05-25T14:36:09.864724Z"
    }
   },
   "outputs": [
    {
     "data": {
      "text/html": [
       "<div>\n",
       "<style scoped>\n",
       "    .dataframe tbody tr th:only-of-type {\n",
       "        vertical-align: middle;\n",
       "    }\n",
       "\n",
       "    .dataframe tbody tr th {\n",
       "        vertical-align: top;\n",
       "    }\n",
       "\n",
       "    .dataframe thead th {\n",
       "        text-align: right;\n",
       "    }\n",
       "</style>\n",
       "<table border=\"1\" class=\"dataframe\">\n",
       "  <thead>\n",
       "    <tr style=\"text-align: right;\">\n",
       "      <th></th>\n",
       "      <th>statuses_count</th>\n",
       "      <th>followers_count</th>\n",
       "      <th>friends_count</th>\n",
       "      <th>favourites_count</th>\n",
       "      <th>listed_count</th>\n",
       "      <th>lang_en</th>\n",
       "      <th>lang_en-gb</th>\n",
       "      <th>lang_it</th>\n",
       "      <th>lang_ja</th>\n",
       "      <th>lang_nl</th>\n",
       "      <th>...</th>\n",
       "      <th>utc_offset_-14400.0</th>\n",
       "      <th>utc_offset_-7200.0</th>\n",
       "      <th>utc_offset_0.0</th>\n",
       "      <th>utc_offset_3600.0</th>\n",
       "      <th>utc_offset_7200.0</th>\n",
       "      <th>utc_offset_10800.0</th>\n",
       "      <th>utc_offset_14400.0</th>\n",
       "      <th>utc_offset_21600.0</th>\n",
       "      <th>utc_offset_25200.0</th>\n",
       "      <th>utc_offset_32400.0</th>\n",
       "    </tr>\n",
       "  </thead>\n",
       "  <tbody>\n",
       "    <tr>\n",
       "      <th>0</th>\n",
       "      <td>1299</td>\n",
       "      <td>22</td>\n",
       "      <td>40</td>\n",
       "      <td>1</td>\n",
       "      <td>0</td>\n",
       "      <td>0</td>\n",
       "      <td>0</td>\n",
       "      <td>1</td>\n",
       "      <td>0</td>\n",
       "      <td>0</td>\n",
       "      <td>...</td>\n",
       "      <td>0</td>\n",
       "      <td>0</td>\n",
       "      <td>0</td>\n",
       "      <td>0</td>\n",
       "      <td>1</td>\n",
       "      <td>0</td>\n",
       "      <td>0</td>\n",
       "      <td>0</td>\n",
       "      <td>0</td>\n",
       "      <td>0</td>\n",
       "    </tr>\n",
       "    <tr>\n",
       "      <th>1</th>\n",
       "      <td>18665</td>\n",
       "      <td>12561</td>\n",
       "      <td>3442</td>\n",
       "      <td>16358</td>\n",
       "      <td>110</td>\n",
       "      <td>0</td>\n",
       "      <td>0</td>\n",
       "      <td>1</td>\n",
       "      <td>0</td>\n",
       "      <td>0</td>\n",
       "      <td>...</td>\n",
       "      <td>0</td>\n",
       "      <td>1</td>\n",
       "      <td>0</td>\n",
       "      <td>0</td>\n",
       "      <td>0</td>\n",
       "      <td>0</td>\n",
       "      <td>0</td>\n",
       "      <td>0</td>\n",
       "      <td>0</td>\n",
       "      <td>0</td>\n",
       "    </tr>\n",
       "    <tr>\n",
       "      <th>2</th>\n",
       "      <td>22987</td>\n",
       "      <td>600</td>\n",
       "      <td>755</td>\n",
       "      <td>14</td>\n",
       "      <td>6</td>\n",
       "      <td>0</td>\n",
       "      <td>0</td>\n",
       "      <td>1</td>\n",
       "      <td>0</td>\n",
       "      <td>0</td>\n",
       "      <td>...</td>\n",
       "      <td>0</td>\n",
       "      <td>0</td>\n",
       "      <td>0</td>\n",
       "      <td>0</td>\n",
       "      <td>1</td>\n",
       "      <td>0</td>\n",
       "      <td>0</td>\n",
       "      <td>0</td>\n",
       "      <td>0</td>\n",
       "      <td>0</td>\n",
       "    </tr>\n",
       "    <tr>\n",
       "      <th>3</th>\n",
       "      <td>7975</td>\n",
       "      <td>398</td>\n",
       "      <td>350</td>\n",
       "      <td>11</td>\n",
       "      <td>2</td>\n",
       "      <td>1</td>\n",
       "      <td>0</td>\n",
       "      <td>0</td>\n",
       "      <td>0</td>\n",
       "      <td>0</td>\n",
       "      <td>...</td>\n",
       "      <td>0</td>\n",
       "      <td>0</td>\n",
       "      <td>0</td>\n",
       "      <td>0</td>\n",
       "      <td>0</td>\n",
       "      <td>0</td>\n",
       "      <td>0</td>\n",
       "      <td>0</td>\n",
       "      <td>0</td>\n",
       "      <td>0</td>\n",
       "    </tr>\n",
       "    <tr>\n",
       "      <th>4</th>\n",
       "      <td>20218</td>\n",
       "      <td>413</td>\n",
       "      <td>405</td>\n",
       "      <td>162</td>\n",
       "      <td>8</td>\n",
       "      <td>0</td>\n",
       "      <td>0</td>\n",
       "      <td>1</td>\n",
       "      <td>0</td>\n",
       "      <td>0</td>\n",
       "      <td>...</td>\n",
       "      <td>0</td>\n",
       "      <td>0</td>\n",
       "      <td>0</td>\n",
       "      <td>0</td>\n",
       "      <td>1</td>\n",
       "      <td>0</td>\n",
       "      <td>0</td>\n",
       "      <td>0</td>\n",
       "      <td>0</td>\n",
       "      <td>0</td>\n",
       "    </tr>\n",
       "    <tr>\n",
       "      <th>...</th>\n",
       "      <td>...</td>\n",
       "      <td>...</td>\n",
       "      <td>...</td>\n",
       "      <td>...</td>\n",
       "      <td>...</td>\n",
       "      <td>...</td>\n",
       "      <td>...</td>\n",
       "      <td>...</td>\n",
       "      <td>...</td>\n",
       "      <td>...</td>\n",
       "      <td>...</td>\n",
       "      <td>...</td>\n",
       "      <td>...</td>\n",
       "      <td>...</td>\n",
       "      <td>...</td>\n",
       "      <td>...</td>\n",
       "      <td>...</td>\n",
       "      <td>...</td>\n",
       "      <td>...</td>\n",
       "      <td>...</td>\n",
       "      <td>...</td>\n",
       "    </tr>\n",
       "    <tr>\n",
       "      <th>1123</th>\n",
       "      <td>41</td>\n",
       "      <td>169</td>\n",
       "      <td>151</td>\n",
       "      <td>0</td>\n",
       "      <td>12</td>\n",
       "      <td>1</td>\n",
       "      <td>0</td>\n",
       "      <td>0</td>\n",
       "      <td>0</td>\n",
       "      <td>0</td>\n",
       "      <td>...</td>\n",
       "      <td>0</td>\n",
       "      <td>0</td>\n",
       "      <td>0</td>\n",
       "      <td>0</td>\n",
       "      <td>0</td>\n",
       "      <td>0</td>\n",
       "      <td>0</td>\n",
       "      <td>0</td>\n",
       "      <td>0</td>\n",
       "      <td>0</td>\n",
       "    </tr>\n",
       "    <tr>\n",
       "      <th>1124</th>\n",
       "      <td>218</td>\n",
       "      <td>332</td>\n",
       "      <td>245</td>\n",
       "      <td>0</td>\n",
       "      <td>31</td>\n",
       "      <td>1</td>\n",
       "      <td>0</td>\n",
       "      <td>0</td>\n",
       "      <td>0</td>\n",
       "      <td>0</td>\n",
       "      <td>...</td>\n",
       "      <td>0</td>\n",
       "      <td>0</td>\n",
       "      <td>0</td>\n",
       "      <td>0</td>\n",
       "      <td>0</td>\n",
       "      <td>0</td>\n",
       "      <td>0</td>\n",
       "      <td>0</td>\n",
       "      <td>0</td>\n",
       "      <td>0</td>\n",
       "    </tr>\n",
       "    <tr>\n",
       "      <th>1125</th>\n",
       "      <td>17</td>\n",
       "      <td>530</td>\n",
       "      <td>300</td>\n",
       "      <td>0</td>\n",
       "      <td>8</td>\n",
       "      <td>1</td>\n",
       "      <td>0</td>\n",
       "      <td>0</td>\n",
       "      <td>0</td>\n",
       "      <td>0</td>\n",
       "      <td>...</td>\n",
       "      <td>0</td>\n",
       "      <td>0</td>\n",
       "      <td>0</td>\n",
       "      <td>0</td>\n",
       "      <td>0</td>\n",
       "      <td>0</td>\n",
       "      <td>0</td>\n",
       "      <td>0</td>\n",
       "      <td>0</td>\n",
       "      <td>0</td>\n",
       "    </tr>\n",
       "    <tr>\n",
       "      <th>1126</th>\n",
       "      <td>2</td>\n",
       "      <td>247</td>\n",
       "      <td>202</td>\n",
       "      <td>0</td>\n",
       "      <td>1</td>\n",
       "      <td>1</td>\n",
       "      <td>0</td>\n",
       "      <td>0</td>\n",
       "      <td>0</td>\n",
       "      <td>0</td>\n",
       "      <td>...</td>\n",
       "      <td>0</td>\n",
       "      <td>0</td>\n",
       "      <td>0</td>\n",
       "      <td>0</td>\n",
       "      <td>0</td>\n",
       "      <td>0</td>\n",
       "      <td>0</td>\n",
       "      <td>0</td>\n",
       "      <td>0</td>\n",
       "      <td>0</td>\n",
       "    </tr>\n",
       "    <tr>\n",
       "      <th>1127</th>\n",
       "      <td>47</td>\n",
       "      <td>267</td>\n",
       "      <td>234</td>\n",
       "      <td>0</td>\n",
       "      <td>7</td>\n",
       "      <td>1</td>\n",
       "      <td>0</td>\n",
       "      <td>0</td>\n",
       "      <td>0</td>\n",
       "      <td>0</td>\n",
       "      <td>...</td>\n",
       "      <td>0</td>\n",
       "      <td>0</td>\n",
       "      <td>0</td>\n",
       "      <td>0</td>\n",
       "      <td>0</td>\n",
       "      <td>0</td>\n",
       "      <td>0</td>\n",
       "      <td>0</td>\n",
       "      <td>0</td>\n",
       "      <td>0</td>\n",
       "    </tr>\n",
       "  </tbody>\n",
       "</table>\n",
       "<p>7543 rows × 953 columns</p>\n",
       "</div>"
      ],
      "text/plain": [
       "      statuses_count  followers_count  friends_count  favourites_count  \\\n",
       "0               1299               22             40                 1   \n",
       "1              18665            12561           3442             16358   \n",
       "2              22987              600            755                14   \n",
       "3               7975              398            350                11   \n",
       "4              20218              413            405               162   \n",
       "...              ...              ...            ...               ...   \n",
       "1123              41              169            151                 0   \n",
       "1124             218              332            245                 0   \n",
       "1125              17              530            300                 0   \n",
       "1126               2              247            202                 0   \n",
       "1127              47              267            234                 0   \n",
       "\n",
       "      listed_count  lang_en  lang_en-gb  lang_it  lang_ja  lang_nl  ...  \\\n",
       "0                0        0           0        1        0        0  ...   \n",
       "1              110        0           0        1        0        0  ...   \n",
       "2                6        0           0        1        0        0  ...   \n",
       "3                2        1           0        0        0        0  ...   \n",
       "4                8        0           0        1        0        0  ...   \n",
       "...            ...      ...         ...      ...      ...      ...  ...   \n",
       "1123            12        1           0        0        0        0  ...   \n",
       "1124            31        1           0        0        0        0  ...   \n",
       "1125             8        1           0        0        0        0  ...   \n",
       "1126             1        1           0        0        0        0  ...   \n",
       "1127             7        1           0        0        0        0  ...   \n",
       "\n",
       "      utc_offset_-14400.0  utc_offset_-7200.0  utc_offset_0.0  \\\n",
       "0                       0                   0               0   \n",
       "1                       0                   1               0   \n",
       "2                       0                   0               0   \n",
       "3                       0                   0               0   \n",
       "4                       0                   0               0   \n",
       "...                   ...                 ...             ...   \n",
       "1123                    0                   0               0   \n",
       "1124                    0                   0               0   \n",
       "1125                    0                   0               0   \n",
       "1126                    0                   0               0   \n",
       "1127                    0                   0               0   \n",
       "\n",
       "      utc_offset_3600.0  utc_offset_7200.0  utc_offset_10800.0  \\\n",
       "0                     0                  1                   0   \n",
       "1                     0                  0                   0   \n",
       "2                     0                  1                   0   \n",
       "3                     0                  0                   0   \n",
       "4                     0                  1                   0   \n",
       "...                 ...                ...                 ...   \n",
       "1123                  0                  0                   0   \n",
       "1124                  0                  0                   0   \n",
       "1125                  0                  0                   0   \n",
       "1126                  0                  0                   0   \n",
       "1127                  0                  0                   0   \n",
       "\n",
       "      utc_offset_14400.0  utc_offset_21600.0  utc_offset_25200.0  \\\n",
       "0                      0                   0                   0   \n",
       "1                      0                   0                   0   \n",
       "2                      0                   0                   0   \n",
       "3                      0                   0                   0   \n",
       "4                      0                   0                   0   \n",
       "...                  ...                 ...                 ...   \n",
       "1123                   0                   0                   0   \n",
       "1124                   0                   0                   0   \n",
       "1125                   0                   0                   0   \n",
       "1126                   0                   0                   0   \n",
       "1127                   0                   0                   0   \n",
       "\n",
       "      utc_offset_32400.0  \n",
       "0                      0  \n",
       "1                      0  \n",
       "2                      0  \n",
       "3                      0  \n",
       "4                      0  \n",
       "...                  ...  \n",
       "1123                   0  \n",
       "1124                   0  \n",
       "1125                   0  \n",
       "1126                   0  \n",
       "1127                   0  \n",
       "\n",
       "[7543 rows x 953 columns]"
      ]
     },
     "execution_count": 31,
     "metadata": {},
     "output_type": "execute_result"
    }
   ],
   "source": [
    "cresci2017_one_hot"
   ]
  },
  {
   "cell_type": "markdown",
   "metadata": {},
   "source": [
    "### fake followers"
   ]
  },
  {
   "cell_type": "markdown",
   "metadata": {},
   "source": [
    "### self-declared"
   ]
  },
  {
   "cell_type": "markdown",
   "metadata": {},
   "source": [
    "### political bots"
   ]
  },
  {
   "cell_type": "markdown",
   "metadata": {},
   "source": [
    "### other bots"
   ]
  },
  {
   "cell_type": "markdown",
   "metadata": {
    "heading_collapsed": true
   },
   "source": [
    "## EMD-2017: \"Twitter fake account detection\"\n",
    "\n",
    "All accounts are fake. "
   ]
  },
  {
   "cell_type": "code",
   "execution_count": 23,
   "metadata": {
    "ExecuteTime": {
     "end_time": "2022-05-24T12:35:01.322695Z",
     "start_time": "2022-05-24T12:35:01.307355Z"
    },
    "hidden": true
   },
   "outputs": [],
   "source": [
    "emd, emd_labels = load_emd(PROJ_PATH + '/data/EMD-2017/Twitter_dataset.arff') # Load data"
   ]
  },
  {
   "cell_type": "markdown",
   "metadata": {
    "heading_collapsed": true
   },
   "source": [
    "# Text-based classification"
   ]
  },
  {
   "cell_type": "markdown",
   "metadata": {},
   "source": [
    "## cresci-2017"
   ]
  },
  {
   "cell_type": "code",
   "execution_count": 4,
   "metadata": {},
   "outputs": [
    {
     "name": "stderr",
     "output_type": "stream",
     "text": [
      "/home/jhays/bot-detection/data_accessor.py:163: DtypeWarning: Columns (8,11) have mixed types. Specify dtype option on import or set low_memory=False.\n",
      "  df = pd.read_csv(data_path_template.format(name), encoding='latin-1')\n"
     ]
    },
    {
     "name": "stdout",
     "output_type": "stream",
     "text": [
      "fake_followers 3202\n"
     ]
    },
    {
     "name": "stderr",
     "output_type": "stream",
     "text": [
      "/home/jhays/bot-detection/data_accessor.py:163: DtypeWarning: Columns (0) have mixed types. Specify dtype option on import or set low_memory=False.\n",
      "  df = pd.read_csv(data_path_template.format(name), encoding='latin-1')\n"
     ]
    },
    {
     "name": "stdout",
     "output_type": "stream",
     "text": [
      "genuine_accounts 1083\n"
     ]
    },
    {
     "name": "stderr",
     "output_type": "stream",
     "text": [
      "/home/jhays/bot-detection/data_accessor.py:163: DtypeWarning: Columns (10) have mixed types. Specify dtype option on import or set low_memory=False.\n",
      "  df = pd.read_csv(data_path_template.format(name), encoding='latin-1')\n"
     ]
    },
    {
     "name": "stdout",
     "output_type": "stream",
     "text": [
      "social_spambots_1 991\n"
     ]
    },
    {
     "name": "stderr",
     "output_type": "stream",
     "text": [
      "/home/jhays/bot-detection/data_accessor.py:163: DtypeWarning: Columns (10) have mixed types. Specify dtype option on import or set low_memory=False.\n",
      "  df = pd.read_csv(data_path_template.format(name), encoding='latin-1')\n"
     ]
    },
    {
     "name": "stdout",
     "output_type": "stream",
     "text": [
      "social_spambots_2 3457\n"
     ]
    },
    {
     "name": "stderr",
     "output_type": "stream",
     "text": [
      "/home/jhays/bot-detection/data_accessor.py:163: DtypeWarning: Columns (7,10) have mixed types. Specify dtype option on import or set low_memory=False.\n",
      "  df = pd.read_csv(data_path_template.format(name), encoding='latin-1')\n"
     ]
    },
    {
     "name": "stdout",
     "output_type": "stream",
     "text": [
      "social_spambots_3 464\n",
      "traditional_spambots_1 1000\n"
     ]
    }
   ],
   "source": [
    "cresci2017_tweets, cresci2017_labels = load_cresci2017_tweets(PROJ_PATH + \"/data/cresci-2017/{}.csv/tweets.csv\")\n",
    "\n",
    "# # Load in data\n",
    "# folder_names = ['fake_followers', \n",
    "#  'genuine_accounts', \n",
    "#  'social_spambots_1', \n",
    "#  'social_spambots_2', \n",
    "#  'social_spambots_3', \n",
    "#  'traditional_spambots_1']\n",
    "# is_bot = [1, 0, 1, 1, 1, 1]\n",
    "# tweets = []\n",
    "# cresci2017_labels = []\n",
    "\n",
    "# for name, ib in zip(folder_names, is_bot):\n",
    "#     df = pd.read_csv(, encoding='latin-1')\n",
    "#     df['text'] = df['text'].apply(lambda x: \"\" if isinstance(x, float) else x)\n",
    "#     df_groups = df[['text', 'user_id']].groupby(['user_id'])\n",
    "#     df_tweets = df_groups['text'].apply(lambda x: \" \".join(x))\n",
    "#     tweets.append(df_tweets)\n",
    "#     print(name, len(df_tweets))\n",
    "#     cresci2017_labels.extend([ib]*len(df_tweets))\n",
    "        \n",
    "# cresci2017_tweets = pd.concat(tweets)"
   ]
  },
  {
   "cell_type": "code",
   "execution_count": 27,
   "metadata": {},
   "outputs": [
    {
     "name": "stderr",
     "output_type": "stream",
     "text": [
      "<ipython-input-27-d4030157cae8>:3: DtypeWarning: Columns (8,11) have mixed types. Specify dtype option on import or set low_memory=False.\n",
      "  df = pd.read_csv(PROJ_PATH + f\"/data/cresci-2017/{name}.csv/tweets.csv\", encoding='latin-1')\n"
     ]
    },
    {
     "name": "stdout",
     "output_type": "stream",
     "text": [
      "fake_followers 17\n"
     ]
    },
    {
     "name": "stderr",
     "output_type": "stream",
     "text": [
      "<ipython-input-27-d4030157cae8>:3: DtypeWarning: Columns (0) have mixed types. Specify dtype option on import or set low_memory=False.\n",
      "  df = pd.read_csv(PROJ_PATH + f\"/data/cresci-2017/{name}.csv/tweets.csv\", encoding='latin-1')\n"
     ]
    },
    {
     "name": "stdout",
     "output_type": "stream",
     "text": [
      "genuine_accounts 5081\n"
     ]
    },
    {
     "name": "stderr",
     "output_type": "stream",
     "text": [
      "<ipython-input-27-d4030157cae8>:3: DtypeWarning: Columns (10) have mixed types. Specify dtype option on import or set low_memory=False.\n",
      "  df = pd.read_csv(PROJ_PATH + f\"/data/cresci-2017/{name}.csv/tweets.csv\", encoding='latin-1')\n"
     ]
    },
    {
     "name": "stdout",
     "output_type": "stream",
     "text": [
      "social_spambots_1 2\n"
     ]
    },
    {
     "name": "stderr",
     "output_type": "stream",
     "text": [
      "<ipython-input-27-d4030157cae8>:3: DtypeWarning: Columns (10) have mixed types. Specify dtype option on import or set low_memory=False.\n",
      "  df = pd.read_csv(PROJ_PATH + f\"/data/cresci-2017/{name}.csv/tweets.csv\", encoding='latin-1')\n"
     ]
    },
    {
     "name": "stdout",
     "output_type": "stream",
     "text": [
      "social_spambots_2 9\n"
     ]
    },
    {
     "name": "stderr",
     "output_type": "stream",
     "text": [
      "<ipython-input-27-d4030157cae8>:3: DtypeWarning: Columns (7,10) have mixed types. Specify dtype option on import or set low_memory=False.\n",
      "  df = pd.read_csv(PROJ_PATH + f\"/data/cresci-2017/{name}.csv/tweets.csv\", encoding='latin-1')\n"
     ]
    },
    {
     "name": "stdout",
     "output_type": "stream",
     "text": [
      "social_spambots_3 6\n",
      "traditional_spambots_1 18\n"
     ]
    }
   ],
   "source": [
    "eqs = []\n",
    "for name, ib in zip(folder_names, is_bot):\n",
    "    df = pd.read_csv(PROJ_PATH + f\"/data/cresci-2017/{name}.csv/tweets.csv\", encoding='latin-1')\n",
    "    eq = df[[(isinstance(row, str)) and ('earthquake' in row) for row in df['text']]]\n",
    "    eqs.append(eq)\n",
    "    print(name, len(eq))\n",
    "    \n",
    "cresci2017 = pd.concat(eqs)"
   ]
  },
  {
   "cell_type": "code",
   "execution_count": 39,
   "metadata": {},
   "outputs": [
    {
     "data": {
      "text/plain": [
       "['Volcanes D. Light mag. 4.2 earthquake  - Crete, Greece on Sunday, 19 April 2015:  http://t.co/bpGRpKH9Qd',\n",
       " 'I felt no type of earthquake',\n",
       " \"RT @jonk: Bunch of us huddled in the middle of an intersection away from things we've seen fall. #Kathmandu #earthquake http://t.co/Homswcjâ\\x80¦\",\n",
       " 'Road buckle on Hwy 12, Napa, CA. #earthquake http://t.co/ogR5DXNPLL',\n",
       " 'RT @cctvnews: Pic:â\\x80\\x9dLoveâ\\x80\\x9d from above: victims of the 2013 Yaâ\\x80\\x98an earthquake give thanks to those who helped them rebuild. http://t.co/ZT1W0Glâ\\x80¦']"
      ]
     },
     "execution_count": 39,
     "metadata": {},
     "output_type": "execute_result"
    }
   ],
   "source": [
    "import random\n",
    "\n",
    "random.sample(list(cresci2017['text']), 5)"
   ]
  },
  {
   "cell_type": "code",
   "execution_count": 40,
   "metadata": {},
   "outputs": [],
   "source": [
    "# Get count vectorizer df\n",
    "cresci2017_cv = CountVectorizer(stop_words='english', min_df=5) \n",
    "cresci2017_cv_matrix = cresci2017_cv.fit_transform(cresci2017_tweets) "
   ]
  },
  {
   "cell_type": "code",
   "execution_count": 41,
   "metadata": {},
   "outputs": [],
   "source": [
    "cresci2017_cv_df = pd.DataFrame(cresci2017_cv_matrix.toarray(), index=cresci2017_tweets.index, columns=cresci2017_cv.get_feature_names())"
   ]
  },
  {
   "cell_type": "code",
   "execution_count": 46,
   "metadata": {},
   "outputs": [
    {
     "name": "stdout",
     "output_type": "stream",
     "text": [
      "|--- earthquake <= 0.50\n",
      "|   |--- https <= 30.50\n",
      "|   |   |--- weights: [27.00, 9054.00] class: 1\n",
      "|   |--- https >  30.50\n",
      "|   |   |--- weights: [61.00, 16.00] class: 0\n",
      "|--- earthquake >  0.50\n",
      "|   |--- https <= 0.50\n",
      "|   |   |--- weights: [39.00, 34.00] class: 0\n",
      "|   |--- https >  0.50\n",
      "|   |   |--- weights: [956.00, 10.00] class: 0\n",
      "\n",
      "In-sample accuracy: 0.9914680788467196\n",
      "In-sample precision score: 0.9970267591674926\n",
      "In-sample recall score: 0.9934167215273206\n",
      "In-sample F1 score: 0.9952184666117065\n"
     ]
    },
    {
     "data": {
      "text/plain": [
       "(DecisionTreeClassifier(max_depth=2),\n",
       " 0.9914680788467196,\n",
       " 0.9970267591674926,\n",
       " 0.9934167215273206,\n",
       " 0.9952184666117065)"
      ]
     },
     "execution_count": 46,
     "metadata": {},
     "output_type": "execute_result"
    }
   ],
   "source": [
    "fit_and_score(cresci2017_cv_df, cresci2017_labels, depth=2)"
   ]
  },
  {
   "cell_type": "code",
   "execution_count": 43,
   "metadata": {},
   "outputs": [
    {
     "data": {
      "image/png": "[encoded data removed]",
      "text/plain": [
       "<Figure size 504x288 with 1 Axes>"
      ]
     },
     "metadata": {
      "needs_background": "light"
     },
     "output_type": "display_data"
    }
   ],
   "source": [
    "plot_metrics(cresci2017_cv_df, cresci2017_labels)"
   ]
  },
  {
   "cell_type": "markdown",
   "metadata": {},
   "source": [
    "# Plotting performance of network stats on single plot"
   ]
  },
  {
   "cell_type": "code",
   "execution_count": 102,
   "metadata": {},
   "outputs": [],
   "source": [
    "scores_dict = {\n",
    "    \"twibot\": {\n",
    "        \"a\": 0.8664, #accuracy\n",
    "        \"p\": 0.8256, #precision\n",
    "        \"r\": 0.8657, #recall\n",
    "        'scores': twibot_scores\n",
    "    },\n",
    "    \"botometer-feedback-2019\": {\n",
    "        'a': 0.81,\n",
    "        \"p\": 0.84,\n",
    "        \"r\": 0.7,\n",
    "        'num_bots': 139,\n",
    "        'num_humans': 380,\n",
    "        'scores': botometer_feedback_scores\n",
    "    },\n",
    "#     \"rtbust\": {\n",
    "#         \"a\": 0.8755,\n",
    "#         'p': 0.9304,\n",
    "#         'r': 0.9512,\n",
    "#         'scores': rtbust_scores\n",
    "#     },\n",
    "    \"midterm-2018\": {\n",
    "        \"a\": 0.987,\n",
    "        'p': 0.989,\n",
    "        'r': 0.995,\n",
    "        'scores': midterm2018_scores\n",
    "    },\n",
    "    \"gilani\": {\n",
    "        \"a\": 0.8644,\n",
    "        'p': 0.854,\n",
    "        'r': 0.822,\n",
    "        'scores': gilani_processed_scores\n",
    "    },\n",
    "    \"cresci-2017\": {\n",
    "        'a': 0.9871,\n",
    "        'p': 0.98,\n",
    "        'r': 0.98,\n",
    "        'scores': cresci2017_scores\n",
    "    },\n",
    "    \"cresci-2015\": {\n",
    "        \"a\": 0.991,\n",
    "        'p': 0.994,\n",
    "        'r': 0.991,\n",
    "        'scores': cresci2015_scores\n",
    "    },\n",
    "    \"caverlee-2011\": {\n",
    "        'a': 0.9826,\n",
    "        'p': 0.89,\n",
    "        'r': 0.87,\n",
    "        'num_bots': 19276,\n",
    "        'num_humans': 22223,\n",
    "        'scores': caverlee2011_scores\n",
    "    },\n",
    "}\n",
    "metric_names = ['accuracy', 'precision', 'recall', 'F1']"
   ]
  },
  {
   "cell_type": "code",
   "execution_count": 103,
   "metadata": {},
   "outputs": [
    {
     "data": {
      "image/png": "[encoded data removed]",
      "text/plain": [
       "<Figure size 360x1152 with 4 Axes>"
      ]
     },
     "metadata": {
      "needs_background": "light"
     },
     "output_type": "display_data"
    }
   ],
   "source": [
    "fig, axes = plt.subplots(4,1, figsize=(5, 16))\n",
    "\n",
    "for i, metric_name in enumerate(metric_names):\n",
    "    for name, d in scores_dict.items():\n",
    "#         if (name in ['gilani', 'botometer-feedback-2019', 'rtbust']):\n",
    "#             continue\n",
    "        if i == 0:\n",
    "            if 'a' in d:\n",
    "                soa_score = d['a']\n",
    "            else:\n",
    "                soa_score = calculate_accuracy(d['p'], d['r'], d['num_bots'], d['num_humans'])\n",
    "        if i == 1:\n",
    "            soa_score = d['p']\n",
    "        if i == 2:\n",
    "            soa_score = d['r']\n",
    "        if i == 3:\n",
    "            soa_score = 2 * (d['p'] * d['r']) / (d['p'] + d['r'])\n",
    "\n",
    "        metric_i = [(item[i] - soa_score)*100 for item in d['scores']]\n",
    "        axes[i].plot(range(1,6), metric_i, label=name, marker=\"o\")\n",
    "    axes[i].set_ylabel(metric_name)\n",
    "    axes[i].set_ylim((-25,10))\n",
    "    yticks = mtick.PercentFormatter(is_latex=True)\n",
    "    axes[i].yaxis.set_major_formatter(yticks)\n",
    "    axes[i].legend(loc='lower left')\n",
    "fig.text(0.5, 0.0, 'Model complexity (tree depth)', ha='center')\n",
    "fig.suptitle(\"Model performance of shallow decision trees relative to state-of-art as a function of tree depth\")\n",
    "fig.tight_layout()\n",
    "plt.show()"
   ]
  },
  {
   "cell_type": "code",
   "execution_count": 43,
   "metadata": {},
   "outputs": [],
   "source": [
    "for i, metric_name in enumerate(metric_names):\n",
    "    for name, d in scores_dict.items():\n",
    "        if i == 0:\n",
    "            if 'a' in d:\n",
    "                soa_score = d['a']\n",
    "            else:\n",
    "                continue\n",
    "        if i == 1:\n",
    "            soa_score = d['p']\n",
    "        if i == 2:\n",
    "            soa_score = d['r']\n",
    "        if i == 3:\n",
    "            d['f'] = 2 * (d['p'] * d['r']) / (d['p'] + d['r'])\n",
    "            soa_score = d['f']\n",
    "        metric_i = max([item[i] for item in d['scores']])\n",
    "        delta_i = metric_i - soa_score\n",
    "        d[\"sdt_\"+metric_name] = metric_i\n",
    "        d[\"sdt_delta_\"+metric_name] = delta_i"
   ]
  },
  {
   "cell_type": "code",
   "execution_count": 44,
   "metadata": {},
   "outputs": [],
   "source": [
    "score_df = pd.DataFrame(scores_dict).T"
   ]
  },
  {
   "cell_type": "code",
   "execution_count": 45,
   "metadata": {},
   "outputs": [],
   "source": [
    "score_df.to_csv(\"bot_detection_scores.csv\")"
   ]
  },
  {
   "cell_type": "code",
   "execution_count": 48,
   "metadata": {},
   "outputs": [
    {
     "data": {
      "text/plain": [
       "twibot                     0.009869\n",
       "botometer-feedback-2019   -0.208807\n",
       "midterm-2018               0.002122\n",
       "gilani                    -0.157468\n",
       "cresci-2017                0.008492\n",
       "cresci-2015               -0.006928\n",
       "caverlee-2011              0.056293\n",
       "Name: sdt_delta_F1, dtype: object"
      ]
     },
     "execution_count": 48,
     "metadata": {},
     "output_type": "execute_result"
    }
   ],
   "source": [
    "score_df['sdt_delta_F1']"
   ]
  },
  {
   "cell_type": "code",
   "execution_count": null,
   "metadata": {},
   "outputs": [],
   "source": []
  }
 ],
 "metadata": {
  "kernelspec": {
   "display_name": "Python 3",
   "language": "python",
   "name": "python3"
  },
  "language_info": {
   "codemirror_mode": {
    "name": "ipython",
    "version": 3
   },
   "file_extension": ".py",
   "mimetype": "text/x-python",
   "name": "python",
   "nbconvert_exporter": "python",
   "pygments_lexer": "ipython3",
   "version": "3.8.5"
  }
 },
 "nbformat": 4,
 "nbformat_minor": 5
}
