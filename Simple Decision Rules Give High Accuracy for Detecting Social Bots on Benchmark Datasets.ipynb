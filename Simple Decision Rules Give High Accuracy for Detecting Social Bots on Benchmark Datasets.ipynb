{
 "cells": [
  {
   "cell_type": "markdown",
   "metadata": {},
   "source": [
    "# Simple decision rules give high accuracy for detecting social bots on benchmark datasets\n",
    "\n",
    "Analysis of benchmark datasets for bot detection."
   ]
  },
  {
   "cell_type": "markdown",
   "metadata": {},
   "source": [
    "## Setup"
   ]
  },
  {
   "cell_type": "code",
   "execution_count": 40,
   "metadata": {
    "ExecuteTime": {
     "end_time": "2022-05-25T14:00:15.177464Z",
     "start_time": "2022-05-25T14:00:14.157695Z"
    }
   },
   "outputs": [],
   "source": [
    "from datetime import datetime\n",
    "from functools import reduce\n",
    "import json\n",
    "import numpy as np\n",
    "import matplotlib.pyplot as plt\n",
    "import matplotlib.pyplot as plt\n",
    "import matplotlib.ticker as mtick\n",
    "from matplotlib.ticker import MaxNLocator\n",
    "import pandas as pd\n",
    "import pyreadr\n",
    "import random\n",
    "from scipy.io import arff\n",
    "from sklearn.decomposition import PCA\n",
    "from sklearn.feature_extraction.text import CountVectorizer\n",
    "from sklearn.model_selection import train_test_split\n",
    "from sklearn.inspection import permutation_importance\n",
    "from sklearn import tree, ensemble\n",
    "from sklearn.tree import export_text\n",
    "from sklearn.metrics import f1_score, recall_score, precision_score, accuracy_score\n",
    "import time\n",
    "import xml.etree.ElementTree as ET"
   ]
  },
  {
   "cell_type": "code",
   "execution_count": 65,
   "metadata": {
    "ExecuteTime": {
     "end_time": "2022-05-25T14:00:16.465779Z",
     "start_time": "2022-05-25T14:00:16.447264Z"
    }
   },
   "outputs": [],
   "source": [
    "PROJ_PATH = \"/nfs/sloanlab003/projects/bot_ensemble_proj/bot-detection\"\n",
    "\n",
    "def timeit(func):\n",
    "    def wrapper(*args, **kwargs):\n",
    "        start_time = time.time()\n",
    "        print(f\"Starting {func.__name__} at {start_time}\")\n",
    "        result = func(*args, **kwargs)\n",
    "        end_time = time.time()\n",
    "        print(f\"Finished {func.__name__} at {end_time}. Execution time: {end_time - start_time} s\")\n",
    "        return result\n",
    "    return wrapper\n",
    "\n",
    "def extract_users(data_path):\n",
    "    \"\"\"\n",
    "    Load json file with user dictionaries and return.\n",
    "    \"\"\"\n",
    "    with open(data_path) as f:\n",
    "        d = json.load(f)\n",
    "        profs = [ent['user'] for ent in d]\n",
    "    return profs\n",
    "\n",
    "\n",
    "def preprocess(X, drop_cols, one_hot_cols):\n",
    "    \"\"\"\n",
    "    Drop columns listed by drop_cols, turn one_hot_cols into \n",
    "    one-hot variables since decision trees must be fitted on numerical data.\n",
    "    \"\"\"\n",
    "    X.drop(columns=drop_cols, inplace=True)\n",
    "    one_hot = pd.get_dummies(X, columns=one_hot_cols, drop_first=True)\n",
    "    return one_hot\n",
    "\n",
    "\n",
    "def preprocess_users(profs, labels_path):\n",
    "    \"\"\"\n",
    "    Preprocessing user dictionaries.\n",
    "    - Convert created_at to datetime\n",
    "    - Read in labels\n",
    "    - Run preprocess\n",
    "    - Return dataframe, one_hot dataframe and labels\n",
    "    \"\"\"\n",
    "    df = pd.DataFrame(profs).set_index(\"id\")\n",
    "    df[\"created_at\"] = df[\"created_at\"].apply(lambda dt: datetime.strptime(dt, \"%a %b %d %H:%M:%S %z %Y\").timestamp())\n",
    "    labels = pd.read_csv(labels_path, sep=\"\\t\", header=None, names=[\"id\", \"label_str\"], index_col=\"id\")\n",
    "    labels.loc[labels['label_str']==\"human\", 'label'] = 0\n",
    "    labels.loc[labels['label_str']==\"bot\", 'label'] = 1\n",
    "    df, labels = df.align(labels, join=\"inner\", axis=0)\n",
    "    df.reset_index(inplace=True)\n",
    "    labels = labels['label']\n",
    "    one_hot = preprocess(df, COLUMNS_TO_DROP + ['profile_banner_url', 'entities', 'id_str', 'following', 'follow_request_sent', 'notifications', 'translator_type'], DUMMY_COLUMNS + ['is_translator', 'contributors_enabled', 'is_translation_enabled', 'has_extended_profile'])\n",
    "    return df, one_hot, labels\n",
    "\n",
    "\n",
    "def fit(X, y, method=None, depth=3):\n",
    "    \"\"\"\n",
    "    Fit a decision tree (or method, if provided) using features X, labels y and maximum depth equal to depth. \n",
    "    \"\"\"\n",
    "    if method is None:\n",
    "        # Use decision tree\n",
    "        clf = tree.DecisionTreeClassifier(max_depth=depth)\n",
    "    else:\n",
    "        clf = method\n",
    "    clf = clf.fit(X, y)\n",
    "    return clf\n",
    " \n",
    "\n",
    "def score(clf, X, y, method=None, silent=False):\n",
    "    \"\"\"\n",
    "    Score trained model, and print out results if not silent.\n",
    "    \"\"\"\n",
    "    if method is None and not silent:\n",
    "        r = export_text(clf, feature_names=list(X.columns), show_weights=True)\n",
    "        print(r)\n",
    "    accuracy = clf.score(X, y)\n",
    "    preds = clf.predict(X)\n",
    "    precision = precision_score(y, preds)\n",
    "    recall = recall_score(y, preds)\n",
    "    f1 = f1_score(y, preds)\n",
    "    if (not silent):\n",
    "        print(f\"Accuracy:\", accuracy)\n",
    "        print(f\"Precision\", precision)\n",
    "        print(f\"Recall:\", recall)\n",
    "        print(f\"F1:\", f1)\n",
    "    return accuracy, precision, recall, f1\n",
    "\n",
    "\n",
    "def fit_and_score(X, y, method=None, depth=3, silent=False):\n",
    "    \"\"\" \n",
    "    Fit model, print out the ascii tree and scores and return the model/scores.\n",
    "    \"\"\"\n",
    "    clf = fit(X, y, method, depth)\n",
    "    accuracy, precision, recall, f1 = score(clf, X, y, method, silent)\n",
    "    return clf, accuracy, precision, recall, f1\n",
    "\n",
    "@timeit\n",
    "def kfold_cv(X, y, method=None, depth=3, k=5):\n",
    "    \"\"\"\n",
    "    Run fit_and_score k times and compute test score statistics.\n",
    "    \"\"\"\n",
    "    inds = np.random.permutation(len(X))\n",
    "    scores = []\n",
    "    fold_size = (len(X) // k)+1\n",
    "    shuffled_X = X.iloc[inds]\n",
    "    shuffled_y = y.iloc[inds]\n",
    "    for i in range(k):\n",
    "        print(f\"Fold {i} in progress\")\n",
    "        # Train test split\n",
    "        train_X = pd.concat([shuffled_X.iloc[:i*fold_size], shuffled_X.iloc[(i+1)*fold_size:]])\n",
    "        test_X = shuffled_X.iloc[i*fold_size:(i+1)*fold_size]\n",
    "        train_y = [label for j,label in enumerate(shuffled_y) if ((j < i*fold_size) or (j >= (i+1)*fold_size))]\n",
    "        test_y = [label for j,label in enumerate(shuffled_y) if ((j >= i*fold_size) and (j < (i+1)*fold_size))]\n",
    "        # Fit\n",
    "        clf = fit(train_X, train_y, depth=depth)\n",
    "        scr = score(clf, test_X, test_y, method, True)\n",
    "        scores.append(scr)\n",
    "    avg_scores = [sum([row[i] for row in scores])/k for i in range(4)]\n",
    "    return avg_scores\n",
    "    \n",
    "@timeit\n",
    "def train_test_fit_and_score(X, y, method=None, depth=3):\n",
    "    \"\"\" Train test split. \"\"\"\n",
    "    train, test, train_labels, test_labels = train_test_split(X, y, test_size=0.3)\n",
    "    clf, *_ = fit_and_score(train, train_labels, method=method, depth=depth, silent=True)\n",
    "    score(clf, test, test_labels)\n",
    "\n",
    "\n",
    "def nonnumeric(df):\n",
    "    \"\"\"\n",
    "    Print out columns that contain NA or have dtype=object.\n",
    "    \"\"\"\n",
    "    print(\"Columns with NA values:\", df.isnull().any()[lambda x: x])\n",
    "    print(\"Columns with dtype=object\", list(df.select_dtypes(include='object')))\n",
    "    print(\"Columns with dtype=bool\", list(df.select_dtypes(include='bool')))\n",
    "\n",
    "\n",
    "@timeit\n",
    "def mdi_feature_importance(clf, labels, ax):\n",
    "    \"\"\"\n",
    "    Plot most important features.\n",
    "    \n",
    "    @param clf: fitted classifier\n",
    "    \"\"\"\n",
    "    importances = clf.feature_importances_\n",
    "    top10 = np.argsort(importances)[-10:] # Get top 10 most important features\n",
    "    top10 = top10[::-1]\n",
    "    std = np.std([tree.feature_importances_ for tree in clf.estimators_], axis=0)\n",
    "    mdi_importances = pd.Series(importances, index=labels)\n",
    "    mdi_importances[top10].plot.bar(yerr=std[top10], ax=ax)\n",
    "    ax.set_title(\"Feature importances using MDI\")\n",
    "    ax.set_ylabel(\"Mean decrease in impurity\")\n",
    "    return mdi_importances\n",
    "\n",
    "@timeit\n",
    "def permutation_feature_importance(ax, X, y, drop_cols):\n",
    "    \"\"\"\n",
    "    Random forest feature importance on fitted model clf, features. Plot results on ax.\n",
    "    Warning: computationally expensive, since refits model multiple times.\n",
    "    \"\"\"\n",
    "    processed = preprocess(X, drop_cols, [])\n",
    "    \n",
    "    rf = ensemble.RandomForestClassifier(n_estimators=100)\n",
    "    clf, *_ = fit_and_score(X, y, method=rf, silent=True)\n",
    "\n",
    "    pi = permutation_importance(clf, X, y, n_repeats=10, random_state=42, n_jobs=1)\n",
    "    top10 = np.argsort(pi.importances_mean)[-10:] # Get top 10 most important features\n",
    "    top10 = top10[::-1]\n",
    "    pi_importances = pd.Series(pi.importances_mean, index=list(X.columns))\n",
    "    pi_importances[top10].plot.bar(ax=ax)\n",
    "    ax.set_title(\"Feature importances using permutation on full model\")\n",
    "    ax.set_ylabel(\"Mean accuracy decrease\")\n",
    "\n",
    "def plot_metrics(one_hot, labels, soa_accuracy=None, soa_precision=None, soa_recall=None):\n",
    "    \"\"\" Plot accuracy, precision and recall for different numbers of features. \"\"\"\n",
    "    rng = range(1,6)\n",
    "    models = [fit_and_score(one_hot, labels, depth=i, silent=True) for i in rng]\n",
    "    clfs, accuracies, precisions, recalls, f1s = zip(*models)\n",
    "    fig, ax = plt.subplots(figsize=(7,4))\n",
    "    ax.scatter(rng, accuracies, label=\"Accuracy\")\n",
    "    ax.scatter(rng, precisions, label=\"Precision\")\n",
    "    ax.scatter(rng, recalls, label=\"Recall\")\n",
    "    ax.set_title(\"Accuracy, precision and recall as a function of model complexity\")\n",
    "    ax.set_xlabel(\"Model complexity (tree depth)\")\n",
    "    ax.set_ylabel(\"Score\")\n",
    "    ax.set_ylim([0,1.05])\n",
    "    ax.xaxis.set_major_locator(MaxNLocator(integer=True))\n",
    "    if soa_accuracy:\n",
    "        plt.axhline(y= soa_accuracy, color='C0', linestyle='-', label=\"State-of-art accuracy\")\n",
    "    if soa_precision:\n",
    "        plt.axhline(y= soa_precision, color='C1', linestyle='-', label=\"State-of-art precision\")\n",
    "    if soa_recall:\n",
    "        plt.axhline(y= soa_recall, color='C2', linestyle='-', label=\"State-of-art recall\")\n",
    "    ax.legend()\n",
    "    plt.tight_layout()\n",
    "    \n",
    "def calculate_accuracy(precision, recall, num_bots, num_humans):\n",
    "    \"\"\"\n",
    "    Calculate accuracy from precision, recall and support.\n",
    "    \"\"\"\n",
    "    total = num_bots + num_humans\n",
    "    true_positive = num_bots * recall\n",
    "    true_negative = total - true_positive * (1/precision + 1/recall - 2)\n",
    "    false_negative = num_bots - true_positive\n",
    "    false_positive = num_humans - true_negative\n",
    "    return (true_positive + true_negative) / total"
   ]
  },
  {
   "cell_type": "code",
   "execution_count": 3,
   "metadata": {
    "ExecuteTime": {
     "end_time": "2022-05-25T14:00:23.211405Z",
     "start_time": "2022-05-25T14:00:23.204456Z"
    }
   },
   "outputs": [],
   "source": [
    "COLUMNS_TO_DROP = ['id', \n",
    "                   'name', \n",
    "                   'screen_name', \n",
    "                   'url', \n",
    "                   'profile_image_url', \n",
    "                   'profile_background_image_url_https', \n",
    "                   'description',\n",
    "                   'profile_image_url_https', \n",
    "                   'profile_background_image_url', \n",
    "                   'profile_text_color', \n",
    "                   'profile_sidebar_border_color', \n",
    "                   'profile_sidebar_fill_color', \n",
    "                   'profile_background_color', \n",
    "                   'profile_link_color']\n",
    "DUMMY_COLUMNS = ['lang', \n",
    "                  'time_zone', \n",
    "                  'location', \n",
    "                  'default_profile', \n",
    "                  'default_profile_image', \n",
    "                  'utc_offset',\n",
    "                  'default_profile', \n",
    "                  'default_profile_image', \n",
    "                  'profile_background_tile', \n",
    "                  'utc_offset',\n",
    "                  'protected', \n",
    "                  'geo_enabled',\n",
    "                  'verified',\n",
    "                  'profile_use_background_image']"
   ]
  },
  {
   "cell_type": "markdown",
   "metadata": {},
   "source": [
    "# Network features"
   ]
  },
  {
   "cell_type": "markdown",
   "metadata": {
    "heading_collapsed": true
   },
   "source": [
    "## \"TwiBot-20: A Comprehensive Twitter Bot Detection Benchmark.\"\n",
    "\n",
    "Shangbin Feng, Herun Wan, Ningnan Wang, Jundong Li, and Minnan Luo. \"TwiBot-20: A Comprehensive Twitter Bot Detection Benchmark.\" CIKM. 2021.\n",
    "https://arxiv.org/abs/2106.13088\n",
    "\n",
    "Simple decision rule accuracy: 0.8165\n",
    "\n",
    "State-of-art accuracy: 0.8664"
   ]
  },
  {
   "cell_type": "code",
   "execution_count": 75,
   "metadata": {
    "ExecuteTime": {
     "end_time": "2022-04-29T03:24:07.783649Z",
     "start_time": "2022-04-29T03:24:05.920258Z"
    },
    "hidden": true
   },
   "outputs": [],
   "source": [
    "# Load data\n",
    "def load_twibot(path, drop_extra_cols=[]):\n",
    "    with open(path) as f:\n",
    "        twibot = json.load(f)\n",
    "        twibot_labels = [int(ent['label']) for ent in twibot]\n",
    "        profs = [ent['profile'] for ent in twibot]\n",
    "        twibot_df = pd.DataFrame(profs)\n",
    "    twibot_df[\"created_at\"] = twibot_df[\"created_at\"].apply(lambda dt: datetime.strptime(dt, \"%a %b %d %H:%M:%S %z %Y \").timestamp())\n",
    "    # Turn bool, string columns into ints\n",
    "    for col in twibot_df:\n",
    "        if (True in twibot_df):\n",
    "            twibot_df[col] = twibot_df[col].astype(int)\n",
    "        if (col in ['followers_count', 'friends_count', 'listed_count', 'favourites_count', 'statuses_count']):\n",
    "            twibot_df[col] = twibot_df[col].astype(int)\n",
    "        if (col in ['is_translation_enabled', 'has_extended_profile']):\n",
    "            twibot_df[col] = twibot_df[col].astype(bool).astype(int) \n",
    "    drop_cols = COLUMNS_TO_DROP + ['profile_location', 'entities', 'id_str'] + drop_extra_cols\n",
    "    twibot_one_hot = preprocess(twibot_df, drop_cols, [ent for ent in DUMMY_COLUMNS + ['is_translator', 'contributors_enabled'] if ent not in drop_cols])\n",
    "    return twibot_df, twibot_one_hot, twibot_labels\n",
    "\n",
    "twibot_df, twibot_one_hot, twibot_labels = load_twibot(PROJ_PATH + \"/data/Twibot-20/train.json\")\n",
    "twibot_test, twibot_one_hot_test, twibot_labels_test = load_twibot(PROJ_PATH + \"/data/Twibot-20/test.json\")\n",
    "twibot_validate, twibot_one_hot_validate, twibot_labels_validate = load_twibot(PROJ_PATH + \"/data/Twibot-20/dev.json\")"
   ]
  },
  {
   "cell_type": "code",
   "execution_count": 76,
   "metadata": {
    "ExecuteTime": {
     "end_time": "2022-04-29T03:24:07.841756Z",
     "start_time": "2022-04-29T03:24:07.784762Z"
    },
    "hidden": true
   },
   "outputs": [
    {
     "name": "stdout",
     "output_type": "stream",
     "text": [
      "--------Train and score on training set--------\n",
      "|--- verified_True  <= 0.50\n",
      "|   |--- weights: [1576.00, 4645.00] class: 1\n",
      "|--- verified_True  >  0.50\n",
      "|   |--- weights: [2056.00, 1.00] class: 0\n",
      "\n",
      "Accuracy: 0.8094950471128292\n",
      "Precision 0.7466645233885227\n",
      "Recall: 0.9997847610848042\n",
      "F1: 0.8548817520934942\n"
     ]
    }
   ],
   "source": [
    "# Fit and score on decision tree\n",
    "print(\"--------Train and score on training set--------\")\n",
    "shared_columns = np.intersect1d(twibot_one_hot.columns, twibot_one_hot_test.columns) # Since we want to check on test set, just use common columns between train/test.\n",
    "dt_clf, *_ = fit_and_score(twibot_one_hot[shared_columns], twibot_labels, depth=1)"
   ]
  },
  {
   "cell_type": "code",
   "execution_count": 77,
   "metadata": {
    "ExecuteTime": {
     "end_time": "2022-04-29T03:24:07.852392Z",
     "start_time": "2022-04-29T03:24:07.842693Z"
    },
    "hidden": true
   },
   "outputs": [
    {
     "name": "stdout",
     "output_type": "stream",
     "text": [
      "--------Score on test set--------\n",
      "|--- verified_True  <= 0.50\n",
      "|   |--- weights: [1576.00, 4645.00] class: 1\n",
      "|--- verified_True  >  0.50\n",
      "|   |--- weights: [2056.00, 1.00] class: 0\n",
      "\n",
      "Accuracy: 0.8165680473372781\n",
      "Precision 0.7467911318553092\n",
      "Recall: 1.0\n",
      "F1: 0.8550434201736806\n"
     ]
    },
    {
     "data": {
      "text/plain": [
       "(0.8165680473372781, 0.7467911318553092, 1.0, 0.8550434201736806)"
      ]
     },
     "execution_count": 77,
     "metadata": {},
     "output_type": "execute_result"
    }
   ],
   "source": [
    "# Score on test set for comparison to state of the art\n",
    "print(\"--------Score on test set--------\")\n",
    "score(dt_clf, twibot_one_hot_test[shared_columns], twibot_labels_test)"
   ]
  },
  {
   "cell_type": "code",
   "execution_count": 78,
   "metadata": {},
   "outputs": [
    {
     "name": "stdout",
     "output_type": "stream",
     "text": [
      "|--- verified_True  <= 0.50\n",
      "|   |--- weights: [1576.00, 4645.00] class: 1\n",
      "|--- verified_True  >  0.50\n",
      "|   |--- weights: [2056.00, 1.00] class: 0\n",
      "\n",
      "Accuracy: 0.8094950471128292\n",
      "Precision 0.7466645233885227\n",
      "Recall: 0.9997847610848042\n",
      "F1: 0.8548817520934942\n",
      "|--- verified_True  <= 0.50\n",
      "|   |--- friends_count <= 1789.50\n",
      "|   |   |--- weights: [1261.00, 3113.00] class: 1\n",
      "|   |--- friends_count >  1789.50\n",
      "|   |   |--- weights: [315.00, 1532.00] class: 1\n",
      "|--- verified_True  >  0.50\n",
      "|   |--- created_at <= 1237883904.00\n",
      "|   |   |--- weights: [500.00, 1.00] class: 0\n",
      "|   |--- created_at >  1237883904.00\n",
      "|   |   |--- weights: [1556.00, 0.00] class: 0\n",
      "\n",
      "Accuracy: 0.8094950471128292\n",
      "Precision 0.7466645233885227\n",
      "Recall: 0.9997847610848042\n",
      "F1: 0.8548817520934942\n",
      "|--- verified_True  <= 0.50\n",
      "|   |--- friends_count <= 1789.50\n",
      "|   |   |--- statuses_count <= 11.50\n",
      "|   |   |   |--- weights: [198.00, 282.00] class: 1\n",
      "|   |   |--- statuses_count >  11.50\n",
      "|   |   |   |--- weights: [1063.00, 2831.00] class: 1\n",
      "|   |--- friends_count >  1789.50\n",
      "|   |   |--- created_at <= 1583986112.00\n",
      "|   |   |   |--- weights: [295.00, 1509.00] class: 1\n",
      "|   |   |--- created_at >  1583986112.00\n",
      "|   |   |   |--- weights: [20.00, 23.00] class: 1\n",
      "|--- verified_True  >  0.50\n",
      "|   |--- created_at <= 1237883904.00\n",
      "|   |   |--- created_at <= 1237859776.00\n",
      "|   |   |   |--- weights: [500.00, 0.00] class: 0\n",
      "|   |   |--- created_at >  1237859776.00\n",
      "|   |   |   |--- weights: [0.00, 1.00] class: 1\n",
      "|   |--- created_at >  1237883904.00\n",
      "|   |   |--- weights: [1556.00, 0.00] class: 0\n",
      "\n",
      "Accuracy: 0.8096158492389466\n",
      "Precision 0.7467052394728383\n",
      "Recall: 1.0\n",
      "F1: 0.8549871181450128\n",
      "|--- verified_True  <= 0.50\n",
      "|   |--- friends_count <= 1789.50\n",
      "|   |   |--- statuses_count <= 11.50\n",
      "|   |   |   |--- created_at <= 1530348416.00\n",
      "|   |   |   |   |--- weights: [39.00, 134.00] class: 1\n",
      "|   |   |   |--- created_at >  1530348416.00\n",
      "|   |   |   |   |--- weights: [159.00, 148.00] class: 0\n",
      "|   |   |--- statuses_count >  11.50\n",
      "|   |   |   |--- followers_count <= 11639.50\n",
      "|   |   |   |   |--- weights: [897.00, 2570.00] class: 1\n",
      "|   |   |   |--- followers_count >  11639.50\n",
      "|   |   |   |   |--- weights: [166.00, 261.00] class: 1\n",
      "|   |--- friends_count >  1789.50\n",
      "|   |   |--- created_at <= 1583986112.00\n",
      "|   |   |   |--- geo_enabled_True  <= 0.50\n",
      "|   |   |   |   |--- weights: [136.00, 933.00] class: 1\n",
      "|   |   |   |--- geo_enabled_True  >  0.50\n",
      "|   |   |   |   |--- weights: [159.00, 576.00] class: 1\n",
      "|   |   |--- created_at >  1583986112.00\n",
      "|   |   |   |--- statuses_count <= 19.00\n",
      "|   |   |   |   |--- weights: [7.00, 1.00] class: 0\n",
      "|   |   |   |--- statuses_count >  19.00\n",
      "|   |   |   |   |--- weights: [13.00, 22.00] class: 1\n",
      "|--- verified_True  >  0.50\n",
      "|   |--- created_at <= 1237883904.00\n",
      "|   |   |--- created_at <= 1237859776.00\n",
      "|   |   |   |--- weights: [500.00, 0.00] class: 0\n",
      "|   |   |--- created_at >  1237859776.00\n",
      "|   |   |   |--- weights: [0.00, 1.00] class: 1\n",
      "|   |--- created_at >  1237883904.00\n",
      "|   |   |--- weights: [1556.00, 0.00] class: 0\n",
      "\n",
      "Accuracy: 0.8116694853829427\n",
      "Precision 0.7613001523616049\n",
      "Recall: 0.9679294016358158\n",
      "F1: 0.8522694968255473\n",
      "|--- verified_True  <= 0.50\n",
      "|   |--- friends_count <= 1789.50\n",
      "|   |   |--- statuses_count <= 11.50\n",
      "|   |   |   |--- created_at <= 1530348416.00\n",
      "|   |   |   |   |--- friends_count <= 79.50\n",
      "|   |   |   |   |   |--- weights: [25.00, 52.00] class: 1\n",
      "|   |   |   |   |--- friends_count >  79.50\n",
      "|   |   |   |   |   |--- weights: [14.00, 82.00] class: 1\n",
      "|   |   |   |--- created_at >  1530348416.00\n",
      "|   |   |   |   |--- favourites_count <= 4.50\n",
      "|   |   |   |   |   |--- weights: [59.00, 80.00] class: 1\n",
      "|   |   |   |   |--- favourites_count >  4.50\n",
      "|   |   |   |   |   |--- weights: [100.00, 68.00] class: 0\n",
      "|   |   |--- statuses_count >  11.50\n",
      "|   |   |   |--- followers_count <= 11639.50\n",
      "|   |   |   |   |--- statuses_count <= 2840.50\n",
      "|   |   |   |   |   |--- weights: [555.00, 1812.00] class: 1\n",
      "|   |   |   |   |--- statuses_count >  2840.50\n",
      "|   |   |   |   |   |--- weights: [342.00, 758.00] class: 1\n",
      "|   |   |   |--- followers_count >  11639.50\n",
      "|   |   |   |   |--- listed_count <= 185.00\n",
      "|   |   |   |   |   |--- weights: [97.00, 82.00] class: 0\n",
      "|   |   |   |   |--- listed_count >  185.00\n",
      "|   |   |   |   |   |--- weights: [69.00, 179.00] class: 1\n",
      "|   |--- friends_count >  1789.50\n",
      "|   |   |--- created_at <= 1583986112.00\n",
      "|   |   |   |--- geo_enabled_True  <= 0.50\n",
      "|   |   |   |   |--- created_at <= 1539071488.00\n",
      "|   |   |   |   |   |--- weights: [107.00, 829.00] class: 1\n",
      "|   |   |   |   |--- created_at >  1539071488.00\n",
      "|   |   |   |   |   |--- weights: [29.00, 104.00] class: 1\n",
      "|   |   |   |--- geo_enabled_True  >  0.50\n",
      "|   |   |   |   |--- location_Lima, Peru  <= 0.50\n",
      "|   |   |   |   |   |--- weights: [155.00, 576.00] class: 1\n",
      "|   |   |   |   |--- location_Lima, Peru  >  0.50\n",
      "|   |   |   |   |   |--- weights: [4.00, 0.00] class: 0\n",
      "|   |   |--- created_at >  1583986112.00\n",
      "|   |   |   |--- statuses_count <= 19.00\n",
      "|   |   |   |   |--- listed_count <= 1.50\n",
      "|   |   |   |   |   |--- weights: [7.00, 0.00] class: 0\n",
      "|   |   |   |   |--- listed_count >  1.50\n",
      "|   |   |   |   |   |--- weights: [0.00, 1.00] class: 1\n",
      "|   |   |   |--- statuses_count >  19.00\n",
      "|   |   |   |   |--- listed_count <= 10.50\n",
      "|   |   |   |   |   |--- weights: [9.00, 22.00] class: 1\n",
      "|   |   |   |   |--- listed_count >  10.50\n",
      "|   |   |   |   |   |--- weights: [4.00, 0.00] class: 0\n",
      "|--- verified_True  >  0.50\n",
      "|   |--- created_at <= 1237883904.00\n",
      "|   |   |--- created_at <= 1237859776.00\n",
      "|   |   |   |--- weights: [500.00, 0.00] class: 0\n",
      "|   |   |--- created_at >  1237859776.00\n",
      "|   |   |   |--- weights: [0.00, 1.00] class: 1\n",
      "|   |--- created_at >  1237883904.00\n",
      "|   |   |--- weights: [1556.00, 0.00] class: 0\n",
      "\n",
      "Accuracy: 0.8171055810582266\n",
      "Precision 0.7672354948805461\n",
      "Recall: 0.9677141627206199\n",
      "F1: 0.8558918713116315\n"
     ]
    }
   ],
   "source": [
    "twibot_df, twibot_one_hot, twibot_labels = load_twibot(PROJ_PATH + \"/data/Twibot-20/train.json\")\n",
    "twibot_test, twibot_one_hot_test, twibot_labels_test = load_twibot(PROJ_PATH + \"/data/Twibot-20/test.json\")\n",
    "twibot_validate, twibot_one_hot_validate, twibot_labels_validate = load_twibot(PROJ_PATH + \"/data/Twibot-20/dev.json\")\n",
    "twibot_scores = []\n",
    "for i in range(1, 6):\n",
    "    dt_clf, *_ = fit_and_score(twibot_one_hot[shared_columns], twibot_labels, depth=i)\n",
    "    scr = score(dt_clf, twibot_one_hot_test[shared_columns], twibot_labels_test, silent=True)\n",
    "    twibot_scores.append(scr)"
   ]
  },
  {
   "cell_type": "code",
   "execution_count": 79,
   "metadata": {},
   "outputs": [
    {
     "data": {
      "text/plain": [
       "[(0.8165680473372781, 0.7467911318553092, 1.0, 0.8550434201736806),\n",
       " (0.8165680473372781, 0.7467911318553092, 1.0, 0.8550434201736806),\n",
       " (0.8165680473372781, 0.7467911318553092, 1.0, 0.8550434201736806),\n",
       " (0.8055790363482671, 0.7556109725685786, 0.946875, 0.8404993065187241),\n",
       " (0.8106508875739645, 0.7587064676616916, 0.953125, 0.8448753462603878)]"
      ]
     },
     "execution_count": 79,
     "metadata": {},
     "output_type": "execute_result"
    }
   ],
   "source": [
    "twibot_scores"
   ]
  },
  {
   "cell_type": "code",
   "execution_count": 80,
   "metadata": {
    "ExecuteTime": {
     "end_time": "2022-04-29T03:24:11.009049Z",
     "start_time": "2022-04-29T03:24:10.687955Z"
    },
    "hidden": true
   },
   "outputs": [
    {
     "data": {
      "image/png": "[encoded data removed]",
      "text/plain": [
       "<Figure size 504x288 with 1 Axes>"
      ]
     },
     "metadata": {
      "needs_background": "light"
     },
     "output_type": "display_data"
    }
   ],
   "source": [
    "plot_metrics(twibot_one_hot[shared_columns], twibot_labels, soa_accuracy=0.8664)"
   ]
  },
  {
   "cell_type": "code",
   "execution_count": 81,
   "metadata": {
    "ExecuteTime": {
     "end_time": "2022-04-29T03:24:12.324567Z",
     "start_time": "2022-04-29T03:24:11.116343Z"
    },
    "hidden": true
   },
   "outputs": [
    {
     "name": "stdout",
     "output_type": "stream",
     "text": [
      "Accuracy: 1.0\n",
      "Precision 1.0\n",
      "Recall: 1.0\n",
      "F1: 1.0\n"
     ]
    }
   ],
   "source": [
    "# Fit and score on random forest\n",
    "rf = ensemble.RandomForestClassifier(n_estimators=100)\n",
    "rf_clf, *_ = fit_and_score(twibot_one_hot[shared_columns], twibot_labels, method=rf)"
   ]
  },
  {
   "cell_type": "code",
   "execution_count": 82,
   "metadata": {
    "ExecuteTime": {
     "end_time": "2022-04-29T03:24:12.380710Z",
     "start_time": "2022-04-29T03:24:12.325619Z"
    },
    "hidden": true
   },
   "outputs": [
    {
     "name": "stdout",
     "output_type": "stream",
     "text": [
      "Accuracy: 0.8047337278106509\n",
      "Precision 0.7585335018963337\n",
      "Recall: 0.9375\n",
      "F1: 0.8385744234800838\n"
     ]
    },
    {
     "data": {
      "text/plain": [
       "(0.8047337278106509, 0.7585335018963337, 0.9375, 0.8385744234800838)"
      ]
     },
     "execution_count": 82,
     "metadata": {},
     "output_type": "execute_result"
    }
   ],
   "source": [
    "score(rf_clf, twibot_one_hot_test[shared_columns], twibot_labels_test, method=rf)"
   ]
  },
  {
   "cell_type": "code",
   "execution_count": 83,
   "metadata": {
    "ExecuteTime": {
     "end_time": "2022-04-29T03:24:20.365280Z",
     "start_time": "2022-04-29T03:24:12.823781Z"
    },
    "hidden": true
   },
   "outputs": [
    {
     "name": "stdout",
     "output_type": "stream",
     "text": [
      "Starting mdi_feature_importance at 1654294464.8299327\n",
      "Finished mdi_feature_importance at 1654294464.886899. Execution time: 0.056966304779052734 s\n",
      "Starting permutation_feature_importance at 1654294464.8873992\n",
      "Finished permutation_feature_importance at 1654294478.818291. Execution time: 13.930891752243042 s\n"
     ]
    },
    {
     "data": {
      "image/png": "[encoded data removed]",
      "text/plain": [
       "<Figure size 1080x504 with 2 Axes>"
      ]
     },
     "metadata": {
      "needs_background": "light"
     },
     "output_type": "display_data"
    }
   ],
   "source": [
    "fig, axes = plt.subplots(1,2, figsize=(15,7))\n",
    "mdi_feature_importance(rf_clf, list(twibot_one_hot[shared_columns].columns), axes[0])\n",
    "permutation_feature_importance(axes[1], twibot_df, twibot_labels, DUMMY_COLUMNS + ['is_translator', 'contributors_enabled'])\n",
    "fig.tight_layout()"
   ]
  },
  {
   "cell_type": "markdown",
   "metadata": {
    "heading_collapsed": true,
    "hidden": true
   },
   "source": [
    "### Without verified"
   ]
  },
  {
   "cell_type": "code",
   "execution_count": 11,
   "metadata": {
    "ExecuteTime": {
     "end_time": "2022-04-29T03:24:22.883959Z",
     "start_time": "2022-04-29T03:24:21.404548Z"
    },
    "hidden": true
   },
   "outputs": [
    {
     "name": "stdout",
     "output_type": "stream",
     "text": [
      "|--- listed_count <= 225.50\n",
      "|   |--- weights: [1845.00, 4265.00] class: 1\n",
      "|--- listed_count >  225.50\n",
      "|   |--- weights: [1787.00, 381.00] class: 0\n",
      "\n",
      "Accuracy: 0.7310944672626238\n",
      "Precision 0.6980360065466449\n",
      "Recall: 0.9179939733103745\n",
      "F1: 0.7930457419114912\n"
     ]
    }
   ],
   "source": [
    "twibot_df, twibot_one_hot, twibot_labels = load_twibot(PROJ_PATH + \"/data/Twibot-20/train.json\", ['verified'])\n",
    "dt_clf, *_ = fit_and_score(twibot_one_hot, twibot_labels, depth=1)"
   ]
  },
  {
   "cell_type": "markdown",
   "metadata": {},
   "source": [
    "## botometer-feedback-2019: \"Arming the public with artificial intelligence to counter social bots.\"\n",
    "\n",
    "Yang, Kai‐Cheng, Onur Varol, Clayton A. Davis, Emilio Ferrara, Alessandro Flammini, and Filippo Menczer. \"Arming the public with artificial intelligence to counter social bots.\" Human Behavior and Emerging Technologies 1, no. 1 (2019): 48-61.\n",
    "\n",
    "https://arxiv.org/pdf/1901.00912.pdf\n",
    "\n",
    "Approx. citations: 300\n",
    "\n",
    "Precision is `# correctly predicted bots / # predicted bots`. \n",
    "\n",
    "Recall is `# correctly predicted bots / # bots`.\n",
    "\n",
    "Simple decision rule precision/recall: 0.86/0.68\n",
    "\n",
    "State-of-art precision/recall: 0.84/0.7"
   ]
  },
  {
   "cell_type": "code",
   "execution_count": 86,
   "metadata": {
    "ExecuteTime": {
     "end_time": "2022-05-25T14:00:26.476153Z",
     "start_time": "2022-05-25T14:00:25.273867Z"
    }
   },
   "outputs": [
    {
     "name": "stdout",
     "output_type": "stream",
     "text": [
      "-------------- DECISION TREE --------------\n",
      "Starting train_test_fit_and_score at 1654372639.5197766\n",
      "|--- friends_count <= 8.50\n",
      "|   |--- favourites_count <= 70.00\n",
      "|   |   |--- time_zone_Atlantic Time (Canada) <= 0.50\n",
      "|   |   |   |--- weights: [0.00, 18.00] class: 1.0\n",
      "|   |   |--- time_zone_Atlantic Time (Canada) >  0.50\n",
      "|   |   |   |--- weights: [1.00, 0.00] class: 0.0\n",
      "|   |--- favourites_count >  70.00\n",
      "|   |   |--- time_zone_Mumbai <= 0.50\n",
      "|   |   |   |--- weights: [2.00, 0.00] class: 0.0\n",
      "|   |   |--- time_zone_Mumbai >  0.50\n",
      "|   |   |   |--- weights: [0.00, 1.00] class: 1.0\n",
      "|--- friends_count >  8.50\n",
      "|   |--- friends_count <= 5276.00\n",
      "|   |   |--- statuses_count <= 16.00\n",
      "|   |   |   |--- weights: [7.00, 11.00] class: 1.0\n",
      "|   |   |--- statuses_count >  16.00\n",
      "|   |   |   |--- weights: [235.00, 36.00] class: 0.0\n",
      "|   |--- friends_count >  5276.00\n",
      "|   |   |--- created_at <= 1343924288.00\n",
      "|   |   |   |--- weights: [12.00, 4.00] class: 0.0\n",
      "|   |   |--- created_at >  1343924288.00\n",
      "|   |   |   |--- weights: [9.00, 27.00] class: 1.0\n",
      "\n",
      "Accuracy: 0.7564102564102564\n",
      "Precision 0.5588235294117647\n",
      "Recall: 0.4523809523809524\n",
      "F1: 0.5\n",
      "Finished train_test_fit_and_score at 1654372639.569589. Execution time: 0.04981231689453125 s\n",
      "-------------- RANDOM FOREST --------------\n",
      "Accuracy score: 0.8269230769230769\n",
      "Precision score: 0.7142857142857143\n",
      "Recall score: 0.4166666666666667\n",
      "F1 score: 0.5263157894736842\n",
      "Starting kfold_cv at 1654372639.8360188\n",
      "Fold 0 in progress\n",
      "Fold 1 in progress\n",
      "Fold 2 in progress\n",
      "Fold 3 in progress\n",
      "Fold 4 in progress\n",
      "Finished kfold_cv at 1654372639.9475067. Execution time: 0.11148786544799805 s\n",
      "Starting kfold_cv at 1654372639.9477093\n",
      "Fold 0 in progress\n",
      "Fold 1 in progress\n",
      "Fold 2 in progress\n",
      "Fold 3 in progress\n",
      "Fold 4 in progress\n",
      "Finished kfold_cv at 1654372640.0948613. Execution time: 0.14715194702148438 s\n",
      "Starting kfold_cv at 1654372640.0949395\n",
      "Fold 0 in progress\n",
      "Fold 1 in progress\n",
      "Fold 2 in progress\n",
      "Fold 3 in progress\n",
      "Fold 4 in progress\n",
      "Finished kfold_cv at 1654372640.2319367. Execution time: 0.13699722290039062 s\n",
      "Starting kfold_cv at 1654372640.2319858\n",
      "Fold 0 in progress\n",
      "Fold 1 in progress\n",
      "Fold 2 in progress\n",
      "Fold 3 in progress\n",
      "Fold 4 in progress\n",
      "Finished kfold_cv at 1654372640.357075. Execution time: 0.12508916854858398 s\n",
      "Starting kfold_cv at 1654372640.3572934\n",
      "Fold 0 in progress\n",
      "Fold 1 in progress\n",
      "Fold 2 in progress\n",
      "Fold 3 in progress\n",
      "Fold 4 in progress\n",
      "Finished kfold_cv at 1654372640.4836357. Execution time: 0.1263422966003418 s\n"
     ]
    }
   ],
   "source": [
    "from sklearn.calibration import CalibratedClassifierCV\n",
    "def analyze_bot_repo_dataset(data_path, labels_path, depth=5, soa_accuracy=None, soa_precision=None, soa_recall=None):\n",
    "    profs = extract_users(data_path)\n",
    "    df, one_hot, labels = preprocess_users(profs, labels_path)\n",
    "    # Fit and score on decision tree\n",
    "    print(\"-------------- DECISION TREE --------------\")\n",
    "#     dt_clf, *_ = fit_and_score(one_hot, labels, depth=depth)\n",
    "# #    plot_metrics(one_hot, labels, soa_accuracy=soa_accuracy, soa_precision=soa_precision, soa_recall=soa_recall)\n",
    "#     humans = len([lab for lab in labels if lab == 0])\n",
    "#     bots = len([lab for lab in labels if lab == 1])\n",
    "#     print(humans, bots)\n",
    "#     # Fit and score on decision tree\n",
    "#     print(\"-------------- DECISION TREE TRAIN/TEST SPLIT --------------\")\n",
    "    train_test_fit_and_score(one_hot, labels, depth=depth)\n",
    "#     # Fit and score on random forest\n",
    "    print(\"-------------- RANDOM FOREST --------------\")\n",
    "    train, test, train_labels, test_labels = train_test_split(one_hot, labels, test_size=0.3)\n",
    "    rf = ensemble.RandomForestClassifier(n_estimators=100)\n",
    "    clf_sig = CalibratedClassifierCV(rf, method='sigmoid')\n",
    "    clf = fit(train, train_labels, rf)\n",
    "    probs = clf.predict_proba(test)\n",
    "    preds = [0 if p[0] >= 0.5 else 1 for p in probs]\n",
    "    print(\"Accuracy score:\", accuracy_score(test_labels, preds))\n",
    "    print(\"Precision score:\", precision_score(test_labels, preds))\n",
    "    print(\"Recall score:\", recall_score(test_labels, preds))\n",
    "    print(\"F1 score:\", f1_score(test_labels, preds))\n",
    "    #train_test_fit_and_score(one_hot, labels, method=clf_sig)\n",
    "    #fig, axes = plt.subplots(1,2, figsize=(15,7))\n",
    "    #mdi_feature_importance(rf_clf, list(one_hot.columns), axes[0])\n",
    "    #permutation_feature_importance(axes[1], df, labels, DUMMY_COLUMNS + ['is_translator', 'contributors_enabled'])\n",
    "    #fig.tight_layout()\n",
    "    return [kfold_cv(one_hot, labels, depth=i) for i in range(1,6)]\n",
    "\n",
    "botometer_feedback_scores = analyze_bot_repo_dataset(PROJ_PATH + \"/data/botometer-feedback-2019_tweets.json\", PROJ_PATH + \"/data/botometer-feedback-2019.tsv\", depth=3, soa_precision=0.84, soa_recall=0.7)\n"
   ]
  },
  {
   "cell_type": "code",
   "execution_count": 87,
   "metadata": {},
   "outputs": [
    {
     "data": {
      "text/plain": [
       "[[0.7708364451082899,\n",
       "  0.8414285714285714,\n",
       "  0.1765229885057471,\n",
       "  0.28911137805464837],\n",
       " [0.7417102315160568,\n",
       "  0.6273809523809524,\n",
       "  0.26428104575163397,\n",
       "  0.3346026410448766],\n",
       " [0.7976848394324123,\n",
       "  0.6888969154913427,\n",
       "  0.4743781512605042,\n",
       "  0.554959683921948],\n",
       " [0.7919529499626587,\n",
       "  0.6407429058579953,\n",
       "  0.4803030303030303,\n",
       "  0.5434845750187537],\n",
       " [0.7744772218073189,\n",
       "  0.5945170312410293,\n",
       "  0.5282417582417582,\n",
       "  0.5541079610045128]]"
      ]
     },
     "execution_count": 87,
     "metadata": {},
     "output_type": "execute_result"
    }
   ],
   "source": [
    "botometer_feedback_scores"
   ]
  },
  {
   "cell_type": "markdown",
   "metadata": {
    "heading_collapsed": true
   },
   "source": [
    "### \"Rtbust-2019: Exploiting temporal patterns for botnet detection on twitter.\"\n",
    "\n",
    "Mazza, Michele, Stefano Cresci, Marco Avvenuti, Walter Quattrociocchi, and Maurizio Tesconi. \"Rtbust: Exploiting temporal patterns for botnet detection on twitter.\" In Proceedings of the 10th ACM Conference on Web Science, pp. 183-192. 2019.\n",
    "\n",
    "https://arxiv.org/abs/1902.04506\n",
    "\n",
    "Approx. citations: 100\n",
    "\n",
    "Simple decision rule accuracy: 0.7345\n",
    "\n",
    "State-of-art accuracy: 0.8755 (using different features)"
   ]
  },
  {
   "cell_type": "code",
   "execution_count": 85,
   "metadata": {},
   "outputs": [
    {
     "name": "stdout",
     "output_type": "stream",
     "text": [
      "-------------- DECISION TREE --------------\n",
      "|--- favourites_count <= 9206.00\n",
      "|   |--- weights: [160.00, 299.00] class: 1.0\n",
      "|--- favourites_count >  9206.00\n",
      "|   |--- weights: [180.00, 54.00] class: 0.0\n",
      "\n",
      "Accuracy: 0.6911976911976911\n",
      "Precision 0.6514161220043573\n",
      "Recall: 0.8470254957507082\n",
      "F1: 0.7364532019704434\n",
      "340 353\n"
     ]
    },
    {
     "data": {
      "image/png": "[encoded data removed]",
      "text/plain": [
       "<Figure size 504x288 with 1 Axes>"
      ]
     },
     "metadata": {
      "needs_background": "light"
     },
     "output_type": "display_data"
    }
   ],
   "source": [
    "profs = extract_users(PROJ_PATH + \"/data/cresci-rtbust-2019_tweets.json\")\n",
    "df, one_hot, labels = preprocess_users(profs, PROJ_PATH + \"/data/cresci-rtbust-2019.tsv\")\n",
    "# Fit and score on decision tree\n",
    "print(\"-------------- DECISION TREE --------------\")\n",
    "dt_clf, *_ = fit_and_score(one_hot, labels, depth=1)\n",
    "plot_metrics(one_hot, labels, soa_accuracy=0.8755, soa_precision=0.9304, soa_recall=0.9512)\n",
    "humans = len([lab for lab in labels if lab == 0])\n",
    "bots = len([lab for lab in labels if lab == 1])\n",
    "print(humans, bots)"
   ]
  },
  {
   "cell_type": "code",
   "execution_count": 86,
   "metadata": {
    "ExecuteTime": {
     "end_time": "2022-04-29T03:24:41.446328Z",
     "start_time": "2022-04-29T03:24:40.263155Z"
    },
    "hidden": true
   },
   "outputs": [
    {
     "name": "stdout",
     "output_type": "stream",
     "text": [
      "-------------- DECISION TREE --------------\n",
      "|--- favourites_count <= 9206.00\n",
      "|   |--- created_at <= 1403440128.00\n",
      "|   |   |--- weights: [72.00, 66.00] class: 0.0\n",
      "|   |--- created_at >  1403440128.00\n",
      "|   |   |--- weights: [88.00, 233.00] class: 1.0\n",
      "|--- favourites_count >  9206.00\n",
      "|   |--- favourites_count <= 24401.50\n",
      "|   |   |--- weights: [86.00, 41.00] class: 0.0\n",
      "|   |--- favourites_count >  24401.50\n",
      "|   |   |--- weights: [94.00, 13.00] class: 0.0\n",
      "\n",
      "Accuracy: 0.6998556998556998\n",
      "Precision 0.7258566978193146\n",
      "Recall: 0.660056657223796\n",
      "F1: 0.6913946587537092\n",
      "340 353\n",
      "-------------- DECISION TREE TRAIN/TEST SPLIT --------------\n",
      "Starting train_test_fit_and_score at 1654294498.2273502\n",
      "|--- favourites_count <= 9148.50\n",
      "|   |--- listed_count <= 33.00\n",
      "|   |   |--- weights: [87.00, 205.00] class: 1.0\n",
      "|   |--- listed_count >  33.00\n",
      "|   |   |--- weights: [14.00, 3.00] class: 0.0\n",
      "|--- favourites_count >  9148.50\n",
      "|   |--- favourites_count <= 14210.50\n",
      "|   |   |--- weights: [31.00, 21.00] class: 0.0\n",
      "|   |--- favourites_count >  14210.50\n",
      "|   |   |--- weights: [103.00, 21.00] class: 0.0\n",
      "\n",
      "Accuracy: 0.6682692307692307\n",
      "Precision 0.6197183098591549\n",
      "Recall: 0.8543689320388349\n",
      "F1: 0.7183673469387755\n",
      "Finished train_test_fit_and_score at 1654294498.2620373. Execution time: 0.034687042236328125 s\n",
      "-------------- RANDOM FOREST --------------\n",
      "Starting train_test_fit_and_score at 1654294498.2624326\n",
      "|--- favourites_count <= 8945.50\n",
      "|   |--- created_at <= 1403440128.00\n",
      "|   |   |--- listed_count <= 6.50\n",
      "|   |   |   |--- weights: [30.00, 42.00] class: 1.0\n",
      "|   |   |--- listed_count >  6.50\n",
      "|   |   |   |--- weights: [20.00, 3.00] class: 0.0\n",
      "|   |--- created_at >  1403440128.00\n",
      "|   |   |--- created_at <= 1490408768.00\n",
      "|   |   |   |--- weights: [22.00, 129.00] class: 1.0\n",
      "|   |   |--- created_at >  1490408768.00\n",
      "|   |   |   |--- weights: [38.00, 38.00] class: 0.0\n",
      "|--- favourites_count >  8945.50\n",
      "|   |--- friends_count <= 84.50\n",
      "|   |   |--- followers_count <= 1.50\n",
      "|   |   |   |--- weights: [1.00, 0.00] class: 0.0\n",
      "|   |   |--- followers_count >  1.50\n",
      "|   |   |   |--- weights: [0.00, 5.00] class: 1.0\n",
      "|   |--- friends_count >  84.50\n",
      "|   |   |--- listed_count <= 399.50\n",
      "|   |   |   |--- weights: [120.00, 34.00] class: 0.0\n",
      "|   |   |--- listed_count >  399.50\n",
      "|   |   |   |--- weights: [0.00, 3.00] class: 1.0\n",
      "\n",
      "Accuracy: 0.7163461538461539\n",
      "Precision 0.75\n",
      "Recall: 0.6060606060606061\n",
      "F1: 0.670391061452514\n",
      "Finished train_test_fit_and_score at 1654294498.2961388. Execution time: 0.0337061882019043 s\n",
      "Starting kfold_cv at 1654294498.296326\n",
      "Fold 0 in progress\n",
      "Fold 1 in progress\n",
      "Fold 2 in progress\n",
      "Fold 3 in progress\n",
      "Fold 4 in progress\n",
      "Finished kfold_cv at 1654294498.3872232. Execution time: 0.0908973217010498 s\n",
      "Starting kfold_cv at 1654294498.3874426\n",
      "Fold 0 in progress\n",
      "Fold 1 in progress\n",
      "Fold 2 in progress\n",
      "Fold 3 in progress\n",
      "Fold 4 in progress\n",
      "Finished kfold_cv at 1654294498.5004978. Execution time: 0.11305522918701172 s\n",
      "Starting kfold_cv at 1654294498.5007117\n",
      "Fold 0 in progress\n",
      "Fold 1 in progress\n",
      "Fold 2 in progress\n",
      "Fold 3 in progress\n",
      "Fold 4 in progress\n",
      "Finished kfold_cv at 1654294498.5979617. Execution time: 0.09724998474121094 s\n",
      "Starting kfold_cv at 1654294498.5981843\n",
      "Fold 0 in progress\n",
      "Fold 1 in progress\n",
      "Fold 2 in progress\n",
      "Fold 3 in progress\n",
      "Fold 4 in progress\n",
      "Finished kfold_cv at 1654294498.6983974. Execution time: 0.10021305084228516 s\n",
      "Starting kfold_cv at 1654294498.6986113\n",
      "Fold 0 in progress\n",
      "Fold 1 in progress\n",
      "Fold 2 in progress\n",
      "Fold 3 in progress\n",
      "Fold 4 in progress\n",
      "Finished kfold_cv at 1654294498.8006265. Execution time: 0.10201525688171387 s\n"
     ]
    }
   ],
   "source": [
    "rtbust_scores = analyze_bot_repo_dataset(PROJ_PATH + \"/data/cresci-rtbust-2019_tweets.json\", PROJ_PATH + \"/data/cresci-rtbust-2019.tsv\", depth=2, soa_accuracy=0.8755)"
   ]
  },
  {
   "cell_type": "code",
   "execution_count": 57,
   "metadata": {},
   "outputs": [
    {
     "data": {
      "text/plain": [
       "[[0.6796303103502599,\n",
       "  0.6417692167274922,\n",
       "  0.8385404715965766,\n",
       "  0.7248570817152169],\n",
       " [0.669579372997952,\n",
       "  0.6741393525890462,\n",
       "  0.7227873300408512,\n",
       "  0.686792348918745],\n",
       " [0.6853436958462427,\n",
       "  0.6918343076190104,\n",
       "  0.6782528957528957,\n",
       "  0.6839277268180879],\n",
       " [0.7142677099196555,\n",
       "  0.6958571361558481,\n",
       "  0.7878906342690364,\n",
       "  0.736841159947592],\n",
       " [0.7086383447986137,\n",
       "  0.7002994483431981,\n",
       "  0.7658089143977106,\n",
       "  0.7264522217734173]]"
      ]
     },
     "execution_count": 57,
     "metadata": {},
     "output_type": "execute_result"
    }
   ],
   "source": [
    "rtbust_scores"
   ]
  },
  {
   "cell_type": "markdown",
   "metadata": {
    "heading_collapsed": true
   },
   "source": [
    "## midterm-2018\n",
    "\n",
    "Note: Too big to run on my computer right now."
   ]
  },
  {
   "cell_type": "code",
   "execution_count": 87,
   "metadata": {
    "ExecuteTime": {
     "start_time": "2022-05-25T01:03:42.481Z"
    },
    "hidden": true
   },
   "outputs": [
    {
     "name": "stdout",
     "output_type": "stream",
     "text": [
      "-------------- DECISION TREE --------------\n",
      "|--- user_created_at <= 1505082048.00\n",
      "|   |--- weights: [7396.00, 584.00] class: 0.0\n",
      "|--- user_created_at >  1505082048.00\n",
      "|   |--- weights: [696.00, 41862.00] class: 1.0\n",
      "\n",
      "Accuracy: 0.9746725236455737\n",
      "Precision 0.9836458480191739\n",
      "Recall: 0.9862413419403477\n",
      "F1: 0.9849418850877606\n",
      "Starting kfold_cv at 1654294584.450772\n",
      "Fold 0 in progress\n",
      "Fold 1 in progress\n",
      "Fold 2 in progress\n",
      "Fold 3 in progress\n",
      "Fold 4 in progress\n",
      "Finished kfold_cv at 1654294744.7488832. Execution time: 160.29811120033264 s\n",
      "Starting kfold_cv at 1654294744.7492192\n",
      "Fold 0 in progress\n",
      "Fold 1 in progress\n",
      "Fold 2 in progress\n",
      "Fold 3 in progress\n",
      "Fold 4 in progress\n",
      "Finished kfold_cv at 1654294947.751152. Execution time: 203.00193285942078 s\n",
      "Starting kfold_cv at 1654294947.752092\n",
      "Fold 0 in progress\n",
      "Fold 1 in progress\n",
      "Fold 2 in progress\n",
      "Fold 3 in progress\n",
      "Fold 4 in progress\n",
      "Finished kfold_cv at 1654295182.3981934. Execution time: 234.64610147476196 s\n",
      "Starting kfold_cv at 1654295182.3990035\n",
      "Fold 0 in progress\n",
      "Fold 1 in progress\n",
      "Fold 2 in progress\n",
      "Fold 3 in progress\n",
      "Fold 4 in progress\n",
      "Finished kfold_cv at 1654295444.086922. Execution time: 261.6879184246063 s\n",
      "Starting kfold_cv at 1654295444.0872781\n",
      "Fold 0 in progress\n",
      "Fold 1 in progress\n",
      "Fold 2 in progress\n",
      "Fold 3 in progress\n",
      "Fold 4 in progress\n",
      "Finished kfold_cv at 1654295746.0917752. Execution time: 302.004497051239 s\n"
     ]
    }
   ],
   "source": [
    "def midterm_extract_users(data_path):\n",
    "    with open(data_path) as f:\n",
    "        d = json.load(f)\n",
    "    return d\n",
    "\n",
    "def midterm_preprocess_users(profs, labels_path, dummy_cols):\n",
    "    df = pd.DataFrame(profs).set_index(\"user_id\")\n",
    "    df[\"user_created_at\"] = df[\"user_created_at\"].apply(lambda dt: datetime.strptime(dt, \"%a %b %d %H:%M:%S %Y\").timestamp())\n",
    "    labels = pd.read_csv(labels_path, sep=\"\\t\", header=None, names=[\"id\", \"label_str\"], index_col=\"id\")\n",
    "    labels.loc[labels['label_str']==\"human\", 'label'] = 0\n",
    "    labels.loc[labels['label_str']==\"bot\", 'label'] = 1\n",
    "    df, labels = df.align(labels, join=\"inner\", axis=0)\n",
    "    df.reset_index(inplace=True)\n",
    "    labels = labels['label']\n",
    "    one_hot = preprocess(df, ['probe_timestamp', 'screen_name', 'name', 'description', 'url'], dummy_cols)\n",
    "    return df, one_hot, labels\n",
    "\n",
    "def analyze_midterm_dataset(data_path, labels_path, depth=1, soa_accuracy=None, soa_precision=None, soa_recall=None):\n",
    "    profs = midterm_extract_users(data_path)\n",
    "    dummy_cols = ['lang', 'protected', 'verified', 'geo_enabled', 'profile_use_background_image', 'default_profile', 'index']\n",
    "    df, one_hot, labels = midterm_preprocess_users(profs, labels_path, dummy_cols)\n",
    "    # Fit and score on decision tree\n",
    "    print(\"-------------- DECISION TREE --------------\")\n",
    "    dt_clf, *_ = fit_and_score(one_hot, labels, depth=depth)\n",
    "#    plot_metrics(one_hot, labels, soa_accuracy=soa_accuracy, soa_precision=soa_precision, soa_recall=soa_recall)\n",
    "    # Fit and score on decision tree\n",
    "#     print(\"-------------- DECISION TREE TRAIN/TEST SPLIT --------------\")\n",
    "#     train_test_fit_and_score(one_hot, labels, depth=depth)\n",
    "#     # Fit and score on random forest\n",
    "#     print(\"-------------- RANDOM FOREST --------------\")\n",
    "#     rf = ensemble.RandomForestClassifier(n_estimators=100)\n",
    "#     rf_clf, *_ = fit_and_score(one_hot, labels, method=rf)\n",
    "#     fig, axes = plt.subplots(1,2, figsize=(15,7))\n",
    "#     mdi_feature_importance(rf_clf, list(one_hot.columns), axes[0])\n",
    "#     permutation_feature_importance(axes[1], df, labels, dummy_cols)\n",
    "#     fig.tight_layout()\n",
    "    return [kfold_cv(one_hot, labels, depth=i) for i in range(1,6)]\n",
    "\n",
    "midterm2018_scores = analyze_midterm_dataset(PROJ_PATH + \"/data/midterm-2018/midterm-2018_processed_user_objects.json\", PROJ_PATH + \"/data/midterm-2018/midterm-2018.tsv\", depth=1)"
   ]
  },
  {
   "cell_type": "code",
   "execution_count": 88,
   "metadata": {},
   "outputs": [
    {
     "data": {
      "text/plain": [
       "[[0.9746725313184008,\n",
       "  0.9836441063938995,\n",
       "  0.9862434846629601,\n",
       "  0.9849409270176954],\n",
       " [0.9835965281666883,\n",
       "  0.9877493959427837,\n",
       "  0.9927899696310531,\n",
       "  0.9902596177793761],\n",
       " [0.9862678128654622,\n",
       "  0.9879194505138035,\n",
       "  0.9958288965363277,\n",
       "  0.9918570258429675],\n",
       " [0.9894930554484163,\n",
       "  0.9898563326966228,\n",
       "  0.9977141662829292,\n",
       "  0.9937695808423822],\n",
       " [0.9903043293130803,\n",
       "  0.9898202075913807,\n",
       "  0.9987292937085497,\n",
       "  0.994254458325902]]"
      ]
     },
     "execution_count": 88,
     "metadata": {},
     "output_type": "execute_result"
    }
   ],
   "source": [
    "midterm2018_scores"
   ]
  },
  {
   "cell_type": "code",
   "execution_count": 73,
   "metadata": {},
   "outputs": [
    {
     "name": "stdout",
     "output_type": "stream",
     "text": [
      "Starting train_test_fit_and_score at 1653954240.866365\n",
      "|--- user_created_at <= 1504892608.00\n",
      "|   |--- tid <= 1060283183200731136.00\n",
      "|   |   |--- favourites_count <= 18.50\n",
      "|   |   |   |--- weights: [72.00, 61.00] class: 0.0\n",
      "|   |   |--- favourites_count >  18.50\n",
      "|   |   |   |--- weights: [5057.00, 13.00] class: 0.0\n",
      "|   |--- tid >  1060283183200731136.00\n",
      "|   |   |--- weights: [0.00, 338.00] class: 1.0\n",
      "|--- user_created_at >  1504892608.00\n",
      "|   |--- favourites_count <= 1552.50\n",
      "|   |   |--- geo_enabled_True <= 0.50\n",
      "|   |   |   |--- weights: [286.00, 29054.00] class: 1.0\n",
      "|   |   |--- geo_enabled_True >  0.50\n",
      "|   |   |   |--- weights: [53.00, 101.00] class: 1.0\n",
      "|   |--- favourites_count >  1552.50\n",
      "|   |   |--- user_created_at <= 1535756288.00\n",
      "|   |   |   |--- weights: [163.00, 60.00] class: 0.0\n",
      "|   |   |--- user_created_at >  1535756288.00\n",
      "|   |   |   |--- weights: [8.00, 110.00] class: 1.0\n",
      "\n",
      "Accuracy: 0.9871388998812821\n",
      "Precision 0.9895931142410016\n",
      "Recall: 0.9951215673931859\n",
      "F1: 0.992349641021617\n",
      "Finished train_test_fit_and_score at 1653954306.9063294. Execution time: 66.03996443748474 s\n"
     ]
    }
   ],
   "source": [
    "profs = midterm_extract_users(PROJ_PATH + \"/data/midterm-2018/midterm-2018_processed_user_objects.json\")\n",
    "dummy_cols = ['lang', 'protected', 'verified', 'geo_enabled', 'profile_use_background_image', 'default_profile', 'index']\n",
    "df, one_hot, labels = midterm_preprocess_users(profs, PROJ_PATH + \"/data/midterm-2018/midterm-2018.tsv\", dummy_cols)\n",
    "rf = ensemble.RandomForestClassifier(n_estimators=100)\n",
    "train_test_fit_and_score(one_hot, labels, method=rf)"
   ]
  },
  {
   "cell_type": "markdown",
   "metadata": {
    "heading_collapsed": true
   },
   "source": [
    "## gilani-2017"
   ]
  },
  {
   "cell_type": "code",
   "execution_count": 11,
   "metadata": {
    "ExecuteTime": {
     "end_time": "2022-04-29T12:27:40.688385Z",
     "start_time": "2022-04-29T12:27:36.907788Z"
    },
    "hidden": true
   },
   "outputs": [
    {
     "name": "stdout",
     "output_type": "stream",
     "text": [
      "-------------- DECISION TREE --------------\n",
      "|--- statuses_count <= 90439.00\n",
      "|   |--- favourites_count <= 1471.50\n",
      "|   |   |--- statuses_count <= 34842.50\n",
      "|   |   |   |--- weights: [321.00, 180.00] class: 0.0\n",
      "|   |   |--- statuses_count >  34842.50\n",
      "|   |   |   |--- weights: [90.00, 171.00] class: 1.0\n",
      "|   |--- favourites_count >  1471.50\n",
      "|   |   |--- statuses_count <= 50663.00\n",
      "|   |   |   |--- weights: [710.00, 145.00] class: 0.0\n",
      "|   |   |--- statuses_count >  50663.00\n",
      "|   |   |   |--- weights: [167.00, 96.00] class: 0.0\n",
      "|--- statuses_count >  90439.00\n",
      "|   |--- favourites_count <= 3001.00\n",
      "|   |   |--- has_extended_profile_True <= 0.50\n",
      "|   |   |   |--- weights: [10.00, 264.00] class: 1.0\n",
      "|   |   |--- has_extended_profile_True >  0.50\n",
      "|   |   |   |--- weights: [16.00, 55.00] class: 1.0\n",
      "|   |--- favourites_count >  3001.00\n",
      "|   |   |--- statuses_count <= 142930.50\n",
      "|   |   |   |--- weights: [67.00, 56.00] class: 0.0\n",
      "|   |   |--- statuses_count >  142930.50\n",
      "|   |   |   |--- weights: [32.00, 123.00] class: 1.0\n",
      "\n",
      "Accuracy: 0.7502996404314822\n",
      "Precision 0.8055190538764783\n",
      "Recall: 0.5623853211009174\n",
      "F1: 0.6623446785521341\n",
      "1413 1090\n",
      "Starting kfold_cv at 1654044222.78111\n",
      "Fold 0 in progress\n",
      "Fold 1 in progress\n",
      "Fold 2 in progress\n",
      "Fold 3 in progress\n",
      "Fold 4 in progress\n",
      "Finished kfold_cv at 1654044223.3007665. Execution time: 0.5196564197540283 s\n",
      "Starting kfold_cv at 1654044223.3009079\n",
      "Fold 0 in progress\n",
      "Fold 1 in progress\n",
      "Fold 2 in progress\n",
      "Fold 3 in progress\n",
      "Fold 4 in progress\n",
      "Finished kfold_cv at 1654044223.799517. Execution time: 0.4986090660095215 s\n",
      "Starting kfold_cv at 1654044223.7998302\n",
      "Fold 0 in progress\n",
      "Fold 1 in progress\n",
      "Fold 2 in progress\n",
      "Fold 3 in progress\n",
      "Fold 4 in progress\n",
      "Finished kfold_cv at 1654044224.2609615. Execution time: 0.46113133430480957 s\n",
      "Starting kfold_cv at 1654044224.2613964\n",
      "Fold 0 in progress\n",
      "Fold 1 in progress\n",
      "Fold 2 in progress\n",
      "Fold 3 in progress\n",
      "Fold 4 in progress\n",
      "Finished kfold_cv at 1654044224.8537734. Execution time: 0.5923769474029541 s\n",
      "Starting kfold_cv at 1654044224.854265\n",
      "Fold 0 in progress\n",
      "Fold 1 in progress\n",
      "Fold 2 in progress\n",
      "Fold 3 in progress\n",
      "Fold 4 in progress\n",
      "Finished kfold_cv at 1654044225.4799943. Execution time: 0.6257293224334717 s\n"
     ]
    }
   ],
   "source": [
    "gilani_scores = analyze_bot_repo_dataset(PROJ_PATH + \"/data/gilani-2017_tweets.json\", PROJ_PATH + \"/data/gilani-2017.tsv\", depth=3, soa_accuracy=0.8755)"
   ]
  },
  {
   "cell_type": "code",
   "execution_count": null,
   "metadata": {},
   "outputs": [],
   "source": []
  },
  {
   "cell_type": "code",
   "execution_count": 78,
   "metadata": {},
   "outputs": [
    {
     "data": {
      "text/plain": [
       "[[0.7103388413553654,\n",
       "  0.7884492335823218,\n",
       "  0.45791174922277655,\n",
       "  0.5791332877058186],\n",
       " [0.7119500478001912,\n",
       "  0.765294843847512,\n",
       "  0.4966305330497748,\n",
       "  0.5979082606256532],\n",
       " [0.7331349325397302,\n",
       "  0.7659048835296934,\n",
       "  0.5715213382615072,\n",
       "  0.6497206390550103],\n",
       " [0.7323205292821171,\n",
       "  0.7160816429465366,\n",
       "  0.6441558694967064,\n",
       "  0.675848915400908],\n",
       " [0.7406701626806507,\n",
       "  0.7528569995260148,\n",
       "  0.6027759942766246,\n",
       "  0.6691609415965379]]"
      ]
     },
     "execution_count": 78,
     "metadata": {},
     "output_type": "execute_result"
    }
   ],
   "source": [
    "gilani_scores"
   ]
  },
  {
   "cell_type": "code",
   "execution_count": 81,
   "metadata": {},
   "outputs": [
    {
     "data": {
      "text/html": [
       "<div>\n",
       "<style scoped>\n",
       "    .dataframe tbody tr th:only-of-type {\n",
       "        vertical-align: middle;\n",
       "    }\n",
       "\n",
       "    .dataframe tbody tr th {\n",
       "        vertical-align: top;\n",
       "    }\n",
       "\n",
       "    .dataframe thead th {\n",
       "        text-align: right;\n",
       "    }\n",
       "</style>\n",
       "<table border=\"1\" class=\"dataframe\">\n",
       "  <thead>\n",
       "    <tr style=\"text-align: right;\">\n",
       "      <th></th>\n",
       "      <th>0</th>\n",
       "      <th>1</th>\n",
       "      <th>2</th>\n",
       "      <th>3</th>\n",
       "      <th>4</th>\n",
       "      <th>5</th>\n",
       "      <th>6</th>\n",
       "      <th>7</th>\n",
       "      <th>8</th>\n",
       "      <th>9</th>\n",
       "      <th>...</th>\n",
       "      <th>2493</th>\n",
       "      <th>2494</th>\n",
       "      <th>2495</th>\n",
       "      <th>2496</th>\n",
       "      <th>2497</th>\n",
       "      <th>2498</th>\n",
       "      <th>2499</th>\n",
       "      <th>2500</th>\n",
       "      <th>2501</th>\n",
       "      <th>2502</th>\n",
       "    </tr>\n",
       "  </thead>\n",
       "  <tbody>\n",
       "    <tr>\n",
       "      <th>location</th>\n",
       "      <td>In your Xbox</td>\n",
       "      <td>Seattle, WA</td>\n",
       "      <td>🏴󠁧󠁢󠁷󠁬󠁳󠁿</td>\n",
       "      <td>NYC - Boston - Chicago - SF</td>\n",
       "      <td>University of Regina, Canada.</td>\n",
       "      <td>London, UK</td>\n",
       "      <td></td>\n",
       "      <td>Internet</td>\n",
       "      <td>🇯🇵 ⇄ 🇲🇽 ⇄ 🇺🇸</td>\n",
       "      <td>Londres, GB, e São Paulo, BR</td>\n",
       "      <td>...</td>\n",
       "      <td>Muara Bungo, Indonesia</td>\n",
       "      <td>Mystic Falls.</td>\n",
       "      <td>United Kingdom</td>\n",
       "      <td></td>\n",
       "      <td></td>\n",
       "      <td>لا اله الا الله</td>\n",
       "      <td>06.08🤞</td>\n",
       "      <td>Activa mis notificaciones 🔔</td>\n",
       "      <td></td>\n",
       "      <td>Rocha, Uruguay</td>\n",
       "    </tr>\n",
       "    <tr>\n",
       "      <th>protected</th>\n",
       "      <td>False</td>\n",
       "      <td>False</td>\n",
       "      <td>False</td>\n",
       "      <td>False</td>\n",
       "      <td>False</td>\n",
       "      <td>False</td>\n",
       "      <td>False</td>\n",
       "      <td>False</td>\n",
       "      <td>False</td>\n",
       "      <td>False</td>\n",
       "      <td>...</td>\n",
       "      <td>False</td>\n",
       "      <td>False</td>\n",
       "      <td>False</td>\n",
       "      <td>False</td>\n",
       "      <td>False</td>\n",
       "      <td>False</td>\n",
       "      <td>False</td>\n",
       "      <td>False</td>\n",
       "      <td>False</td>\n",
       "      <td>False</td>\n",
       "    </tr>\n",
       "    <tr>\n",
       "      <th>followers_count</th>\n",
       "      <td>1127687</td>\n",
       "      <td>11426282</td>\n",
       "      <td>176975</td>\n",
       "      <td>1170497</td>\n",
       "      <td>128848</td>\n",
       "      <td>24393975</td>\n",
       "      <td>41183185</td>\n",
       "      <td>116023</td>\n",
       "      <td>110236</td>\n",
       "      <td>2090741</td>\n",
       "      <td>...</td>\n",
       "      <td>5</td>\n",
       "      <td>1</td>\n",
       "      <td>17</td>\n",
       "      <td>9365</td>\n",
       "      <td>65</td>\n",
       "      <td>3</td>\n",
       "      <td>88</td>\n",
       "      <td>276</td>\n",
       "      <td>51</td>\n",
       "      <td>73</td>\n",
       "    </tr>\n",
       "    <tr>\n",
       "      <th>friends_count</th>\n",
       "      <td>5</td>\n",
       "      <td>96424</td>\n",
       "      <td>230</td>\n",
       "      <td>1113</td>\n",
       "      <td>69934</td>\n",
       "      <td>92</td>\n",
       "      <td>1111</td>\n",
       "      <td>23767</td>\n",
       "      <td>2605</td>\n",
       "      <td>906</td>\n",
       "      <td>...</td>\n",
       "      <td>44</td>\n",
       "      <td>8</td>\n",
       "      <td>13</td>\n",
       "      <td>56</td>\n",
       "      <td>23</td>\n",
       "      <td>11</td>\n",
       "      <td>99</td>\n",
       "      <td>12</td>\n",
       "      <td>118</td>\n",
       "      <td>15</td>\n",
       "    </tr>\n",
       "    <tr>\n",
       "      <th>listed_count</th>\n",
       "      <td>11593</td>\n",
       "      <td>28442</td>\n",
       "      <td>1122</td>\n",
       "      <td>29281</td>\n",
       "      <td>4385</td>\n",
       "      <td>112307</td>\n",
       "      <td>137121</td>\n",
       "      <td>7072</td>\n",
       "      <td>1913</td>\n",
       "      <td>7342</td>\n",
       "      <td>...</td>\n",
       "      <td>0</td>\n",
       "      <td>0</td>\n",
       "      <td>0</td>\n",
       "      <td>74</td>\n",
       "      <td>0</td>\n",
       "      <td>0</td>\n",
       "      <td>0</td>\n",
       "      <td>0</td>\n",
       "      <td>0</td>\n",
       "      <td>0</td>\n",
       "    </tr>\n",
       "    <tr>\n",
       "      <th>created_at</th>\n",
       "      <td>1164227283.0</td>\n",
       "      <td>1164827942.0</td>\n",
       "      <td>1168443543.0</td>\n",
       "      <td>1169949529.0</td>\n",
       "      <td>1170268203.0</td>\n",
       "      <td>1170315869.0</td>\n",
       "      <td>1170981302.0</td>\n",
       "      <td>1171287495.0</td>\n",
       "      <td>1171881280.0</td>\n",
       "      <td>1172233646.0</td>\n",
       "      <td>...</td>\n",
       "      <td>1528580175.0</td>\n",
       "      <td>1530229417.0</td>\n",
       "      <td>1531252672.0</td>\n",
       "      <td>1535355982.0</td>\n",
       "      <td>1536404088.0</td>\n",
       "      <td>1536669160.0</td>\n",
       "      <td>1538627827.0</td>\n",
       "      <td>1542127115.0</td>\n",
       "      <td>1545401958.0</td>\n",
       "      <td>1546197271.0</td>\n",
       "    </tr>\n",
       "    <tr>\n",
       "      <th>favourites_count</th>\n",
       "      <td>7</td>\n",
       "      <td>17340</td>\n",
       "      <td>10641</td>\n",
       "      <td>6185</td>\n",
       "      <td>27504</td>\n",
       "      <td>10</td>\n",
       "      <td>1449</td>\n",
       "      <td>46789</td>\n",
       "      <td>9415</td>\n",
       "      <td>398</td>\n",
       "      <td>...</td>\n",
       "      <td>0</td>\n",
       "      <td>2</td>\n",
       "      <td>25</td>\n",
       "      <td>25</td>\n",
       "      <td>0</td>\n",
       "      <td>3</td>\n",
       "      <td>1626</td>\n",
       "      <td>22</td>\n",
       "      <td>1</td>\n",
       "      <td>220</td>\n",
       "    </tr>\n",
       "    <tr>\n",
       "      <th>utc_offset</th>\n",
       "      <td>None</td>\n",
       "      <td>None</td>\n",
       "      <td>None</td>\n",
       "      <td>None</td>\n",
       "      <td>None</td>\n",
       "      <td>None</td>\n",
       "      <td>None</td>\n",
       "      <td>None</td>\n",
       "      <td>None</td>\n",
       "      <td>None</td>\n",
       "      <td>...</td>\n",
       "      <td>None</td>\n",
       "      <td>None</td>\n",
       "      <td>None</td>\n",
       "      <td>None</td>\n",
       "      <td>None</td>\n",
       "      <td>None</td>\n",
       "      <td>None</td>\n",
       "      <td>None</td>\n",
       "      <td>None</td>\n",
       "      <td>None</td>\n",
       "    </tr>\n",
       "    <tr>\n",
       "      <th>time_zone</th>\n",
       "      <td>None</td>\n",
       "      <td>None</td>\n",
       "      <td>None</td>\n",
       "      <td>None</td>\n",
       "      <td>None</td>\n",
       "      <td>None</td>\n",
       "      <td>None</td>\n",
       "      <td>None</td>\n",
       "      <td>None</td>\n",
       "      <td>None</td>\n",
       "      <td>...</td>\n",
       "      <td>None</td>\n",
       "      <td>None</td>\n",
       "      <td>None</td>\n",
       "      <td>None</td>\n",
       "      <td>None</td>\n",
       "      <td>None</td>\n",
       "      <td>None</td>\n",
       "      <td>None</td>\n",
       "      <td>None</td>\n",
       "      <td>None</td>\n",
       "    </tr>\n",
       "    <tr>\n",
       "      <th>geo_enabled</th>\n",
       "      <td>True</td>\n",
       "      <td>True</td>\n",
       "      <td>True</td>\n",
       "      <td>False</td>\n",
       "      <td>True</td>\n",
       "      <td>True</td>\n",
       "      <td>True</td>\n",
       "      <td>True</td>\n",
       "      <td>True</td>\n",
       "      <td>True</td>\n",
       "      <td>...</td>\n",
       "      <td>False</td>\n",
       "      <td>False</td>\n",
       "      <td>False</td>\n",
       "      <td>False</td>\n",
       "      <td>False</td>\n",
       "      <td>False</td>\n",
       "      <td>True</td>\n",
       "      <td>False</td>\n",
       "      <td>False</td>\n",
       "      <td>True</td>\n",
       "    </tr>\n",
       "    <tr>\n",
       "      <th>verified</th>\n",
       "      <td>True</td>\n",
       "      <td>True</td>\n",
       "      <td>True</td>\n",
       "      <td>True</td>\n",
       "      <td>True</td>\n",
       "      <td>True</td>\n",
       "      <td>True</td>\n",
       "      <td>True</td>\n",
       "      <td>True</td>\n",
       "      <td>True</td>\n",
       "      <td>...</td>\n",
       "      <td>False</td>\n",
       "      <td>False</td>\n",
       "      <td>False</td>\n",
       "      <td>True</td>\n",
       "      <td>False</td>\n",
       "      <td>False</td>\n",
       "      <td>False</td>\n",
       "      <td>False</td>\n",
       "      <td>False</td>\n",
       "      <td>False</td>\n",
       "    </tr>\n",
       "    <tr>\n",
       "      <th>statuses_count</th>\n",
       "      <td>54804</td>\n",
       "      <td>166790</td>\n",
       "      <td>140632</td>\n",
       "      <td>97313</td>\n",
       "      <td>121084</td>\n",
       "      <td>289290</td>\n",
       "      <td>222669</td>\n",
       "      <td>52817</td>\n",
       "      <td>93310</td>\n",
       "      <td>171379</td>\n",
       "      <td>...</td>\n",
       "      <td>14</td>\n",
       "      <td>15</td>\n",
       "      <td>13</td>\n",
       "      <td>1365</td>\n",
       "      <td>7</td>\n",
       "      <td>7</td>\n",
       "      <td>1340</td>\n",
       "      <td>611</td>\n",
       "      <td>1</td>\n",
       "      <td>48</td>\n",
       "    </tr>\n",
       "    <tr>\n",
       "      <th>lang</th>\n",
       "      <td>en</td>\n",
       "      <td>en</td>\n",
       "      <td>en-gb</td>\n",
       "      <td>en</td>\n",
       "      <td>en</td>\n",
       "      <td>en</td>\n",
       "      <td>en</td>\n",
       "      <td>en</td>\n",
       "      <td>es</td>\n",
       "      <td>pt</td>\n",
       "      <td>...</td>\n",
       "      <td>id</td>\n",
       "      <td>en</td>\n",
       "      <td>en</td>\n",
       "      <td>fr</td>\n",
       "      <td>en</td>\n",
       "      <td>en</td>\n",
       "      <td>es</td>\n",
       "      <td>es</td>\n",
       "      <td>en</td>\n",
       "      <td>en</td>\n",
       "    </tr>\n",
       "    <tr>\n",
       "      <th>contributors_enabled</th>\n",
       "      <td>False</td>\n",
       "      <td>False</td>\n",
       "      <td>False</td>\n",
       "      <td>False</td>\n",
       "      <td>False</td>\n",
       "      <td>False</td>\n",
       "      <td>False</td>\n",
       "      <td>False</td>\n",
       "      <td>False</td>\n",
       "      <td>False</td>\n",
       "      <td>...</td>\n",
       "      <td>False</td>\n",
       "      <td>False</td>\n",
       "      <td>False</td>\n",
       "      <td>False</td>\n",
       "      <td>False</td>\n",
       "      <td>False</td>\n",
       "      <td>False</td>\n",
       "      <td>False</td>\n",
       "      <td>False</td>\n",
       "      <td>False</td>\n",
       "    </tr>\n",
       "    <tr>\n",
       "      <th>is_translator</th>\n",
       "      <td>False</td>\n",
       "      <td>False</td>\n",
       "      <td>False</td>\n",
       "      <td>False</td>\n",
       "      <td>False</td>\n",
       "      <td>False</td>\n",
       "      <td>False</td>\n",
       "      <td>False</td>\n",
       "      <td>False</td>\n",
       "      <td>False</td>\n",
       "      <td>...</td>\n",
       "      <td>False</td>\n",
       "      <td>False</td>\n",
       "      <td>False</td>\n",
       "      <td>False</td>\n",
       "      <td>False</td>\n",
       "      <td>False</td>\n",
       "      <td>False</td>\n",
       "      <td>False</td>\n",
       "      <td>False</td>\n",
       "      <td>False</td>\n",
       "    </tr>\n",
       "    <tr>\n",
       "      <th>is_translation_enabled</th>\n",
       "      <td>False</td>\n",
       "      <td>False</td>\n",
       "      <td>False</td>\n",
       "      <td>False</td>\n",
       "      <td>False</td>\n",
       "      <td>True</td>\n",
       "      <td>True</td>\n",
       "      <td>False</td>\n",
       "      <td>False</td>\n",
       "      <td>False</td>\n",
       "      <td>...</td>\n",
       "      <td>False</td>\n",
       "      <td>False</td>\n",
       "      <td>False</td>\n",
       "      <td>False</td>\n",
       "      <td>False</td>\n",
       "      <td>False</td>\n",
       "      <td>False</td>\n",
       "      <td>False</td>\n",
       "      <td>False</td>\n",
       "      <td>False</td>\n",
       "    </tr>\n",
       "    <tr>\n",
       "      <th>profile_background_tile</th>\n",
       "      <td>True</td>\n",
       "      <td>False</td>\n",
       "      <td>False</td>\n",
       "      <td>True</td>\n",
       "      <td>True</td>\n",
       "      <td>False</td>\n",
       "      <td>False</td>\n",
       "      <td>False</td>\n",
       "      <td>True</td>\n",
       "      <td>True</td>\n",
       "      <td>...</td>\n",
       "      <td>False</td>\n",
       "      <td>False</td>\n",
       "      <td>False</td>\n",
       "      <td>False</td>\n",
       "      <td>False</td>\n",
       "      <td>False</td>\n",
       "      <td>False</td>\n",
       "      <td>False</td>\n",
       "      <td>False</td>\n",
       "      <td>False</td>\n",
       "    </tr>\n",
       "    <tr>\n",
       "      <th>profile_use_background_image</th>\n",
       "      <td>True</td>\n",
       "      <td>True</td>\n",
       "      <td>False</td>\n",
       "      <td>True</td>\n",
       "      <td>True</td>\n",
       "      <td>True</td>\n",
       "      <td>False</td>\n",
       "      <td>False</td>\n",
       "      <td>True</td>\n",
       "      <td>True</td>\n",
       "      <td>...</td>\n",
       "      <td>True</td>\n",
       "      <td>True</td>\n",
       "      <td>True</td>\n",
       "      <td>True</td>\n",
       "      <td>True</td>\n",
       "      <td>True</td>\n",
       "      <td>True</td>\n",
       "      <td>False</td>\n",
       "      <td>True</td>\n",
       "      <td>True</td>\n",
       "    </tr>\n",
       "    <tr>\n",
       "      <th>has_extended_profile</th>\n",
       "      <td>False</td>\n",
       "      <td>False</td>\n",
       "      <td>True</td>\n",
       "      <td>False</td>\n",
       "      <td>True</td>\n",
       "      <td>False</td>\n",
       "      <td>False</td>\n",
       "      <td>False</td>\n",
       "      <td>True</td>\n",
       "      <td>False</td>\n",
       "      <td>...</td>\n",
       "      <td>True</td>\n",
       "      <td>True</td>\n",
       "      <td>True</td>\n",
       "      <td>False</td>\n",
       "      <td>False</td>\n",
       "      <td>False</td>\n",
       "      <td>True</td>\n",
       "      <td>False</td>\n",
       "      <td>False</td>\n",
       "      <td>True</td>\n",
       "    </tr>\n",
       "    <tr>\n",
       "      <th>default_profile</th>\n",
       "      <td>False</td>\n",
       "      <td>False</td>\n",
       "      <td>False</td>\n",
       "      <td>False</td>\n",
       "      <td>False</td>\n",
       "      <td>False</td>\n",
       "      <td>False</td>\n",
       "      <td>False</td>\n",
       "      <td>False</td>\n",
       "      <td>False</td>\n",
       "      <td>...</td>\n",
       "      <td>True</td>\n",
       "      <td>True</td>\n",
       "      <td>True</td>\n",
       "      <td>True</td>\n",
       "      <td>True</td>\n",
       "      <td>True</td>\n",
       "      <td>True</td>\n",
       "      <td>False</td>\n",
       "      <td>True</td>\n",
       "      <td>True</td>\n",
       "    </tr>\n",
       "    <tr>\n",
       "      <th>default_profile_image</th>\n",
       "      <td>False</td>\n",
       "      <td>False</td>\n",
       "      <td>False</td>\n",
       "      <td>False</td>\n",
       "      <td>False</td>\n",
       "      <td>False</td>\n",
       "      <td>False</td>\n",
       "      <td>False</td>\n",
       "      <td>False</td>\n",
       "      <td>False</td>\n",
       "      <td>...</td>\n",
       "      <td>False</td>\n",
       "      <td>False</td>\n",
       "      <td>False</td>\n",
       "      <td>False</td>\n",
       "      <td>False</td>\n",
       "      <td>True</td>\n",
       "      <td>False</td>\n",
       "      <td>False</td>\n",
       "      <td>False</td>\n",
       "      <td>False</td>\n",
       "    </tr>\n",
       "  </tbody>\n",
       "</table>\n",
       "<p>21 rows × 2503 columns</p>\n",
       "</div>"
      ],
      "text/plain": [
       "                                      0             1             2     \\\n",
       "location                      In your Xbox   Seattle, WA       🏴󠁧󠁢󠁷󠁬󠁳󠁿   \n",
       "protected                            False         False         False   \n",
       "followers_count                    1127687      11426282        176975   \n",
       "friends_count                            5         96424           230   \n",
       "listed_count                         11593         28442          1122   \n",
       "created_at                    1164227283.0  1164827942.0  1168443543.0   \n",
       "favourites_count                         7         17340         10641   \n",
       "utc_offset                            None          None          None   \n",
       "time_zone                             None          None          None   \n",
       "geo_enabled                           True          True          True   \n",
       "verified                              True          True          True   \n",
       "statuses_count                       54804        166790        140632   \n",
       "lang                                    en            en         en-gb   \n",
       "contributors_enabled                 False         False         False   \n",
       "is_translator                        False         False         False   \n",
       "is_translation_enabled               False         False         False   \n",
       "profile_background_tile               True         False         False   \n",
       "profile_use_background_image          True          True         False   \n",
       "has_extended_profile                 False         False          True   \n",
       "default_profile                      False         False         False   \n",
       "default_profile_image                False         False         False   \n",
       "\n",
       "                                                     3     \\\n",
       "location                      NYC - Boston - Chicago - SF   \n",
       "protected                                           False   \n",
       "followers_count                                   1170497   \n",
       "friends_count                                        1113   \n",
       "listed_count                                        29281   \n",
       "created_at                                   1169949529.0   \n",
       "favourites_count                                     6185   \n",
       "utc_offset                                           None   \n",
       "time_zone                                            None   \n",
       "geo_enabled                                         False   \n",
       "verified                                             True   \n",
       "statuses_count                                      97313   \n",
       "lang                                                   en   \n",
       "contributors_enabled                                False   \n",
       "is_translator                                       False   \n",
       "is_translation_enabled                              False   \n",
       "profile_background_tile                              True   \n",
       "profile_use_background_image                         True   \n",
       "has_extended_profile                                False   \n",
       "default_profile                                     False   \n",
       "default_profile_image                               False   \n",
       "\n",
       "                                                       4             5     \\\n",
       "location                      University of Regina, Canada.    London, UK   \n",
       "protected                                             False         False   \n",
       "followers_count                                      128848      24393975   \n",
       "friends_count                                         69934            92   \n",
       "listed_count                                           4385        112307   \n",
       "created_at                                     1170268203.0  1170315869.0   \n",
       "favourites_count                                      27504            10   \n",
       "utc_offset                                             None          None   \n",
       "time_zone                                              None          None   \n",
       "geo_enabled                                            True          True   \n",
       "verified                                               True          True   \n",
       "statuses_count                                       121084        289290   \n",
       "lang                                                     en            en   \n",
       "contributors_enabled                                  False         False   \n",
       "is_translator                                         False         False   \n",
       "is_translation_enabled                                False          True   \n",
       "profile_background_tile                                True         False   \n",
       "profile_use_background_image                           True          True   \n",
       "has_extended_profile                                   True         False   \n",
       "default_profile                                       False         False   \n",
       "default_profile_image                                 False         False   \n",
       "\n",
       "                                      6             7             8     \\\n",
       "location                                        Internet  🇯🇵 ⇄ 🇲🇽 ⇄ 🇺🇸   \n",
       "protected                            False         False         False   \n",
       "followers_count                   41183185        116023        110236   \n",
       "friends_count                         1111         23767          2605   \n",
       "listed_count                        137121          7072          1913   \n",
       "created_at                    1170981302.0  1171287495.0  1171881280.0   \n",
       "favourites_count                      1449         46789          9415   \n",
       "utc_offset                            None          None          None   \n",
       "time_zone                             None          None          None   \n",
       "geo_enabled                           True          True          True   \n",
       "verified                              True          True          True   \n",
       "statuses_count                      222669         52817         93310   \n",
       "lang                                    en            en            es   \n",
       "contributors_enabled                 False         False         False   \n",
       "is_translator                        False         False         False   \n",
       "is_translation_enabled                True         False         False   \n",
       "profile_background_tile              False         False          True   \n",
       "profile_use_background_image         False         False          True   \n",
       "has_extended_profile                 False         False          True   \n",
       "default_profile                      False         False         False   \n",
       "default_profile_image                False         False         False   \n",
       "\n",
       "                                                      9     ...  \\\n",
       "location                      Londres, GB, e São Paulo, BR  ...   \n",
       "protected                                            False  ...   \n",
       "followers_count                                    2090741  ...   \n",
       "friends_count                                          906  ...   \n",
       "listed_count                                          7342  ...   \n",
       "created_at                                    1172233646.0  ...   \n",
       "favourites_count                                       398  ...   \n",
       "utc_offset                                            None  ...   \n",
       "time_zone                                             None  ...   \n",
       "geo_enabled                                           True  ...   \n",
       "verified                                              True  ...   \n",
       "statuses_count                                      171379  ...   \n",
       "lang                                                    pt  ...   \n",
       "contributors_enabled                                 False  ...   \n",
       "is_translator                                        False  ...   \n",
       "is_translation_enabled                               False  ...   \n",
       "profile_background_tile                               True  ...   \n",
       "profile_use_background_image                          True  ...   \n",
       "has_extended_profile                                 False  ...   \n",
       "default_profile                                      False  ...   \n",
       "default_profile_image                                False  ...   \n",
       "\n",
       "                                                2493           2494  \\\n",
       "location                      Muara Bungo, Indonesia  Mystic Falls.   \n",
       "protected                                      False          False   \n",
       "followers_count                                    5              1   \n",
       "friends_count                                     44              8   \n",
       "listed_count                                       0              0   \n",
       "created_at                              1528580175.0   1530229417.0   \n",
       "favourites_count                                   0              2   \n",
       "utc_offset                                      None           None   \n",
       "time_zone                                       None           None   \n",
       "geo_enabled                                    False          False   \n",
       "verified                                       False          False   \n",
       "statuses_count                                    14             15   \n",
       "lang                                              id             en   \n",
       "contributors_enabled                           False          False   \n",
       "is_translator                                  False          False   \n",
       "is_translation_enabled                         False          False   \n",
       "profile_background_tile                        False          False   \n",
       "profile_use_background_image                    True           True   \n",
       "has_extended_profile                            True           True   \n",
       "default_profile                                 True           True   \n",
       "default_profile_image                          False          False   \n",
       "\n",
       "                                        2495          2496          2497  \\\n",
       "location                      United Kingdom                               \n",
       "protected                              False         False         False   \n",
       "followers_count                           17          9365            65   \n",
       "friends_count                             13            56            23   \n",
       "listed_count                               0            74             0   \n",
       "created_at                      1531252672.0  1535355982.0  1536404088.0   \n",
       "favourites_count                          25            25             0   \n",
       "utc_offset                              None          None          None   \n",
       "time_zone                               None          None          None   \n",
       "geo_enabled                            False         False         False   \n",
       "verified                               False          True         False   \n",
       "statuses_count                            13          1365             7   \n",
       "lang                                      en            fr            en   \n",
       "contributors_enabled                   False         False         False   \n",
       "is_translator                          False         False         False   \n",
       "is_translation_enabled                 False         False         False   \n",
       "profile_background_tile                False         False         False   \n",
       "profile_use_background_image            True          True          True   \n",
       "has_extended_profile                    True         False         False   \n",
       "default_profile                         True          True          True   \n",
       "default_profile_image                  False         False         False   \n",
       "\n",
       "                                         2498          2499  \\\n",
       "location                      لا اله الا الله        06.08🤞   \n",
       "protected                               False         False   \n",
       "followers_count                             3            88   \n",
       "friends_count                              11            99   \n",
       "listed_count                                0             0   \n",
       "created_at                       1536669160.0  1538627827.0   \n",
       "favourites_count                            3          1626   \n",
       "utc_offset                               None          None   \n",
       "time_zone                                None          None   \n",
       "geo_enabled                             False          True   \n",
       "verified                                False         False   \n",
       "statuses_count                              7          1340   \n",
       "lang                                       en            es   \n",
       "contributors_enabled                    False         False   \n",
       "is_translator                           False         False   \n",
       "is_translation_enabled                  False         False   \n",
       "profile_background_tile                 False         False   \n",
       "profile_use_background_image             True          True   \n",
       "has_extended_profile                    False          True   \n",
       "default_profile                          True          True   \n",
       "default_profile_image                    True         False   \n",
       "\n",
       "                                                     2500          2501  \\\n",
       "location                      Activa mis notificaciones 🔔                 \n",
       "protected                                           False         False   \n",
       "followers_count                                       276            51   \n",
       "friends_count                                          12           118   \n",
       "listed_count                                            0             0   \n",
       "created_at                                   1542127115.0  1545401958.0   \n",
       "favourites_count                                       22             1   \n",
       "utc_offset                                           None          None   \n",
       "time_zone                                            None          None   \n",
       "geo_enabled                                         False         False   \n",
       "verified                                            False         False   \n",
       "statuses_count                                        611             1   \n",
       "lang                                                   es            en   \n",
       "contributors_enabled                                False         False   \n",
       "is_translator                                       False         False   \n",
       "is_translation_enabled                              False         False   \n",
       "profile_background_tile                             False         False   \n",
       "profile_use_background_image                        False          True   \n",
       "has_extended_profile                                False         False   \n",
       "default_profile                                     False          True   \n",
       "default_profile_image                               False         False   \n",
       "\n",
       "                                        2502  \n",
       "location                      Rocha, Uruguay  \n",
       "protected                              False  \n",
       "followers_count                           73  \n",
       "friends_count                             15  \n",
       "listed_count                               0  \n",
       "created_at                      1546197271.0  \n",
       "favourites_count                         220  \n",
       "utc_offset                              None  \n",
       "time_zone                               None  \n",
       "geo_enabled                             True  \n",
       "verified                               False  \n",
       "statuses_count                            48  \n",
       "lang                                      en  \n",
       "contributors_enabled                   False  \n",
       "is_translator                          False  \n",
       "is_translation_enabled                 False  \n",
       "profile_background_tile                False  \n",
       "profile_use_background_image            True  \n",
       "has_extended_profile                    True  \n",
       "default_profile                         True  \n",
       "default_profile_image                  False  \n",
       "\n",
       "[21 rows x 2503 columns]"
      ]
     },
     "execution_count": 81,
     "metadata": {},
     "output_type": "execute_result"
    }
   ],
   "source": [
    "profs = extract_users(PROJ_PATH + \"/data/gilani-2017_tweets.json\")\n",
    "df, one_hot, labels = preprocess_users(profs, PROJ_PATH + \"/data/gilani-2017.tsv\")\n",
    "df.T"
   ]
  },
  {
   "cell_type": "code",
   "execution_count": 82,
   "metadata": {},
   "outputs": [
    {
     "data": {
      "text/html": [
       "<div>\n",
       "<style scoped>\n",
       "    .dataframe tbody tr th:only-of-type {\n",
       "        vertical-align: middle;\n",
       "    }\n",
       "\n",
       "    .dataframe tbody tr th {\n",
       "        vertical-align: top;\n",
       "    }\n",
       "\n",
       "    .dataframe thead th {\n",
       "        text-align: right;\n",
       "    }\n",
       "</style>\n",
       "<table border=\"1\" class=\"dataframe\">\n",
       "  <thead>\n",
       "    <tr style=\"text-align: right;\">\n",
       "      <th></th>\n",
       "      <th>0</th>\n",
       "      <th>1</th>\n",
       "      <th>2</th>\n",
       "      <th>3</th>\n",
       "      <th>4</th>\n",
       "      <th>5</th>\n",
       "      <th>6</th>\n",
       "      <th>7</th>\n",
       "      <th>8</th>\n",
       "      <th>9</th>\n",
       "      <th>...</th>\n",
       "      <th>2493</th>\n",
       "      <th>2494</th>\n",
       "      <th>2495</th>\n",
       "      <th>2496</th>\n",
       "      <th>2497</th>\n",
       "      <th>2498</th>\n",
       "      <th>2499</th>\n",
       "      <th>2500</th>\n",
       "      <th>2501</th>\n",
       "      <th>2502</th>\n",
       "    </tr>\n",
       "  </thead>\n",
       "  <tbody>\n",
       "    <tr>\n",
       "      <th>followers_count</th>\n",
       "      <td>1.127687e+06</td>\n",
       "      <td>1.142628e+07</td>\n",
       "      <td>1.769750e+05</td>\n",
       "      <td>1.170497e+06</td>\n",
       "      <td>1.288480e+05</td>\n",
       "      <td>2.439398e+07</td>\n",
       "      <td>4.118318e+07</td>\n",
       "      <td>1.160230e+05</td>\n",
       "      <td>1.102360e+05</td>\n",
       "      <td>2.090741e+06</td>\n",
       "      <td>...</td>\n",
       "      <td>5.000000e+00</td>\n",
       "      <td>1.000000e+00</td>\n",
       "      <td>1.700000e+01</td>\n",
       "      <td>9.365000e+03</td>\n",
       "      <td>6.500000e+01</td>\n",
       "      <td>3.000000e+00</td>\n",
       "      <td>8.800000e+01</td>\n",
       "      <td>2.760000e+02</td>\n",
       "      <td>5.100000e+01</td>\n",
       "      <td>7.300000e+01</td>\n",
       "    </tr>\n",
       "    <tr>\n",
       "      <th>friends_count</th>\n",
       "      <td>5.000000e+00</td>\n",
       "      <td>9.642400e+04</td>\n",
       "      <td>2.300000e+02</td>\n",
       "      <td>1.113000e+03</td>\n",
       "      <td>6.993400e+04</td>\n",
       "      <td>9.200000e+01</td>\n",
       "      <td>1.111000e+03</td>\n",
       "      <td>2.376700e+04</td>\n",
       "      <td>2.605000e+03</td>\n",
       "      <td>9.060000e+02</td>\n",
       "      <td>...</td>\n",
       "      <td>4.400000e+01</td>\n",
       "      <td>8.000000e+00</td>\n",
       "      <td>1.300000e+01</td>\n",
       "      <td>5.600000e+01</td>\n",
       "      <td>2.300000e+01</td>\n",
       "      <td>1.100000e+01</td>\n",
       "      <td>9.900000e+01</td>\n",
       "      <td>1.200000e+01</td>\n",
       "      <td>1.180000e+02</td>\n",
       "      <td>1.500000e+01</td>\n",
       "    </tr>\n",
       "    <tr>\n",
       "      <th>listed_count</th>\n",
       "      <td>1.159300e+04</td>\n",
       "      <td>2.844200e+04</td>\n",
       "      <td>1.122000e+03</td>\n",
       "      <td>2.928100e+04</td>\n",
       "      <td>4.385000e+03</td>\n",
       "      <td>1.123070e+05</td>\n",
       "      <td>1.371210e+05</td>\n",
       "      <td>7.072000e+03</td>\n",
       "      <td>1.913000e+03</td>\n",
       "      <td>7.342000e+03</td>\n",
       "      <td>...</td>\n",
       "      <td>0.000000e+00</td>\n",
       "      <td>0.000000e+00</td>\n",
       "      <td>0.000000e+00</td>\n",
       "      <td>7.400000e+01</td>\n",
       "      <td>0.000000e+00</td>\n",
       "      <td>0.000000e+00</td>\n",
       "      <td>0.000000e+00</td>\n",
       "      <td>0.000000e+00</td>\n",
       "      <td>0.000000e+00</td>\n",
       "      <td>0.000000e+00</td>\n",
       "    </tr>\n",
       "    <tr>\n",
       "      <th>created_at</th>\n",
       "      <td>1.164227e+09</td>\n",
       "      <td>1.164828e+09</td>\n",
       "      <td>1.168444e+09</td>\n",
       "      <td>1.169950e+09</td>\n",
       "      <td>1.170268e+09</td>\n",
       "      <td>1.170316e+09</td>\n",
       "      <td>1.170981e+09</td>\n",
       "      <td>1.171287e+09</td>\n",
       "      <td>1.171881e+09</td>\n",
       "      <td>1.172234e+09</td>\n",
       "      <td>...</td>\n",
       "      <td>1.528580e+09</td>\n",
       "      <td>1.530229e+09</td>\n",
       "      <td>1.531253e+09</td>\n",
       "      <td>1.535356e+09</td>\n",
       "      <td>1.536404e+09</td>\n",
       "      <td>1.536669e+09</td>\n",
       "      <td>1.538628e+09</td>\n",
       "      <td>1.542127e+09</td>\n",
       "      <td>1.545402e+09</td>\n",
       "      <td>1.546197e+09</td>\n",
       "    </tr>\n",
       "    <tr>\n",
       "      <th>favourites_count</th>\n",
       "      <td>7.000000e+00</td>\n",
       "      <td>1.734000e+04</td>\n",
       "      <td>1.064100e+04</td>\n",
       "      <td>6.185000e+03</td>\n",
       "      <td>2.750400e+04</td>\n",
       "      <td>1.000000e+01</td>\n",
       "      <td>1.449000e+03</td>\n",
       "      <td>4.678900e+04</td>\n",
       "      <td>9.415000e+03</td>\n",
       "      <td>3.980000e+02</td>\n",
       "      <td>...</td>\n",
       "      <td>0.000000e+00</td>\n",
       "      <td>2.000000e+00</td>\n",
       "      <td>2.500000e+01</td>\n",
       "      <td>2.500000e+01</td>\n",
       "      <td>0.000000e+00</td>\n",
       "      <td>3.000000e+00</td>\n",
       "      <td>1.626000e+03</td>\n",
       "      <td>2.200000e+01</td>\n",
       "      <td>1.000000e+00</td>\n",
       "      <td>2.200000e+02</td>\n",
       "    </tr>\n",
       "    <tr>\n",
       "      <th>...</th>\n",
       "      <td>...</td>\n",
       "      <td>...</td>\n",
       "      <td>...</td>\n",
       "      <td>...</td>\n",
       "      <td>...</td>\n",
       "      <td>...</td>\n",
       "      <td>...</td>\n",
       "      <td>...</td>\n",
       "      <td>...</td>\n",
       "      <td>...</td>\n",
       "      <td>...</td>\n",
       "      <td>...</td>\n",
       "      <td>...</td>\n",
       "      <td>...</td>\n",
       "      <td>...</td>\n",
       "      <td>...</td>\n",
       "      <td>...</td>\n",
       "      <td>...</td>\n",
       "      <td>...</td>\n",
       "      <td>...</td>\n",
       "      <td>...</td>\n",
       "    </tr>\n",
       "    <tr>\n",
       "      <th>verified_True</th>\n",
       "      <td>1.000000e+00</td>\n",
       "      <td>1.000000e+00</td>\n",
       "      <td>1.000000e+00</td>\n",
       "      <td>1.000000e+00</td>\n",
       "      <td>1.000000e+00</td>\n",
       "      <td>1.000000e+00</td>\n",
       "      <td>1.000000e+00</td>\n",
       "      <td>1.000000e+00</td>\n",
       "      <td>1.000000e+00</td>\n",
       "      <td>1.000000e+00</td>\n",
       "      <td>...</td>\n",
       "      <td>0.000000e+00</td>\n",
       "      <td>0.000000e+00</td>\n",
       "      <td>0.000000e+00</td>\n",
       "      <td>1.000000e+00</td>\n",
       "      <td>0.000000e+00</td>\n",
       "      <td>0.000000e+00</td>\n",
       "      <td>0.000000e+00</td>\n",
       "      <td>0.000000e+00</td>\n",
       "      <td>0.000000e+00</td>\n",
       "      <td>0.000000e+00</td>\n",
       "    </tr>\n",
       "    <tr>\n",
       "      <th>profile_use_background_image_True</th>\n",
       "      <td>1.000000e+00</td>\n",
       "      <td>1.000000e+00</td>\n",
       "      <td>0.000000e+00</td>\n",
       "      <td>1.000000e+00</td>\n",
       "      <td>1.000000e+00</td>\n",
       "      <td>1.000000e+00</td>\n",
       "      <td>0.000000e+00</td>\n",
       "      <td>0.000000e+00</td>\n",
       "      <td>1.000000e+00</td>\n",
       "      <td>1.000000e+00</td>\n",
       "      <td>...</td>\n",
       "      <td>1.000000e+00</td>\n",
       "      <td>1.000000e+00</td>\n",
       "      <td>1.000000e+00</td>\n",
       "      <td>1.000000e+00</td>\n",
       "      <td>1.000000e+00</td>\n",
       "      <td>1.000000e+00</td>\n",
       "      <td>1.000000e+00</td>\n",
       "      <td>0.000000e+00</td>\n",
       "      <td>1.000000e+00</td>\n",
       "      <td>1.000000e+00</td>\n",
       "    </tr>\n",
       "    <tr>\n",
       "      <th>is_translator_True</th>\n",
       "      <td>0.000000e+00</td>\n",
       "      <td>0.000000e+00</td>\n",
       "      <td>0.000000e+00</td>\n",
       "      <td>0.000000e+00</td>\n",
       "      <td>0.000000e+00</td>\n",
       "      <td>0.000000e+00</td>\n",
       "      <td>0.000000e+00</td>\n",
       "      <td>0.000000e+00</td>\n",
       "      <td>0.000000e+00</td>\n",
       "      <td>0.000000e+00</td>\n",
       "      <td>...</td>\n",
       "      <td>0.000000e+00</td>\n",
       "      <td>0.000000e+00</td>\n",
       "      <td>0.000000e+00</td>\n",
       "      <td>0.000000e+00</td>\n",
       "      <td>0.000000e+00</td>\n",
       "      <td>0.000000e+00</td>\n",
       "      <td>0.000000e+00</td>\n",
       "      <td>0.000000e+00</td>\n",
       "      <td>0.000000e+00</td>\n",
       "      <td>0.000000e+00</td>\n",
       "    </tr>\n",
       "    <tr>\n",
       "      <th>is_translation_enabled_True</th>\n",
       "      <td>0.000000e+00</td>\n",
       "      <td>0.000000e+00</td>\n",
       "      <td>0.000000e+00</td>\n",
       "      <td>0.000000e+00</td>\n",
       "      <td>0.000000e+00</td>\n",
       "      <td>1.000000e+00</td>\n",
       "      <td>1.000000e+00</td>\n",
       "      <td>0.000000e+00</td>\n",
       "      <td>0.000000e+00</td>\n",
       "      <td>0.000000e+00</td>\n",
       "      <td>...</td>\n",
       "      <td>0.000000e+00</td>\n",
       "      <td>0.000000e+00</td>\n",
       "      <td>0.000000e+00</td>\n",
       "      <td>0.000000e+00</td>\n",
       "      <td>0.000000e+00</td>\n",
       "      <td>0.000000e+00</td>\n",
       "      <td>0.000000e+00</td>\n",
       "      <td>0.000000e+00</td>\n",
       "      <td>0.000000e+00</td>\n",
       "      <td>0.000000e+00</td>\n",
       "    </tr>\n",
       "    <tr>\n",
       "      <th>has_extended_profile_True</th>\n",
       "      <td>0.000000e+00</td>\n",
       "      <td>0.000000e+00</td>\n",
       "      <td>1.000000e+00</td>\n",
       "      <td>0.000000e+00</td>\n",
       "      <td>1.000000e+00</td>\n",
       "      <td>0.000000e+00</td>\n",
       "      <td>0.000000e+00</td>\n",
       "      <td>0.000000e+00</td>\n",
       "      <td>1.000000e+00</td>\n",
       "      <td>0.000000e+00</td>\n",
       "      <td>...</td>\n",
       "      <td>1.000000e+00</td>\n",
       "      <td>1.000000e+00</td>\n",
       "      <td>1.000000e+00</td>\n",
       "      <td>0.000000e+00</td>\n",
       "      <td>0.000000e+00</td>\n",
       "      <td>0.000000e+00</td>\n",
       "      <td>1.000000e+00</td>\n",
       "      <td>0.000000e+00</td>\n",
       "      <td>0.000000e+00</td>\n",
       "      <td>1.000000e+00</td>\n",
       "    </tr>\n",
       "  </tbody>\n",
       "</table>\n",
       "<p>1400 rows × 2503 columns</p>\n",
       "</div>"
      ],
      "text/plain": [
       "                                           0             1             2     \\\n",
       "followers_count                    1.127687e+06  1.142628e+07  1.769750e+05   \n",
       "friends_count                      5.000000e+00  9.642400e+04  2.300000e+02   \n",
       "listed_count                       1.159300e+04  2.844200e+04  1.122000e+03   \n",
       "created_at                         1.164227e+09  1.164828e+09  1.168444e+09   \n",
       "favourites_count                   7.000000e+00  1.734000e+04  1.064100e+04   \n",
       "...                                         ...           ...           ...   \n",
       "verified_True                      1.000000e+00  1.000000e+00  1.000000e+00   \n",
       "profile_use_background_image_True  1.000000e+00  1.000000e+00  0.000000e+00   \n",
       "is_translator_True                 0.000000e+00  0.000000e+00  0.000000e+00   \n",
       "is_translation_enabled_True        0.000000e+00  0.000000e+00  0.000000e+00   \n",
       "has_extended_profile_True          0.000000e+00  0.000000e+00  1.000000e+00   \n",
       "\n",
       "                                           3             4             5     \\\n",
       "followers_count                    1.170497e+06  1.288480e+05  2.439398e+07   \n",
       "friends_count                      1.113000e+03  6.993400e+04  9.200000e+01   \n",
       "listed_count                       2.928100e+04  4.385000e+03  1.123070e+05   \n",
       "created_at                         1.169950e+09  1.170268e+09  1.170316e+09   \n",
       "favourites_count                   6.185000e+03  2.750400e+04  1.000000e+01   \n",
       "...                                         ...           ...           ...   \n",
       "verified_True                      1.000000e+00  1.000000e+00  1.000000e+00   \n",
       "profile_use_background_image_True  1.000000e+00  1.000000e+00  1.000000e+00   \n",
       "is_translator_True                 0.000000e+00  0.000000e+00  0.000000e+00   \n",
       "is_translation_enabled_True        0.000000e+00  0.000000e+00  1.000000e+00   \n",
       "has_extended_profile_True          0.000000e+00  1.000000e+00  0.000000e+00   \n",
       "\n",
       "                                           6             7             8     \\\n",
       "followers_count                    4.118318e+07  1.160230e+05  1.102360e+05   \n",
       "friends_count                      1.111000e+03  2.376700e+04  2.605000e+03   \n",
       "listed_count                       1.371210e+05  7.072000e+03  1.913000e+03   \n",
       "created_at                         1.170981e+09  1.171287e+09  1.171881e+09   \n",
       "favourites_count                   1.449000e+03  4.678900e+04  9.415000e+03   \n",
       "...                                         ...           ...           ...   \n",
       "verified_True                      1.000000e+00  1.000000e+00  1.000000e+00   \n",
       "profile_use_background_image_True  0.000000e+00  0.000000e+00  1.000000e+00   \n",
       "is_translator_True                 0.000000e+00  0.000000e+00  0.000000e+00   \n",
       "is_translation_enabled_True        1.000000e+00  0.000000e+00  0.000000e+00   \n",
       "has_extended_profile_True          0.000000e+00  0.000000e+00  1.000000e+00   \n",
       "\n",
       "                                           9     ...          2493  \\\n",
       "followers_count                    2.090741e+06  ...  5.000000e+00   \n",
       "friends_count                      9.060000e+02  ...  4.400000e+01   \n",
       "listed_count                       7.342000e+03  ...  0.000000e+00   \n",
       "created_at                         1.172234e+09  ...  1.528580e+09   \n",
       "favourites_count                   3.980000e+02  ...  0.000000e+00   \n",
       "...                                         ...  ...           ...   \n",
       "verified_True                      1.000000e+00  ...  0.000000e+00   \n",
       "profile_use_background_image_True  1.000000e+00  ...  1.000000e+00   \n",
       "is_translator_True                 0.000000e+00  ...  0.000000e+00   \n",
       "is_translation_enabled_True        0.000000e+00  ...  0.000000e+00   \n",
       "has_extended_profile_True          0.000000e+00  ...  1.000000e+00   \n",
       "\n",
       "                                           2494          2495          2496  \\\n",
       "followers_count                    1.000000e+00  1.700000e+01  9.365000e+03   \n",
       "friends_count                      8.000000e+00  1.300000e+01  5.600000e+01   \n",
       "listed_count                       0.000000e+00  0.000000e+00  7.400000e+01   \n",
       "created_at                         1.530229e+09  1.531253e+09  1.535356e+09   \n",
       "favourites_count                   2.000000e+00  2.500000e+01  2.500000e+01   \n",
       "...                                         ...           ...           ...   \n",
       "verified_True                      0.000000e+00  0.000000e+00  1.000000e+00   \n",
       "profile_use_background_image_True  1.000000e+00  1.000000e+00  1.000000e+00   \n",
       "is_translator_True                 0.000000e+00  0.000000e+00  0.000000e+00   \n",
       "is_translation_enabled_True        0.000000e+00  0.000000e+00  0.000000e+00   \n",
       "has_extended_profile_True          1.000000e+00  1.000000e+00  0.000000e+00   \n",
       "\n",
       "                                           2497          2498          2499  \\\n",
       "followers_count                    6.500000e+01  3.000000e+00  8.800000e+01   \n",
       "friends_count                      2.300000e+01  1.100000e+01  9.900000e+01   \n",
       "listed_count                       0.000000e+00  0.000000e+00  0.000000e+00   \n",
       "created_at                         1.536404e+09  1.536669e+09  1.538628e+09   \n",
       "favourites_count                   0.000000e+00  3.000000e+00  1.626000e+03   \n",
       "...                                         ...           ...           ...   \n",
       "verified_True                      0.000000e+00  0.000000e+00  0.000000e+00   \n",
       "profile_use_background_image_True  1.000000e+00  1.000000e+00  1.000000e+00   \n",
       "is_translator_True                 0.000000e+00  0.000000e+00  0.000000e+00   \n",
       "is_translation_enabled_True        0.000000e+00  0.000000e+00  0.000000e+00   \n",
       "has_extended_profile_True          0.000000e+00  0.000000e+00  1.000000e+00   \n",
       "\n",
       "                                           2500          2501          2502  \n",
       "followers_count                    2.760000e+02  5.100000e+01  7.300000e+01  \n",
       "friends_count                      1.200000e+01  1.180000e+02  1.500000e+01  \n",
       "listed_count                       0.000000e+00  0.000000e+00  0.000000e+00  \n",
       "created_at                         1.542127e+09  1.545402e+09  1.546197e+09  \n",
       "favourites_count                   2.200000e+01  1.000000e+00  2.200000e+02  \n",
       "...                                         ...           ...           ...  \n",
       "verified_True                      0.000000e+00  0.000000e+00  0.000000e+00  \n",
       "profile_use_background_image_True  0.000000e+00  1.000000e+00  1.000000e+00  \n",
       "is_translator_True                 0.000000e+00  0.000000e+00  0.000000e+00  \n",
       "is_translation_enabled_True        0.000000e+00  0.000000e+00  0.000000e+00  \n",
       "has_extended_profile_True          0.000000e+00  0.000000e+00  1.000000e+00  \n",
       "\n",
       "[1400 rows x 2503 columns]"
      ]
     },
     "execution_count": 82,
     "metadata": {},
     "output_type": "execute_result"
    }
   ],
   "source": [
    "one_hot.T"
   ]
  },
  {
   "cell_type": "code",
   "execution_count": 48,
   "metadata": {},
   "outputs": [
    {
     "name": "stdout",
     "output_type": "stream",
     "text": [
      "-------------- DECISION TREE --------------\n"
     ]
    },
    {
     "ename": "NameError",
     "evalue": "name 'one_hot' is not defined",
     "output_type": "error",
     "traceback": [
      "\u001b[0;31m---------------------------------------------------------------------------\u001b[0m",
      "\u001b[0;31mNameError\u001b[0m                                 Traceback (most recent call last)",
      "\u001b[0;32m<ipython-input-48-0180dbd7ec8f>\u001b[0m in \u001b[0;36m<module>\u001b[0;34m\u001b[0m\n\u001b[1;32m      1\u001b[0m \u001b[0;31m# Fit and score on decision tree\u001b[0m\u001b[0;34m\u001b[0m\u001b[0;34m\u001b[0m\u001b[0;34m\u001b[0m\u001b[0m\n\u001b[1;32m      2\u001b[0m \u001b[0mprint\u001b[0m\u001b[0;34m(\u001b[0m\u001b[0;34m\"-------------- DECISION TREE --------------\"\u001b[0m\u001b[0;34m)\u001b[0m\u001b[0;34m\u001b[0m\u001b[0;34m\u001b[0m\u001b[0m\n\u001b[0;32m----> 3\u001b[0;31m \u001b[0mdt_clf\u001b[0m\u001b[0;34m,\u001b[0m \u001b[0;34m*\u001b[0m\u001b[0m_\u001b[0m \u001b[0;34m=\u001b[0m \u001b[0mfit_and_score\u001b[0m\u001b[0;34m(\u001b[0m\u001b[0mone_hot\u001b[0m\u001b[0;34m,\u001b[0m \u001b[0mlabels\u001b[0m\u001b[0;34m,\u001b[0m \u001b[0mdepth\u001b[0m\u001b[0;34m=\u001b[0m\u001b[0;36m3\u001b[0m\u001b[0;34m)\u001b[0m\u001b[0;34m\u001b[0m\u001b[0;34m\u001b[0m\u001b[0m\n\u001b[0m\u001b[1;32m      4\u001b[0m \u001b[0;31m#    plot_metrics(one_hot, labels, soa_accuracy=soa_accuracy, soa_precision=soa_precision, soa_recall=soa_recall)\u001b[0m\u001b[0;34m\u001b[0m\u001b[0;34m\u001b[0m\u001b[0;34m\u001b[0m\u001b[0m\n\u001b[1;32m      5\u001b[0m \u001b[0mhumans\u001b[0m \u001b[0;34m=\u001b[0m \u001b[0mlen\u001b[0m\u001b[0;34m(\u001b[0m\u001b[0;34m[\u001b[0m\u001b[0mlab\u001b[0m \u001b[0;32mfor\u001b[0m \u001b[0mlab\u001b[0m \u001b[0;32min\u001b[0m \u001b[0mlabels\u001b[0m \u001b[0;32mif\u001b[0m \u001b[0mlab\u001b[0m \u001b[0;34m==\u001b[0m \u001b[0;36m0\u001b[0m\u001b[0;34m]\u001b[0m\u001b[0;34m)\u001b[0m\u001b[0;34m\u001b[0m\u001b[0;34m\u001b[0m\u001b[0m\n",
      "\u001b[0;31mNameError\u001b[0m: name 'one_hot' is not defined"
     ]
    }
   ],
   "source": [
    "# Fit and score on decision tree\n",
    "print(\"-------------- DECISION TREE --------------\")\n",
    "dt_clf, *_ = fit_and_score(one_hot, labels, depth=3)\n",
    "#    plot_metrics(one_hot, labels, soa_accuracy=soa_accuracy, soa_precision=soa_precision, soa_recall=soa_recall)\n",
    "humans = len([lab for lab in labels if lab == 0])\n",
    "bots = len([lab for lab in labels if lab == 1])\n",
    "print(humans, bots)\n",
    "# Fit and score on decision tree\n",
    "print(\"-------------- DECISION TREE TRAIN/TEST SPLIT --------------\")\n",
    "train_test_fit_and_score(one_hot, labels, depth=3)\n",
    "# Fit and score on random forest\n",
    "print(\"-------------- RANDOM FOREST --------------\")\n",
    "rf = ensemble.RandomForestClassifier(n_estimators=100)\n",
    "train_test_fit_and_score(one_hot, labels, method=rf)\n",
    "#fig, axes = plt.subplots(1,2, figsize=(15,7))\n",
    "#mdi_feature_importance(rf_clf, list(one_hot.columns), axes[0])\n",
    "#permutation_feature_importance(axes[1], df, labels, DUMMY_COLUMNS + ['is_translator', 'contributors_enabled'])\n",
    "#fig.tight_layout()\n",
    "gilani_scores = [kfold_cv(one_hot, labels, depth=i) for i in range(1,6)]"
   ]
  },
  {
   "cell_type": "markdown",
   "metadata": {},
   "source": [
    "## Giliani using the derived features in the paper"
   ]
  },
  {
   "cell_type": "code",
   "execution_count": 64,
   "metadata": {},
   "outputs": [
    {
     "name": "stdout",
     "output_type": "stream",
     "text": [
      "Starting train_test_fit_and_score at 1654371088.5531774\n",
      "|--- source2 <= 0.50\n",
      "|   |--- tweet_frequency <= 22.47\n",
      "|   |   |--- source1 <= 0.50\n",
      "|   |   |   |--- weights: [68.00, 165.00] class: 1\n",
      "|   |   |--- source1 >  0.50\n",
      "|   |   |   |--- weights: [91.00, 45.00] class: 0\n",
      "|   |--- tweet_frequency >  22.47\n",
      "|   |   |--- cdn_content_in_kb <= 0.59\n",
      "|   |   |   |--- weights: [8.00, 267.00] class: 1\n",
      "|   |   |--- cdn_content_in_kb >  0.59\n",
      "|   |   |   |--- weights: [23.00, 74.00] class: 1\n",
      "|--- source2 >  0.50\n",
      "|   |--- tweet_frequency <= 33.22\n",
      "|   |   |--- source0 <= 0.50\n",
      "|   |   |   |--- weights: [859.00, 115.00] class: 0\n",
      "|   |   |--- source0 >  0.50\n",
      "|   |   |   |--- weights: [105.00, 85.00] class: 0\n",
      "|   |--- tweet_frequency >  33.22\n",
      "|   |   |--- lists_per_user <= 0.01\n",
      "|   |   |   |--- weights: [86.00, 35.00] class: 0\n",
      "|   |   |--- lists_per_user >  0.01\n",
      "|   |   |   |--- weights: [116.00, 259.00] class: 1\n",
      "\n",
      "Accuracy: 0.7786407766990291\n",
      "Precision 0.7505720823798627\n",
      "Recall: 0.7337807606263982\n",
      "F1: 0.7420814479638008\n",
      "Finished train_test_fit_and_score at 1654371088.5954266. Execution time: 0.042249202728271484 s\n"
     ]
    }
   ],
   "source": [
    "sizes = ['100k', '10M', '1k', '1M']\n",
    "\n",
    "humans_dfs = []\n",
    "bots_dfs = []\n",
    "\n",
    "for s in sizes:\n",
    "    human_path = PROJ_PATH + f\"/data/gilani_derived/classification_processed/humans/humans.{s}.csv\"\n",
    "    human_df = pd.read_csv(human_path)\n",
    "    bot_path = PROJ_PATH + f\"/data/gilani_derived/classification_processed/bots/bots.{s}.csv\"\n",
    "    bots_df = pd.read_csv(bot_path)\n",
    "    for band in sizes:\n",
    "        if band == s:\n",
    "            human_df[f'band_{band}'] = 1\n",
    "            bots_df[f'band_{band}'] = 1\n",
    "        else:\n",
    "            human_df[f'band_{band}'] = 0\n",
    "            bots_df[f'band_{band}'] = 0\n",
    "    humans_dfs.append(human_df)\n",
    "    bots_dfs.append(bots_df)\n",
    "    \n",
    "humans = pd.concat(humans_dfs)\n",
    "bots = pd.concat(bots_dfs)\n",
    "gilani_processed = pd.concat([humans, bots])\n",
    "\n",
    "labels = [0]*len(humans) + [1]*len(bots)\n",
    "\n",
    "\n",
    "gilani_processed['source_identity_list'] = gilani_processed['source_identity'].apply(lambda s: s[1:-1].split(sep=';'))\n",
    "for i in range(7):\n",
    "    gilani_processed[f'source{i}'] = gilani_processed['source_identity_list'].apply(lambda x: 1 if f'{i}' in x else 0)\n",
    "\n",
    "    \n",
    "gilani_processed.drop(['screen_name', 'source_identity', 'source_identity_list'], axis=1, inplace=True)\n",
    "# Fit and score on decision tree\n",
    "# print(\"-------------- DECISION TREE TRAIN/TEST SPLIT --------------\")\n",
    "train_test_fit_and_score(gilani_processed, labels, depth=5)\n",
    "# # Fit and score on random forest\n",
    "# print(\"-------------- RANDOM FOREST --------------\")\n",
    "rf = ensemble.RandomForestClassifier(n_estimators=100)\n",
    "train_test_fit_and_score(gilani_processed, labels, method=rf)\n",
    "# fig, axes = plt.subplots(1,2, figsize=(15,7))\n",
    "# mdi_feature_importance(rf_clf, list(gilani_processed.columns), axes[0])\n",
    "# permutation_feature_importance(axes[1], gilani_processed, labels, [])\n",
    "# fig.tight_layout()\n",
    "# return [kfold_cv(one_hot, labels, depth=i) for i in range(1,6)]"
   ]
  },
  {
   "cell_type": "code",
   "execution_count": 63,
   "metadata": {},
   "outputs": [
    {
     "name": "stdout",
     "output_type": "stream",
     "text": [
      "Starting kfold_cv at 1654371040.660688\n",
      "Fold 0 in progress\n",
      "Fold 1 in progress\n",
      "Fold 2 in progress\n",
      "Fold 3 in progress\n",
      "Fold 4 in progress\n",
      "Finished kfold_cv at 1654371040.8081193. Execution time: 0.1474313735961914 s\n",
      "Starting kfold_cv at 1654371040.8094006\n",
      "Fold 0 in progress\n",
      "Fold 1 in progress\n",
      "Fold 2 in progress\n",
      "Fold 3 in progress\n",
      "Fold 4 in progress\n",
      "Finished kfold_cv at 1654371040.9124568. Execution time: 0.10305619239807129 s\n",
      "Starting kfold_cv at 1654371040.913722\n",
      "Fold 0 in progress\n",
      "Fold 1 in progress\n",
      "Fold 2 in progress\n",
      "Fold 3 in progress\n",
      "Fold 4 in progress\n",
      "Finished kfold_cv at 1654371041.0103953. Execution time: 0.09667325019836426 s\n",
      "Starting kfold_cv at 1654371041.0116565\n",
      "Fold 0 in progress\n",
      "Fold 1 in progress\n",
      "Fold 2 in progress\n",
      "Fold 3 in progress\n",
      "Fold 4 in progress\n",
      "Finished kfold_cv at 1654371041.1422048. Execution time: 0.13054823875427246 s\n",
      "Starting kfold_cv at 1654371041.144018\n",
      "Fold 0 in progress\n",
      "Fold 1 in progress\n",
      "Fold 2 in progress\n",
      "Fold 3 in progress\n",
      "Fold 4 in progress\n",
      "Finished kfold_cv at 1654371041.2631135. Execution time: 0.1190955638885498 s\n"
     ]
    }
   ],
   "source": [
    "gilani_processed_scores = [kfold_cv(gilani_processed, pd.Series(labels), depth=i) for i in range(1,6)]"
   ]
  },
  {
   "cell_type": "code",
   "execution_count": 60,
   "metadata": {},
   "outputs": [
    {
     "data": {
      "text/plain": [
       "[[0.7146517312737496,\n",
       "  0.7399725095471126,\n",
       "  0.5315176930019714,\n",
       "  0.6182322430238263],\n",
       " [0.7493240924852043,\n",
       "  0.6885147102334717,\n",
       "  0.7802522912097902,\n",
       "  0.7304597175458191],\n",
       " [0.7787989028624038,\n",
       "  0.7741218072585587,\n",
       "  0.7004816820483153,\n",
       "  0.732191414070224],\n",
       " [0.7814121703845309,\n",
       "  0.7732873526613651,\n",
       "  0.7067324249170973,\n",
       "  0.7369643314017857],\n",
       " [0.7924935158486086,\n",
       "  0.7755556477406139,\n",
       "  0.7318878305077099,\n",
       "  0.7528028219863963]]"
      ]
     },
     "execution_count": 60,
     "metadata": {},
     "output_type": "execute_result"
    }
   ],
   "source": [
    "gilani_processed_scores"
   ]
  },
  {
   "cell_type": "code",
   "execution_count": null,
   "metadata": {},
   "outputs": [],
   "source": []
  },
  {
   "cell_type": "markdown",
   "metadata": {},
   "source": [
    "## cresci-2017: \"The paradigm-shift of social spambots: Evidence, theories, and tools for the arms race.\"\n",
    "\n",
    "Cresci, S., Di Pietro, R., Petrocchi, M., Spognardi, A., & Tesconi, M. (2017, April). The paradigm-shift of social spambots: Evidence, theories, and tools for the arms race. In Proceedings of the 26th International Conference on World Wide Web Companion (pp. 963-972). ACM.\n",
    "\n",
    "https://arxiv.org/abs/1701.03017\n",
    "\n",
    "Approx. citations: 328\n",
    "\n",
    "Simple decision rule precision/recall: 0.98/0.98\n",
    "\n",
    "State-of-art precision/recall: 0.98/0.98"
   ]
  },
  {
   "cell_type": "code",
   "execution_count": 91,
   "metadata": {
    "ExecuteTime": {
     "end_time": "2022-04-29T12:18:03.728805Z",
     "start_time": "2022-04-29T12:18:02.824387Z"
    }
   },
   "outputs": [
    {
     "name": "stdout",
     "output_type": "stream",
     "text": [
      "|--- favourites_count <= 16.50\n",
      "|   |--- weights: [186.00, 10744.00] class: 1\n",
      "|--- favourites_count >  16.50\n",
      "|   |--- weights: [3288.00, 150.00] class: 0\n",
      "\n",
      "Accuracy: 0.9766146993318485\n",
      "Precision 0.9829826166514181\n",
      "Recall: 0.9862309528180649\n",
      "F1: 0.9846041055718475\n"
     ]
    },
    {
     "data": {
      "text/plain": [
       "(DecisionTreeClassifier(max_depth=1),\n",
       " 0.9766146993318485,\n",
       " 0.9829826166514181,\n",
       " 0.9862309528180649,\n",
       " 0.9846041055718475)"
      ]
     },
     "execution_count": 91,
     "metadata": {},
     "output_type": "execute_result"
    }
   ],
   "source": [
    "# Load in data\n",
    "folder_names = ['fake_followers', \n",
    " 'genuine_accounts', \n",
    " 'social_spambots_1', \n",
    " 'social_spambots_2', \n",
    " 'social_spambots_3', \n",
    " 'traditional_spambots_1', \n",
    " 'traditional_spambots_2', \n",
    " 'traditional_spambots_3',\n",
    " 'traditional_spambots_4']\n",
    "is_bot = [1, 0, 1, 1, 1, 1, 1, 1, 1]\n",
    "dfs = []\n",
    "cresci2017_labels = []\n",
    "\n",
    "for name, ib in zip(folder_names, is_bot):\n",
    "    df = pd.read_csv(PROJ_PATH + f\"/data/cresci-2017/{name}.csv/users.csv\")\n",
    "    dfs.append(df)\n",
    "    cresci2017_labels.extend([ib]*len(df))\n",
    "\n",
    "    \n",
    "def format_time(dt):\n",
    "    try:\n",
    "        datetime.strptime(dt, \"%a %b %d %H:%M:%S %z %Y\").timestamp()\n",
    "    except:\n",
    "        print(dt)\n",
    "    \n",
    "cresci2017 = pd.concat(dfs)\n",
    "cresci2017_labels = pd.Series(cresci2017_labels)\n",
    "\n",
    "\n",
    "\n",
    "# Preprocess\n",
    "cresci2017_one_hot = preprocess(cresci2017, \n",
    "                        COLUMNS_TO_DROP + ['profile_banner_url', \n",
    "                                                        'test_set_1', \n",
    "                                                        'test_set_2', \n",
    "                                                        'crawled_at',\n",
    "                                                        'updated', \n",
    "                                                        'timestamp',\n",
    "                                                        'following', \n",
    "                                                        'follow_request_sent',\n",
    "                                                        'created_at'\n",
    "                                                  ], \n",
    "                        DUMMY_COLUMNS + ['is_translator', 'contributors_enabled', 'notifications'])\n",
    "\n",
    "# Fit and score decision tree\n",
    "fit_and_score(cresci2017_one_hot, cresci2017_labels, depth=1)"
   ]
  },
  {
   "cell_type": "code",
   "execution_count": 92,
   "metadata": {},
   "outputs": [
    {
     "name": "stdout",
     "output_type": "stream",
     "text": [
      "Starting kfold_cv at 1654296189.386692\n",
      "Fold 0 in progress\n",
      "Fold 1 in progress\n",
      "Fold 2 in progress\n",
      "Fold 3 in progress\n",
      "Fold 4 in progress\n",
      "Finished kfold_cv at 1654296193.808518. Execution time: 4.421825885772705 s\n",
      "Starting kfold_cv at 1654296193.8087606\n",
      "Fold 0 in progress\n",
      "Fold 1 in progress\n",
      "Fold 2 in progress\n",
      "Fold 3 in progress\n",
      "Fold 4 in progress\n",
      "Finished kfold_cv at 1654296199.3144586. Execution time: 5.505697965621948 s\n",
      "Starting kfold_cv at 1654296199.314597\n",
      "Fold 0 in progress\n",
      "Fold 1 in progress\n",
      "Fold 2 in progress\n",
      "Fold 3 in progress\n",
      "Fold 4 in progress\n",
      "Finished kfold_cv at 1654296205.3795807. Execution time: 6.06498384475708 s\n",
      "Starting kfold_cv at 1654296205.3797197\n",
      "Fold 0 in progress\n",
      "Fold 1 in progress\n",
      "Fold 2 in progress\n",
      "Fold 3 in progress\n",
      "Fold 4 in progress\n",
      "Finished kfold_cv at 1654296212.0015125. Execution time: 6.621792793273926 s\n",
      "Starting kfold_cv at 1654296212.001628\n",
      "Fold 0 in progress\n",
      "Fold 1 in progress\n",
      "Fold 2 in progress\n",
      "Fold 3 in progress\n",
      "Fold 4 in progress\n",
      "Finished kfold_cv at 1654296218.9665842. Execution time: 6.964956283569336 s\n"
     ]
    }
   ],
   "source": [
    "cresci2017_scores = [kfold_cv(cresci2017_one_hot, cresci2017_labels, depth=i) for i in range(1,6)]"
   ]
  },
  {
   "cell_type": "code",
   "execution_count": 16,
   "metadata": {
    "ExecuteTime": {
     "end_time": "2022-04-29T12:18:08.179137Z",
     "start_time": "2022-04-29T12:18:03.729771Z"
    }
   },
   "outputs": [
    {
     "data": {
      "image/png": "[encoded data removed]",
      "text/plain": [
       "<Figure size 504x288 with 1 Axes>"
      ]
     },
     "metadata": {
      "needs_background": "light"
     },
     "output_type": "display_data"
    }
   ],
   "source": [
    "plot_metrics(cresci2017_one_hot, cresci2017_labels, soa_precision=0.98, soa_recall=0.98)"
   ]
  },
  {
   "cell_type": "code",
   "execution_count": 17,
   "metadata": {
    "ExecuteTime": {
     "end_time": "2022-04-29T12:18:08.908937Z",
     "start_time": "2022-04-29T12:18:08.180230Z"
    }
   },
   "outputs": [
    {
     "name": "stdout",
     "output_type": "stream",
     "text": [
      "|--- favourites_count <= 16.50\n",
      "|   |--- weights: [127.00, 7510.00] class: 1\n",
      "|--- favourites_count >  16.50\n",
      "|   |--- weights: [2315.00, 105.00] class: 0\n",
      "\n",
      "Accuracy: 0.9758756668986314\n",
      "Precision 0.9820832068023079\n",
      "Recall: 0.9862763037511436\n",
      "F1: 0.9841752891052952\n"
     ]
    }
   ],
   "source": [
    "train_test_fit_and_score(cresci2017_one_hot, cresci2017_labels, depth=1)"
   ]
  },
  {
   "cell_type": "code",
   "execution_count": 18,
   "metadata": {
    "ExecuteTime": {
     "end_time": "2022-04-29T12:18:19.427414Z",
     "start_time": "2022-04-29T12:18:08.910350Z"
    }
   },
   "outputs": [
    {
     "name": "stdout",
     "output_type": "stream",
     "text": [
      "Accuracy: 1.0\n",
      "Precision 1.0\n",
      "Recall: 1.0\n",
      "F1: 1.0\n"
     ]
    }
   ],
   "source": [
    "# Fit and score on random forest\n",
    "rf = ensemble.RandomForestClassifier(n_estimators=100)\n",
    "rf_clf, *_ = fit_and_score(cresci2017_one_hot, cresci2017_labels, method=rf)"
   ]
  },
  {
   "cell_type": "code",
   "execution_count": 19,
   "metadata": {
    "ExecuteTime": {
     "end_time": "2022-04-29T12:18:23.426266Z",
     "start_time": "2022-04-29T12:18:19.428135Z"
    }
   },
   "outputs": [
    {
     "data": {
      "image/png": "[encoded data removed]",
      "text/plain": [
       "<Figure size 1080x504 with 2 Axes>"
      ]
     },
     "metadata": {
      "needs_background": "light"
     },
     "output_type": "display_data"
    }
   ],
   "source": [
    "fig, axes = plt.subplots(1,2, figsize=(15,7))\n",
    "mdi = mdi_feature_importance(rf_clf, list(cresci2017_one_hot.columns), axes[0])\n",
    "permutation_feature_importance(axes[1], cresci2017, cresci2017_labels, DUMMY_COLUMNS + ['is_translator', 'contributors_enabled', 'notifications',])\n",
    "fig.tight_layout()"
   ]
  },
  {
   "cell_type": "markdown",
   "metadata": {
    "heading_collapsed": true
   },
   "source": [
    "## varol-2017\n",
    "\n",
    "Bot repository only has account ids and labels. Reached out to http://sbp-brims.org/2021/papers/working-papers/2021_SBP-BRiMS_FinalPDF_57.pdf to get full data."
   ]
  },
  {
   "cell_type": "code",
   "execution_count": 67,
   "metadata": {},
   "outputs": [],
   "source": [
    "varol = np.loadtxt(PROJ_PATH + \"/data/gilani_derived/varol-2017.dat\", unpack=True)"
   ]
  },
  {
   "cell_type": "code",
   "execution_count": 68,
   "metadata": {},
   "outputs": [
    {
     "data": {
      "text/plain": [
       "array([[3.09842135e+09, 5.54067867e+08, 2.56597786e+08, ...,\n",
       "        3.52864520e+09, 3.39406006e+09, 1.68603364e+09],\n",
       "       [1.00000000e+00, 1.00000000e+00, 1.00000000e+00, ...,\n",
       "        0.00000000e+00, 0.00000000e+00, 0.00000000e+00]])"
      ]
     },
     "execution_count": 68,
     "metadata": {},
     "output_type": "execute_result"
    }
   ],
   "source": [
    "varol"
   ]
  },
  {
   "cell_type": "markdown",
   "metadata": {
    "heading_collapsed": true
   },
   "source": [
    "## cresci-2015"
   ]
  },
  {
   "cell_type": "code",
   "execution_count": 93,
   "metadata": {
    "ExecuteTime": {
     "end_time": "2022-04-29T12:08:34.977767Z",
     "start_time": "2022-04-29T12:08:34.687499Z"
    },
    "hidden": true
   },
   "outputs": [
    {
     "name": "stdout",
     "output_type": "stream",
     "text": [
      "|--- statuses_count <= 78.50\n",
      "|   |--- weights: [210.00, 3140.00] class: 1\n",
      "|--- statuses_count >  78.50\n",
      "|   |--- weights: [1740.00, 211.00] class: 0\n",
      "\n",
      "Accuracy: 0.9205810224485946\n",
      "Precision 0.9373134328358209\n",
      "Recall: 0.9370337212772307\n",
      "F1: 0.937173556185644\n"
     ]
    },
    {
     "data": {
      "text/plain": [
       "(DecisionTreeClassifier(max_depth=1),\n",
       " 0.9205810224485946,\n",
       " 0.9373134328358209,\n",
       " 0.9370337212772307,\n",
       " 0.937173556185644)"
      ]
     },
     "execution_count": 93,
     "metadata": {},
     "output_type": "execute_result"
    }
   ],
   "source": [
    "folder_names = [\"elzioni2013\", \"TheFakeProject\", \"intertwitter\", \"twittertechnology\", \"fastfollowerz\"]\n",
    "is_bot = [0, 0, 1, 1, 1]\n",
    "\n",
    "dfs = []\n",
    "cresci2015_labels = []\n",
    "\n",
    "for name, ib in zip(folder_names, is_bot):\n",
    "    df = pd.read_csv(PROJ_PATH + f\"/data/cresci-2015/{name}/users.csv\")\n",
    "    #print(name, df[\"created_at\"])\n",
    "    dfs.append(df)\n",
    "    cresci2015_labels.extend([ib]*len(df))\n",
    "\n",
    "cresci2015 = pd.concat(dfs)\n",
    "cresci2015[\"created_at\"] = cresci2015[\"created_at\"].apply(lambda dt: datetime.strptime(dt, \"%a %b %d %H:%M:%S %z %Y\").timestamp())\n",
    "cresci2015_labels = pd.Series(cresci2015_labels)\n",
    "\n",
    "\n",
    "# Preprocess\n",
    "cresci2015_one_hot = preprocess(cresci2015, \n",
    "                        ['id', 'lang', 'name', 'screen_name',\n",
    "                           'url', 'profile_image_url',\n",
    "                           'profile_banner_url',\n",
    "                           'profile_background_image_url_https', 'profile_text_color',\n",
    "                           'profile_image_url_https', 'profile_sidebar_border_color',\n",
    "                           'profile_sidebar_fill_color',\n",
    "                           'profile_background_image_url', 'profile_background_color',\n",
    "                           'profile_link_color',\n",
    "                           'description', 'dataset', 'updated'], \n",
    "                        [col for col in DUMMY_COLUMNS if col not in ['lang']])\n",
    "\n",
    "\n",
    "# Fit and score decision tree\n",
    "fit_and_score(cresci2015_one_hot, cresci2015_labels, depth=1)"
   ]
  },
  {
   "cell_type": "code",
   "execution_count": 94,
   "metadata": {},
   "outputs": [
    {
     "name": "stdout",
     "output_type": "stream",
     "text": [
      "Starting kfold_cv at 1654296222.8643372\n",
      "Fold 0 in progress\n",
      "Fold 1 in progress\n",
      "Fold 2 in progress\n",
      "Fold 3 in progress\n",
      "Fold 4 in progress\n",
      "Finished kfold_cv at 1654296224.2288291. Execution time: 1.3644919395446777 s\n",
      "Starting kfold_cv at 1654296224.2295697\n",
      "Fold 0 in progress\n",
      "Fold 1 in progress\n",
      "Fold 2 in progress\n",
      "Fold 3 in progress\n",
      "Fold 4 in progress\n",
      "Finished kfold_cv at 1654296225.8177483. Execution time: 1.5881786346435547 s\n",
      "Starting kfold_cv at 1654296225.8178644\n",
      "Fold 0 in progress\n",
      "Fold 1 in progress\n",
      "Fold 2 in progress\n",
      "Fold 3 in progress\n",
      "Fold 4 in progress\n",
      "Finished kfold_cv at 1654296227.6689143. Execution time: 1.8510499000549316 s\n",
      "Starting kfold_cv at 1654296227.6690366\n",
      "Fold 0 in progress\n",
      "Fold 1 in progress\n",
      "Fold 2 in progress\n",
      "Fold 3 in progress\n",
      "Fold 4 in progress\n",
      "Finished kfold_cv at 1654296229.2699306. Execution time: 1.6008939743041992 s\n",
      "Starting kfold_cv at 1654296229.2700634\n",
      "Fold 0 in progress\n",
      "Fold 1 in progress\n",
      "Fold 2 in progress\n",
      "Fold 3 in progress\n",
      "Fold 4 in progress\n",
      "Finished kfold_cv at 1654296230.9607964. Execution time: 1.6907329559326172 s\n"
     ]
    }
   ],
   "source": [
    "cresci2015_scores = [kfold_cv(cresci2015_one_hot, cresci2015_labels, depth=i) for i in range(1,6)]"
   ]
  },
  {
   "cell_type": "code",
   "execution_count": 37,
   "metadata": {},
   "outputs": [
    {
     "data": {
      "text/plain": [
       "[[0.9198219847576009,\n",
       "  0.9350080816088513,\n",
       "  0.9382363274723101,\n",
       "  0.9365960530858823],\n",
       " [0.9249172296890619,\n",
       "  0.9881081984393514,\n",
       "  0.8918086098271567,\n",
       "  0.9374589673717992],\n",
       " [0.968319635623379,\n",
       "  0.9878506799744852,\n",
       "  0.9619461454476319,\n",
       "  0.974606416849117],\n",
       " [0.9788685813440668,\n",
       "  0.9864565448326269,\n",
       "  0.9799469626483022,\n",
       "  0.9831761704577264],\n",
       " [0.9807578755516163,\n",
       "  0.9871383707803822,\n",
       "  0.9823941080381671,\n",
       "  0.9847544117759506]]"
      ]
     },
     "execution_count": 37,
     "metadata": {},
     "output_type": "execute_result"
    }
   ],
   "source": [
    "cresci2015_scores"
   ]
  },
  {
   "cell_type": "code",
   "execution_count": 21,
   "metadata": {
    "ExecuteTime": {
     "end_time": "2022-04-29T12:08:41.948336Z",
     "start_time": "2022-04-29T12:08:41.748392Z"
    },
    "hidden": true
   },
   "outputs": [
    {
     "name": "stdout",
     "output_type": "stream",
     "text": [
      "|--- statuses_count <= 78.50\n",
      "|   |--- friends_count <= 159.50\n",
      "|   |   |--- weights: [117.00, 99.00] class: 0\n",
      "|   |--- friends_count >  159.50\n",
      "|   |   |--- weights: [23.00, 2105.00] class: 1\n",
      "|--- statuses_count >  78.50\n",
      "|   |--- friends_count <= 474.50\n",
      "|   |   |--- weights: [925.00, 19.00] class: 0\n",
      "|   |--- friends_count >  474.50\n",
      "|   |   |--- weights: [288.00, 134.00] class: 0\n",
      "\n",
      "Accuracy: 0.9226901319924575\n",
      "Precision 0.9943246311010215\n",
      "Recall: 0.8812877263581489\n",
      "F1: 0.9343999999999999\n"
     ]
    }
   ],
   "source": [
    "train_test_fit_and_score(cresci2015_one_hot, cresci2015_labels, depth=2)"
   ]
  },
  {
   "cell_type": "code",
   "execution_count": 22,
   "metadata": {
    "ExecuteTime": {
     "end_time": "2022-04-29T12:06:14.724309Z",
     "start_time": "2022-04-29T12:06:13.499381Z"
    },
    "hidden": true
   },
   "outputs": [
    {
     "data": {
      "image/png": "[encoded data removed]",
      "text/plain": [
       "<Figure size 504x288 with 1 Axes>"
      ]
     },
     "metadata": {
      "needs_background": "light"
     },
     "output_type": "display_data"
    }
   ],
   "source": [
    "plot_metrics(cresci2015_one_hot, cresci2015_labels)"
   ]
  },
  {
   "cell_type": "markdown",
   "metadata": {
    "heading_collapsed": true
   },
   "source": [
    "## caverlee-2011: \"A Long-Term Study of Content Polluters on Twitter.\"\n",
    "\n",
    "Lee, Kyumin, Brian David Eoff, and James Caverlee. \"A Long-Term Study of Content Polluters on Twitter.\" ICWSM. 2011.\n",
    "\n",
    "https://ojs.aaai.org/index.php/ICWSM/article/view/14106\n",
    "\n",
    "Approx. citations: 500\n",
    "\n",
    "Simple decision rule precision/recall: 0.91/0.92\n",
    "\n",
    "State-of-art precision/recall: 0.89/0.87"
   ]
  },
  {
   "cell_type": "code",
   "execution_count": 95,
   "metadata": {
    "ExecuteTime": {
     "end_time": "2022-05-25T14:24:38.163633Z",
     "start_time": "2022-05-25T14:24:37.916416Z"
    },
    "hidden": true
   },
   "outputs": [],
   "source": [
    "caverlee2011_bots = pd.read_csv(PROJ_PATH + \"/data/social_honeypot_icwsm_2011/content_polluters.txt\", sep=\"\\t\", header=None, names=[\"UserID\", \"CreatedAt\", \"CollectedAt\", \"NumerOfFollowings\", \"NumberOfFollowers\", \"NumberOfTweets\", \"LengthOfScreenName\", \"LengthOfDescriptionInUserProfile\"])\n",
    "caverlee2011_humans = pd.read_csv(PROJ_PATH + \"/data/social_honeypot_icwsm_2011/legitimate_users.txt\", sep=\"\\t\", header=None, names=[\"UserID\", \"CreatedAt\", \"CollectedAt\", \"NumerOfFollowings\", \"NumberOfFollowers\", \"NumberOfTweets\", \"LengthOfScreenName\", \"LengthOfDescriptionInUserProfile\"])\n",
    "caverlee2011 = pd.concat([caverlee2011_bots, caverlee2011_humans])\n",
    "caverlee2011[\"CreatedAt\"] = caverlee2011[\"CreatedAt\"].apply(lambda dt: datetime.strptime(dt, \"%Y-%m-%d %H:%M:%S\").timestamp())\n",
    "caverlee2011.drop(columns=[\"CollectedAt\", \"UserID\"], inplace=True)\n",
    "caverlee2011_labels = pd.Series([1]*len(caverlee2011_bots) + [0]*len(caverlee2011_humans))\n"
   ]
  },
  {
   "cell_type": "code",
   "execution_count": 96,
   "metadata": {
    "ExecuteTime": {
     "end_time": "2022-04-29T00:48:56.779655Z",
     "start_time": "2022-04-29T00:48:56.699905Z"
    },
    "hidden": true
   },
   "outputs": [
    {
     "name": "stdout",
     "output_type": "stream",
     "text": [
      "|--- CreatedAt <= 1259512448.00\n",
      "|   |--- NumerOfFollowings <= 502.50\n",
      "|   |   |--- weights: [17261.00, 1879.00] class: 0\n",
      "|   |--- NumerOfFollowings >  502.50\n",
      "|   |   |--- weights: [2015.00, 7856.00] class: 1\n",
      "|--- CreatedAt >  1259512448.00\n",
      "|   |--- weights: [0.00, 12488.00] class: 1\n",
      "\n",
      "Accuracy: 0.9061664136485217\n",
      "Precision 0.9098796905049421\n",
      "Recall: 0.9154479593214238\n",
      "F1: 0.9126553317482392\n"
     ]
    },
    {
     "data": {
      "text/plain": [
       "(DecisionTreeClassifier(max_depth=2),\n",
       " 0.9061664136485217,\n",
       " 0.9098796905049421,\n",
       " 0.9154479593214238,\n",
       " 0.9126553317482392)"
      ]
     },
     "execution_count": 96,
     "metadata": {},
     "output_type": "execute_result"
    }
   ],
   "source": [
    "fit_and_score(caverlee2011, caverlee2011_labels, depth=2)"
   ]
  },
  {
   "cell_type": "code",
   "execution_count": 97,
   "metadata": {},
   "outputs": [
    {
     "name": "stdout",
     "output_type": "stream",
     "text": [
      "Starting train_test_fit_and_score at 1654296235.3732343\n",
      "|--- CreatedAt <= 1259508608.00\n",
      "|   |--- NumerOfFollowings <= 502.50\n",
      "|   |   |--- NumerOfFollowings <= 212.50\n",
      "|   |   |   |--- weights: [10332.00, 541.00] class: 0\n",
      "|   |   |--- NumerOfFollowings >  212.50\n",
      "|   |   |   |--- weights: [1751.00, 780.00] class: 0\n",
      "|   |--- NumerOfFollowings >  502.50\n",
      "|   |   |--- NumberOfTweets <= 2110.50\n",
      "|   |   |   |--- weights: [526.00, 4125.00] class: 1\n",
      "|   |   |--- NumberOfTweets >  2110.50\n",
      "|   |   |   |--- weights: [860.00, 1356.00] class: 1\n",
      "|--- CreatedAt >  1259508608.00\n",
      "|   |--- weights: [0.00, 8778.00] class: 1\n",
      "\n",
      "Accuracy: 0.9045783132530121\n",
      "Precision 0.9061801935964259\n",
      "Recall: 0.9160018064127653\n",
      "F1: 0.9110645306183561\n",
      "Finished train_test_fit_and_score at 1654296235.5634406. Execution time: 0.19020628929138184 s\n"
     ]
    }
   ],
   "source": [
    "train_test_fit_and_score(caverlee2011, caverlee2011_labels)"
   ]
  },
  {
   "cell_type": "code",
   "execution_count": 98,
   "metadata": {},
   "outputs": [
    {
     "name": "stdout",
     "output_type": "stream",
     "text": [
      "Starting kfold_cv at 1654296236.8013773\n",
      "Fold 0 in progress\n",
      "Fold 1 in progress\n",
      "Fold 2 in progress\n",
      "Fold 3 in progress\n",
      "Fold 4 in progress\n",
      "Finished kfold_cv at 1654296237.401742. Execution time: 0.6003646850585938 s\n",
      "Starting kfold_cv at 1654296237.4019976\n",
      "Fold 0 in progress\n",
      "Fold 1 in progress\n",
      "Fold 2 in progress\n",
      "Fold 3 in progress\n",
      "Fold 4 in progress\n",
      "Finished kfold_cv at 1654296238.041055. Execution time: 0.6390573978424072 s\n",
      "Starting kfold_cv at 1654296238.0411196\n",
      "Fold 0 in progress\n",
      "Fold 1 in progress\n",
      "Fold 2 in progress\n",
      "Fold 3 in progress\n",
      "Fold 4 in progress\n",
      "Finished kfold_cv at 1654296238.6715596. Execution time: 0.6304399967193604 s\n",
      "Starting kfold_cv at 1654296238.6719012\n",
      "Fold 0 in progress\n",
      "Fold 1 in progress\n",
      "Fold 2 in progress\n",
      "Fold 3 in progress\n",
      "Fold 4 in progress\n",
      "Finished kfold_cv at 1654296239.4178927. Execution time: 0.7459914684295654 s\n",
      "Starting kfold_cv at 1654296239.4182765\n",
      "Fold 0 in progress\n",
      "Fold 1 in progress\n",
      "Fold 2 in progress\n",
      "Fold 3 in progress\n",
      "Fold 4 in progress\n",
      "Finished kfold_cv at 1654296240.1599414. Execution time: 0.7416648864746094 s\n"
     ]
    }
   ],
   "source": [
    "caverlee2011_scores = [kfold_cv(caverlee2011, caverlee2011_labels, depth=i) for i in range(1,6)]"
   ]
  },
  {
   "cell_type": "code",
   "execution_count": 42,
   "metadata": {},
   "outputs": [
    {
     "data": {
      "text/plain": [
       "[[0.7652715394654894,\n",
       "  0.9992851460233355,\n",
       "  0.562075351070636,\n",
       "  0.7194555116169198],\n",
       " [0.9057085699104406,\n",
       "  0.9094958450618245,\n",
       "  0.9149385636764293,\n",
       "  0.9122073952593454],\n",
       " [0.905997706212245,\n",
       "  0.9093939864615439,\n",
       "  0.9156663010853604,\n",
       "  0.9125048443830268],\n",
       " [0.9292271793524259,\n",
       "  0.9325992405684053,\n",
       "  0.9355131535681187,\n",
       "  0.9340265233764049],\n",
       " [0.9317332208699843,\n",
       "  0.9252424696880027,\n",
       "  0.9492626928039158,\n",
       "  0.9370612065470887]]"
      ]
     },
     "execution_count": 42,
     "metadata": {},
     "output_type": "execute_result"
    }
   ],
   "source": [
    "caverlee2011_scores"
   ]
  },
  {
   "cell_type": "code",
   "execution_count": 26,
   "metadata": {
    "ExecuteTime": {
     "end_time": "2022-04-29T00:49:32.524036Z",
     "start_time": "2022-04-29T00:49:32.432593Z"
    },
    "hidden": true
   },
   "outputs": [
    {
     "name": "stdout",
     "output_type": "stream",
     "text": [
      "|--- CreatedAt <= 1259513664.00\n",
      "|   |--- NumerOfFollowings <= 498.50\n",
      "|   |   |--- weights: [12086.00, 1317.00] class: 0\n",
      "|   |--- NumerOfFollowings >  498.50\n",
      "|   |   |--- weights: [1407.00, 5558.00] class: 1\n",
      "|--- CreatedAt >  1259513664.00\n",
      "|   |--- weights: [0.00, 8681.00] class: 1\n",
      "\n",
      "Accuracy: 0.9057831325301204\n",
      "Precision 0.9078087885985748\n",
      "Recall: 0.9172041397930103\n",
      "F1: 0.9124822800865479\n"
     ]
    }
   ],
   "source": [
    "train_test_fit_and_score(caverlee2011, caverlee2011_labels, depth=2)"
   ]
  },
  {
   "cell_type": "code",
   "execution_count": 27,
   "metadata": {
    "ExecuteTime": {
     "end_time": "2022-04-27T11:52:18.844377Z",
     "start_time": "2022-04-27T11:52:18.315643Z"
    },
    "hidden": true
   },
   "outputs": [
    {
     "data": {
      "image/png": "[encoded data removed]",
      "text/plain": [
       "<Figure size 504x288 with 1 Axes>"
      ]
     },
     "metadata": {
      "needs_background": "light"
     },
     "output_type": "display_data"
    }
   ],
   "source": [
    "plot_metrics(caverlee2011, caverlee2011_labels, soa_precision=0.89, soa_recall=0.87)"
   ]
  },
  {
   "cell_type": "code",
   "execution_count": 28,
   "metadata": {
    "ExecuteTime": {
     "end_time": "2022-04-27T02:50:39.143271Z",
     "start_time": "2022-04-27T02:50:36.542744Z"
    },
    "hidden": true
   },
   "outputs": [
    {
     "name": "stdout",
     "output_type": "stream",
     "text": [
      "Accuracy: 0.9526253644666136\n",
      "Precision 0.9538875196056464\n",
      "Recall: 0.9578364757233497\n",
      "F1: 0.9558579190803359\n"
     ]
    }
   ],
   "source": [
    "rf = ensemble.RandomForestClassifier(n_estimators=100, max_depth=10)\n",
    "rf_clf, _, _, _, _ = fit_and_score(caverlee2011, caverlee2011_labels, method=rf, depth=2)"
   ]
  },
  {
   "cell_type": "code",
   "execution_count": 29,
   "metadata": {
    "ExecuteTime": {
     "end_time": "2022-04-27T02:50:58.498028Z",
     "start_time": "2022-04-27T02:50:39.892947Z"
    },
    "hidden": true
   },
   "outputs": [
    {
     "data": {
      "image/png": "[encoded data removed]",
      "text/plain": [
       "<Figure size 1080x504 with 2 Axes>"
      ]
     },
     "metadata": {
      "needs_background": "light"
     },
     "output_type": "display_data"
    }
   ],
   "source": [
    "fig, axes =plt.subplots(1, 2, figsize=(15,7))\n",
    "mdi_feature_importance(rf_clf, list(caverlee2011.columns), axes[0])\n",
    "permutation_feature_importance(axes[1], caverlee2011, caverlee2011_labels, [])"
   ]
  },
  {
   "cell_type": "markdown",
   "metadata": {
    "heading_collapsed": true
   },
   "source": [
    "## Kaiser\n",
    "\n",
    "Only account ids and labels."
   ]
  },
  {
   "cell_type": "code",
   "execution_count": 33,
   "metadata": {
    "ExecuteTime": {
     "end_time": "2022-05-25T00:44:12.436346Z",
     "start_time": "2022-05-25T00:44:12.085174Z"
    },
    "hidden": true
   },
   "outputs": [],
   "source": [
    "kaiser = pyreadr.read_r(PROJ_PATH + '/data/kaiser/data_botometer.RData')['data_botometer']"
   ]
  },
  {
   "cell_type": "code",
   "execution_count": 34,
   "metadata": {
    "ExecuteTime": {
     "end_time": "2022-05-25T00:44:14.210355Z",
     "start_time": "2022-05-25T00:44:14.197245Z"
    },
    "hidden": true
   },
   "outputs": [
    {
     "data": {
      "text/html": [
       "<div>\n",
       "<style scoped>\n",
       "    .dataframe tbody tr th:only-of-type {\n",
       "        vertical-align: middle;\n",
       "    }\n",
       "\n",
       "    .dataframe tbody tr th {\n",
       "        vertical-align: top;\n",
       "    }\n",
       "\n",
       "    .dataframe thead th {\n",
       "        text-align: right;\n",
       "    }\n",
       "</style>\n",
       "<table border=\"1\" class=\"dataframe\">\n",
       "  <thead>\n",
       "    <tr style=\"text-align: right;\">\n",
       "      <th></th>\n",
       "      <th>user.id_str</th>\n",
       "      <th>date</th>\n",
       "      <th>type</th>\n",
       "      <th>cap.universal</th>\n",
       "      <th>scores.universal</th>\n",
       "    </tr>\n",
       "  </thead>\n",
       "  <tbody>\n",
       "    <tr>\n",
       "      <th>0</th>\n",
       "      <td>1073515275323097088</td>\n",
       "      <td>2019-03-03</td>\n",
       "      <td>bot</td>\n",
       "      <td>0.325413</td>\n",
       "      <td>0.724840</td>\n",
       "    </tr>\n",
       "    <tr>\n",
       "      <th>1</th>\n",
       "      <td>961438005675397120</td>\n",
       "      <td>2019-03-03</td>\n",
       "      <td>bot</td>\n",
       "      <td>0.104603</td>\n",
       "      <td>0.515643</td>\n",
       "    </tr>\n",
       "    <tr>\n",
       "      <th>2</th>\n",
       "      <td>941291900862124032</td>\n",
       "      <td>2019-03-03</td>\n",
       "      <td>bot</td>\n",
       "      <td>0.060559</td>\n",
       "      <td>0.413570</td>\n",
       "    </tr>\n",
       "    <tr>\n",
       "      <th>3</th>\n",
       "      <td>809439447796355072</td>\n",
       "      <td>2019-03-03</td>\n",
       "      <td>bot</td>\n",
       "      <td>0.060559</td>\n",
       "      <td>0.413570</td>\n",
       "    </tr>\n",
       "    <tr>\n",
       "      <th>4</th>\n",
       "      <td>769777732213321729</td>\n",
       "      <td>2019-03-03</td>\n",
       "      <td>bot</td>\n",
       "      <td>0.054305</td>\n",
       "      <td>0.393746</td>\n",
       "    </tr>\n",
       "    <tr>\n",
       "      <th>...</th>\n",
       "      <td>...</td>\n",
       "      <td>...</td>\n",
       "      <td>...</td>\n",
       "      <td>...</td>\n",
       "      <td>...</td>\n",
       "    </tr>\n",
       "    <tr>\n",
       "      <th>374719</th>\n",
       "      <td>2234767742</td>\n",
       "      <td>2019-06-02</td>\n",
       "      <td>ger_bot</td>\n",
       "      <td>0.104603</td>\n",
       "      <td>0.515643</td>\n",
       "    </tr>\n",
       "    <tr>\n",
       "      <th>374720</th>\n",
       "      <td>1092190045</td>\n",
       "      <td>2019-06-02</td>\n",
       "      <td>ger_bot</td>\n",
       "      <td>0.010165</td>\n",
       "      <td>0.170132</td>\n",
       "    </tr>\n",
       "    <tr>\n",
       "      <th>374721</th>\n",
       "      <td>57146860</td>\n",
       "      <td>2019-06-02</td>\n",
       "      <td>ger_bot</td>\n",
       "      <td>0.023812</td>\n",
       "      <td>0.267344</td>\n",
       "    </tr>\n",
       "    <tr>\n",
       "      <th>374722</th>\n",
       "      <td>56828167</td>\n",
       "      <td>2019-06-02</td>\n",
       "      <td>ger_bot</td>\n",
       "      <td>0.005778</td>\n",
       "      <td>0.119570</td>\n",
       "    </tr>\n",
       "    <tr>\n",
       "      <th>374723</th>\n",
       "      <td>14383393</td>\n",
       "      <td>2019-06-02</td>\n",
       "      <td>ger_bot</td>\n",
       "      <td>0.023812</td>\n",
       "      <td>0.267344</td>\n",
       "    </tr>\n",
       "  </tbody>\n",
       "</table>\n",
       "<p>374724 rows × 5 columns</p>\n",
       "</div>"
      ],
      "text/plain": [
       "                user.id_str        date     type  cap.universal  \\\n",
       "0       1073515275323097088  2019-03-03      bot       0.325413   \n",
       "1        961438005675397120  2019-03-03      bot       0.104603   \n",
       "2        941291900862124032  2019-03-03      bot       0.060559   \n",
       "3        809439447796355072  2019-03-03      bot       0.060559   \n",
       "4        769777732213321729  2019-03-03      bot       0.054305   \n",
       "...                     ...         ...      ...            ...   \n",
       "374719           2234767742  2019-06-02  ger_bot       0.104603   \n",
       "374720           1092190045  2019-06-02  ger_bot       0.010165   \n",
       "374721             57146860  2019-06-02  ger_bot       0.023812   \n",
       "374722             56828167  2019-06-02  ger_bot       0.005778   \n",
       "374723             14383393  2019-06-02  ger_bot       0.023812   \n",
       "\n",
       "        scores.universal  \n",
       "0               0.724840  \n",
       "1               0.515643  \n",
       "2               0.413570  \n",
       "3               0.413570  \n",
       "4               0.393746  \n",
       "...                  ...  \n",
       "374719          0.515643  \n",
       "374720          0.170132  \n",
       "374721          0.267344  \n",
       "374722          0.119570  \n",
       "374723          0.267344  \n",
       "\n",
       "[374724 rows x 5 columns]"
      ]
     },
     "execution_count": 34,
     "metadata": {},
     "output_type": "execute_result"
    }
   ],
   "source": [
    "kaiser"
   ]
  },
  {
   "cell_type": "markdown",
   "metadata": {},
   "source": [
    "# Single-class datasets"
   ]
  },
  {
   "cell_type": "markdown",
   "metadata": {
    "heading_collapsed": true
   },
   "source": [
    "## Astroturf\n",
    "\n",
    "Only account ids and labels."
   ]
  },
  {
   "cell_type": "markdown",
   "metadata": {
    "heading_collapsed": true
   },
   "source": [
    "## botwiki-2019"
   ]
  },
  {
   "cell_type": "code",
   "execution_count": 36,
   "metadata": {
    "ExecuteTime": {
     "end_time": "2022-05-25T14:00:31.432087Z",
     "start_time": "2022-05-25T14:00:31.401108Z"
    },
    "hidden": true
   },
   "outputs": [],
   "source": [
    "botwiki_profs = extract_users(PROJ_PATH + \"/data/botwiki-2019_tweets.json\")\n",
    "botwiki_df, botwiki_one_hot, botwiki_labels = preprocess_users(botwiki_profs, PROJ_PATH + \"/data/botwiki-2019.tsv\")"
   ]
  },
  {
   "cell_type": "markdown",
   "metadata": {
    "heading_collapsed": true
   },
   "source": [
    "## celebrity-2019"
   ]
  },
  {
   "cell_type": "code",
   "execution_count": 37,
   "metadata": {
    "ExecuteTime": {
     "end_time": "2022-05-25T14:02:43.239555Z",
     "start_time": "2022-05-25T14:02:42.710222Z"
    },
    "hidden": true
   },
   "outputs": [],
   "source": [
    "celebrity_profs = extract_users(PROJ_PATH + \"/data/celebrity-2019_tweets.json\")\n",
    "celebrity_df, celebrity_one_hot, celebrity_labels = preprocess_users(celebrity_profs, PROJ_PATH + \"/data/celebrity-2019.tsv\")"
   ]
  },
  {
   "cell_type": "markdown",
   "metadata": {
    "heading_collapsed": true
   },
   "source": [
    "## political-bots-2019"
   ]
  },
  {
   "cell_type": "code",
   "execution_count": 38,
   "metadata": {
    "ExecuteTime": {
     "end_time": "2022-05-25T14:03:26.218392Z",
     "start_time": "2022-05-25T14:03:26.195781Z"
    },
    "hidden": true
   },
   "outputs": [],
   "source": [
    "political_bots_profs = extract_users(PROJ_PATH + \"/data/political-bots-2019/political-bots-2019_tweets.json\")\n",
    "political_bots_df, political_bots_one_hot, political_bots_labels = preprocess_users(political_bots_profs, PROJ_PATH + \"/data/political-bots-2019/political-bots-2019.tsv\")"
   ]
  },
  {
   "cell_type": "markdown",
   "metadata": {},
   "source": [
    "## pronbots-2019"
   ]
  },
  {
   "cell_type": "code",
   "execution_count": 39,
   "metadata": {
    "ExecuteTime": {
     "end_time": "2022-05-25T14:37:30.470180Z",
     "start_time": "2022-05-25T14:37:30.092891Z"
    }
   },
   "outputs": [
    {
     "ename": "KeyError",
     "evalue": "\"None of ['id'] are in the columns\"",
     "output_type": "error",
     "traceback": [
      "\u001b[0;31m---------------------------------------------------------------------------\u001b[0m",
      "\u001b[0;31mKeyError\u001b[0m                                  Traceback (most recent call last)",
      "\u001b[0;32m<ipython-input-39-52d7de778bb9>\u001b[0m in \u001b[0;36m<module>\u001b[0;34m\u001b[0m\n\u001b[1;32m      5\u001b[0m \u001b[0;34m\u001b[0m\u001b[0m\n\u001b[1;32m      6\u001b[0m \u001b[0mpronbots_profs\u001b[0m \u001b[0;34m=\u001b[0m \u001b[0mextract_users_list\u001b[0m\u001b[0;34m(\u001b[0m\u001b[0mPROJ_PATH\u001b[0m \u001b[0;34m+\u001b[0m \u001b[0;34m\"/data/pronbots-2019_tweets.json\"\u001b[0m\u001b[0;34m)\u001b[0m\u001b[0;34m\u001b[0m\u001b[0;34m\u001b[0m\u001b[0m\n\u001b[0;32m----> 7\u001b[0;31m \u001b[0mpronbots_df\u001b[0m\u001b[0;34m,\u001b[0m \u001b[0mpronbots_one_hot\u001b[0m\u001b[0;34m,\u001b[0m \u001b[0mpronbots_labels\u001b[0m \u001b[0;34m=\u001b[0m \u001b[0mpreprocess_users\u001b[0m\u001b[0;34m(\u001b[0m\u001b[0mpronbots_profs\u001b[0m\u001b[0;34m,\u001b[0m \u001b[0mPROJ_PATH\u001b[0m \u001b[0;34m+\u001b[0m \u001b[0;34m\"/data/pronbots-2019.tsv\"\u001b[0m\u001b[0;34m)\u001b[0m\u001b[0;34m\u001b[0m\u001b[0;34m\u001b[0m\u001b[0m\n\u001b[0m",
      "\u001b[0;32m<ipython-input-2-b9a8039455a6>\u001b[0m in \u001b[0;36mpreprocess_users\u001b[0;34m(profs, labels_path)\u001b[0m\n\u001b[1;32m      8\u001b[0m \u001b[0;34m\u001b[0m\u001b[0m\n\u001b[1;32m      9\u001b[0m \u001b[0;32mdef\u001b[0m \u001b[0mpreprocess_users\u001b[0m\u001b[0;34m(\u001b[0m\u001b[0mprofs\u001b[0m\u001b[0;34m,\u001b[0m \u001b[0mlabels_path\u001b[0m\u001b[0;34m)\u001b[0m\u001b[0;34m:\u001b[0m\u001b[0;34m\u001b[0m\u001b[0;34m\u001b[0m\u001b[0m\n\u001b[0;32m---> 10\u001b[0;31m     \u001b[0mdf\u001b[0m \u001b[0;34m=\u001b[0m \u001b[0mpd\u001b[0m\u001b[0;34m.\u001b[0m\u001b[0mDataFrame\u001b[0m\u001b[0;34m(\u001b[0m\u001b[0mprofs\u001b[0m\u001b[0;34m)\u001b[0m\u001b[0;34m.\u001b[0m\u001b[0mset_index\u001b[0m\u001b[0;34m(\u001b[0m\u001b[0;34m\"id\"\u001b[0m\u001b[0;34m)\u001b[0m\u001b[0;34m\u001b[0m\u001b[0;34m\u001b[0m\u001b[0m\n\u001b[0m\u001b[1;32m     11\u001b[0m     \u001b[0mdf\u001b[0m\u001b[0;34m[\u001b[0m\u001b[0;34m\"created_at\"\u001b[0m\u001b[0;34m]\u001b[0m \u001b[0;34m=\u001b[0m \u001b[0mdf\u001b[0m\u001b[0;34m[\u001b[0m\u001b[0;34m\"created_at\"\u001b[0m\u001b[0;34m]\u001b[0m\u001b[0;34m.\u001b[0m\u001b[0mapply\u001b[0m\u001b[0;34m(\u001b[0m\u001b[0;32mlambda\u001b[0m \u001b[0mdt\u001b[0m\u001b[0;34m:\u001b[0m \u001b[0mdatetime\u001b[0m\u001b[0;34m.\u001b[0m\u001b[0mstrptime\u001b[0m\u001b[0;34m(\u001b[0m\u001b[0mdt\u001b[0m\u001b[0;34m,\u001b[0m \u001b[0;34m\"%a %b %d %H:%M:%S %z %Y\"\u001b[0m\u001b[0;34m)\u001b[0m\u001b[0;34m.\u001b[0m\u001b[0mtimestamp\u001b[0m\u001b[0;34m(\u001b[0m\u001b[0;34m)\u001b[0m\u001b[0;34m)\u001b[0m\u001b[0;34m\u001b[0m\u001b[0;34m\u001b[0m\u001b[0m\n\u001b[1;32m     12\u001b[0m     \u001b[0mlabels\u001b[0m \u001b[0;34m=\u001b[0m \u001b[0mpd\u001b[0m\u001b[0;34m.\u001b[0m\u001b[0mread_csv\u001b[0m\u001b[0;34m(\u001b[0m\u001b[0mlabels_path\u001b[0m\u001b[0;34m,\u001b[0m \u001b[0msep\u001b[0m\u001b[0;34m=\u001b[0m\u001b[0;34m\"\\t\"\u001b[0m\u001b[0;34m,\u001b[0m \u001b[0mheader\u001b[0m\u001b[0;34m=\u001b[0m\u001b[0;32mNone\u001b[0m\u001b[0;34m,\u001b[0m \u001b[0mnames\u001b[0m\u001b[0;34m=\u001b[0m\u001b[0;34m[\u001b[0m\u001b[0;34m\"id\"\u001b[0m\u001b[0;34m,\u001b[0m \u001b[0;34m\"label_str\"\u001b[0m\u001b[0;34m]\u001b[0m\u001b[0;34m,\u001b[0m \u001b[0mindex_col\u001b[0m\u001b[0;34m=\u001b[0m\u001b[0;34m\"id\"\u001b[0m\u001b[0;34m)\u001b[0m\u001b[0;34m\u001b[0m\u001b[0;34m\u001b[0m\u001b[0m\n",
      "\u001b[0;32m~/.local/lib/python3.8/site-packages/pandas/util/_decorators.py\u001b[0m in \u001b[0;36mwrapper\u001b[0;34m(*args, **kwargs)\u001b[0m\n\u001b[1;32m    309\u001b[0m                     \u001b[0mstacklevel\u001b[0m\u001b[0;34m=\u001b[0m\u001b[0mstacklevel\u001b[0m\u001b[0;34m,\u001b[0m\u001b[0;34m\u001b[0m\u001b[0;34m\u001b[0m\u001b[0m\n\u001b[1;32m    310\u001b[0m                 )\n\u001b[0;32m--> 311\u001b[0;31m             \u001b[0;32mreturn\u001b[0m \u001b[0mfunc\u001b[0m\u001b[0;34m(\u001b[0m\u001b[0;34m*\u001b[0m\u001b[0margs\u001b[0m\u001b[0;34m,\u001b[0m \u001b[0;34m**\u001b[0m\u001b[0mkwargs\u001b[0m\u001b[0;34m)\u001b[0m\u001b[0;34m\u001b[0m\u001b[0;34m\u001b[0m\u001b[0m\n\u001b[0m\u001b[1;32m    312\u001b[0m \u001b[0;34m\u001b[0m\u001b[0m\n\u001b[1;32m    313\u001b[0m         \u001b[0;32mreturn\u001b[0m \u001b[0mwrapper\u001b[0m\u001b[0;34m\u001b[0m\u001b[0;34m\u001b[0m\u001b[0m\n",
      "\u001b[0;32m~/.local/lib/python3.8/site-packages/pandas/core/frame.py\u001b[0m in \u001b[0;36mset_index\u001b[0;34m(self, keys, drop, append, inplace, verify_integrity)\u001b[0m\n\u001b[1;32m   5494\u001b[0m \u001b[0;34m\u001b[0m\u001b[0m\n\u001b[1;32m   5495\u001b[0m         \u001b[0;32mif\u001b[0m \u001b[0mmissing\u001b[0m\u001b[0;34m:\u001b[0m\u001b[0;34m\u001b[0m\u001b[0;34m\u001b[0m\u001b[0m\n\u001b[0;32m-> 5496\u001b[0;31m             \u001b[0;32mraise\u001b[0m \u001b[0mKeyError\u001b[0m\u001b[0;34m(\u001b[0m\u001b[0;34mf\"None of {missing} are in the columns\"\u001b[0m\u001b[0;34m)\u001b[0m\u001b[0;34m\u001b[0m\u001b[0;34m\u001b[0m\u001b[0m\n\u001b[0m\u001b[1;32m   5497\u001b[0m \u001b[0;34m\u001b[0m\u001b[0m\n\u001b[1;32m   5498\u001b[0m         \u001b[0;32mif\u001b[0m \u001b[0minplace\u001b[0m\u001b[0;34m:\u001b[0m\u001b[0;34m\u001b[0m\u001b[0;34m\u001b[0m\u001b[0m\n",
      "\u001b[0;31mKeyError\u001b[0m: \"None of ['id'] are in the columns\""
     ]
    }
   ],
   "source": [
    "def extract_users_list(data_path):\n",
    "    with open(data_path) as f:\n",
    "        d = json.load(f)\n",
    "    return d\n",
    "\n",
    "pronbots_profs = extract_users_list(PROJ_PATH + \"/data/pronbots-2019_tweets.json\")\n",
    "pronbots_df, pronbots_one_hot, pronbots_labels = preprocess_users(pronbots_profs, PROJ_PATH + \"/data/pronbots-2019.tsv\")"
   ]
  },
  {
   "cell_type": "code",
   "execution_count": 39,
   "metadata": {
    "ExecuteTime": {
     "end_time": "2022-05-25T14:37:41.540717Z",
     "start_time": "2022-05-25T14:37:41.536187Z"
    }
   },
   "outputs": [
    {
     "data": {
      "text/html": [
       "<div>\n",
       "<style scoped>\n",
       "    .dataframe tbody tr th:only-of-type {\n",
       "        vertical-align: middle;\n",
       "    }\n",
       "\n",
       "    .dataframe tbody tr th {\n",
       "        vertical-align: top;\n",
       "    }\n",
       "\n",
       "    .dataframe thead th {\n",
       "        text-align: right;\n",
       "    }\n",
       "</style>\n",
       "<table border=\"1\" class=\"dataframe\">\n",
       "  <thead>\n",
       "    <tr style=\"text-align: right;\">\n",
       "      <th></th>\n",
       "      <th>followers_count</th>\n",
       "      <th>friends_count</th>\n",
       "      <th>listed_count</th>\n",
       "      <th>created_at</th>\n",
       "      <th>favourites_count</th>\n",
       "      <th>statuses_count</th>\n",
       "    </tr>\n",
       "  </thead>\n",
       "  <tbody>\n",
       "  </tbody>\n",
       "</table>\n",
       "</div>"
      ],
      "text/plain": [
       "Empty DataFrame\n",
       "Columns: [followers_count, friends_count, listed_count, created_at, favourites_count, statuses_count]\n",
       "Index: []"
      ]
     },
     "execution_count": 39,
     "metadata": {},
     "output_type": "execute_result"
    }
   ],
   "source": [
    "pronbots_one_hot"
   ]
  },
  {
   "cell_type": "markdown",
   "metadata": {},
   "source": [
    "## vendor-purchased-2019"
   ]
  },
  {
   "cell_type": "code",
   "execution_count": 40,
   "metadata": {
    "ExecuteTime": {
     "end_time": "2022-05-25T14:04:38.566003Z",
     "start_time": "2022-05-25T14:04:38.531114Z"
    }
   },
   "outputs": [],
   "source": [
    "vendor_purchased_profs = extract_users(PROJ_PATH + \"/data/vendor-purchased-2019_tweets.json\")\n",
    "vendor_purchased_df, vendor_purchased_one_hot, vendor_purchased_labels = preprocess_users(vendor_purchased_profs, PROJ_PATH + \"/data/vendor-purchased-2019.tsv\")"
   ]
  },
  {
   "cell_type": "markdown",
   "metadata": {},
   "source": [
    "## analysis of each of the specialized classifiers in Botometer"
   ]
  },
  {
   "cell_type": "markdown",
   "metadata": {},
   "source": [
    "### humans"
   ]
  },
  {
   "cell_type": "code",
   "execution_count": null,
   "metadata": {},
   "outputs": [],
   "source": [
    "human_df = pd.concat([caverlee2011_humans], axis=0)"
   ]
  },
  {
   "cell_type": "markdown",
   "metadata": {},
   "source": [
    "### simple bots"
   ]
  },
  {
   "cell_type": "code",
   "execution_count": 20,
   "metadata": {
    "ExecuteTime": {
     "end_time": "2022-05-25T14:27:24.656045Z",
     "start_time": "2022-05-25T14:27:24.652694Z"
    }
   },
   "outputs": [],
   "source": [
    "simple_df = caverlee2011_bots"
   ]
  },
  {
   "cell_type": "markdown",
   "metadata": {},
   "source": [
    "### spammers"
   ]
  },
  {
   "cell_type": "code",
   "execution_count": 28,
   "metadata": {
    "ExecuteTime": {
     "end_time": "2022-05-25T14:35:52.198968Z",
     "start_time": "2022-05-25T14:35:52.114390Z"
    }
   },
   "outputs": [
    {
     "ename": "InvalidIndexError",
     "evalue": "Reindexing only valid with uniquely valued Index objects",
     "output_type": "error",
     "traceback": [
      "\u001b[0;31m---------------------------------------------------------------------------\u001b[0m",
      "\u001b[0;31mInvalidIndexError\u001b[0m                         Traceback (most recent call last)",
      "\u001b[0;32m/tmp/ipykernel_73451/1699319705.py\u001b[0m in \u001b[0;36m<module>\u001b[0;34m\u001b[0m\n\u001b[1;32m     38\u001b[0m                         DUMMY_COLUMNS + ['is_translator', 'contributors_enabled', 'notifications'])\n\u001b[1;32m     39\u001b[0m \u001b[0;34m\u001b[0m\u001b[0m\n\u001b[0;32m---> 40\u001b[0;31m \u001b[0mspammers_df\u001b[0m \u001b[0;34m=\u001b[0m \u001b[0mpd\u001b[0m\u001b[0;34m.\u001b[0m\u001b[0mconcat\u001b[0m\u001b[0;34m(\u001b[0m\u001b[0;34m[\u001b[0m\u001b[0mpronbots_one_hot\u001b[0m\u001b[0;34m,\u001b[0m \u001b[0mcresci2017_one_hot\u001b[0m\u001b[0;34m]\u001b[0m\u001b[0;34m,\u001b[0m \u001b[0mignore_index\u001b[0m\u001b[0;34m=\u001b[0m\u001b[0;32mTrue\u001b[0m\u001b[0;34m)\u001b[0m\u001b[0;34m\u001b[0m\u001b[0;34m\u001b[0m\u001b[0m\n\u001b[0m",
      "\u001b[0;32m~/.local/lib/python3.10/site-packages/pandas/util/_decorators.py\u001b[0m in \u001b[0;36mwrapper\u001b[0;34m(*args, **kwargs)\u001b[0m\n\u001b[1;32m    309\u001b[0m                     \u001b[0mstacklevel\u001b[0m\u001b[0;34m=\u001b[0m\u001b[0mstacklevel\u001b[0m\u001b[0;34m,\u001b[0m\u001b[0;34m\u001b[0m\u001b[0;34m\u001b[0m\u001b[0m\n\u001b[1;32m    310\u001b[0m                 )\n\u001b[0;32m--> 311\u001b[0;31m             \u001b[0;32mreturn\u001b[0m \u001b[0mfunc\u001b[0m\u001b[0;34m(\u001b[0m\u001b[0;34m*\u001b[0m\u001b[0margs\u001b[0m\u001b[0;34m,\u001b[0m \u001b[0;34m**\u001b[0m\u001b[0mkwargs\u001b[0m\u001b[0;34m)\u001b[0m\u001b[0;34m\u001b[0m\u001b[0;34m\u001b[0m\u001b[0m\n\u001b[0m\u001b[1;32m    312\u001b[0m \u001b[0;34m\u001b[0m\u001b[0m\n\u001b[1;32m    313\u001b[0m         \u001b[0;32mreturn\u001b[0m \u001b[0mwrapper\u001b[0m\u001b[0;34m\u001b[0m\u001b[0;34m\u001b[0m\u001b[0m\n",
      "\u001b[0;32m~/.local/lib/python3.10/site-packages/pandas/core/reshape/concat.py\u001b[0m in \u001b[0;36mconcat\u001b[0;34m(objs, axis, join, ignore_index, keys, levels, names, verify_integrity, sort, copy)\u001b[0m\n\u001b[1;32m    305\u001b[0m     )\n\u001b[1;32m    306\u001b[0m \u001b[0;34m\u001b[0m\u001b[0m\n\u001b[0;32m--> 307\u001b[0;31m     \u001b[0;32mreturn\u001b[0m \u001b[0mop\u001b[0m\u001b[0;34m.\u001b[0m\u001b[0mget_result\u001b[0m\u001b[0;34m(\u001b[0m\u001b[0;34m)\u001b[0m\u001b[0;34m\u001b[0m\u001b[0;34m\u001b[0m\u001b[0m\n\u001b[0m\u001b[1;32m    308\u001b[0m \u001b[0;34m\u001b[0m\u001b[0m\n\u001b[1;32m    309\u001b[0m \u001b[0;34m\u001b[0m\u001b[0m\n",
      "\u001b[0;32m~/.local/lib/python3.10/site-packages/pandas/core/reshape/concat.py\u001b[0m in \u001b[0;36mget_result\u001b[0;34m(self)\u001b[0m\n\u001b[1;32m    526\u001b[0m                     \u001b[0mobj_labels\u001b[0m \u001b[0;34m=\u001b[0m \u001b[0mobj\u001b[0m\u001b[0;34m.\u001b[0m\u001b[0maxes\u001b[0m\u001b[0;34m[\u001b[0m\u001b[0;36m1\u001b[0m \u001b[0;34m-\u001b[0m \u001b[0max\u001b[0m\u001b[0;34m]\u001b[0m\u001b[0;34m\u001b[0m\u001b[0;34m\u001b[0m\u001b[0m\n\u001b[1;32m    527\u001b[0m                     \u001b[0;32mif\u001b[0m \u001b[0;32mnot\u001b[0m \u001b[0mnew_labels\u001b[0m\u001b[0;34m.\u001b[0m\u001b[0mequals\u001b[0m\u001b[0;34m(\u001b[0m\u001b[0mobj_labels\u001b[0m\u001b[0;34m)\u001b[0m\u001b[0;34m:\u001b[0m\u001b[0;34m\u001b[0m\u001b[0;34m\u001b[0m\u001b[0m\n\u001b[0;32m--> 528\u001b[0;31m                         \u001b[0mindexers\u001b[0m\u001b[0;34m[\u001b[0m\u001b[0max\u001b[0m\u001b[0;34m]\u001b[0m \u001b[0;34m=\u001b[0m \u001b[0mobj_labels\u001b[0m\u001b[0;34m.\u001b[0m\u001b[0mget_indexer\u001b[0m\u001b[0;34m(\u001b[0m\u001b[0mnew_labels\u001b[0m\u001b[0;34m)\u001b[0m\u001b[0;34m\u001b[0m\u001b[0;34m\u001b[0m\u001b[0m\n\u001b[0m\u001b[1;32m    529\u001b[0m \u001b[0;34m\u001b[0m\u001b[0m\n\u001b[1;32m    530\u001b[0m                 \u001b[0mmgrs_indexers\u001b[0m\u001b[0;34m.\u001b[0m\u001b[0mappend\u001b[0m\u001b[0;34m(\u001b[0m\u001b[0;34m(\u001b[0m\u001b[0mobj\u001b[0m\u001b[0;34m.\u001b[0m\u001b[0m_mgr\u001b[0m\u001b[0;34m,\u001b[0m \u001b[0mindexers\u001b[0m\u001b[0;34m)\u001b[0m\u001b[0;34m)\u001b[0m\u001b[0;34m\u001b[0m\u001b[0;34m\u001b[0m\u001b[0m\n",
      "\u001b[0;32m~/.local/lib/python3.10/site-packages/pandas/core/indexes/base.py\u001b[0m in \u001b[0;36mget_indexer\u001b[0;34m(self, target, method, limit, tolerance)\u001b[0m\n\u001b[1;32m   3440\u001b[0m \u001b[0;34m\u001b[0m\u001b[0m\n\u001b[1;32m   3441\u001b[0m         \u001b[0;32mif\u001b[0m \u001b[0;32mnot\u001b[0m \u001b[0mself\u001b[0m\u001b[0;34m.\u001b[0m\u001b[0m_index_as_unique\u001b[0m\u001b[0;34m:\u001b[0m\u001b[0;34m\u001b[0m\u001b[0;34m\u001b[0m\u001b[0m\n\u001b[0;32m-> 3442\u001b[0;31m             \u001b[0;32mraise\u001b[0m \u001b[0mInvalidIndexError\u001b[0m\u001b[0;34m(\u001b[0m\u001b[0mself\u001b[0m\u001b[0;34m.\u001b[0m\u001b[0m_requires_unique_msg\u001b[0m\u001b[0;34m)\u001b[0m\u001b[0;34m\u001b[0m\u001b[0;34m\u001b[0m\u001b[0m\n\u001b[0m\u001b[1;32m   3443\u001b[0m \u001b[0;34m\u001b[0m\u001b[0m\n\u001b[1;32m   3444\u001b[0m         \u001b[0;32mif\u001b[0m \u001b[0;32mnot\u001b[0m \u001b[0mself\u001b[0m\u001b[0;34m.\u001b[0m\u001b[0m_should_compare\u001b[0m\u001b[0;34m(\u001b[0m\u001b[0mtarget\u001b[0m\u001b[0;34m)\u001b[0m \u001b[0;32mand\u001b[0m \u001b[0;32mnot\u001b[0m \u001b[0mis_interval_dtype\u001b[0m\u001b[0;34m(\u001b[0m\u001b[0mself\u001b[0m\u001b[0;34m.\u001b[0m\u001b[0mdtype\u001b[0m\u001b[0;34m)\u001b[0m\u001b[0;34m:\u001b[0m\u001b[0;34m\u001b[0m\u001b[0;34m\u001b[0m\u001b[0m\n",
      "\u001b[0;31mInvalidIndexError\u001b[0m: Reindexing only valid with uniquely valued Index objects"
     ]
    }
   ],
   "source": [
    "# Load in cresci data\n",
    "folder_names = [ 'social_spambots_1', \n",
    " 'social_spambots_2', \n",
    " 'social_spambots_3', \n",
    " 'traditional_spambots_1', \n",
    " 'traditional_spambots_2', \n",
    " 'traditional_spambots_3',\n",
    " 'traditional_spambots_4']\n",
    "dfs = []\n",
    "\n",
    "for name in folder_names:\n",
    "    df = pd.read_csv(f\"./data/cresci-2017/{name}.csv/users.csv\")\n",
    "    dfs.append(df)\n",
    "\n",
    "    \n",
    "def format_time(dt):\n",
    "    try:\n",
    "        datetime.strptime(dt, \"%a %b %d %H:%M:%S %z %Y\").timestamp()\n",
    "    except:\n",
    "        print(dt)\n",
    "    \n",
    "cresci2017_spammers = pd.concat(dfs)\n",
    "\n",
    "\n",
    "\n",
    "# Preprocess\n",
    "cresci2017_one_hot = preprocess(cresci2017_spammers, \n",
    "                        COLUMNS_TO_DROP + ['profile_banner_url', \n",
    "                                                        'test_set_1', \n",
    "                                                        'test_set_2', \n",
    "                                                        'crawled_at',\n",
    "                                                        'updated', \n",
    "                                                        'timestamp',\n",
    "                                                        'following', \n",
    "                                                        'follow_request_sent',\n",
    "                                                        'created_at'\n",
    "                                                  ], \n",
    "                        DUMMY_COLUMNS + ['is_translator', 'contributors_enabled', 'notifications'])\n",
    "\n",
    "spammers_df = pd.concat([pronbots_one_hot, cresci2017_one_hot], ignore_index=True)"
   ]
  },
  {
   "cell_type": "code",
   "execution_count": 31,
   "metadata": {
    "ExecuteTime": {
     "end_time": "2022-05-25T14:36:09.874058Z",
     "start_time": "2022-05-25T14:36:09.864724Z"
    }
   },
   "outputs": [
    {
     "data": {
      "text/html": [
       "<div>\n",
       "<style scoped>\n",
       "    .dataframe tbody tr th:only-of-type {\n",
       "        vertical-align: middle;\n",
       "    }\n",
       "\n",
       "    .dataframe tbody tr th {\n",
       "        vertical-align: top;\n",
       "    }\n",
       "\n",
       "    .dataframe thead th {\n",
       "        text-align: right;\n",
       "    }\n",
       "</style>\n",
       "<table border=\"1\" class=\"dataframe\">\n",
       "  <thead>\n",
       "    <tr style=\"text-align: right;\">\n",
       "      <th></th>\n",
       "      <th>statuses_count</th>\n",
       "      <th>followers_count</th>\n",
       "      <th>friends_count</th>\n",
       "      <th>favourites_count</th>\n",
       "      <th>listed_count</th>\n",
       "      <th>lang_en</th>\n",
       "      <th>lang_en-gb</th>\n",
       "      <th>lang_it</th>\n",
       "      <th>lang_ja</th>\n",
       "      <th>lang_nl</th>\n",
       "      <th>...</th>\n",
       "      <th>utc_offset_-14400.0</th>\n",
       "      <th>utc_offset_-7200.0</th>\n",
       "      <th>utc_offset_0.0</th>\n",
       "      <th>utc_offset_3600.0</th>\n",
       "      <th>utc_offset_7200.0</th>\n",
       "      <th>utc_offset_10800.0</th>\n",
       "      <th>utc_offset_14400.0</th>\n",
       "      <th>utc_offset_21600.0</th>\n",
       "      <th>utc_offset_25200.0</th>\n",
       "      <th>utc_offset_32400.0</th>\n",
       "    </tr>\n",
       "  </thead>\n",
       "  <tbody>\n",
       "    <tr>\n",
       "      <th>0</th>\n",
       "      <td>1299</td>\n",
       "      <td>22</td>\n",
       "      <td>40</td>\n",
       "      <td>1</td>\n",
       "      <td>0</td>\n",
       "      <td>0</td>\n",
       "      <td>0</td>\n",
       "      <td>1</td>\n",
       "      <td>0</td>\n",
       "      <td>0</td>\n",
       "      <td>...</td>\n",
       "      <td>0</td>\n",
       "      <td>0</td>\n",
       "      <td>0</td>\n",
       "      <td>0</td>\n",
       "      <td>1</td>\n",
       "      <td>0</td>\n",
       "      <td>0</td>\n",
       "      <td>0</td>\n",
       "      <td>0</td>\n",
       "      <td>0</td>\n",
       "    </tr>\n",
       "    <tr>\n",
       "      <th>1</th>\n",
       "      <td>18665</td>\n",
       "      <td>12561</td>\n",
       "      <td>3442</td>\n",
       "      <td>16358</td>\n",
       "      <td>110</td>\n",
       "      <td>0</td>\n",
       "      <td>0</td>\n",
       "      <td>1</td>\n",
       "      <td>0</td>\n",
       "      <td>0</td>\n",
       "      <td>...</td>\n",
       "      <td>0</td>\n",
       "      <td>1</td>\n",
       "      <td>0</td>\n",
       "      <td>0</td>\n",
       "      <td>0</td>\n",
       "      <td>0</td>\n",
       "      <td>0</td>\n",
       "      <td>0</td>\n",
       "      <td>0</td>\n",
       "      <td>0</td>\n",
       "    </tr>\n",
       "    <tr>\n",
       "      <th>2</th>\n",
       "      <td>22987</td>\n",
       "      <td>600</td>\n",
       "      <td>755</td>\n",
       "      <td>14</td>\n",
       "      <td>6</td>\n",
       "      <td>0</td>\n",
       "      <td>0</td>\n",
       "      <td>1</td>\n",
       "      <td>0</td>\n",
       "      <td>0</td>\n",
       "      <td>...</td>\n",
       "      <td>0</td>\n",
       "      <td>0</td>\n",
       "      <td>0</td>\n",
       "      <td>0</td>\n",
       "      <td>1</td>\n",
       "      <td>0</td>\n",
       "      <td>0</td>\n",
       "      <td>0</td>\n",
       "      <td>0</td>\n",
       "      <td>0</td>\n",
       "    </tr>\n",
       "    <tr>\n",
       "      <th>3</th>\n",
       "      <td>7975</td>\n",
       "      <td>398</td>\n",
       "      <td>350</td>\n",
       "      <td>11</td>\n",
       "      <td>2</td>\n",
       "      <td>1</td>\n",
       "      <td>0</td>\n",
       "      <td>0</td>\n",
       "      <td>0</td>\n",
       "      <td>0</td>\n",
       "      <td>...</td>\n",
       "      <td>0</td>\n",
       "      <td>0</td>\n",
       "      <td>0</td>\n",
       "      <td>0</td>\n",
       "      <td>0</td>\n",
       "      <td>0</td>\n",
       "      <td>0</td>\n",
       "      <td>0</td>\n",
       "      <td>0</td>\n",
       "      <td>0</td>\n",
       "    </tr>\n",
       "    <tr>\n",
       "      <th>4</th>\n",
       "      <td>20218</td>\n",
       "      <td>413</td>\n",
       "      <td>405</td>\n",
       "      <td>162</td>\n",
       "      <td>8</td>\n",
       "      <td>0</td>\n",
       "      <td>0</td>\n",
       "      <td>1</td>\n",
       "      <td>0</td>\n",
       "      <td>0</td>\n",
       "      <td>...</td>\n",
       "      <td>0</td>\n",
       "      <td>0</td>\n",
       "      <td>0</td>\n",
       "      <td>0</td>\n",
       "      <td>1</td>\n",
       "      <td>0</td>\n",
       "      <td>0</td>\n",
       "      <td>0</td>\n",
       "      <td>0</td>\n",
       "      <td>0</td>\n",
       "    </tr>\n",
       "    <tr>\n",
       "      <th>...</th>\n",
       "      <td>...</td>\n",
       "      <td>...</td>\n",
       "      <td>...</td>\n",
       "      <td>...</td>\n",
       "      <td>...</td>\n",
       "      <td>...</td>\n",
       "      <td>...</td>\n",
       "      <td>...</td>\n",
       "      <td>...</td>\n",
       "      <td>...</td>\n",
       "      <td>...</td>\n",
       "      <td>...</td>\n",
       "      <td>...</td>\n",
       "      <td>...</td>\n",
       "      <td>...</td>\n",
       "      <td>...</td>\n",
       "      <td>...</td>\n",
       "      <td>...</td>\n",
       "      <td>...</td>\n",
       "      <td>...</td>\n",
       "      <td>...</td>\n",
       "    </tr>\n",
       "    <tr>\n",
       "      <th>1123</th>\n",
       "      <td>41</td>\n",
       "      <td>169</td>\n",
       "      <td>151</td>\n",
       "      <td>0</td>\n",
       "      <td>12</td>\n",
       "      <td>1</td>\n",
       "      <td>0</td>\n",
       "      <td>0</td>\n",
       "      <td>0</td>\n",
       "      <td>0</td>\n",
       "      <td>...</td>\n",
       "      <td>0</td>\n",
       "      <td>0</td>\n",
       "      <td>0</td>\n",
       "      <td>0</td>\n",
       "      <td>0</td>\n",
       "      <td>0</td>\n",
       "      <td>0</td>\n",
       "      <td>0</td>\n",
       "      <td>0</td>\n",
       "      <td>0</td>\n",
       "    </tr>\n",
       "    <tr>\n",
       "      <th>1124</th>\n",
       "      <td>218</td>\n",
       "      <td>332</td>\n",
       "      <td>245</td>\n",
       "      <td>0</td>\n",
       "      <td>31</td>\n",
       "      <td>1</td>\n",
       "      <td>0</td>\n",
       "      <td>0</td>\n",
       "      <td>0</td>\n",
       "      <td>0</td>\n",
       "      <td>...</td>\n",
       "      <td>0</td>\n",
       "      <td>0</td>\n",
       "      <td>0</td>\n",
       "      <td>0</td>\n",
       "      <td>0</td>\n",
       "      <td>0</td>\n",
       "      <td>0</td>\n",
       "      <td>0</td>\n",
       "      <td>0</td>\n",
       "      <td>0</td>\n",
       "    </tr>\n",
       "    <tr>\n",
       "      <th>1125</th>\n",
       "      <td>17</td>\n",
       "      <td>530</td>\n",
       "      <td>300</td>\n",
       "      <td>0</td>\n",
       "      <td>8</td>\n",
       "      <td>1</td>\n",
       "      <td>0</td>\n",
       "      <td>0</td>\n",
       "      <td>0</td>\n",
       "      <td>0</td>\n",
       "      <td>...</td>\n",
       "      <td>0</td>\n",
       "      <td>0</td>\n",
       "      <td>0</td>\n",
       "      <td>0</td>\n",
       "      <td>0</td>\n",
       "      <td>0</td>\n",
       "      <td>0</td>\n",
       "      <td>0</td>\n",
       "      <td>0</td>\n",
       "      <td>0</td>\n",
       "    </tr>\n",
       "    <tr>\n",
       "      <th>1126</th>\n",
       "      <td>2</td>\n",
       "      <td>247</td>\n",
       "      <td>202</td>\n",
       "      <td>0</td>\n",
       "      <td>1</td>\n",
       "      <td>1</td>\n",
       "      <td>0</td>\n",
       "      <td>0</td>\n",
       "      <td>0</td>\n",
       "      <td>0</td>\n",
       "      <td>...</td>\n",
       "      <td>0</td>\n",
       "      <td>0</td>\n",
       "      <td>0</td>\n",
       "      <td>0</td>\n",
       "      <td>0</td>\n",
       "      <td>0</td>\n",
       "      <td>0</td>\n",
       "      <td>0</td>\n",
       "      <td>0</td>\n",
       "      <td>0</td>\n",
       "    </tr>\n",
       "    <tr>\n",
       "      <th>1127</th>\n",
       "      <td>47</td>\n",
       "      <td>267</td>\n",
       "      <td>234</td>\n",
       "      <td>0</td>\n",
       "      <td>7</td>\n",
       "      <td>1</td>\n",
       "      <td>0</td>\n",
       "      <td>0</td>\n",
       "      <td>0</td>\n",
       "      <td>0</td>\n",
       "      <td>...</td>\n",
       "      <td>0</td>\n",
       "      <td>0</td>\n",
       "      <td>0</td>\n",
       "      <td>0</td>\n",
       "      <td>0</td>\n",
       "      <td>0</td>\n",
       "      <td>0</td>\n",
       "      <td>0</td>\n",
       "      <td>0</td>\n",
       "      <td>0</td>\n",
       "    </tr>\n",
       "  </tbody>\n",
       "</table>\n",
       "<p>7543 rows × 953 columns</p>\n",
       "</div>"
      ],
      "text/plain": [
       "      statuses_count  followers_count  friends_count  favourites_count  \\\n",
       "0               1299               22             40                 1   \n",
       "1              18665            12561           3442             16358   \n",
       "2              22987              600            755                14   \n",
       "3               7975              398            350                11   \n",
       "4              20218              413            405               162   \n",
       "...              ...              ...            ...               ...   \n",
       "1123              41              169            151                 0   \n",
       "1124             218              332            245                 0   \n",
       "1125              17              530            300                 0   \n",
       "1126               2              247            202                 0   \n",
       "1127              47              267            234                 0   \n",
       "\n",
       "      listed_count  lang_en  lang_en-gb  lang_it  lang_ja  lang_nl  ...  \\\n",
       "0                0        0           0        1        0        0  ...   \n",
       "1              110        0           0        1        0        0  ...   \n",
       "2                6        0           0        1        0        0  ...   \n",
       "3                2        1           0        0        0        0  ...   \n",
       "4                8        0           0        1        0        0  ...   \n",
       "...            ...      ...         ...      ...      ...      ...  ...   \n",
       "1123            12        1           0        0        0        0  ...   \n",
       "1124            31        1           0        0        0        0  ...   \n",
       "1125             8        1           0        0        0        0  ...   \n",
       "1126             1        1           0        0        0        0  ...   \n",
       "1127             7        1           0        0        0        0  ...   \n",
       "\n",
       "      utc_offset_-14400.0  utc_offset_-7200.0  utc_offset_0.0  \\\n",
       "0                       0                   0               0   \n",
       "1                       0                   1               0   \n",
       "2                       0                   0               0   \n",
       "3                       0                   0               0   \n",
       "4                       0                   0               0   \n",
       "...                   ...                 ...             ...   \n",
       "1123                    0                   0               0   \n",
       "1124                    0                   0               0   \n",
       "1125                    0                   0               0   \n",
       "1126                    0                   0               0   \n",
       "1127                    0                   0               0   \n",
       "\n",
       "      utc_offset_3600.0  utc_offset_7200.0  utc_offset_10800.0  \\\n",
       "0                     0                  1                   0   \n",
       "1                     0                  0                   0   \n",
       "2                     0                  1                   0   \n",
       "3                     0                  0                   0   \n",
       "4                     0                  1                   0   \n",
       "...                 ...                ...                 ...   \n",
       "1123                  0                  0                   0   \n",
       "1124                  0                  0                   0   \n",
       "1125                  0                  0                   0   \n",
       "1126                  0                  0                   0   \n",
       "1127                  0                  0                   0   \n",
       "\n",
       "      utc_offset_14400.0  utc_offset_21600.0  utc_offset_25200.0  \\\n",
       "0                      0                   0                   0   \n",
       "1                      0                   0                   0   \n",
       "2                      0                   0                   0   \n",
       "3                      0                   0                   0   \n",
       "4                      0                   0                   0   \n",
       "...                  ...                 ...                 ...   \n",
       "1123                   0                   0                   0   \n",
       "1124                   0                   0                   0   \n",
       "1125                   0                   0                   0   \n",
       "1126                   0                   0                   0   \n",
       "1127                   0                   0                   0   \n",
       "\n",
       "      utc_offset_32400.0  \n",
       "0                      0  \n",
       "1                      0  \n",
       "2                      0  \n",
       "3                      0  \n",
       "4                      0  \n",
       "...                  ...  \n",
       "1123                   0  \n",
       "1124                   0  \n",
       "1125                   0  \n",
       "1126                   0  \n",
       "1127                   0  \n",
       "\n",
       "[7543 rows x 953 columns]"
      ]
     },
     "execution_count": 31,
     "metadata": {},
     "output_type": "execute_result"
    }
   ],
   "source": [
    "cresci2017_one_hot"
   ]
  },
  {
   "cell_type": "markdown",
   "metadata": {},
   "source": [
    "### fake followers"
   ]
  },
  {
   "cell_type": "markdown",
   "metadata": {},
   "source": [
    "### self-declared"
   ]
  },
  {
   "cell_type": "markdown",
   "metadata": {},
   "source": [
    "### political bots"
   ]
  },
  {
   "cell_type": "markdown",
   "metadata": {},
   "source": [
    "### other bots"
   ]
  },
  {
   "cell_type": "markdown",
   "metadata": {
    "heading_collapsed": true
   },
   "source": [
    "## EMD-2017: \"Twitter fake account detection\"\n",
    "\n",
    "All accounts are fake. "
   ]
  },
  {
   "cell_type": "code",
   "execution_count": 41,
   "metadata": {
    "ExecuteTime": {
     "end_time": "2022-05-24T12:35:01.322695Z",
     "start_time": "2022-05-24T12:35:01.307355Z"
    },
    "hidden": true
   },
   "outputs": [],
   "source": [
    "# Load data\n",
    "data = arff.loadarff('data/EMD-2017/Twitter_dataset.arff')\n",
    "emd = pd.DataFrame(data[0])\n",
    "\n",
    "for col in emd:\n",
    "    if (type(emd[col][0]) == type(b'str')):\n",
    "        emd[col] = emd[col].apply(bool)\n",
    "\n",
    "emd.head()\n",
    "\n",
    "emd_labels = emd['is_fake'].apply(lambda x: 1 if x else 0)"
   ]
  },
  {
   "cell_type": "code",
   "execution_count": 38,
   "metadata": {
    "ExecuteTime": {
     "end_time": "2022-05-24T12:33:54.595843Z",
     "start_time": "2022-05-24T12:33:54.573813Z"
    },
    "hidden": true
   },
   "outputs": [
    {
     "name": "stdout",
     "output_type": "stream",
     "text": [
      "|--- class: 0\n",
      "\n",
      "In-sample accuracy: 1.0\n",
      "In-sample precision score: 1.0\n",
      "In-sample recall score: 1.0\n",
      "In-sample F1 score: 1.0\n"
     ]
    },
    {
     "data": {
      "text/plain": [
       "(DecisionTreeClassifier(max_depth=1), 1.0, 1.0, 1.0, 1.0)"
      ]
     },
     "execution_count": 38,
     "metadata": {},
     "output_type": "execute_result"
    }
   ],
   "source": [
    "# Preprocess\n",
    "emd_one_hot = preprocess(emd, ['is_fake'], ['protected', 'profile_use_background_image', 'verified', 'contributors_enabled', 'default_profile', 'default_profile_image', 'is_translator'])\n",
    "\n",
    "# Fit and score decision tree\n",
    "fit_and_score(emd_one_hot, emd_labels, depth=1)"
   ]
  },
  {
   "cell_type": "markdown",
   "metadata": {
    "heading_collapsed": true
   },
   "source": [
    "# Text-based classification"
   ]
  },
  {
   "cell_type": "markdown",
   "metadata": {
    "hidden": true
   },
   "source": [
    "## PAN19"
   ]
  },
  {
   "cell_type": "code",
   "execution_count": 99,
   "metadata": {
    "ExecuteTime": {
     "end_time": "2022-05-25T13:36:12.824810Z",
     "start_time": "2022-05-25T13:36:07.295376Z"
    },
    "hidden": true
   },
   "outputs": [],
   "source": [
    "def get_tweets_xml(path):\n",
    "    with open(path) as xmlfile:\n",
    "        tree = ET.parse(xmlfile)\n",
    "        tweets = (document.text for document in tree.getroot()[0])\n",
    "        tweets_joined = \" \".join(tweets)\n",
    "        return tweets_joined\n",
    "    \n",
    "def get_labels(path):\n",
    "    d = dict()\n",
    "    with open(path) as file:\n",
    "        for line in file:\n",
    "            labels = line.split(\":::\")\n",
    "            d[labels[0]] = 1 if labels[1] == 'bot' else 0\n",
    "    return pd.DataFrame.from_dict(d, orient='index', columns=['label'])\n",
    "\n",
    "def get_tweets_pan19(index):\n",
    "    d = {ind : get_tweets_xml(PROJ_PATH + f\"/data/pan19/pan19-author-profiling-training-2019-02-18/en/{ind}.xml\") for ind in index}\n",
    "    return pd.DataFrame.from_dict(d, orient='index', columns=['tweets'])\n",
    "        \n",
    "# Get dataframe of labels and tweets\n",
    "pan19_labels = get_labels(PROJ_PATH + \"/data/pan19/pan19-author-profiling-training-2019-02-18/en/truth.txt\")\n",
    "pan19_tweets = get_tweets_pan19(pan19_labels.index)\n",
    "# Get count vectorizer df\n",
    "pan19_cv = CountVectorizer(stop_words='english') \n",
    "pan19_cv_matrix = pan19_cv.fit_transform(pan19_tweets['tweets']) \n",
    "pan19_cv_df = pd.DataFrame(pan19_cv_matrix.toarray(), index=pan19_tweets.index, columns=pan19_cv.get_feature_names())"
   ]
  },
  {
   "cell_type": "code",
   "execution_count": 100,
   "metadata": {},
   "outputs": [
    {
     "ename": "KeyError",
     "evalue": "\"['tweets', 'label'] not found in axis\"",
     "output_type": "error",
     "traceback": [
      "\u001b[0;31m---------------------------------------------------------------------------\u001b[0m",
      "\u001b[0;31mKeyError\u001b[0m                                  Traceback (most recent call last)",
      "\u001b[0;32m<ipython-input-100-b9f6f241e2b7>\u001b[0m in \u001b[0;36m<module>\u001b[0;34m\u001b[0m\n\u001b[0;32m----> 1\u001b[0;31m \u001b[0mpan19_scores\u001b[0m \u001b[0;34m=\u001b[0m \u001b[0;34m[\u001b[0m\u001b[0mkfold_cv\u001b[0m\u001b[0;34m(\u001b[0m\u001b[0mpan19_cv_df\u001b[0m\u001b[0;34m.\u001b[0m\u001b[0mloc\u001b[0m\u001b[0;34m[\u001b[0m\u001b[0mpan19_labels\u001b[0m\u001b[0;34m.\u001b[0m\u001b[0mindex\u001b[0m\u001b[0;34m]\u001b[0m\u001b[0;34m.\u001b[0m\u001b[0mdrop\u001b[0m\u001b[0;34m(\u001b[0m\u001b[0;34m[\u001b[0m\u001b[0;34m'tweets'\u001b[0m\u001b[0;34m,\u001b[0m \u001b[0;34m'label'\u001b[0m\u001b[0;34m]\u001b[0m\u001b[0;34m)\u001b[0m\u001b[0;34m,\u001b[0m \u001b[0mpan19_labels\u001b[0m\u001b[0;34m,\u001b[0m \u001b[0mdepth\u001b[0m\u001b[0;34m=\u001b[0m\u001b[0mi\u001b[0m\u001b[0;34m)\u001b[0m \u001b[0;32mfor\u001b[0m \u001b[0mi\u001b[0m \u001b[0;32min\u001b[0m \u001b[0mrange\u001b[0m\u001b[0;34m(\u001b[0m\u001b[0;36m1\u001b[0m\u001b[0;34m,\u001b[0m\u001b[0;36m6\u001b[0m\u001b[0;34m)\u001b[0m\u001b[0;34m]\u001b[0m\u001b[0;34m\u001b[0m\u001b[0;34m\u001b[0m\u001b[0m\n\u001b[0m",
      "\u001b[0;32m<ipython-input-100-b9f6f241e2b7>\u001b[0m in \u001b[0;36m<listcomp>\u001b[0;34m(.0)\u001b[0m\n\u001b[0;32m----> 1\u001b[0;31m \u001b[0mpan19_scores\u001b[0m \u001b[0;34m=\u001b[0m \u001b[0;34m[\u001b[0m\u001b[0mkfold_cv\u001b[0m\u001b[0;34m(\u001b[0m\u001b[0mpan19_cv_df\u001b[0m\u001b[0;34m.\u001b[0m\u001b[0mloc\u001b[0m\u001b[0;34m[\u001b[0m\u001b[0mpan19_labels\u001b[0m\u001b[0;34m.\u001b[0m\u001b[0mindex\u001b[0m\u001b[0;34m]\u001b[0m\u001b[0;34m.\u001b[0m\u001b[0mdrop\u001b[0m\u001b[0;34m(\u001b[0m\u001b[0;34m[\u001b[0m\u001b[0;34m'tweets'\u001b[0m\u001b[0;34m,\u001b[0m \u001b[0;34m'label'\u001b[0m\u001b[0;34m]\u001b[0m\u001b[0;34m)\u001b[0m\u001b[0;34m,\u001b[0m \u001b[0mpan19_labels\u001b[0m\u001b[0;34m,\u001b[0m \u001b[0mdepth\u001b[0m\u001b[0;34m=\u001b[0m\u001b[0mi\u001b[0m\u001b[0;34m)\u001b[0m \u001b[0;32mfor\u001b[0m \u001b[0mi\u001b[0m \u001b[0;32min\u001b[0m \u001b[0mrange\u001b[0m\u001b[0;34m(\u001b[0m\u001b[0;36m1\u001b[0m\u001b[0;34m,\u001b[0m\u001b[0;36m6\u001b[0m\u001b[0;34m)\u001b[0m\u001b[0;34m]\u001b[0m\u001b[0;34m\u001b[0m\u001b[0;34m\u001b[0m\u001b[0m\n\u001b[0m",
      "\u001b[0;32m~/.local/lib/python3.8/site-packages/pandas/util/_decorators.py\u001b[0m in \u001b[0;36mwrapper\u001b[0;34m(*args, **kwargs)\u001b[0m\n\u001b[1;32m    309\u001b[0m                     \u001b[0mstacklevel\u001b[0m\u001b[0;34m=\u001b[0m\u001b[0mstacklevel\u001b[0m\u001b[0;34m,\u001b[0m\u001b[0;34m\u001b[0m\u001b[0;34m\u001b[0m\u001b[0m\n\u001b[1;32m    310\u001b[0m                 )\n\u001b[0;32m--> 311\u001b[0;31m             \u001b[0;32mreturn\u001b[0m \u001b[0mfunc\u001b[0m\u001b[0;34m(\u001b[0m\u001b[0;34m*\u001b[0m\u001b[0margs\u001b[0m\u001b[0;34m,\u001b[0m \u001b[0;34m**\u001b[0m\u001b[0mkwargs\u001b[0m\u001b[0;34m)\u001b[0m\u001b[0;34m\u001b[0m\u001b[0;34m\u001b[0m\u001b[0m\n\u001b[0m\u001b[1;32m    312\u001b[0m \u001b[0;34m\u001b[0m\u001b[0m\n\u001b[1;32m    313\u001b[0m         \u001b[0;32mreturn\u001b[0m \u001b[0mwrapper\u001b[0m\u001b[0;34m\u001b[0m\u001b[0;34m\u001b[0m\u001b[0m\n",
      "\u001b[0;32m~/.local/lib/python3.8/site-packages/pandas/core/frame.py\u001b[0m in \u001b[0;36mdrop\u001b[0;34m(self, labels, axis, index, columns, level, inplace, errors)\u001b[0m\n\u001b[1;32m   4954\u001b[0m                 \u001b[0mweight\u001b[0m  \u001b[0;36m1.0\u001b[0m     \u001b[0;36m0.8\u001b[0m\u001b[0;34m\u001b[0m\u001b[0;34m\u001b[0m\u001b[0m\n\u001b[1;32m   4955\u001b[0m         \"\"\"\n\u001b[0;32m-> 4956\u001b[0;31m         return super().drop(\n\u001b[0m\u001b[1;32m   4957\u001b[0m             \u001b[0mlabels\u001b[0m\u001b[0;34m=\u001b[0m\u001b[0mlabels\u001b[0m\u001b[0;34m,\u001b[0m\u001b[0;34m\u001b[0m\u001b[0;34m\u001b[0m\u001b[0m\n\u001b[1;32m   4958\u001b[0m             \u001b[0maxis\u001b[0m\u001b[0;34m=\u001b[0m\u001b[0maxis\u001b[0m\u001b[0;34m,\u001b[0m\u001b[0;34m\u001b[0m\u001b[0;34m\u001b[0m\u001b[0m\n",
      "\u001b[0;32m~/.local/lib/python3.8/site-packages/pandas/core/generic.py\u001b[0m in \u001b[0;36mdrop\u001b[0;34m(self, labels, axis, index, columns, level, inplace, errors)\u001b[0m\n\u001b[1;32m   4277\u001b[0m         \u001b[0;32mfor\u001b[0m \u001b[0maxis\u001b[0m\u001b[0;34m,\u001b[0m \u001b[0mlabels\u001b[0m \u001b[0;32min\u001b[0m \u001b[0maxes\u001b[0m\u001b[0;34m.\u001b[0m\u001b[0mitems\u001b[0m\u001b[0;34m(\u001b[0m\u001b[0;34m)\u001b[0m\u001b[0;34m:\u001b[0m\u001b[0;34m\u001b[0m\u001b[0;34m\u001b[0m\u001b[0m\n\u001b[1;32m   4278\u001b[0m             \u001b[0;32mif\u001b[0m \u001b[0mlabels\u001b[0m \u001b[0;32mis\u001b[0m \u001b[0;32mnot\u001b[0m \u001b[0;32mNone\u001b[0m\u001b[0;34m:\u001b[0m\u001b[0;34m\u001b[0m\u001b[0;34m\u001b[0m\u001b[0m\n\u001b[0;32m-> 4279\u001b[0;31m                 \u001b[0mobj\u001b[0m \u001b[0;34m=\u001b[0m \u001b[0mobj\u001b[0m\u001b[0;34m.\u001b[0m\u001b[0m_drop_axis\u001b[0m\u001b[0;34m(\u001b[0m\u001b[0mlabels\u001b[0m\u001b[0;34m,\u001b[0m \u001b[0maxis\u001b[0m\u001b[0;34m,\u001b[0m \u001b[0mlevel\u001b[0m\u001b[0;34m=\u001b[0m\u001b[0mlevel\u001b[0m\u001b[0;34m,\u001b[0m \u001b[0merrors\u001b[0m\u001b[0;34m=\u001b[0m\u001b[0merrors\u001b[0m\u001b[0;34m)\u001b[0m\u001b[0;34m\u001b[0m\u001b[0;34m\u001b[0m\u001b[0m\n\u001b[0m\u001b[1;32m   4280\u001b[0m \u001b[0;34m\u001b[0m\u001b[0m\n\u001b[1;32m   4281\u001b[0m         \u001b[0;32mif\u001b[0m \u001b[0minplace\u001b[0m\u001b[0;34m:\u001b[0m\u001b[0;34m\u001b[0m\u001b[0;34m\u001b[0m\u001b[0m\n",
      "\u001b[0;32m~/.local/lib/python3.8/site-packages/pandas/core/generic.py\u001b[0m in \u001b[0;36m_drop_axis\u001b[0;34m(self, labels, axis, level, errors, consolidate, only_slice)\u001b[0m\n\u001b[1;32m   4321\u001b[0m                 \u001b[0mnew_axis\u001b[0m \u001b[0;34m=\u001b[0m \u001b[0maxis\u001b[0m\u001b[0;34m.\u001b[0m\u001b[0mdrop\u001b[0m\u001b[0;34m(\u001b[0m\u001b[0mlabels\u001b[0m\u001b[0;34m,\u001b[0m \u001b[0mlevel\u001b[0m\u001b[0;34m=\u001b[0m\u001b[0mlevel\u001b[0m\u001b[0;34m,\u001b[0m \u001b[0merrors\u001b[0m\u001b[0;34m=\u001b[0m\u001b[0merrors\u001b[0m\u001b[0;34m)\u001b[0m\u001b[0;34m\u001b[0m\u001b[0;34m\u001b[0m\u001b[0m\n\u001b[1;32m   4322\u001b[0m             \u001b[0;32melse\u001b[0m\u001b[0;34m:\u001b[0m\u001b[0;34m\u001b[0m\u001b[0;34m\u001b[0m\u001b[0m\n\u001b[0;32m-> 4323\u001b[0;31m                 \u001b[0mnew_axis\u001b[0m \u001b[0;34m=\u001b[0m \u001b[0maxis\u001b[0m\u001b[0;34m.\u001b[0m\u001b[0mdrop\u001b[0m\u001b[0;34m(\u001b[0m\u001b[0mlabels\u001b[0m\u001b[0;34m,\u001b[0m \u001b[0merrors\u001b[0m\u001b[0;34m=\u001b[0m\u001b[0merrors\u001b[0m\u001b[0;34m)\u001b[0m\u001b[0;34m\u001b[0m\u001b[0;34m\u001b[0m\u001b[0m\n\u001b[0m\u001b[1;32m   4324\u001b[0m             \u001b[0mindexer\u001b[0m \u001b[0;34m=\u001b[0m \u001b[0maxis\u001b[0m\u001b[0;34m.\u001b[0m\u001b[0mget_indexer\u001b[0m\u001b[0;34m(\u001b[0m\u001b[0mnew_axis\u001b[0m\u001b[0;34m)\u001b[0m\u001b[0;34m\u001b[0m\u001b[0;34m\u001b[0m\u001b[0m\n\u001b[1;32m   4325\u001b[0m \u001b[0;34m\u001b[0m\u001b[0m\n",
      "\u001b[0;32m~/.local/lib/python3.8/site-packages/pandas/core/indexes/base.py\u001b[0m in \u001b[0;36mdrop\u001b[0;34m(self, labels, errors)\u001b[0m\n\u001b[1;32m   6642\u001b[0m         \u001b[0;32mif\u001b[0m \u001b[0mmask\u001b[0m\u001b[0;34m.\u001b[0m\u001b[0many\u001b[0m\u001b[0;34m(\u001b[0m\u001b[0;34m)\u001b[0m\u001b[0;34m:\u001b[0m\u001b[0;34m\u001b[0m\u001b[0;34m\u001b[0m\u001b[0m\n\u001b[1;32m   6643\u001b[0m             \u001b[0;32mif\u001b[0m \u001b[0merrors\u001b[0m \u001b[0;34m!=\u001b[0m \u001b[0;34m\"ignore\"\u001b[0m\u001b[0;34m:\u001b[0m\u001b[0;34m\u001b[0m\u001b[0;34m\u001b[0m\u001b[0m\n\u001b[0;32m-> 6644\u001b[0;31m                 \u001b[0;32mraise\u001b[0m \u001b[0mKeyError\u001b[0m\u001b[0;34m(\u001b[0m\u001b[0;34mf\"{list(labels[mask])} not found in axis\"\u001b[0m\u001b[0;34m)\u001b[0m\u001b[0;34m\u001b[0m\u001b[0;34m\u001b[0m\u001b[0m\n\u001b[0m\u001b[1;32m   6645\u001b[0m             \u001b[0mindexer\u001b[0m \u001b[0;34m=\u001b[0m \u001b[0mindexer\u001b[0m\u001b[0;34m[\u001b[0m\u001b[0;34m~\u001b[0m\u001b[0mmask\u001b[0m\u001b[0;34m]\u001b[0m\u001b[0;34m\u001b[0m\u001b[0;34m\u001b[0m\u001b[0m\n\u001b[1;32m   6646\u001b[0m         \u001b[0;32mreturn\u001b[0m \u001b[0mself\u001b[0m\u001b[0;34m.\u001b[0m\u001b[0mdelete\u001b[0m\u001b[0;34m(\u001b[0m\u001b[0mindexer\u001b[0m\u001b[0;34m)\u001b[0m\u001b[0;34m\u001b[0m\u001b[0;34m\u001b[0m\u001b[0m\n",
      "\u001b[0;31mKeyError\u001b[0m: \"['tweets', 'label'] not found in axis\""
     ]
    }
   ],
   "source": [
    "pan19_scores = [kfold_cv(pan19_cv_df.loc[pan19_labels.index].drop(['tweets', 'label']), pan19_labels, depth=i) for i in range(1,6)]"
   ]
  },
  {
   "cell_type": "markdown",
   "metadata": {},
   "source": [
    "## cresci-2017"
   ]
  },
  {
   "cell_type": "code",
   "execution_count": 4,
   "metadata": {},
   "outputs": [
    {
     "name": "stderr",
     "output_type": "stream",
     "text": [
      "<ipython-input-4-9fbcf55adced>:13: DtypeWarning: Columns (8,11) have mixed types. Specify dtype option on import or set low_memory=False.\n",
      "  df = pd.read_csv(PROJ_PATH + f\"/data/cresci-2017/{name}.csv/tweets.csv\", encoding='latin-1')\n"
     ]
    },
    {
     "name": "stdout",
     "output_type": "stream",
     "text": [
      "fake_followers 3202\n"
     ]
    },
    {
     "name": "stderr",
     "output_type": "stream",
     "text": [
      "<ipython-input-4-9fbcf55adced>:13: DtypeWarning: Columns (0) have mixed types. Specify dtype option on import or set low_memory=False.\n",
      "  df = pd.read_csv(PROJ_PATH + f\"/data/cresci-2017/{name}.csv/tweets.csv\", encoding='latin-1')\n"
     ]
    },
    {
     "name": "stdout",
     "output_type": "stream",
     "text": [
      "genuine_accounts 1083\n"
     ]
    },
    {
     "name": "stderr",
     "output_type": "stream",
     "text": [
      "<ipython-input-4-9fbcf55adced>:13: DtypeWarning: Columns (10) have mixed types. Specify dtype option on import or set low_memory=False.\n",
      "  df = pd.read_csv(PROJ_PATH + f\"/data/cresci-2017/{name}.csv/tweets.csv\", encoding='latin-1')\n"
     ]
    },
    {
     "name": "stdout",
     "output_type": "stream",
     "text": [
      "social_spambots_1 991\n"
     ]
    },
    {
     "name": "stderr",
     "output_type": "stream",
     "text": [
      "<ipython-input-4-9fbcf55adced>:13: DtypeWarning: Columns (10) have mixed types. Specify dtype option on import or set low_memory=False.\n",
      "  df = pd.read_csv(PROJ_PATH + f\"/data/cresci-2017/{name}.csv/tweets.csv\", encoding='latin-1')\n"
     ]
    },
    {
     "name": "stdout",
     "output_type": "stream",
     "text": [
      "social_spambots_2 3457\n"
     ]
    },
    {
     "name": "stderr",
     "output_type": "stream",
     "text": [
      "<ipython-input-4-9fbcf55adced>:13: DtypeWarning: Columns (7,10) have mixed types. Specify dtype option on import or set low_memory=False.\n",
      "  df = pd.read_csv(PROJ_PATH + f\"/data/cresci-2017/{name}.csv/tweets.csv\", encoding='latin-1')\n"
     ]
    },
    {
     "name": "stdout",
     "output_type": "stream",
     "text": [
      "social_spambots_3 464\n",
      "traditional_spambots_1 1000\n"
     ]
    }
   ],
   "source": [
    "# Load in data\n",
    "folder_names = ['fake_followers', \n",
    " 'genuine_accounts', \n",
    " 'social_spambots_1', \n",
    " 'social_spambots_2', \n",
    " 'social_spambots_3', \n",
    " 'traditional_spambots_1']\n",
    "is_bot = [1, 0, 1, 1, 1, 1]\n",
    "tweets = []\n",
    "cresci2017_labels = []\n",
    "\n",
    "for name, ib in zip(folder_names, is_bot):\n",
    "    df = pd.read_csv(PROJ_PATH + f\"/data/cresci-2017/{name}.csv/tweets.csv\", encoding='latin-1')\n",
    "    df['text'] = df['text'].apply(lambda x: \"\" if isinstance(x, float) else x)\n",
    "    df_groups = df[['text', 'user_id']].groupby(['user_id'])\n",
    "    df_tweets = df_groups['text'].apply(lambda x: \" \".join(x))\n",
    "    tweets.append(df_tweets)\n",
    "    print(name, len(df_tweets))\n",
    "    cresci2017_labels.extend([ib]*len(df_tweets))\n",
    "    \n",
    "def format_time(dt):\n",
    "    try:\n",
    "        datetime.strptime(dt, \"%a %b %d %H:%M:%S %z %Y\").timestamp()\n",
    "    except:\n",
    "        print(dt)\n",
    "        \n",
    "cresci2017_tweets = pd.concat(tweets)"
   ]
  },
  {
   "cell_type": "code",
   "execution_count": 27,
   "metadata": {},
   "outputs": [
    {
     "name": "stderr",
     "output_type": "stream",
     "text": [
      "<ipython-input-27-d4030157cae8>:3: DtypeWarning: Columns (8,11) have mixed types. Specify dtype option on import or set low_memory=False.\n",
      "  df = pd.read_csv(PROJ_PATH + f\"/data/cresci-2017/{name}.csv/tweets.csv\", encoding='latin-1')\n"
     ]
    },
    {
     "name": "stdout",
     "output_type": "stream",
     "text": [
      "fake_followers 17\n"
     ]
    },
    {
     "name": "stderr",
     "output_type": "stream",
     "text": [
      "<ipython-input-27-d4030157cae8>:3: DtypeWarning: Columns (0) have mixed types. Specify dtype option on import or set low_memory=False.\n",
      "  df = pd.read_csv(PROJ_PATH + f\"/data/cresci-2017/{name}.csv/tweets.csv\", encoding='latin-1')\n"
     ]
    },
    {
     "name": "stdout",
     "output_type": "stream",
     "text": [
      "genuine_accounts 5081\n"
     ]
    },
    {
     "name": "stderr",
     "output_type": "stream",
     "text": [
      "<ipython-input-27-d4030157cae8>:3: DtypeWarning: Columns (10) have mixed types. Specify dtype option on import or set low_memory=False.\n",
      "  df = pd.read_csv(PROJ_PATH + f\"/data/cresci-2017/{name}.csv/tweets.csv\", encoding='latin-1')\n"
     ]
    },
    {
     "name": "stdout",
     "output_type": "stream",
     "text": [
      "social_spambots_1 2\n"
     ]
    },
    {
     "name": "stderr",
     "output_type": "stream",
     "text": [
      "<ipython-input-27-d4030157cae8>:3: DtypeWarning: Columns (10) have mixed types. Specify dtype option on import or set low_memory=False.\n",
      "  df = pd.read_csv(PROJ_PATH + f\"/data/cresci-2017/{name}.csv/tweets.csv\", encoding='latin-1')\n"
     ]
    },
    {
     "name": "stdout",
     "output_type": "stream",
     "text": [
      "social_spambots_2 9\n"
     ]
    },
    {
     "name": "stderr",
     "output_type": "stream",
     "text": [
      "<ipython-input-27-d4030157cae8>:3: DtypeWarning: Columns (7,10) have mixed types. Specify dtype option on import or set low_memory=False.\n",
      "  df = pd.read_csv(PROJ_PATH + f\"/data/cresci-2017/{name}.csv/tweets.csv\", encoding='latin-1')\n"
     ]
    },
    {
     "name": "stdout",
     "output_type": "stream",
     "text": [
      "social_spambots_3 6\n",
      "traditional_spambots_1 18\n"
     ]
    }
   ],
   "source": [
    "eqs = []\n",
    "for name, ib in zip(folder_names, is_bot):\n",
    "    df = pd.read_csv(PROJ_PATH + f\"/data/cresci-2017/{name}.csv/tweets.csv\", encoding='latin-1')\n",
    "    eq = df[[(isinstance(row, str)) and ('earthquake' in row) for row in df['text']]]\n",
    "    eqs.append(eq)\n",
    "    print(name, len(eq))\n",
    "    \n",
    "cresci2017 = pd.concat(eqs)"
   ]
  },
  {
   "cell_type": "code",
   "execution_count": 39,
   "metadata": {},
   "outputs": [
    {
     "data": {
      "text/plain": [
       "['Volcanes D. Light mag. 4.2 earthquake  - Crete, Greece on Sunday, 19 April 2015:  http://t.co/bpGRpKH9Qd',\n",
       " 'I felt no type of earthquake',\n",
       " \"RT @jonk: Bunch of us huddled in the middle of an intersection away from things we've seen fall. #Kathmandu #earthquake http://t.co/Homswcjâ\\x80¦\",\n",
       " 'Road buckle on Hwy 12, Napa, CA. #earthquake http://t.co/ogR5DXNPLL',\n",
       " 'RT @cctvnews: Pic:â\\x80\\x9dLoveâ\\x80\\x9d from above: victims of the 2013 Yaâ\\x80\\x98an earthquake give thanks to those who helped them rebuild. http://t.co/ZT1W0Glâ\\x80¦']"
      ]
     },
     "execution_count": 39,
     "metadata": {},
     "output_type": "execute_result"
    }
   ],
   "source": [
    "import random\n",
    "\n",
    "random.sample(list(cresci2017['text']), 5)"
   ]
  },
  {
   "cell_type": "code",
   "execution_count": 40,
   "metadata": {},
   "outputs": [],
   "source": [
    "# Get count vectorizer df\n",
    "cresci2017_cv = CountVectorizer(stop_words='english', min_df=5) \n",
    "cresci2017_cv_matrix = cresci2017_cv.fit_transform(cresci2017_tweets) "
   ]
  },
  {
   "cell_type": "code",
   "execution_count": 41,
   "metadata": {},
   "outputs": [],
   "source": [
    "cresci2017_cv_df = pd.DataFrame(cresci2017_cv_matrix.toarray(), index=cresci2017_tweets.index, columns=cresci2017_cv.get_feature_names())"
   ]
  },
  {
   "cell_type": "code",
   "execution_count": 46,
   "metadata": {},
   "outputs": [
    {
     "name": "stdout",
     "output_type": "stream",
     "text": [
      "|--- earthquake <= 0.50\n",
      "|   |--- https <= 30.50\n",
      "|   |   |--- weights: [27.00, 9054.00] class: 1\n",
      "|   |--- https >  30.50\n",
      "|   |   |--- weights: [61.00, 16.00] class: 0\n",
      "|--- earthquake >  0.50\n",
      "|   |--- https <= 0.50\n",
      "|   |   |--- weights: [39.00, 34.00] class: 0\n",
      "|   |--- https >  0.50\n",
      "|   |   |--- weights: [956.00, 10.00] class: 0\n",
      "\n",
      "In-sample accuracy: 0.9914680788467196\n",
      "In-sample precision score: 0.9970267591674926\n",
      "In-sample recall score: 0.9934167215273206\n",
      "In-sample F1 score: 0.9952184666117065\n"
     ]
    },
    {
     "data": {
      "text/plain": [
       "(DecisionTreeClassifier(max_depth=2),\n",
       " 0.9914680788467196,\n",
       " 0.9970267591674926,\n",
       " 0.9934167215273206,\n",
       " 0.9952184666117065)"
      ]
     },
     "execution_count": 46,
     "metadata": {},
     "output_type": "execute_result"
    }
   ],
   "source": [
    "fit_and_score(cresci2017_cv_df, cresci2017_labels, depth=2)"
   ]
  },
  {
   "cell_type": "code",
   "execution_count": 43,
   "metadata": {},
   "outputs": [
    {
     "data": {
      "image/png": "[encoded data removed]",
      "text/plain": [
       "<Figure size 504x288 with 1 Axes>"
      ]
     },
     "metadata": {
      "needs_background": "light"
     },
     "output_type": "display_data"
    }
   ],
   "source": [
    "plot_metrics(cresci2017_cv_df, cresci2017_labels)"
   ]
  },
  {
   "cell_type": "markdown",
   "metadata": {},
   "source": [
    "# Plotting performance of network stats on single plot"
   ]
  },
  {
   "cell_type": "code",
   "execution_count": 102,
   "metadata": {},
   "outputs": [],
   "source": [
    "scores_dict = {\n",
    "    \"twibot\": {\n",
    "        \"a\": 0.8664, #accuracy\n",
    "        \"p\": 0.8256, #precision\n",
    "        \"r\": 0.8657, #recall\n",
    "        'scores': twibot_scores\n",
    "    },\n",
    "    \"botometer-feedback-2019\": {\n",
    "        'a': 0.81,\n",
    "        \"p\": 0.84,\n",
    "        \"r\": 0.7,\n",
    "        'num_bots': 139,\n",
    "        'num_humans': 380,\n",
    "        'scores': botometer_feedback_scores\n",
    "    },\n",
    "#     \"rtbust\": {\n",
    "#         \"a\": 0.8755,\n",
    "#         'p': 0.9304,\n",
    "#         'r': 0.9512,\n",
    "#         'scores': rtbust_scores\n",
    "#     },\n",
    "    \"midterm-2018\": {\n",
    "        \"a\": 0.987,\n",
    "        'p': 0.989,\n",
    "        'r': 0.995,\n",
    "        'scores': midterm2018_scores\n",
    "    },\n",
    "    \"gilani\": {\n",
    "        \"a\": 0.8644,\n",
    "        'p': 0.854,\n",
    "        'r': 0.822,\n",
    "        'scores': gilani_processed_scores\n",
    "    },\n",
    "    \"cresci-2017\": {\n",
    "        'a': 0.9871,\n",
    "        'p': 0.98,\n",
    "        'r': 0.98,\n",
    "        'scores': cresci2017_scores\n",
    "    },\n",
    "    \"cresci-2015\": {\n",
    "        \"a\": 0.991,\n",
    "        'p': 0.994,\n",
    "        'r': 0.991,\n",
    "        'scores': cresci2015_scores\n",
    "    },\n",
    "    \"caverlee-2011\": {\n",
    "        'a': 0.9826,\n",
    "        'p': 0.89,\n",
    "        'r': 0.87,\n",
    "        'num_bots': 19276,\n",
    "        'num_humans': 22223,\n",
    "        'scores': caverlee2011_scores\n",
    "    },\n",
    "}\n",
    "metric_names = ['accuracy', 'precision', 'recall', 'F1']"
   ]
  },
  {
   "cell_type": "code",
   "execution_count": 103,
   "metadata": {},
   "outputs": [
    {
     "data": {
      "image/png": "[encoded data removed]",
      "text/plain": [
       "<Figure size 360x1152 with 4 Axes>"
      ]
     },
     "metadata": {
      "needs_background": "light"
     },
     "output_type": "display_data"
    }
   ],
   "source": [
    "fig, axes = plt.subplots(4,1, figsize=(5, 16))\n",
    "\n",
    "for i, metric_name in enumerate(metric_names):\n",
    "    for name, d in scores_dict.items():\n",
    "#         if (name in ['gilani', 'botometer-feedback-2019', 'rtbust']):\n",
    "#             continue\n",
    "        if i == 0:\n",
    "            if 'a' in d:\n",
    "                soa_score = d['a']\n",
    "            else:\n",
    "                soa_score = calculate_accuracy(d['p'], d['r'], d['num_bots'], d['num_humans'])\n",
    "        if i == 1:\n",
    "            soa_score = d['p']\n",
    "        if i == 2:\n",
    "            soa_score = d['r']\n",
    "        if i == 3:\n",
    "            soa_score = 2 * (d['p'] * d['r']) / (d['p'] + d['r'])\n",
    "\n",
    "        metric_i = [(item[i] - soa_score)*100 for item in d['scores']]\n",
    "        axes[i].plot(range(1,6), metric_i, label=name, marker=\"o\")\n",
    "    axes[i].set_ylabel(metric_name)\n",
    "    axes[i].set_ylim((-25,10))\n",
    "    yticks = mtick.PercentFormatter(is_latex=True)\n",
    "    axes[i].yaxis.set_major_formatter(yticks)\n",
    "    axes[i].legend(loc='lower left')\n",
    "fig.text(0.5, 0.0, 'Model complexity (tree depth)', ha='center')\n",
    "fig.suptitle(\"Model performance of shallow decision trees relative to state-of-art as a function of tree depth\")\n",
    "fig.tight_layout()\n",
    "plt.show()"
   ]
  },
  {
   "cell_type": "code",
   "execution_count": 43,
   "metadata": {},
   "outputs": [],
   "source": [
    "for i, metric_name in enumerate(metric_names):\n",
    "    for name, d in scores_dict.items():\n",
    "        if i == 0:\n",
    "            if 'a' in d:\n",
    "                soa_score = d['a']\n",
    "            else:\n",
    "                continue\n",
    "        if i == 1:\n",
    "            soa_score = d['p']\n",
    "        if i == 2:\n",
    "            soa_score = d['r']\n",
    "        if i == 3:\n",
    "            d['f'] = 2 * (d['p'] * d['r']) / (d['p'] + d['r'])\n",
    "            soa_score = d['f']\n",
    "        metric_i = max([item[i] for item in d['scores']])\n",
    "        delta_i = metric_i - soa_score\n",
    "        d[\"sdt_\"+metric_name] = metric_i\n",
    "        d[\"sdt_delta_\"+metric_name] = delta_i"
   ]
  },
  {
   "cell_type": "code",
   "execution_count": 44,
   "metadata": {},
   "outputs": [],
   "source": [
    "score_df = pd.DataFrame(scores_dict).T"
   ]
  },
  {
   "cell_type": "code",
   "execution_count": 45,
   "metadata": {},
   "outputs": [],
   "source": [
    "score_df.to_csv(\"bot_detection_scores.csv\")"
   ]
  },
  {
   "cell_type": "code",
   "execution_count": 48,
   "metadata": {},
   "outputs": [
    {
     "data": {
      "text/plain": [
       "twibot                     0.009869\n",
       "botometer-feedback-2019   -0.208807\n",
       "midterm-2018               0.002122\n",
       "gilani                    -0.157468\n",
       "cresci-2017                0.008492\n",
       "cresci-2015               -0.006928\n",
       "caverlee-2011              0.056293\n",
       "Name: sdt_delta_F1, dtype: object"
      ]
     },
     "execution_count": 48,
     "metadata": {},
     "output_type": "execute_result"
    }
   ],
   "source": [
    "score_df['sdt_delta_F1']"
   ]
  },
  {
   "cell_type": "code",
   "execution_count": null,
   "metadata": {},
   "outputs": [],
   "source": []
  }
 ],
 "metadata": {
  "kernelspec": {
   "display_name": "Python 3",
   "language": "python",
   "name": "python3"
  },
  "language_info": {
   "codemirror_mode": {
    "name": "ipython",
    "version": 3
   },
   "file_extension": ".py",
   "mimetype": "text/x-python",
   "name": "python",
   "nbconvert_exporter": "python",
   "pygments_lexer": "ipython3",
   "version": "3.8.5"
  }
 },
 "nbformat": 4,
 "nbformat_minor": 5
}
