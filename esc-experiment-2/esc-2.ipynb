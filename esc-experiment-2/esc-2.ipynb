{
 "cells": [
  {
   "cell_type": "code",
   "execution_count": 1,
   "metadata": {},
   "outputs": [],
   "source": [
    "%matplotlib inline\n",
    "import matplotlib.pyplot as plt\n",
    "import numpy as np\n",
    "from sklearn.tree import DecisionTreeClassifier\n",
    "from sklearn.ensemble import RandomForestClassifier\n",
    "from sklearn.model_selection import train_test_split\n",
    "from sklearn.model_selection import cross_val_score"
   ]
  },
  {
   "cell_type": "code",
   "execution_count": 3,
   "metadata": {},
   "outputs": [],
   "source": [
    "import pandas as pd\n",
    "realDF = pd.read_csv('../data-processing/cresci-2017/genuine_accounts_processed.csv')\n",
    "ss1DF = pd.read_csv('../data-processing/cresci-2017/social_spambots_1_processed.csv')\n",
    "ss2DF = pd.read_csv('../data-processing/cresci-2017/social_spambots_2_processed.csv')\n",
    "ss3DF = pd.read_csv('../data-processing/cresci-2017/social_spambots_3_processed.csv')\n",
    "ffDF = pd.read_csv('../data-processing/cresci-2017/fake_followers_processed.csv')\n",
    "ts1DF = pd.read_csv('../data-processing/cresci-2017/traditional_spambots_1_processed.csv')\n",
    "coaDF = pd.read_csv('../data-processing/college-official-accounts/coa_processed.csv')\n"
   ]
  },
  {
   "cell_type": "code",
   "execution_count": 6,
   "metadata": {},
   "outputs": [],
   "source": [
    "# removing some entries from data\n",
    "del coaDF['url_youtube']\n",
    "del coaDF['favorite'], realDF['favorite'], ss1DF['favorite'], ss2DF['favorite'], ss3DF['favorite'], ffDF['favorite'], ts1DF['favorite']\n",
    "del coaDF['favorite_over_friend'], realDF['favorite_over_friend'], ss1DF['favorite_over_friend'], ss2DF['favorite_over_friend'], ss3DF['favorite_over_friend'], ffDF['favorite_over_friend'], ts1DF['favorite_over_friend']"
   ]
  },
  {
   "cell_type": "code",
   "execution_count": 7,
   "metadata": {},
   "outputs": [],
   "source": [
    "def data_split (df, split=0.7):\n",
    "    train_num = int(len(df.index)*split)\n",
    "    return df.iloc[:train_num,:], df.iloc[train_num+1:,:]\n",
    "\n",
    "realTrain, realTest = data_split(realDF)\n",
    "ss1Train, ss1Test = data_split(ss1DF)\n",
    "ss2Train, ss2Test = data_split(ss2DF)\n",
    "ss3Train, ss3Test = data_split(ss3DF)\n",
    "ts1Train, ts1Test = data_split(ts1DF)\n",
    "ffTrain, ffTest = data_split(ffDF)\n",
    "coaTrain, coaTest = data_split(coaDF)"
   ]
  },
  {
   "cell_type": "code",
   "execution_count": 11,
   "metadata": {},
   "outputs": [
    {
     "name": "stdout",
     "output_type": "stream",
     "text": [
      "(2499, 49) (2431, 49)\n"
     ]
    }
   ],
   "source": [
    "print(coaTrain.shape, realTrain.shape)"
   ]
  },
  {
   "cell_type": "code",
   "execution_count": 12,
   "metadata": {},
   "outputs": [],
   "source": [
    "def trainRF (reals, bots, n_estimators=100):\n",
    "\n",
    "    data = pd.concat(reals+bots).fillna(0).drop('Unnamed: 0', 1).to_numpy()\n",
    "    target = np.array([0] * sum(len(real.index) for real in reals) + [1] * sum(len(bot.index) for bot in bots))\n",
    "    rfc = RandomForestClassifier(n_estimators=n_estimators)\n",
    "    rfc = rfc.fit(data, target)\n",
    "    return rfc"
   ]
  },
  {
   "cell_type": "code",
   "execution_count": 13,
   "metadata": {},
   "outputs": [],
   "source": [
    "def testRF(reals, bots, RF):\n",
    "    data = pd.concat(reals+bots).fillna(0).drop('Unnamed: 0', 1).to_numpy()\n",
    "    target = np.array([0] * sum(len(real.index) for real in reals) + [1] * sum(len(bot.index) for bot in bots))\n",
    "    return RF.score(data, target)"
   ]
  },
  {
   "cell_type": "code",
   "execution_count": 14,
   "metadata": {},
   "outputs": [],
   "source": [
    "def testRF_ESC(reals, bots, RFs):\n",
    "    data = pd.concat(reals+bots).fillna(0).drop('Unnamed: 0', 1).to_numpy()\n",
    "    target = np.array([0] * sum(len(real.index) for real in reals) + [1] * sum(len(bot.index) for bot in bots))\n",
    "    totalAccConf = 0.0\n",
    "    totalAccNum = 0\n",
    "    for i in range(data.shape[0]):\n",
    "        botMax = max(float(RF.predict_proba([data[i]])[0][1]) for RF in RFs)\n",
    "        genuineMax = min(float(RF.predict_proba([data[i]])[0][1]) for RF in RFs)\n",
    "        if botMax >= 0.5:\n",
    "            totalAccConf += abs(botMax - float(target[i]))\n",
    "            if abs(botMax - float(target[i])) >= 0.5:\n",
    "                print(\"Error Pred 1, \", i, data[i], target[i], [RF.predict_proba([data[i]])[0] for RF in RFs], botMax)\n",
    "            else:\n",
    "                totalAccNum += 1\n",
    "        elif genuineMax <= 0.5:\n",
    "            totalAccConf += abs(float(target[i]) - genuineMax)\n",
    "            if abs(float(target[i]) - genuineMax) >= 0.5:\n",
    "                print(\"Error Pred 2, \", i, data[i], target[i], [RF.predict_proba([data[i]])[0] for RF in RFs], genuineMax)\n",
    "            else:\n",
    "                totalAccNum += 1\n",
    "    return float(totalAccNum)/data.shape[0], totalAccConf/data.shape[0]"
   ]
  },
  {
   "cell_type": "code",
   "execution_count": 15,
   "metadata": {},
   "outputs": [
    {
     "name": "stderr",
     "output_type": "stream",
     "text": [
      "/var/folders/qx/bly71f215mx_406j1_my1ghh0000gp/T/ipykernel_23104/2087584835.py:3: FutureWarning: In a future version of pandas all arguments of DataFrame.drop except for the argument 'labels' will be keyword-only.\n",
      "  data = pd.concat(reals+bots).fillna(0).drop('Unnamed: 0', 1).to_numpy()\n",
      "/var/folders/qx/bly71f215mx_406j1_my1ghh0000gp/T/ipykernel_23104/2087584835.py:3: FutureWarning: In a future version of pandas all arguments of DataFrame.drop except for the argument 'labels' will be keyword-only.\n",
      "  data = pd.concat(reals+bots).fillna(0).drop('Unnamed: 0', 1).to_numpy()\n",
      "/var/folders/qx/bly71f215mx_406j1_my1ghh0000gp/T/ipykernel_23104/2087584835.py:3: FutureWarning: In a future version of pandas all arguments of DataFrame.drop except for the argument 'labels' will be keyword-only.\n",
      "  data = pd.concat(reals+bots).fillna(0).drop('Unnamed: 0', 1).to_numpy()\n",
      "/var/folders/qx/bly71f215mx_406j1_my1ghh0000gp/T/ipykernel_23104/2087584835.py:3: FutureWarning: In a future version of pandas all arguments of DataFrame.drop except for the argument 'labels' will be keyword-only.\n",
      "  data = pd.concat(reals+bots).fillna(0).drop('Unnamed: 0', 1).to_numpy()\n",
      "/var/folders/qx/bly71f215mx_406j1_my1ghh0000gp/T/ipykernel_23104/2087584835.py:3: FutureWarning: In a future version of pandas all arguments of DataFrame.drop except for the argument 'labels' will be keyword-only.\n",
      "  data = pd.concat(reals+bots).fillna(0).drop('Unnamed: 0', 1).to_numpy()\n"
     ]
    }
   ],
   "source": [
    "RF = []\n",
    "RF.append(trainRF([realTrain], [ss1Train, ss2Train, ss3Train, ffTrain, ts1Train, coaTrain]))\n",
    "RF.append(trainRF([realTrain], [ss1Train, ss2Train, ss3Train]))\n",
    "RF.append(trainRF([realTrain], [ts1Train]))\n",
    "RF.append(trainRF([realTrain], [coaTrain]))\n",
    "RF.append(trainRF([realTrain], [ffTrain]))"
   ]
  },
  {
   "cell_type": "code",
   "execution_count": 17,
   "metadata": {},
   "outputs": [
    {
     "name": "stdout",
     "output_type": "stream",
     "text": [
      "0.9924026590693258\n"
     ]
    },
    {
     "name": "stderr",
     "output_type": "stream",
     "text": [
      "/var/folders/qx/bly71f215mx_406j1_my1ghh0000gp/T/ipykernel_23104/1317824033.py:2: FutureWarning: In a future version of pandas all arguments of DataFrame.drop except for the argument 'labels' will be keyword-only.\n",
      "  data = pd.concat(reals+bots).fillna(0).drop('Unnamed: 0', 1).to_numpy()\n"
     ]
    }
   ],
   "source": [
    "print(testRF([realTest], [ss1Test, ss2Test, ss3Test, ffTest, ts1Test, coaTrain], RF[0]))"
   ]
  },
  {
   "cell_type": "code",
   "execution_count": 18,
   "metadata": {},
   "outputs": [
    {
     "name": "stderr",
     "output_type": "stream",
     "text": [
      "/var/folders/qx/bly71f215mx_406j1_my1ghh0000gp/T/ipykernel_23104/1946100403.py:2: FutureWarning: In a future version of pandas all arguments of DataFrame.drop except for the argument 'labels' will be keyword-only.\n",
      "  data = pd.concat(reals+bots).fillna(0).drop('Unnamed: 0', 1).to_numpy()\n"
     ]
    },
    {
     "name": "stdout",
     "output_type": "stream",
     "text": [
      "Error Pred 1,  49 [  4.    4.   40.    0.    0.1 -36.    0.1   0.    0.    0.    0.    0.\n",
      "   1.    0.    0.    0.    0.    0.    0.    0.    0.    0.    0.    0.\n",
      "   0.    2.    1.    0.    0.4   0.    0.    0.    0.    0.    0.    0.\n",
      "   0.    0.    0.    0.    0.    0.    0.    0.    0.    0.    0.    0. ] 0 [array([0.5, 0.5]), array([0.99, 0.01]), array([0.86, 0.14]), array([0.94, 0.06]), array([0.63, 0.37])] 0.5\n",
      "Error Pred 1,  95 [ 5.20000000e+01  2.60000000e+01  6.20000000e+01  0.00000000e+00\n",
      "  4.19354839e-01 -3.60000000e+01  8.38709677e-01  0.00000000e+00\n",
      "  0.00000000e+00  0.00000000e+00  0.00000000e+00  0.00000000e+00\n",
      "  1.00000000e+00  0.00000000e+00  0.00000000e+00  0.00000000e+00\n",
      "  0.00000000e+00  0.00000000e+00  0.00000000e+00  0.00000000e+00\n",
      "  0.00000000e+00  0.00000000e+00  0.00000000e+00  0.00000000e+00\n",
      "  0.00000000e+00  0.00000000e+00  1.00000000e+00  0.00000000e+00\n",
      "  8.00000000e-01  1.15384615e+00  6.92646138e+00  0.00000000e+00\n",
      "  0.00000000e+00  0.00000000e+00  3.84615385e-01  8.89014571e-01\n",
      "  0.00000000e+00  0.00000000e+00  0.00000000e+00  1.92307692e-01\n",
      "  3.97958592e-01  1.32692308e+00  1.41034211e+00  1.92307692e-02\n",
      "  0.00000000e+00  0.00000000e+00  8.24805706e+05  4.36629638e+06] 0 [array([0.34, 0.66]), array([0.74, 0.26]), array([0.92, 0.08]), array([0.94, 0.06]), array([0.99, 0.01])] 0.66\n",
      "Error Pred 1,  178 [ 1.74650000e+04  5.82000000e+02  6.86000000e+02  0.00000000e+00\n",
      "  8.48396501e-01 -1.04000000e+02  2.54591837e+01  0.00000000e+00\n",
      "  0.00000000e+00  0.00000000e+00  0.00000000e+00  0.00000000e+00\n",
      "  0.00000000e+00  0.00000000e+00  0.00000000e+00  0.00000000e+00\n",
      "  0.00000000e+00  0.00000000e+00  0.00000000e+00  0.00000000e+00\n",
      "  0.00000000e+00  0.00000000e+00  0.00000000e+00  0.00000000e+00\n",
      "  0.00000000e+00  0.00000000e+00  0.00000000e+00  0.00000000e+00\n",
      "  0.00000000e+00  1.85586143e-03  4.30463745e-02  0.00000000e+00\n",
      "  0.00000000e+00  0.00000000e+00  1.05165481e-02  1.05014198e-01\n",
      "  0.00000000e+00  4.55923291e-01  5.51766142e-01  2.97247139e+00\n",
      "  9.05249739e-01  9.80513455e-02  2.97430063e-01  0.00000000e+00\n",
      "  0.00000000e+00  0.00000000e+00  1.01873298e+03  1.08293884e+03] 0 [array([0.27, 0.73]), array([0.41, 0.59]), array([0.63, 0.37]), array([0.9, 0.1]), array([0.96, 0.04])] 0.73\n",
      "Error Pred 1,  279 [ 9.00000000e+00  4.00000000e+00  1.09000000e+02  0.00000000e+00\n",
      "  3.66972477e-02 -1.05000000e+02  8.25688073e-02  0.00000000e+00\n",
      "  0.00000000e+00  0.00000000e+00  0.00000000e+00  1.00000000e+00\n",
      "  1.00000000e+00  1.00000000e+00  0.00000000e+00  0.00000000e+00\n",
      "  1.00000000e+00  7.00000000e+00  0.00000000e+00  0.00000000e+00\n",
      "  0.00000000e+00  0.00000000e+00  0.00000000e+00  0.00000000e+00\n",
      "  0.00000000e+00  1.00000000e+00  1.00000000e+00  0.00000000e+00\n",
      "  5.71428571e-01  0.00000000e+00  0.00000000e+00  0.00000000e+00\n",
      "  0.00000000e+00  0.00000000e+00  0.00000000e+00  0.00000000e+00\n",
      "  0.00000000e+00  0.00000000e+00  0.00000000e+00  0.00000000e+00\n",
      "  0.00000000e+00  0.00000000e+00  0.00000000e+00  0.00000000e+00\n",
      "  0.00000000e+00  0.00000000e+00  0.00000000e+00  0.00000000e+00] 0 [array([0.48, 0.52]), array([1., 0.]), array([0.91, 0.09]), array([1., 0.]), array([0.43, 0.57])] 0.57\n",
      "Error Pred 1,  307 [ 6.17000000e+02  3.70000000e+01  2.59000000e+02  0.00000000e+00\n",
      "  1.42857143e-01 -2.22000000e+02  2.38223938e+00  0.00000000e+00\n",
      "  0.00000000e+00  0.00000000e+00  0.00000000e+00  0.00000000e+00\n",
      "  0.00000000e+00  1.00000000e+00  0.00000000e+00  0.00000000e+00\n",
      "  0.00000000e+00  0.00000000e+00  0.00000000e+00  0.00000000e+00\n",
      "  0.00000000e+00  0.00000000e+00  0.00000000e+00  0.00000000e+00\n",
      "  0.00000000e+00  2.00000000e+00  1.00000000e+00  6.00000000e+00\n",
      "  1.42857143e-01  5.42949757e+00  1.05964273e+02  0.00000000e+00\n",
      "  0.00000000e+00  0.00000000e+00  1.94489465e-02  1.49493803e-01\n",
      "  0.00000000e+00  7.87682334e-01  4.32424428e-01  1.24797407e-01\n",
      "  4.82469634e-01  3.24149109e-02  2.10718090e-01  1.94489465e-02\n",
      "  0.00000000e+00  0.00000000e+00  1.54115515e+05  1.30290214e+06] 0 [array([0.48, 0.52]), array([0.61, 0.39]), array([0.88, 0.12]), array([0.95, 0.05]), array([0.91, 0.09])] 0.52\n",
      "Error Pred 1,  314 [ 4.32100000e+03  5.25000000e+02  5.61000000e+02  3.00000000e+00\n",
      "  9.35828877e-01 -3.60000000e+01  7.70231729e+00  1.00000000e+00\n",
      "  0.00000000e+00  0.00000000e+00  0.00000000e+00  1.00000000e+00\n",
      "  1.00000000e+00  0.00000000e+00  0.00000000e+00  0.00000000e+00\n",
      "  1.00000000e+00  4.40000000e+01  0.00000000e+00  0.00000000e+00\n",
      "  0.00000000e+00  0.00000000e+00  0.00000000e+00  0.00000000e+00\n",
      "  0.00000000e+00  2.00000000e+00  1.00000000e+00  0.00000000e+00\n",
      "  2.50000000e-01  7.59322034e-01  2.62851142e+00  0.00000000e+00\n",
      "  0.00000000e+00  0.00000000e+00  2.24961479e-02  1.62211312e-01\n",
      "  0.00000000e+00  9.00462250e-01  4.75299019e-01  3.14329738e-02\n",
      "  2.14166751e-01  1.29029276e+00  9.64305015e-01  6.24653313e-01\n",
      "  0.00000000e+00  0.00000000e+00  1.84966181e+04  4.24371555e+04] 0 [array([0.44, 0.56]), array([0.49, 0.51]), array([0.94, 0.06]), array([1., 0.]), array([0.99, 0.01])] 0.56\n",
      "Error Pred 1,  436 [ 6.60000000e+01  7.00000000e+00  2.08000000e+02  0.00000000e+00\n",
      "  3.36538462e-02 -2.01000000e+02  3.17307692e-01  0.00000000e+00\n",
      "  0.00000000e+00  0.00000000e+00  0.00000000e+00  1.00000000e+00\n",
      "  1.00000000e+00  1.00000000e+00  0.00000000e+00  0.00000000e+00\n",
      "  0.00000000e+00  0.00000000e+00  0.00000000e+00  0.00000000e+00\n",
      "  0.00000000e+00  0.00000000e+00  0.00000000e+00  0.00000000e+00\n",
      "  0.00000000e+00  3.00000000e+00  2.00000000e+00  0.00000000e+00\n",
      "  2.06896552e-01  0.00000000e+00  0.00000000e+00  0.00000000e+00\n",
      "  0.00000000e+00  0.00000000e+00  0.00000000e+00  0.00000000e+00\n",
      "  0.00000000e+00  0.00000000e+00  0.00000000e+00  0.00000000e+00\n",
      "  0.00000000e+00  0.00000000e+00  0.00000000e+00  0.00000000e+00\n",
      "  0.00000000e+00  0.00000000e+00  0.00000000e+00  0.00000000e+00] 0 [array([0.57, 0.43]), array([1., 0.]), array([0.99, 0.01]), array([1., 0.]), array([0.47, 0.53])] 0.53\n",
      "Error Pred 1,  438 [ 2.50000000e+01  2.80000000e+01  3.08000000e+02  0.00000000e+00\n",
      "  9.09090909e-02 -2.80000000e+02  8.11688312e-02  0.00000000e+00\n",
      "  0.00000000e+00  0.00000000e+00  0.00000000e+00  1.00000000e+00\n",
      "  1.00000000e+00  0.00000000e+00  0.00000000e+00  0.00000000e+00\n",
      "  0.00000000e+00  0.00000000e+00  0.00000000e+00  0.00000000e+00\n",
      "  0.00000000e+00  0.00000000e+00  0.00000000e+00  0.00000000e+00\n",
      "  0.00000000e+00  1.00000000e+00  1.00000000e+00  0.00000000e+00\n",
      "  3.33333333e-01  0.00000000e+00  0.00000000e+00  0.00000000e+00\n",
      "  0.00000000e+00  0.00000000e+00  0.00000000e+00  0.00000000e+00\n",
      "  0.00000000e+00  0.00000000e+00  0.00000000e+00  0.00000000e+00\n",
      "  0.00000000e+00  0.00000000e+00  0.00000000e+00  0.00000000e+00\n",
      "  0.00000000e+00  0.00000000e+00  0.00000000e+00  0.00000000e+00] 0 [array([0.34, 0.66]), array([1., 0.]), array([0.87, 0.13]), array([1., 0.]), array([0.4, 0.6])] 0.66\n",
      "Error Pred 1,  457 [ 9.82000000e+02  6.80000000e+01  2.65000000e+02  0.00000000e+00\n",
      "  2.56603774e-01 -1.97000000e+02  3.70566038e+00  0.00000000e+00\n",
      "  0.00000000e+00  0.00000000e+00  0.00000000e+00  1.00000000e+00\n",
      "  1.00000000e+00  0.00000000e+00  0.00000000e+00  0.00000000e+00\n",
      "  1.00000000e+00  1.50000000e+02  0.00000000e+00  0.00000000e+00\n",
      "  0.00000000e+00  0.00000000e+00  0.00000000e+00  0.00000000e+00\n",
      "  0.00000000e+00  2.00000000e+00  1.00000000e+00  0.00000000e+00\n",
      "  5.71428571e-01  1.02851324e-01  9.82316645e-01  0.00000000e+00\n",
      "  0.00000000e+00  0.00000000e+00  8.24847251e-02  3.10073381e-01\n",
      "  0.00000000e+00  2.03665988e-02  1.48360624e-01  5.89613035e-01\n",
      "  1.09097589e+00  1.23828921e+00  8.78001812e-01  4.07331976e-03\n",
      "  0.00000000e+00  0.00000000e+00  4.27286116e+04  3.09358980e+05] 0 [array([0.45, 0.55]), array([0.71, 0.29]), array([0.96, 0.04]), array([0.99, 0.01]), array([1., 0.])] 0.55\n",
      "Error Pred 1,  547 [ 1.40000000e+01  3.20000000e+01  1.73000000e+02  1.00000000e+00\n",
      "  1.84971098e-01 -1.41000000e+02  8.09248555e-02  0.00000000e+00\n",
      "  0.00000000e+00  0.00000000e+00  0.00000000e+00  0.00000000e+00\n",
      "  0.00000000e+00  0.00000000e+00  0.00000000e+00  0.00000000e+00\n",
      "  0.00000000e+00  0.00000000e+00  0.00000000e+00  0.00000000e+00\n",
      "  0.00000000e+00  0.00000000e+00  0.00000000e+00  0.00000000e+00\n",
      "  0.00000000e+00  1.00000000e+00  0.00000000e+00  0.00000000e+00\n",
      "  4.61538462e-01  0.00000000e+00  0.00000000e+00  0.00000000e+00\n",
      "  0.00000000e+00  0.00000000e+00  0.00000000e+00  0.00000000e+00\n",
      "  0.00000000e+00  0.00000000e+00  0.00000000e+00  0.00000000e+00\n",
      "  0.00000000e+00  0.00000000e+00  0.00000000e+00  0.00000000e+00\n",
      "  0.00000000e+00  0.00000000e+00  0.00000000e+00  0.00000000e+00] 0 [array([0.42, 0.58]), array([1., 0.]), array([0.79, 0.21]), array([0.99, 0.01]), array([0.79, 0.21])] 0.58\n",
      "Error Pred 1,  663 [ 3.48000000e+02  2.20000000e+01  5.00000000e+01  0.00000000e+00\n",
      "  4.40000000e-01 -2.80000000e+01  6.96000000e+00  0.00000000e+00\n",
      "  0.00000000e+00  0.00000000e+00  0.00000000e+00  0.00000000e+00\n",
      "  0.00000000e+00  0.00000000e+00  0.00000000e+00  0.00000000e+00\n",
      "  0.00000000e+00  0.00000000e+00  0.00000000e+00  0.00000000e+00\n",
      "  0.00000000e+00  0.00000000e+00  0.00000000e+00  0.00000000e+00\n",
      "  0.00000000e+00  0.00000000e+00  1.00000000e+00  0.00000000e+00\n",
      "  0.00000000e+00  9.33333333e+00  8.32324154e+01  0.00000000e+00\n",
      "  0.00000000e+00  0.00000000e+00  2.58620690e-02  1.76151963e-01\n",
      "  0.00000000e+00  2.90229885e-01  4.54521890e-01  3.16091954e-02\n",
      "  2.19064680e-01  1.78160920e-01  4.12184813e-01  1.32183908e-01\n",
      "  0.00000000e+00  0.00000000e+00  1.54845248e+05  4.48683928e+05] 0 [array([0.27, 0.73]), array([0.66, 0.34]), array([0.94, 0.06]), array([0.96, 0.04]), array([0.99, 0.01])] 0.73\n",
      "Error Pred 1,  689 [ 9.36900000e+03  1.73920000e+04  1.74140000e+04  1.31000000e+02\n",
      "  9.98736649e-01 -2.20000000e+01  5.38015390e-01  1.00000000e+00\n",
      "  0.00000000e+00  0.00000000e+00  0.00000000e+00  1.00000000e+00\n",
      "  1.00000000e+00  0.00000000e+00  0.00000000e+00  0.00000000e+00\n",
      "  1.00000000e+00  1.59000000e+02  5.00000000e+00  0.00000000e+00\n",
      "  0.00000000e+00  0.00000000e+00  0.00000000e+00  0.00000000e+00\n",
      "  0.00000000e+00  3.00000000e+00  0.00000000e+00  0.00000000e+00\n",
      "  6.31578947e-01  8.98221344e+00  6.16927687e+01  0.00000000e+00\n",
      "  0.00000000e+00  0.00000000e+00  9.68379447e-02  3.21516377e-01\n",
      "  0.00000000e+00  9.16996047e-01  2.76024605e-01  1.57213439e+00\n",
      "  8.48419832e-01  3.84387352e-01  1.36418558e+00  2.76679842e-02\n",
      "  0.00000000e+00  0.00000000e+00  1.42518991e+03  1.80067992e+03] 0 [array([0.47, 0.53]), array([0.57, 0.43]), array([0.87, 0.13]), array([0.97, 0.03]), array([1., 0.])] 0.53\n",
      "Error Pred 1,  730 [ 4.36700000e+03  4.04000000e+02  1.05300000e+03  1.00000000e+00\n",
      "  3.83665717e-01 -6.49000000e+02  4.14719848e+00  1.00000000e+00\n",
      "  0.00000000e+00  0.00000000e+00  0.00000000e+00  1.00000000e+00\n",
      "  1.00000000e+00  1.00000000e+00  0.00000000e+00  0.00000000e+00\n",
      "  1.00000000e+00  1.02000000e+02  2.00000000e+00  0.00000000e+00\n",
      "  0.00000000e+00  0.00000000e+00  0.00000000e+00  0.00000000e+00\n",
      "  0.00000000e+00  5.00000000e+00  0.00000000e+00  2.00000000e+00\n",
      "  3.70370370e-01  1.07032696e-01  3.69835557e+00  0.00000000e+00\n",
      "  0.00000000e+00  0.00000000e+00  1.44972239e-02  1.65077030e-01\n",
      "  0.00000000e+00  4.61443553e-01  5.57045265e-01  2.46452807e-01\n",
      "  1.00723765e+00  2.71437384e-02  1.78798616e-01  2.46761258e-03\n",
      "  0.00000000e+00  1.23380629e-03  2.01427596e+04  3.43053150e+04] 0 [array([0.32, 0.68]), array([0.16, 0.84]), array([0.92, 0.08]), array([0.98, 0.02]), array([1., 0.])] 0.84\n",
      "Error Pred 1,  747 [8.10000000e+01 4.90000000e+01 4.50000000e+01 2.00000000e+00\n",
      " 1.08888889e+00 4.00000000e+00 1.80000000e+00 1.00000000e+00\n",
      " 0.00000000e+00 0.00000000e+00 0.00000000e+00 0.00000000e+00\n",
      " 1.00000000e+00 0.00000000e+00 0.00000000e+00 0.00000000e+00\n",
      " 1.00000000e+00 4.40000000e+01 0.00000000e+00 0.00000000e+00\n",
      " 0.00000000e+00 0.00000000e+00 0.00000000e+00 0.00000000e+00\n",
      " 0.00000000e+00 2.00000000e+00 1.00000000e+00 0.00000000e+00\n",
      " 1.73913043e-01 8.76543210e-01 2.35787360e+00 0.00000000e+00\n",
      " 0.00000000e+00 0.00000000e+00 5.55555556e-01 8.80340843e-01\n",
      " 0.00000000e+00 3.58024691e-01 4.82406519e-01 1.49382716e+00\n",
      " 1.03830940e+00 6.79012346e-01 7.87831843e-01 1.11111111e-01\n",
      " 0.00000000e+00 0.00000000e+00 6.10570588e+05 1.48669196e+06] 0 [array([0.37, 0.63]), array([0.79, 0.21]), array([0.91, 0.09]), array([0.8, 0.2]), array([0.97, 0.03])] 0.63\n",
      "Error Pred 1,  750 [ 2.61120000e+04  2.62000000e+02  1.44200000e+03  4.00000000e+00\n",
      "  1.81692094e-01 -1.18000000e+03  1.81081831e+01  1.00000000e+00\n",
      "  0.00000000e+00  0.00000000e+00  0.00000000e+00  1.00000000e+00\n",
      "  1.00000000e+00  0.00000000e+00  0.00000000e+00  0.00000000e+00\n",
      "  1.00000000e+00  6.10000000e+01  0.00000000e+00  0.00000000e+00\n",
      "  0.00000000e+00  0.00000000e+00  0.00000000e+00  0.00000000e+00\n",
      "  1.00000000e+00  1.00000000e+00  0.00000000e+00  0.00000000e+00\n",
      "  0.00000000e+00  2.47737765e+00  6.02682647e+01  0.00000000e+00\n",
      "  0.00000000e+00  0.00000000e+00  3.10864882e-02  1.88868377e-01\n",
      "  0.00000000e+00  2.15450908e-02  1.47319903e-01  1.15727916e-01\n",
      "  4.40585112e-01  1.59741459e-01  3.95516040e-01  7.69467528e-03\n",
      "  0.00000000e+00  0.00000000e+00  1.11458119e+04  2.13062490e+04] 0 [array([0.43, 0.57]), array([0.4, 0.6]), array([0.98, 0.02]), array([1., 0.]), array([0.98, 0.02])] 0.6\n",
      "Error Pred 1,  759 [ 3.00000000e+00  1.00000000e+00  7.00000000e+00  0.00000000e+00\n",
      "  1.42857143e-01 -6.00000000e+00  4.28571429e-01  0.00000000e+00\n",
      "  0.00000000e+00  0.00000000e+00  0.00000000e+00  1.00000000e+00\n",
      "  0.00000000e+00  0.00000000e+00  0.00000000e+00  0.00000000e+00\n",
      "  0.00000000e+00  0.00000000e+00  0.00000000e+00  0.00000000e+00\n",
      "  0.00000000e+00  0.00000000e+00  0.00000000e+00  0.00000000e+00\n",
      "  0.00000000e+00  1.00000000e+00  0.00000000e+00  8.00000000e+00\n",
      "  1.81818182e-01  3.33333333e-01  5.77350269e-01  0.00000000e+00\n",
      "  0.00000000e+00  0.00000000e+00  0.00000000e+00  0.00000000e+00\n",
      "  0.00000000e+00  0.00000000e+00  0.00000000e+00  3.33333333e-01\n",
      "  5.77350269e-01  6.66666667e-01  1.15470054e+00  3.33333333e-01\n",
      "  0.00000000e+00  0.00000000e+00  5.79220000e+04  6.58556830e+04] 0 [array([0.17, 0.83]), array([0.5, 0.5]), array([0.78, 0.22]), array([0.83, 0.17]), array([0.78, 0.22])] 0.83\n",
      "Error Pred 1,  945 [ 2.90000000e+01  1.20000000e+01  3.40000000e+01  0.00000000e+00\n",
      "  3.52941176e-01 -2.20000000e+01  8.52941176e-01  0.00000000e+00\n",
      "  0.00000000e+00  0.00000000e+00  0.00000000e+00  1.00000000e+00\n",
      "  1.00000000e+00  1.00000000e+00  0.00000000e+00  0.00000000e+00\n",
      "  0.00000000e+00  0.00000000e+00  0.00000000e+00  0.00000000e+00\n",
      "  0.00000000e+00  0.00000000e+00  0.00000000e+00  0.00000000e+00\n",
      "  0.00000000e+00  0.00000000e+00  0.00000000e+00  0.00000000e+00\n",
      "  8.88888889e-01  0.00000000e+00  0.00000000e+00  0.00000000e+00\n",
      "  0.00000000e+00  0.00000000e+00  3.44827586e-02  1.85695338e-01\n",
      "  0.00000000e+00  0.00000000e+00  0.00000000e+00  0.00000000e+00\n",
      "  0.00000000e+00  6.89655172e-02  3.71390676e-01  0.00000000e+00\n",
      "  0.00000000e+00  1.37931034e-01  4.70967857e+05  1.55062412e+06] 0 [array([0.41, 0.59]), array([0.6, 0.4]), array([0.84, 0.16]), array([0.84, 0.16]), array([0.93, 0.07])] 0.59\n"
     ]
    }
   ],
   "source": [
    "correctRate, correctConf = testRF_ESC([realTest], [coaTest], RF)"
   ]
  },
  {
   "cell_type": "code",
   "execution_count": 19,
   "metadata": {},
   "outputs": [
    {
     "name": "stdout",
     "output_type": "stream",
     "text": [
      "0.9919545669663985 0.0067439659252247946\n"
     ]
    }
   ],
   "source": [
    "print(correctRate, correctConf)"
   ]
  },
  {
   "cell_type": "code",
   "execution_count": 27,
   "metadata": {},
   "outputs": [
    {
     "name": "stderr",
     "output_type": "stream",
     "text": [
      "/var/folders/qx/bly71f215mx_406j1_my1ghh0000gp/T/ipykernel_23104/2087584835.py:3: FutureWarning: In a future version of pandas all arguments of DataFrame.drop except for the argument 'labels' will be keyword-only.\n",
      "  data = pd.concat(reals+bots).fillna(0).drop('Unnamed: 0', 1).to_numpy()\n"
     ]
    },
    {
     "name": "stdout",
     "output_type": "stream",
     "text": [
      "1.0\n"
     ]
    },
    {
     "name": "stderr",
     "output_type": "stream",
     "text": [
      "/var/folders/qx/bly71f215mx_406j1_my1ghh0000gp/T/ipykernel_23104/1317824033.py:2: FutureWarning: In a future version of pandas all arguments of DataFrame.drop except for the argument 'labels' will be keyword-only.\n",
      "  data = pd.concat(reals+bots).fillna(0).drop('Unnamed: 0', 1).to_numpy()\n"
     ]
    }
   ],
   "source": [
    "singleRF = trainRF([coaTrain], [ss1Train, ss2Train, ss3Train, ts1Train])\n",
    "print(testRF([coaTest], [ss1Test, ss2Test, ss3Test, ts1Test], singleRF))"
   ]
  },
  {
   "cell_type": "code",
   "execution_count": null,
   "metadata": {},
   "outputs": [],
   "source": []
  }
 ],
 "metadata": {
  "interpreter": {
   "hash": "cb986cb43caf49adc937092c4520ad72ea98a1d83bf0f91755f5ca9ed24d87ff"
  },
  "kernelspec": {
   "display_name": "Python 3.10.1 64-bit ('sklearn-env': conda)",
   "language": "python",
   "name": "python3"
  },
  "language_info": {
   "codemirror_mode": {
    "name": "ipython",
    "version": 3
   },
   "file_extension": ".py",
   "mimetype": "text/x-python",
   "name": "python",
   "nbconvert_exporter": "python",
   "pygments_lexer": "ipython3",
   "version": "3.9.7"
  },
  "orig_nbformat": 4
 },
 "nbformat": 4,
 "nbformat_minor": 2
}
