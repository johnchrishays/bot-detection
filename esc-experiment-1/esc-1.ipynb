{
 "cells": [
  {
   "cell_type": "code",
   "execution_count": 1,
   "metadata": {},
   "outputs": [],
   "source": [
    "%matplotlib inline\n",
    "import matplotlib.pyplot as plt\n",
    "import numpy as np\n",
    "from sklearn.tree import DecisionTreeClassifier\n",
    "from sklearn.ensemble import RandomForestClassifier\n",
    "from sklearn.model_selection import train_test_split\n",
    "from sklearn.model_selection import cross_val_score"
   ]
  },
  {
   "cell_type": "code",
   "execution_count": 3,
   "metadata": {},
   "outputs": [],
   "source": [
    "import pandas as pd\n",
    "realDF = pd.read_csv('../data-processing/genuine_accounts_processed.csv')\n",
    "ss1DF = pd.read_csv('../data-processing/social_spambots_1_processed.csv')\n",
    "ss2DF = pd.read_csv('../data-processing/social_spambots_2_processed.csv')\n",
    "ss3DF = pd.read_csv('../data-processing/social_spambots_3_processed.csv')\n",
    "ffDF = pd.read_csv('../data-processing/fake_followers_processed.csv')\n",
    "ts1DF = pd.read_csv('../data-processing/traditional_spambots_1_processed.csv')\n"
   ]
  },
  {
   "cell_type": "code",
   "execution_count": 4,
   "metadata": {},
   "outputs": [],
   "source": [
    "def data_split (df, split=0.7):\n",
    "    train_num = int(len(df.index)*split)\n",
    "    return df.iloc[:train_num,:], df.iloc[train_num+1:,:]\n",
    "\n",
    "realTrain, realTest = data_split(realDF)\n",
    "ss1Train, ss1Test = data_split(ss1DF)\n",
    "ss2Train, ss2Test = data_split(ss2DF)\n",
    "ss3Train, ss3Test = data_split(ss3DF)\n",
    "ts1Train, ts1Test = data_split(ts1DF)\n",
    "ffTrain, ffTest = data_split(ffDF)"
   ]
  },
  {
   "cell_type": "code",
   "execution_count": 6,
   "metadata": {},
   "outputs": [],
   "source": [
    "def trainRF (reals, bots, n_estimators=100):\n",
    "\n",
    "    data = pd.concat(reals+bots).fillna(0).drop('Unnamed: 0', 1).to_numpy()\n",
    "    target = np.array([0] * sum(len(real.index) for real in reals) + [1] * sum(len(bot.index) for bot in bots))\n",
    "    rfc = RandomForestClassifier(n_estimators=n_estimators)\n",
    "    rfc = rfc.fit(data, target)\n",
    "    return rfc"
   ]
  },
  {
   "cell_type": "code",
   "execution_count": 9,
   "metadata": {},
   "outputs": [],
   "source": [
    "def testRF(reals, bots, RF):\n",
    "    data = pd.concat(reals+bots).fillna(0).drop('Unnamed: 0', 1).to_numpy()\n",
    "    target = np.array([0] * sum(len(real.index) for real in reals) + [1] * sum(len(bot.index) for bot in bots))\n",
    "    return RF.score(data, target)"
   ]
  },
  {
   "cell_type": "code",
   "execution_count": 18,
   "metadata": {},
   "outputs": [],
   "source": [
    "def testRF_ESC(reals, bots, RFs):\n",
    "    data = pd.concat(reals+bots).fillna(0).drop('Unnamed: 0', 1).to_numpy()\n",
    "    target = np.array([0] * sum(len(real.index) for real in reals) + [1] * sum(len(bot.index) for bot in bots))\n",
    "    totalAcc = 0\n",
    "    for i in range(data.shape[0]):\n",
    "        totalAcc += 1.0-abs(max(float(RF.predict([data[i]])[0]) for RF in RFs)-float(target[i]))\n",
    "    return totalAcc/data.shape[0]"
   ]
  },
  {
   "cell_type": "code",
   "execution_count": 7,
   "metadata": {},
   "outputs": [
    {
     "name": "stderr",
     "output_type": "stream",
     "text": [
      "C:\\Users\\56830\\AppData\\Local\\Temp/ipykernel_51344/2087584835.py:3: FutureWarning: In a future version of pandas all arguments of DataFrame.drop except for the argument 'labels' will be keyword-only\n",
      "  data = pd.concat(reals+bots).fillna(0).drop('Unnamed: 0', 1).to_numpy()\n",
      "C:\\Users\\56830\\AppData\\Local\\Temp/ipykernel_51344/2087584835.py:3: FutureWarning: In a future version of pandas all arguments of DataFrame.drop except for the argument 'labels' will be keyword-only\n",
      "  data = pd.concat(reals+bots).fillna(0).drop('Unnamed: 0', 1).to_numpy()\n",
      "C:\\Users\\56830\\AppData\\Local\\Temp/ipykernel_51344/2087584835.py:3: FutureWarning: In a future version of pandas all arguments of DataFrame.drop except for the argument 'labels' will be keyword-only\n",
      "  data = pd.concat(reals+bots).fillna(0).drop('Unnamed: 0', 1).to_numpy()\n",
      "C:\\Users\\56830\\AppData\\Local\\Temp/ipykernel_51344/2087584835.py:3: FutureWarning: In a future version of pandas all arguments of DataFrame.drop except for the argument 'labels' will be keyword-only\n",
      "  data = pd.concat(reals+bots).fillna(0).drop('Unnamed: 0', 1).to_numpy()\n"
     ]
    }
   ],
   "source": [
    "RF = []\n",
    "RF.append(trainRF([realTrain], [ss1Train, ss2Train, ss3Train, ffTrain, ts1Train]))\n",
    "RF.append(trainRF([realTrain], [ss1Train, ss2Train, ss3Train]))\n",
    "RF.append(trainRF([realTrain], [ts1Train]))\n",
    "RF.append(trainRF([realTrain], [ffTrain]))"
   ]
  },
  {
   "cell_type": "code",
   "execution_count": 10,
   "metadata": {},
   "outputs": [
    {
     "name": "stdout",
     "output_type": "stream",
     "text": [
      "0.9897879025923016\n"
     ]
    },
    {
     "name": "stderr",
     "output_type": "stream",
     "text": [
      "C:\\Users\\56830\\AppData\\Local\\Temp/ipykernel_51344/1317824033.py:2: FutureWarning: In a future version of pandas all arguments of DataFrame.drop except for the argument 'labels' will be keyword-only\n",
      "  data = pd.concat(reals+bots).fillna(0).drop('Unnamed: 0', 1).to_numpy()\n"
     ]
    }
   ],
   "source": [
    "print(testRF([realTest], [ss1Test, ss2Test, ss3Test, ffTest, ts1Test], RF[0]))"
   ]
  },
  {
   "cell_type": "code",
   "execution_count": 17,
   "metadata": {},
   "outputs": [
    {
     "name": "stderr",
     "output_type": "stream",
     "text": [
      "C:\\Users\\56830\\AppData\\Local\\Temp/ipykernel_51344/706939187.py:2: FutureWarning: In a future version of pandas all arguments of DataFrame.drop except for the argument 'labels' will be keyword-only\n",
      "  data = pd.concat(reals+bots).fillna(0).drop('Unnamed: 0', 1).to_numpy()\n"
     ]
    },
    {
     "name": "stdout",
     "output_type": "stream",
     "text": [
      "0.9903115998952605\n"
     ]
    }
   ],
   "source": [
    "print(testRF_ESC([realTest], [ss1Test, ss2Test, ss3Test, ts1Test, ffTest], RF))"
   ]
  },
  {
   "cell_type": "code",
   "execution_count": null,
   "metadata": {},
   "outputs": [],
   "source": []
  }
 ],
 "metadata": {
  "interpreter": {
   "hash": "cb986cb43caf49adc937092c4520ad72ea98a1d83bf0f91755f5ca9ed24d87ff"
  },
  "kernelspec": {
   "display_name": "Python 3.10.1 64-bit ('sklearn-env': conda)",
   "language": "python",
   "name": "python3"
  },
  "language_info": {
   "codemirror_mode": {
    "name": "ipython",
    "version": 3
   },
   "file_extension": ".py",
   "mimetype": "text/x-python",
   "name": "python",
   "nbconvert_exporter": "python",
   "pygments_lexer": "ipython3",
   "version": "3.9.7"
  },
  "orig_nbformat": 4
 },
 "nbformat": 4,
 "nbformat_minor": 2
}
