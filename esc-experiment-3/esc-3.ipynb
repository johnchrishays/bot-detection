{
 "cells": [
  {
   "cell_type": "code",
   "execution_count": 14,
   "metadata": {},
   "outputs": [],
   "source": [
    "%matplotlib inline\n",
    "import matplotlib.pyplot as plt\n",
    "import numpy as np\n",
    "from sklearn.tree import DecisionTreeClassifier\n",
    "from sklearn.ensemble import RandomForestClassifier\n",
    "from sklearn.model_selection import train_test_split\n",
    "from sklearn.model_selection import cross_val_score\n",
    "import time"
   ]
  },
  {
   "cell_type": "code",
   "execution_count": 2,
   "metadata": {},
   "outputs": [],
   "source": [
    "import pandas as pd\n",
    "realDF = pd.read_csv('../data-processing/cresci-2017/genuine_accounts_processed.csv')\n",
    "ss1DF = pd.read_csv('../data-processing/cresci-2017/social_spambots_1_processed.csv')\n",
    "ss2DF = pd.read_csv('../data-processing/cresci-2017/social_spambots_2_processed.csv')\n",
    "ss3DF = pd.read_csv('../data-processing/cresci-2017/social_spambots_3_processed.csv')\n",
    "ffDF = pd.read_csv('../data-processing/cresci-2017/fake_followers_processed.csv')\n",
    "ts1DF = pd.read_csv('../data-processing/cresci-2017/traditional_spambots_1_processed.csv')\n",
    "coaDF = pd.read_csv('../data-processing/college-official-accounts/coa_processed.csv')\n",
    "v2019DF = pd.read_csv('../data-processing/verified-2019/v2019_processed.csv')\n"
   ]
  },
  {
   "cell_type": "code",
   "execution_count": 3,
   "metadata": {},
   "outputs": [
    {
     "name": "stdout",
     "output_type": "stream",
     "text": [
      "<class 'pandas.core.frame.DataFrame'>\n",
      "RangeIndex: 1953 entries, 0 to 1952\n",
      "Data columns (total 52 columns):\n",
      " #   Column                    Non-Null Count  Dtype  \n",
      "---  ------                    --------------  -----  \n",
      " 0   Unnamed: 0                1953 non-null   int64  \n",
      " 1   status                    1953 non-null   float64\n",
      " 2   follower                  1953 non-null   float64\n",
      " 3   friend                    1953 non-null   float64\n",
      " 4   favorite                  1953 non-null   float64\n",
      " 5   listed                    1953 non-null   float64\n",
      " 6   follower_over_friend      1953 non-null   float64\n",
      " 7   follower_minus_friend     1953 non-null   float64\n",
      " 8   favorite_over_friend      1953 non-null   float64\n",
      " 9   status_over_friend        1953 non-null   float64\n",
      " 10  url                       1953 non-null   float64\n",
      " 11  url_facebook              1953 non-null   float64\n",
      " 12  url_instagram             1953 non-null   float64\n",
      " 13  url_youtube               1953 non-null   float64\n",
      " 14  url_blog                  1953 non-null   float64\n",
      " 15  time_zone                 1953 non-null   float64\n",
      " 16  location                  1953 non-null   float64\n",
      " 17  geo                       1953 non-null   float64\n",
      " 18  verified                  1953 non-null   float64\n",
      " 19  protected                 1953 non-null   float64\n",
      " 20  bio                       1953 non-null   float64\n",
      " 21  bio_len                   1953 non-null   float64\n",
      " 22  bio_hashtag               1953 non-null   float64\n",
      " 23  bio_link                  1953 non-null   float64\n",
      " 24  bio_bot                   1953 non-null   float64\n",
      " 25  bio_official              1953 non-null   float64\n",
      " 26  bio_account               1953 non-null   float64\n",
      " 27  bio_emoji                 1953 non-null   float64\n",
      " 28  name_number               1953 non-null   float64\n",
      " 29  name_upper                1953 non-null   float64\n",
      " 30  name_space                1953 non-null   float64\n",
      " 31  handle_number             1953 non-null   float64\n",
      " 32  name_handle_diff          1953 non-null   float64\n",
      " 33  retweet_mean              1953 non-null   float64\n",
      " 34  retweet_std               1953 non-null   float64\n",
      " 35  reply_mean                1953 non-null   float64\n",
      " 36  reply_std                 1953 non-null   float64\n",
      " 37  reply_median              1953 non-null   float64\n",
      " 38  favorite_mean             1953 non-null   float64\n",
      " 39  favorite_std              1953 non-null   float64\n",
      " 40  favorite_median           1953 non-null   float64\n",
      " 41  url_mean                  1953 non-null   float64\n",
      " 42  url_std                   1953 non-null   float64\n",
      " 43  hashtag_mean              1953 non-null   float64\n",
      " 44  hashtag_std               1953 non-null   float64\n",
      " 45  mention_mean              1953 non-null   float64\n",
      " 46  mention_std               1953 non-null   float64\n",
      " 47  retweeted_percentage      1953 non-null   float64\n",
      " 48  sensitive                 1953 non-null   float64\n",
      " 49  place                     1953 non-null   float64\n",
      " 50  tweet_time_interval_mean  1953 non-null   float64\n",
      " 51  tweet_time_interval_std   1953 non-null   float64\n",
      "dtypes: float64(51), int64(1)\n",
      "memory usage: 793.5 KB\n"
     ]
    }
   ],
   "source": [
    "v2019DF.info()"
   ]
  },
  {
   "cell_type": "code",
   "execution_count": 4,
   "metadata": {},
   "outputs": [],
   "source": [
    "# removing some entries from data\n",
    "del coaDF['url_youtube'], v2019DF['url_youtube']\n",
    "del coaDF['favorite'], realDF['favorite'], ss1DF['favorite'], ss2DF['favorite'], ss3DF['favorite'], ffDF['favorite'], ts1DF['favorite'], v2019DF['favorite']\n",
    "del coaDF['Unnamed: 0'], realDF['Unnamed: 0'], ss1DF['Unnamed: 0'], ss2DF['Unnamed: 0'], ss3DF['Unnamed: 0'], ffDF['Unnamed: 0'], ts1DF['Unnamed: 0'], v2019DF['Unnamed: 0']\n",
    "del coaDF['favorite_over_friend'], realDF['favorite_over_friend'], ss1DF['favorite_over_friend'], ss2DF['favorite_over_friend'], ss3DF['favorite_over_friend'], ffDF['favorite_over_friend'], ts1DF['favorite_over_friend'], v2019DF['favorite_over_friend']"
   ]
  },
  {
   "cell_type": "code",
   "execution_count": 23,
   "metadata": {},
   "outputs": [],
   "source": [
    "del coaDF['geo'], realDF['geo'], ss1DF['geo'], ss2DF['geo'], ss3DF['geo'], ffDF['geo'], ts1DF['geo'], v2019DF['geo']"
   ]
  },
  {
   "cell_type": "code",
   "execution_count": 24,
   "metadata": {},
   "outputs": [],
   "source": [
    "def data_split (df, split=0.7):\n",
    "    train_num = int(len(df.index)*split)\n",
    "    return df.iloc[:train_num,:], df.iloc[train_num+1:,:]\n",
    "\n",
    "realTrain, realTest = data_split(realDF)\n",
    "ss1Train, ss1Test = data_split(ss1DF)\n",
    "ss2Train, ss2Test = data_split(ss2DF)\n",
    "ss3Train, ss3Test = data_split(ss3DF)\n",
    "ts1Train, ts1Test = data_split(ts1DF)\n",
    "ffTrain, ffTest = data_split(ffDF)\n",
    "coaTrain, coaTest = data_split(coaDF)\n",
    "v2019Train, v2019Test = data_split(v2019DF)"
   ]
  },
  {
   "cell_type": "code",
   "execution_count": 25,
   "metadata": {},
   "outputs": [
    {
     "name": "stdout",
     "output_type": "stream",
     "text": [
      "(2499, 47) (1367, 47)\n"
     ]
    }
   ],
   "source": [
    "print(coaTrain.shape, v2019Train.shape)"
   ]
  },
  {
   "cell_type": "code",
   "execution_count": 26,
   "metadata": {},
   "outputs": [],
   "source": [
    "def trainRF (reals, bots, n_estimators=100):\n",
    "\n",
    "    data = pd.concat(reals+bots).fillna(0).to_numpy()\n",
    "    target = np.array([0] * sum(len(real.index) for real in reals) + [1] * sum(len(bot.index) for bot in bots))\n",
    "    rfc = RandomForestClassifier(n_estimators=n_estimators)\n",
    "    rfc = rfc.fit(data, target)\n",
    "    return rfc"
   ]
  },
  {
   "cell_type": "code",
   "execution_count": 27,
   "metadata": {},
   "outputs": [],
   "source": [
    "def testRF(reals, bots, RF):\n",
    "    data = pd.concat(reals+bots).fillna(0).to_numpy()\n",
    "    target = np.array([0] * sum(len(real.index) for real in reals) + [1] * sum(len(bot.index) for bot in bots))\n",
    "    return RF.score(data, target)"
   ]
  },
  {
   "cell_type": "code",
   "execution_count": 28,
   "metadata": {},
   "outputs": [],
   "source": [
    "def testRF_ESC(reals, bots, RFs):\n",
    "    data = pd.concat(reals+bots).fillna(0).to_numpy()\n",
    "    target = np.array([0] * sum(len(real.index) for real in reals) + [1] * sum(len(bot.index) for bot in bots))\n",
    "    totalAccNum = 0\n",
    "    for i in range(data.shape[0]):\n",
    "        catScore = [float(RFs[0].predict_proba([data[i]])[0][0])] + [float(RF.predict_proba([data[i]])[0][1]) for RF in RFs[1:]]\n",
    "        if target[i] == 0 and catScore[0] == max(catScore) or target[i] == 1 and catScore[0] != max(catScore):\n",
    "            totalAccNum += 1\n",
    "        else:    \n",
    "            print(\"Pred\", i, target[i], catScore)\n",
    "    return float(totalAccNum)/data.shape[0]"
   ]
  },
  {
   "cell_type": "code",
   "execution_count": 29,
   "metadata": {},
   "outputs": [],
   "source": [
    "real_detect_RF = []\n",
    "real_detect_RF.append(trainRF([realTrain], [ss1Train, ss2Train, ss3Train, ffTrain, ts1Train, coaTrain, v2019Train]))\n",
    "real_detect_RF.append(trainRF([realTrain], [ss1Train, ss2Train, ss3Train]))\n",
    "real_detect_RF.append(trainRF([realTrain], [ts1Train]))\n",
    "real_detect_RF.append(trainRF([realTrain], [coaTrain]))\n",
    "real_detect_RF.append(trainRF([realTrain], [ffTrain]))\n",
    "real_detect_RF.append(trainRF([realTrain], [v2019Train]))"
   ]
  },
  {
   "cell_type": "code",
   "execution_count": 30,
   "metadata": {},
   "outputs": [
    {
     "name": "stdout",
     "output_type": "stream",
     "text": [
      "0.9917808219178083\n"
     ]
    }
   ],
   "source": [
    "print(testRF([realTest], [ss1Test, ss2Test, ss3Test, ffTest, ts1Test, coaTest, v2019Test], real_detect_RF[0]))"
   ]
  },
  {
   "cell_type": "code",
   "execution_count": 31,
   "metadata": {},
   "outputs": [
    {
     "name": "stdout",
     "output_type": "stream",
     "text": [
      "Elapsed time to compute the importances: 0.014 seconds\n"
     ]
    }
   ],
   "source": [
    "start_time = time.time()\n",
    "importances = real_detect_RF[0].feature_importances_\n",
    "std = np.std([tree.feature_importances_ for tree in real_detect_RF[0].estimators_], axis=0)\n",
    "elapsed_time = time.time() - start_time\n",
    "\n",
    "print(f\"Elapsed time to compute the importances: {elapsed_time:.3f} seconds\")"
   ]
  },
  {
   "cell_type": "code",
   "execution_count": 32,
   "metadata": {},
   "outputs": [
    {
     "data": {
      "image/png": "[encoded data removed]",
      "text/plain": [
       "<Figure size 432x288 with 1 Axes>"
      ]
     },
     "metadata": {
      "needs_background": "light"
     },
     "output_type": "display_data"
    }
   ],
   "source": [
    "forest_importances = pd.Series(importances, index=realTrain.columns.values.tolist())\n",
    "\n",
    "fig, ax = plt.subplots()\n",
    "forest_importances.plot.bar(yerr=std, ax=ax)\n",
    "ax.set_title(\"Feature importances using MDI\")\n",
    "ax.set_ylabel(\"Mean decrease in impurity\")\n",
    "fig.tight_layout()"
   ]
  },
  {
   "cell_type": "code",
   "execution_count": null,
   "metadata": {},
   "outputs": [],
   "source": [
    "correctRate = testRF_ESC([realTest], [ss1Test, ss2Test, ss3Test, ffTest, ts1Test, coaTest, v2019Test], real_detect_RF)"
   ]
  },
  {
   "cell_type": "code",
   "execution_count": 22,
   "metadata": {},
   "outputs": [
    {
     "name": "stdout",
     "output_type": "stream",
     "text": [
      "0.9914155251141552\n"
     ]
    }
   ],
   "source": [
    "print(correctRate)"
   ]
  },
  {
   "cell_type": "code",
   "execution_count": 21,
   "metadata": {},
   "outputs": [
    {
     "name": "stdout",
     "output_type": "stream",
     "text": [
      "0.6190867955573838\n",
      "0\n"
     ]
    }
   ],
   "source": [
    "print(realTrain.geo.tolist().count(1.0) / len(realTrain.geo.tolist()))\n",
    "print(coaTrain.geo.tolist().count(1.0 / len(coaTrain.geo.to_list())))"
   ]
  },
  {
   "cell_type": "code",
   "execution_count": 25,
   "metadata": {},
   "outputs": [],
   "source": [
    "v2019DF.to_pickle('v2019-pickled')"
   ]
  },
  {
   "cell_type": "code",
   "execution_count": 26,
   "metadata": {},
   "outputs": [],
   "source": [
    "RF = []\n",
    "RF.append(trainRF([v2019Train], [ss1Train, ss2Train, ss3Train, ffTrain, ts1Train, coaTrain, realTrain]))\n",
    "RF.append(trainRF([v2019Train], [ss1Train, ss2Train, ss3Train]))\n",
    "RF.append(trainRF([v2019Train], [ts1Train]))\n",
    "RF.append(trainRF([v2019Train], [coaTrain]))\n",
    "RF.append(trainRF([v2019Train], [ffTrain]))\n",
    "RF.append(trainRF([v2019Train], [realTrain]))"
   ]
  },
  {
   "cell_type": "code",
   "execution_count": 27,
   "metadata": {},
   "outputs": [
    {
     "name": "stdout",
     "output_type": "stream",
     "text": [
      "0.9735159817351599\n"
     ]
    }
   ],
   "source": [
    "print(testRF([v2019Test], [ss1Test, ss2Test, ss3Test, ffTest, ts1Test, coaTest, realTest], RF[0]))"
   ]
  },
  {
   "cell_type": "code",
   "execution_count": 28,
   "metadata": {},
   "outputs": [
    {
     "name": "stdout",
     "output_type": "stream",
     "text": [
      "Pred 3 0 [0.16, 0.0, 0.0, 0.85, 0.01, 0.01]\n",
      "Pred 16 0 [0.49, 0.01, 0.01, 0.52, 0.02, 0.01]\n",
      "Pred 31 0 [0.22, 0.0, 0.0, 0.83, 0.0, 0.0]\n",
      "Pred 68 0 [0.02, 0.0, 0.01, 0.98, 0.0, 0.0]\n",
      "Pred 79 0 [0.35, 0.0, 0.0, 0.59, 0.0, 0.0]\n",
      "Pred 84 0 [0.37, 0.0, 0.0, 0.71, 0.0, 0.0]\n",
      "Pred 86 0 [0.38, 0.02, 0.16, 0.46, 0.11, 0.17]\n",
      "Pred 88 0 [0.34, 0.05, 0.0, 0.58, 0.0, 0.01]\n",
      "Pred 89 0 [0.16, 0.0, 0.01, 0.93, 0.0, 0.0]\n",
      "Pred 103 0 [0.2, 0.0, 0.0, 0.82, 0.0, 0.0]\n",
      "Pred 107 0 [0.26, 0.0, 0.0, 0.44, 0.0, 0.02]\n",
      "Pred 124 0 [0.12, 0.0, 0.0, 0.76, 0.0, 0.01]\n",
      "Pred 133 0 [0.27, 0.0, 0.0, 0.76, 0.0, 0.0]\n",
      "Pred 134 0 [0.07, 0.0, 0.0, 0.95, 0.0, 0.01]\n",
      "Pred 136 0 [0.24, 0.0, 0.0, 0.85, 0.0, 0.0]\n",
      "Pred 138 0 [0.47, 0.0, 0.0, 0.48, 0.0, 0.0]\n",
      "Pred 151 0 [0.27, 0.0, 0.0, 0.68, 0.0, 0.0]\n",
      "Pred 186 0 [0.3, 0.0, 0.0, 0.73, 0.0, 0.0]\n",
      "Pred 191 0 [0.45, 0.0, 0.0, 0.49, 0.0, 0.0]\n",
      "Pred 192 0 [0.2, 0.0, 0.0, 0.75, 0.0, 0.0]\n",
      "Pred 197 0 [0.39, 0.0, 0.01, 0.54, 0.01, 0.0]\n",
      "Pred 199 0 [0.11, 0.0, 0.0, 0.89, 0.0, 0.0]\n",
      "Pred 214 0 [0.44, 0.0, 0.0, 0.53, 0.0, 0.0]\n",
      "Pred 219 0 [0.35, 0.0, 0.0, 0.76, 0.0, 0.0]\n",
      "Pred 235 0 [0.27, 0.0, 0.02, 0.84, 0.0, 0.0]\n",
      "Pred 242 0 [0.36, 0.0, 0.0, 0.49, 0.0, 0.0]\n",
      "Pred 246 0 [0.21, 0.0, 0.0, 0.74, 0.0, 0.0]\n",
      "Pred 249 0 [0.28, 0.0, 0.0, 0.7, 0.0, 0.0]\n",
      "Pred 254 0 [0.38, 0.0, 0.0, 0.55, 0.0, 0.0]\n",
      "Pred 264 0 [0.21, 0.0, 0.0, 0.76, 0.0, 0.0]\n",
      "Pred 273 0 [0.28, 0.0, 0.0, 0.7, 0.0, 0.0]\n",
      "Pred 298 0 [0.36, 0.0, 0.0, 0.68, 0.0, 0.01]\n",
      "Pred 307 0 [0.12, 0.01, 0.0, 0.82, 0.0, 0.0]\n",
      "Pred 308 0 [0.46, 0.0, 0.01, 0.64, 0.03, 0.01]\n",
      "Pred 336 0 [0.33, 0.0, 0.0, 0.63, 0.0, 0.0]\n",
      "Pred 340 0 [0.3, 0.0, 0.0, 0.71, 0.0, 0.0]\n",
      "Pred 343 0 [0.33, 0.0, 0.0, 0.73, 0.0, 0.0]\n",
      "Pred 361 0 [0.15, 0.04, 0.0, 0.71, 0.01, 0.03]\n",
      "Pred 374 0 [0.34, 0.0, 0.0, 0.64, 0.0, 0.0]\n",
      "Pred 375 0 [0.23, 0.0, 0.0, 0.7, 0.02, 0.0]\n",
      "Pred 377 0 [0.27, 0.0, 0.0, 0.7, 0.0, 0.0]\n",
      "Pred 404 0 [0.23, 0.0, 0.0, 0.74, 0.0, 0.0]\n",
      "Pred 409 0 [0.28, 0.04, 0.01, 0.55, 0.35, 0.03]\n",
      "Pred 412 0 [0.17, 0.0, 0.0, 0.81, 0.0, 0.0]\n",
      "Pred 418 0 [0.35, 0.0, 0.0, 0.84, 0.0, 0.0]\n",
      "Pred 421 0 [0.39, 0.2, 0.06, 0.51, 0.0, 0.31]\n",
      "Pred 454 0 [0.42, 0.0, 0.0, 0.44, 0.0, 0.02]\n",
      "Pred 486 0 [0.4, 0.0, 0.0, 0.43, 0.0, 0.0]\n",
      "Pred 487 0 [0.38, 0.0, 0.0, 0.47, 0.0, 0.0]\n",
      "Pred 499 0 [0.4, 0.0, 0.0, 0.48, 0.0, 0.0]\n",
      "Pred 508 0 [0.36, 0.0, 0.0, 0.6, 0.0, 0.0]\n",
      "Pred 517 0 [0.44, 0.0, 0.0, 0.54, 0.0, 0.0]\n",
      "Pred 522 0 [0.27, 0.01, 0.01, 0.77, 0.05, 0.04]\n",
      "Pred 551 0 [0.28, 0.0, 0.0, 0.57, 0.0, 0.05]\n",
      "Pred 556 0 [0.43, 0.0, 0.0, 0.5, 0.0, 0.0]\n",
      "Pred 558 0 [0.34, 0.0, 0.0, 0.53, 0.0, 0.0]\n",
      "Pred 559 0 [0.29, 0.0, 0.0, 0.66, 0.0, 0.0]\n",
      "Pred 568 0 [0.33, 0.0, 0.0, 0.73, 0.0, 0.0]\n",
      "Pred 573 0 [0.1, 0.0, 0.0, 0.85, 0.0, 0.0]\n",
      "Pred 3367 1 [0.92, 0.0, 0.0, 0.07, 0.0, 0.0]\n",
      "Pred 3380 1 [0.58, 0.0, 0.0, 0.43, 0.0, 0.0]\n",
      "Pred 3384 1 [0.47, 0.0, 0.01, 0.43, 0.0, 0.0]\n",
      "Pred 3412 1 [0.54, 0.0, 0.0, 0.42, 0.0, 0.0]\n",
      "Pred 3418 1 [0.82, 0.0, 0.0, 0.25, 0.0, 0.0]\n",
      "Pred 3419 1 [0.59, 0.0, 0.0, 0.35, 0.0, 0.0]\n",
      "Pred 3420 1 [0.6, 0.0, 0.0, 0.52, 0.0, 0.0]\n",
      "Pred 3421 1 [0.93, 0.0, 0.0, 0.09, 0.0, 0.0]\n",
      "Pred 3422 1 [0.51, 0.0, 0.0, 0.42, 0.0, 0.0]\n",
      "Pred 3449 1 [0.63, 0.0, 0.0, 0.26, 0.0, 0.0]\n",
      "Pred 3469 1 [0.59, 0.0, 0.0, 0.39, 0.0, 0.0]\n",
      "Pred 3473 1 [0.65, 0.0, 0.0, 0.37, 0.01, 0.01]\n",
      "Pred 3475 1 [0.4, 0.01, 0.0, 0.4, 0.1, 0.03]\n",
      "Pred 3486 1 [0.56, 0.0, 0.0, 0.39, 0.04, 0.02]\n",
      "Pred 3508 1 [0.66, 0.0, 0.0, 0.44, 0.0, 0.0]\n",
      "Pred 3519 1 [0.54, 0.0, 0.0, 0.43, 0.0, 0.0]\n",
      "Pred 3545 1 [0.62, 0.0, 0.0, 0.25, 0.0, 0.0]\n",
      "Pred 3569 1 [0.74, 0.0, 0.0, 0.24, 0.0, 0.0]\n",
      "Pred 3581 1 [0.62, 0.0, 0.0, 0.22, 0.0, 0.0]\n",
      "Pred 3609 1 [0.76, 0.0, 0.0, 0.21, 0.0, 0.0]\n",
      "Pred 3633 1 [0.48, 0.16, 0.0, 0.33, 0.0, 0.33]\n",
      "Pred 3673 1 [0.74, 0.0, 0.0, 0.33, 0.0, 0.0]\n",
      "Pred 3677 1 [0.74, 0.0, 0.0, 0.34, 0.0, 0.0]\n",
      "Pred 3711 1 [0.49, 0.0, 0.0, 0.47, 0.0, 0.0]\n",
      "Pred 3763 1 [0.64, 0.0, 0.01, 0.36, 0.0, 0.0]\n",
      "Pred 3772 1 [0.91, 0.0, 0.0, 0.16, 0.0, 0.0]\n",
      "Pred 3776 1 [0.56, 0.0, 0.0, 0.5, 0.0, 0.0]\n",
      "Pred 3777 1 [0.71, 0.0, 0.0, 0.28, 0.0, 0.0]\n",
      "Pred 3818 1 [0.54, 0.0, 0.0, 0.54, 0.0, 0.0]\n",
      "Pred 3823 1 [0.46, 0.0, 0.0, 0.44, 0.0, 0.0]\n",
      "Pred 3836 1 [0.47, 0.0, 0.0, 0.46, 0.0, 0.0]\n",
      "Pred 3855 1 [0.64, 0.0, 0.0, 0.42, 0.0, 0.0]\n",
      "Pred 4033 1 [0.55, 0.0, 0.0, 0.31, 0.0, 0.0]\n",
      "Pred 4101 1 [0.71, 0.0, 0.0, 0.31, 0.0, 0.0]\n",
      "Pred 4108 1 [0.8, 0.0, 0.0, 0.23, 0.0, 0.0]\n",
      "Pred 4111 1 [0.76, 0.0, 0.0, 0.34, 0.0, 0.0]\n",
      "Pred 4113 1 [0.63, 0.0, 0.0, 0.33, 0.0, 0.0]\n",
      "Pred 4116 1 [0.52, 0.0, 0.0, 0.47, 0.0, 0.01]\n",
      "Pred 4118 1 [0.74, 0.0, 0.0, 0.39, 0.0, 0.0]\n",
      "Pred 4120 1 [0.8, 0.0, 0.0, 0.25, 0.0, 0.0]\n",
      "Pred 4124 1 [0.83, 0.0, 0.0, 0.34, 0.0, 0.0]\n",
      "Pred 4127 1 [0.67, 0.0, 0.0, 0.35, 0.01, 0.0]\n",
      "Pred 4128 1 [0.76, 0.0, 0.0, 0.18, 0.0, 0.0]\n",
      "Pred 4130 1 [0.71, 0.0, 0.0, 0.29, 0.0, 0.0]\n",
      "Pred 4134 1 [0.98, 0.0, 0.0, 0.02, 0.0, 0.0]\n",
      "Pred 4135 1 [0.73, 0.0, 0.0, 0.3, 0.0, 0.0]\n",
      "Pred 4138 1 [0.54, 0.0, 0.0, 0.5, 0.0, 0.0]\n",
      "Pred 4139 1 [0.79, 0.0, 0.0, 0.25, 0.0, 0.0]\n",
      "Pred 4143 1 [0.89, 0.0, 0.0, 0.15, 0.0, 0.0]\n",
      "Pred 4145 1 [0.79, 0.0, 0.0, 0.15, 0.0, 0.0]\n",
      "Pred 4146 1 [0.78, 0.0, 0.0, 0.23, 0.0, 0.0]\n",
      "Pred 4147 1 [0.62, 0.0, 0.0, 0.27, 0.0, 0.0]\n",
      "Pred 4152 1 [0.67, 0.0, 0.0, 0.27, 0.0, 0.0]\n",
      "Pred 4155 1 [0.77, 0.0, 0.0, 0.25, 0.0, 0.0]\n",
      "Pred 4160 1 [0.63, 0.0, 0.0, 0.48, 0.0, 0.0]\n",
      "Pred 4166 1 [0.5, 0.05, 0.16, 0.41, 0.17, 0.1]\n",
      "Pred 4167 1 [0.75, 0.0, 0.0, 0.3, 0.0, 0.0]\n",
      "Pred 4169 1 [0.61, 0.0, 0.0, 0.54, 0.0, 0.0]\n",
      "Pred 4170 1 [0.52, 0.0, 0.0, 0.33, 0.0, 0.0]\n",
      "Pred 4171 1 [0.84, 0.0, 0.0, 0.21, 0.0, 0.01]\n",
      "Pred 4172 1 [0.88, 0.0, 0.0, 0.16, 0.0, 0.0]\n",
      "Pred 4208 1 [0.73, 0.0, 0.0, 0.29, 0.0, 0.0]\n",
      "Pred 4223 1 [0.55, 0.0, 0.0, 0.47, 0.0, 0.0]\n",
      "Pred 4226 1 [0.55, 0.0, 0.0, 0.41, 0.0, 0.0]\n",
      "Pred 4267 1 [0.64, 0.0, 0.0, 0.38, 0.0, 0.0]\n",
      "Pred 4269 1 [0.67, 0.0, 0.0, 0.36, 0.0, 0.0]\n",
      "Pred 4284 1 [0.56, 0.0, 0.0, 0.42, 0.0, 0.0]\n",
      "Pred 4313 1 [0.76, 0.0, 0.0, 0.28, 0.0, 0.0]\n",
      "Pred 4314 1 [0.62, 0.0, 0.0, 0.4, 0.0, 0.0]\n",
      "Pred 4334 1 [0.78, 0.0, 0.0, 0.19, 0.0, 0.0]\n",
      "Pred 4346 1 [0.65, 0.0, 0.0, 0.32, 0.0, 0.0]\n",
      "Pred 4368 1 [0.5, 0.0, 0.0, 0.47, 0.0, 0.0]\n",
      "Pred 4370 1 [0.51, 0.0, 0.0, 0.41, 0.0, 0.0]\n",
      "Pred 4371 1 [0.52, 0.0, 0.0, 0.39, 0.0, 0.0]\n",
      "Pred 4373 1 [0.72, 0.0, 0.0, 0.32, 0.0, 0.0]\n",
      "Pred 4377 1 [0.92, 0.0, 0.0, 0.19, 0.0, 0.0]\n",
      "Pred 4378 1 [0.73, 0.0, 0.0, 0.19, 0.0, 0.0]\n",
      "Pred 4396 1 [0.65, 0.0, 0.0, 0.31, 0.0, 0.0]\n",
      "Pred 4408 1 [0.62, 0.0, 0.0, 0.38, 0.0, 0.0]\n",
      "Pred 4418 1 [0.85, 0.0, 0.0, 0.22, 0.0, 0.0]\n"
     ]
    }
   ],
   "source": [
    "correctRate = testRF_ESC([v2019Test], [ss1Test, ss2Test, ss3Test, ffTest, ts1Test, coaTest, realTest], RF)"
   ]
  },
  {
   "cell_type": "code",
   "execution_count": 29,
   "metadata": {},
   "outputs": [
    {
     "name": "stdout",
     "output_type": "stream",
     "text": [
      "0.9746118721461188\n"
     ]
    }
   ],
   "source": [
    "print(correctRate)"
   ]
  },
  {
   "cell_type": "code",
   "execution_count": 33,
   "metadata": {},
   "outputs": [
    {
     "name": "stdout",
     "output_type": "stream",
     "text": [
      "0.9118357487922706\n"
     ]
    }
   ],
   "source": [
    "singleRF = trainRF([coaTrain], [v2019Train])\n",
    "print(testRF([coaTest], [v2019Test], singleRF))"
   ]
  },
  {
   "cell_type": "code",
   "execution_count": 37,
   "metadata": {},
   "outputs": [
    {
     "name": "stdout",
     "output_type": "stream",
     "text": [
      "Elapsed time to compute the importances: 0.013 seconds\n"
     ]
    }
   ],
   "source": [
    "start_time = time.time()\n",
    "importances = singleRF.feature_importances_\n",
    "std = np.std([tree.feature_importances_ for tree in singleRF.estimators_], axis=0)\n",
    "elapsed_time = time.time() - start_time\n",
    "\n",
    "print(f\"Elapsed time to compute the importances: {elapsed_time:.3f} seconds\")"
   ]
  },
  {
   "cell_type": "code",
   "execution_count": 38,
   "metadata": {},
   "outputs": [
    {
     "data": {
      "image/png": "[encoded data removed]",
      "text/plain": [
       "<Figure size 432x288 with 1 Axes>"
      ]
     },
     "metadata": {
      "needs_background": "light"
     },
     "output_type": "display_data"
    }
   ],
   "source": [
    "forest_importances = pd.Series(importances, index=realTrain.columns.values.tolist())\n",
    "\n",
    "fig, ax = plt.subplots()\n",
    "forest_importances.plot.bar(yerr=std, ax=ax)\n",
    "ax.set_title(\"Feature importances using MDI\")\n",
    "ax.set_ylabel(\"Mean decrease in impurity\")\n",
    "fig.tight_layout()"
   ]
  },
  {
   "cell_type": "code",
   "execution_count": 34,
   "metadata": {},
   "outputs": [
    {
     "name": "stdout",
     "output_type": "stream",
     "text": [
      "1.0\n"
     ]
    }
   ],
   "source": [
    "real_versus_inst_veri_RF = trainRF([realTrain], [v2019Train, coaTrain])\n",
    "print(testRF([realTest], [v2019Test, coaTest], real_versus_inst_veri_RF))"
   ]
  },
  {
   "cell_type": "code",
   "execution_count": 35,
   "metadata": {},
   "outputs": [
    {
     "name": "stdout",
     "output_type": "stream",
     "text": [
      "Elapsed time to compute the importances: 0.011 seconds\n"
     ]
    }
   ],
   "source": [
    "start_time = time.time()\n",
    "importances = real_versus_inst_veri_RF.feature_importances_\n",
    "std = np.std([tree.feature_importances_ for tree in real_versus_inst_veri_RF.estimators_], axis=0)\n",
    "elapsed_time = time.time() - start_time\n",
    "\n",
    "print(f\"Elapsed time to compute the importances: {elapsed_time:.3f} seconds\")"
   ]
  },
  {
   "cell_type": "code",
   "execution_count": 36,
   "metadata": {},
   "outputs": [
    {
     "data": {
      "image/png": "[encoded data removed]",
      "text/plain": [
       "<Figure size 432x288 with 1 Axes>"
      ]
     },
     "metadata": {
      "needs_background": "light"
     },
     "output_type": "display_data"
    }
   ],
   "source": [
    "forest_importances = pd.Series(importances, index=realTrain.columns.values.tolist())\n",
    "\n",
    "fig, ax = plt.subplots()\n",
    "forest_importances.plot.bar(yerr=std, ax=ax)\n",
    "ax.set_title(\"Feature importances using MDI\")\n",
    "ax.set_ylabel(\"Mean decrease in impurity\")\n",
    "fig.tight_layout()"
   ]
  },
  {
   "cell_type": "code",
   "execution_count": null,
   "metadata": {},
   "outputs": [],
   "source": []
  }
 ],
 "metadata": {
  "interpreter": {
   "hash": "cb986cb43caf49adc937092c4520ad72ea98a1d83bf0f91755f5ca9ed24d87ff"
  },
  "kernelspec": {
   "display_name": "Python 3.10.1 64-bit ('sklearn-env': conda)",
   "language": "python",
   "name": "python3"
  },
  "language_info": {
   "codemirror_mode": {
    "name": "ipython",
    "version": 3
   },
   "file_extension": ".py",
   "mimetype": "text/x-python",
   "name": "python",
   "nbconvert_exporter": "python",
   "pygments_lexer": "ipython3",
   "version": "3.9.7"
  },
  "orig_nbformat": 4
 },
 "nbformat": 4,
 "nbformat_minor": 2
}
