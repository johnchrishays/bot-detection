{
 "cells": [
  {
   "cell_type": "code",
   "execution_count": 34,
   "metadata": {},
   "outputs": [],
   "source": [
    "%matplotlib inline\n",
    "import matplotlib.pyplot as plt\n",
    "import numpy as np\n",
    "from sklearn.tree import DecisionTreeClassifier\n",
    "from sklearn.ensemble import RandomForestClassifier\n",
    "from sklearn.model_selection import train_test_split\n",
    "from sklearn.model_selection import cross_val_score\n",
    "import time"
   ]
  },
  {
   "cell_type": "code",
   "execution_count": 35,
   "metadata": {},
   "outputs": [],
   "source": [
    "import pandas as pd\n",
    "realDF = pd.read_csv('../data-processing/cresci-2017/genuine_accounts_processed.csv')\n",
    "ss1DF = pd.read_csv('../data-processing/cresci-2017/social_spambots_1_processed.csv')\n",
    "ss2DF = pd.read_csv('../data-processing/cresci-2017/social_spambots_2_processed.csv')\n",
    "ss3DF = pd.read_csv('../data-processing/cresci-2017/social_spambots_3_processed.csv')\n",
    "ffDF = pd.read_csv('../data-processing/cresci-2017/fake_followers_processed.csv')\n",
    "ts1DF = pd.read_csv('../data-processing/cresci-2017/traditional_spambots_1_processed.csv')\n",
    "coaDF = pd.read_csv('../data-processing/college-official-accounts/coa_processed.csv')\n",
    "v2019DF = pd.read_csv('../data-processing/verified-2019/v2019_processed.csv')\n",
    "vp2019DF = pd.read_csv('../data-processing/vp-2019/vp2019_processed.csv')"
   ]
  },
  {
   "cell_type": "code",
   "execution_count": 36,
   "metadata": {},
   "outputs": [
    {
     "name": "stdout",
     "output_type": "stream",
     "text": [
      "<class 'pandas.core.frame.DataFrame'>\n",
      "RangeIndex: 682 entries, 0 to 681\n",
      "Data columns (total 52 columns):\n",
      " #   Column                    Non-Null Count  Dtype  \n",
      "---  ------                    --------------  -----  \n",
      " 0   Unnamed: 0                682 non-null    int64  \n",
      " 1   status                    682 non-null    float64\n",
      " 2   follower                  682 non-null    float64\n",
      " 3   friend                    682 non-null    float64\n",
      " 4   favorite                  682 non-null    float64\n",
      " 5   listed                    682 non-null    float64\n",
      " 6   follower_over_friend      682 non-null    float64\n",
      " 7   follower_minus_friend     682 non-null    float64\n",
      " 8   favorite_over_friend      682 non-null    float64\n",
      " 9   status_over_friend        682 non-null    float64\n",
      " 10  url                       682 non-null    float64\n",
      " 11  url_facebook              682 non-null    float64\n",
      " 12  url_instagram             682 non-null    float64\n",
      " 13  url_youtube               682 non-null    float64\n",
      " 14  url_blog                  682 non-null    float64\n",
      " 15  time_zone                 682 non-null    float64\n",
      " 16  location                  682 non-null    float64\n",
      " 17  geo                       682 non-null    float64\n",
      " 18  verified                  682 non-null    float64\n",
      " 19  protected                 682 non-null    float64\n",
      " 20  bio                       682 non-null    float64\n",
      " 21  bio_len                   682 non-null    float64\n",
      " 22  bio_hashtag               682 non-null    float64\n",
      " 23  bio_link                  682 non-null    float64\n",
      " 24  bio_bot                   682 non-null    float64\n",
      " 25  bio_official              682 non-null    float64\n",
      " 26  bio_account               682 non-null    float64\n",
      " 27  bio_emoji                 682 non-null    float64\n",
      " 28  name_number               682 non-null    float64\n",
      " 29  name_upper                682 non-null    float64\n",
      " 30  name_space                682 non-null    float64\n",
      " 31  handle_number             682 non-null    float64\n",
      " 32  name_handle_diff          682 non-null    float64\n",
      " 33  retweet_mean              682 non-null    float64\n",
      " 34  retweet_std               676 non-null    float64\n",
      " 35  reply_mean                682 non-null    float64\n",
      " 36  reply_std                 676 non-null    float64\n",
      " 37  reply_median              682 non-null    float64\n",
      " 38  favorite_mean             682 non-null    float64\n",
      " 39  favorite_std              676 non-null    float64\n",
      " 40  favorite_median           682 non-null    float64\n",
      " 41  url_mean                  682 non-null    float64\n",
      " 42  url_std                   676 non-null    float64\n",
      " 43  hashtag_mean              682 non-null    float64\n",
      " 44  hashtag_std               676 non-null    float64\n",
      " 45  mention_mean              682 non-null    float64\n",
      " 46  mention_std               676 non-null    float64\n",
      " 47  retweeted_percentage      682 non-null    float64\n",
      " 48  sensitive                 682 non-null    float64\n",
      " 49  place                     682 non-null    float64\n",
      " 50  tweet_time_interval_mean  682 non-null    float64\n",
      " 51  tweet_time_interval_std   682 non-null    float64\n",
      "dtypes: float64(51), int64(1)\n",
      "memory usage: 277.2 KB\n"
     ]
    }
   ],
   "source": [
    "vp2019DF.info()"
   ]
  },
  {
   "cell_type": "code",
   "execution_count": 37,
   "metadata": {},
   "outputs": [],
   "source": [
    "# removing some entries from data\n",
    "del coaDF['url_youtube'], v2019DF['url_youtube'], vp2019DF['url_youtube']\n",
    "del coaDF['favorite'], realDF['favorite'], ss1DF['favorite'], ss2DF['favorite'], ss3DF['favorite'], ffDF['favorite'], ts1DF['favorite'], v2019DF['favorite'], vp2019DF['favorite']\n",
    "del coaDF['Unnamed: 0'], realDF['Unnamed: 0'], ss1DF['Unnamed: 0'], ss2DF['Unnamed: 0'], ss3DF['Unnamed: 0'], ffDF['Unnamed: 0'], ts1DF['Unnamed: 0'], v2019DF['Unnamed: 0'], vp2019DF['Unnamed: 0']\n",
    "del coaDF['favorite_over_friend'], realDF['favorite_over_friend'], ss1DF['favorite_over_friend'], ss2DF['favorite_over_friend'], ss3DF['favorite_over_friend'], ffDF['favorite_over_friend'], ts1DF['favorite_over_friend'], v2019DF['favorite_over_friend'], vp2019DF['favorite_over_friend']\n"
   ]
  },
  {
   "cell_type": "code",
   "execution_count": 38,
   "metadata": {},
   "outputs": [],
   "source": [
    "def data_split (df, split=0.7):\n",
    "    train_num = int(len(df.index)*split)\n",
    "    return df.iloc[:train_num,:], df.iloc[train_num+1:,:]"
   ]
  },
  {
   "cell_type": "code",
   "execution_count": 39,
   "metadata": {},
   "outputs": [],
   "source": [
    "def trainRF (reals, bots, n_estimators=100):\n",
    "\n",
    "    data = pd.concat(reals+bots).fillna(0).to_numpy()\n",
    "    target = np.array([0] * sum(len(real.index) for real in reals) + [1] * sum(len(bot.index) for bot in bots))\n",
    "    rfc = RandomForestClassifier(n_estimators=n_estimators)\n",
    "    rfc = rfc.fit(data, target)\n",
    "    return rfc"
   ]
  },
  {
   "cell_type": "code",
   "execution_count": 40,
   "metadata": {},
   "outputs": [],
   "source": [
    "def testRF(reals, bots, RF):\n",
    "    data = pd.concat(reals+bots).fillna(0).to_numpy()\n",
    "    target = np.array([0] * sum(len(real.index) for real in reals) + [1] * sum(len(bot.index) for bot in bots))\n",
    "    return RF.score(data, target)"
   ]
  },
  {
   "cell_type": "code",
   "execution_count": 41,
   "metadata": {},
   "outputs": [],
   "source": [
    "def testRF_ESC(reals, bots, RFs):\n",
    "    data = pd.concat(reals+bots).fillna(0).to_numpy()\n",
    "    target = np.array([0] * sum(len(real.index) for real in reals) + [1] * sum(len(bot.index) for bot in bots))\n",
    "    totalAccNum = 0\n",
    "    for i in range(data.shape[0]):\n",
    "        catScore = [float(RFs[0].predict_proba([data[i]])[0][0])] + [float(RF.predict_proba([data[i]])[0][1]) for RF in RFs[1:]]\n",
    "        if target[i] == 0 and catScore[0] == max(catScore) or target[i] == 1 and catScore[0] != max(catScore):\n",
    "            totalAccNum += 1\n",
    "        else:    \n",
    "            print(\"Pred\", i, target[i], catScore)\n",
    "    return float(totalAccNum)/data.shape[0]"
   ]
  },
  {
   "cell_type": "code",
   "execution_count": 42,
   "metadata": {},
   "outputs": [],
   "source": [
    "del coaDF['geo'], realDF['geo'], ss1DF['geo'], ss2DF['geo'], ss3DF['geo'], ffDF['geo'], ts1DF['geo'], v2019DF['geo'],vp2019DF['geo']"
   ]
  },
  {
   "cell_type": "code",
   "execution_count": 43,
   "metadata": {},
   "outputs": [],
   "source": [
    "realTrain, realTest = data_split(realDF)\n",
    "ss1Train, ss1Test = data_split(ss1DF)\n",
    "ss2Train, ss2Test = data_split(ss2DF)\n",
    "ss3Train, ss3Test = data_split(ss3DF)\n",
    "ts1Train, ts1Test = data_split(ts1DF)\n",
    "ffTrain, ffTest = data_split(ffDF)\n",
    "coaTrain, coaTest = data_split(coaDF)\n",
    "v2019Train, v2019Test = data_split(v2019DF)\n",
    "vp2019Train, vp2019Test = data_split(vp2019DF)"
   ]
  },
  {
   "cell_type": "code",
   "execution_count": 44,
   "metadata": {},
   "outputs": [
    {
     "name": "stdout",
     "output_type": "stream",
     "text": [
      "(2499, 47) (1367, 47) (477, 47)\n"
     ]
    }
   ],
   "source": [
    "print(coaTrain.shape, v2019Train.shape, vp2019Train.shape)"
   ]
  },
  {
   "cell_type": "code",
   "execution_count": 45,
   "metadata": {},
   "outputs": [
    {
     "name": "stdout",
     "output_type": "stream",
     "text": [
      "1.0\n"
     ]
    }
   ],
   "source": [
    "no_cresci_2017_RF = trainRF([vp2019Train], [v2019Train, coaTrain])\n",
    "print(testRF([vp2019Train], [v2019Train, coaTrain], no_cresci_2017_RF))"
   ]
  },
  {
   "cell_type": "code",
   "execution_count": 48,
   "metadata": {},
   "outputs": [
    {
     "name": "stdout",
     "output_type": "stream",
     "text": [
      "Elapsed time to compute the importances: 0.010 seconds\n"
     ]
    }
   ],
   "source": [
    "start_time = time.time()\n",
    "importances = no_cresci_2017_RF.feature_importances_\n",
    "std = np.std([tree.feature_importances_ for tree in no_cresci_2017_RF.estimators_], axis=0)\n",
    "elapsed_time = time.time() - start_time\n",
    "\n",
    "print(f\"Elapsed time to compute the importances: {elapsed_time:.3f} seconds\")"
   ]
  },
  {
   "cell_type": "code",
   "execution_count": 49,
   "metadata": {},
   "outputs": [
    {
     "data": {
      "image/png": "[encoded data removed]",
      "text/plain": [
       "<Figure size 432x288 with 1 Axes>"
      ]
     },
     "metadata": {
      "needs_background": "light"
     },
     "output_type": "display_data"
    }
   ],
   "source": [
    "forest_importances = pd.Series(importances, index=realTrain.columns.values.tolist())\n",
    "\n",
    "fig, ax = plt.subplots()\n",
    "forest_importances.plot.bar(yerr=std, ax=ax)\n",
    "ax.set_title(\"Feature importances using MDI\")\n",
    "ax.set_ylabel(\"Mean decrease in impurity\")\n",
    "fig.tight_layout()"
   ]
  },
  {
   "cell_type": "code",
   "execution_count": 13,
   "metadata": {},
   "outputs": [],
   "source": [
    "real_detect_RF = []\n",
    "real_detect_RF.append(trainRF([realTrain], [ss1Train, ss2Train, ss3Train, ffTrain, ts1Train, coaTrain, v2019Train, vp2019Train]))\n",
    "real_detect_RF.append(trainRF([realTrain], [ss1Train, ss2Train, ss3Train]))\n",
    "real_detect_RF.append(trainRF([realTrain], [ts1Train]))\n",
    "real_detect_RF.append(trainRF([realTrain], [coaTrain]))\n",
    "real_detect_RF.append(trainRF([realTrain], [ffTrain]))\n",
    "real_detect_RF.append(trainRF([realTrain], [v2019Train]))\n",
    "real_detect_RF.append(trainRF([realTrain], [vp2019Train]))"
   ]
  },
  {
   "cell_type": "code",
   "execution_count": 14,
   "metadata": {},
   "outputs": [
    {
     "name": "stdout",
     "output_type": "stream",
     "text": [
      "0.991263440860215\n"
     ]
    }
   ],
   "source": [
    "print(testRF([realTest], [ss1Test, ss2Test, ss3Test, ffTest, ts1Test, coaTest, v2019Test, vp2019Train], real_detect_RF[0]))"
   ]
  },
  {
   "cell_type": "code",
   "execution_count": 15,
   "metadata": {},
   "outputs": [
    {
     "name": "stdout",
     "output_type": "stream",
     "text": [
      "Elapsed time to compute the importances: 0.009 seconds\n"
     ]
    }
   ],
   "source": [
    "start_time = time.time()\n",
    "importances = real_detect_RF[0].feature_importances_\n",
    "std = np.std([tree.feature_importances_ for tree in real_detect_RF[0].estimators_], axis=0)\n",
    "elapsed_time = time.time() - start_time\n",
    "\n",
    "print(f\"Elapsed time to compute the importances: {elapsed_time:.3f} seconds\")"
   ]
  },
  {
   "cell_type": "code",
   "execution_count": 16,
   "metadata": {},
   "outputs": [
    {
     "data": {
      "image/png": "[encoded data removed]",
      "text/plain": [
       "<Figure size 432x288 with 1 Axes>"
      ]
     },
     "metadata": {
      "needs_background": "light"
     },
     "output_type": "display_data"
    }
   ],
   "source": [
    "forest_importances = pd.Series(importances, index=realTrain.columns.values.tolist())\n",
    "\n",
    "fig, ax = plt.subplots()\n",
    "forest_importances.plot.bar(yerr=std, ax=ax)\n",
    "ax.set_title(\"Feature importances using MDI\")\n",
    "ax.set_ylabel(\"Mean decrease in impurity\")\n",
    "fig.tight_layout()"
   ]
  },
  {
   "cell_type": "code",
   "execution_count": 17,
   "metadata": {},
   "outputs": [
    {
     "name": "stdout",
     "output_type": "stream",
     "text": [
      "Pred 178 0 [0.2, 0.54, 0.27, 0.02, 0.02, 0.02, 0.12]\n",
      "Pred 279 0 [0.42, 0.01, 0.03, 0.01, 0.61, 0.0, 0.14]\n",
      "Pred 307 0 [0.38, 0.4, 0.09, 0.03, 0.25, 0.01, 0.03]\n",
      "Pred 314 0 [0.34, 0.49, 0.08, 0.01, 0.01, 0.0, 0.02]\n",
      "Pred 436 0 [0.52, 0.0, 0.02, 0.0, 0.55, 0.0, 0.12]\n",
      "Pred 438 0 [0.43, 0.01, 0.12, 0.0, 0.58, 0.0, 0.0]\n",
      "Pred 663 0 [0.39, 0.43, 0.02, 0.03, 0.06, 0.0, 0.0]\n",
      "Pred 689 0 [0.44, 0.54, 0.14, 0.02, 0.0, 0.02, 0.04]\n",
      "Pred 730 0 [0.12, 0.77, 0.1, 0.01, 0.04, 0.01, 0.03]\n",
      "Pred 750 0 [0.44, 0.65, 0.02, 0.0, 0.02, 0.0, 0.0]\n",
      "Pred 759 0 [0.17, 0.47, 0.24, 0.1, 0.24, 0.01, 0.02]\n",
      "Pred 945 0 [0.22, 0.39, 0.12, 0.13, 0.16, 0.0, 0.0]\n",
      "Pred 1090 1 [0.49, 0.4, 0.13, 0.0, 0.01, 0.02, 0.01]\n",
      "Pred 1107 1 [0.5, 0.45, 0.0, 0.0, 0.0, 0.0, 0.0]\n",
      "Pred 1114 1 [0.46, 0.38, 0.13, 0.0, 0.02, 0.0, 0.0]\n",
      "Pred 1115 1 [0.51, 0.45, 0.0, 0.0, 0.0, 0.0, 0.0]\n",
      "Pred 1123 1 [0.91, 0.05, 0.0, 0.0, 0.0, 0.0, 0.0]\n",
      "Pred 1127 1 [0.51, 0.32, 0.17, 0.0, 0.01, 0.02, 0.01]\n",
      "Pred 1135 1 [0.47, 0.4, 0.1, 0.0, 0.02, 0.0, 0.0]\n",
      "Pred 1137 1 [0.52, 0.28, 0.19, 0.0, 0.02, 0.01, 0.01]\n",
      "Pred 1146 1 [0.54, 0.35, 0.14, 0.0, 0.01, 0.0, 0.0]\n",
      "Pred 1156 1 [0.66, 0.35, 0.0, 0.0, 0.01, 0.0, 0.0]\n",
      "Pred 1163 1 [0.5, 0.44, 0.13, 0.0, 0.01, 0.0, 0.0]\n",
      "Pred 1166 1 [0.85, 0.13, 0.0, 0.0, 0.0, 0.0, 0.0]\n",
      "Pred 1168 1 [0.92, 0.02, 0.0, 0.0, 0.01, 0.0, 0.0]\n",
      "Pred 1210 1 [0.52, 0.42, 0.0, 0.0, 0.0, 0.0, 0.0]\n",
      "Pred 1211 1 [0.81, 0.13, 0.05, 0.0, 0.03, 0.0, 0.0]\n",
      "Pred 1215 1 [0.62, 0.37, 0.06, 0.0, 0.0, 0.0, 0.01]\n",
      "Pred 1218 1 [0.58, 0.37, 0.01, 0.03, 0.04, 0.01, 0.05]\n",
      "Pred 1219 1 [0.6, 0.21, 0.03, 0.0, 0.0, 0.0, 0.0]\n",
      "Pred 1221 1 [0.92, 0.06, 0.02, 0.0, 0.0, 0.01, 0.0]\n",
      "Pred 1222 1 [0.98, 0.0, 0.01, 0.0, 0.0, 0.0, 0.0]\n",
      "Pred 1237 1 [0.55, 0.49, 0.03, 0.0, 0.01, 0.0, 0.0]\n",
      "Pred 1269 1 [0.45, 0.34, 0.05, 0.04, 0.03, 0.01, 0.04]\n",
      "Pred 1270 1 [0.58, 0.41, 0.21, 0.0, 0.07, 0.0, 0.01]\n",
      "Pred 1272 1 [0.94, 0.09, 0.0, 0.0, 0.0, 0.0, 0.0]\n",
      "Pred 1279 1 [0.51, 0.37, 0.06, 0.03, 0.01, 0.02, 0.06]\n",
      "Pred 1337 1 [0.67, 0.11, 0.1, 0.0, 0.02, 0.02, 0.04]\n",
      "Pred 1560 1 [0.79, 0.21, 0.05, 0.0, 0.01, 0.0, 0.0]\n",
      "Pred 1621 1 [1.0, 0.0, 0.0, 0.0, 0.0, 0.0, 0.0]\n",
      "Pred 1639 1 [0.51, 0.17, 0.01, 0.0, 0.0, 0.0, 0.0]\n",
      "Pred 1908 1 [0.34, 0.34, 0.16, 0.0, 0.25, 0.0, 0.0]\n",
      "Pred 2063 1 [0.76, 0.29, 0.04, 0.01, 0.0, 0.0, 0.0]\n",
      "Pred 2141 1 [0.68, 0.26, 0.03, 0.02, 0.0, 0.0, 0.0]\n",
      "Pred 2374 1 [0.43, 0.35, 0.16, 0.01, 0.24, 0.01, 0.0]\n",
      "Pred 2433 1 [0.55, 0.38, 0.02, 0.0, 0.03, 0.0, 0.0]\n",
      "Pred 2452 1 [0.51, 0.38, 0.08, 0.02, 0.03, 0.0, 0.0]\n",
      "Pred 2456 1 [0.8, 0.1, 0.0, 0.0, 0.0, 0.01, 0.02]\n",
      "Pred 2457 1 [0.57, 0.26, 0.05, 0.04, 0.05, 0.02, 0.05]\n",
      "Pred 2482 1 [0.55, 0.42, 0.13, 0.02, 0.0, 0.01, 0.02]\n",
      "Pred 2485 1 [0.39, 0.31, 0.12, 0.08, 0.0, 0.0, 0.0]\n",
      "Pred 2498 1 [0.7, 0.18, 0.01, 0.01, 0.0, 0.0, 0.01]\n",
      "Pred 2505 1 [0.68, 0.17, 0.03, 0.01, 0.01, 0.0, 0.03]\n",
      "Pred 2513 1 [0.82, 0.07, 0.08, 0.0, 0.04, 0.0, 0.02]\n",
      "Pred 3493 1 [0.55, 0.02, 0.16, 0.11, 0.55, 0.15, 0.17]\n"
     ]
    }
   ],
   "source": [
    "correctRate = testRF_ESC([realTest], [ss1Test, ss2Test, ss3Test, ffTest, ts1Test, coaTest, v2019Test], real_detect_RF)"
   ]
  },
  {
   "cell_type": "code",
   "execution_count": 18,
   "metadata": {},
   "outputs": [
    {
     "name": "stdout",
     "output_type": "stream",
     "text": [
      "0.9899543378995433\n"
     ]
    }
   ],
   "source": [
    "print(correctRate)"
   ]
  },
  {
   "cell_type": "code",
   "execution_count": 19,
   "metadata": {},
   "outputs": [],
   "source": [
    "vp2019DF.to_pickle('vp2019-pickled')"
   ]
  },
  {
   "cell_type": "code",
   "execution_count": 20,
   "metadata": {},
   "outputs": [],
   "source": [
    "RF = []\n",
    "RF.append(trainRF([v2019Train], [ss1Train, ss2Train, ss3Train, ffTrain, ts1Train, coaTrain, realTrain, vp2019Train]))\n",
    "RF.append(trainRF([v2019Train], [ss1Train, ss2Train, ss3Train]))\n",
    "RF.append(trainRF([v2019Train], [ts1Train]))\n",
    "RF.append(trainRF([v2019Train], [coaTrain]))\n",
    "RF.append(trainRF([v2019Train], [ffTrain]))\n",
    "RF.append(trainRF([v2019Train], [realTrain]))\n",
    "RF.append(trainRF([v2019Train], [vp2019Train]))"
   ]
  },
  {
   "cell_type": "code",
   "execution_count": 21,
   "metadata": {},
   "outputs": [
    {
     "name": "stdout",
     "output_type": "stream",
     "text": [
      "0.9716499383694313\n"
     ]
    }
   ],
   "source": [
    "print(testRF([v2019Test], [ss1Test, ss2Test, ss3Test, ffTest, ts1Test, coaTest, realTest, vp2019Test], RF[0]))"
   ]
  },
  {
   "cell_type": "code",
   "execution_count": 22,
   "metadata": {},
   "outputs": [
    {
     "name": "stdout",
     "output_type": "stream",
     "text": [
      "Pred 3 0 [0.16, 0.0, 0.01, 0.81, 0.04, 0.0, 0.51]\n",
      "Pred 16 0 [0.38, 0.01, 0.01, 0.61, 0.02, 0.02, 0.31]\n",
      "Pred 28 0 [0.37, 0.0, 0.0, 0.48, 0.0, 0.0, 0.01]\n",
      "Pred 31 0 [0.14, 0.0, 0.0, 0.77, 0.0, 0.0, 0.0]\n",
      "Pred 68 0 [0.09, 0.03, 0.0, 0.96, 0.0, 0.01, 0.05]\n",
      "Pred 79 0 [0.35, 0.0, 0.0, 0.63, 0.0, 0.01, 0.27]\n",
      "Pred 83 0 [0.43, 0.0, 0.0, 0.45, 0.0, 0.0, 0.01]\n",
      "Pred 84 0 [0.28, 0.0, 0.0, 0.68, 0.0, 0.0, 0.06]\n",
      "Pred 86 0 [0.32, 0.06, 0.14, 0.45, 0.09, 0.07, 0.27]\n",
      "Pred 88 0 [0.31, 0.02, 0.0, 0.58, 0.01, 0.01, 0.31]\n",
      "Pred 89 0 [0.12, 0.01, 0.0, 0.91, 0.0, 0.01, 0.08]\n",
      "Pred 103 0 [0.06, 0.0, 0.0, 0.81, 0.0, 0.0, 0.0]\n",
      "Pred 107 0 [0.24, 0.0, 0.0, 0.52, 0.0, 0.02, 0.18]\n",
      "Pred 108 0 [0.4, 0.0, 0.0, 0.08, 0.0, 0.0, 0.79]\n",
      "Pred 124 0 [0.21, 0.01, 0.0, 0.59, 0.0, 0.02, 0.11]\n",
      "Pred 133 0 [0.29, 0.0, 0.0, 0.8, 0.0, 0.0, 0.01]\n",
      "Pred 134 0 [0.04, 0.0, 0.0, 0.98, 0.01, 0.0, 0.17]\n",
      "Pred 136 0 [0.22, 0.0, 0.0, 0.83, 0.0, 0.0, 0.03]\n",
      "Pred 151 0 [0.26, 0.0, 0.0, 0.76, 0.0, 0.0, 0.0]\n",
      "Pred 172 0 [0.36, 0.0, 0.0, 0.39, 0.0, 0.0, 0.79]\n",
      "Pred 186 0 [0.35, 0.0, 0.0, 0.71, 0.0, 0.0, 0.0]\n",
      "Pred 191 0 [0.52, 0.0, 0.0, 0.59, 0.0, 0.0, 0.01]\n",
      "Pred 192 0 [0.22, 0.0, 0.0, 0.74, 0.0, 0.0, 0.03]\n",
      "Pred 193 0 [0.41, 0.0, 0.0, 0.47, 0.0, 0.0, 0.15]\n",
      "Pred 197 0 [0.42, 0.01, 0.0, 0.55, 0.0, 0.0, 0.11]\n",
      "Pred 199 0 [0.11, 0.0, 0.0, 0.84, 0.0, 0.0, 0.05]\n",
      "Pred 214 0 [0.42, 0.0, 0.0, 0.5, 0.0, 0.0, 0.01]\n",
      "Pred 216 0 [0.45, 0.02, 0.0, 0.49, 0.01, 0.01, 0.09]\n",
      "Pred 219 0 [0.23, 0.0, 0.0, 0.71, 0.0, 0.0, 0.02]\n",
      "Pred 234 0 [0.45, 0.01, 0.0, 0.48, 0.0, 0.0, 0.04]\n",
      "Pred 235 0 [0.22, 0.0, 0.0, 0.82, 0.0, 0.01, 0.34]\n",
      "Pred 242 0 [0.31, 0.0, 0.0, 0.61, 0.0, 0.0, 0.0]\n",
      "Pred 246 0 [0.08, 0.0, 0.0, 0.83, 0.0, 0.0, 0.02]\n",
      "Pred 249 0 [0.25, 0.0, 0.0, 0.71, 0.0, 0.0, 0.02]\n",
      "Pred 254 0 [0.3, 0.0, 0.0, 0.62, 0.0, 0.0, 0.0]\n",
      "Pred 263 0 [0.47, 0.0, 0.0, 0.5, 0.0, 0.0, 0.03]\n",
      "Pred 264 0 [0.09, 0.0, 0.0, 0.87, 0.0, 0.0, 0.04]\n",
      "Pred 273 0 [0.13, 0.0, 0.0, 0.82, 0.0, 0.0, 0.01]\n",
      "Pred 295 0 [0.48, 0.0, 0.0, 0.51, 0.0, 0.0, 0.0]\n",
      "Pred 298 0 [0.25, 0.0, 0.0, 0.62, 0.0, 0.0, 0.03]\n",
      "Pred 307 0 [0.11, 0.0, 0.0, 0.88, 0.0, 0.0, 0.03]\n",
      "Pred 308 0 [0.33, 0.0, 0.0, 0.71, 0.01, 0.0, 0.41]\n",
      "Pred 327 0 [0.37, 0.02, 0.0, 0.49, 0.0, 0.03, 0.06]\n",
      "Pred 336 0 [0.16, 0.0, 0.0, 0.62, 0.0, 0.0, 0.01]\n",
      "Pred 340 0 [0.27, 0.0, 0.0, 0.72, 0.0, 0.0, 0.02]\n",
      "Pred 343 0 [0.21, 0.0, 0.0, 0.72, 0.0, 0.0, 0.08]\n",
      "Pred 361 0 [0.11, 0.01, 0.0, 0.71, 0.0, 0.03, 0.32]\n",
      "Pred 374 0 [0.41, 0.0, 0.0, 0.59, 0.0, 0.0, 0.01]\n",
      "Pred 375 0 [0.19, 0.0, 0.0, 0.63, 0.0, 0.01, 0.28]\n",
      "Pred 377 0 [0.24, 0.0, 0.0, 0.73, 0.0, 0.0, 0.0]\n",
      "Pred 404 0 [0.32, 0.0, 0.0, 0.78, 0.0, 0.0, 0.01]\n",
      "Pred 409 0 [0.32, 0.03, 0.0, 0.55, 0.2, 0.04, 0.56]\n",
      "Pred 412 0 [0.14, 0.0, 0.0, 0.86, 0.0, 0.0, 0.0]\n",
      "Pred 418 0 [0.3, 0.0, 0.0, 0.75, 0.0, 0.01, 0.01]\n",
      "Pred 421 0 [0.37, 0.14, 0.04, 0.51, 0.01, 0.38, 0.21]\n",
      "Pred 484 0 [0.44, 0.0, 0.0, 0.19, 0.0, 0.0, 0.78]\n",
      "Pred 486 0 [0.42, 0.0, 0.0, 0.46, 0.0, 0.02, 0.07]\n",
      "Pred 487 0 [0.35, 0.0, 0.0, 0.45, 0.0, 0.0, 0.09]\n",
      "Pred 499 0 [0.38, 0.0, 0.0, 0.58, 0.0, 0.0, 0.05]\n",
      "Pred 508 0 [0.3, 0.0, 0.0, 0.65, 0.0, 0.0, 0.06]\n",
      "Pred 517 0 [0.41, 0.0, 0.0, 0.58, 0.0, 0.0, 0.06]\n",
      "Pred 522 0 [0.29, 0.06, 0.02, 0.73, 0.07, 0.03, 0.4]\n",
      "Pred 551 0 [0.26, 0.01, 0.0, 0.6, 0.0, 0.03, 0.17]\n",
      "Pred 556 0 [0.39, 0.0, 0.0, 0.63, 0.0, 0.0, 0.09]\n",
      "Pred 558 0 [0.29, 0.0, 0.0, 0.51, 0.0, 0.0, 0.74]\n",
      "Pred 559 0 [0.36, 0.0, 0.0, 0.75, 0.0, 0.0, 0.1]\n",
      "Pred 563 0 [0.45, 0.0, 0.0, 0.3, 0.0, 0.0, 0.57]\n",
      "Pred 568 0 [0.26, 0.0, 0.0, 0.72, 0.0, 0.0, 0.05]\n",
      "Pred 573 0 [0.1, 0.0, 0.0, 0.87, 0.0, 0.0, 0.15]\n",
      "Pred 3367 1 [0.82, 0.0, 0.0, 0.09, 0.0, 0.0, 0.02]\n",
      "Pred 3380 1 [0.62, 0.0, 0.0, 0.46, 0.0, 0.0, 0.03]\n",
      "Pred 3418 1 [0.74, 0.0, 0.0, 0.26, 0.0, 0.0, 0.0]\n",
      "Pred 3419 1 [0.52, 0.0, 0.0, 0.39, 0.0, 0.0, 0.09]\n",
      "Pred 3421 1 [0.96, 0.0, 0.0, 0.11, 0.0, 0.0, 0.0]\n",
      "Pred 3449 1 [0.68, 0.0, 0.0, 0.29, 0.0, 0.0, 0.08]\n",
      "Pred 3469 1 [0.51, 0.0, 0.0, 0.32, 0.0, 0.0, 0.02]\n",
      "Pred 3473 1 [0.65, 0.0, 0.0, 0.42, 0.0, 0.0, 0.04]\n",
      "Pred 3475 1 [0.49, 0.01, 0.0, 0.34, 0.04, 0.0, 0.3]\n",
      "Pred 3486 1 [0.6, 0.01, 0.0, 0.42, 0.02, 0.0, 0.22]\n",
      "Pred 3508 1 [0.64, 0.0, 0.0, 0.3, 0.0, 0.0, 0.07]\n",
      "Pred 3545 1 [0.58, 0.0, 0.0, 0.37, 0.0, 0.0, 0.03]\n",
      "Pred 3569 1 [0.48, 0.0, 0.0, 0.28, 0.0, 0.0, 0.05]\n",
      "Pred 3581 1 [0.58, 0.0, 0.0, 0.24, 0.0, 0.01, 0.02]\n",
      "Pred 3609 1 [0.74, 0.0, 0.0, 0.21, 0.0, 0.0, 0.01]\n",
      "Pred 3633 1 [0.45, 0.15, 0.03, 0.3, 0.0, 0.36, 0.09]\n",
      "Pred 3673 1 [0.73, 0.0, 0.0, 0.26, 0.0, 0.0, 0.01]\n",
      "Pred 3677 1 [0.72, 0.0, 0.0, 0.3, 0.0, 0.0, 0.05]\n",
      "Pred 3692 1 [0.58, 0.0, 0.0, 0.51, 0.0, 0.0, 0.02]\n",
      "Pred 3763 1 [0.61, 0.0, 0.0, 0.36, 0.0, 0.0, 0.02]\n",
      "Pred 3772 1 [0.82, 0.0, 0.0, 0.15, 0.0, 0.0, 0.01]\n",
      "Pred 3777 1 [0.75, 0.0, 0.0, 0.28, 0.0, 0.0, 0.01]\n",
      "Pred 3818 1 [0.55, 0.0, 0.0, 0.42, 0.0, 0.0, 0.0]\n",
      "Pred 3823 1 [0.5, 0.0, 0.0, 0.41, 0.0, 0.0, 0.0]\n",
      "Pred 3836 1 [0.62, 0.0, 0.0, 0.52, 0.0, 0.0, 0.0]\n",
      "Pred 3855 1 [0.63, 0.0, 0.0, 0.42, 0.0, 0.0, 0.03]\n",
      "Pred 4033 1 [0.47, 0.0, 0.0, 0.44, 0.0, 0.0, 0.0]\n",
      "Pred 4101 1 [0.75, 0.0, 0.0, 0.23, 0.0, 0.0, 0.01]\n",
      "Pred 4107 1 [0.45, 0.0, 0.0, 0.45, 0.0, 0.0, 0.01]\n",
      "Pred 4108 1 [0.75, 0.0, 0.0, 0.26, 0.0, 0.0, 0.06]\n",
      "Pred 4111 1 [0.76, 0.0, 0.0, 0.29, 0.0, 0.0, 0.0]\n",
      "Pred 4113 1 [0.62, 0.0, 0.0, 0.38, 0.0, 0.0, 0.0]\n",
      "Pred 4116 1 [0.56, 0.01, 0.0, 0.49, 0.01, 0.0, 0.39]\n",
      "Pred 4118 1 [0.66, 0.0, 0.0, 0.29, 0.0, 0.0, 0.02]\n",
      "Pred 4120 1 [0.72, 0.0, 0.0, 0.2, 0.0, 0.0, 0.05]\n",
      "Pred 4124 1 [0.72, 0.0, 0.0, 0.24, 0.0, 0.0, 0.03]\n",
      "Pred 4127 1 [0.58, 0.0, 0.0, 0.31, 0.0, 0.0, 0.04]\n",
      "Pred 4128 1 [0.81, 0.0, 0.0, 0.22, 0.0, 0.0, 0.01]\n",
      "Pred 4130 1 [0.81, 0.0, 0.0, 0.27, 0.0, 0.0, 0.0]\n",
      "Pred 4134 1 [0.91, 0.0, 0.0, 0.05, 0.0, 0.0, 0.05]\n",
      "Pred 4135 1 [0.71, 0.0, 0.0, 0.31, 0.0, 0.0, 0.01]\n",
      "Pred 4138 1 [0.5, 0.0, 0.0, 0.49, 0.0, 0.0, 0.08]\n",
      "Pred 4139 1 [0.77, 0.0, 0.0, 0.15, 0.0, 0.0, 0.0]\n",
      "Pred 4143 1 [0.79, 0.0, 0.0, 0.16, 0.0, 0.0, 0.0]\n",
      "Pred 4145 1 [0.76, 0.0, 0.0, 0.14, 0.0, 0.0, 0.0]\n",
      "Pred 4146 1 [0.66, 0.0, 0.0, 0.24, 0.0, 0.0, 0.06]\n",
      "Pred 4147 1 [0.58, 0.0, 0.0, 0.35, 0.0, 0.0, 0.0]\n",
      "Pred 4152 1 [0.67, 0.0, 0.0, 0.33, 0.0, 0.0, 0.01]\n",
      "Pred 4155 1 [0.75, 0.0, 0.0, 0.12, 0.0, 0.0, 0.03]\n",
      "Pred 4160 1 [0.6, 0.0, 0.0, 0.45, 0.0, 0.0, 0.01]\n",
      "Pred 4166 1 [0.46, 0.03, 0.28, 0.4, 0.11, 0.16, 0.45]\n",
      "Pred 4167 1 [0.8, 0.0, 0.0, 0.18, 0.0, 0.0, 0.0]\n",
      "Pred 4170 1 [0.59, 0.0, 0.0, 0.44, 0.0, 0.0, 0.02]\n",
      "Pred 4171 1 [0.71, 0.0, 0.0, 0.18, 0.0, 0.0, 0.31]\n",
      "Pred 4172 1 [0.87, 0.0, 0.0, 0.2, 0.0, 0.0, 0.01]\n",
      "Pred 4208 1 [0.62, 0.0, 0.0, 0.27, 0.0, 0.0, 0.01]\n",
      "Pred 4223 1 [0.59, 0.0, 0.0, 0.44, 0.0, 0.0, 0.01]\n",
      "Pred 4226 1 [0.47, 0.0, 0.0, 0.46, 0.0, 0.0, 0.06]\n",
      "Pred 4267 1 [0.66, 0.0, 0.0, 0.42, 0.0, 0.0, 0.0]\n",
      "Pred 4269 1 [0.6, 0.0, 0.0, 0.39, 0.0, 0.0, 0.0]\n",
      "Pred 4284 1 [0.61, 0.0, 0.0, 0.36, 0.0, 0.0, 0.0]\n",
      "Pred 4313 1 [0.79, 0.0, 0.0, 0.26, 0.0, 0.0, 0.0]\n",
      "Pred 4314 1 [0.63, 0.0, 0.0, 0.45, 0.0, 0.0, 0.02]\n",
      "Pred 4334 1 [0.65, 0.0, 0.0, 0.23, 0.0, 0.0, 0.0]\n",
      "Pred 4346 1 [0.71, 0.0, 0.0, 0.39, 0.0, 0.0, 0.0]\n",
      "Pred 4370 1 [0.49, 0.0, 0.0, 0.34, 0.0, 0.0, 0.02]\n",
      "Pred 4373 1 [0.72, 0.0, 0.0, 0.25, 0.0, 0.0, 0.0]\n",
      "Pred 4377 1 [0.87, 0.0, 0.0, 0.14, 0.0, 0.0, 0.0]\n",
      "Pred 4378 1 [0.77, 0.0, 0.0, 0.2, 0.0, 0.0, 0.03]\n",
      "Pred 4387 1 [0.55, 0.0, 0.0, 0.5, 0.0, 0.0, 0.0]\n",
      "Pred 4396 1 [0.53, 0.0, 0.0, 0.38, 0.0, 0.0, 0.01]\n",
      "Pred 4408 1 [0.6, 0.0, 0.0, 0.45, 0.0, 0.0, 0.0]\n",
      "Pred 4418 1 [0.73, 0.0, 0.0, 0.19, 0.0, 0.0, 0.0]\n",
      "Pred 5494 1 [0.62, 0.0, 0.0, 0.22, 0.01, 0.03, 0.25]\n",
      "Pred 5531 1 [0.5, 0.0, 0.0, 0.36, 0.0, 0.0, 0.13]\n",
      "Pred 5551 1 [0.59, 0.01, 0.0, 0.13, 0.03, 0.03, 0.4]\n",
      "Pred 5559 1 [0.53, 0.01, 0.0, 0.37, 0.01, 0.01, 0.32]\n",
      "Pred 5589 1 [0.79, 0.0, 0.0, 0.08, 0.0, 0.0, 0.2]\n",
      "Pred 5591 1 [0.87, 0.0, 0.0, 0.08, 0.0, 0.0, 0.05]\n",
      "Pred 5627 1 [0.8, 0.0, 0.0, 0.01, 0.01, 0.0, 0.55]\n",
      "Pred 5628 1 [0.62, 0.01, 0.0, 0.23, 0.02, 0.0, 0.41]\n",
      "Pred 5676 1 [0.54, 0.04, 0.0, 0.41, 0.08, 0.03, 0.5]\n"
     ]
    }
   ],
   "source": [
    "correctRate = testRF_ESC([v2019Test], [ss1Test, ss2Test, ss3Test, ffTest, ts1Test, coaTest, realTest, vp2019Test], RF)"
   ]
  },
  {
   "cell_type": "code",
   "execution_count": 23,
   "metadata": {},
   "outputs": [
    {
     "name": "stdout",
     "output_type": "stream",
     "text": [
      "0.9734108117626342\n"
     ]
    }
   ],
   "source": [
    "print(correctRate)"
   ]
  },
  {
   "cell_type": "code",
   "execution_count": 24,
   "metadata": {},
   "outputs": [
    {
     "name": "stdout",
     "output_type": "stream",
     "text": [
      "1.0\n"
     ]
    }
   ],
   "source": [
    "real_versus_inst_veri_RF = trainRF([realTrain], [v2019Train, coaTrain, vp2019Train])\n",
    "print(testRF([realTest], [v2019Test, coaTest, vp2019Test], real_versus_inst_veri_RF))"
   ]
  },
  {
   "cell_type": "code",
   "execution_count": 25,
   "metadata": {},
   "outputs": [
    {
     "name": "stdout",
     "output_type": "stream",
     "text": [
      "Elapsed time to compute the importances: 0.012 seconds\n"
     ]
    }
   ],
   "source": [
    "start_time = time.time()\n",
    "importances = real_versus_inst_veri_RF.feature_importances_\n",
    "std = np.std([tree.feature_importances_ for tree in real_versus_inst_veri_RF.estimators_], axis=0)\n",
    "elapsed_time = time.time() - start_time\n",
    "\n",
    "print(f\"Elapsed time to compute the importances: {elapsed_time:.3f} seconds\")"
   ]
  },
  {
   "cell_type": "code",
   "execution_count": 26,
   "metadata": {},
   "outputs": [
    {
     "data": {
      "image/png": "[encoded data removed]",
      "text/plain": [
       "<Figure size 432x288 with 1 Axes>"
      ]
     },
     "metadata": {
      "needs_background": "light"
     },
     "output_type": "display_data"
    }
   ],
   "source": [
    "forest_importances = pd.Series(importances, index=realTrain.columns.values.tolist())\n",
    "\n",
    "fig, ax = plt.subplots()\n",
    "forest_importances.plot.bar(yerr=std, ax=ax)\n",
    "ax.set_title(\"Feature importances using MDI\")\n",
    "ax.set_ylabel(\"Mean decrease in impurity\")\n",
    "fig.tight_layout()"
   ]
  },
  {
   "cell_type": "code",
   "execution_count": 30,
   "metadata": {},
   "outputs": [
    {
     "name": "stdout",
     "output_type": "stream",
     "text": [
      "0.0 6.533537026601809 0.2143953223884197 2.68759792649999\n",
      "0.15710652604867723 0.5406185621051238 0.8024815065030922 0.5615530193855506\n"
     ]
    }
   ],
   "source": [
    "print(realTrain['reply_mean'].mean(), v2019Train['reply_mean'].mean(), coaTrain['reply_mean'].mean(), vp2019Train['reply_mean'].mean())\n",
    "print(realTrain['url_mean'].mean(), v2019Train['url_mean'].mean(), coaTrain['url_mean'].mean(), vp2019Train['url_mean'].mean())"
   ]
  },
  {
   "cell_type": "code",
   "execution_count": 32,
   "metadata": {},
   "outputs": [
    {
     "name": "stdout",
     "output_type": "stream",
     "text": [
      "0      0.187970\n",
      "1      0.671642\n",
      "2      0.234742\n",
      "3      0.244792\n",
      "4      0.590909\n",
      "         ...   \n",
      "677    0.946667\n",
      "678    0.334842\n",
      "679    0.155080\n",
      "680    0.306452\n",
      "681    0.946667\n",
      "Name: url_mean, Length: 682, dtype: float64\n",
      "0      0.117794\n",
      "1      0.000000\n",
      "2      0.046948\n",
      "3      0.257812\n",
      "4      0.000000\n",
      "         ...   \n",
      "677    0.000000\n",
      "678    0.090498\n",
      "679    0.775401\n",
      "680    0.032258\n",
      "681    3.696667\n",
      "Name: reply_mean, Length: 682, dtype: float64\n"
     ]
    }
   ],
   "source": [
    "print(vp2019DF.url_mean)\n",
    "print(vp2019DF.reply_mean)"
   ]
  },
  {
   "cell_type": "code",
   "execution_count": null,
   "metadata": {},
   "outputs": [],
   "source": []
  }
 ],
 "metadata": {
  "interpreter": {
   "hash": "cb986cb43caf49adc937092c4520ad72ea98a1d83bf0f91755f5ca9ed24d87ff"
  },
  "kernelspec": {
   "display_name": "Python 3.10.1 64-bit ('sklearn-env': conda)",
   "language": "python",
   "name": "python3"
  },
  "language_info": {
   "codemirror_mode": {
    "name": "ipython",
    "version": 3
   },
   "file_extension": ".py",
   "mimetype": "text/x-python",
   "name": "python",
   "nbconvert_exporter": "python",
   "pygments_lexer": "ipython3",
   "version": "3.9.7"
  },
  "orig_nbformat": 4
 },
 "nbformat": 4,
 "nbformat_minor": 2
}
